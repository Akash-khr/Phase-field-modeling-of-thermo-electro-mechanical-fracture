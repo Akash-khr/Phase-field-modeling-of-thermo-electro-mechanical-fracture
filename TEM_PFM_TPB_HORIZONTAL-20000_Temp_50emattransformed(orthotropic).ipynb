{
 "cells": [
  {
   "cell_type": "markdown",
   "id": "24942583",
   "metadata": {},
   "source": [
    "### In case of positive hydrostatic strain i.e $\\text{tr}(\\boldsymbol{\\epsilon})\\geq 0$\n",
    "$\\langle p \\rangle_+ = p = \\boldsymbol{I}: \\boldsymbol{\\sigma}_{vol} = \\boldsymbol{I}: \\mathbb{I}_{vol}\\mathbb{C}  \\boldsymbol{\\epsilon}$    and      $\\langle p \\rangle_- = 0 $\n",
    "\n",
    "$\\mathbb{C}_{mod} = \\mathbb{C}_{+} = s^2\\left(\\mathbb{I}_{vol}\\mathbb{C} + \\mathbb{I}_{dev}\\mathbb{C}\\right) = s^2 \\mathbb{C}$\n",
    "\n",
    "### In case of negative hydrostatic strain $\\text{tr}(\\boldsymbol{\\epsilon})< 0$\n",
    "$\\langle p \\rangle_+ = 0 $   and    $\\langle p \\rangle_- = p =  \\boldsymbol{I}: \\boldsymbol{\\sigma}_{vol} = \\boldsymbol{I}:\\mathbb{I}_{vol}\\mathbb{C}  \\boldsymbol{\\epsilon}$\n",
    "\n",
    "$\\mathbb{C}_{mod} = \\mathbb{C}_{-} = s^2\\bigl(\\mathbb{I}_{dev}\\mathbb{C}\\bigr) + \\mathbb{I}_{vol}\\mathbb{C}$\n",
    "\n",
    " ## Strong Form in terms of $\\mathbb{C}_{mod}$ and $\\mathcal{H}(\\mathcal{E})$\n",
    " \n",
    " $\\nabla \\cdot \\boldsymbol{\\sigma} = {\\bf{0}}$\n",
    " \n",
    " $ \\nabla\\cdot \\boldsymbol{D}  = {0}$\n",
    "\n",
    " $ \\nabla \\cdot \\biggl(G_cl\\boldsymbol{A}\\nabla s\\biggr) - 2s\\mathcal{H}(\\mathcal{E})  + \\frac{G_c}{l}\\left(1-s\\right) = 0$\n",
    "\n",
    "where \n",
    "\n",
    "$\\boldsymbol{\\sigma} = \\biggl(\\mathbb{C}_{mod} \\boldsymbol{\\epsilon} -\\mathbb{e}_{mod}^T\\boldsymbol{E}\\biggr) $\n",
    "\n",
    "$\\boldsymbol{D} = \\biggr({\\boldsymbol{K}_{mod}\\boldsymbol{E}} +  \\mathbb{e}_{mod}\\boldsymbol{\\epsilon}\\biggl) $\n",
    "\n",
    "$\\mathcal{E} = \\frac{1}{2}\\biggl(\\langle p \\rangle_+\\boldsymbol{I}:\\mathbb{I}_{vol}\\boldsymbol{\\epsilon} + \\mathbb{I}_{dev}\\mathbb{C}\\boldsymbol{\\epsilon}:\\mathbb{I}_{dev}\\boldsymbol{\\epsilon} + \\boldsymbol{E} \\cdot \\boldsymbol{K}\\boldsymbol{E} + \\boldsymbol{\\epsilon}:\\mathbb{e}^T\\boldsymbol{E}\\biggr)$\n",
    "\n",
    "$\\mathcal{H}(f) = \\text{max}_{\\tau \\in [0,t]}f(\\tau)$\n",
    "\n",
    "$\\mathbb{e}_{mod} = s^2 \\mathbb{e}$\n",
    "\n",
    "$\\boldsymbol{K}_{mod} = s^2 \\boldsymbol{K}$"
   ]
  },
  {
   "cell_type": "markdown",
   "id": "f22ff260",
   "metadata": {},
   "source": [
    " # Weak Form\n",
    "\n",
    "### For Piezo-elasticity part\n",
    "\n",
    " $a((\\boldsymbol{u},\\phi), ({\\boldsymbol{v}},{\\psi})) = \\int_{\\Omega} \\bigl( \\mathbb{C}_{mod}\\mathbb{\\epsilon}: \\nabla \\boldsymbol{v} \\bigr)d\\Omega - \\int_\\Omega \\bigl ( \\boldsymbol{e}_{mod}^T\\boldsymbol{E}:\\nabla \\boldsymbol{v}\\bigr)d\\Omega + \\int_{\\Omega}\\left(\\boldsymbol{K}_{mod}\\boldsymbol{E} \\cdot \\nabla \\boldsymbol{\\psi}\\right) + \\int_{\\Omega}\\left(\\mathbb{e}_{mod}\\boldsymbol{\\epsilon}  \\cdot \\nabla  \\boldsymbol{\\psi}\\right)d\\Omega$\n",
    "\n",
    "### For phase-field part\n",
    " \n",
    " $ a(s,\\phi) = \\int_{\\Omega}\\bigl(G_cl\\nabla s \\cdot \\nabla \\phi + 2s \\phi\\mathcal{H}({\\mathcal{E}}) +  \\frac{G_c}{l} s \\phi\\bigr)d\\Omega$\n",
    "\n",
    " $ l(\\phi) = \\int_{\\Omega}\\frac{G_c}{l}\\phi d{\\Omega}$"
   ]
  },
  {
   "cell_type": "code",
   "execution_count": 1,
   "id": "db97817a",
   "metadata": {},
   "outputs": [],
   "source": [
    "using Gmsh: gmsh"
   ]
  },
  {
   "cell_type": "code",
   "execution_count": 2,
   "id": "ec00af3c",
   "metadata": {},
   "outputs": [],
   "source": [
    "using GridapGmsh\n",
    "using Gridap\n",
    "using Gridap.Geometry\n",
    "using Gridap.TensorValues\n",
    "using Plots"
   ]
  },
  {
   "cell_type": "code",
   "execution_count": 3,
   "id": "c334b5fd",
   "metadata": {
    "scrolled": true
   },
   "outputs": [
    {
     "data": {
      "text/plain": [
       "interval (generic function with 1 method)"
      ]
     },
     "execution_count": 3,
     "metadata": {},
     "output_type": "execute_result"
    }
   ],
   "source": [
    "using SymPy\n",
    "\n",
    "x,x₁ = symbols(\"x,x₁\", real = true)\n",
    "\n",
    "heaviside(x) = 0.5 * (sign(x) + 1)\n",
    "interval(x, a, b) = heaviside(x-a) - heaviside(x-b)"
   ]
  },
  {
   "cell_type": "markdown",
   "id": "199b0fee",
   "metadata": {},
   "source": [
    "## Definitions of Tensorial Quantities:\n",
    "\n",
    "$\\boldsymbol{I} = \\delta_{ij} \\boldsymbol{e}_i\\otimes\\boldsymbol{e}_j$\n",
    "\n",
    "$\\mathbb{I} = \\boldsymbol{I}\\otimes\\boldsymbol{I}$\n",
    "\n",
    "$\\mathbb{I}_{sym} = \\frac{1}{2}\\biggl(\\mathbb{I}+\\mathbb{I}^T\\biggr)$\n",
    "\n",
    "$\\mathbb{I}_{skw} = \\frac{1}{2}\\biggl(\\mathbb{I}-\\mathbb{I}^T\\biggr)$\n",
    "\n",
    "$\\mathbb{I}_{vol} = \\frac{1}{3}\\biggl(\\boldsymbol{I}\\otimes\\boldsymbol{I}\\biggr)$\n",
    "\n",
    "$\\mathbb{I}_{dev} = \\mathbb{I}_{sym} - \\mathbb{I}_{vol}$\n",
    "\n",
    "$\\boldsymbol{\\epsilon}_{vol} = \\frac{1}{3}\\text{tr}(\\boldsymbol{\\epsilon}) \\boldsymbol{I} = \\frac{1}{3}\\biggl(\\boldsymbol{\\epsilon}:\\boldsymbol{I}\\biggr)\\boldsymbol{I} = \\frac{1}{3}\\biggl(\\boldsymbol{I}\\otimes\\boldsymbol{I}\\biggr)\\boldsymbol{\\epsilon} = \\mathbb{I}_{vol} \\boldsymbol{\\epsilon} $\n",
    "\n",
    "$\\boldsymbol{\\epsilon}_{dev} = \\boldsymbol{\\epsilon} - \\boldsymbol{\\epsilon}_{vol} = \\biggl(\\mathbb{I}_{sym} -  \\mathbb{I}_{vol}\\biggl) \\boldsymbol{\\epsilon} = \\mathbb{I}_{dev} \\boldsymbol{\\epsilon}$\n",
    "\n",
    "$\\boldsymbol{\\sigma}_{vol} = p \\boldsymbol{I} = \\frac{1}{3}\\biggl(\\boldsymbol{\\sigma}:\\boldsymbol{I}\\biggr)\\boldsymbol{I} = \\frac{1}{3}\\biggl(\\boldsymbol{I}\\otimes\\boldsymbol{I}\\biggr)\\boldsymbol{\\sigma} = \\mathbb{I}_{vol} \\boldsymbol{\\sigma} = \\mathbb{I}_{vol}\\mathbb{C} \\boldsymbol{\\epsilon}$\n",
    "\n",
    "$\\boldsymbol{\\sigma}_{dev} = \\boldsymbol{\\sigma} - \\boldsymbol{\\sigma}_{vol} = \\biggl(\\mathbb{I}_{sym} -  \\mathbb{I}_{vol}\\biggl) \\boldsymbol{\\sigma} = \\mathbb{I}_{dev} \\boldsymbol{\\sigma}=\\mathbb{I}_{dev} \\mathbb{C} \\boldsymbol{\\epsilon}$"
   ]
  },
  {
   "cell_type": "code",
   "execution_count": 4,
   "id": "647ac8a1",
   "metadata": {
    "scrolled": true
   },
   "outputs": [
    {
     "data": {
      "text/plain": [
       "SymFourthOrderTensorValue{2, Float64, 9}(0.5, 0.0, -0.5, 0.0, 0.5, 0.0, -0.5, 0.0, 0.5)"
      ]
     },
     "execution_count": 4,
     "metadata": {},
     "output_type": "execute_result"
    }
   ],
   "source": [
    "I2 = SymTensorValue{2,Float64}(1.0 ,0.0 ,1.0)\n",
    "I4 = I2⊗I2\n",
    "I4_sym = one(SymFourthOrderTensorValue{2,Float64})\n",
    "I4_vol = (1.0/2)*I4\n",
    "I4_dev = I4_sym  - I4_vol"
   ]
  },
  {
   "cell_type": "code",
   "execution_count": 5,
   "id": "bee3472c",
   "metadata": {
    "scrolled": true
   },
   "outputs": [
    {
     "name": "stdout",
     "output_type": "stream",
     "text": [
      "Info    : Meshing 1D...\n",
      "Info    : [  0%] Meshing curve 1 (Line)\n",
      "Info    : [ 10%] Meshing curve 2 (Line)\n",
      "Info    : [ 20%] Meshing curve 3 (Line)\n",
      "Info    : [ 30%] Meshing curve 4 (Line)\n",
      "Info    : [ 40%] Meshing curve 5 (Line)\n",
      "Info    : [ 40%] Meshing curve 6 (Line)\n",
      "Info    : [ 50%] Meshing curve 7 (Line)\n",
      "Info    : [ 60%] Meshing curve 8 (Line)\n",
      "Info    : [ 70%] Meshing curve 9 (Line)\n",
      "Info    : [ 70%] Meshing curve 10 (Line)\n",
      "Info    : [ 80%] Meshing curve 11 (Line)\n",
      "Info    : [ 90%] Meshing curve 12 (Line)\n",
      "Info    : [100%] Meshing curve 13 (Line)\n",
      "Info    : Done meshing 1D (Wall 0.00329776s, CPU 0.003305s)\n",
      "Info    : Meshing 2D...\n",
      "Info    : Meshing surface 1 (Plane, Frontal-Delaunay)\n",
      "Info    : Done meshing 2D (Wall 0.945777s, CPU 0.942101s)\n",
      "Info    : 26226 nodes 52463 elements\n",
      "Info    : Writing 'threepointbendinghorizontal.msh'...\n",
      "Info    : Done writing 'threepointbendinghorizontal.msh'\n"
     ]
    },
    {
     "name": "stderr",
     "output_type": "stream",
     "text": [
      "Warning : Unknown entity of dimension 2 and tag 1 in physical group 1\n",
      "Warning : Unknown entity of dimension 0 and tag 2 in physical group 2\n",
      "Warning : Unknown entity of dimension 0 and tag 8 in physical group 3\n",
      "Warning : Unknown entity of dimension 1 and tag 11 in physical group 4\n",
      "Warning : Unknown entity of dimension 1 and tag 13 in physical group 5\n",
      "Warning : Unknown entity of dimension 1 and tag 9 in physical group 6\n"
     ]
    }
   ],
   "source": [
    "const L = 19.1e-3\n",
    "const LL = (0.5*L)-0.002\n",
    "const SO = 1e-3\n",
    "#const SI = 0.05\n",
    "const H = 9e-3\n",
    "const CH = 4e-3       #Crack height\n",
    "const CW = 0.46e-3    #Crack Width\n",
    "const lsp = 0.2e-3   #length factor\n",
    "const hf = 0.06e-3/2.1 #Mesh size parameter\n",
    "const hfc = 0.06e-3/50 #Mesh size parameter\n",
    "const h = 50*hf    #Mesh size parameter\n",
    "const LW = CW\n",
    "const FMR = CW/2\n",
    "\n",
    "gmsh.initialize()\n",
    "gmsh.option.setNumber(\"General.Terminal\", 1)\n",
    "p1 = gmsh.model.geo.addPoint(0.0, 0.0, 0.0, h)\n",
    "p2 = gmsh.model.geo.addPoint(SO, 0, 0.0, h)\n",
    "p3 = gmsh.model.geo.addPoint(LL-0.5*CW, 0, 0.0, h)\n",
    "p4 = gmsh.model.geo.addPoint(LL-0.5*CW, CH-CW, 0.0, h)\n",
    "p5 = gmsh.model.geo.addPoint(LL, CH, 0.0, hfc)\n",
    "p6 = gmsh.model.geo.addPoint(LL+0.5*CW, CH-CW, 0.0, h)\n",
    "p7 = gmsh.model.geo.addPoint(LL+0.5*CW,0.0, 0.0, h)\n",
    "p8 = gmsh.model.geo.addPoint(L-SO,0.0, 0.0, h)\n",
    "p9 = gmsh.model.geo.addPoint(L,0.0, 0.0, h)\n",
    "p10 = gmsh.model.geo.addPoint(L, H, 0.0, h)\n",
    "p11 = gmsh.model.geo.addPoint((L/2)+LW, H , 0.0, h)\n",
    "p12 = gmsh.model.geo.addPoint((L/2)-LW, H , 0.0, h)\n",
    "p13 = gmsh.model.geo.addPoint(0, H , 0.0, h)\n",
    "\n",
    "l1 = gmsh.model.geo.addLine(p1, p2)\n",
    "l2 = gmsh.model.geo.addLine(p2, p3)\n",
    "l3 = gmsh.model.geo.addLine(p3, p4)\n",
    "l4 = gmsh.model.geo.addLine(p4, p5)\n",
    "l5 = gmsh.model.geo.addLine(p5, p6)\n",
    "l6 = gmsh.model.geo.addLine(p6, p7)\n",
    "l7 = gmsh.model.geo.addLine(p7, p8)\n",
    "l8 = gmsh.model.geo.addLine(p8, p9)\n",
    "l9 = gmsh.model.geo.addLine(p9, p10)\n",
    "l10 = gmsh.model.geo.addLine(p10, p11)\n",
    "l11 = gmsh.model.geo.addLine(p11, p12)\n",
    "l12 = gmsh.model.geo.addLine(p12, p13)\n",
    "l13 = gmsh.model.geo.addLine(p13, p1)                 \n",
    "\n",
    "cl1 = gmsh.model.geo.addCurveLoop([l1,l2,l3,l4,l5,l6,l7,l8,l9,l10,l11,l12,l13]) \n",
    "\n",
    "ps1 = gmsh.model.geo.addPlaneSurface([cl1])\n",
    "\n",
    "pg1 = gmsh.model.addPhysicalGroup(2, [ps1])\n",
    "\n",
    "pg2 = gmsh.model.addPhysicalGroup(0, [p2])\n",
    "pg3 = gmsh.model.addPhysicalGroup(0, [p8])\n",
    "pg4 = gmsh.model.addPhysicalGroup(1, [l11])\n",
    "pg5 = gmsh.model.addPhysicalGroup(1, [l13])\n",
    "pg6 = gmsh.model.addPhysicalGroup(1, [l9])\n",
    "\n",
    "gmsh.model.setPhysicalName(2, pg1, \"Domain\")\n",
    "gmsh.model.setPhysicalName(0, pg2, \"DirichletLeft\")\n",
    "gmsh.model.setPhysicalName(0, pg3, \"DirichletRight\")\n",
    "gmsh.model.setPhysicalName(1, pg4, \"LoadLine\")\n",
    "gmsh.model.setPhysicalName(1, pg5, \"ElectricPotentialTempLeft\")\n",
    "gmsh.model.setPhysicalName(1, pg6, \"ElectricPotentialTempRight\")\n",
    "\n",
    "gmsh.model.mesh.field.add(\"Box\", 11)\n",
    "gmsh.model.mesh.field.setNumber(11, \"VIn\", hf)\n",
    "gmsh.model.mesh.field.setNumber(11, \"VOut\", h)\n",
    "gmsh.model.mesh.field.setNumber(11, \"XMin\", (LL-5*FMR))\n",
    "gmsh.model.mesh.field.setNumber(11, \"XMax\", ((L/2)+LW+2*FMR))\n",
    "gmsh.model.mesh.field.setNumber(11, \"YMin\", 0.95*CH)\n",
    "gmsh.model.mesh.field.setNumber(11, \"YMax\", H)\n",
    "\n",
    "gmsh.model.mesh.field.setAsBackgroundMesh(11)\n",
    "\n",
    "gmsh.model.geo.synchronize()\n",
    "gmsh.model.mesh.generate(2)\n",
    "gmsh.write(\"threepointbendinghorizontal.msh\")\n",
    "gmsh.finalize()"
   ]
  },
  {
   "cell_type": "code",
   "execution_count": 6,
   "id": "3bf32298",
   "metadata": {},
   "outputs": [
    {
     "name": "stdout",
     "output_type": "stream",
     "text": [
      "Info    : Reading 'threepointbendinghorizontal.msh'...\n",
      "Info    : 27 entities\n",
      "Info    : 26226 nodes\n",
      "Info    : 52281 elements\n",
      "Info    : Done reading 'threepointbendinghorizontal.msh'\n"
     ]
    },
    {
     "data": {
      "text/plain": [
       "3-element Vector{Vector{String}}:\n",
       " [\"threepointbendinghorizontal_0.vtu\"]\n",
       " [\"threepointbendinghorizontal_1.vtu\"]\n",
       " [\"threepointbendinghorizontal_2.vtu\"]"
      ]
     },
     "execution_count": 6,
     "metadata": {},
     "output_type": "execute_result"
    }
   ],
   "source": [
    "model = GmshDiscreteModel(\"threepointbendinghorizontal.msh\")\n",
    "writevtk(model,\"threepointbendinghorizontal\")"
   ]
  },
  {
   "cell_type": "code",
   "execution_count": 7,
   "id": "d39cc4c8",
   "metadata": {},
   "outputs": [
    {
     "data": {
      "text/plain": [
       "9.000000000000001e-7"
      ]
     },
     "execution_count": 7,
     "metadata": {},
     "output_type": "execute_result"
    }
   ],
   "source": [
    "const T0 = 0\n",
    "const TAppMax = T0\n",
    "\n",
    "const ElecF = 5\n",
    "const phiMaxApp = -ElecF*1e5*L\n",
    "const phiMin = 0.0\n",
    "\n",
    "const delt = 1\n",
    "const tMax = 150\n",
    "const uMax = 18e-6\n",
    "const AppVel = uMax/tMax\n",
    "const uMin = 0\n",
    "\n",
    "uTran_Temp = 0.2*uMax\n",
    "uTran2_EP = 0.05*uMax"
   ]
  },
  {
   "cell_type": "code",
   "execution_count": 50,
   "id": "97e3911a",
   "metadata": {},
   "outputs": [
    {
     "data": {
      "text/plain": [
       "-9550.0"
      ]
     },
     "execution_count": 50,
     "metadata": {},
     "output_type": "execute_result"
    }
   ],
   "source": [
    "-ElecF*1e5*L"
   ]
  },
  {
   "cell_type": "code",
   "execution_count": 8,
   "id": "5a3c2faa",
   "metadata": {},
   "outputs": [
    {
     "ename": "LoadError",
     "evalue": "MethodError: no method matching var\"##312\"(::Float64)\n\u001b[0mClosest candidates are:\n\u001b[0m  var\"##312\"() at none:0",
     "output_type": "error",
     "traceback": [
      "MethodError: no method matching var\"##312\"(::Float64)\n\u001b[0mClosest candidates are:\n\u001b[0m  var\"##312\"() at none:0",
      "",
      "Stacktrace:",
      "  [1] #invokelatest#2",
      "    @ ./essentials.jl:729 [inlined]",
      "  [2] invokelatest",
      "    @ ./essentials.jl:726 [inlined]",
      "  [3] #118",
      "    @ ~/.julia/packages/SymPy/7cg6m/src/lambdify.jl:223 [inlined]",
      "  [4] (::ComposedFunction{RecipesPipeline.var\"#1#2\"{Symbol}, SymPy.var\"#118#119\"{SymPy.var\"###312\"}})(x::Float64; kw::Base.Pairs{Symbol, Union{}, Tuple{}, NamedTuple{(), Tuple{}}})",
      "    @ Base ./operators.jl:1030",
      "  [5] (::ComposedFunction{RecipesPipeline.var\"#1#2\"{Symbol}, SymPy.var\"#118#119\"{SymPy.var\"###312\"}})(x::Float64)",
      "    @ Base ./operators.jl:1030",
      "  [6] (::ComposedFunction{ComposedFunction{RecipesPipeline.var\"#1#2\"{Symbol}, SymPy.var\"#118#119\"{SymPy.var\"###312\"}}, RecipesPipeline.var\"#3#4\"{Symbol}})(x::Float64; kw::Base.Pairs{Symbol, Union{}, Tuple{}, NamedTuple{(), Tuple{}}})",
      "    @ Base ./operators.jl:1030",
      "  [7] ComposedFunction",
      "    @ ./operators.jl:1030 [inlined]",
      "  [8] (::PlotUtils.var\"#21#23\"{ComposedFunction{ComposedFunction{RecipesPipeline.var\"#1#2\"{Symbol}, SymPy.var\"#118#119\"{SymPy.var\"###312\"}}, RecipesPipeline.var\"#3#4\"{Symbol}}})(x::Float64)",
      "    @ PlotUtils ~/.julia/packages/PlotUtils/bZEEj/src/adapted_grid.jl:49",
      "  [9] _broadcast_getindex_evalf",
      "    @ ./broadcast.jl:670 [inlined]",
      " [10] _broadcast_getindex",
      "    @ ./broadcast.jl:643 [inlined]",
      " [11] getindex",
      "    @ ./broadcast.jl:597 [inlined]",
      " [12] copy",
      "    @ ./broadcast.jl:899 [inlined]",
      " [13] materialize(bc::Base.Broadcast.Broadcasted{Base.Broadcast.DefaultArrayStyle{1}, Nothing, PlotUtils.var\"#21#23\"{ComposedFunction{ComposedFunction{RecipesPipeline.var\"#1#2\"{Symbol}, SymPy.var\"#118#119\"{SymPy.var\"###312\"}}, RecipesPipeline.var\"#3#4\"{Symbol}}}, Tuple{Vector{Float64}}})",
      "    @ Base.Broadcast ./broadcast.jl:860",
      " [14] adapted_grid(f::Any, minmax::Tuple{Float64, Float64}; max_recursions::Int64, max_curvature::Float64, n_points::Int64)",
      "    @ PlotUtils ~/.julia/packages/PlotUtils/bZEEj/src/adapted_grid.jl:60",
      " [15] adapted_grid(f::Any, minmax::Tuple{Float64, Float64})",
      "    @ PlotUtils ~/.julia/packages/PlotUtils/bZEEj/src/adapted_grid.jl:14",
      " [16] _scaled_adapted_grid(f::Function, xscale::Symbol, yscale::Symbol, xmin::Int64, xmax::Float64)",
      "    @ RecipesPipeline ~/.julia/packages/RecipesPipeline/XxUHt/src/user_recipe.jl:322",
      " [17] macro expansion",
      "    @ ~/.julia/packages/RecipesPipeline/XxUHt/src/user_recipe.jl:265 [inlined]",
      " [18] apply_recipe(plotattributes::AbstractDict{Symbol, Any}, f::Function, xmin::Number, xmax::Number)",
      "    @ RecipesPipeline ~/.julia/packages/RecipesBase/z10lo/src/RecipesBase.jl:300",
      " [19] _process_userrecipes!(plt::Any, plotattributes::Any, args::Any)",
      "    @ RecipesPipeline ~/.julia/packages/RecipesPipeline/XxUHt/src/user_recipe.jl:38",
      " [20] recipe_pipeline!(plt::Any, plotattributes::Any, args::Any)",
      "    @ RecipesPipeline ~/.julia/packages/RecipesPipeline/XxUHt/src/RecipesPipeline.jl:72",
      " [21] _plot!(plt::Plots.Plot, plotattributes::Any, args::Any)",
      "    @ Plots ~/.julia/packages/Plots/nuwp4/src/plot.jl:223",
      " [22] plot(::Any, ::Vararg{Any}; kw::Base.Pairs{Symbol, V, Tuple{Vararg{Symbol, N}}, NamedTuple{names, T}} where {V, N, names, T<:Tuple{Vararg{Any, N}}})",
      "    @ Plots ~/.julia/packages/Plots/nuwp4/src/plot.jl:102",
      " [23] plot(::Any, ::Any, ::Any)",
      "    @ Plots ~/.julia/packages/Plots/nuwp4/src/plot.jl:93",
      " [24] top-level scope",
      "    @ In[8]:5"
     ]
    }
   ],
   "source": [
    "hS = uMax/10\n",
    "F_Temp(x) = (T0 - TAppMax) * interval(x,-4*hS+uMin,uTran_Temp)\n",
    "wₕ(x,x₁) = (1/(sqrt(2*pi)*hS))*exp(-(x-x₁)^2/(2*hS^2))\n",
    "smoothT = SymPy.integrate(F_Temp(x₁)*wₕ(x,x₁),(x₁,-4*hS,uMax)) +  TAppMax\n",
    "plot(smoothT,0,uMax)"
   ]
  },
  {
   "cell_type": "code",
   "execution_count": 9,
   "id": "61e87d28",
   "metadata": {},
   "outputs": [
    {
     "data": {
      "image/svg+xml": [
       "<?xml version=\"1.0\" encoding=\"utf-8\"?>\n",
       "<svg xmlns=\"http://www.w3.org/2000/svg\" xmlns:xlink=\"http://www.w3.org/1999/xlink\" width=\"600\" height=\"400\" viewBox=\"0 0 2400 1600\">\n",
       "<defs>\n",
       "  <clipPath id=\"clip420\">\n",
       "    <rect x=\"0\" y=\"0\" width=\"2400\" height=\"1600\"/>\n",
       "  </clipPath>\n",
       "</defs>\n",
       "<path clip-path=\"url(#clip420)\" d=\"M0 1600 L2400 1600 L2400 0 L0 0  Z\" fill=\"#ffffff\" fill-rule=\"evenodd\" fill-opacity=\"1\"/>\n",
       "<defs>\n",
       "  <clipPath id=\"clip421\">\n",
       "    <rect x=\"480\" y=\"0\" width=\"1681\" height=\"1600\"/>\n",
       "  </clipPath>\n",
       "</defs>\n",
       "<path clip-path=\"url(#clip420)\" d=\"M239.19 1474.16 L2352.76 1474.16 L2352.76 47.2441 L239.19 47.2441  Z\" fill=\"#ffffff\" fill-rule=\"evenodd\" fill-opacity=\"1\"/>\n",
       "<defs>\n",
       "  <clipPath id=\"clip422\">\n",
       "    <rect x=\"239\" y=\"47\" width=\"2115\" height=\"1428\"/>\n",
       "  </clipPath>\n",
       "</defs>\n",
       "<polyline clip-path=\"url(#clip422)\" style=\"stroke:#000000; stroke-linecap:round; stroke-linejoin:round; stroke-width:2; stroke-opacity:0.1; fill:none\" points=\"299.008,1474.16 299.008,47.2441 \"/>\n",
       "<polyline clip-path=\"url(#clip422)\" style=\"stroke:#000000; stroke-linecap:round; stroke-linejoin:round; stroke-width:2; stroke-opacity:0.1; fill:none\" points=\"852.878,1474.16 852.878,47.2441 \"/>\n",
       "<polyline clip-path=\"url(#clip422)\" style=\"stroke:#000000; stroke-linecap:round; stroke-linejoin:round; stroke-width:2; stroke-opacity:0.1; fill:none\" points=\"1406.75,1474.16 1406.75,47.2441 \"/>\n",
       "<polyline clip-path=\"url(#clip422)\" style=\"stroke:#000000; stroke-linecap:round; stroke-linejoin:round; stroke-width:2; stroke-opacity:0.1; fill:none\" points=\"1960.62,1474.16 1960.62,47.2441 \"/>\n",
       "<polyline clip-path=\"url(#clip420)\" style=\"stroke:#000000; stroke-linecap:round; stroke-linejoin:round; stroke-width:4; stroke-opacity:1; fill:none\" points=\"239.19,1474.16 2352.76,1474.16 \"/>\n",
       "<polyline clip-path=\"url(#clip420)\" style=\"stroke:#000000; stroke-linecap:round; stroke-linejoin:round; stroke-width:4; stroke-opacity:1; fill:none\" points=\"299.008,1474.16 299.008,1455.27 \"/>\n",
       "<polyline clip-path=\"url(#clip420)\" style=\"stroke:#000000; stroke-linecap:round; stroke-linejoin:round; stroke-width:4; stroke-opacity:1; fill:none\" points=\"852.878,1474.16 852.878,1455.27 \"/>\n",
       "<polyline clip-path=\"url(#clip420)\" style=\"stroke:#000000; stroke-linecap:round; stroke-linejoin:round; stroke-width:4; stroke-opacity:1; fill:none\" points=\"1406.75,1474.16 1406.75,1455.27 \"/>\n",
       "<polyline clip-path=\"url(#clip420)\" style=\"stroke:#000000; stroke-linecap:round; stroke-linejoin:round; stroke-width:4; stroke-opacity:1; fill:none\" points=\"1960.62,1474.16 1960.62,1455.27 \"/>\n",
       "<path clip-path=\"url(#clip420)\" d=\"M299.008 1505.08 Q295.397 1505.08 293.568 1508.65 Q291.763 1512.19 291.763 1519.32 Q291.763 1526.43 293.568 1529.99 Q295.397 1533.53 299.008 1533.53 Q302.643 1533.53 304.448 1529.99 Q306.277 1526.43 306.277 1519.32 Q306.277 1512.19 304.448 1508.65 Q302.643 1505.08 299.008 1505.08 M299.008 1501.38 Q304.818 1501.38 307.874 1505.99 Q310.953 1510.57 310.953 1519.32 Q310.953 1528.05 307.874 1532.65 Q304.818 1537.24 299.008 1537.24 Q293.198 1537.24 290.119 1532.65 Q287.064 1528.05 287.064 1519.32 Q287.064 1510.57 290.119 1505.99 Q293.198 1501.38 299.008 1501.38 Z\" fill=\"#000000\" fill-rule=\"evenodd\" fill-opacity=\"1\" /><path clip-path=\"url(#clip420)\" d=\"M729.802 1517.66 L748.158 1517.66 L748.158 1521.6 L734.084 1521.6 L734.084 1530.07 Q735.103 1529.72 736.121 1529.56 Q737.14 1529.38 738.158 1529.38 Q743.945 1529.38 747.325 1532.55 Q750.704 1535.72 750.704 1541.14 Q750.704 1546.72 747.232 1549.82 Q743.76 1552.9 737.441 1552.9 Q735.265 1552.9 732.996 1552.53 Q730.751 1552.16 728.343 1551.41 L728.343 1546.72 Q730.427 1547.85 732.649 1548.41 Q734.871 1548.96 737.348 1548.96 Q741.353 1548.96 743.691 1546.85 Q746.029 1544.75 746.029 1541.14 Q746.029 1537.53 743.691 1535.42 Q741.353 1533.31 737.348 1533.31 Q735.473 1533.31 733.598 1533.73 Q731.746 1534.15 729.802 1535.03 L729.802 1517.66 Z\" fill=\"#000000\" fill-rule=\"evenodd\" fill-opacity=\"1\" /><path clip-path=\"url(#clip420)\" d=\"M759.917 1546.35 L764.802 1546.35 L764.802 1552.22 L759.917 1552.22 L759.917 1546.35 Z\" fill=\"#000000\" fill-rule=\"evenodd\" fill-opacity=\"1\" /><path clip-path=\"url(#clip420)\" d=\"M784.987 1520.74 Q781.376 1520.74 779.547 1524.31 Q777.741 1527.85 777.741 1534.98 Q777.741 1542.09 779.547 1545.65 Q781.376 1549.19 784.987 1549.19 Q788.621 1549.19 790.426 1545.65 Q792.255 1542.09 792.255 1534.98 Q792.255 1527.85 790.426 1524.31 Q788.621 1520.74 784.987 1520.74 M784.987 1517.04 Q790.797 1517.04 793.852 1521.65 Q796.931 1526.23 796.931 1534.98 Q796.931 1543.71 793.852 1548.31 Q790.797 1552.9 784.987 1552.9 Q779.177 1552.9 776.098 1548.31 Q773.042 1543.71 773.042 1534.98 Q773.042 1526.23 776.098 1521.65 Q779.177 1517.04 784.987 1517.04 Z\" fill=\"#000000\" fill-rule=\"evenodd\" fill-opacity=\"1\" /><path clip-path=\"url(#clip420)\" d=\"M815.149 1520.74 Q811.537 1520.74 809.709 1524.31 Q807.903 1527.85 807.903 1534.98 Q807.903 1542.09 809.709 1545.65 Q811.537 1549.19 815.149 1549.19 Q818.783 1549.19 820.588 1545.65 Q822.417 1542.09 822.417 1534.98 Q822.417 1527.85 820.588 1524.31 Q818.783 1520.74 815.149 1520.74 M815.149 1517.04 Q820.959 1517.04 824.014 1521.65 Q827.093 1526.23 827.093 1534.98 Q827.093 1543.71 824.014 1548.31 Q820.959 1552.9 815.149 1552.9 Q809.338 1552.9 806.26 1548.31 Q803.204 1543.71 803.204 1534.98 Q803.204 1526.23 806.26 1521.65 Q809.338 1517.04 815.149 1517.04 Z\" fill=\"#000000\" fill-rule=\"evenodd\" fill-opacity=\"1\" /><path clip-path=\"url(#clip420)\" d=\"M863.482 1526.76 L852.903 1537.39 L863.482 1547.97 L860.727 1550.77 L850.102 1540.14 L839.477 1550.77 L836.746 1547.97 L847.301 1537.39 L836.746 1526.76 L839.477 1523.96 L850.102 1534.59 L860.727 1523.96 L863.482 1526.76 Z\" fill=\"#000000\" fill-rule=\"evenodd\" fill-opacity=\"1\" /><path clip-path=\"url(#clip420)\" d=\"M875.843 1548.29 L883.482 1548.29 L883.482 1521.92 L875.171 1523.59 L875.171 1519.33 L883.435 1517.66 L888.111 1517.66 L888.111 1548.29 L895.75 1548.29 L895.75 1552.22 L875.843 1552.22 L875.843 1548.29 Z\" fill=\"#000000\" fill-rule=\"evenodd\" fill-opacity=\"1\" /><path clip-path=\"url(#clip420)\" d=\"M915.194 1520.74 Q911.583 1520.74 909.755 1524.31 Q907.949 1527.85 907.949 1534.98 Q907.949 1542.09 909.755 1545.65 Q911.583 1549.19 915.194 1549.19 Q918.829 1549.19 920.634 1545.65 Q922.463 1542.09 922.463 1534.98 Q922.463 1527.85 920.634 1524.31 Q918.829 1520.74 915.194 1520.74 M915.194 1517.04 Q921.004 1517.04 924.06 1521.65 Q927.139 1526.23 927.139 1534.98 Q927.139 1543.71 924.06 1548.31 Q921.004 1552.9 915.194 1552.9 Q909.384 1552.9 906.305 1548.31 Q903.25 1543.71 903.25 1534.98 Q903.25 1526.23 906.305 1521.65 Q909.384 1517.04 915.194 1517.04 Z\" fill=\"#000000\" fill-rule=\"evenodd\" fill-opacity=\"1\" /><path clip-path=\"url(#clip420)\" d=\"M927.139 1511.14 L951.25 1511.14 L951.25 1514.34 L927.139 1514.34 L927.139 1511.14 Z\" fill=\"#000000\" fill-rule=\"evenodd\" fill-opacity=\"1\" /><path clip-path=\"url(#clip420)\" d=\"M968.046 1509.26 Q965.488 1509.26 963.983 1511.01 Q962.497 1512.76 962.497 1515.81 Q962.497 1518.83 963.983 1520.6 Q965.488 1522.35 968.046 1522.35 Q970.603 1522.35 972.089 1520.6 Q973.594 1518.83 973.594 1515.81 Q973.594 1512.76 972.089 1511.01 Q970.603 1509.26 968.046 1509.26 M975.587 1497.35 L975.587 1500.82 Q974.158 1500.14 972.691 1499.78 Q971.243 1499.42 969.814 1499.42 Q966.052 1499.42 964.058 1501.96 Q962.084 1504.5 961.801 1509.64 Q962.911 1508 964.585 1507.13 Q966.259 1506.25 968.271 1506.25 Q972.503 1506.25 974.948 1508.83 Q977.412 1511.39 977.412 1515.81 Q977.412 1520.13 974.854 1522.75 Q972.296 1525.36 968.046 1525.36 Q963.174 1525.36 960.598 1521.64 Q958.021 1517.89 958.021 1510.8 Q958.021 1504.14 961.181 1500.19 Q964.34 1496.23 969.663 1496.23 Q971.092 1496.23 972.541 1496.51 Q974.008 1496.79 975.587 1497.35 Z\" fill=\"#000000\" fill-rule=\"evenodd\" fill-opacity=\"1\" /><path clip-path=\"url(#clip420)\" d=\"M1284.13 1548.29 L1291.77 1548.29 L1291.77 1521.92 L1283.46 1523.59 L1283.46 1519.33 L1291.72 1517.66 L1296.4 1517.66 L1296.4 1548.29 L1304.04 1548.29 L1304.04 1552.22 L1284.13 1552.22 L1284.13 1548.29 Z\" fill=\"#000000\" fill-rule=\"evenodd\" fill-opacity=\"1\" /><path clip-path=\"url(#clip420)\" d=\"M1313.48 1546.35 L1318.37 1546.35 L1318.37 1552.22 L1313.48 1552.22 L1313.48 1546.35 Z\" fill=\"#000000\" fill-rule=\"evenodd\" fill-opacity=\"1\" /><path clip-path=\"url(#clip420)\" d=\"M1338.55 1520.74 Q1334.94 1520.74 1333.11 1524.31 Q1331.31 1527.85 1331.31 1534.98 Q1331.31 1542.09 1333.11 1545.65 Q1334.94 1549.19 1338.55 1549.19 Q1342.19 1549.19 1343.99 1545.65 Q1345.82 1542.09 1345.82 1534.98 Q1345.82 1527.85 1343.99 1524.31 Q1342.19 1520.74 1338.55 1520.74 M1338.55 1517.04 Q1344.36 1517.04 1347.42 1521.65 Q1350.5 1526.23 1350.5 1534.98 Q1350.5 1543.71 1347.42 1548.31 Q1344.36 1552.9 1338.55 1552.9 Q1332.74 1552.9 1329.66 1548.31 Q1326.61 1543.71 1326.61 1534.98 Q1326.61 1526.23 1329.66 1521.65 Q1332.74 1517.04 1338.55 1517.04 Z\" fill=\"#000000\" fill-rule=\"evenodd\" fill-opacity=\"1\" /><path clip-path=\"url(#clip420)\" d=\"M1368.71 1520.74 Q1365.1 1520.74 1363.27 1524.31 Q1361.47 1527.85 1361.47 1534.98 Q1361.47 1542.09 1363.27 1545.65 Q1365.1 1549.19 1368.71 1549.19 Q1372.35 1549.19 1374.15 1545.65 Q1375.98 1542.09 1375.98 1534.98 Q1375.98 1527.85 1374.15 1524.31 Q1372.35 1520.74 1368.71 1520.74 M1368.71 1517.04 Q1374.52 1517.04 1377.58 1521.65 Q1380.66 1526.23 1380.66 1534.98 Q1380.66 1543.71 1377.58 1548.31 Q1374.52 1552.9 1368.71 1552.9 Q1362.9 1552.9 1359.82 1548.31 Q1356.77 1543.71 1356.77 1534.98 Q1356.77 1526.23 1359.82 1521.65 Q1362.9 1517.04 1368.71 1517.04 Z\" fill=\"#000000\" fill-rule=\"evenodd\" fill-opacity=\"1\" /><path clip-path=\"url(#clip420)\" d=\"M1417.05 1526.76 L1406.47 1537.39 L1417.05 1547.97 L1414.29 1550.77 L1403.67 1540.14 L1393.04 1550.77 L1390.31 1547.97 L1400.87 1537.39 L1390.31 1526.76 L1393.04 1523.96 L1403.67 1534.59 L1414.29 1523.96 L1417.05 1526.76 Z\" fill=\"#000000\" fill-rule=\"evenodd\" fill-opacity=\"1\" /><path clip-path=\"url(#clip420)\" d=\"M1429.41 1548.29 L1437.05 1548.29 L1437.05 1521.92 L1428.74 1523.59 L1428.74 1519.33 L1437 1517.66 L1441.68 1517.66 L1441.68 1548.29 L1449.31 1548.29 L1449.31 1552.22 L1429.41 1552.22 L1429.41 1548.29 Z\" fill=\"#000000\" fill-rule=\"evenodd\" fill-opacity=\"1\" /><path clip-path=\"url(#clip420)\" d=\"M1468.76 1520.74 Q1465.15 1520.74 1463.32 1524.31 Q1461.51 1527.85 1461.51 1534.98 Q1461.51 1542.09 1463.32 1545.65 Q1465.15 1549.19 1468.76 1549.19 Q1472.39 1549.19 1474.2 1545.65 Q1476.03 1542.09 1476.03 1534.98 Q1476.03 1527.85 1474.2 1524.31 Q1472.39 1520.74 1468.76 1520.74 M1468.76 1517.04 Q1474.57 1517.04 1477.62 1521.65 Q1480.7 1526.23 1480.7 1534.98 Q1480.7 1543.71 1477.62 1548.31 Q1474.57 1552.9 1468.76 1552.9 Q1462.95 1552.9 1459.87 1548.31 Q1456.81 1543.71 1456.81 1534.98 Q1456.81 1526.23 1459.87 1521.65 Q1462.95 1517.04 1468.76 1517.04 Z\" fill=\"#000000\" fill-rule=\"evenodd\" fill-opacity=\"1\" /><path clip-path=\"url(#clip420)\" d=\"M1480.7 1511.14 L1504.81 1511.14 L1504.81 1514.34 L1480.7 1514.34 L1480.7 1511.14 Z\" fill=\"#000000\" fill-rule=\"evenodd\" fill-opacity=\"1\" /><path clip-path=\"url(#clip420)\" d=\"M1513.05 1496.73 L1527.97 1496.73 L1527.97 1499.93 L1516.53 1499.93 L1516.53 1506.82 Q1517.36 1506.53 1518.19 1506.4 Q1519.01 1506.25 1519.84 1506.25 Q1524.54 1506.25 1527.29 1508.83 Q1530.04 1511.4 1530.04 1515.81 Q1530.04 1520.34 1527.21 1522.86 Q1524.39 1525.36 1519.26 1525.36 Q1517.49 1525.36 1515.65 1525.06 Q1513.82 1524.76 1511.87 1524.16 L1511.87 1520.34 Q1513.56 1521.26 1515.37 1521.71 Q1517.17 1522.16 1519.18 1522.16 Q1522.44 1522.16 1524.34 1520.45 Q1526.24 1518.74 1526.24 1515.81 Q1526.24 1512.87 1524.34 1511.16 Q1522.44 1509.45 1519.18 1509.45 Q1517.66 1509.45 1516.14 1509.79 Q1514.63 1510.13 1513.05 1510.84 L1513.05 1496.73 Z\" fill=\"#000000\" fill-rule=\"evenodd\" fill-opacity=\"1\" /><path clip-path=\"url(#clip420)\" d=\"M1838 1548.29 L1845.64 1548.29 L1845.64 1521.92 L1837.33 1523.59 L1837.33 1519.33 L1845.59 1517.66 L1850.27 1517.66 L1850.27 1548.29 L1857.91 1548.29 L1857.91 1552.22 L1838 1552.22 L1838 1548.29 Z\" fill=\"#000000\" fill-rule=\"evenodd\" fill-opacity=\"1\" /><path clip-path=\"url(#clip420)\" d=\"M1867.35 1546.35 L1872.24 1546.35 L1872.24 1552.22 L1867.35 1552.22 L1867.35 1546.35 Z\" fill=\"#000000\" fill-rule=\"evenodd\" fill-opacity=\"1\" /><path clip-path=\"url(#clip420)\" d=\"M1882.47 1517.66 L1900.82 1517.66 L1900.82 1521.6 L1886.75 1521.6 L1886.75 1530.07 Q1887.77 1529.72 1888.79 1529.56 Q1889.8 1529.38 1890.82 1529.38 Q1896.61 1529.38 1899.99 1532.55 Q1903.37 1535.72 1903.37 1541.14 Q1903.37 1546.72 1899.9 1549.82 Q1896.42 1552.9 1890.11 1552.9 Q1887.93 1552.9 1885.66 1552.53 Q1883.42 1552.16 1881.01 1551.41 L1881.01 1546.72 Q1883.09 1547.85 1885.31 1548.41 Q1887.54 1548.96 1890.01 1548.96 Q1894.02 1548.96 1896.36 1546.85 Q1898.69 1544.75 1898.69 1541.14 Q1898.69 1537.53 1896.36 1535.42 Q1894.02 1533.31 1890.01 1533.31 Q1888.14 1533.31 1886.26 1533.73 Q1884.41 1534.15 1882.47 1535.03 L1882.47 1517.66 Z\" fill=\"#000000\" fill-rule=\"evenodd\" fill-opacity=\"1\" /><path clip-path=\"url(#clip420)\" d=\"M1922.58 1520.74 Q1918.97 1520.74 1917.14 1524.31 Q1915.34 1527.85 1915.34 1534.98 Q1915.34 1542.09 1917.14 1545.65 Q1918.97 1549.19 1922.58 1549.19 Q1926.22 1549.19 1928.02 1545.65 Q1929.85 1542.09 1929.85 1534.98 Q1929.85 1527.85 1928.02 1524.31 Q1926.22 1520.74 1922.58 1520.74 M1922.58 1517.04 Q1928.39 1517.04 1931.45 1521.65 Q1934.53 1526.23 1934.53 1534.98 Q1934.53 1543.71 1931.45 1548.31 Q1928.39 1552.9 1922.58 1552.9 Q1916.77 1552.9 1913.69 1548.31 Q1910.64 1543.71 1910.64 1534.98 Q1910.64 1526.23 1913.69 1521.65 Q1916.77 1517.04 1922.58 1517.04 Z\" fill=\"#000000\" fill-rule=\"evenodd\" fill-opacity=\"1\" /><path clip-path=\"url(#clip420)\" d=\"M1970.92 1526.76 L1960.34 1537.39 L1970.92 1547.97 L1968.16 1550.77 L1957.54 1540.14 L1946.91 1550.77 L1944.18 1547.97 L1954.73 1537.39 L1944.18 1526.76 L1946.91 1523.96 L1957.54 1534.59 L1968.16 1523.96 L1970.92 1526.76 Z\" fill=\"#000000\" fill-rule=\"evenodd\" fill-opacity=\"1\" /><path clip-path=\"url(#clip420)\" d=\"M1983.28 1548.29 L1990.91 1548.29 L1990.91 1521.92 L1982.6 1523.59 L1982.6 1519.33 L1990.87 1517.66 L1995.54 1517.66 L1995.54 1548.29 L2003.18 1548.29 L2003.18 1552.22 L1983.28 1552.22 L1983.28 1548.29 Z\" fill=\"#000000\" fill-rule=\"evenodd\" fill-opacity=\"1\" /><path clip-path=\"url(#clip420)\" d=\"M2022.63 1520.74 Q2019.02 1520.74 2017.19 1524.31 Q2015.38 1527.85 2015.38 1534.98 Q2015.38 1542.09 2017.19 1545.65 Q2019.02 1549.19 2022.63 1549.19 Q2026.26 1549.19 2028.07 1545.65 Q2029.9 1542.09 2029.9 1534.98 Q2029.9 1527.85 2028.07 1524.31 Q2026.26 1520.74 2022.63 1520.74 M2022.63 1517.04 Q2028.44 1517.04 2031.49 1521.65 Q2034.57 1526.23 2034.57 1534.98 Q2034.57 1543.71 2031.49 1548.31 Q2028.44 1552.9 2022.63 1552.9 Q2016.82 1552.9 2013.74 1548.31 Q2010.68 1543.71 2010.68 1534.98 Q2010.68 1526.23 2013.74 1521.65 Q2016.82 1517.04 2022.63 1517.04 Z\" fill=\"#000000\" fill-rule=\"evenodd\" fill-opacity=\"1\" /><path clip-path=\"url(#clip420)\" d=\"M2034.57 1511.14 L2058.68 1511.14 L2058.68 1514.34 L2034.57 1514.34 L2034.57 1511.14 Z\" fill=\"#000000\" fill-rule=\"evenodd\" fill-opacity=\"1\" /><path clip-path=\"url(#clip420)\" d=\"M2066.92 1496.73 L2081.84 1496.73 L2081.84 1499.93 L2070.4 1499.93 L2070.4 1506.82 Q2071.23 1506.53 2072.06 1506.4 Q2072.88 1506.25 2073.71 1506.25 Q2078.41 1506.25 2081.16 1508.83 Q2083.9 1511.4 2083.9 1515.81 Q2083.9 1520.34 2081.08 1522.86 Q2078.26 1525.36 2073.13 1525.36 Q2071.36 1525.36 2069.52 1525.06 Q2067.69 1524.76 2065.74 1524.16 L2065.74 1520.34 Q2067.43 1521.26 2069.23 1521.71 Q2071.04 1522.16 2073.05 1522.16 Q2076.31 1522.16 2078.21 1520.45 Q2080.11 1518.74 2080.11 1515.81 Q2080.11 1512.87 2078.21 1511.16 Q2076.31 1509.45 2073.05 1509.45 Q2071.53 1509.45 2070.01 1509.79 Q2068.5 1510.13 2066.92 1510.84 L2066.92 1496.73 Z\" fill=\"#000000\" fill-rule=\"evenodd\" fill-opacity=\"1\" /><polyline clip-path=\"url(#clip422)\" style=\"stroke:#000000; stroke-linecap:round; stroke-linejoin:round; stroke-width:2; stroke-opacity:0.1; fill:none\" points=\"239.19,1215.29 2352.76,1215.29 \"/>\n",
       "<polyline clip-path=\"url(#clip422)\" style=\"stroke:#000000; stroke-linecap:round; stroke-linejoin:round; stroke-width:2; stroke-opacity:0.1; fill:none\" points=\"239.19,933.375 2352.76,933.375 \"/>\n",
       "<polyline clip-path=\"url(#clip422)\" style=\"stroke:#000000; stroke-linecap:round; stroke-linejoin:round; stroke-width:2; stroke-opacity:0.1; fill:none\" points=\"239.19,651.456 2352.76,651.456 \"/>\n",
       "<polyline clip-path=\"url(#clip422)\" style=\"stroke:#000000; stroke-linecap:round; stroke-linejoin:round; stroke-width:2; stroke-opacity:0.1; fill:none\" points=\"239.19,369.538 2352.76,369.538 \"/>\n",
       "<polyline clip-path=\"url(#clip422)\" style=\"stroke:#000000; stroke-linecap:round; stroke-linejoin:round; stroke-width:2; stroke-opacity:0.1; fill:none\" points=\"239.19,87.6195 2352.76,87.6195 \"/>\n",
       "<polyline clip-path=\"url(#clip420)\" style=\"stroke:#000000; stroke-linecap:round; stroke-linejoin:round; stroke-width:4; stroke-opacity:1; fill:none\" points=\"239.19,1474.16 239.19,47.2441 \"/>\n",
       "<polyline clip-path=\"url(#clip420)\" style=\"stroke:#000000; stroke-linecap:round; stroke-linejoin:round; stroke-width:4; stroke-opacity:1; fill:none\" points=\"239.19,1215.29 258.088,1215.29 \"/>\n",
       "<polyline clip-path=\"url(#clip420)\" style=\"stroke:#000000; stroke-linecap:round; stroke-linejoin:round; stroke-width:4; stroke-opacity:1; fill:none\" points=\"239.19,933.375 258.088,933.375 \"/>\n",
       "<polyline clip-path=\"url(#clip420)\" style=\"stroke:#000000; stroke-linecap:round; stroke-linejoin:round; stroke-width:4; stroke-opacity:1; fill:none\" points=\"239.19,651.456 258.088,651.456 \"/>\n",
       "<polyline clip-path=\"url(#clip420)\" style=\"stroke:#000000; stroke-linecap:round; stroke-linejoin:round; stroke-width:4; stroke-opacity:1; fill:none\" points=\"239.19,369.538 258.088,369.538 \"/>\n",
       "<polyline clip-path=\"url(#clip420)\" style=\"stroke:#000000; stroke-linecap:round; stroke-linejoin:round; stroke-width:4; stroke-opacity:1; fill:none\" points=\"239.19,87.6195 258.088,87.6195 \"/>\n",
       "<path clip-path=\"url(#clip420)\" d=\"M50.9921 1215.74 L80.6679 1215.74 L80.6679 1219.68 L50.9921 1219.68 L50.9921 1215.74 Z\" fill=\"#000000\" fill-rule=\"evenodd\" fill-opacity=\"1\" /><path clip-path=\"url(#clip420)\" d=\"M100.76 1216.16 Q97.4271 1216.16 95.5058 1217.94 Q93.6076 1219.73 93.6076 1222.85 Q93.6076 1225.98 95.5058 1227.76 Q97.4271 1229.54 100.76 1229.54 Q104.094 1229.54 106.015 1227.76 Q107.936 1225.95 107.936 1222.85 Q107.936 1219.73 106.015 1217.94 Q104.117 1216.16 100.76 1216.16 M96.0845 1214.17 Q93.0752 1213.43 91.3854 1211.37 Q89.7188 1209.31 89.7188 1206.35 Q89.7188 1202.2 92.6586 1199.8 Q95.6215 1197.39 100.76 1197.39 Q105.922 1197.39 108.862 1199.8 Q111.802 1202.2 111.802 1206.35 Q111.802 1209.31 110.112 1211.37 Q108.446 1213.43 105.459 1214.17 Q108.839 1214.96 110.714 1217.25 Q112.612 1219.54 112.612 1222.85 Q112.612 1227.87 109.533 1230.56 Q106.478 1233.24 100.76 1233.24 Q95.0428 1233.24 91.9641 1230.56 Q88.9086 1227.87 88.9086 1222.85 Q88.9086 1219.54 90.8067 1217.25 Q92.7049 1214.96 96.0845 1214.17 M94.3715 1206.79 Q94.3715 1209.47 96.0382 1210.98 Q97.728 1212.48 100.76 1212.48 Q103.77 1212.48 105.459 1210.98 Q107.172 1209.47 107.172 1206.79 Q107.172 1204.1 105.459 1202.6 Q103.77 1201.09 100.76 1201.09 Q97.728 1201.09 96.0382 1202.6 Q94.3715 1204.1 94.3715 1206.79 Z\" fill=\"#000000\" fill-rule=\"evenodd\" fill-opacity=\"1\" /><path clip-path=\"url(#clip420)\" d=\"M130.922 1201.09 Q127.311 1201.09 125.482 1204.66 Q123.677 1208.2 123.677 1215.33 Q123.677 1222.43 125.482 1226 Q127.311 1229.54 130.922 1229.54 Q134.556 1229.54 136.362 1226 Q138.191 1222.43 138.191 1215.33 Q138.191 1208.2 136.362 1204.66 Q134.556 1201.09 130.922 1201.09 M130.922 1197.39 Q136.732 1197.39 139.788 1201.99 Q142.867 1206.58 142.867 1215.33 Q142.867 1224.05 139.788 1228.66 Q136.732 1233.24 130.922 1233.24 Q125.112 1233.24 122.033 1228.66 Q118.978 1224.05 118.978 1215.33 Q118.978 1206.58 122.033 1201.99 Q125.112 1197.39 130.922 1197.39 Z\" fill=\"#000000\" fill-rule=\"evenodd\" fill-opacity=\"1\" /><path clip-path=\"url(#clip420)\" d=\"M161.084 1201.09 Q157.473 1201.09 155.644 1204.66 Q153.839 1208.2 153.839 1215.33 Q153.839 1222.43 155.644 1226 Q157.473 1229.54 161.084 1229.54 Q164.718 1229.54 166.524 1226 Q168.353 1222.43 168.353 1215.33 Q168.353 1208.2 166.524 1204.66 Q164.718 1201.09 161.084 1201.09 M161.084 1197.39 Q166.894 1197.39 169.95 1201.99 Q173.029 1206.58 173.029 1215.33 Q173.029 1224.05 169.95 1228.66 Q166.894 1233.24 161.084 1233.24 Q155.274 1233.24 152.195 1228.66 Q149.14 1224.05 149.14 1215.33 Q149.14 1206.58 152.195 1201.99 Q155.274 1197.39 161.084 1197.39 Z\" fill=\"#000000\" fill-rule=\"evenodd\" fill-opacity=\"1\" /><path clip-path=\"url(#clip420)\" d=\"M191.246 1201.09 Q187.635 1201.09 185.806 1204.66 Q184.001 1208.2 184.001 1215.33 Q184.001 1222.43 185.806 1226 Q187.635 1229.54 191.246 1229.54 Q194.88 1229.54 196.686 1226 Q198.514 1222.43 198.514 1215.33 Q198.514 1208.2 196.686 1204.66 Q194.88 1201.09 191.246 1201.09 M191.246 1197.39 Q197.056 1197.39 200.112 1201.99 Q203.19 1206.58 203.19 1215.33 Q203.19 1224.05 200.112 1228.66 Q197.056 1233.24 191.246 1233.24 Q185.436 1233.24 182.357 1228.66 Q179.302 1224.05 179.302 1215.33 Q179.302 1206.58 182.357 1201.99 Q185.436 1197.39 191.246 1197.39 Z\" fill=\"#000000\" fill-rule=\"evenodd\" fill-opacity=\"1\" /><path clip-path=\"url(#clip420)\" d=\"M50.9921 933.826 L80.6679 933.826 L80.6679 937.761 L50.9921 937.761 L50.9921 933.826 Z\" fill=\"#000000\" fill-rule=\"evenodd\" fill-opacity=\"1\" /><path clip-path=\"url(#clip420)\" d=\"M101.339 931.511 Q98.1909 931.511 96.3391 933.664 Q94.5104 935.817 94.5104 939.567 Q94.5104 943.294 96.3391 945.47 Q98.1909 947.622 101.339 947.622 Q104.487 947.622 106.316 945.47 Q108.168 943.294 108.168 939.567 Q108.168 935.817 106.316 933.664 Q104.487 931.511 101.339 931.511 M110.621 916.859 L110.621 921.118 Q108.862 920.285 107.057 919.845 Q105.274 919.405 103.515 919.405 Q98.8854 919.405 96.4317 922.53 Q94.0012 925.655 93.6539 931.974 Q95.0197 929.961 97.0798 928.896 Q99.14 927.808 101.617 927.808 Q106.825 927.808 109.834 930.979 Q112.867 934.127 112.867 939.567 Q112.867 944.891 109.719 948.109 Q106.571 951.326 101.339 951.326 Q95.3437 951.326 92.1725 946.743 Q89.0012 942.136 89.0012 933.41 Q89.0012 925.215 92.89 920.354 Q96.7789 915.47 103.33 915.47 Q105.089 915.47 106.871 915.817 Q108.677 916.164 110.621 916.859 Z\" fill=\"#000000\" fill-rule=\"evenodd\" fill-opacity=\"1\" /><path clip-path=\"url(#clip420)\" d=\"M130.922 919.174 Q127.311 919.174 125.482 922.738 Q123.677 926.28 123.677 933.41 Q123.677 940.516 125.482 944.081 Q127.311 947.622 130.922 947.622 Q134.556 947.622 136.362 944.081 Q138.191 940.516 138.191 933.41 Q138.191 926.28 136.362 922.738 Q134.556 919.174 130.922 919.174 M130.922 915.47 Q136.732 915.47 139.788 920.076 Q142.867 924.66 142.867 933.41 Q142.867 942.136 139.788 946.743 Q136.732 951.326 130.922 951.326 Q125.112 951.326 122.033 946.743 Q118.978 942.136 118.978 933.41 Q118.978 924.66 122.033 920.076 Q125.112 915.47 130.922 915.47 Z\" fill=\"#000000\" fill-rule=\"evenodd\" fill-opacity=\"1\" /><path clip-path=\"url(#clip420)\" d=\"M161.084 919.174 Q157.473 919.174 155.644 922.738 Q153.839 926.28 153.839 933.41 Q153.839 940.516 155.644 944.081 Q157.473 947.622 161.084 947.622 Q164.718 947.622 166.524 944.081 Q168.353 940.516 168.353 933.41 Q168.353 926.28 166.524 922.738 Q164.718 919.174 161.084 919.174 M161.084 915.47 Q166.894 915.47 169.95 920.076 Q173.029 924.66 173.029 933.41 Q173.029 942.136 169.95 946.743 Q166.894 951.326 161.084 951.326 Q155.274 951.326 152.195 946.743 Q149.14 942.136 149.14 933.41 Q149.14 924.66 152.195 920.076 Q155.274 915.47 161.084 915.47 Z\" fill=\"#000000\" fill-rule=\"evenodd\" fill-opacity=\"1\" /><path clip-path=\"url(#clip420)\" d=\"M191.246 919.174 Q187.635 919.174 185.806 922.738 Q184.001 926.28 184.001 933.41 Q184.001 940.516 185.806 944.081 Q187.635 947.622 191.246 947.622 Q194.88 947.622 196.686 944.081 Q198.514 940.516 198.514 933.41 Q198.514 926.28 196.686 922.738 Q194.88 919.174 191.246 919.174 M191.246 915.47 Q197.056 915.47 200.112 920.076 Q203.19 924.66 203.19 933.41 Q203.19 942.136 200.112 946.743 Q197.056 951.326 191.246 951.326 Q185.436 951.326 182.357 946.743 Q179.302 942.136 179.302 933.41 Q179.302 924.66 182.357 920.076 Q185.436 915.47 191.246 915.47 Z\" fill=\"#000000\" fill-rule=\"evenodd\" fill-opacity=\"1\" /><path clip-path=\"url(#clip420)\" d=\"M50.9921 651.908 L80.6679 651.908 L80.6679 655.843 L50.9921 655.843 L50.9921 651.908 Z\" fill=\"#000000\" fill-rule=\"evenodd\" fill-opacity=\"1\" /><path clip-path=\"url(#clip420)\" d=\"M103.608 638.25 L91.8021 656.699 L103.608 656.699 L103.608 638.25 M102.381 634.176 L108.26 634.176 L108.26 656.699 L113.191 656.699 L113.191 660.588 L108.26 660.588 L108.26 668.736 L103.608 668.736 L103.608 660.588 L88.0058 660.588 L88.0058 656.074 L102.381 634.176 Z\" fill=\"#000000\" fill-rule=\"evenodd\" fill-opacity=\"1\" /><path clip-path=\"url(#clip420)\" d=\"M130.922 637.255 Q127.311 637.255 125.482 640.82 Q123.677 644.362 123.677 651.491 Q123.677 658.598 125.482 662.162 Q127.311 665.704 130.922 665.704 Q134.556 665.704 136.362 662.162 Q138.191 658.598 138.191 651.491 Q138.191 644.362 136.362 640.82 Q134.556 637.255 130.922 637.255 M130.922 633.551 Q136.732 633.551 139.788 638.158 Q142.867 642.741 142.867 651.491 Q142.867 660.218 139.788 664.824 Q136.732 669.408 130.922 669.408 Q125.112 669.408 122.033 664.824 Q118.978 660.218 118.978 651.491 Q118.978 642.741 122.033 638.158 Q125.112 633.551 130.922 633.551 Z\" fill=\"#000000\" fill-rule=\"evenodd\" fill-opacity=\"1\" /><path clip-path=\"url(#clip420)\" d=\"M161.084 637.255 Q157.473 637.255 155.644 640.82 Q153.839 644.362 153.839 651.491 Q153.839 658.598 155.644 662.162 Q157.473 665.704 161.084 665.704 Q164.718 665.704 166.524 662.162 Q168.353 658.598 168.353 651.491 Q168.353 644.362 166.524 640.82 Q164.718 637.255 161.084 637.255 M161.084 633.551 Q166.894 633.551 169.95 638.158 Q173.029 642.741 173.029 651.491 Q173.029 660.218 169.95 664.824 Q166.894 669.408 161.084 669.408 Q155.274 669.408 152.195 664.824 Q149.14 660.218 149.14 651.491 Q149.14 642.741 152.195 638.158 Q155.274 633.551 161.084 633.551 Z\" fill=\"#000000\" fill-rule=\"evenodd\" fill-opacity=\"1\" /><path clip-path=\"url(#clip420)\" d=\"M191.246 637.255 Q187.635 637.255 185.806 640.82 Q184.001 644.362 184.001 651.491 Q184.001 658.598 185.806 662.162 Q187.635 665.704 191.246 665.704 Q194.88 665.704 196.686 662.162 Q198.514 658.598 198.514 651.491 Q198.514 644.362 196.686 640.82 Q194.88 637.255 191.246 637.255 M191.246 633.551 Q197.056 633.551 200.112 638.158 Q203.19 642.741 203.19 651.491 Q203.19 660.218 200.112 664.824 Q197.056 669.408 191.246 669.408 Q185.436 669.408 182.357 664.824 Q179.302 660.218 179.302 651.491 Q179.302 642.741 182.357 638.158 Q185.436 633.551 191.246 633.551 Z\" fill=\"#000000\" fill-rule=\"evenodd\" fill-opacity=\"1\" /><path clip-path=\"url(#clip420)\" d=\"M50.9921 369.989 L80.6679 369.989 L80.6679 373.924 L50.9921 373.924 L50.9921 369.989 Z\" fill=\"#000000\" fill-rule=\"evenodd\" fill-opacity=\"1\" /><path clip-path=\"url(#clip420)\" d=\"M94.7882 382.883 L111.108 382.883 L111.108 386.818 L89.1632 386.818 L89.1632 382.883 Q91.8252 380.128 96.4085 375.499 Q101.015 370.846 102.196 369.503 Q104.441 366.98 105.321 365.244 Q106.223 363.485 106.223 361.795 Q106.223 359.04 104.279 357.304 Q102.358 355.568 99.2558 355.568 Q97.0567 355.568 94.603 356.332 Q92.1725 357.096 89.3947 358.647 L89.3947 353.925 Q92.2188 352.79 94.6724 352.212 Q97.1261 351.633 99.1632 351.633 Q104.534 351.633 107.728 354.318 Q110.922 357.003 110.922 361.494 Q110.922 363.624 110.112 365.545 Q109.325 367.443 107.219 370.036 Q106.64 370.707 103.538 373.924 Q100.436 377.119 94.7882 382.883 Z\" fill=\"#000000\" fill-rule=\"evenodd\" fill-opacity=\"1\" /><path clip-path=\"url(#clip420)\" d=\"M130.922 355.337 Q127.311 355.337 125.482 358.901 Q123.677 362.443 123.677 369.573 Q123.677 376.679 125.482 380.244 Q127.311 383.786 130.922 383.786 Q134.556 383.786 136.362 380.244 Q138.191 376.679 138.191 369.573 Q138.191 362.443 136.362 358.901 Q134.556 355.337 130.922 355.337 M130.922 351.633 Q136.732 351.633 139.788 356.239 Q142.867 360.823 142.867 369.573 Q142.867 378.299 139.788 382.906 Q136.732 387.489 130.922 387.489 Q125.112 387.489 122.033 382.906 Q118.978 378.299 118.978 369.573 Q118.978 360.823 122.033 356.239 Q125.112 351.633 130.922 351.633 Z\" fill=\"#000000\" fill-rule=\"evenodd\" fill-opacity=\"1\" /><path clip-path=\"url(#clip420)\" d=\"M161.084 355.337 Q157.473 355.337 155.644 358.901 Q153.839 362.443 153.839 369.573 Q153.839 376.679 155.644 380.244 Q157.473 383.786 161.084 383.786 Q164.718 383.786 166.524 380.244 Q168.353 376.679 168.353 369.573 Q168.353 362.443 166.524 358.901 Q164.718 355.337 161.084 355.337 M161.084 351.633 Q166.894 351.633 169.95 356.239 Q173.029 360.823 173.029 369.573 Q173.029 378.299 169.95 382.906 Q166.894 387.489 161.084 387.489 Q155.274 387.489 152.195 382.906 Q149.14 378.299 149.14 369.573 Q149.14 360.823 152.195 356.239 Q155.274 351.633 161.084 351.633 Z\" fill=\"#000000\" fill-rule=\"evenodd\" fill-opacity=\"1\" /><path clip-path=\"url(#clip420)\" d=\"M191.246 355.337 Q187.635 355.337 185.806 358.901 Q184.001 362.443 184.001 369.573 Q184.001 376.679 185.806 380.244 Q187.635 383.786 191.246 383.786 Q194.88 383.786 196.686 380.244 Q198.514 376.679 198.514 369.573 Q198.514 362.443 196.686 358.901 Q194.88 355.337 191.246 355.337 M191.246 351.633 Q197.056 351.633 200.112 356.239 Q203.19 360.823 203.19 369.573 Q203.19 378.299 200.112 382.906 Q197.056 387.489 191.246 387.489 Q185.436 387.489 182.357 382.906 Q179.302 378.299 179.302 369.573 Q179.302 360.823 182.357 356.239 Q185.436 351.633 191.246 351.633 Z\" fill=\"#000000\" fill-rule=\"evenodd\" fill-opacity=\"1\" /><path clip-path=\"url(#clip420)\" d=\"M191.246 73.4182 Q187.635 73.4182 185.806 76.983 Q184.001 80.5246 184.001 87.6542 Q184.001 94.7606 185.806 98.3254 Q187.635 101.867 191.246 101.867 Q194.88 101.867 196.686 98.3254 Q198.514 94.7606 198.514 87.6542 Q198.514 80.5246 196.686 76.983 Q194.88 73.4182 191.246 73.4182 M191.246 69.7145 Q197.056 69.7145 200.112 74.3209 Q203.19 78.9042 203.19 87.6542 Q203.19 96.381 200.112 100.987 Q197.056 105.571 191.246 105.571 Q185.436 105.571 182.357 100.987 Q179.302 96.381 179.302 87.6542 Q179.302 78.9042 182.357 74.3209 Q185.436 69.7145 191.246 69.7145 Z\" fill=\"#000000\" fill-rule=\"evenodd\" fill-opacity=\"1\" /><polyline clip-path=\"url(#clip422)\" style=\"stroke:#009af9; stroke-linecap:round; stroke-linejoin:round; stroke-width:4; stroke-opacity:1; fill:none\" points=\"299.008,87.6625 302.254,87.6415 305.499,87.6317 308.744,87.6286 311.99,87.6309 319.492,87.6676 326.994,87.8366 334.496,88.4817 341.998,90.6185 345.749,92.9443 349.5,96.7719 353.251,102.853 357.002,112.178 358.878,118.434 360.753,125.982 362.629,135.009 364.504,145.709 366.38,158.282 368.255,172.923 370.131,189.825 372.007,209.163 373.882,231.096 375.758,255.75 377.633,283.221 379.509,313.561 381.384,346.775 383.26,382.814 385.135,421.575 387.011,462.896 388.886,506.559 390.762,552.291 392.637,599.767 394.513,648.62 398.264,748.825 402.015,849.446 403.89,898.81 405.766,946.982 407.641,993.577 409.517,1038.25 411.392,1080.7 413.268,1120.69 415.144,1158.03 417.019,1192.58 418.895,1224.27 420.77,1253.09 422.646,1279.06 424.521,1302.26 426.397,1322.8 428.272,1340.82 430.148,1356.5 432.023,1370.02 434.277,1383.69 436.532,1394.87 438.786,1403.89 441.04,1411.07 443.294,1416.73 445.549,1421.12 447.803,1424.49 450.057,1427.04 454.565,1430.36 459.074,1432.12 463.582,1433.01 468.091,1433.44 486.125,1433.77 504.158,1433.78 534.653,1433.78 565.148,1433.78 631.399,1433.78 692.477,1433.78 757.959,1433.78 833.826,1433.78 901.248,1433.78 960.371,1433.78 1024.83,1433.78 1089.67,1433.78 1161.37,1433.78 1229.58,1433.78 1300.51,1433.78 1360.21,1433.78 1433.1,1433.78 1499.88,1433.78 1561.55,1433.78 1624.02,1433.78 1694.03,1433.78 1757.47,1433.78 1830.11,1433.78 1897.37,1433.78 1963.67,1433.78 2028.05,1433.78 2094.05,1433.78 2166.35,1433.78 2271.39,1433.78 2292.94,1433.78 \"/>\n",
       "<path clip-path=\"url(#clip420)\" d=\"M2018.52 198.488 L2282.3 198.488 L2282.3 94.8081 L2018.52 94.8081  Z\" fill=\"#ffffff\" fill-rule=\"evenodd\" fill-opacity=\"1\"/>\n",
       "<polyline clip-path=\"url(#clip420)\" style=\"stroke:#000000; stroke-linecap:round; stroke-linejoin:round; stroke-width:4; stroke-opacity:1; fill:none\" points=\"2018.52,198.488 2282.3,198.488 2282.3,94.8081 2018.52,94.8081 2018.52,198.488 \"/>\n",
       "<polyline clip-path=\"url(#clip420)\" style=\"stroke:#009af9; stroke-linecap:round; stroke-linejoin:round; stroke-width:4; stroke-opacity:1; fill:none\" points=\"2042,146.648 2182.91,146.648 \"/>\n",
       "<path clip-path=\"url(#clip420)\" d=\"M2220.23 166.336 Q2218.43 170.965 2216.71 172.377 Q2215 173.789 2212.13 173.789 L2208.73 173.789 L2208.73 170.224 L2211.23 170.224 Q2212.99 170.224 2213.96 169.391 Q2214.93 168.558 2216.11 165.456 L2216.88 163.511 L2206.39 138.002 L2210.9 138.002 L2219.01 158.28 L2227.11 138.002 L2231.62 138.002 L2220.23 166.336 Z\" fill=\"#000000\" fill-rule=\"evenodd\" fill-opacity=\"1\" /><path clip-path=\"url(#clip420)\" d=\"M2238.91 159.993 L2246.55 159.993 L2246.55 133.627 L2238.24 135.294 L2238.24 131.035 L2246.5 129.368 L2251.18 129.368 L2251.18 159.993 L2258.82 159.993 L2258.82 163.928 L2238.91 163.928 L2238.91 159.993 Z\" fill=\"#000000\" fill-rule=\"evenodd\" fill-opacity=\"1\" /></svg>\n"
      ]
     },
     "execution_count": 9,
     "metadata": {},
     "output_type": "execute_result"
    }
   ],
   "source": [
    "hS_pf = uMax/100\n",
    "F_ϕ(x) = (phiMin - phiMaxApp) * interval(x,-4*hS_pf+uMin,uTran2_EP)\n",
    "wₕ(x,x₁) = (1/(sqrt(2*pi)*hS_pf))*exp(-(x-x₁)^2/(2*hS_pf^2))\n",
    "smoothϕ = SymPy.integrate(F_ϕ(x₁)*wₕ(x,x₁),(x₁,-4*hS_pf,uMax)) +  phiMaxApp\n",
    "plot(smoothϕ,0,uMax)"
   ]
  },
  {
   "cell_type": "code",
   "execution_count": 10,
   "id": "3cc7309f",
   "metadata": {},
   "outputs": [
    {
     "data": {
      "image/svg+xml": [
       "<?xml version=\"1.0\" encoding=\"utf-8\"?>\n",
       "<svg xmlns=\"http://www.w3.org/2000/svg\" xmlns:xlink=\"http://www.w3.org/1999/xlink\" width=\"600\" height=\"400\" viewBox=\"0 0 2400 1600\">\n",
       "<defs>\n",
       "  <clipPath id=\"clip460\">\n",
       "    <rect x=\"0\" y=\"0\" width=\"2400\" height=\"1600\"/>\n",
       "  </clipPath>\n",
       "</defs>\n",
       "<path clip-path=\"url(#clip460)\" d=\"M0 1600 L2400 1600 L2400 0 L0 0  Z\" fill=\"#ffffff\" fill-rule=\"evenodd\" fill-opacity=\"1\"/>\n",
       "<defs>\n",
       "  <clipPath id=\"clip461\">\n",
       "    <rect x=\"480\" y=\"0\" width=\"1681\" height=\"1600\"/>\n",
       "  </clipPath>\n",
       "</defs>\n",
       "<path clip-path=\"url(#clip460)\" d=\"M186.274 1474.16 L2352.76 1474.16 L2352.76 47.2441 L186.274 47.2441  Z\" fill=\"#ffffff\" fill-rule=\"evenodd\" fill-opacity=\"1\"/>\n",
       "<defs>\n",
       "  <clipPath id=\"clip462\">\n",
       "    <rect x=\"186\" y=\"47\" width=\"2167\" height=\"1428\"/>\n",
       "  </clipPath>\n",
       "</defs>\n",
       "<polyline clip-path=\"url(#clip462)\" style=\"stroke:#000000; stroke-linecap:round; stroke-linejoin:round; stroke-width:2; stroke-opacity:0.1; fill:none\" points=\"247.59,1474.16 247.59,47.2441 \"/>\n",
       "<polyline clip-path=\"url(#clip462)\" style=\"stroke:#000000; stroke-linecap:round; stroke-linejoin:round; stroke-width:2; stroke-opacity:0.1; fill:none\" points=\"815.326,1474.16 815.326,47.2441 \"/>\n",
       "<polyline clip-path=\"url(#clip462)\" style=\"stroke:#000000; stroke-linecap:round; stroke-linejoin:round; stroke-width:2; stroke-opacity:0.1; fill:none\" points=\"1383.06,1474.16 1383.06,47.2441 \"/>\n",
       "<polyline clip-path=\"url(#clip462)\" style=\"stroke:#000000; stroke-linecap:round; stroke-linejoin:round; stroke-width:2; stroke-opacity:0.1; fill:none\" points=\"1950.8,1474.16 1950.8,47.2441 \"/>\n",
       "<polyline clip-path=\"url(#clip460)\" style=\"stroke:#000000; stroke-linecap:round; stroke-linejoin:round; stroke-width:4; stroke-opacity:1; fill:none\" points=\"186.274,1474.16 2352.76,1474.16 \"/>\n",
       "<polyline clip-path=\"url(#clip460)\" style=\"stroke:#000000; stroke-linecap:round; stroke-linejoin:round; stroke-width:4; stroke-opacity:1; fill:none\" points=\"247.59,1474.16 247.59,1455.27 \"/>\n",
       "<polyline clip-path=\"url(#clip460)\" style=\"stroke:#000000; stroke-linecap:round; stroke-linejoin:round; stroke-width:4; stroke-opacity:1; fill:none\" points=\"815.326,1474.16 815.326,1455.27 \"/>\n",
       "<polyline clip-path=\"url(#clip460)\" style=\"stroke:#000000; stroke-linecap:round; stroke-linejoin:round; stroke-width:4; stroke-opacity:1; fill:none\" points=\"1383.06,1474.16 1383.06,1455.27 \"/>\n",
       "<polyline clip-path=\"url(#clip460)\" style=\"stroke:#000000; stroke-linecap:round; stroke-linejoin:round; stroke-width:4; stroke-opacity:1; fill:none\" points=\"1950.8,1474.16 1950.8,1455.27 \"/>\n",
       "<path clip-path=\"url(#clip460)\" d=\"M247.59 1505.08 Q243.978 1505.08 242.15 1508.65 Q240.344 1512.19 240.344 1519.32 Q240.344 1526.43 242.15 1529.99 Q243.978 1533.53 247.59 1533.53 Q251.224 1533.53 253.029 1529.99 Q254.858 1526.43 254.858 1519.32 Q254.858 1512.19 253.029 1508.65 Q251.224 1505.08 247.59 1505.08 M247.59 1501.38 Q253.4 1501.38 256.455 1505.99 Q259.534 1510.57 259.534 1519.32 Q259.534 1528.05 256.455 1532.65 Q253.4 1537.24 247.59 1537.24 Q241.779 1537.24 238.701 1532.65 Q235.645 1528.05 235.645 1519.32 Q235.645 1510.57 238.701 1505.99 Q241.779 1501.38 247.59 1501.38 Z\" fill=\"#000000\" fill-rule=\"evenodd\" fill-opacity=\"1\" /><path clip-path=\"url(#clip460)\" d=\"M692.25 1517.66 L710.606 1517.66 L710.606 1521.6 L696.532 1521.6 L696.532 1530.07 Q697.551 1529.72 698.569 1529.56 Q699.588 1529.38 700.606 1529.38 Q706.393 1529.38 709.773 1532.55 Q713.153 1535.72 713.153 1541.14 Q713.153 1546.72 709.68 1549.82 Q706.208 1552.9 699.889 1552.9 Q697.713 1552.9 695.444 1552.53 Q693.199 1552.16 690.792 1551.41 L690.792 1546.72 Q692.875 1547.85 695.097 1548.41 Q697.319 1548.96 699.796 1548.96 Q703.801 1548.96 706.139 1546.85 Q708.477 1544.75 708.477 1541.14 Q708.477 1537.53 706.139 1535.42 Q703.801 1533.31 699.796 1533.31 Q697.921 1533.31 696.046 1533.73 Q694.194 1534.15 692.25 1535.03 L692.25 1517.66 Z\" fill=\"#000000\" fill-rule=\"evenodd\" fill-opacity=\"1\" /><path clip-path=\"url(#clip460)\" d=\"M722.366 1546.35 L727.25 1546.35 L727.25 1552.22 L722.366 1552.22 L722.366 1546.35 Z\" fill=\"#000000\" fill-rule=\"evenodd\" fill-opacity=\"1\" /><path clip-path=\"url(#clip460)\" d=\"M747.435 1520.74 Q743.824 1520.74 741.995 1524.31 Q740.19 1527.85 740.19 1534.98 Q740.19 1542.09 741.995 1545.65 Q743.824 1549.19 747.435 1549.19 Q751.069 1549.19 752.875 1545.65 Q754.703 1542.09 754.703 1534.98 Q754.703 1527.85 752.875 1524.31 Q751.069 1520.74 747.435 1520.74 M747.435 1517.04 Q753.245 1517.04 756.301 1521.65 Q759.379 1526.23 759.379 1534.98 Q759.379 1543.71 756.301 1548.31 Q753.245 1552.9 747.435 1552.9 Q741.625 1552.9 738.546 1548.31 Q735.491 1543.71 735.491 1534.98 Q735.491 1526.23 738.546 1521.65 Q741.625 1517.04 747.435 1517.04 Z\" fill=\"#000000\" fill-rule=\"evenodd\" fill-opacity=\"1\" /><path clip-path=\"url(#clip460)\" d=\"M777.597 1520.74 Q773.986 1520.74 772.157 1524.31 Q770.351 1527.85 770.351 1534.98 Q770.351 1542.09 772.157 1545.65 Q773.986 1549.19 777.597 1549.19 Q781.231 1549.19 783.037 1545.65 Q784.865 1542.09 784.865 1534.98 Q784.865 1527.85 783.037 1524.31 Q781.231 1520.74 777.597 1520.74 M777.597 1517.04 Q783.407 1517.04 786.462 1521.65 Q789.541 1526.23 789.541 1534.98 Q789.541 1543.71 786.462 1548.31 Q783.407 1552.9 777.597 1552.9 Q771.787 1552.9 768.708 1548.31 Q765.652 1543.71 765.652 1534.98 Q765.652 1526.23 768.708 1521.65 Q771.787 1517.04 777.597 1517.04 Z\" fill=\"#000000\" fill-rule=\"evenodd\" fill-opacity=\"1\" /><path clip-path=\"url(#clip460)\" d=\"M825.93 1526.76 L815.351 1537.39 L825.93 1547.97 L823.175 1550.77 L812.55 1540.14 L801.925 1550.77 L799.194 1547.97 L809.749 1537.39 L799.194 1526.76 L801.925 1523.96 L812.55 1534.59 L823.175 1523.96 L825.93 1526.76 Z\" fill=\"#000000\" fill-rule=\"evenodd\" fill-opacity=\"1\" /><path clip-path=\"url(#clip460)\" d=\"M838.291 1548.29 L845.93 1548.29 L845.93 1521.92 L837.62 1523.59 L837.62 1519.33 L845.883 1517.66 L850.559 1517.66 L850.559 1548.29 L858.198 1548.29 L858.198 1552.22 L838.291 1552.22 L838.291 1548.29 Z\" fill=\"#000000\" fill-rule=\"evenodd\" fill-opacity=\"1\" /><path clip-path=\"url(#clip460)\" d=\"M877.643 1520.74 Q874.031 1520.74 872.203 1524.31 Q870.397 1527.85 870.397 1534.98 Q870.397 1542.09 872.203 1545.65 Q874.031 1549.19 877.643 1549.19 Q881.277 1549.19 883.082 1545.65 Q884.911 1542.09 884.911 1534.98 Q884.911 1527.85 883.082 1524.31 Q881.277 1520.74 877.643 1520.74 M877.643 1517.04 Q883.453 1517.04 886.508 1521.65 Q889.587 1526.23 889.587 1534.98 Q889.587 1543.71 886.508 1548.31 Q883.453 1552.9 877.643 1552.9 Q871.832 1552.9 868.754 1548.31 Q865.698 1543.71 865.698 1534.98 Q865.698 1526.23 868.754 1521.65 Q871.832 1517.04 877.643 1517.04 Z\" fill=\"#000000\" fill-rule=\"evenodd\" fill-opacity=\"1\" /><path clip-path=\"url(#clip460)\" d=\"M889.587 1511.14 L913.698 1511.14 L913.698 1514.34 L889.587 1514.34 L889.587 1511.14 Z\" fill=\"#000000\" fill-rule=\"evenodd\" fill-opacity=\"1\" /><path clip-path=\"url(#clip460)\" d=\"M930.494 1509.26 Q927.936 1509.26 926.431 1511.01 Q924.946 1512.76 924.946 1515.81 Q924.946 1518.83 926.431 1520.6 Q927.936 1522.35 930.494 1522.35 Q933.052 1522.35 934.537 1520.6 Q936.042 1518.83 936.042 1515.81 Q936.042 1512.76 934.537 1511.01 Q933.052 1509.26 930.494 1509.26 M938.036 1497.35 L938.036 1500.82 Q936.606 1500.14 935.139 1499.78 Q933.691 1499.42 932.262 1499.42 Q928.5 1499.42 926.507 1501.96 Q924.532 1504.5 924.25 1509.64 Q925.359 1508 927.033 1507.13 Q928.707 1506.25 930.719 1506.25 Q934.951 1506.25 937.396 1508.83 Q939.86 1511.39 939.86 1515.81 Q939.86 1520.13 937.302 1522.75 Q934.744 1525.36 930.494 1525.36 Q925.623 1525.36 923.046 1521.64 Q920.469 1517.89 920.469 1510.8 Q920.469 1504.14 923.629 1500.19 Q926.789 1496.23 932.111 1496.23 Q933.541 1496.23 934.989 1496.51 Q936.456 1496.79 938.036 1497.35 Z\" fill=\"#000000\" fill-rule=\"evenodd\" fill-opacity=\"1\" /><path clip-path=\"url(#clip460)\" d=\"M1260.44 1548.29 L1268.08 1548.29 L1268.08 1521.92 L1259.77 1523.59 L1259.77 1519.33 L1268.04 1517.66 L1272.71 1517.66 L1272.71 1548.29 L1280.35 1548.29 L1280.35 1552.22 L1260.44 1552.22 L1260.44 1548.29 Z\" fill=\"#000000\" fill-rule=\"evenodd\" fill-opacity=\"1\" /><path clip-path=\"url(#clip460)\" d=\"M1289.8 1546.35 L1294.68 1546.35 L1294.68 1552.22 L1289.8 1552.22 L1289.8 1546.35 Z\" fill=\"#000000\" fill-rule=\"evenodd\" fill-opacity=\"1\" /><path clip-path=\"url(#clip460)\" d=\"M1314.87 1520.74 Q1311.25 1520.74 1309.43 1524.31 Q1307.62 1527.85 1307.62 1534.98 Q1307.62 1542.09 1309.43 1545.65 Q1311.25 1549.19 1314.87 1549.19 Q1318.5 1549.19 1320.31 1545.65 Q1322.13 1542.09 1322.13 1534.98 Q1322.13 1527.85 1320.31 1524.31 Q1318.5 1520.74 1314.87 1520.74 M1314.87 1517.04 Q1320.68 1517.04 1323.73 1521.65 Q1326.81 1526.23 1326.81 1534.98 Q1326.81 1543.71 1323.73 1548.31 Q1320.68 1552.9 1314.87 1552.9 Q1309.06 1552.9 1305.98 1548.31 Q1302.92 1543.71 1302.92 1534.98 Q1302.92 1526.23 1305.98 1521.65 Q1309.06 1517.04 1314.87 1517.04 Z\" fill=\"#000000\" fill-rule=\"evenodd\" fill-opacity=\"1\" /><path clip-path=\"url(#clip460)\" d=\"M1345.03 1520.74 Q1341.42 1520.74 1339.59 1524.31 Q1337.78 1527.85 1337.78 1534.98 Q1337.78 1542.09 1339.59 1545.65 Q1341.42 1549.19 1345.03 1549.19 Q1348.66 1549.19 1350.47 1545.65 Q1352.3 1542.09 1352.3 1534.98 Q1352.3 1527.85 1350.47 1524.31 Q1348.66 1520.74 1345.03 1520.74 M1345.03 1517.04 Q1350.84 1517.04 1353.89 1521.65 Q1356.97 1526.23 1356.97 1534.98 Q1356.97 1543.71 1353.89 1548.31 Q1350.84 1552.9 1345.03 1552.9 Q1339.22 1552.9 1336.14 1548.31 Q1333.08 1543.71 1333.08 1534.98 Q1333.08 1526.23 1336.14 1521.65 Q1339.22 1517.04 1345.03 1517.04 Z\" fill=\"#000000\" fill-rule=\"evenodd\" fill-opacity=\"1\" /><path clip-path=\"url(#clip460)\" d=\"M1393.36 1526.76 L1382.78 1537.39 L1393.36 1547.97 L1390.61 1550.77 L1379.98 1540.14 L1369.36 1550.77 L1366.62 1547.97 L1377.18 1537.39 L1366.62 1526.76 L1369.36 1523.96 L1379.98 1534.59 L1390.61 1523.96 L1393.36 1526.76 Z\" fill=\"#000000\" fill-rule=\"evenodd\" fill-opacity=\"1\" /><path clip-path=\"url(#clip460)\" d=\"M1405.72 1548.29 L1413.36 1548.29 L1413.36 1521.92 L1405.05 1523.59 L1405.05 1519.33 L1413.31 1517.66 L1417.99 1517.66 L1417.99 1548.29 L1425.63 1548.29 L1425.63 1552.22 L1405.72 1552.22 L1405.72 1548.29 Z\" fill=\"#000000\" fill-rule=\"evenodd\" fill-opacity=\"1\" /><path clip-path=\"url(#clip460)\" d=\"M1445.07 1520.74 Q1441.46 1520.74 1439.63 1524.31 Q1437.83 1527.85 1437.83 1534.98 Q1437.83 1542.09 1439.63 1545.65 Q1441.46 1549.19 1445.07 1549.19 Q1448.71 1549.19 1450.51 1545.65 Q1452.34 1542.09 1452.34 1534.98 Q1452.34 1527.85 1450.51 1524.31 Q1448.71 1520.74 1445.07 1520.74 M1445.07 1517.04 Q1450.88 1517.04 1453.94 1521.65 Q1457.02 1526.23 1457.02 1534.98 Q1457.02 1543.71 1453.94 1548.31 Q1450.88 1552.9 1445.07 1552.9 Q1439.26 1552.9 1436.18 1548.31 Q1433.13 1543.71 1433.13 1534.98 Q1433.13 1526.23 1436.18 1521.65 Q1439.26 1517.04 1445.07 1517.04 Z\" fill=\"#000000\" fill-rule=\"evenodd\" fill-opacity=\"1\" /><path clip-path=\"url(#clip460)\" d=\"M1457.02 1511.14 L1481.13 1511.14 L1481.13 1514.34 L1457.02 1514.34 L1457.02 1511.14 Z\" fill=\"#000000\" fill-rule=\"evenodd\" fill-opacity=\"1\" /><path clip-path=\"url(#clip460)\" d=\"M1489.37 1496.73 L1504.28 1496.73 L1504.28 1499.93 L1492.85 1499.93 L1492.85 1506.82 Q1493.67 1506.53 1494.5 1506.4 Q1495.33 1506.25 1496.16 1506.25 Q1500.86 1506.25 1503.6 1508.83 Q1506.35 1511.4 1506.35 1515.81 Q1506.35 1520.34 1503.53 1522.86 Q1500.71 1525.36 1495.57 1525.36 Q1493.81 1525.36 1491.96 1525.06 Q1490.14 1524.76 1488.18 1524.16 L1488.18 1520.34 Q1489.88 1521.26 1491.68 1521.71 Q1493.49 1522.16 1495.5 1522.16 Q1498.75 1522.16 1500.65 1520.45 Q1502.55 1518.74 1502.55 1515.81 Q1502.55 1512.87 1500.65 1511.16 Q1498.75 1509.45 1495.5 1509.45 Q1493.98 1509.45 1492.45 1509.79 Q1490.95 1510.13 1489.37 1510.84 L1489.37 1496.73 Z\" fill=\"#000000\" fill-rule=\"evenodd\" fill-opacity=\"1\" /><path clip-path=\"url(#clip460)\" d=\"M1828.18 1548.29 L1835.82 1548.29 L1835.82 1521.92 L1827.51 1523.59 L1827.51 1519.33 L1835.77 1517.66 L1840.45 1517.66 L1840.45 1548.29 L1848.09 1548.29 L1848.09 1552.22 L1828.18 1552.22 L1828.18 1548.29 Z\" fill=\"#000000\" fill-rule=\"evenodd\" fill-opacity=\"1\" /><path clip-path=\"url(#clip460)\" d=\"M1857.53 1546.35 L1862.42 1546.35 L1862.42 1552.22 L1857.53 1552.22 L1857.53 1546.35 Z\" fill=\"#000000\" fill-rule=\"evenodd\" fill-opacity=\"1\" /><path clip-path=\"url(#clip460)\" d=\"M1872.65 1517.66 L1891.01 1517.66 L1891.01 1521.6 L1876.93 1521.6 L1876.93 1530.07 Q1877.95 1529.72 1878.97 1529.56 Q1879.99 1529.38 1881.01 1529.38 Q1886.79 1529.38 1890.17 1532.55 Q1893.55 1535.72 1893.55 1541.14 Q1893.55 1546.72 1890.08 1549.82 Q1886.61 1552.9 1880.29 1552.9 Q1878.11 1552.9 1875.84 1552.53 Q1873.6 1552.16 1871.19 1551.41 L1871.19 1546.72 Q1873.27 1547.85 1875.5 1548.41 Q1877.72 1548.96 1880.19 1548.96 Q1884.2 1548.96 1886.54 1546.85 Q1888.88 1544.75 1888.88 1541.14 Q1888.88 1537.53 1886.54 1535.42 Q1884.2 1533.31 1880.19 1533.31 Q1878.32 1533.31 1876.44 1533.73 Q1874.59 1534.15 1872.65 1535.03 L1872.65 1517.66 Z\" fill=\"#000000\" fill-rule=\"evenodd\" fill-opacity=\"1\" /><path clip-path=\"url(#clip460)\" d=\"M1912.76 1520.74 Q1909.15 1520.74 1907.32 1524.31 Q1905.52 1527.85 1905.52 1534.98 Q1905.52 1542.09 1907.32 1545.65 Q1909.15 1549.19 1912.76 1549.19 Q1916.4 1549.19 1918.2 1545.65 Q1920.03 1542.09 1920.03 1534.98 Q1920.03 1527.85 1918.2 1524.31 Q1916.4 1520.74 1912.76 1520.74 M1912.76 1517.04 Q1918.57 1517.04 1921.63 1521.65 Q1924.71 1526.23 1924.71 1534.98 Q1924.71 1543.71 1921.63 1548.31 Q1918.57 1552.9 1912.76 1552.9 Q1906.95 1552.9 1903.88 1548.31 Q1900.82 1543.71 1900.82 1534.98 Q1900.82 1526.23 1903.88 1521.65 Q1906.95 1517.04 1912.76 1517.04 Z\" fill=\"#000000\" fill-rule=\"evenodd\" fill-opacity=\"1\" /><path clip-path=\"url(#clip460)\" d=\"M1961.1 1526.76 L1950.52 1537.39 L1961.1 1547.97 L1958.34 1550.77 L1947.72 1540.14 L1937.09 1550.77 L1934.36 1547.97 L1944.92 1537.39 L1934.36 1526.76 L1937.09 1523.96 L1947.72 1534.59 L1958.34 1523.96 L1961.1 1526.76 Z\" fill=\"#000000\" fill-rule=\"evenodd\" fill-opacity=\"1\" /><path clip-path=\"url(#clip460)\" d=\"M1973.46 1548.29 L1981.1 1548.29 L1981.1 1521.92 L1972.79 1523.59 L1972.79 1519.33 L1981.05 1517.66 L1985.73 1517.66 L1985.73 1548.29 L1993.37 1548.29 L1993.37 1552.22 L1973.46 1552.22 L1973.46 1548.29 Z\" fill=\"#000000\" fill-rule=\"evenodd\" fill-opacity=\"1\" /><path clip-path=\"url(#clip460)\" d=\"M2012.81 1520.74 Q2009.2 1520.74 2007.37 1524.31 Q2005.56 1527.85 2005.56 1534.98 Q2005.56 1542.09 2007.37 1545.65 Q2009.2 1549.19 2012.81 1549.19 Q2016.44 1549.19 2018.25 1545.65 Q2020.08 1542.09 2020.08 1534.98 Q2020.08 1527.85 2018.25 1524.31 Q2016.44 1520.74 2012.81 1520.74 M2012.81 1517.04 Q2018.62 1517.04 2021.68 1521.65 Q2024.75 1526.23 2024.75 1534.98 Q2024.75 1543.71 2021.68 1548.31 Q2018.62 1552.9 2012.81 1552.9 Q2007 1552.9 2003.92 1548.31 Q2000.87 1543.71 2000.87 1534.98 Q2000.87 1526.23 2003.92 1521.65 Q2007 1517.04 2012.81 1517.04 Z\" fill=\"#000000\" fill-rule=\"evenodd\" fill-opacity=\"1\" /><path clip-path=\"url(#clip460)\" d=\"M2024.75 1511.14 L2048.87 1511.14 L2048.87 1514.34 L2024.75 1514.34 L2024.75 1511.14 Z\" fill=\"#000000\" fill-rule=\"evenodd\" fill-opacity=\"1\" /><path clip-path=\"url(#clip460)\" d=\"M2057.1 1496.73 L2072.02 1496.73 L2072.02 1499.93 L2060.58 1499.93 L2060.58 1506.82 Q2061.41 1506.53 2062.24 1506.4 Q2063.07 1506.25 2063.89 1506.25 Q2068.6 1506.25 2071.34 1508.83 Q2074.09 1511.4 2074.09 1515.81 Q2074.09 1520.34 2071.27 1522.86 Q2068.44 1525.36 2063.31 1525.36 Q2061.54 1525.36 2059.7 1525.06 Q2057.87 1524.76 2055.92 1524.16 L2055.92 1520.34 Q2057.61 1521.26 2059.42 1521.71 Q2061.22 1522.16 2063.24 1522.16 Q2066.49 1522.16 2068.39 1520.45 Q2070.29 1518.74 2070.29 1515.81 Q2070.29 1512.87 2068.39 1511.16 Q2066.49 1509.45 2063.24 1509.45 Q2061.71 1509.45 2060.19 1509.79 Q2058.68 1510.13 2057.1 1510.84 L2057.1 1496.73 Z\" fill=\"#000000\" fill-rule=\"evenodd\" fill-opacity=\"1\" /><polyline clip-path=\"url(#clip462)\" style=\"stroke:#000000; stroke-linecap:round; stroke-linejoin:round; stroke-width:2; stroke-opacity:0.1; fill:none\" points=\"186.274,1433.78 2352.76,1433.78 \"/>\n",
       "<polyline clip-path=\"url(#clip462)\" style=\"stroke:#000000; stroke-linecap:round; stroke-linejoin:round; stroke-width:2; stroke-opacity:0.1; fill:none\" points=\"186.274,1097.24 2352.76,1097.24 \"/>\n",
       "<polyline clip-path=\"url(#clip462)\" style=\"stroke:#000000; stroke-linecap:round; stroke-linejoin:round; stroke-width:2; stroke-opacity:0.1; fill:none\" points=\"186.274,760.704 2352.76,760.704 \"/>\n",
       "<polyline clip-path=\"url(#clip462)\" style=\"stroke:#000000; stroke-linecap:round; stroke-linejoin:round; stroke-width:2; stroke-opacity:0.1; fill:none\" points=\"186.274,424.167 2352.76,424.167 \"/>\n",
       "<polyline clip-path=\"url(#clip462)\" style=\"stroke:#000000; stroke-linecap:round; stroke-linejoin:round; stroke-width:2; stroke-opacity:0.1; fill:none\" points=\"186.274,87.6286 2352.76,87.6286 \"/>\n",
       "<polyline clip-path=\"url(#clip460)\" style=\"stroke:#000000; stroke-linecap:round; stroke-linejoin:round; stroke-width:4; stroke-opacity:1; fill:none\" points=\"186.274,1474.16 186.274,47.2441 \"/>\n",
       "<polyline clip-path=\"url(#clip460)\" style=\"stroke:#000000; stroke-linecap:round; stroke-linejoin:round; stroke-width:4; stroke-opacity:1; fill:none\" points=\"186.274,1433.78 205.172,1433.78 \"/>\n",
       "<polyline clip-path=\"url(#clip460)\" style=\"stroke:#000000; stroke-linecap:round; stroke-linejoin:round; stroke-width:4; stroke-opacity:1; fill:none\" points=\"186.274,1097.24 205.172,1097.24 \"/>\n",
       "<polyline clip-path=\"url(#clip460)\" style=\"stroke:#000000; stroke-linecap:round; stroke-linejoin:round; stroke-width:4; stroke-opacity:1; fill:none\" points=\"186.274,760.704 205.172,760.704 \"/>\n",
       "<polyline clip-path=\"url(#clip460)\" style=\"stroke:#000000; stroke-linecap:round; stroke-linejoin:round; stroke-width:4; stroke-opacity:1; fill:none\" points=\"186.274,424.167 205.172,424.167 \"/>\n",
       "<polyline clip-path=\"url(#clip460)\" style=\"stroke:#000000; stroke-linecap:round; stroke-linejoin:round; stroke-width:4; stroke-opacity:1; fill:none\" points=\"186.274,87.6286 205.172,87.6286 \"/>\n",
       "<path clip-path=\"url(#clip460)\" d=\"M62.9365 1419.58 Q59.3254 1419.58 57.4967 1423.14 Q55.6912 1426.69 55.6912 1433.81 Q55.6912 1440.92 57.4967 1444.49 Q59.3254 1448.03 62.9365 1448.03 Q66.5707 1448.03 68.3763 1444.49 Q70.205 1440.92 70.205 1433.81 Q70.205 1426.69 68.3763 1423.14 Q66.5707 1419.58 62.9365 1419.58 M62.9365 1415.88 Q68.7467 1415.88 71.8022 1420.48 Q74.8809 1425.06 74.8809 1433.81 Q74.8809 1442.54 71.8022 1447.15 Q68.7467 1451.73 62.9365 1451.73 Q57.1264 1451.73 54.0477 1447.15 Q50.9921 1442.54 50.9921 1433.81 Q50.9921 1425.06 54.0477 1420.48 Q57.1264 1415.88 62.9365 1415.88 Z\" fill=\"#000000\" fill-rule=\"evenodd\" fill-opacity=\"1\" /><path clip-path=\"url(#clip460)\" d=\"M83.0984 1445.18 L87.9827 1445.18 L87.9827 1451.06 L83.0984 1451.06 L83.0984 1445.18 Z\" fill=\"#000000\" fill-rule=\"evenodd\" fill-opacity=\"1\" /><path clip-path=\"url(#clip460)\" d=\"M108.168 1419.58 Q104.557 1419.58 102.728 1423.14 Q100.922 1426.69 100.922 1433.81 Q100.922 1440.92 102.728 1444.49 Q104.557 1448.03 108.168 1448.03 Q111.802 1448.03 113.608 1444.49 Q115.436 1440.92 115.436 1433.81 Q115.436 1426.69 113.608 1423.14 Q111.802 1419.58 108.168 1419.58 M108.168 1415.88 Q113.978 1415.88 117.033 1420.48 Q120.112 1425.06 120.112 1433.81 Q120.112 1442.54 117.033 1447.15 Q113.978 1451.73 108.168 1451.73 Q102.358 1451.73 99.2789 1447.15 Q96.2234 1442.54 96.2234 1433.81 Q96.2234 1425.06 99.2789 1420.48 Q102.358 1415.88 108.168 1415.88 Z\" fill=\"#000000\" fill-rule=\"evenodd\" fill-opacity=\"1\" /><path clip-path=\"url(#clip460)\" d=\"M138.33 1419.58 Q134.719 1419.58 132.89 1423.14 Q131.084 1426.69 131.084 1433.81 Q131.084 1440.92 132.89 1444.49 Q134.719 1448.03 138.33 1448.03 Q141.964 1448.03 143.769 1444.49 Q145.598 1440.92 145.598 1433.81 Q145.598 1426.69 143.769 1423.14 Q141.964 1419.58 138.33 1419.58 M138.33 1415.88 Q144.14 1415.88 147.195 1420.48 Q150.274 1425.06 150.274 1433.81 Q150.274 1442.54 147.195 1447.15 Q144.14 1451.73 138.33 1451.73 Q132.519 1451.73 129.441 1447.15 Q126.385 1442.54 126.385 1433.81 Q126.385 1425.06 129.441 1420.48 Q132.519 1415.88 138.33 1415.88 Z\" fill=\"#000000\" fill-rule=\"evenodd\" fill-opacity=\"1\" /><path clip-path=\"url(#clip460)\" d=\"M63.9319 1083.04 Q60.3208 1083.04 58.4921 1086.61 Q56.6865 1090.15 56.6865 1097.28 Q56.6865 1104.38 58.4921 1107.95 Q60.3208 1111.49 63.9319 1111.49 Q67.5661 1111.49 69.3717 1107.95 Q71.2004 1104.38 71.2004 1097.28 Q71.2004 1090.15 69.3717 1086.61 Q67.5661 1083.04 63.9319 1083.04 M63.9319 1079.34 Q69.742 1079.34 72.7976 1083.94 Q75.8763 1088.53 75.8763 1097.28 Q75.8763 1106 72.7976 1110.61 Q69.742 1115.19 63.9319 1115.19 Q58.1217 1115.19 55.043 1110.61 Q51.9875 1106 51.9875 1097.28 Q51.9875 1088.53 55.043 1083.94 Q58.1217 1079.34 63.9319 1079.34 Z\" fill=\"#000000\" fill-rule=\"evenodd\" fill-opacity=\"1\" /><path clip-path=\"url(#clip460)\" d=\"M84.0938 1108.64 L88.978 1108.64 L88.978 1114.52 L84.0938 1114.52 L84.0938 1108.64 Z\" fill=\"#000000\" fill-rule=\"evenodd\" fill-opacity=\"1\" /><path clip-path=\"url(#clip460)\" d=\"M103.191 1110.59 L119.51 1110.59 L119.51 1114.52 L97.566 1114.52 L97.566 1110.59 Q100.228 1107.83 104.811 1103.2 Q109.418 1098.55 110.598 1097.21 Q112.844 1094.68 113.723 1092.95 Q114.626 1091.19 114.626 1089.5 Q114.626 1086.74 112.682 1085.01 Q110.76 1083.27 107.658 1083.27 Q105.459 1083.27 103.006 1084.04 Q100.575 1084.8 97.7974 1086.35 L97.7974 1081.63 Q100.621 1080.49 103.075 1079.92 Q105.529 1079.34 107.566 1079.34 Q112.936 1079.34 116.131 1082.02 Q119.325 1084.71 119.325 1089.2 Q119.325 1091.33 118.515 1093.25 Q117.728 1095.15 115.621 1097.74 Q115.043 1098.41 111.941 1101.63 Q108.839 1104.82 103.191 1110.59 Z\" fill=\"#000000\" fill-rule=\"evenodd\" fill-opacity=\"1\" /><path clip-path=\"url(#clip460)\" d=\"M129.371 1079.96 L147.728 1079.96 L147.728 1083.9 L133.654 1083.9 L133.654 1092.37 Q134.672 1092.02 135.691 1091.86 Q136.709 1091.68 137.728 1091.68 Q143.515 1091.68 146.894 1094.85 Q150.274 1098.02 150.274 1103.43 Q150.274 1109.01 146.802 1112.11 Q143.33 1115.19 137.01 1115.19 Q134.834 1115.19 132.566 1114.82 Q130.32 1114.45 127.913 1113.71 L127.913 1109.01 Q129.996 1110.15 132.219 1110.7 Q134.441 1111.26 136.918 1111.26 Q140.922 1111.26 143.26 1109.15 Q145.598 1107.05 145.598 1103.43 Q145.598 1099.82 143.26 1097.72 Q140.922 1095.61 136.918 1095.61 Q135.043 1095.61 133.168 1096.03 Q131.316 1096.44 129.371 1097.32 L129.371 1079.96 Z\" fill=\"#000000\" fill-rule=\"evenodd\" fill-opacity=\"1\" /><path clip-path=\"url(#clip460)\" d=\"M62.9365 746.503 Q59.3254 746.503 57.4967 750.068 Q55.6912 753.61 55.6912 760.739 Q55.6912 767.846 57.4967 771.41 Q59.3254 774.952 62.9365 774.952 Q66.5707 774.952 68.3763 771.41 Q70.205 767.846 70.205 760.739 Q70.205 753.61 68.3763 750.068 Q66.5707 746.503 62.9365 746.503 M62.9365 742.799 Q68.7467 742.799 71.8022 747.406 Q74.8809 751.989 74.8809 760.739 Q74.8809 769.466 71.8022 774.072 Q68.7467 778.656 62.9365 778.656 Q57.1264 778.656 54.0477 774.072 Q50.9921 769.466 50.9921 760.739 Q50.9921 751.989 54.0477 747.406 Q57.1264 742.799 62.9365 742.799 Z\" fill=\"#000000\" fill-rule=\"evenodd\" fill-opacity=\"1\" /><path clip-path=\"url(#clip460)\" d=\"M83.0984 772.105 L87.9827 772.105 L87.9827 777.984 L83.0984 777.984 L83.0984 772.105 Z\" fill=\"#000000\" fill-rule=\"evenodd\" fill-opacity=\"1\" /><path clip-path=\"url(#clip460)\" d=\"M98.2141 743.424 L116.57 743.424 L116.57 747.36 L102.496 747.36 L102.496 755.832 Q103.515 755.485 104.534 755.322 Q105.552 755.137 106.571 755.137 Q112.358 755.137 115.737 758.309 Q119.117 761.48 119.117 766.896 Q119.117 772.475 115.645 775.577 Q112.172 778.656 105.853 778.656 Q103.677 778.656 101.409 778.285 Q99.1632 777.915 96.7558 777.174 L96.7558 772.475 Q98.8391 773.609 101.061 774.165 Q103.284 774.721 105.76 774.721 Q109.765 774.721 112.103 772.614 Q114.441 770.508 114.441 766.896 Q114.441 763.285 112.103 761.179 Q109.765 759.072 105.76 759.072 Q103.885 759.072 102.01 759.489 Q100.159 759.906 98.2141 760.785 L98.2141 743.424 Z\" fill=\"#000000\" fill-rule=\"evenodd\" fill-opacity=\"1\" /><path clip-path=\"url(#clip460)\" d=\"M138.33 746.503 Q134.719 746.503 132.89 750.068 Q131.084 753.61 131.084 760.739 Q131.084 767.846 132.89 771.41 Q134.719 774.952 138.33 774.952 Q141.964 774.952 143.769 771.41 Q145.598 767.846 145.598 760.739 Q145.598 753.61 143.769 750.068 Q141.964 746.503 138.33 746.503 M138.33 742.799 Q144.14 742.799 147.195 747.406 Q150.274 751.989 150.274 760.739 Q150.274 769.466 147.195 774.072 Q144.14 778.656 138.33 778.656 Q132.519 778.656 129.441 774.072 Q126.385 769.466 126.385 760.739 Q126.385 751.989 129.441 747.406 Q132.519 742.799 138.33 742.799 Z\" fill=\"#000000\" fill-rule=\"evenodd\" fill-opacity=\"1\" /><path clip-path=\"url(#clip460)\" d=\"M63.9319 409.965 Q60.3208 409.965 58.4921 413.53 Q56.6865 417.072 56.6865 424.201 Q56.6865 431.308 58.4921 434.872 Q60.3208 438.414 63.9319 438.414 Q67.5661 438.414 69.3717 434.872 Q71.2004 431.308 71.2004 424.201 Q71.2004 417.072 69.3717 413.53 Q67.5661 409.965 63.9319 409.965 M63.9319 406.262 Q69.742 406.262 72.7976 410.868 Q75.8763 415.451 75.8763 424.201 Q75.8763 432.928 72.7976 437.534 Q69.742 442.118 63.9319 442.118 Q58.1217 442.118 55.043 437.534 Q51.9875 432.928 51.9875 424.201 Q51.9875 415.451 55.043 410.868 Q58.1217 406.262 63.9319 406.262 Z\" fill=\"#000000\" fill-rule=\"evenodd\" fill-opacity=\"1\" /><path clip-path=\"url(#clip460)\" d=\"M84.0938 435.567 L88.978 435.567 L88.978 441.447 L84.0938 441.447 L84.0938 435.567 Z\" fill=\"#000000\" fill-rule=\"evenodd\" fill-opacity=\"1\" /><path clip-path=\"url(#clip460)\" d=\"M97.9826 406.887 L120.205 406.887 L120.205 408.877 L107.658 441.447 L102.774 441.447 L114.58 410.822 L97.9826 410.822 L97.9826 406.887 Z\" fill=\"#000000\" fill-rule=\"evenodd\" fill-opacity=\"1\" /><path clip-path=\"url(#clip460)\" d=\"M129.371 406.887 L147.728 406.887 L147.728 410.822 L133.654 410.822 L133.654 419.294 Q134.672 418.947 135.691 418.785 Q136.709 418.599 137.728 418.599 Q143.515 418.599 146.894 421.771 Q150.274 424.942 150.274 430.359 Q150.274 435.937 146.802 439.039 Q143.33 442.118 137.01 442.118 Q134.834 442.118 132.566 441.747 Q130.32 441.377 127.913 440.636 L127.913 435.937 Q129.996 437.072 132.219 437.627 Q134.441 438.183 136.918 438.183 Q140.922 438.183 143.26 436.076 Q145.598 433.97 145.598 430.359 Q145.598 426.748 143.26 424.641 Q140.922 422.535 136.918 422.535 Q135.043 422.535 133.168 422.951 Q131.316 423.368 129.371 424.248 L129.371 406.887 Z\" fill=\"#000000\" fill-rule=\"evenodd\" fill-opacity=\"1\" /><path clip-path=\"url(#clip460)\" d=\"M53.7467 100.973 L61.3856 100.973 L61.3856 74.6079 L53.0754 76.2745 L53.0754 72.0153 L61.3393 70.3486 L66.0152 70.3486 L66.0152 100.973 L73.654 100.973 L73.654 104.909 L53.7467 104.909 L53.7467 100.973 Z\" fill=\"#000000\" fill-rule=\"evenodd\" fill-opacity=\"1\" /><path clip-path=\"url(#clip460)\" d=\"M83.0984 99.029 L87.9827 99.029 L87.9827 104.909 L83.0984 104.909 L83.0984 99.029 Z\" fill=\"#000000\" fill-rule=\"evenodd\" fill-opacity=\"1\" /><path clip-path=\"url(#clip460)\" d=\"M108.168 73.4273 Q104.557 73.4273 102.728 76.9921 Q100.922 80.5338 100.922 87.6634 Q100.922 94.7698 102.728 98.3346 Q104.557 101.876 108.168 101.876 Q111.802 101.876 113.608 98.3346 Q115.436 94.7698 115.436 87.6634 Q115.436 80.5338 113.608 76.9921 Q111.802 73.4273 108.168 73.4273 M108.168 69.7236 Q113.978 69.7236 117.033 74.3301 Q120.112 78.9134 120.112 87.6634 Q120.112 96.3902 117.033 100.997 Q113.978 105.58 108.168 105.58 Q102.358 105.58 99.2789 100.997 Q96.2234 96.3902 96.2234 87.6634 Q96.2234 78.9134 99.2789 74.3301 Q102.358 69.7236 108.168 69.7236 Z\" fill=\"#000000\" fill-rule=\"evenodd\" fill-opacity=\"1\" /><path clip-path=\"url(#clip460)\" d=\"M138.33 73.4273 Q134.719 73.4273 132.89 76.9921 Q131.084 80.5338 131.084 87.6634 Q131.084 94.7698 132.89 98.3346 Q134.719 101.876 138.33 101.876 Q141.964 101.876 143.769 98.3346 Q145.598 94.7698 145.598 87.6634 Q145.598 80.5338 143.769 76.9921 Q141.964 73.4273 138.33 73.4273 M138.33 69.7236 Q144.14 69.7236 147.195 74.3301 Q150.274 78.9134 150.274 87.6634 Q150.274 96.3902 147.195 100.997 Q144.14 105.58 138.33 105.58 Q132.519 105.58 129.441 100.997 Q126.385 96.3902 126.385 87.6634 Q126.385 78.9134 129.441 74.3301 Q132.519 69.7236 138.33 69.7236 Z\" fill=\"#000000\" fill-rule=\"evenodd\" fill-opacity=\"1\" /><polyline clip-path=\"url(#clip462)\" style=\"stroke:#009af9; stroke-linecap:round; stroke-linejoin:round; stroke-width:4; stroke-opacity:1; fill:none\" points=\"247.59,1433.78 260.896,1433.78 383.935,1433.78 457.876,1433.78 520.392,1433.78 588.302,1433.78 650.909,1433.78 718.031,1433.78 795.798,1433.78 864.908,1433.78 925.511,1433.78 991.585,1433.78 1058.05,1433.78 1131.54,1433.78 1201.46,1433.78 1274.16,1433.78 1335.36,1433.78 1410.08,1433.78 1478.52,1433.78 1541.74,1433.78 1605.77,1433.78 1677.54,1433.78 1742.57,1433.78 1817.03,1433.78 1885.97,1433.78 1953.93,1433.78 2019.92,1433.78 2087.57,1433.78 2161.69,1433.78 2269.35,1433.78 2291.44,1433.78 \"/>\n",
       "<path clip-path=\"url(#clip460)\" d=\"M2011.46 198.488 L2280.54 198.488 L2280.54 94.8081 L2011.46 94.8081  Z\" fill=\"#ffffff\" fill-rule=\"evenodd\" fill-opacity=\"1\"/>\n",
       "<polyline clip-path=\"url(#clip460)\" style=\"stroke:#000000; stroke-linecap:round; stroke-linejoin:round; stroke-width:4; stroke-opacity:1; fill:none\" points=\"2011.46,198.488 2280.54,198.488 2280.54,94.8081 2011.46,94.8081 2011.46,198.488 \"/>\n",
       "<polyline clip-path=\"url(#clip460)\" style=\"stroke:#009af9; stroke-linecap:round; stroke-linejoin:round; stroke-width:4; stroke-opacity:1; fill:none\" points=\"2035.53,146.648 2179.97,146.648 \"/>\n",
       "<path clip-path=\"url(#clip460)\" d=\"M2217.88 166.336 Q2216.07 170.965 2214.36 172.377 Q2212.65 173.789 2209.78 173.789 L2206.38 173.789 L2206.38 170.224 L2208.88 170.224 Q2210.63 170.224 2211.61 169.391 Q2212.58 168.558 2213.76 165.456 L2214.52 163.511 L2204.04 138.002 L2208.55 138.002 L2216.65 158.28 L2224.76 138.002 L2229.27 138.002 L2217.88 166.336 Z\" fill=\"#000000\" fill-rule=\"evenodd\" fill-opacity=\"1\" /><path clip-path=\"url(#clip460)\" d=\"M2236.56 159.993 L2244.2 159.993 L2244.2 133.627 L2235.89 135.294 L2235.89 131.035 L2244.15 129.368 L2248.83 129.368 L2248.83 159.993 L2256.47 159.993 L2256.47 163.928 L2236.56 163.928 L2236.56 159.993 Z\" fill=\"#000000\" fill-rule=\"evenodd\" fill-opacity=\"1\" /></svg>\n"
      ]
     },
     "execution_count": 10,
     "metadata": {},
     "output_type": "execute_result"
    }
   ],
   "source": [
    "function Tfun(u)  \n",
    "    if u <= uTran_Temp\n",
    "      return ((TAppMax - T0)/uTran_Temp)*u + T0\n",
    "    else\n",
    "     return  TAppMax\n",
    "    end\n",
    "end \n",
    "plot(Tfun,0,uMax)"
   ]
  },
  {
   "cell_type": "code",
   "execution_count": 11,
   "id": "83c71e49",
   "metadata": {},
   "outputs": [
    {
     "data": {
      "image/svg+xml": [
       "<?xml version=\"1.0\" encoding=\"utf-8\"?>\n",
       "<svg xmlns=\"http://www.w3.org/2000/svg\" xmlns:xlink=\"http://www.w3.org/1999/xlink\" width=\"600\" height=\"400\" viewBox=\"0 0 2400 1600\">\n",
       "<defs>\n",
       "  <clipPath id=\"clip500\">\n",
       "    <rect x=\"0\" y=\"0\" width=\"2400\" height=\"1600\"/>\n",
       "  </clipPath>\n",
       "</defs>\n",
       "<path clip-path=\"url(#clip500)\" d=\"M0 1600 L2400 1600 L2400 0 L0 0  Z\" fill=\"#ffffff\" fill-rule=\"evenodd\" fill-opacity=\"1\"/>\n",
       "<defs>\n",
       "  <clipPath id=\"clip501\">\n",
       "    <rect x=\"480\" y=\"0\" width=\"1681\" height=\"1600\"/>\n",
       "  </clipPath>\n",
       "</defs>\n",
       "<path clip-path=\"url(#clip500)\" d=\"M239.19 1474.16 L2352.76 1474.16 L2352.76 47.2441 L239.19 47.2441  Z\" fill=\"#ffffff\" fill-rule=\"evenodd\" fill-opacity=\"1\"/>\n",
       "<defs>\n",
       "  <clipPath id=\"clip502\">\n",
       "    <rect x=\"239\" y=\"47\" width=\"2115\" height=\"1428\"/>\n",
       "  </clipPath>\n",
       "</defs>\n",
       "<polyline clip-path=\"url(#clip502)\" style=\"stroke:#000000; stroke-linecap:round; stroke-linejoin:round; stroke-width:2; stroke-opacity:0.1; fill:none\" points=\"299.008,1474.16 299.008,47.2441 \"/>\n",
       "<polyline clip-path=\"url(#clip502)\" style=\"stroke:#000000; stroke-linecap:round; stroke-linejoin:round; stroke-width:2; stroke-opacity:0.1; fill:none\" points=\"852.878,1474.16 852.878,47.2441 \"/>\n",
       "<polyline clip-path=\"url(#clip502)\" style=\"stroke:#000000; stroke-linecap:round; stroke-linejoin:round; stroke-width:2; stroke-opacity:0.1; fill:none\" points=\"1406.75,1474.16 1406.75,47.2441 \"/>\n",
       "<polyline clip-path=\"url(#clip502)\" style=\"stroke:#000000; stroke-linecap:round; stroke-linejoin:round; stroke-width:2; stroke-opacity:0.1; fill:none\" points=\"1960.62,1474.16 1960.62,47.2441 \"/>\n",
       "<polyline clip-path=\"url(#clip500)\" style=\"stroke:#000000; stroke-linecap:round; stroke-linejoin:round; stroke-width:4; stroke-opacity:1; fill:none\" points=\"239.19,1474.16 2352.76,1474.16 \"/>\n",
       "<polyline clip-path=\"url(#clip500)\" style=\"stroke:#000000; stroke-linecap:round; stroke-linejoin:round; stroke-width:4; stroke-opacity:1; fill:none\" points=\"299.008,1474.16 299.008,1455.27 \"/>\n",
       "<polyline clip-path=\"url(#clip500)\" style=\"stroke:#000000; stroke-linecap:round; stroke-linejoin:round; stroke-width:4; stroke-opacity:1; fill:none\" points=\"852.878,1474.16 852.878,1455.27 \"/>\n",
       "<polyline clip-path=\"url(#clip500)\" style=\"stroke:#000000; stroke-linecap:round; stroke-linejoin:round; stroke-width:4; stroke-opacity:1; fill:none\" points=\"1406.75,1474.16 1406.75,1455.27 \"/>\n",
       "<polyline clip-path=\"url(#clip500)\" style=\"stroke:#000000; stroke-linecap:round; stroke-linejoin:round; stroke-width:4; stroke-opacity:1; fill:none\" points=\"1960.62,1474.16 1960.62,1455.27 \"/>\n",
       "<path clip-path=\"url(#clip500)\" d=\"M299.008 1505.08 Q295.397 1505.08 293.568 1508.65 Q291.763 1512.19 291.763 1519.32 Q291.763 1526.43 293.568 1529.99 Q295.397 1533.53 299.008 1533.53 Q302.643 1533.53 304.448 1529.99 Q306.277 1526.43 306.277 1519.32 Q306.277 1512.19 304.448 1508.65 Q302.643 1505.08 299.008 1505.08 M299.008 1501.38 Q304.818 1501.38 307.874 1505.99 Q310.953 1510.57 310.953 1519.32 Q310.953 1528.05 307.874 1532.65 Q304.818 1537.24 299.008 1537.24 Q293.198 1537.24 290.119 1532.65 Q287.064 1528.05 287.064 1519.32 Q287.064 1510.57 290.119 1505.99 Q293.198 1501.38 299.008 1501.38 Z\" fill=\"#000000\" fill-rule=\"evenodd\" fill-opacity=\"1\" /><path clip-path=\"url(#clip500)\" d=\"M729.802 1517.66 L748.158 1517.66 L748.158 1521.6 L734.084 1521.6 L734.084 1530.07 Q735.103 1529.72 736.121 1529.56 Q737.14 1529.38 738.158 1529.38 Q743.945 1529.38 747.325 1532.55 Q750.704 1535.72 750.704 1541.14 Q750.704 1546.72 747.232 1549.82 Q743.76 1552.9 737.441 1552.9 Q735.265 1552.9 732.996 1552.53 Q730.751 1552.16 728.343 1551.41 L728.343 1546.72 Q730.427 1547.85 732.649 1548.41 Q734.871 1548.96 737.348 1548.96 Q741.353 1548.96 743.691 1546.85 Q746.029 1544.75 746.029 1541.14 Q746.029 1537.53 743.691 1535.42 Q741.353 1533.31 737.348 1533.31 Q735.473 1533.31 733.598 1533.73 Q731.746 1534.15 729.802 1535.03 L729.802 1517.66 Z\" fill=\"#000000\" fill-rule=\"evenodd\" fill-opacity=\"1\" /><path clip-path=\"url(#clip500)\" d=\"M759.917 1546.35 L764.802 1546.35 L764.802 1552.22 L759.917 1552.22 L759.917 1546.35 Z\" fill=\"#000000\" fill-rule=\"evenodd\" fill-opacity=\"1\" /><path clip-path=\"url(#clip500)\" d=\"M784.987 1520.74 Q781.376 1520.74 779.547 1524.31 Q777.741 1527.85 777.741 1534.98 Q777.741 1542.09 779.547 1545.65 Q781.376 1549.19 784.987 1549.19 Q788.621 1549.19 790.426 1545.65 Q792.255 1542.09 792.255 1534.98 Q792.255 1527.85 790.426 1524.31 Q788.621 1520.74 784.987 1520.74 M784.987 1517.04 Q790.797 1517.04 793.852 1521.65 Q796.931 1526.23 796.931 1534.98 Q796.931 1543.71 793.852 1548.31 Q790.797 1552.9 784.987 1552.9 Q779.177 1552.9 776.098 1548.31 Q773.042 1543.71 773.042 1534.98 Q773.042 1526.23 776.098 1521.65 Q779.177 1517.04 784.987 1517.04 Z\" fill=\"#000000\" fill-rule=\"evenodd\" fill-opacity=\"1\" /><path clip-path=\"url(#clip500)\" d=\"M815.149 1520.74 Q811.537 1520.74 809.709 1524.31 Q807.903 1527.85 807.903 1534.98 Q807.903 1542.09 809.709 1545.65 Q811.537 1549.19 815.149 1549.19 Q818.783 1549.19 820.588 1545.65 Q822.417 1542.09 822.417 1534.98 Q822.417 1527.85 820.588 1524.31 Q818.783 1520.74 815.149 1520.74 M815.149 1517.04 Q820.959 1517.04 824.014 1521.65 Q827.093 1526.23 827.093 1534.98 Q827.093 1543.71 824.014 1548.31 Q820.959 1552.9 815.149 1552.9 Q809.338 1552.9 806.26 1548.31 Q803.204 1543.71 803.204 1534.98 Q803.204 1526.23 806.26 1521.65 Q809.338 1517.04 815.149 1517.04 Z\" fill=\"#000000\" fill-rule=\"evenodd\" fill-opacity=\"1\" /><path clip-path=\"url(#clip500)\" d=\"M863.482 1526.76 L852.903 1537.39 L863.482 1547.97 L860.727 1550.77 L850.102 1540.14 L839.477 1550.77 L836.746 1547.97 L847.301 1537.39 L836.746 1526.76 L839.477 1523.96 L850.102 1534.59 L860.727 1523.96 L863.482 1526.76 Z\" fill=\"#000000\" fill-rule=\"evenodd\" fill-opacity=\"1\" /><path clip-path=\"url(#clip500)\" d=\"M875.843 1548.29 L883.482 1548.29 L883.482 1521.92 L875.171 1523.59 L875.171 1519.33 L883.435 1517.66 L888.111 1517.66 L888.111 1548.29 L895.75 1548.29 L895.75 1552.22 L875.843 1552.22 L875.843 1548.29 Z\" fill=\"#000000\" fill-rule=\"evenodd\" fill-opacity=\"1\" /><path clip-path=\"url(#clip500)\" d=\"M915.194 1520.74 Q911.583 1520.74 909.755 1524.31 Q907.949 1527.85 907.949 1534.98 Q907.949 1542.09 909.755 1545.65 Q911.583 1549.19 915.194 1549.19 Q918.829 1549.19 920.634 1545.65 Q922.463 1542.09 922.463 1534.98 Q922.463 1527.85 920.634 1524.31 Q918.829 1520.74 915.194 1520.74 M915.194 1517.04 Q921.004 1517.04 924.06 1521.65 Q927.139 1526.23 927.139 1534.98 Q927.139 1543.71 924.06 1548.31 Q921.004 1552.9 915.194 1552.9 Q909.384 1552.9 906.305 1548.31 Q903.25 1543.71 903.25 1534.98 Q903.25 1526.23 906.305 1521.65 Q909.384 1517.04 915.194 1517.04 Z\" fill=\"#000000\" fill-rule=\"evenodd\" fill-opacity=\"1\" /><path clip-path=\"url(#clip500)\" d=\"M927.139 1511.14 L951.25 1511.14 L951.25 1514.34 L927.139 1514.34 L927.139 1511.14 Z\" fill=\"#000000\" fill-rule=\"evenodd\" fill-opacity=\"1\" /><path clip-path=\"url(#clip500)\" d=\"M968.046 1509.26 Q965.488 1509.26 963.983 1511.01 Q962.497 1512.76 962.497 1515.81 Q962.497 1518.83 963.983 1520.6 Q965.488 1522.35 968.046 1522.35 Q970.603 1522.35 972.089 1520.6 Q973.594 1518.83 973.594 1515.81 Q973.594 1512.76 972.089 1511.01 Q970.603 1509.26 968.046 1509.26 M975.587 1497.35 L975.587 1500.82 Q974.158 1500.14 972.691 1499.78 Q971.243 1499.42 969.814 1499.42 Q966.052 1499.42 964.058 1501.96 Q962.084 1504.5 961.801 1509.64 Q962.911 1508 964.585 1507.13 Q966.259 1506.25 968.271 1506.25 Q972.503 1506.25 974.948 1508.83 Q977.412 1511.39 977.412 1515.81 Q977.412 1520.13 974.854 1522.75 Q972.296 1525.36 968.046 1525.36 Q963.174 1525.36 960.598 1521.64 Q958.021 1517.89 958.021 1510.8 Q958.021 1504.14 961.181 1500.19 Q964.34 1496.23 969.663 1496.23 Q971.092 1496.23 972.541 1496.51 Q974.008 1496.79 975.587 1497.35 Z\" fill=\"#000000\" fill-rule=\"evenodd\" fill-opacity=\"1\" /><path clip-path=\"url(#clip500)\" d=\"M1284.13 1548.29 L1291.77 1548.29 L1291.77 1521.92 L1283.46 1523.59 L1283.46 1519.33 L1291.72 1517.66 L1296.4 1517.66 L1296.4 1548.29 L1304.04 1548.29 L1304.04 1552.22 L1284.13 1552.22 L1284.13 1548.29 Z\" fill=\"#000000\" fill-rule=\"evenodd\" fill-opacity=\"1\" /><path clip-path=\"url(#clip500)\" d=\"M1313.48 1546.35 L1318.37 1546.35 L1318.37 1552.22 L1313.48 1552.22 L1313.48 1546.35 Z\" fill=\"#000000\" fill-rule=\"evenodd\" fill-opacity=\"1\" /><path clip-path=\"url(#clip500)\" d=\"M1338.55 1520.74 Q1334.94 1520.74 1333.11 1524.31 Q1331.31 1527.85 1331.31 1534.98 Q1331.31 1542.09 1333.11 1545.65 Q1334.94 1549.19 1338.55 1549.19 Q1342.19 1549.19 1343.99 1545.65 Q1345.82 1542.09 1345.82 1534.98 Q1345.82 1527.85 1343.99 1524.31 Q1342.19 1520.74 1338.55 1520.74 M1338.55 1517.04 Q1344.36 1517.04 1347.42 1521.65 Q1350.5 1526.23 1350.5 1534.98 Q1350.5 1543.71 1347.42 1548.31 Q1344.36 1552.9 1338.55 1552.9 Q1332.74 1552.9 1329.66 1548.31 Q1326.61 1543.71 1326.61 1534.98 Q1326.61 1526.23 1329.66 1521.65 Q1332.74 1517.04 1338.55 1517.04 Z\" fill=\"#000000\" fill-rule=\"evenodd\" fill-opacity=\"1\" /><path clip-path=\"url(#clip500)\" d=\"M1368.71 1520.74 Q1365.1 1520.74 1363.27 1524.31 Q1361.47 1527.85 1361.47 1534.98 Q1361.47 1542.09 1363.27 1545.65 Q1365.1 1549.19 1368.71 1549.19 Q1372.35 1549.19 1374.15 1545.65 Q1375.98 1542.09 1375.98 1534.98 Q1375.98 1527.85 1374.15 1524.31 Q1372.35 1520.74 1368.71 1520.74 M1368.71 1517.04 Q1374.52 1517.04 1377.58 1521.65 Q1380.66 1526.23 1380.66 1534.98 Q1380.66 1543.71 1377.58 1548.31 Q1374.52 1552.9 1368.71 1552.9 Q1362.9 1552.9 1359.82 1548.31 Q1356.77 1543.71 1356.77 1534.98 Q1356.77 1526.23 1359.82 1521.65 Q1362.9 1517.04 1368.71 1517.04 Z\" fill=\"#000000\" fill-rule=\"evenodd\" fill-opacity=\"1\" /><path clip-path=\"url(#clip500)\" d=\"M1417.05 1526.76 L1406.47 1537.39 L1417.05 1547.97 L1414.29 1550.77 L1403.67 1540.14 L1393.04 1550.77 L1390.31 1547.97 L1400.87 1537.39 L1390.31 1526.76 L1393.04 1523.96 L1403.67 1534.59 L1414.29 1523.96 L1417.05 1526.76 Z\" fill=\"#000000\" fill-rule=\"evenodd\" fill-opacity=\"1\" /><path clip-path=\"url(#clip500)\" d=\"M1429.41 1548.29 L1437.05 1548.29 L1437.05 1521.92 L1428.74 1523.59 L1428.74 1519.33 L1437 1517.66 L1441.68 1517.66 L1441.68 1548.29 L1449.31 1548.29 L1449.31 1552.22 L1429.41 1552.22 L1429.41 1548.29 Z\" fill=\"#000000\" fill-rule=\"evenodd\" fill-opacity=\"1\" /><path clip-path=\"url(#clip500)\" d=\"M1468.76 1520.74 Q1465.15 1520.74 1463.32 1524.31 Q1461.51 1527.85 1461.51 1534.98 Q1461.51 1542.09 1463.32 1545.65 Q1465.15 1549.19 1468.76 1549.19 Q1472.39 1549.19 1474.2 1545.65 Q1476.03 1542.09 1476.03 1534.98 Q1476.03 1527.85 1474.2 1524.31 Q1472.39 1520.74 1468.76 1520.74 M1468.76 1517.04 Q1474.57 1517.04 1477.62 1521.65 Q1480.7 1526.23 1480.7 1534.98 Q1480.7 1543.71 1477.62 1548.31 Q1474.57 1552.9 1468.76 1552.9 Q1462.95 1552.9 1459.87 1548.31 Q1456.81 1543.71 1456.81 1534.98 Q1456.81 1526.23 1459.87 1521.65 Q1462.95 1517.04 1468.76 1517.04 Z\" fill=\"#000000\" fill-rule=\"evenodd\" fill-opacity=\"1\" /><path clip-path=\"url(#clip500)\" d=\"M1480.7 1511.14 L1504.81 1511.14 L1504.81 1514.34 L1480.7 1514.34 L1480.7 1511.14 Z\" fill=\"#000000\" fill-rule=\"evenodd\" fill-opacity=\"1\" /><path clip-path=\"url(#clip500)\" d=\"M1513.05 1496.73 L1527.97 1496.73 L1527.97 1499.93 L1516.53 1499.93 L1516.53 1506.82 Q1517.36 1506.53 1518.19 1506.4 Q1519.01 1506.25 1519.84 1506.25 Q1524.54 1506.25 1527.29 1508.83 Q1530.04 1511.4 1530.04 1515.81 Q1530.04 1520.34 1527.21 1522.86 Q1524.39 1525.36 1519.26 1525.36 Q1517.49 1525.36 1515.65 1525.06 Q1513.82 1524.76 1511.87 1524.16 L1511.87 1520.34 Q1513.56 1521.26 1515.37 1521.71 Q1517.17 1522.16 1519.18 1522.16 Q1522.44 1522.16 1524.34 1520.45 Q1526.24 1518.74 1526.24 1515.81 Q1526.24 1512.87 1524.34 1511.16 Q1522.44 1509.45 1519.18 1509.45 Q1517.66 1509.45 1516.14 1509.79 Q1514.63 1510.13 1513.05 1510.84 L1513.05 1496.73 Z\" fill=\"#000000\" fill-rule=\"evenodd\" fill-opacity=\"1\" /><path clip-path=\"url(#clip500)\" d=\"M1838 1548.29 L1845.64 1548.29 L1845.64 1521.92 L1837.33 1523.59 L1837.33 1519.33 L1845.59 1517.66 L1850.27 1517.66 L1850.27 1548.29 L1857.91 1548.29 L1857.91 1552.22 L1838 1552.22 L1838 1548.29 Z\" fill=\"#000000\" fill-rule=\"evenodd\" fill-opacity=\"1\" /><path clip-path=\"url(#clip500)\" d=\"M1867.35 1546.35 L1872.24 1546.35 L1872.24 1552.22 L1867.35 1552.22 L1867.35 1546.35 Z\" fill=\"#000000\" fill-rule=\"evenodd\" fill-opacity=\"1\" /><path clip-path=\"url(#clip500)\" d=\"M1882.47 1517.66 L1900.82 1517.66 L1900.82 1521.6 L1886.75 1521.6 L1886.75 1530.07 Q1887.77 1529.72 1888.79 1529.56 Q1889.8 1529.38 1890.82 1529.38 Q1896.61 1529.38 1899.99 1532.55 Q1903.37 1535.72 1903.37 1541.14 Q1903.37 1546.72 1899.9 1549.82 Q1896.42 1552.9 1890.11 1552.9 Q1887.93 1552.9 1885.66 1552.53 Q1883.42 1552.16 1881.01 1551.41 L1881.01 1546.72 Q1883.09 1547.85 1885.31 1548.41 Q1887.54 1548.96 1890.01 1548.96 Q1894.02 1548.96 1896.36 1546.85 Q1898.69 1544.75 1898.69 1541.14 Q1898.69 1537.53 1896.36 1535.42 Q1894.02 1533.31 1890.01 1533.31 Q1888.14 1533.31 1886.26 1533.73 Q1884.41 1534.15 1882.47 1535.03 L1882.47 1517.66 Z\" fill=\"#000000\" fill-rule=\"evenodd\" fill-opacity=\"1\" /><path clip-path=\"url(#clip500)\" d=\"M1922.58 1520.74 Q1918.97 1520.74 1917.14 1524.31 Q1915.34 1527.85 1915.34 1534.98 Q1915.34 1542.09 1917.14 1545.65 Q1918.97 1549.19 1922.58 1549.19 Q1926.22 1549.19 1928.02 1545.65 Q1929.85 1542.09 1929.85 1534.98 Q1929.85 1527.85 1928.02 1524.31 Q1926.22 1520.74 1922.58 1520.74 M1922.58 1517.04 Q1928.39 1517.04 1931.45 1521.65 Q1934.53 1526.23 1934.53 1534.98 Q1934.53 1543.71 1931.45 1548.31 Q1928.39 1552.9 1922.58 1552.9 Q1916.77 1552.9 1913.69 1548.31 Q1910.64 1543.71 1910.64 1534.98 Q1910.64 1526.23 1913.69 1521.65 Q1916.77 1517.04 1922.58 1517.04 Z\" fill=\"#000000\" fill-rule=\"evenodd\" fill-opacity=\"1\" /><path clip-path=\"url(#clip500)\" d=\"M1970.92 1526.76 L1960.34 1537.39 L1970.92 1547.97 L1968.16 1550.77 L1957.54 1540.14 L1946.91 1550.77 L1944.18 1547.97 L1954.73 1537.39 L1944.18 1526.76 L1946.91 1523.96 L1957.54 1534.59 L1968.16 1523.96 L1970.92 1526.76 Z\" fill=\"#000000\" fill-rule=\"evenodd\" fill-opacity=\"1\" /><path clip-path=\"url(#clip500)\" d=\"M1983.28 1548.29 L1990.91 1548.29 L1990.91 1521.92 L1982.6 1523.59 L1982.6 1519.33 L1990.87 1517.66 L1995.54 1517.66 L1995.54 1548.29 L2003.18 1548.29 L2003.18 1552.22 L1983.28 1552.22 L1983.28 1548.29 Z\" fill=\"#000000\" fill-rule=\"evenodd\" fill-opacity=\"1\" /><path clip-path=\"url(#clip500)\" d=\"M2022.63 1520.74 Q2019.02 1520.74 2017.19 1524.31 Q2015.38 1527.85 2015.38 1534.98 Q2015.38 1542.09 2017.19 1545.65 Q2019.02 1549.19 2022.63 1549.19 Q2026.26 1549.19 2028.07 1545.65 Q2029.9 1542.09 2029.9 1534.98 Q2029.9 1527.85 2028.07 1524.31 Q2026.26 1520.74 2022.63 1520.74 M2022.63 1517.04 Q2028.44 1517.04 2031.49 1521.65 Q2034.57 1526.23 2034.57 1534.98 Q2034.57 1543.71 2031.49 1548.31 Q2028.44 1552.9 2022.63 1552.9 Q2016.82 1552.9 2013.74 1548.31 Q2010.68 1543.71 2010.68 1534.98 Q2010.68 1526.23 2013.74 1521.65 Q2016.82 1517.04 2022.63 1517.04 Z\" fill=\"#000000\" fill-rule=\"evenodd\" fill-opacity=\"1\" /><path clip-path=\"url(#clip500)\" d=\"M2034.57 1511.14 L2058.68 1511.14 L2058.68 1514.34 L2034.57 1514.34 L2034.57 1511.14 Z\" fill=\"#000000\" fill-rule=\"evenodd\" fill-opacity=\"1\" /><path clip-path=\"url(#clip500)\" d=\"M2066.92 1496.73 L2081.84 1496.73 L2081.84 1499.93 L2070.4 1499.93 L2070.4 1506.82 Q2071.23 1506.53 2072.06 1506.4 Q2072.88 1506.25 2073.71 1506.25 Q2078.41 1506.25 2081.16 1508.83 Q2083.9 1511.4 2083.9 1515.81 Q2083.9 1520.34 2081.08 1522.86 Q2078.26 1525.36 2073.13 1525.36 Q2071.36 1525.36 2069.52 1525.06 Q2067.69 1524.76 2065.74 1524.16 L2065.74 1520.34 Q2067.43 1521.26 2069.23 1521.71 Q2071.04 1522.16 2073.05 1522.16 Q2076.31 1522.16 2078.21 1520.45 Q2080.11 1518.74 2080.11 1515.81 Q2080.11 1512.87 2078.21 1511.16 Q2076.31 1509.45 2073.05 1509.45 Q2071.53 1509.45 2070.01 1509.79 Q2068.5 1510.13 2066.92 1510.84 L2066.92 1496.73 Z\" fill=\"#000000\" fill-rule=\"evenodd\" fill-opacity=\"1\" /><polyline clip-path=\"url(#clip502)\" style=\"stroke:#000000; stroke-linecap:round; stroke-linejoin:round; stroke-width:2; stroke-opacity:0.1; fill:none\" points=\"239.19,1215.29 2352.76,1215.29 \"/>\n",
       "<polyline clip-path=\"url(#clip502)\" style=\"stroke:#000000; stroke-linecap:round; stroke-linejoin:round; stroke-width:2; stroke-opacity:0.1; fill:none\" points=\"239.19,933.378 2352.76,933.378 \"/>\n",
       "<polyline clip-path=\"url(#clip502)\" style=\"stroke:#000000; stroke-linecap:round; stroke-linejoin:round; stroke-width:2; stroke-opacity:0.1; fill:none\" points=\"239.19,651.462 2352.76,651.462 \"/>\n",
       "<polyline clip-path=\"url(#clip502)\" style=\"stroke:#000000; stroke-linecap:round; stroke-linejoin:round; stroke-width:2; stroke-opacity:0.1; fill:none\" points=\"239.19,369.545 2352.76,369.545 \"/>\n",
       "<polyline clip-path=\"url(#clip502)\" style=\"stroke:#000000; stroke-linecap:round; stroke-linejoin:round; stroke-width:2; stroke-opacity:0.1; fill:none\" points=\"239.19,87.6286 2352.76,87.6286 \"/>\n",
       "<polyline clip-path=\"url(#clip500)\" style=\"stroke:#000000; stroke-linecap:round; stroke-linejoin:round; stroke-width:4; stroke-opacity:1; fill:none\" points=\"239.19,1474.16 239.19,47.2441 \"/>\n",
       "<polyline clip-path=\"url(#clip500)\" style=\"stroke:#000000; stroke-linecap:round; stroke-linejoin:round; stroke-width:4; stroke-opacity:1; fill:none\" points=\"239.19,1215.29 258.088,1215.29 \"/>\n",
       "<polyline clip-path=\"url(#clip500)\" style=\"stroke:#000000; stroke-linecap:round; stroke-linejoin:round; stroke-width:4; stroke-opacity:1; fill:none\" points=\"239.19,933.378 258.088,933.378 \"/>\n",
       "<polyline clip-path=\"url(#clip500)\" style=\"stroke:#000000; stroke-linecap:round; stroke-linejoin:round; stroke-width:4; stroke-opacity:1; fill:none\" points=\"239.19,651.462 258.088,651.462 \"/>\n",
       "<polyline clip-path=\"url(#clip500)\" style=\"stroke:#000000; stroke-linecap:round; stroke-linejoin:round; stroke-width:4; stroke-opacity:1; fill:none\" points=\"239.19,369.545 258.088,369.545 \"/>\n",
       "<polyline clip-path=\"url(#clip500)\" style=\"stroke:#000000; stroke-linecap:round; stroke-linejoin:round; stroke-width:4; stroke-opacity:1; fill:none\" points=\"239.19,87.6286 258.088,87.6286 \"/>\n",
       "<path clip-path=\"url(#clip500)\" d=\"M50.9921 1215.75 L80.6679 1215.75 L80.6679 1219.68 L50.9921 1219.68 L50.9921 1215.75 Z\" fill=\"#000000\" fill-rule=\"evenodd\" fill-opacity=\"1\" /><path clip-path=\"url(#clip500)\" d=\"M100.76 1216.16 Q97.4271 1216.16 95.5058 1217.95 Q93.6076 1219.73 93.6076 1222.85 Q93.6076 1225.98 95.5058 1227.76 Q97.4271 1229.54 100.76 1229.54 Q104.094 1229.54 106.015 1227.76 Q107.936 1225.95 107.936 1222.85 Q107.936 1219.73 106.015 1217.95 Q104.117 1216.16 100.76 1216.16 M96.0845 1214.17 Q93.0752 1213.43 91.3854 1211.37 Q89.7188 1209.31 89.7188 1206.35 Q89.7188 1202.2 92.6586 1199.8 Q95.6215 1197.39 100.76 1197.39 Q105.922 1197.39 108.862 1199.8 Q111.802 1202.2 111.802 1206.35 Q111.802 1209.31 110.112 1211.37 Q108.446 1213.43 105.459 1214.17 Q108.839 1214.96 110.714 1217.25 Q112.612 1219.54 112.612 1222.85 Q112.612 1227.88 109.533 1230.56 Q106.478 1233.25 100.76 1233.25 Q95.0428 1233.25 91.9641 1230.56 Q88.9086 1227.88 88.9086 1222.85 Q88.9086 1219.54 90.8067 1217.25 Q92.7049 1214.96 96.0845 1214.17 M94.3715 1206.79 Q94.3715 1209.47 96.0382 1210.98 Q97.728 1212.48 100.76 1212.48 Q103.77 1212.48 105.459 1210.98 Q107.172 1209.47 107.172 1206.79 Q107.172 1204.1 105.459 1202.6 Q103.77 1201.09 100.76 1201.09 Q97.728 1201.09 96.0382 1202.6 Q94.3715 1204.1 94.3715 1206.79 Z\" fill=\"#000000\" fill-rule=\"evenodd\" fill-opacity=\"1\" /><path clip-path=\"url(#clip500)\" d=\"M130.922 1201.09 Q127.311 1201.09 125.482 1204.66 Q123.677 1208.2 123.677 1215.33 Q123.677 1222.44 125.482 1226 Q127.311 1229.54 130.922 1229.54 Q134.556 1229.54 136.362 1226 Q138.191 1222.44 138.191 1215.33 Q138.191 1208.2 136.362 1204.66 Q134.556 1201.09 130.922 1201.09 M130.922 1197.39 Q136.732 1197.39 139.788 1202 Q142.867 1206.58 142.867 1215.33 Q142.867 1224.06 139.788 1228.66 Q136.732 1233.25 130.922 1233.25 Q125.112 1233.25 122.033 1228.66 Q118.978 1224.06 118.978 1215.33 Q118.978 1206.58 122.033 1202 Q125.112 1197.39 130.922 1197.39 Z\" fill=\"#000000\" fill-rule=\"evenodd\" fill-opacity=\"1\" /><path clip-path=\"url(#clip500)\" d=\"M161.084 1201.09 Q157.473 1201.09 155.644 1204.66 Q153.839 1208.2 153.839 1215.33 Q153.839 1222.44 155.644 1226 Q157.473 1229.54 161.084 1229.54 Q164.718 1229.54 166.524 1226 Q168.353 1222.44 168.353 1215.33 Q168.353 1208.2 166.524 1204.66 Q164.718 1201.09 161.084 1201.09 M161.084 1197.39 Q166.894 1197.39 169.95 1202 Q173.029 1206.58 173.029 1215.33 Q173.029 1224.06 169.95 1228.66 Q166.894 1233.25 161.084 1233.25 Q155.274 1233.25 152.195 1228.66 Q149.14 1224.06 149.14 1215.33 Q149.14 1206.58 152.195 1202 Q155.274 1197.39 161.084 1197.39 Z\" fill=\"#000000\" fill-rule=\"evenodd\" fill-opacity=\"1\" /><path clip-path=\"url(#clip500)\" d=\"M191.246 1201.09 Q187.635 1201.09 185.806 1204.66 Q184.001 1208.2 184.001 1215.33 Q184.001 1222.44 185.806 1226 Q187.635 1229.54 191.246 1229.54 Q194.88 1229.54 196.686 1226 Q198.514 1222.44 198.514 1215.33 Q198.514 1208.2 196.686 1204.66 Q194.88 1201.09 191.246 1201.09 M191.246 1197.39 Q197.056 1197.39 200.112 1202 Q203.19 1206.58 203.19 1215.33 Q203.19 1224.06 200.112 1228.66 Q197.056 1233.25 191.246 1233.25 Q185.436 1233.25 182.357 1228.66 Q179.302 1224.06 179.302 1215.33 Q179.302 1206.58 182.357 1202 Q185.436 1197.39 191.246 1197.39 Z\" fill=\"#000000\" fill-rule=\"evenodd\" fill-opacity=\"1\" /><path clip-path=\"url(#clip500)\" d=\"M50.9921 933.83 L80.6679 933.83 L80.6679 937.765 L50.9921 937.765 L50.9921 933.83 Z\" fill=\"#000000\" fill-rule=\"evenodd\" fill-opacity=\"1\" /><path clip-path=\"url(#clip500)\" d=\"M101.339 931.515 Q98.1909 931.515 96.3391 933.668 Q94.5104 935.82 94.5104 939.57 Q94.5104 943.297 96.3391 945.473 Q98.1909 947.626 101.339 947.626 Q104.487 947.626 106.316 945.473 Q108.168 943.297 108.168 939.57 Q108.168 935.82 106.316 933.668 Q104.487 931.515 101.339 931.515 M110.621 916.862 L110.621 921.121 Q108.862 920.288 107.057 919.848 Q105.274 919.408 103.515 919.408 Q98.8854 919.408 96.4317 922.533 Q94.0012 925.658 93.6539 931.978 Q95.0197 929.964 97.0798 928.899 Q99.14 927.811 101.617 927.811 Q106.825 927.811 109.834 930.982 Q112.867 934.131 112.867 939.57 Q112.867 944.894 109.719 948.112 Q106.571 951.33 101.339 951.33 Q95.3437 951.33 92.1725 946.746 Q89.0012 942.14 89.0012 933.413 Q89.0012 925.219 92.89 920.358 Q96.7789 915.473 103.33 915.473 Q105.089 915.473 106.871 915.82 Q108.677 916.168 110.621 916.862 Z\" fill=\"#000000\" fill-rule=\"evenodd\" fill-opacity=\"1\" /><path clip-path=\"url(#clip500)\" d=\"M130.922 919.177 Q127.311 919.177 125.482 922.742 Q123.677 926.283 123.677 933.413 Q123.677 940.519 125.482 944.084 Q127.311 947.626 130.922 947.626 Q134.556 947.626 136.362 944.084 Q138.191 940.519 138.191 933.413 Q138.191 926.283 136.362 922.742 Q134.556 919.177 130.922 919.177 M130.922 915.473 Q136.732 915.473 139.788 920.08 Q142.867 924.663 142.867 933.413 Q142.867 942.14 139.788 946.746 Q136.732 951.33 130.922 951.33 Q125.112 951.33 122.033 946.746 Q118.978 942.14 118.978 933.413 Q118.978 924.663 122.033 920.08 Q125.112 915.473 130.922 915.473 Z\" fill=\"#000000\" fill-rule=\"evenodd\" fill-opacity=\"1\" /><path clip-path=\"url(#clip500)\" d=\"M161.084 919.177 Q157.473 919.177 155.644 922.742 Q153.839 926.283 153.839 933.413 Q153.839 940.519 155.644 944.084 Q157.473 947.626 161.084 947.626 Q164.718 947.626 166.524 944.084 Q168.353 940.519 168.353 933.413 Q168.353 926.283 166.524 922.742 Q164.718 919.177 161.084 919.177 M161.084 915.473 Q166.894 915.473 169.95 920.08 Q173.029 924.663 173.029 933.413 Q173.029 942.14 169.95 946.746 Q166.894 951.33 161.084 951.33 Q155.274 951.33 152.195 946.746 Q149.14 942.14 149.14 933.413 Q149.14 924.663 152.195 920.08 Q155.274 915.473 161.084 915.473 Z\" fill=\"#000000\" fill-rule=\"evenodd\" fill-opacity=\"1\" /><path clip-path=\"url(#clip500)\" d=\"M191.246 919.177 Q187.635 919.177 185.806 922.742 Q184.001 926.283 184.001 933.413 Q184.001 940.519 185.806 944.084 Q187.635 947.626 191.246 947.626 Q194.88 947.626 196.686 944.084 Q198.514 940.519 198.514 933.413 Q198.514 926.283 196.686 922.742 Q194.88 919.177 191.246 919.177 M191.246 915.473 Q197.056 915.473 200.112 920.08 Q203.19 924.663 203.19 933.413 Q203.19 942.14 200.112 946.746 Q197.056 951.33 191.246 951.33 Q185.436 951.33 182.357 946.746 Q179.302 942.14 179.302 933.413 Q179.302 924.663 182.357 920.08 Q185.436 915.473 191.246 915.473 Z\" fill=\"#000000\" fill-rule=\"evenodd\" fill-opacity=\"1\" /><path clip-path=\"url(#clip500)\" d=\"M50.9921 651.913 L80.6679 651.913 L80.6679 655.848 L50.9921 655.848 L50.9921 651.913 Z\" fill=\"#000000\" fill-rule=\"evenodd\" fill-opacity=\"1\" /><path clip-path=\"url(#clip500)\" d=\"M103.608 638.256 L91.8021 656.705 L103.608 656.705 L103.608 638.256 M102.381 634.182 L108.26 634.182 L108.26 656.705 L113.191 656.705 L113.191 660.594 L108.26 660.594 L108.26 668.742 L103.608 668.742 L103.608 660.594 L88.0058 660.594 L88.0058 656.08 L102.381 634.182 Z\" fill=\"#000000\" fill-rule=\"evenodd\" fill-opacity=\"1\" /><path clip-path=\"url(#clip500)\" d=\"M130.922 637.26 Q127.311 637.26 125.482 640.825 Q123.677 644.367 123.677 651.496 Q123.677 658.603 125.482 662.168 Q127.311 665.709 130.922 665.709 Q134.556 665.709 136.362 662.168 Q138.191 658.603 138.191 651.496 Q138.191 644.367 136.362 640.825 Q134.556 637.26 130.922 637.26 M130.922 633.557 Q136.732 633.557 139.788 638.163 Q142.867 642.746 142.867 651.496 Q142.867 660.223 139.788 664.83 Q136.732 669.413 130.922 669.413 Q125.112 669.413 122.033 664.83 Q118.978 660.223 118.978 651.496 Q118.978 642.746 122.033 638.163 Q125.112 633.557 130.922 633.557 Z\" fill=\"#000000\" fill-rule=\"evenodd\" fill-opacity=\"1\" /><path clip-path=\"url(#clip500)\" d=\"M161.084 637.26 Q157.473 637.26 155.644 640.825 Q153.839 644.367 153.839 651.496 Q153.839 658.603 155.644 662.168 Q157.473 665.709 161.084 665.709 Q164.718 665.709 166.524 662.168 Q168.353 658.603 168.353 651.496 Q168.353 644.367 166.524 640.825 Q164.718 637.26 161.084 637.26 M161.084 633.557 Q166.894 633.557 169.95 638.163 Q173.029 642.746 173.029 651.496 Q173.029 660.223 169.95 664.83 Q166.894 669.413 161.084 669.413 Q155.274 669.413 152.195 664.83 Q149.14 660.223 149.14 651.496 Q149.14 642.746 152.195 638.163 Q155.274 633.557 161.084 633.557 Z\" fill=\"#000000\" fill-rule=\"evenodd\" fill-opacity=\"1\" /><path clip-path=\"url(#clip500)\" d=\"M191.246 637.26 Q187.635 637.26 185.806 640.825 Q184.001 644.367 184.001 651.496 Q184.001 658.603 185.806 662.168 Q187.635 665.709 191.246 665.709 Q194.88 665.709 196.686 662.168 Q198.514 658.603 198.514 651.496 Q198.514 644.367 196.686 640.825 Q194.88 637.26 191.246 637.26 M191.246 633.557 Q197.056 633.557 200.112 638.163 Q203.19 642.746 203.19 651.496 Q203.19 660.223 200.112 664.83 Q197.056 669.413 191.246 669.413 Q185.436 669.413 182.357 664.83 Q179.302 660.223 179.302 651.496 Q179.302 642.746 182.357 638.163 Q185.436 633.557 191.246 633.557 Z\" fill=\"#000000\" fill-rule=\"evenodd\" fill-opacity=\"1\" /><path clip-path=\"url(#clip500)\" d=\"M50.9921 369.997 L80.6679 369.997 L80.6679 373.932 L50.9921 373.932 L50.9921 369.997 Z\" fill=\"#000000\" fill-rule=\"evenodd\" fill-opacity=\"1\" /><path clip-path=\"url(#clip500)\" d=\"M94.7882 382.89 L111.108 382.89 L111.108 386.825 L89.1632 386.825 L89.1632 382.89 Q91.8252 380.135 96.4085 375.506 Q101.015 370.853 102.196 369.51 Q104.441 366.987 105.321 365.251 Q106.223 363.492 106.223 361.802 Q106.223 359.048 104.279 357.311 Q102.358 355.575 99.2558 355.575 Q97.0567 355.575 94.603 356.339 Q92.1725 357.103 89.3947 358.654 L89.3947 353.932 Q92.2188 352.798 94.6724 352.219 Q97.1261 351.64 99.1632 351.64 Q104.534 351.64 107.728 354.325 Q110.922 357.011 110.922 361.501 Q110.922 363.631 110.112 365.552 Q109.325 367.45 107.219 370.043 Q106.64 370.714 103.538 373.932 Q100.436 377.126 94.7882 382.89 Z\" fill=\"#000000\" fill-rule=\"evenodd\" fill-opacity=\"1\" /><path clip-path=\"url(#clip500)\" d=\"M130.922 355.344 Q127.311 355.344 125.482 358.909 Q123.677 362.45 123.677 369.58 Q123.677 376.686 125.482 380.251 Q127.311 383.793 130.922 383.793 Q134.556 383.793 136.362 380.251 Q138.191 376.686 138.191 369.58 Q138.191 362.45 136.362 358.909 Q134.556 355.344 130.922 355.344 M130.922 351.64 Q136.732 351.64 139.788 356.247 Q142.867 360.83 142.867 369.58 Q142.867 378.307 139.788 382.913 Q136.732 387.496 130.922 387.496 Q125.112 387.496 122.033 382.913 Q118.978 378.307 118.978 369.58 Q118.978 360.83 122.033 356.247 Q125.112 351.64 130.922 351.64 Z\" fill=\"#000000\" fill-rule=\"evenodd\" fill-opacity=\"1\" /><path clip-path=\"url(#clip500)\" d=\"M161.084 355.344 Q157.473 355.344 155.644 358.909 Q153.839 362.45 153.839 369.58 Q153.839 376.686 155.644 380.251 Q157.473 383.793 161.084 383.793 Q164.718 383.793 166.524 380.251 Q168.353 376.686 168.353 369.58 Q168.353 362.45 166.524 358.909 Q164.718 355.344 161.084 355.344 M161.084 351.64 Q166.894 351.64 169.95 356.247 Q173.029 360.83 173.029 369.58 Q173.029 378.307 169.95 382.913 Q166.894 387.496 161.084 387.496 Q155.274 387.496 152.195 382.913 Q149.14 378.307 149.14 369.58 Q149.14 360.83 152.195 356.247 Q155.274 351.64 161.084 351.64 Z\" fill=\"#000000\" fill-rule=\"evenodd\" fill-opacity=\"1\" /><path clip-path=\"url(#clip500)\" d=\"M191.246 355.344 Q187.635 355.344 185.806 358.909 Q184.001 362.45 184.001 369.58 Q184.001 376.686 185.806 380.251 Q187.635 383.793 191.246 383.793 Q194.88 383.793 196.686 380.251 Q198.514 376.686 198.514 369.58 Q198.514 362.45 196.686 358.909 Q194.88 355.344 191.246 355.344 M191.246 351.64 Q197.056 351.64 200.112 356.247 Q203.19 360.83 203.19 369.58 Q203.19 378.307 200.112 382.913 Q197.056 387.496 191.246 387.496 Q185.436 387.496 182.357 382.913 Q179.302 378.307 179.302 369.58 Q179.302 360.83 182.357 356.247 Q185.436 351.64 191.246 351.64 Z\" fill=\"#000000\" fill-rule=\"evenodd\" fill-opacity=\"1\" /><path clip-path=\"url(#clip500)\" d=\"M191.246 73.4273 Q187.635 73.4273 185.806 76.9921 Q184.001 80.5338 184.001 87.6634 Q184.001 94.7698 185.806 98.3346 Q187.635 101.876 191.246 101.876 Q194.88 101.876 196.686 98.3346 Q198.514 94.7698 198.514 87.6634 Q198.514 80.5338 196.686 76.9921 Q194.88 73.4273 191.246 73.4273 M191.246 69.7236 Q197.056 69.7236 200.112 74.3301 Q203.19 78.9134 203.19 87.6634 Q203.19 96.3902 200.112 100.997 Q197.056 105.58 191.246 105.58 Q185.436 105.58 182.357 100.997 Q179.302 96.3902 179.302 87.6634 Q179.302 78.9134 182.357 74.3301 Q185.436 69.7236 191.246 69.7236 Z\" fill=\"#000000\" fill-rule=\"evenodd\" fill-opacity=\"1\" /><polyline clip-path=\"url(#clip502)\" style=\"stroke:#009af9; stroke-linecap:round; stroke-linejoin:round; stroke-width:4; stroke-opacity:1; fill:none\" points=\"299.008,87.6286 302.254,131.45 305.499,175.27 308.744,219.091 311.99,262.912 326.994,465.506 341.998,668.1 357.002,870.694 372.007,1073.29 379.509,1174.58 387.011,1275.88 390.762,1326.53 394.513,1377.18 395.451,1389.84 396.388,1402.5 397.326,1415.16 398.264,1427.83 399.202,1433.78 400.139,1433.78 401.077,1433.78 402.015,1433.78 405.766,1433.78 409.517,1433.78 413.268,1433.78 417.019,1433.78 424.521,1433.78 432.023,1433.78 450.057,1433.78 468.091,1433.78 486.125,1433.78 504.158,1433.78 534.653,1433.78 565.148,1433.78 631.399,1433.78 692.477,1433.78 757.959,1433.78 833.826,1433.78 901.248,1433.78 960.371,1433.78 1024.83,1433.78 1089.67,1433.78 1161.37,1433.78 1229.58,1433.78 1300.51,1433.78 1360.21,1433.78 1433.1,1433.78 1499.88,1433.78 1561.55,1433.78 1624.02,1433.78 1694.03,1433.78 1757.47,1433.78 1830.11,1433.78 1897.37,1433.78 1963.67,1433.78 2028.05,1433.78 2094.05,1433.78 2166.35,1433.78 2271.39,1433.78 2292.94,1433.78 \"/>\n",
       "<path clip-path=\"url(#clip500)\" d=\"M2018.52 198.488 L2282.3 198.488 L2282.3 94.8081 L2018.52 94.8081  Z\" fill=\"#ffffff\" fill-rule=\"evenodd\" fill-opacity=\"1\"/>\n",
       "<polyline clip-path=\"url(#clip500)\" style=\"stroke:#000000; stroke-linecap:round; stroke-linejoin:round; stroke-width:4; stroke-opacity:1; fill:none\" points=\"2018.52,198.488 2282.3,198.488 2282.3,94.8081 2018.52,94.8081 2018.52,198.488 \"/>\n",
       "<polyline clip-path=\"url(#clip500)\" style=\"stroke:#009af9; stroke-linecap:round; stroke-linejoin:round; stroke-width:4; stroke-opacity:1; fill:none\" points=\"2042,146.648 2182.91,146.648 \"/>\n",
       "<path clip-path=\"url(#clip500)\" d=\"M2220.23 166.336 Q2218.43 170.965 2216.71 172.377 Q2215 173.789 2212.13 173.789 L2208.73 173.789 L2208.73 170.224 L2211.23 170.224 Q2212.99 170.224 2213.96 169.391 Q2214.93 168.558 2216.11 165.456 L2216.88 163.511 L2206.39 138.002 L2210.9 138.002 L2219.01 158.28 L2227.11 138.002 L2231.62 138.002 L2220.23 166.336 Z\" fill=\"#000000\" fill-rule=\"evenodd\" fill-opacity=\"1\" /><path clip-path=\"url(#clip500)\" d=\"M2238.91 159.993 L2246.55 159.993 L2246.55 133.627 L2238.24 135.294 L2238.24 131.035 L2246.5 129.368 L2251.18 129.368 L2251.18 159.993 L2258.82 159.993 L2258.82 163.928 L2238.91 163.928 L2238.91 159.993 Z\" fill=\"#000000\" fill-rule=\"evenodd\" fill-opacity=\"1\" /></svg>\n"
      ]
     },
     "execution_count": 11,
     "metadata": {},
     "output_type": "execute_result"
    }
   ],
   "source": [
    "function ϕ_fun(ϕ)  \n",
    "    if ϕ <= uTran2_EP\n",
    "      return ((phiMaxApp - phiMin)/uTran2_EP)*ϕ + phiMin\n",
    "    else\n",
    "     return  phiMaxApp\n",
    "    end\n",
    "end \n",
    "plot(ϕ_fun,0,uMax)"
   ]
  },
  {
   "cell_type": "code",
   "execution_count": 12,
   "id": "2c1dd040",
   "metadata": {},
   "outputs": [
    {
     "data": {
      "text/plain": [
       "150-element Vector{Float64}:\n",
       "     0.0\n",
       " -1281.8791946308725\n",
       " -2563.758389261745\n",
       " -3845.6375838926174\n",
       " -5127.51677852349\n",
       " -6409.395973154362\n",
       " -7691.275167785235\n",
       " -8973.154362416108\n",
       " -9550.0\n",
       " -9550.0\n",
       " -9550.0\n",
       " -9550.0\n",
       " -9550.0\n",
       "     ⋮\n",
       " -9550.0\n",
       " -9550.0\n",
       " -9550.0\n",
       " -9550.0\n",
       " -9550.0\n",
       " -9550.0\n",
       " -9550.0\n",
       " -9550.0\n",
       " -9550.0\n",
       " -9550.0\n",
       " -9550.0\n",
       " -9550.0"
      ]
     },
     "execution_count": 12,
     "metadata": {},
     "output_type": "execute_result"
    }
   ],
   "source": [
    "uAppVec = range(0,uMax,length = Int64(floor(tMax/delt)))\n",
    "\n",
    "AppTOption = 1 ## 1 for smooth and otherwise linear than constant\n",
    "\n",
    "if AppTOption == 1\n",
    "    TAppVec = smoothT.(uAppVec)\n",
    "  else\n",
    "    TAppVec = Tfun.(uAppVec) \n",
    "end \n",
    "\n",
    "AppϕOption = 2 ## 1 for smooth and otherwise linear than constant\n",
    "\n",
    "if AppϕOption == 1\n",
    "    ϕAppVec = smoothϕ.(uAppVec)\n",
    "  else\n",
    "    ϕAppVec = ϕ_fun.(uAppVec) \n",
    "end "
   ]
  },
  {
   "cell_type": "code",
   "execution_count": 13,
   "id": "cb846071",
   "metadata": {
    "scrolled": false
   },
   "outputs": [
    {
     "data": {
      "text/plain": [
       "52232-element Vector{Int8}:\n",
       " 6\n",
       " 6\n",
       " 6\n",
       " 6\n",
       " 6\n",
       " 6\n",
       " 6\n",
       " 6\n",
       " 6\n",
       " 6\n",
       " 6\n",
       " 6\n",
       " 6\n",
       " ⋮\n",
       " 6\n",
       " 6\n",
       " 6\n",
       " 6\n",
       " 6\n",
       " 6\n",
       " 6\n",
       " 6\n",
       " 6\n",
       " 6\n",
       " 6\n",
       " 6"
      ]
     },
     "execution_count": 13,
     "metadata": {},
     "output_type": "execute_result"
    }
   ],
   "source": [
    "using Gridap.Geometry\n",
    "labels = get_face_labeling(model)\n",
    "dimension = 2\n",
    "mat_tags = get_face_tag(labels,dimension)"
   ]
  },
  {
   "cell_type": "code",
   "execution_count": 14,
   "id": "696a7e80",
   "metadata": {},
   "outputs": [
    {
     "data": {
      "text/plain": [
       "6"
      ]
     },
     "execution_count": 14,
     "metadata": {},
     "output_type": "execute_result"
    }
   ],
   "source": [
    "const Mat_tag = get_tag_from_name(labels,\"Domain\")"
   ]
  },
  {
   "cell_type": "markdown",
   "id": "986a5949",
   "metadata": {},
   "source": [
    "## Input paramters for Piezo-Electric Material Properties"
   ]
  },
  {
   "cell_type": "markdown",
   "id": "04d49b89",
   "metadata": {},
   "source": [
    "#### Input elasticity parameters"
   ]
  },
  {
   "cell_type": "code",
   "execution_count": 15,
   "id": "41796e1b",
   "metadata": {},
   "outputs": [
    {
     "data": {
      "text/plain": [
       "7500.0"
      ]
     },
     "execution_count": 15,
     "metadata": {},
     "output_type": "execute_result"
    }
   ],
   "source": [
    "const c = 350\n",
    "const ρ = 7500.0"
   ]
  },
  {
   "cell_type": "markdown",
   "id": "ed88a4d6",
   "metadata": {},
   "source": [
    "#### Input fracture parameters"
   ]
  },
  {
   "cell_type": "code",
   "execution_count": 16,
   "id": "2a36f809",
   "metadata": {},
   "outputs": [
    {
     "data": {
      "text/plain": [
       "1.0e-8"
      ]
     },
     "execution_count": 16,
     "metadata": {},
     "output_type": "execute_result"
    }
   ],
   "source": [
    "const Gc = 300\n",
    "const η = 1e-8"
   ]
  },
  {
   "cell_type": "markdown",
   "id": "9a94436e",
   "metadata": {},
   "source": [
    "## COnstitutive Matrices"
   ]
  },
  {
   "cell_type": "markdown",
   "id": "1363fec0",
   "metadata": {},
   "source": [
    "### Elastic stiffness tensor"
   ]
  },
  {
   "cell_type": "code",
   "execution_count": 17,
   "id": "db7231fb",
   "metadata": {},
   "outputs": [
    {
     "data": {
      "text/plain": [
       "2.56e10"
      ]
     },
     "execution_count": 17,
     "metadata": {},
     "output_type": "execute_result"
    }
   ],
   "source": [
    "const C₁₁_mat = 139e9\n",
    "const C₁₂_mat = 74.3e9\n",
    "const C₂₂_mat = 113e9\n",
    "const C₆₆_mat = 25.6e9"
   ]
  },
  {
   "cell_type": "code",
   "execution_count": 18,
   "id": "8b126793",
   "metadata": {},
   "outputs": [
    {
     "data": {
      "text/plain": [
       "SymFourthOrderTensorValue{2, Float64, 9}(1.13e11, 0.0, 7.43e10, 0.0, 2.56e10, 0.0, 7.43e10, 0.0, 1.39e11)"
      ]
     },
     "execution_count": 18,
     "metadata": {},
     "output_type": "execute_result"
    }
   ],
   "source": [
    "function ElasFourthOrderConstTensor(C₁₁,C₁₂,C₂₂,C₆₆)\n",
    "      C1111 = C₁₁\n",
    "      C1122 = C₁₂\n",
    "      C1112 = 0.0\n",
    "      C2222 = C₂₂\n",
    "      C2212 = 0.0\n",
    "      C1212 = C₆₆    \n",
    "      C_ten = SymFourthOrderTensorValue(C1111,C1112,C1122,C1112,C1212,C2212,C1122,C2212,C2222)\n",
    "    return  C_ten\n",
    "end\n",
    "const C_mat = ElasFourthOrderConstTensor(C₁₁_mat,C₁₂_mat,C₂₂_mat,C₆₆_mat)\n",
    "C_mattransformed = zeros(2,2,2,2)\n",
    "\n",
    "Q = [0 1; -1 0]\n",
    "for i in 1:2, j in 1:2, k in 1:2, l in 1:2\n",
    "    for m in 1:2, n in 1:2, o in 1:2, p in 1:2\n",
    "        C_mattransformed[i,j,k,l] += Q[i,m]*Q[j,n]*Q[k,o]*Q[l,p]*C_mat[m,n,o,p]\n",
    "    end\n",
    "end\n",
    "Ctrans = SymFourthOrderTensorValue(C_mattransformed[1,1,1,1],C_mattransformed[1,1,1,2],C_mattransformed[1,1,2,2],C_mattransformed[1,1,1,2],C_mattransformed[1,2,1,2],C_mattransformed[2,2,1,2],C_mattransformed[1,1,2,2],C_mattransformed[2,2,1,2],C_mattransformed[2,2,2,2])"
   ]
  },
  {
   "cell_type": "markdown",
   "id": "4f952e35",
   "metadata": {},
   "source": [
    "### Third order piezoelectric tensor"
   ]
  },
  {
   "cell_type": "code",
   "execution_count": 19,
   "id": "6fab65c1",
   "metadata": {},
   "outputs": [
    {
     "data": {
      "text/plain": [
       "13.44"
      ]
     },
     "execution_count": 19,
     "metadata": {},
     "output_type": "execute_result"
    }
   ],
   "source": [
    "const e₂₁_mat = -6.98\n",
    "const e₂₂_mat = 13.84\n",
    "const e₁₆_mat = 13.44"
   ]
  },
  {
   "cell_type": "code",
   "execution_count": 20,
   "id": "1e0b53be",
   "metadata": {},
   "outputs": [
    {
     "data": {
      "text/plain": [
       "ThirdOrderTensorValue{2, 2, 2, Float64, 8}(13.84, 0.0, 0.0, 13.44, 0.0, 13.44, -6.98, 0.0)"
      ]
     },
     "execution_count": 20,
     "metadata": {},
     "output_type": "execute_result"
    }
   ],
   "source": [
    "function PiezoThirdOrderConstTensor(e₂₁,e₂₂,e₁₆)\n",
    "    # 1 for Plane Stress and 2 Plane Strain Condition \n",
    "      e111 = 0.0\n",
    "      e112 = e₁₆\n",
    "      e121 = e₁₆\n",
    "      e122 = 0.0\n",
    "      e211 = e₂₁\n",
    "      e212 = 0.0\n",
    "      e221 = 0.0\n",
    "      e222 = e₂₂   \n",
    "    vals = zeros(2,2,2);\n",
    "    vals[1,:,:] .= [e111 e112\n",
    "                    e121 e122]\n",
    "    vals[2,:,:] .= [e211 e212\n",
    "                    e221 e222]\n",
    "    e_ten = ThirdOrderTensorValue(vals ...)\n",
    "    return  e_ten\n",
    "end\n",
    "const e_mat = PiezoThirdOrderConstTensor(e₂₁_mat,e₂₂_mat,e₁₆_mat)\n",
    "\n",
    "e_mattransformed = zeros(2,2,2)\n",
    "\n",
    "Q = [0 1; -1 0]\n",
    "for i in 1:2\n",
    "    for j in 1:2 \n",
    "        for k in 1:2 \n",
    "            for m in 1:2\n",
    "                for n in 1:2\n",
    "                   for o in 1:2\n",
    "                        e_mattransformed[i,j,k] += Q[i,m]*Q[j,n]*Q[k,o]*e_mat[m,n,o]\n",
    "                    end\n",
    "                end\n",
    "            end\n",
    "        end\n",
    "    end\n",
    "end\n",
    "e_mattrans = ThirdOrderTensorValue(e_mattransformed ...)"
   ]
  },
  {
   "cell_type": "markdown",
   "id": "60a28a7f",
   "metadata": {},
   "source": [
    "### Second order electrical permittivity tensor"
   ]
  },
  {
   "cell_type": "code",
   "execution_count": 21,
   "id": "bf770ed4",
   "metadata": {},
   "outputs": [
    {
     "data": {
      "text/plain": [
       "6.0e-9"
      ]
     },
     "execution_count": 21,
     "metadata": {},
     "output_type": "execute_result"
    }
   ],
   "source": [
    "const K₁₁_mat = 5.47e-9\n",
    "const K₂₂_mat = 6e-9"
   ]
  },
  {
   "cell_type": "code",
   "execution_count": 22,
   "id": "9eaaf365",
   "metadata": {},
   "outputs": [
    {
     "data": {
      "text/plain": [
       "TensorValue{2, 2, Float64, 4}(5.47e-9, 0.0, 0.0, 6.0e-9)"
      ]
     },
     "execution_count": 22,
     "metadata": {},
     "output_type": "execute_result"
    }
   ],
   "source": [
    "const K_mat = TensorValue(K₁₁_mat,0.0,0.0, K₂₂_mat)"
   ]
  },
  {
   "cell_type": "markdown",
   "id": "b6bd7b12",
   "metadata": {},
   "source": [
    "### Thermal Coefficient"
   ]
  },
  {
   "cell_type": "code",
   "execution_count": 23,
   "id": "697236aa",
   "metadata": {},
   "outputs": [
    {
     "data": {
      "text/plain": [
       "2.62e-6"
      ]
     },
     "execution_count": 23,
     "metadata": {},
     "output_type": "execute_result"
    }
   ],
   "source": [
    "const α₁₁_mat = 1.97e-6\n",
    "const α₂₂_mat = 2.62e-6"
   ]
  },
  {
   "cell_type": "code",
   "execution_count": 24,
   "id": "ab2befd1",
   "metadata": {},
   "outputs": [
    {
     "data": {
      "text/plain": [
       "TensorValue{2, 2, Float64, 4}(1.97e-6, 0.0, 0.0, 2.62e-6)"
      ]
     },
     "execution_count": 24,
     "metadata": {},
     "output_type": "execute_result"
    }
   ],
   "source": [
    "const α_mat = TensorValue(α₁₁_mat,0.0,0.0, α₂₂_mat)"
   ]
  },
  {
   "cell_type": "code",
   "execution_count": 25,
   "id": "2e58b38f",
   "metadata": {},
   "outputs": [
    {
     "data": {
      "text/plain": [
       "κGradTemp (generic function with 1 method)"
      ]
     },
     "execution_count": 25,
     "metadata": {},
     "output_type": "execute_result"
    }
   ],
   "source": [
    "κ_mat = 5.1\n",
    "κGradTemp(∇,s_in) = (s_in^2 + η)*κ_mat*∇"
   ]
  },
  {
   "cell_type": "markdown",
   "id": "c4dbffce",
   "metadata": {},
   "source": [
    "## Stress\n",
    "\n",
    "$\\sigma_{elas}(\\epsilon(\\boldsymbol{u})) =  \\mathbb{C}\\,\\boldsymbol{\\epsilon}$\n",
    "\n",
    "$\\sigma_{elasMod}(\\epsilon(\\boldsymbol{u}),s) =  \\mathbb{C}_{mod}\\,\\boldsymbol{\\epsilon}$\n",
    "\n",
    "$\\sigma_{piezo}(\\boldsymbol{E}(\\phi)) = - \\mathbb{e}^T\\,\\boldsymbol{E}$\n",
    "\n",
    "or, $\\sigma_{piezo}(\\nabla\\phi) =  \\mathbb{e}^T\\,\\boldsymbol{\\nabla}\\phi$\n",
    "\n",
    "$\\sigma_{piezoMod}(\\nabla\\phi,s) =  \\mathbb{e}_{mod}^T\\,\\boldsymbol{\\nabla}\\phi$"
   ]
  },
  {
   "cell_type": "code",
   "execution_count": 26,
   "id": "60f8214c",
   "metadata": {},
   "outputs": [
    {
     "data": {
      "text/plain": [
       "σ_thermMod (generic function with 1 method)"
      ]
     },
     "execution_count": 26,
     "metadata": {},
     "output_type": "execute_result"
    }
   ],
   "source": [
    "σ_elas(ε) = Ctrans ⊙ ε\n",
    "\n",
    "function σ_elasMod(ε, T, ε_in, s_in, T_in)\n",
    "    εElas_in = ε_in - α_mat*(T_in-T0)\n",
    "    εElas = ε - α_mat*(T-T0)\n",
    "    if tr(εElas_in)  >= 0\n",
    "      σ = (s_in^2 + η)*σ_elas(εElas)\n",
    "    else\n",
    "      σ = (s_in^2 + η)*I4_dev ⊙ σ_elas(εElas) + I4_vol⊙ σ_elas(εElas)\n",
    "    end  \n",
    "    return σ\n",
    "end\n",
    "\n",
    "function σ_TotMod1(ε, ε_in, s_in, T_in)\n",
    "    εElas_in = ε_in - α_mat*(T_in-T0)\n",
    "    εTot = ε\n",
    " if tr(εElas_in)  >= 0\n",
    "      σ = (s_in^2 + η)*σ_elas(εTot)\n",
    "  elseif tr(εElas_in) < 0\n",
    "      σ = (s_in^2 + η)*I4_dev ⊙ σ_elas(εTot) + I4_vol⊙ σ_elas(εTot)\n",
    "  end  \n",
    "    return σ\n",
    "end\n",
    "\n",
    "function σ_TotMod2(T, ε_in, s_in, T_in)\n",
    "    εElas_in = ε_in - α_mat*(T_in-T0)\n",
    "    εElas = - α_mat*T\n",
    " if tr(εElas_in)  >= 0\n",
    "      σ = (s_in^2 + η)*σ_elas(εElas)\n",
    "  elseif tr(εElas_in) < 0\n",
    "      σ = (s_in^2 + η)*I4_dev ⊙ σ_elas(εElas) + I4_vol ⊙ σ_elas(εElas)\n",
    "  end  \n",
    "    return σ\n",
    "end\n",
    "\n",
    "function σ_thermMod(ε_in,s_in,T_in)\n",
    "    \n",
    "   εElas_in = ε_in - α_mat*(T_in-T0)\n",
    "   εElasTher = α_mat*(T0)\n",
    "    if tr(εElas_in)  >= 0\n",
    "        σF = (s_in^2 + η)*σ_elas(εElasTher)\n",
    "    elseif tr(εElas_in) < 0\n",
    "        σF = (s_in^2 + η)*I4_dev ⊙ σ_elas(εElasTher) + I4_vol ⊙ σ_elas(εElasTher)\n",
    "    end  \n",
    "    return σF\n",
    "end"
   ]
  },
  {
   "cell_type": "code",
   "execution_count": 27,
   "id": "21d132db",
   "metadata": {},
   "outputs": [
    {
     "data": {
      "text/plain": [
       "σ_piezoMod (generic function with 1 method)"
      ]
     },
     "execution_count": 27,
     "metadata": {},
     "output_type": "execute_result"
    }
   ],
   "source": [
    "σ_piezo(∇) = ∇ ⋅ e_mattrans\n",
    "\n",
    "σ_piezoMod(∇, s_in) = (s_in^2 + η)*σ_piezo(∇)"
   ]
  },
  {
   "cell_type": "markdown",
   "id": "7f8df418",
   "metadata": {},
   "source": [
    "### Electric Displacement\n",
    "\n",
    "$\\boldsymbol{D}_{elas}(ε(\\boldsymbol{u}),tag) = \\mathbb{e}\\boldsymbol{\\epsilon}$\n",
    "\n",
    "$\\boldsymbol{D}_{elasMod}(ε(\\boldsymbol{u}),s,tag) = \\mathbb{e}_{mod}\\boldsymbol{\\epsilon}$\n",
    "\n",
    "$\\boldsymbol{D}_{piezo}(\\boldsymbol{E}(\\phi)) = -\\boldsymbol{K}\\boldsymbol{E} $\n",
    "\n",
    "or, $\\boldsymbol{D}_{piezo}(\\nabla\\phi)  = \\boldsymbol{K}\\boldsymbol{\\nabla} \\phi$\n",
    "\n",
    "$\\boldsymbol{D}_{piezoMod}(\\nabla\\phi,s)  = \\boldsymbol{K}_{mod}\\boldsymbol{\\nabla} \\phi$"
   ]
  },
  {
   "cell_type": "code",
   "execution_count": 28,
   "id": "1078f83c",
   "metadata": {},
   "outputs": [
    {
     "data": {
      "text/plain": [
       "D_ThermMod (generic function with 1 method)"
      ]
     },
     "execution_count": 28,
     "metadata": {},
     "output_type": "execute_result"
    }
   ],
   "source": [
    "function D_elasMod1(ε, s_in)\n",
    "    εElas = ε\n",
    "    return (s_in^2 + η)*(e_mattrans ⋅² εElas)\n",
    "end\n",
    "\n",
    "function D_elasMod2(T, s_in)\n",
    "    εElas = - α_mat*T\n",
    "    return (s_in^2 + η)*(e_mattrans ⋅² εElas)\n",
    "end\n",
    "\n",
    "function D_ThermMod(s_in)\n",
    "    εElas = α_mat*T0\n",
    "    return (s_in^2 + η)*(e_mattrans ⋅² εElas)\n",
    "end"
   ]
  },
  {
   "cell_type": "code",
   "execution_count": 29,
   "id": "227c231a",
   "metadata": {},
   "outputs": [
    {
     "data": {
      "text/plain": [
       "D_piezoMod (generic function with 1 method)"
      ]
     },
     "execution_count": 29,
     "metadata": {},
     "output_type": "execute_result"
    }
   ],
   "source": [
    "D_piezo(∇) = K_mat ⋅ ∇\n",
    "\n",
    "function D_piezoMod(∇, s_in)   \n",
    "    return (s_in^2 + η)*D_piezo(∇)\n",
    "end"
   ]
  },
  {
   "cell_type": "code",
   "execution_count": 30,
   "id": "db3ac01d",
   "metadata": {},
   "outputs": [
    {
     "data": {
      "text/plain": [
       "ψPos (generic function with 1 method)"
      ]
     },
     "execution_count": 30,
     "metadata": {},
     "output_type": "execute_result"
    }
   ],
   "source": [
    "function ψPos(ε_in, T_in, ∇_in)\n",
    "    εElas_in = ε_in - α_mat*(T_in-T0)\n",
    "    if tr(εElas_in) >= 0\n",
    "        ψPlus = 0.5*(εElas_in ⊙ σ_elas(εElas_in))\n",
    "    elseif tr(εElas_in) < 0\n",
    "        ψPlus = 0.5*((I4_dev ⊙ σ_elas(εElas_in)) ⊙ (I4_dev ⊙ εElas_in)) \n",
    "    end\n",
    "    return ψPlus\n",
    "end"
   ]
  },
  {
   "cell_type": "raw",
   "id": "8c29047d",
   "metadata": {},
   "source": [
    "+ (σ_piezo(∇_in) ⊙ εElas_in)\n",
    "+ (σ_piezo(∇_in) ⊙ (I4_dev ⊙ εElas_in)"
   ]
  },
  {
   "cell_type": "code",
   "execution_count": 31,
   "id": "73d2d5f5",
   "metadata": {},
   "outputs": [
    {
     "data": {
      "text/plain": [
       "new_EnergyState (generic function with 1 method)"
      ]
     },
     "execution_count": 31,
     "metadata": {},
     "output_type": "execute_result"
    }
   ],
   "source": [
    "function new_EnergyState(ψPlusPrev_in,ψhPos_in)\n",
    "  ψPlus_in = ψhPos_in\n",
    "  if ψPlus_in >= ψPlusPrev_in\n",
    "    ψPlus_out = ψPlus_in\n",
    "  else\n",
    "    ψPlus_out = ψPlusPrev_in\n",
    "  end\n",
    "  true,ψPlus_out\n",
    "end"
   ]
  },
  {
   "cell_type": "markdown",
   "id": "6350e14b",
   "metadata": {},
   "source": [
    "## FE formulation"
   ]
  },
  {
   "cell_type": "code",
   "execution_count": 32,
   "id": "864a25ac",
   "metadata": {},
   "outputs": [
    {
     "data": {
      "text/plain": [
       "project (generic function with 1 method)"
      ]
     },
     "execution_count": 32,
     "metadata": {},
     "output_type": "execute_result"
    }
   ],
   "source": [
    "function project(q,model,dΩ,order)\n",
    "  reffe = ReferenceFE(lagrangian,Float64,order)\n",
    "  V = FESpace(model,reffe,conformity=:L2)\n",
    "  a(u,v) = ∫( u*v )*dΩ\n",
    "  l(v) = ∫( v*q )*dΩ\n",
    "  op = AffineFEOperator(a,l,V,V)\n",
    "  qh = Gridap.solve(op)\n",
    "  qh\n",
    "end"
   ]
  },
  {
   "cell_type": "code",
   "execution_count": 33,
   "id": "51a8ca43",
   "metadata": {},
   "outputs": [
    {
     "data": {
      "text/plain": [
       "2"
      ]
     },
     "execution_count": 33,
     "metadata": {},
     "output_type": "execute_result"
    }
   ],
   "source": [
    "order = 1\n",
    "degree = 2*order"
   ]
  },
  {
   "cell_type": "code",
   "execution_count": 34,
   "id": "c7c898cd",
   "metadata": {},
   "outputs": [
    {
     "data": {
      "text/plain": [
       "Measure()"
      ]
     },
     "execution_count": 34,
     "metadata": {},
     "output_type": "execute_result"
    }
   ],
   "source": [
    "Ω = Triangulation(model)\n",
    "dΩ = Measure(Ω,degree)"
   ]
  },
  {
   "cell_type": "code",
   "execution_count": 35,
   "id": "99d91ad7",
   "metadata": {},
   "outputs": [
    {
     "data": {
      "text/plain": [
       "GenericCellField():\n",
       " num_cells: 33\n",
       " DomainStyle: ReferenceDomain()\n",
       " Triangulation: BoundaryTriangulation()\n",
       " Triangulation id: 656941044352017285"
      ]
     },
     "execution_count": 35,
     "metadata": {},
     "output_type": "execute_result"
    }
   ],
   "source": [
    "LoadTagId = get_tag_from_name(labels,\"LoadLine\")\n",
    "Γ_Load = BoundaryTriangulation(model,tags = LoadTagId)\n",
    "dΓ_Load = Measure(Γ_Load,degree)\n",
    "n_Γ_Load = get_normal_vector(Γ_Load)"
   ]
  },
  {
   "cell_type": "code",
   "execution_count": 36,
   "id": "65efc882",
   "metadata": {},
   "outputs": [
    {
     "data": {
      "text/plain": [
       "SingleFieldFEFunction():\n",
       " num_cells: 52232\n",
       " DomainStyle: ReferenceDomain()\n",
       " Triangulation: BodyFittedTriangulation()\n",
       " Triangulation id: 16920488276458578726"
      ]
     },
     "execution_count": 36,
     "metadata": {},
     "output_type": "execute_result"
    }
   ],
   "source": [
    "reffe_PF = ReferenceFE(lagrangian,Float64,order)\n",
    "V0_PF = TestFESpace(model,reffe_PF;\n",
    "  conformity=:H1)\n",
    "U_PF = TrialFESpace(V0_PF)\n",
    "sh = zero(V0_PF)"
   ]
  },
  {
   "cell_type": "code",
   "execution_count": 37,
   "id": "8bc3d5a3",
   "metadata": {},
   "outputs": [
    {
     "data": {
      "text/plain": [
       "SingleFieldFEFunction():\n",
       " num_cells: 52232\n",
       " DomainStyle: ReferenceDomain()\n",
       " Triangulation: BodyFittedTriangulation()\n",
       " Triangulation id: 16920488276458578726"
      ]
     },
     "execution_count": 37,
     "metadata": {},
     "output_type": "execute_result"
    }
   ],
   "source": [
    "reffe_Disp = ReferenceFE(lagrangian,VectorValue{2,Float64},order)\n",
    "        V0_Disp = TestFESpace(model,reffe_Disp;\n",
    "          conformity=:H1,\n",
    "          dirichlet_tags=[\"DirichletLeft\",\"DirichletRight\",\"LoadLine\"],\n",
    "          dirichlet_masks=[(true,true), (false,true),(false,true)])\n",
    "\n",
    "uh = zero(V0_Disp)"
   ]
  },
  {
   "cell_type": "code",
   "execution_count": 38,
   "id": "659cb048",
   "metadata": {},
   "outputs": [
    {
     "data": {
      "text/plain": [
       "SingleFieldFEFunction():\n",
       " num_cells: 52232\n",
       " DomainStyle: ReferenceDomain()\n",
       " Triangulation: BodyFittedTriangulation()\n",
       " Triangulation id: 16920488276458578726"
      ]
     },
     "execution_count": 38,
     "metadata": {},
     "output_type": "execute_result"
    }
   ],
   "source": [
    "reffe_ElecPot = ReferenceFE(lagrangian,Float64,order)\n",
    "V0_ElecPot  = TestFESpace(model,reffe_ElecPot;\n",
    "  conformity=:H1,\n",
    "  dirichlet_tags=[\"ElectricPotentialTempLeft\",\"ElectricPotentialTempRight\"])\n",
    "ϕh = zero(V0_ElecPot)"
   ]
  },
  {
   "cell_type": "code",
   "execution_count": 39,
   "id": "07d74e35",
   "metadata": {},
   "outputs": [
    {
     "data": {
      "text/plain": [
       "SingleFieldFEFunction():\n",
       " num_cells: 52232\n",
       " DomainStyle: ReferenceDomain()\n",
       " Triangulation: BodyFittedTriangulation()\n",
       " Triangulation id: 16920488276458578726"
      ]
     },
     "execution_count": 39,
     "metadata": {},
     "output_type": "execute_result"
    }
   ],
   "source": [
    "reffe_Temp = ReferenceFE(lagrangian,Float64,order)\n",
    "V0_Temp = FESpace(model,reffe_Temp;\n",
    "  conformity=:H1,\n",
    "  dirichlet_tags=[\"ElectricPotentialTempLeft\",\"ElectricPotentialTempRight\"])\n",
    "Th = zero(V0_Temp)"
   ]
  },
  {
   "cell_type": "code",
   "execution_count": 40,
   "id": "322738f8",
   "metadata": {},
   "outputs": [
    {
     "data": {
      "text/plain": [
       "MultiFieldFESpace()"
      ]
     },
     "execution_count": 40,
     "metadata": {},
     "output_type": "execute_result"
    }
   ],
   "source": [
    "V0 = MultiFieldFESpace([V0_Disp,V0_ElecPot,V0_Temp])"
   ]
  },
  {
   "cell_type": "code",
   "execution_count": 41,
   "id": "b7a43151",
   "metadata": {},
   "outputs": [
    {
     "data": {
      "text/plain": [
       "stepPhaseField (generic function with 1 method)"
      ]
     },
     "execution_count": 41,
     "metadata": {},
     "output_type": "execute_result"
    }
   ],
   "source": [
    "function  stepPhaseField(uh_in,ψPlusPrev_in)\n",
    "        \n",
    "        a_PF(s,ϕ) = ∫( Gc*lsp*∇(ϕ)⋅ ∇(s) + 2*ψPlusPrev_in*s*ϕ  + (Gc/lsp)*s*ϕ )*dΩ\n",
    "        b_PF(ϕ) = ∫( (Gc/lsp)*ϕ )*dΩ\n",
    "        op_PF = AffineFEOperator(a_PF,b_PF,U_PF,V0_PF)\n",
    "        sh_out = Gridap.solve(op_PF)           \n",
    "    \n",
    "    return sh_out\n",
    "    \n",
    "end"
   ]
  },
  {
   "cell_type": "code",
   "execution_count": 42,
   "id": "69bf04bd",
   "metadata": {},
   "outputs": [
    {
     "data": {
      "text/plain": [
       "stepDispElecPotTemp (generic function with 1 method)"
      ]
     },
     "execution_count": 42,
     "metadata": {},
     "output_type": "execute_result"
    }
   ],
   "source": [
    " function   stepDispElecPotTemp(uh_in,phih_in,Th_in,sh_in,vApp,phiApp,TApp,delt)\n",
    "    \n",
    "        uApp1(x) = VectorValue(0.0,0.0)\n",
    "        uApp2(x) = VectorValue(0.0,0.0)\n",
    "        uApp3(x) = VectorValue(0.0,-vApp)\n",
    "        U_Disp = TrialFESpace(V0_Disp,[uApp1,uApp2,uApp3])\n",
    "    \n",
    "        phiApp1(x) = 0.0\n",
    "        phiApp2(x) = phiApp\n",
    "        U_ElecPot = TrialFESpace(V0_ElecPot,[phiApp1,phiApp2])\n",
    "    \n",
    "        Tapp1(x) = T0\n",
    "        Tapp2(x) = TApp\n",
    "        U_Temp = TrialFESpace(V0_Temp,[Tapp1,Tapp2])\n",
    "    \n",
    "        U = MultiFieldFESpace([U_Disp,U_ElecPot,U_Temp])\n",
    "    \n",
    "        a((u,ϕ,T),(v,φ,ϑ)) = ∫( ((ε(v)) ⊙ (σ_TotMod1∘(ε(u), ε(uh_in), sh_in, Th_in))) \n",
    "                              + ((ε(v)) ⊙ (σ_TotMod2∘(T, ε(uh_in), sh_in, Th_in)))\n",
    "                              + ((ε(v)) ⊙ (σ_piezoMod∘(∇(ϕ), sh_in)))\n",
    "                              - ((∇(φ))⋅(D_piezoMod∘(∇(ϕ), sh_in))) \n",
    "                              + ((∇(φ))⋅(D_elasMod1∘(ε(u), sh_in)))\n",
    "                              + ((∇(φ))⋅(D_elasMod2∘(T, sh_in)))\n",
    "                              + ((∇(ϑ))⋅(κGradTemp∘(∇(T),sh_in))) \n",
    "                              + (ϑ*((ρ*c*T)/delt)) )*dΩ\n",
    "        b((v,φ,ϑ)) = ∫( -(ε(v) ⊙ (σ_thermMod∘(ε(uh_in),sh_in,Th_in)))\n",
    "                      - (∇(φ)⋅(D_ThermMod∘(sh_in))) \n",
    "                      + (ϑ*((ρ*c*Th_in)/delt)) )*dΩ\n",
    "    \n",
    "        op = AffineFEOperator(a,b,U,V0)\n",
    "        uhPhi = Gridap.solve(op)\n",
    "        uh_out,phih_out,Th_out = uhPhi\n",
    "    \n",
    "    return uh_out,phih_out,Th_out\n",
    "end"
   ]
  },
  {
   "cell_type": "code",
   "execution_count": 43,
   "id": "138bded1",
   "metadata": {},
   "outputs": [],
   "source": [
    "cd(\"ElectricPotention_5.0\")"
   ]
  },
  {
   "cell_type": "code",
   "execution_count": 44,
   "id": "63d5a28c",
   "metadata": {
    "scrolled": true
   },
   "outputs": [
    {
     "name": "stdout",
     "output_type": "stream",
     "text": [
      "\n",
      " Entering displacemtent step1 :1.2000000000000002e-7\n",
      " Relative error = 2.779657387300097e-17\n",
      " Entering displacemtent step2 :2.4000000000000003e-7\n",
      " Relative error = 4.1972604583901204e-7\n",
      " Relative error = 1.3363327516254525e-5\n",
      " Relative error = 5.208232579023444e-10\n",
      " Entering displacemtent step3 :3.6000000000000005e-7\n",
      " Relative error = 1.870598111728629e-13\n",
      " Entering displacemtent step4 :4.800000000000001e-7\n",
      " Relative error = 3.7701462820725026e-5\n",
      " Relative error = 6.209313068950956e-5\n",
      " Relative error = 1.3870804843856135e-8\n",
      " Relative error = 3.152666258571425e-11\n",
      " Entering displacemtent step5 :6.000000000000001e-7\n",
      " Relative error = 8.63480928750781e-14\n",
      " Entering displacemtent step6 :7.200000000000001e-7\n",
      " Relative error = 8.646681639022126e-5\n",
      " Relative error = 0.0001108605438966871\n",
      " Relative error = 6.41584606509559e-8\n",
      " Relative error = 3.757608105461741e-10\n",
      " Entering displacemtent step7 :8.400000000000001e-7\n",
      " Relative error = 2.6687525132727246e-12\n",
      " Entering displacemtent step8 :9.600000000000001e-7\n",
      " Relative error = 0.00013516487741931712\n",
      " Relative error = 0.00015958433617055173\n",
      " Relative error = 1.7671099120291817e-7\n",
      " Relative error = 1.9691414565631113e-9\n",
      " Entering displacemtent step9 :1.0800000000000002e-6\n",
      " Relative error = 2.680320257654219e-11\n",
      " Entering displacemtent step10 :1.2000000000000002e-6\n",
      " Relative error = 8.477104805265604e-5\n",
      " Relative error = 1.5781061978429703e-5\n",
      " Relative error = 5.4883346199818904e-8\n",
      " Relative error = 8.239836755911339e-10\n",
      " Entering displacemtent step11 :1.32e-6\n",
      " Relative error = 1.462081164456653e-11\n",
      " Entering displacemtent step12 :1.4400000000000002e-6\n",
      " Relative error = 1.633187943796369e-5\n",
      " Relative error = 1.700575106069744e-5\n",
      " Relative error = 6.76076651634343e-8\n",
      " Relative error = 1.1722194575329708e-9\n",
      " Entering displacemtent step13 :1.5600000000000003e-6\n",
      " Relative error = 2.3822119670311878e-11\n",
      " Entering displacemtent step14 :1.6800000000000002e-6\n",
      " Relative error = 1.755816694172493e-5\n",
      " Relative error = 1.8248115191438147e-5\n",
      " Relative error = 8.330156198414266e-8\n",
      " Relative error = 1.6616458558275983e-9\n",
      " Entering displacemtent step15 :1.8000000000000001e-6\n",
      " Relative error = 4.018174381668789e-11\n",
      " Entering displacemtent step16 :1.9200000000000003e-6\n",
      " Relative error = 1.8784177175803402e-5\n",
      " Relative error = 1.9488274960021416e-5\n",
      " Relative error = 1.0145591611278578e-7\n",
      " Relative error = 2.3168152887535374e-9\n",
      " Entering displacemtent step17 :2.0400000000000004e-6\n",
      " Relative error = 6.34954917475391e-11\n",
      " Entering displacemtent step18 :2.1600000000000005e-6\n",
      " Relative error = 2.0008893343961914e-5\n",
      " Relative error = 2.073778385408955e-5\n",
      " Relative error = 1.2224897857166674e-7\n",
      " Relative error = 3.173229350641565e-9\n",
      " Entering displacemtent step19 :2.28e-6\n",
      " Relative error = 9.957557330507707e-11\n",
      " Entering displacemtent step20 :2.4000000000000003e-6\n",
      " Relative error = 2.1237768603970783e-5\n",
      " Relative error = 2.199115066304237e-5\n",
      " Relative error = 1.4605048969671614e-7\n",
      " Relative error = 4.292351522718674e-9\n",
      " Entering displacemtent step21 :2.5200000000000004e-6\n",
      " Relative error = 1.4853893916421603e-10\n",
      " Entering displacemtent step22 :2.64e-6\n",
      " Relative error = 2.247287540826434e-5\n",
      " Relative error = 2.3249553775258858e-5\n",
      " Relative error = 1.73085193645051e-7\n",
      " Relative error = 5.720587351166343e-9\n",
      " Entering displacemtent step23 :2.7600000000000003e-6\n",
      " Relative error = 2.2273244223184522e-10\n",
      " Entering displacemtent step24 :2.8800000000000004e-6\n",
      " Relative error = 2.3704255262681525e-5\n",
      " Relative error = 2.4522988718643765e-5\n",
      " Relative error = 2.0348702178704875e-7\n",
      " Relative error = 7.527884876993486e-9\n",
      " Entering displacemtent step25 :3.0000000000000005e-6\n",
      " Relative error = 3.2809540157666556e-10\n",
      " Entering displacemtent step26 :3.1200000000000006e-6\n",
      " Relative error = 2.496952012156833e-5\n",
      " Relative error = 2.582006881115582e-5\n",
      " Relative error = 2.3771340567801585e-7\n",
      " Relative error = 9.78712364116597e-9\n",
      " Entering displacemtent step27 :3.2400000000000003e-6\n",
      " Relative error = 4.736594578451974e-10\n",
      " Entering displacemtent step28 :3.3600000000000004e-6\n",
      " Relative error = 2.622033525431938e-5\n",
      " Relative error = 2.7111968528207753e-5\n",
      " Relative error = 2.7609985064624265e-7\n",
      " Relative error = 1.2608380501892308e-8\n",
      " Relative error = 6.752321916277366e-10\n",
      " Entering displacemtent step29 :3.4800000000000006e-6\n",
      " Relative error = 3.711127979871058e-11\n",
      " Entering displacemtent step30 :3.6000000000000003e-6\n",
      " Relative error = 2.7482449634568143e-5\n",
      " Relative error = 2.8420438149160036e-5\n",
      " Relative error = 3.1938352616956114e-7\n",
      " Relative error = 1.6094715003068424e-8\n",
      " Relative error = 9.576720417780738e-10\n",
      " Entering displacemtent step31 :3.7200000000000004e-6\n",
      " Relative error = 5.94343575318002e-11\n",
      " Entering displacemtent step32 :3.8400000000000005e-6\n",
      " Relative error = 2.876279631375203e-5\n",
      " Relative error = 2.9765573578306084e-5\n",
      " Relative error = 3.666231842280749e-7\n",
      " Relative error = 2.034164898133511e-8\n",
      " Relative error = 1.328198904242673e-9\n",
      " Entering displacemtent step33 :3.96e-6\n",
      " Relative error = 9.005387355380204e-11\n",
      " Entering displacemtent step34 :4.080000000000001e-6\n",
      " Relative error = 3.0067271631647614e-5\n",
      " Relative error = 3.112576776241418e-5\n",
      " Relative error = 4.185020254688643e-7\n",
      " Relative error = 2.5481042865596692e-8\n",
      " Relative error = 1.8180640682194827e-9\n",
      " Entering displacemtent step35 :4.2000000000000004e-6\n",
      " Relative error = 1.3483290703375532e-10\n",
      " Entering displacemtent step36 :4.320000000000001e-6\n",
      " Relative error = 3.139400075643281e-5\n",
      " Relative error = 3.2553786365835436e-5\n",
      " Relative error = 4.76172991451728e-7\n",
      " Relative error = 3.1716331043401525e-8\n",
      " Relative error = 2.4769244512344276e-9\n",
      " Entering displacemtent step37 :4.440000000000001e-6\n",
      " Relative error = 2.0074991203121268e-10\n",
      " Entering displacemtent step38 :4.56e-6\n",
      " Relative error = 3.276378305902579e-5\n",
      " Relative error = 3.3991699613915046e-5\n",
      " Relative error = 5.394117123211551e-7\n",
      " Relative error = 3.918656730867343e-8\n",
      " Relative error = 3.3294730757530328e-9\n",
      " Entering displacemtent step39 :4.680000000000001e-6\n",
      " Relative error = 2.9330034354255217e-10\n",
      " Entering displacemtent step40 :4.800000000000001e-6\n",
      " Relative error = 3.421757235429341e-5\n",
      " Relative error = 3.555935647764621e-5\n",
      " Relative error = 6.091516963803496e-7\n",
      " Relative error = 4.812666153214577e-8\n",
      " Relative error = 4.442706846845081e-9\n",
      " Entering displacemtent step41 :4.92e-6\n",
      " Relative error = 4.2541248280931843e-10\n",
      " Entering displacemtent step42 :5.040000000000001e-6\n",
      " Relative error = 3.5729861243067615e-5\n",
      " Relative error = 3.714972987722134e-5\n",
      " Relative error = 6.849302408963945e-7\n",
      " Relative error = 5.875551599013611e-8\n",
      " Relative error = 5.88387865985041e-9\n",
      " Entering displacemtent step43 :5.1600000000000006e-6\n",
      " Relative error = 6.113851307144839e-10\n",
      " Entering displacemtent step44 :5.28e-6\n",
      " Relative error = 3.725399767848316e-5\n",
      " Relative error = 3.877233009611144e-5\n",
      " Relative error = 7.680631327217569e-7\n",
      " Relative error = 7.133989960764084e-8\n",
      " Relative error = 7.716966516297064e-9\n",
      " Entering displacemtent step45 :5.400000000000001e-6\n",
      " Relative error = 8.639614214177742e-10\n",
      " Entering displacemtent step46 :5.5200000000000005e-6\n",
      " Relative error = 3.876427645986911e-5\n",
      " Relative error = 4.036477173733179e-5\n",
      " Relative error = 8.585987472582875e-7\n",
      " Relative error = 8.61684941685521e-8\n",
      " Relative error = 1.0058475412650413e-8\n",
      " Relative error = 1.2247529354561296e-9\n",
      " Entering displacemtent step47 :5.640000000000001e-6\n",
      " Relative error = 1.5376201935010035e-10\n",
      " Entering displacemtent step48 :5.760000000000001e-6\n",
      " Relative error = 4.028334210853566e-5\n",
      " Relative error = 4.202541181501591e-5\n",
      " Relative error = 9.574338791788073e-7\n",
      " Relative error = 1.0362225015158285e-7\n",
      " Relative error = 1.30459912450867e-8\n",
      " Relative error = 1.7038032562305982e-9\n",
      " Entering displacemtent step49 :5.8800000000000005e-6\n",
      " Relative error = 2.3053343211715333e-10\n",
      " Entering displacemtent step50 :6.000000000000001e-6\n",
      " Relative error = 4.18850445815609e-5\n",
      " Relative error = 4.3712009148657544e-5\n",
      " Relative error = 1.0659012439772378e-6\n",
      " Relative error = 1.2406170777040904e-7\n",
      " Relative error = 1.6778949425914862e-8\n",
      " Relative error = 2.3546821433996966e-9\n",
      " Entering displacemtent step51 :6.120000000000001e-6\n",
      " Relative error = 3.4053886335421985e-10\n",
      " Entering displacemtent step52 :6.240000000000001e-6\n",
      " Relative error = 4.347291178514128e-5\n",
      " Relative error = 4.543250579246928e-5\n",
      " Relative error = 1.1828097907237857e-6\n",
      " Relative error = 1.4786345681561797e-7\n",
      " Relative error = 2.1449788350366853e-8\n",
      " Relative error = 3.2179291903374584e-9\n",
      " Entering displacemtent step53 :6.360000000000001e-6\n",
      " Relative error = 4.910802618486521e-10\n",
      " Entering displacemtent step54 :6.480000000000001e-6\n",
      " Relative error = 4.503198102226977e-5\n",
      " Relative error = 4.712227831028557e-5\n",
      " Relative error = 1.3093643275005694e-6\n",
      " Relative error = 1.7549360667513954e-7\n",
      " Relative error = 2.7296682081967872e-8\n",
      " Relative error = 4.385949693818856e-9\n",
      " Entering displacemtent step55 :6.600000000000001e-6\n",
      " Relative error = 7.150551362986694e-10\n",
      " Entering displacemtent step56 :6.720000000000001e-6\n",
      " Relative error = 4.659874434695764e-5\n",
      " Relative error = 4.8915055956637654e-5\n",
      " Relative error = 1.4465326427603436e-6\n",
      " Relative error = 2.0778399415118874e-7\n",
      " Relative error = 3.455689670872e-8\n",
      " Relative error = 5.939234508094843e-9\n",
      " Entering displacemtent step57 :6.840000000000001e-6\n",
      " Relative error = 1.0362707840233492e-9\n",
      " Entering displacemtent step58 :6.960000000000001e-6\n",
      " Relative error = 4.8284360889984855e-5\n",
      " Relative error = 5.073415077595821e-5\n",
      " Relative error = 1.596470019725763e-6\n",
      " Relative error = 2.45048999644889e-7\n",
      " Relative error = 4.3578547787478154e-8\n",
      " Relative error = 7.994973699726195e-9\n",
      " Entering displacemtent step59 :7.080000000000001e-6\n",
      " Relative error = 1.5009074846978911e-9\n",
      " Entering displacemtent step60 :7.2000000000000005e-6\n",
      " Relative error = 4.993997386490568e-5\n",
      " Relative error = 5.257461829437773e-5\n",
      " Relative error = 1.7573085127268344e-6\n",
      " Relative error = 2.8836069660873193e-7\n",
      " Relative error = 5.4674216331778524e-8\n",
      " Relative error = 1.0708626645026708e-8\n",
      " Relative error = 2.1341205424431677e-9\n",
      " Entering displacemtent step61 :7.320000000000001e-6\n",
      " Relative error = 4.2286996393261974e-10\n",
      " Entering displacemtent step62 :7.440000000000001e-6\n",
      " Relative error = 5.153530402912494e-5\n",
      " Relative error = 5.431000483722581e-5\n",
      " Relative error = 1.9326021360118615e-6\n",
      " Relative error = 3.382362201257437e-7\n",
      " Relative error = 6.835729259103523e-8\n",
      " Relative error = 1.4248379867852305e-8\n",
      " Relative error = 3.025772091761173e-9\n",
      " Entering displacemtent step63 :7.560000000000001e-6\n",
      " Relative error = 6.366977997008116e-10\n",
      " Entering displacemtent step64 :7.680000000000001e-6\n",
      " Relative error = 5.304162293306251e-5\n",
      " Relative error = 5.600822604835338e-5\n",
      " Relative error = 2.122529296865458e-6\n",
      " Relative error = 3.9602626223263344e-7\n",
      " Relative error = 8.529555795649297e-8\n",
      " Relative error = 1.9068930740003837e-8\n",
      " Relative error = 4.475864216347041e-9\n",
      " Entering displacemtent step65 :7.800000000000002e-6\n",
      " Relative error = 8.683576458155819e-10\n",
      " Entering displacemtent step66 :7.92e-6\n",
      " Relative error = 5.454025430100704e-5\n",
      " Relative error = 5.7735586356632806e-5\n",
      " Relative error = 2.3271170611368594e-6\n",
      " Relative error = 4.620748733322574e-7\n",
      " Relative error = 1.0567696569584152e-7\n",
      " Relative error = 2.4959168385176294e-8\n",
      " Relative error = 5.9465334862417535e-9\n",
      " Entering displacemtent step67 :8.040000000000001e-6\n",
      " Relative error = 1.4328519913886374e-9\n",
      " Entering displacemtent step68 :8.160000000000001e-6\n",
      " Relative error = 5.600588595305986e-5\n",
      " Relative error = 5.9471605283611224e-5\n",
      " Relative error = 2.5482750767830324e-6\n",
      " Relative error = 5.383003379243442e-7\n",
      " Relative error = 1.3088140927351228e-7\n",
      " Relative error = 3.2823386259992355e-8\n",
      " Relative error = 8.329415245343478e-9\n",
      " Entering displacemtent step69 :8.28e-6\n",
      " Relative error = 2.116089436793955e-9\n",
      " Entering displacemtent step70 :8.400000000000001e-6\n",
      " Relative error = 5.745187680713676e-5\n",
      " Relative error = 6.117447906213406e-5\n",
      " Relative error = 2.7884003885837255e-6\n",
      " Relative error = 6.261184504706894e-7\n",
      " Relative error = 1.6167655270286862e-7\n",
      " Relative error = 4.305490937272696e-8\n",
      " Relative error = 1.159623950092728e-8\n",
      " Relative error = 3.1601870599152245e-9\n",
      " Entering displacemtent step71 :8.520000000000001e-6\n",
      " Relative error = 8.498939347122535e-10\n",
      " Entering displacemtent step72 :8.640000000000002e-6\n",
      " Relative error = 5.885174699611192e-5\n",
      " Relative error = 6.286280590562431e-5\n",
      " Relative error = 3.0480278857567355e-6\n",
      " Relative error = 7.270560155936278e-7\n",
      " Relative error = 1.9917364419501132e-7\n",
      " Relative error = 5.6293175524537977e-8\n",
      " Relative error = 1.6085978809574423e-8\n",
      " Relative error = 4.584339482989686e-9\n",
      " Entering displacemtent step73 :8.76e-6\n",
      " Relative error = 1.3391766424283395e-9\n",
      " Entering displacemtent step74 :8.880000000000001e-6\n",
      " Relative error = 6.021934381761159e-5\n",
      " Relative error = 6.457039710904774e-5\n",
      " Relative error = 3.3292397260128534e-6\n",
      " Relative error = 8.431033454472572e-7\n",
      " Relative error = 2.4496632839873565e-7\n",
      " Relative error = 7.34175516280451e-8\n",
      " Relative error = 2.2216194851220024e-8\n",
      " Relative error = 6.760075813411205e-9\n",
      " Entering displacemtent step75 :9.000000000000002e-6\n",
      " Relative error = 2.0481875805990588e-9\n",
      " Entering displacemtent step76 :9.12e-6\n",
      " Relative error = 6.15247394788685e-5\n",
      " Relative error = 6.624601409163902e-5\n",
      " Relative error = 3.6345972787964214e-6\n",
      " Relative error = 9.767230795634854e-7\n",
      " Relative error = 3.008413469231866e-7\n",
      " Relative error = 9.559172680482941e-8\n",
      " Relative error = 3.06634549857491e-8\n",
      " Relative error = 9.877962362578383e-9\n",
      " Entering displacemtent step77 :9.240000000000001e-6\n",
      " Relative error = 3.1774358247065776e-9\n",
      " Entering displacemtent step78 :9.360000000000002e-6\n",
      " Relative error = 6.278970842891916e-5\n",
      " Relative error = 6.790754018637732e-5\n",
      " Relative error = 3.965694299655583e-6\n",
      " Relative error = 1.1303755440982688e-6\n",
      " Relative error = 3.6904743223357806e-7\n",
      " Relative error = 1.2424730971358632e-7\n",
      " Relative error = 4.223065940206113e-8\n",
      " Relative error = 1.4388379466534181e-8\n",
      " Relative error = 4.9273059677035916e-9\n",
      " Entering displacemtent step79 :9.48e-6\n",
      " Relative error = 1.6972262704504576e-9\n",
      " Entering displacemtent step80 :9.600000000000001e-6\n",
      " Relative error = 6.397315627342151e-5\n",
      " Relative error = 6.954979871778175e-5\n",
      " Relative error = 4.324553403997738e-6\n",
      " Relative error = 1.3074270830534868e-6\n",
      " Relative error = 4.5231130261097584e-7\n",
      " Relative error = 1.613785872577903e-7\n",
      " Relative error = 5.8121260936078376e-8\n",
      " Relative error = 2.0976162232557793e-8\n",
      " Relative error = 7.598896201902337e-9\n",
      " Entering displacemtent step81 :9.720000000000002e-6\n",
      " Relative error = 2.752051544320955e-9\n",
      " Entering displacemtent step82 :9.84e-6\n",
      " Relative error = 6.5099711274441e-5\n",
      " Relative error = 7.120036830180132e-5\n",
      " Relative error = 4.714887421282789e-6\n",
      " Relative error = 1.5114770070440101e-6\n",
      " Relative error = 5.541446550031136e-7\n",
      " Relative error = 2.0952050816493995e-7\n",
      " Relative error = 7.994158461387252e-8\n",
      " Relative error = 3.057972884185664e-8\n",
      " Relative error = 1.1732863850235115e-8\n",
      " Relative error = 4.484256783644382e-9\n",
      " Entering displacemtent step83 :9.960000000000001e-6\n",
      " Relative error = 1.7293818815727127e-9\n",
      " Entering displacemtent step84 :1.0080000000000002e-5\n",
      " Relative error = 6.615943578730028e-5\n",
      " Relative error = 7.285218191783513e-5\n",
      " Relative error = 5.139524223666385e-6\n",
      " Relative error = 1.747153695888011e-6\n",
      " Relative error = 6.789185416490407e-7\n",
      " Relative error = 2.7197495029559314e-7\n",
      " Relative error = 1.099452756861491e-7\n",
      " Relative error = 4.4555694822219237e-8\n",
      " Relative error = 1.8104528271816047e-8\n",
      " Relative error = 7.358731418286728e-9\n",
      " Entering displacemtent step85 :1.02e-5\n",
      " Relative error = 2.990426239532911e-9\n",
      " Entering displacemtent step86 :1.0320000000000001e-5\n",
      " Relative error = 6.712575770482041e-5\n",
      " Relative error = 7.452876054190886e-5\n",
      " Relative error = 5.604140298195602e-6\n",
      " Relative error = 2.020440532083296e-6\n",
      " Relative error = 8.32384085754075e-7\n",
      " Relative error = 3.533846648429399e-7\n",
      " Relative error = 1.513806370514571e-7\n",
      " Relative error = 6.503101608731123e-8\n",
      " Relative error = 2.798486644292345e-8\n",
      " Relative error = 1.2035013421626913e-8\n",
      " Entering displacemtent step87 :1.0440000000000002e-5\n",
      " Relative error = 5.193577619903178e-9\n",
      " Entering displacemtent step88 :1.056e-5\n",
      " Relative error = 6.799740015255719e-5\n",
      " Relative error = 7.615885287462213e-5\n",
      " Relative error = 6.112713258202396e-6\n"
     ]
    },
    {
     "name": "stdout",
     "output_type": "stream",
     "text": [
      " Relative error = 2.338545242488257e-6\n",
      " Relative error = 1.0215871075813435e-6\n",
      " Relative error = 4.5988278920762293e-7\n",
      " Relative error = 2.088755170343531e-7\n",
      " Relative error = 9.517369076686643e-8\n",
      " Relative error = 4.342483738561022e-8\n",
      " Relative error = 1.9838305976157704e-8\n",
      " Entering displacemtent step89 :1.0680000000000001e-5\n",
      " Relative error = 9.030751159632886e-9\n",
      " Entering displacemtent step90 :1.0800000000000002e-5\n",
      " Relative error = 6.874583912628307e-5\n",
      " Relative error = 7.780541863636576e-5\n",
      " Relative error = 6.670844866345048e-6\n",
      " Relative error = 2.7104585492916568e-6\n",
      " Relative error = 1.2563257402381562e-6\n",
      " Relative error = 5.99917971240983e-7\n",
      " Relative error = 2.891618617228724e-7\n",
      " Relative error = 1.3973125251007004e-7\n",
      " Relative error = 6.776337991135864e-8\n",
      " Relative error = 3.273330570432184e-8\n",
      " Entering displacemtent step91 :1.0920000000000002e-5\n",
      " Relative error = 1.5913711239859078e-8\n",
      " Relative error = 6.930979395790156e-5\n",
      " Relative error = 5.078512905446634e-6\n",
      " Relative error = 2.0377473206322933e-6\n",
      " Relative error = 9.657404943527408e-7\n",
      " Relative error = 4.744589205187229e-7\n",
      " Relative error = 2.356609639653878e-7\n",
      " Relative error = 1.1733561733359667e-7\n",
      " Relative error = 5.86013896839431e-8\n",
      " Relative error = 2.9204527896313808e-8\n",
      " Entering displacemtent step92 :1.1040000000000001e-5\n",
      " Relative error = 1.4627693194040033e-8\n",
      " Relative error = 7.18070785715238e-5\n",
      " Relative error = 5.279985543392532e-6\n",
      " Relative error = 2.177253714649363e-6\n",
      " Relative error = 1.0628143665436395e-6\n",
      " Relative error = 5.381330077661241e-7\n",
      " Relative error = 2.754106920470478e-7\n",
      " Relative error = 1.4142624714641317e-7\n",
      " Relative error = 7.273619437426153e-8\n",
      " Relative error = 3.7422966754651556e-8\n",
      " Entering displacemtent step93 :1.1160000000000002e-5\n",
      " Relative error = 1.927063814583387e-8\n",
      " Relative error = 7.217787582391098e-5\n",
      " Relative error = 5.476046175749062e-6\n",
      " Relative error = 2.3281304634667552e-6\n",
      " Relative error = 1.1717121891799329e-6\n",
      " Relative error = 6.116568883664944e-7\n",
      " Relative error = 3.2274135907099226e-7\n",
      " Relative error = 1.7091508120885945e-7\n",
      " Relative error = 9.065770027781684e-8\n",
      " Relative error = 4.8102590299997437e-8\n",
      " Entering displacemtent step94 :1.1280000000000002e-5\n",
      " Relative error = 2.553435204859871e-8\n",
      " Relative error = 7.250917039125855e-5\n",
      " Relative error = 5.677962755729946e-6\n",
      " Relative error = 2.49059556081294e-6\n",
      " Relative error = 1.2930085915352396e-6\n",
      " Relative error = 6.961870375191254e-7\n",
      " Relative error = 3.789330241463342e-7\n",
      " Relative error = 2.0701779319552562e-7\n",
      " Relative error = 1.13277194162196e-7\n",
      " Relative error = 6.197777629498844e-8\n",
      " Entering displacemtent step95 :1.1400000000000001e-5\n",
      " Relative error = 3.3984634876691295e-8\n",
      " Relative error = 7.28367491359467e-5\n",
      " Relative error = 5.887542208673259e-6\n",
      " Relative error = 2.666313462525374e-6\n",
      " Relative error = 1.4284847916115965e-6\n",
      " Relative error = 7.936871557391983e-7\n",
      " Relative error = 4.4586276400667617e-7\n",
      " Relative error = 2.513813919759373e-7\n",
      " Relative error = 1.420012292251458e-7\n",
      " Relative error = 8.021794743196162e-8\n",
      " Entering displacemtent step96 :1.1520000000000002e-5\n",
      " Relative error = 4.537098951713129e-8\n",
      " Relative error = 7.306330911037433e-5\n",
      " Relative error = 6.107310899329772e-6\n",
      " Relative error = 2.8574138842846593e-6\n",
      " Relative error = 1.5806125167263626e-6\n",
      " Relative error = 9.067789501273758e-7\n",
      " Relative error = 5.260474208710544e-7\n",
      " Relative error = 3.063104490005122e-7\n",
      " Relative error = 1.7869059392442124e-7\n",
      " Relative error = 1.0431693315664215e-7\n",
      " Entering displacemtent step97 :1.1640000000000002e-5\n",
      " Relative error = 6.09116480315772e-8\n",
      " Relative error = 7.320932142349109e-5\n",
      " Relative error = 6.3371558253344055e-6\n",
      " Relative error = 3.0655397219389937e-6\n",
      " Relative error = 1.7520552476355291e-6\n",
      " Relative error = 1.0385225026393e-6\n",
      " Relative error = 6.225679008811737e-7\n",
      " Relative error = 3.746722529663114e-7\n",
      " Relative error = 2.2592746889984388e-7\n",
      " Relative error = 1.3630359171279532e-7\n",
      " Entering displacemtent step98 :1.1760000000000001e-5\n",
      " Relative error = 8.223528064464512e-8\n",
      " Relative error = 7.327303883359038e-5\n",
      " Relative error = 6.578995551212851e-6\n",
      " Relative error = 3.29362918482939e-6\n",
      " Relative error = 1.946580373530021e-6\n",
      " Relative error = 1.1930843170884002e-6\n",
      " Relative error = 7.396443289651138e-7\n",
      " Relative error = 4.603085562000866e-7\n",
      " Relative error = 2.8713423227020976e-7\n",
      " Relative error = 1.7913699068697386e-7\n",
      " Entering displacemtent step99 :1.1880000000000001e-5\n",
      " Relative error = 1.1193559748905046e-7\n",
      " Relative error = 7.326158567213301e-5\n",
      " Relative error = 6.8341886689563854e-6\n",
      " Relative error = 3.5452317397390807e-6\n",
      " Relative error = 2.1688118546813206e-6\n",
      " Relative error = 1.3757372918550847e-6\n",
      " Relative error = 8.827359858729533e-7\n",
      " Relative error = 5.687275754498261e-7\n",
      " Relative error = 3.67304273296476e-7\n",
      " Relative error = 2.3733697586551295e-7\n",
      " Entering displacemtent step100 :1.2000000000000002e-5\n",
      " Relative error = 1.5354313194966572e-7\n",
      " Relative error = 7.30932514047421e-5\n",
      " Relative error = 7.106792963323014e-6\n",
      " Relative error = 3.825713195035559e-6\n",
      " Relative error = 2.4252809445124585e-6\n",
      " Relative error = 1.593843261115135e-6\n",
      " Relative error = 1.0598016239773996e-6\n",
      " Relative error = 7.076905349632175e-7\n",
      " Relative error = 4.7386508833530976e-7\n",
      " Relative error = 3.1744718174391433e-7\n",
      " Entering displacemtent step101 :1.2120000000000001e-5\n",
      " Relative error = 2.1294305261301104e-7\n",
      " Relative error = 7.275965346407483e-5\n",
      " Relative error = 7.400334574045551e-6\n",
      " Relative error = 4.142328551667703e-6\n",
      " Relative error = 2.724882899544589e-6\n",
      " Relative error = 1.8582131605809476e-6\n",
      " Relative error = 1.281889848196047e-6\n",
      " Relative error = 8.88701711783702e-7\n",
      " Relative error = 6.175740782446488e-7\n",
      " Relative error = 4.2981885498297585e-7\n",
      " Entering displacemtent step102 :1.2240000000000001e-5\n",
      " Relative error = 2.992948602315873e-7\n",
      " Relative error = 7.220557360052398e-5\n",
      " Relative error = 7.721138739694044e-6\n",
      " Relative error = 4.506102653916648e-6\n",
      " Relative error = 3.0819445531424496e-6\n",
      " Relative error = 2.1840027907000214e-6\n",
      " Relative error = 1.566569336696752e-6\n",
      " Relative error = 1.1291240679013414e-6\n",
      " Relative error = 8.162824941403093e-7\n",
      " Relative error = 5.909427740270259e-7\n",
      " Entering displacemtent step103 :1.2360000000000002e-5\n",
      " Relative error = 4.284714627510149e-7\n",
      " Relative error = 7.136763691854008e-5\n",
      " Relative error = 8.088876246914925e-6\n",
      " Relative error = 4.935317753964236e-6\n",
      " Relative error = 3.5176103487914763e-6\n",
      " Relative error = 2.5967742996046497e-6\n",
      " Relative error = 1.940616107188558e-6\n",
      " Relative error = 1.4578447093809684e-6\n",
      " Relative error = 1.0989478699466426e-6\n",
      " Relative error = 8.297893688356021e-7\n",
      " Entering displacemtent step104 :1.2480000000000002e-5\n",
      " Relative error = 6.277736871993434e-7\n",
      " Relative error = 7.016742342935035e-5\n",
      " Relative error = 8.528853177579255e-6\n",
      " Relative error = 5.460921479741451e-6\n",
      " Relative error = 4.069638389654379e-6\n",
      " Relative error = 3.1382714463617217e-6\n",
      " Relative error = 2.451419516613275e-6\n",
      " Relative error = 1.9251397927367822e-6\n",
      " Relative error = 1.5184999690087968e-6\n",
      " Relative error = 1.1996320048422698e-6\n",
      " Entering displacemtent step105 :1.2600000000000001e-5\n",
      " Relative error = 9.506642036081297e-7\n",
      " Relative error = 6.848162999971799e-5\n",
      " Relative error = 9.09150062284684e-6\n",
      " Relative error = 6.147824288121756e-6\n",
      " Relative error = 4.809923979737607e-6\n",
      " Relative error = 3.892211178520582e-6\n",
      " Relative error = 3.1897849047784002e-6\n",
      " Relative error = 2.6313198697763477e-6\n",
      " Relative error = 2.1801253568037646e-6\n",
      " Relative error = 1.8122240860351238e-6\n",
      " Entering displacemtent step106 :1.2720000000000002e-5\n",
      " Relative error = 1.5103076249948818e-6\n",
      " Relative error = 6.612683032825413e-5\n",
      " Relative error = 9.901948280197666e-6\n",
      " Relative error = 7.136901533705514e-6\n",
      " Relative error = 5.9015648409599305e-6\n",
      " Relative error = 5.041613660834588e-6\n",
      " Relative error = 4.363858885961678e-6\n",
      " Relative error = 3.8057064492062862e-6\n",
      " Relative error = 3.337124748100937e-6\n",
      " Relative error = 2.93912964036521e-6\n",
      " Entering displacemtent step107 :1.2840000000000002e-5\n",
      " Relative error = 2.5984357463160037e-6\n",
      " Relative error = 6.267488935911339e-5\n",
      " Relative error = 1.1316734704100423e-5\n",
      " Relative error = 8.81766337754423e-6\n",
      " Relative error = 7.788765519162892e-6\n",
      " Relative error = 7.096900539930887e-6\n",
      " Relative error = 6.5569381707201364e-6\n",
      " Relative error = 6.113157491970722e-6\n",
      " Relative error = 5.741046271200055e-6\n",
      " Relative error = 5.426488153895631e-6\n",
      " Entering displacemtent step108 :1.2960000000000001e-5\n",
      " Relative error = 5.159551811884996e-6\n",
      " Relative error = 5.753696901803885e-5\n",
      " Relative error = 1.4552523029245692e-5\n",
      " Relative error = 1.2610417491103872e-5\n",
      " Relative error = 1.2138703257543172e-5\n",
      " Relative error = 1.2029537386520368e-5\n",
      " Relative error = 1.2109584202989518e-5\n",
      " Relative error = 1.2338831591082287e-5\n",
      " Relative error = 1.2712629225931158e-5\n",
      " Relative error = 1.323931298341816e-5\n",
      " Entering displacemtent step109 :1.3080000000000002e-5\n",
      " Relative error = 1.3934417201393813e-5\n",
      " Relative error = 5.716819710212856e-5\n",
      " Relative error = 2.659968185817821e-5\n",
      " Relative error = 2.7099995987051055e-5\n",
      " Relative error = 2.9641270478038295e-5\n",
      " Relative error = 3.3238518169999377e-5\n",
      " Relative error = 3.788965051560747e-5\n",
      " Relative error = 4.373348845648612e-5\n",
      " Relative error = 5.0926583641178484e-5\n",
      " Relative error = 5.9351031574636455e-5\n",
      " Entering displacemtent step110 :1.3200000000000002e-5\n",
      " Relative error = 6.84928033870011e-5\n",
      " Relative error = 0.00011115698381478096\n",
      " Relative error = 9.33738224419085e-5\n",
      " Relative error = 9.164848150798333e-5\n",
      " Relative error = 8.662893299892634e-5\n",
      " Relative error = 8.040941178140732e-5\n",
      " Relative error = 7.470096794608189e-5\n",
      " Relative error = 6.97226864628006e-5\n",
      " Relative error = 6.542027675733491e-5\n",
      " Relative error = 6.178564302721564e-5\n",
      " Entering displacemtent step111 :1.3320000000000001e-5\n",
      " Relative error = 5.86788350467585e-5\n",
      " Relative error = 8.619741088034982e-5\n",
      " Relative error = 6.33394509269386e-5\n",
      " Relative error = 5.880825679024367e-5\n",
      " Relative error = 5.586423530646238e-5\n",
      " Relative error = 5.337762570328695e-5\n",
      " Relative error = 5.117476522165655e-5\n",
      " Relative error = 4.915386591312025e-5\n",
      " Relative error = 4.732484225934073e-5\n",
      " Relative error = 4.560924759962651e-5\n",
      " Entering displacemtent step112 :1.3440000000000002e-5\n",
      " Relative error = 4.404919817664341e-5\n",
      " Relative error = 7.159398882749623e-5\n",
      " Relative error = 5.0791053259468906e-5\n",
      " Relative error = 4.748111592242803e-5\n",
      " Relative error = 4.5648619808807435e-5\n",
      " Relative error = 4.421183241778983e-5\n",
      " Relative error = 4.292416389385e-5\n",
      " Relative error = 4.1720633196769106e-5\n",
      " Relative error = 4.0605564912588775e-5\n",
      " Relative error = 3.951985676186214e-5\n",
      " Entering displacemtent step113 :1.3560000000000002e-5\n",
      " Relative error = 3.851573534469891e-5\n",
      " Relative error = 6.548804945543915e-5\n",
      " Relative error = 4.5939448945358e-5\n",
      " Relative error = 4.309481771557652e-5\n",
      " Relative error = 4.166622394623505e-5\n",
      " Relative error = 4.0571493498033374e-5\n",
      " Relative error = 3.961465227752615e-5\n",
      " Relative error = 3.868833130988239e-5\n",
      " Relative error = 3.783275743522585e-5\n",
      " Relative error = 3.701364848873431e-5\n",
      " Entering displacemtent step114 :1.3680000000000001e-5\n",
      " Relative error = 3.619792448097791e-5\n",
      " Relative error = 6.234939434959171e-5\n",
      " Relative error = 4.3805413096352615e-5\n",
      " Relative error = 4.114317768740192e-5\n",
      " Relative error = 3.9892079919350804e-5\n",
      " Relative error = 3.8935220073443016e-5\n",
      " Relative error = 3.808940723943057e-5\n",
      " Relative error = 3.730819241890659e-5\n",
      " Relative error = 3.653453666744306e-5\n",
      " Relative error = 3.5797720328963025e-5\n",
      " Entering displacemtent step115 :1.3800000000000002e-5\n",
      " Relative error = 3.5086843275112434e-5\n",
      " Relative error = 6.0247575743426046e-5\n",
      " Relative error = 4.260858237001918e-5\n",
      " Relative error = 4.008629676722819e-5\n",
      " Relative error = 3.8888935563496815e-5\n",
      " Relative error = 3.79984492380498e-5\n",
      " Relative error = 3.720914455825291e-5\n",
      " Relative error = 3.646113268125281e-5\n",
      " Relative error = 3.5726753337839406e-5\n",
      " Relative error = 3.501454108079997e-5\n",
      " Entering displacemtent step116 :1.3920000000000002e-5\n",
      " Relative error = 3.433243897403255e-5\n",
      " Relative error = 5.8537960486904874e-5\n",
      " Relative error = 4.1705600331854406e-5\n",
      " Relative error = 3.9233107616944194e-5\n",
      " Relative error = 3.8073736809052355e-5\n",
      " Relative error = 3.725714751763541e-5\n",
      " Relative error = 3.661687548442383e-5\n",
      " Relative error = 3.6050089186288165e-5\n",
      " Relative error = 3.5478095405757406e-5\n",
      " Relative error = 3.4848489008753855e-5\n",
      " Entering displacemtent step117 :1.4040000000000001e-5\n",
      " Relative error = 3.424502321853207e-5\n",
      " Relative error = 5.7470488008789355e-5\n",
      " Relative error = 4.159774022014489e-5\n",
      " Relative error = 3.926810074668996e-5\n",
      " Relative error = 3.816334222032029e-5\n",
      " Relative error = 3.736698453720821e-5\n",
      " Relative error = 3.668481468013906e-5\n",
      " Relative error = 3.6000088088053833e-5\n",
      " Relative error = 3.536387172197905e-5\n",
      " Relative error = 3.47299157509692e-5\n",
      " Entering displacemtent step118 :1.4160000000000002e-5\n",
      " Relative error = 3.4088887434893735e-5\n",
      " Relative error = 5.625329125039753e-5\n",
      " Relative error = 4.1182076890288644e-5\n",
      " Relative error = 3.884008492195614e-5\n",
      " Relative error = 3.774512586117107e-5\n",
      " Relative error = 3.6902536934606694e-5\n",
      " Relative error = 3.616652972471357e-5\n",
      " Relative error = 3.547367096996752e-5\n",
      " Relative error = 3.4773796926129905e-5\n",
      " Relative error = 3.411572808467568e-5\n",
      " Entering displacemtent step119 :1.4280000000000002e-5\n",
      " Relative error = 3.346416830557847e-5\n",
      " Relative error = 5.4582263746771256e-5\n",
      " Relative error = 4.026513508360568e-5\n",
      " Relative error = 3.794984276372209e-5\n",
      " Relative error = 3.680339213894502e-5\n",
      " Relative error = 3.595687553109865e-5\n",
      " Relative error = 3.519528700780552e-5\n",
      " Relative error = 3.446876325138393e-5\n",
      " Relative error = 3.377355709897777e-5\n",
      " Relative error = 3.308327713413762e-5\n",
      " Entering displacemtent step120 :1.4400000000000001e-5\n",
      " Relative error = 3.241256503806828e-5\n",
      " Relative error = 5.2635652867831736e-5\n",
      " Relative error = 3.8950138815607336e-5\n",
      " Relative error = 3.666620438118141e-5\n",
      " Relative error = 3.552084627035759e-5\n",
      " Relative error = 3.4645490257913596e-5\n",
      " Relative error = 3.387424301053299e-5\n",
      " Relative error = 3.31364838699529e-5\n",
      " Relative error = 3.24225016221078e-5\n",
      " Relative error = 3.1735181331872424e-5\n",
      " Entering displacemtent step121 :1.4520000000000002e-5\n",
      " Relative error = 3.1053918118549e-5\n",
      " Relative error = 5.039836691118398e-5\n",
      " Relative error = 3.7353201798339594e-5\n",
      " Relative error = 3.510667525260851e-5\n",
      " Relative error = 3.3970073757158965e-5\n",
      " Relative error = 3.310290068204477e-5\n",
      " Relative error = 3.2318239958292715e-5\n",
      " Relative error = 3.1587531272945085e-5\n",
      " Relative error = 3.0882568716763705e-5\n",
      " Relative error = 3.0185456928258932e-5\n",
      " Entering displacemtent step122 :1.4640000000000002e-5\n",
      " Relative error = 2.951638932188515e-5\n",
      " Relative error = 4.805921349304056e-5\n",
      " Relative error = 3.558996064049968e-5\n",
      " Relative error = 3.340193101795813e-5\n",
      " Relative error = 3.228289214197767e-5\n",
      " Relative error = 3.141345045457769e-5\n",
      " Relative error = 3.064422808833936e-5\n",
      " Relative error = 2.9927003895851537e-5\n",
      " Relative error = 2.9225449315847633e-5\n",
      " Relative error = 2.853852439738228e-5\n",
      " Entering displacemtent step123 :1.4760000000000003e-5\n",
      " Relative error = 2.7882783308986828e-5\n",
      " Relative error = 4.570495398445571e-5\n",
      " Relative error = 3.374000006568323e-5\n",
      " Relative error = 3.161158439944507e-5\n",
      " Relative error = 3.051952119801638e-5\n",
      " Relative error = 2.9663975126381786e-5\n",
      " Relative error = 2.8912666633765232e-5\n",
      " Relative error = 2.821677481722924e-5\n",
      " Relative error = 2.753155538725521e-5\n",
      " Relative error = 2.6858942200762214e-5\n",
      " Entering displacemtent step124 :1.4880000000000002e-5\n",
      " Relative error = 2.622313501911666e-5\n",
      " Relative error = 4.3394570764115534e-5\n",
      " Relative error = 3.191816812498751e-5\n",
      " Relative error = 2.983983956983906e-5\n",
      " Relative error = 2.8773927367204696e-5\n",
      " Relative error = 2.794291936639351e-5\n",
      " Relative error = 2.719730121735677e-5\n",
      " Relative error = 2.6519801925609123e-5\n",
      " Relative error = 2.586702819108186e-5\n",
      " Relative error = 2.521160030125676e-5\n",
      " Entering displacemtent step125 :1.5000000000000002e-5\n",
      " Relative error = 2.458438604191867e-5\n",
      " Relative error = 4.1142452817052206e-5\n",
      " Relative error = 3.013901326439912e-5\n",
      " Relative error = 2.8104287041801136e-5\n",
      " Relative error = 2.7055514992758258e-5\n",
      " Relative error = 2.6270040776276233e-5\n",
      " Relative error = 2.555540428667444e-5\n"
     ]
    },
    {
     "name": "stdout",
     "output_type": "stream",
     "text": [
      " Relative error = 2.4876174659502505e-5\n",
      " Relative error = 2.424735174265765e-5\n",
      " Relative error = 2.3643755405870164e-5\n",
      " Entering displacemtent step126 :1.5120000000000003e-5\n",
      " Relative error = 2.303436170358095e-5\n",
      " Relative error = 3.8992100423323285e-5\n",
      " Relative error = 2.8417179931263576e-5\n",
      " Relative error = 2.647837196545087e-5\n",
      " Relative error = 2.545039292264404e-5\n",
      " Relative error = 2.466426966509956e-5\n",
      " Relative error = 2.3992740517015522e-5\n",
      " Relative error = 2.336567896931516e-5\n",
      " Relative error = 2.2739405575573506e-5\n",
      " Relative error = 2.213448764340497e-5\n",
      " Entering displacemtent step127 :1.5240000000000001e-5\n",
      " Relative error = 2.156832977561932e-5\n",
      " Relative error = 3.704464522698537e-5\n",
      " Relative error = 2.6834303316624422e-5\n",
      " Relative error = 2.4916027842671375e-5\n",
      " Relative error = 2.393428169838228e-5\n",
      " Relative error = 2.3202438278846794e-5\n",
      " Relative error = 2.2536597663750243e-5\n",
      " Relative error = 2.190204995555598e-5\n",
      " Relative error = 2.131603984015217e-5\n",
      " Relative error = 2.0764823858760062e-5\n",
      " Entering displacemtent step128 :1.5360000000000002e-5\n",
      " Relative error = 2.0216027456434994e-5\n",
      " Relative error = 3.5183213445412846e-5\n",
      " Relative error = 2.5327764423554847e-5\n",
      " Relative error = 2.3500479099657562e-5\n",
      " Relative error = 2.255886698048768e-5\n",
      " Relative error = 2.182109033216341e-5\n",
      " Relative error = 2.1171511012163822e-5\n",
      " Relative error = 2.058905102328691e-5\n",
      " Relative error = 2.004018778421788e-5\n",
      " Relative error = 1.9493266379755003e-5\n",
      " Entering displacemtent step129 :1.548e-5\n",
      " Relative error = 1.8944897233018537e-5\n",
      " Relative error = 3.3485757879665453e-5\n",
      " Relative error = 2.397156675535005e-5\n",
      " Relative error = 2.2200877388612824e-5\n",
      " Relative error = 2.126586228188255e-5\n",
      " Relative error = 2.0549080177275774e-5\n",
      " Relative error = 1.9940417668901013e-5\n",
      " Relative error = 1.9389329262773886e-5\n",
      " Relative error = 1.8855102286346573e-5\n",
      " Relative error = 1.8315444051563206e-5\n",
      " Entering displacemtent step130 :1.5600000000000003e-5\n",
      " Relative error = 1.7795329198695544e-5\n",
      " Relative error = 3.193879179228725e-5\n",
      " Relative error = 2.273312248378159e-5\n",
      " Relative error = 2.1006027113791154e-5\n",
      " Relative error = 2.008969471005544e-5\n",
      " Relative error = 1.9400694336856864e-5\n",
      " Relative error = 1.8820839108577882e-5\n",
      " Relative error = 1.8291246632815873e-5\n",
      " Relative error = 1.7772851596540846e-5\n",
      " Relative error = 1.7252647041084124e-5\n",
      " Entering displacemtent step131 :1.5720000000000002e-5\n",
      " Relative error = 1.6754758378693217e-5\n",
      " Relative error = 3.051182837246455e-5\n",
      " Relative error = 2.159249336832054e-5\n",
      " Relative error = 1.991406355873959e-5\n",
      " Relative error = 1.902456395251332e-5\n",
      " Relative error = 1.83542181685904e-5\n",
      " Relative error = 1.779015353513118e-5\n",
      " Relative error = 1.7281681214204518e-5\n",
      " Relative error = 1.679104554255091e-5\n",
      " Relative error = 1.6295268420431084e-5\n",
      " Entering displacemtent step132 :1.584e-5\n",
      " Relative error = 1.5811029444233667e-5\n",
      " Relative error = 2.9198814192017413e-5\n",
      " Relative error = 2.0544002531746448e-5\n",
      " Relative error = 1.8917193464087688e-5\n",
      " Relative error = 1.8070864283176567e-5\n",
      " Relative error = 1.7420413656553753e-5\n",
      " Relative error = 1.6860568599625237e-5\n",
      " Relative error = 1.636047194990926e-5\n",
      " Relative error = 1.5893711714279615e-5\n",
      " Relative error = 1.543685062896209e-5\n",
      " Entering displacemtent step133 :1.5960000000000003e-5\n",
      " Relative error = 1.4973542271994732e-5\n",
      " Relative error = 2.8003836291026012e-5\n",
      " Relative error = 1.9586173962039257e-5\n",
      " Relative error = 1.7995734763868062e-5\n",
      " Relative error = 1.7188542218753528e-5\n",
      " Relative error = 1.6579435082579358e-5\n",
      " Relative error = 1.6029683687690658e-5\n",
      " Relative error = 1.5524526157801765e-5\n",
      " Relative error = 1.5061456159213848e-5\n",
      " Relative error = 1.4627965536196081e-5\n",
      " Entering displacemtent step134 :1.6080000000000002e-5\n",
      " Relative error = 1.4209011747043453e-5\n",
      " Relative error = 2.695682290043132e-5\n",
      " Relative error = 1.87522076594178e-5\n",
      " Relative error = 1.717139174897882e-5\n",
      " Relative error = 1.6368394541849756e-5\n",
      " Relative error = 1.5786282422475635e-5\n",
      " Relative error = 1.528390499607688e-5\n",
      " Relative error = 1.480628604500215e-5\n",
      " Relative error = 1.433735353730499e-5\n",
      " Relative error = 1.3895076319259812e-5\n",
      " Entering displacemtent step135 :1.62e-5\n",
      " Relative error = 1.3480502388135343e-5\n",
      " Relative error = 2.5931896196910926e-5\n",
      " Relative error = 1.7975198789843425e-5\n",
      " Relative error = 1.6455061930118122e-5\n",
      " Relative error = 1.5653259067767368e-5\n",
      " Relative error = 1.5057163588460263e-5\n",
      " Relative error = 1.4558139006489416e-5\n",
      " Relative error = 1.4109781440864015e-5\n",
      " Relative error = 1.3688410478328447e-5\n",
      " Relative error = 1.327551310704737e-5\n",
      " Entering displacemtent step136 :1.6320000000000003e-5\n",
      " Relative error = 1.2858679074429842e-5\n",
      " Relative error = 2.4990087718273884e-5\n",
      " Relative error = 1.7227353006802212e-5\n",
      " Relative error = 1.5743616628332283e-5\n",
      " Relative error = 1.4994419397345268e-5\n",
      " Relative error = 1.4442252681741216e-5\n",
      " Relative error = 1.3953635607308117e-5\n",
      " Relative error = 1.3490264180243695e-5\n",
      " Relative error = 1.3057680728443704e-5\n",
      " Relative error = 1.2654546236738378e-5\n",
      " Entering displacemtent step137 :1.6440000000000002e-5\n",
      " Relative error = 1.2275548947306623e-5\n",
      " Relative error = 2.4171785299850758e-5\n",
      " Relative error = 1.6611004051184238e-5\n",
      " Relative error = 1.514791252035133e-5\n",
      " Relative error = 1.4383205001989201e-5\n",
      " Relative error = 1.3823119726019402e-5\n",
      " Relative error = 1.3353278977971054e-5\n",
      " Relative error = 1.2931298645015195e-5\n",
      " Relative error = 1.253229501268273e-5\n",
      " Relative error = 1.214137111198609e-5\n",
      " Entering displacemtent step138 :1.656e-5\n",
      " Relative error = 1.174886089785579e-5\n",
      " Relative error = 2.334985631072627e-5\n",
      " Relative error = 1.597035946197794e-5\n",
      " Relative error = 1.4549105924256151e-5\n",
      " Relative error = 1.383086518374717e-5\n",
      " Relative error = 1.3307595984608783e-5\n",
      " Relative error = 1.2849947171145234e-5\n",
      " Relative error = 1.2412728303295206e-5\n",
      " Relative error = 1.1999320396026023e-5\n",
      " Relative error = 1.1615428938857889e-5\n",
      " Entering displacemtent step139 :1.6680000000000003e-5\n",
      " Relative error = 1.12535039156368e-5\n",
      " Relative error = 2.2636124655472774e-5\n",
      " Relative error = 1.5446838708458953e-5\n",
      " Relative error = 1.4057872523428577e-5\n",
      " Relative error = 1.3333945807282395e-5\n",
      " Relative error = 1.2792881028049364e-5\n",
      " Relative error = 1.233506974848183e-5\n",
      " Relative error = 1.1925624133373796e-5\n",
      " Relative error = 1.1547340701246178e-5\n",
      " Relative error = 1.1188001081546553e-5\n",
      " Entering displacemtent step140 :1.6800000000000002e-5\n",
      " Relative error = 1.0836409398794343e-5\n",
      " Relative error = 2.1977396185753986e-5\n",
      " Relative error = 1.492582518594714e-5\n",
      " Relative error = 1.3542962351779202e-5\n",
      " Relative error = 1.2838511364082482e-5\n",
      " Relative error = 1.233130691174385e-5\n",
      " Relative error = 1.190421770516478e-5\n",
      " Relative error = 1.1511945263151763e-5\n",
      " Relative error = 1.1133765535510576e-5\n",
      " Relative error = 1.0758631348331871e-5\n",
      " Entering displacemtent step141 :1.692e-5\n",
      " Relative error = 1.0396866496994956e-5\n",
      " Relative error = 2.1291175078020905e-5\n",
      " Relative error = 1.4425237003942791e-5\n",
      " Relative error = 1.3094332748709544e-5\n",
      " Relative error = 1.2421073789322338e-5\n",
      " Relative error = 1.1927191893630546e-5\n",
      " Relative error = 1.1495705792148378e-5\n",
      " Relative error = 1.108768368804603e-5\n",
      " Relative error = 1.0706163101233956e-5\n",
      " Relative error = 1.0351953020673096e-5\n",
      " Entering displacemtent step142 :1.7040000000000003e-5\n",
      " Relative error = 1.001814005274329e-5\n",
      " Relative error = 2.0710673036850308e-5\n",
      " Relative error = 1.4007038300822983e-5\n",
      " Relative error = 1.2702078250293584e-5\n",
      " Relative error = 1.2026650272056418e-5\n",
      " Relative error = 1.1517731497389074e-5\n",
      " Relative error = 1.1085412079948738e-5\n",
      " Relative error = 1.0700178861382945e-5\n",
      " Relative error = 1.0343768948551625e-5\n",
      " Relative error = 1.000927988733525e-5\n",
      " Entering displacemtent step143 :1.7160000000000002e-5\n",
      " Relative error = 9.689378489568314e-6\n",
      " Relative error = 2.0175643048422798e-5\n",
      " Relative error = 1.3605372593274614e-5\n",
      " Relative error = 1.2302945022684144e-5\n",
      " Relative error = 1.1625790082368857e-5\n",
      " Relative error = 1.1136386305892255e-5\n",
      " Relative error = 1.072747695781006e-5\n",
      " Relative error = 1.0361315018874316e-5\n",
      " Relative error = 1.0019579435430977e-5\n",
      " Relative error = 9.689462020014598e-6\n",
      " Entering displacemtent step144 :1.7280000000000004e-5\n",
      " Relative error = 9.365813727049107e-6\n",
      " Relative error = 1.963815508648742e-5\n",
      " Relative error = 1.3195259088931023e-5\n",
      " Relative error = 1.1918207541367254e-5\n",
      " Relative error = 1.126760054543536e-5\n",
      " Relative error = 1.0798781585742577e-5\n",
      " Relative error = 1.0405902159900967e-5\n",
      " Relative error = 1.0047931131819415e-5\n",
      " Relative error = 9.705617732869988e-6\n",
      " Relative error = 9.370330058609052e-6\n",
      " Entering displacemtent step145 :1.7400000000000003e-5\n",
      " Relative error = 9.041436303362627e-6\n",
      " Relative error = 1.9108222456511834e-5\n",
      " Relative error = 1.281609857102879e-5\n",
      " Relative error = 1.1572161020901147e-5\n",
      " Relative error = 1.094146632928126e-5\n",
      " Relative error = 1.04875001659869e-5\n",
      " Relative error = 1.0100704493769148e-5\n",
      " Relative error = 9.74114967917029e-6\n",
      " Relative error = 9.39308103019721e-6\n",
      " Relative error = 9.057431529809458e-6\n",
      " Entering displacemtent step146 :1.752e-5\n",
      " Relative error = 8.742883906740614e-6\n",
      " Relative error = 1.8620462839282e-5\n",
      " Relative error = 1.2472082139025628e-5\n",
      " Relative error = 1.1258448896363823e-5\n",
      " Relative error = 1.0641582397562448e-5\n",
      " Relative error = 1.0192311421503238e-5\n",
      " Relative error = 9.804441793205699e-6\n",
      " Relative error = 9.440645503638244e-6\n",
      " Relative error = 9.095798637694782e-6\n",
      " Relative error = 8.775343307773887e-6\n",
      " Entering displacemtent step147 :1.7640000000000004e-5\n",
      " Relative error = 8.47470886666117e-6\n",
      " Relative error = 1.8169919547508347e-5\n",
      " Relative error = 1.2153003349028442e-5\n",
      " Relative error = 1.0962947839325112e-5\n",
      " Relative error = 1.0354803056954542e-5\n",
      " Relative error = 9.90686865240062e-6\n",
      " Relative error = 9.51681631148028e-6\n",
      " Relative error = 9.157037615601532e-6\n",
      " Relative error = 8.826050345397527e-6\n",
      " Relative error = 8.518011714777574e-6\n",
      " Entering displacemtent step148 :1.7760000000000003e-5\n",
      " Relative error = 8.227269470082976e-6\n",
      " Relative error = 1.7747524333633655e-5\n",
      " Relative error = 1.1856118476462022e-5\n",
      " Relative error = 1.0684837007834405e-5\n",
      " Relative error = 1.0081575643186657e-5\n",
      " Relative error = 9.634611014579e-6\n",
      " Relative error = 9.247436239194726e-6\n",
      " Relative error = 8.897522284460226e-6\n",
      " Relative error = 8.576965080981104e-6\n",
      " Relative error = 8.277033185190433e-6\n",
      " Entering displacemtent step149 :1.788e-5\n",
      " Relative error = 7.993397490092512e-6\n",
      " Relative error = 1.7343002791028517e-5\n",
      " Relative error = 1.1569805429954115e-5\n",
      " Relative error = 1.0417173243121011e-5\n",
      " Relative error = 9.816962127674625e-6\n",
      " Relative error = 9.372256866629002e-6\n",
      " Relative error = 8.991115101851623e-6\n",
      " Relative error = 8.650233827348922e-6\n",
      " Relative error = 8.337997427722311e-6\n",
      " Relative error = 8.045572117798835e-6\n",
      " Entering displacemtent step150 :1.8000000000000004e-5\n",
      " Relative error = 7.768334500843681e-6\n",
      " Relative error = 1.6951846019757892e-5\n",
      " Relative error = 1.1292950234818672e-5\n",
      " Relative error = 1.0156367903047126e-5\n",
      " Relative error = 9.563703708407765e-6\n",
      " Relative error = 9.124183865727723e-6\n",
      " Relative error = 8.749746605502193e-6\n",
      " Relative error = 8.416424850161897e-6\n",
      " Relative error = 8.110098618564577e-6\n",
      " Relative error = 7.823572653668963e-6"
     ]
    }
   ],
   "source": [
    "t = 0.0\n",
    "innerMax = 10\n",
    "count = 0\n",
    "tol = 1e-8\n",
    "\n",
    "Load = Float64[]\n",
    "Displacement = Float64[]\n",
    "\n",
    "push!(Load, 0.0)\n",
    "push!(Displacement, 0.0)\n",
    "\n",
    "\n",
    "ψPlusPrev = CellState(0.0,dΩ) \n",
    "sPrev = CellState(1.0,dΩ)\n",
    "sh = project(sPrev,model,dΩ,order)\n",
    "ThPrev = CellState(T0,dΩ)\n",
    "Th = project(ThPrev,model,dΩ,order)\n",
    "ϕPrev = CellState(0.0,dΩ)\n",
    "ϕh = project(ϕPrev,model,dΩ,order)\n",
    "\n",
    "\n",
    "while t .< tMax \n",
    "    count = count .+ 1      \n",
    "    t = t + delt\n",
    "    vApp = AppVel*t    \n",
    "    TApp = TAppVec[count]\n",
    "    phiApp = ϕAppVec[count]\n",
    "    \n",
    "    \n",
    "    print(\"\\n Entering displacemtent step$count :\", float(vApp))\n",
    "    \n",
    "   for inner = 1:innerMax   \n",
    "        \n",
    "        ψhPlusPrev = project(ψPlusPrev,model,dΩ,order)\n",
    "        \n",
    "        RelErr = abs(sum(∫( Gc*lsp*∇(sh)⋅ ∇(sh) + 2*ψhPlusPrev*sh*sh  + (Gc/lsp)*sh*sh)*dΩ - ∫( (Gc/lsp)*sh)*dΩ))/abs(sum(∫( (Gc/lsp)*sh)*dΩ))\n",
    "        print(\"\\n Relative error = \",float(RelErr))\n",
    "        \n",
    "        sh = stepPhaseField(uh,ψhPlusPrev) \n",
    "        uh,ϕh,Th = stepDispElecPotTemp(uh,ϕh,Th,sh,vApp,phiApp,TApp,delt)\n",
    "        \n",
    "        ψhPos_in = ψPos∘(ε(uh),Th,∇(ϕh))      \n",
    "        \n",
    "        update_state!(new_EnergyState,ψPlusPrev,ψhPos_in)\n",
    "  \n",
    "        if RelErr < 1e-8\n",
    "            break \n",
    "        end      \n",
    "    end\n",
    "    \n",
    "    Node_Force = sum(∫( n_Γ_Load ⋅ (σ_elasMod∘(ε(uh),Th,ε(uh),sh,Th)) ) *dΓ_Load + ∫( n_Γ_Load ⋅ (σ_piezoMod∘(∇(ϕh),sh) ) )  *dΓ_Load)\n",
    "    \n",
    "    push!(Load, Node_Force[2])\n",
    "    push!(Displacement, vApp)\n",
    "    if mod(count,100) == 0\n",
    "         writevtk(Ω,\"results_TPBhorizontalEMATTRANS_0_$count\",cellfields=\n",
    "        [\"uh\"=>uh,\"s\"=>sh ,\"phi\"=>ϕh, \"epsi\"=>ε(uh),\"T\" => Th])\n",
    "    end\n",
    "end"
   ]
  },
  {
   "cell_type": "code",
   "execution_count": 45,
   "id": "0cb1f2f4",
   "metadata": {},
   "outputs": [
    {
     "data": {
      "text/plain": [
       "([\"results_TPBhorizontalEMATTRANS_0_150.vtu\"],)"
      ]
     },
     "execution_count": 45,
     "metadata": {},
     "output_type": "execute_result"
    }
   ],
   "source": [
    " writevtk(Ω,\"results_TPBhorizontalEMATTRANS_0_$count\",cellfields=\n",
    "        [\"uh\"=>uh,\"s\"=>sh ,\"phi\"=>ϕh, \"epsi\"=>ε(uh),\"T\" => Th])"
   ]
  },
  {
   "cell_type": "code",
   "execution_count": 46,
   "id": "057c665c",
   "metadata": {
    "scrolled": false
   },
   "outputs": [
    {
     "data": {
      "image/svg+xml": [
       "<?xml version=\"1.0\" encoding=\"utf-8\"?>\n",
       "<svg xmlns=\"http://www.w3.org/2000/svg\" xmlns:xlink=\"http://www.w3.org/1999/xlink\" width=\"600\" height=\"400\" viewBox=\"0 0 2400 1600\">\n",
       "<defs>\n",
       "  <clipPath id=\"clip540\">\n",
       "    <rect x=\"0\" y=\"0\" width=\"2400\" height=\"1600\"/>\n",
       "  </clipPath>\n",
       "</defs>\n",
       "<path clip-path=\"url(#clip540)\" d=\"M0 1600 L2400 1600 L2400 0 L0 0  Z\" fill=\"#ffffff\" fill-rule=\"evenodd\" fill-opacity=\"1\"/>\n",
       "<defs>\n",
       "  <clipPath id=\"clip541\">\n",
       "    <rect x=\"480\" y=\"0\" width=\"1681\" height=\"1600\"/>\n",
       "  </clipPath>\n",
       "</defs>\n",
       "<path clip-path=\"url(#clip540)\" d=\"M169.121 1474.16 L2352.76 1474.16 L2352.76 47.2441 L169.121 47.2441  Z\" fill=\"#ffffff\" fill-rule=\"evenodd\" fill-opacity=\"1\"/>\n",
       "<defs>\n",
       "  <clipPath id=\"clip542\">\n",
       "    <rect x=\"169\" y=\"47\" width=\"2185\" height=\"1428\"/>\n",
       "  </clipPath>\n",
       "</defs>\n",
       "<polyline clip-path=\"url(#clip542)\" style=\"stroke:#000000; stroke-linecap:round; stroke-linejoin:round; stroke-width:2; stroke-opacity:0.1; fill:none\" points=\"230.922,1474.16 230.922,47.2441 \"/>\n",
       "<polyline clip-path=\"url(#clip542)\" style=\"stroke:#000000; stroke-linecap:round; stroke-linejoin:round; stroke-width:2; stroke-opacity:0.1; fill:none\" points=\"803.154,1474.16 803.154,47.2441 \"/>\n",
       "<polyline clip-path=\"url(#clip542)\" style=\"stroke:#000000; stroke-linecap:round; stroke-linejoin:round; stroke-width:2; stroke-opacity:0.1; fill:none\" points=\"1375.38,1474.16 1375.38,47.2441 \"/>\n",
       "<polyline clip-path=\"url(#clip542)\" style=\"stroke:#000000; stroke-linecap:round; stroke-linejoin:round; stroke-width:2; stroke-opacity:0.1; fill:none\" points=\"1947.62,1474.16 1947.62,47.2441 \"/>\n",
       "<polyline clip-path=\"url(#clip540)\" style=\"stroke:#000000; stroke-linecap:round; stroke-linejoin:round; stroke-width:4; stroke-opacity:1; fill:none\" points=\"169.121,1474.16 2352.76,1474.16 \"/>\n",
       "<polyline clip-path=\"url(#clip540)\" style=\"stroke:#000000; stroke-linecap:round; stroke-linejoin:round; stroke-width:4; stroke-opacity:1; fill:none\" points=\"230.922,1474.16 230.922,1455.27 \"/>\n",
       "<polyline clip-path=\"url(#clip540)\" style=\"stroke:#000000; stroke-linecap:round; stroke-linejoin:round; stroke-width:4; stroke-opacity:1; fill:none\" points=\"803.154,1474.16 803.154,1455.27 \"/>\n",
       "<polyline clip-path=\"url(#clip540)\" style=\"stroke:#000000; stroke-linecap:round; stroke-linejoin:round; stroke-width:4; stroke-opacity:1; fill:none\" points=\"1375.38,1474.16 1375.38,1455.27 \"/>\n",
       "<polyline clip-path=\"url(#clip540)\" style=\"stroke:#000000; stroke-linecap:round; stroke-linejoin:round; stroke-width:4; stroke-opacity:1; fill:none\" points=\"1947.62,1474.16 1947.62,1455.27 \"/>\n",
       "<path clip-path=\"url(#clip540)\" d=\"M230.922 1505.08 Q227.311 1505.08 225.483 1508.65 Q223.677 1512.19 223.677 1519.32 Q223.677 1526.43 225.483 1529.99 Q227.311 1533.53 230.922 1533.53 Q234.557 1533.53 236.362 1529.99 Q238.191 1526.43 238.191 1519.32 Q238.191 1512.19 236.362 1508.65 Q234.557 1505.08 230.922 1505.08 M230.922 1501.38 Q236.732 1501.38 239.788 1505.99 Q242.867 1510.57 242.867 1519.32 Q242.867 1528.05 239.788 1532.65 Q236.732 1537.24 230.922 1537.24 Q225.112 1537.24 222.033 1532.65 Q218.978 1528.05 218.978 1519.32 Q218.978 1510.57 222.033 1505.99 Q225.112 1501.38 230.922 1501.38 Z\" fill=\"#000000\" fill-rule=\"evenodd\" fill-opacity=\"1\" /><path clip-path=\"url(#clip540)\" d=\"M680.078 1517.66 L698.434 1517.66 L698.434 1521.6 L684.36 1521.6 L684.36 1530.07 Q685.379 1529.72 686.397 1529.56 Q687.416 1529.38 688.434 1529.38 Q694.221 1529.38 697.601 1532.55 Q700.98 1535.72 700.98 1541.14 Q700.98 1546.72 697.508 1549.82 Q694.036 1552.9 687.717 1552.9 Q685.541 1552.9 683.272 1552.53 Q681.027 1552.16 678.619 1551.41 L678.619 1546.72 Q680.703 1547.85 682.925 1548.41 Q685.147 1548.96 687.624 1548.96 Q691.629 1548.96 693.967 1546.85 Q696.304 1544.75 696.304 1541.14 Q696.304 1537.53 693.967 1535.42 Q691.629 1533.31 687.624 1533.31 Q685.749 1533.31 683.874 1533.73 Q682.022 1534.15 680.078 1535.03 L680.078 1517.66 Z\" fill=\"#000000\" fill-rule=\"evenodd\" fill-opacity=\"1\" /><path clip-path=\"url(#clip540)\" d=\"M710.193 1546.35 L715.078 1546.35 L715.078 1552.22 L710.193 1552.22 L710.193 1546.35 Z\" fill=\"#000000\" fill-rule=\"evenodd\" fill-opacity=\"1\" /><path clip-path=\"url(#clip540)\" d=\"M735.263 1520.74 Q731.652 1520.74 729.823 1524.31 Q728.017 1527.85 728.017 1534.98 Q728.017 1542.09 729.823 1545.65 Q731.652 1549.19 735.263 1549.19 Q738.897 1549.19 740.702 1545.65 Q742.531 1542.09 742.531 1534.98 Q742.531 1527.85 740.702 1524.31 Q738.897 1520.74 735.263 1520.74 M735.263 1517.04 Q741.073 1517.04 744.128 1521.65 Q747.207 1526.23 747.207 1534.98 Q747.207 1543.71 744.128 1548.31 Q741.073 1552.9 735.263 1552.9 Q729.452 1552.9 726.374 1548.31 Q723.318 1543.71 723.318 1534.98 Q723.318 1526.23 726.374 1521.65 Q729.452 1517.04 735.263 1517.04 Z\" fill=\"#000000\" fill-rule=\"evenodd\" fill-opacity=\"1\" /><path clip-path=\"url(#clip540)\" d=\"M765.424 1520.74 Q761.813 1520.74 759.985 1524.31 Q758.179 1527.85 758.179 1534.98 Q758.179 1542.09 759.985 1545.65 Q761.813 1549.19 765.424 1549.19 Q769.059 1549.19 770.864 1545.65 Q772.693 1542.09 772.693 1534.98 Q772.693 1527.85 770.864 1524.31 Q769.059 1520.74 765.424 1520.74 M765.424 1517.04 Q771.235 1517.04 774.29 1521.65 Q777.369 1526.23 777.369 1534.98 Q777.369 1543.71 774.29 1548.31 Q771.235 1552.9 765.424 1552.9 Q759.614 1552.9 756.536 1548.31 Q753.48 1543.71 753.48 1534.98 Q753.48 1526.23 756.536 1521.65 Q759.614 1517.04 765.424 1517.04 Z\" fill=\"#000000\" fill-rule=\"evenodd\" fill-opacity=\"1\" /><path clip-path=\"url(#clip540)\" d=\"M813.758 1526.76 L803.179 1537.39 L813.758 1547.97 L811.003 1550.77 L800.378 1540.14 L789.753 1550.77 L787.022 1547.97 L797.577 1537.39 L787.022 1526.76 L789.753 1523.96 L800.378 1534.59 L811.003 1523.96 L813.758 1526.76 Z\" fill=\"#000000\" fill-rule=\"evenodd\" fill-opacity=\"1\" /><path clip-path=\"url(#clip540)\" d=\"M826.119 1548.29 L833.757 1548.29 L833.757 1521.92 L825.447 1523.59 L825.447 1519.33 L833.711 1517.66 L838.387 1517.66 L838.387 1548.29 L846.026 1548.29 L846.026 1552.22 L826.119 1552.22 L826.119 1548.29 Z\" fill=\"#000000\" fill-rule=\"evenodd\" fill-opacity=\"1\" /><path clip-path=\"url(#clip540)\" d=\"M865.47 1520.74 Q861.859 1520.74 860.03 1524.31 Q858.225 1527.85 858.225 1534.98 Q858.225 1542.09 860.03 1545.65 Q861.859 1549.19 865.47 1549.19 Q869.104 1549.19 870.91 1545.65 Q872.739 1542.09 872.739 1534.98 Q872.739 1527.85 870.91 1524.31 Q869.104 1520.74 865.47 1520.74 M865.47 1517.04 Q871.28 1517.04 874.336 1521.65 Q877.415 1526.23 877.415 1534.98 Q877.415 1543.71 874.336 1548.31 Q871.28 1552.9 865.47 1552.9 Q859.66 1552.9 856.581 1548.31 Q853.526 1543.71 853.526 1534.98 Q853.526 1526.23 856.581 1521.65 Q859.66 1517.04 865.47 1517.04 Z\" fill=\"#000000\" fill-rule=\"evenodd\" fill-opacity=\"1\" /><path clip-path=\"url(#clip540)\" d=\"M877.415 1511.14 L901.526 1511.14 L901.526 1514.34 L877.415 1514.34 L877.415 1511.14 Z\" fill=\"#000000\" fill-rule=\"evenodd\" fill-opacity=\"1\" /><path clip-path=\"url(#clip540)\" d=\"M918.322 1509.26 Q915.764 1509.26 914.259 1511.01 Q912.773 1512.76 912.773 1515.81 Q912.773 1518.83 914.259 1520.6 Q915.764 1522.35 918.322 1522.35 Q920.879 1522.35 922.365 1520.6 Q923.87 1518.83 923.87 1515.81 Q923.87 1512.76 922.365 1511.01 Q920.879 1509.26 918.322 1509.26 M925.863 1497.35 L925.863 1500.82 Q924.434 1500.14 922.967 1499.78 Q921.519 1499.42 920.089 1499.42 Q916.328 1499.42 914.334 1501.96 Q912.359 1504.5 912.077 1509.64 Q913.187 1508 914.861 1507.13 Q916.535 1506.25 918.547 1506.25 Q922.779 1506.25 925.224 1508.83 Q927.688 1511.39 927.688 1515.81 Q927.688 1520.13 925.13 1522.75 Q922.572 1525.36 918.322 1525.36 Q913.45 1525.36 910.874 1521.64 Q908.297 1517.89 908.297 1510.8 Q908.297 1504.14 911.457 1500.19 Q914.616 1496.23 919.939 1496.23 Q921.368 1496.23 922.817 1496.51 Q924.284 1496.79 925.863 1497.35 Z\" fill=\"#000000\" fill-rule=\"evenodd\" fill-opacity=\"1\" /><path clip-path=\"url(#clip540)\" d=\"M1252.77 1548.29 L1260.41 1548.29 L1260.41 1521.92 L1252.1 1523.59 L1252.1 1519.33 L1260.36 1517.66 L1265.04 1517.66 L1265.04 1548.29 L1272.67 1548.29 L1272.67 1552.22 L1252.77 1552.22 L1252.77 1548.29 Z\" fill=\"#000000\" fill-rule=\"evenodd\" fill-opacity=\"1\" /><path clip-path=\"url(#clip540)\" d=\"M1282.12 1546.35 L1287 1546.35 L1287 1552.22 L1282.12 1552.22 L1282.12 1546.35 Z\" fill=\"#000000\" fill-rule=\"evenodd\" fill-opacity=\"1\" /><path clip-path=\"url(#clip540)\" d=\"M1307.19 1520.74 Q1303.58 1520.74 1301.75 1524.31 Q1299.94 1527.85 1299.94 1534.98 Q1299.94 1542.09 1301.75 1545.65 Q1303.58 1549.19 1307.19 1549.19 Q1310.82 1549.19 1312.63 1545.65 Q1314.46 1542.09 1314.46 1534.98 Q1314.46 1527.85 1312.63 1524.31 Q1310.82 1520.74 1307.19 1520.74 M1307.19 1517.04 Q1313 1517.04 1316.05 1521.65 Q1319.13 1526.23 1319.13 1534.98 Q1319.13 1543.71 1316.05 1548.31 Q1313 1552.9 1307.19 1552.9 Q1301.38 1552.9 1298.3 1548.31 Q1295.24 1543.71 1295.24 1534.98 Q1295.24 1526.23 1298.3 1521.65 Q1301.38 1517.04 1307.19 1517.04 Z\" fill=\"#000000\" fill-rule=\"evenodd\" fill-opacity=\"1\" /><path clip-path=\"url(#clip540)\" d=\"M1337.35 1520.74 Q1333.74 1520.74 1331.91 1524.31 Q1330.11 1527.85 1330.11 1534.98 Q1330.11 1542.09 1331.91 1545.65 Q1333.74 1549.19 1337.35 1549.19 Q1340.98 1549.19 1342.79 1545.65 Q1344.62 1542.09 1344.62 1534.98 Q1344.62 1527.85 1342.79 1524.31 Q1340.98 1520.74 1337.35 1520.74 M1337.35 1517.04 Q1343.16 1517.04 1346.22 1521.65 Q1349.29 1526.23 1349.29 1534.98 Q1349.29 1543.71 1346.22 1548.31 Q1343.16 1552.9 1337.35 1552.9 Q1331.54 1552.9 1328.46 1548.31 Q1325.41 1543.71 1325.41 1534.98 Q1325.41 1526.23 1328.46 1521.65 Q1331.54 1517.04 1337.35 1517.04 Z\" fill=\"#000000\" fill-rule=\"evenodd\" fill-opacity=\"1\" /><path clip-path=\"url(#clip540)\" d=\"M1385.68 1526.76 L1375.1 1537.39 L1385.68 1547.97 L1382.93 1550.77 L1372.3 1540.14 L1361.68 1550.77 L1358.95 1547.97 L1369.5 1537.39 L1358.95 1526.76 L1361.68 1523.96 L1372.3 1534.59 L1382.93 1523.96 L1385.68 1526.76 Z\" fill=\"#000000\" fill-rule=\"evenodd\" fill-opacity=\"1\" /><path clip-path=\"url(#clip540)\" d=\"M1398.04 1548.29 L1405.68 1548.29 L1405.68 1521.92 L1397.37 1523.59 L1397.37 1519.33 L1405.64 1517.66 L1410.31 1517.66 L1410.31 1548.29 L1417.95 1548.29 L1417.95 1552.22 L1398.04 1552.22 L1398.04 1548.29 Z\" fill=\"#000000\" fill-rule=\"evenodd\" fill-opacity=\"1\" /><path clip-path=\"url(#clip540)\" d=\"M1437.4 1520.74 Q1433.79 1520.74 1431.96 1524.31 Q1430.15 1527.85 1430.15 1534.98 Q1430.15 1542.09 1431.96 1545.65 Q1433.79 1549.19 1437.4 1549.19 Q1441.03 1549.19 1442.84 1545.65 Q1444.66 1542.09 1444.66 1534.98 Q1444.66 1527.85 1442.84 1524.31 Q1441.03 1520.74 1437.4 1520.74 M1437.4 1517.04 Q1443.21 1517.04 1446.26 1521.65 Q1449.34 1526.23 1449.34 1534.98 Q1449.34 1543.71 1446.26 1548.31 Q1443.21 1552.9 1437.4 1552.9 Q1431.59 1552.9 1428.51 1548.31 Q1425.45 1543.71 1425.45 1534.98 Q1425.45 1526.23 1428.51 1521.65 Q1431.59 1517.04 1437.4 1517.04 Z\" fill=\"#000000\" fill-rule=\"evenodd\" fill-opacity=\"1\" /><path clip-path=\"url(#clip540)\" d=\"M1449.34 1511.14 L1473.45 1511.14 L1473.45 1514.34 L1449.34 1514.34 L1449.34 1511.14 Z\" fill=\"#000000\" fill-rule=\"evenodd\" fill-opacity=\"1\" /><path clip-path=\"url(#clip540)\" d=\"M1481.69 1496.73 L1496.6 1496.73 L1496.6 1499.93 L1485.17 1499.93 L1485.17 1506.82 Q1486 1506.53 1486.82 1506.4 Q1487.65 1506.25 1488.48 1506.25 Q1493.18 1506.25 1495.93 1508.83 Q1498.67 1511.4 1498.67 1515.81 Q1498.67 1520.34 1495.85 1522.86 Q1493.03 1525.36 1487.9 1525.36 Q1486.13 1525.36 1484.29 1525.06 Q1482.46 1524.76 1480.51 1524.16 L1480.51 1520.34 Q1482.2 1521.26 1484 1521.71 Q1485.81 1522.16 1487.82 1522.16 Q1491.08 1522.16 1492.97 1520.45 Q1494.87 1518.74 1494.87 1515.81 Q1494.87 1512.87 1492.97 1511.16 Q1491.08 1509.45 1487.82 1509.45 Q1486.3 1509.45 1484.77 1509.79 Q1483.27 1510.13 1481.69 1510.84 L1481.69 1496.73 Z\" fill=\"#000000\" fill-rule=\"evenodd\" fill-opacity=\"1\" /><path clip-path=\"url(#clip540)\" d=\"M1825 1548.29 L1832.64 1548.29 L1832.64 1521.92 L1824.33 1523.59 L1824.33 1519.33 L1832.59 1517.66 L1837.27 1517.66 L1837.27 1548.29 L1844.91 1548.29 L1844.91 1552.22 L1825 1552.22 L1825 1548.29 Z\" fill=\"#000000\" fill-rule=\"evenodd\" fill-opacity=\"1\" /><path clip-path=\"url(#clip540)\" d=\"M1854.35 1546.35 L1859.23 1546.35 L1859.23 1552.22 L1854.35 1552.22 L1854.35 1546.35 Z\" fill=\"#000000\" fill-rule=\"evenodd\" fill-opacity=\"1\" /><path clip-path=\"url(#clip540)\" d=\"M1869.47 1517.66 L1887.82 1517.66 L1887.82 1521.6 L1873.75 1521.6 L1873.75 1530.07 Q1874.77 1529.72 1875.79 1529.56 Q1876.8 1529.38 1877.82 1529.38 Q1883.61 1529.38 1886.99 1532.55 Q1890.37 1535.72 1890.37 1541.14 Q1890.37 1546.72 1886.9 1549.82 Q1883.42 1552.9 1877.11 1552.9 Q1874.93 1552.9 1872.66 1552.53 Q1870.42 1552.16 1868.01 1551.41 L1868.01 1546.72 Q1870.09 1547.85 1872.31 1548.41 Q1874.54 1548.96 1877.01 1548.96 Q1881.02 1548.96 1883.36 1546.85 Q1885.69 1544.75 1885.69 1541.14 Q1885.69 1537.53 1883.36 1535.42 Q1881.02 1533.31 1877.01 1533.31 Q1875.14 1533.31 1873.26 1533.73 Q1871.41 1534.15 1869.47 1535.03 L1869.47 1517.66 Z\" fill=\"#000000\" fill-rule=\"evenodd\" fill-opacity=\"1\" /><path clip-path=\"url(#clip540)\" d=\"M1909.58 1520.74 Q1905.97 1520.74 1904.14 1524.31 Q1902.34 1527.85 1902.34 1534.98 Q1902.34 1542.09 1904.14 1545.65 Q1905.97 1549.19 1909.58 1549.19 Q1913.22 1549.19 1915.02 1545.65 Q1916.85 1542.09 1916.85 1534.98 Q1916.85 1527.85 1915.02 1524.31 Q1913.22 1520.74 1909.58 1520.74 M1909.58 1517.04 Q1915.39 1517.04 1918.45 1521.65 Q1921.53 1526.23 1921.53 1534.98 Q1921.53 1543.71 1918.45 1548.31 Q1915.39 1552.9 1909.58 1552.9 Q1903.77 1552.9 1900.69 1548.31 Q1897.64 1543.71 1897.64 1534.98 Q1897.64 1526.23 1900.69 1521.65 Q1903.77 1517.04 1909.58 1517.04 Z\" fill=\"#000000\" fill-rule=\"evenodd\" fill-opacity=\"1\" /><path clip-path=\"url(#clip540)\" d=\"M1957.91 1526.76 L1947.34 1537.39 L1957.91 1547.97 L1955.16 1550.77 L1944.54 1540.14 L1933.91 1550.77 L1931.18 1547.97 L1941.73 1537.39 L1931.18 1526.76 L1933.91 1523.96 L1944.54 1534.59 L1955.16 1523.96 L1957.91 1526.76 Z\" fill=\"#000000\" fill-rule=\"evenodd\" fill-opacity=\"1\" /><path clip-path=\"url(#clip540)\" d=\"M1970.28 1548.29 L1977.91 1548.29 L1977.91 1521.92 L1969.6 1523.59 L1969.6 1519.33 L1977.87 1517.66 L1982.54 1517.66 L1982.54 1548.29 L1990.18 1548.29 L1990.18 1552.22 L1970.28 1552.22 L1970.28 1548.29 Z\" fill=\"#000000\" fill-rule=\"evenodd\" fill-opacity=\"1\" /><path clip-path=\"url(#clip540)\" d=\"M2009.63 1520.74 Q2006.02 1520.74 2004.19 1524.31 Q2002.38 1527.85 2002.38 1534.98 Q2002.38 1542.09 2004.19 1545.65 Q2006.02 1549.19 2009.63 1549.19 Q2013.26 1549.19 2015.07 1545.65 Q2016.9 1542.09 2016.9 1534.98 Q2016.9 1527.85 2015.07 1524.31 Q2013.26 1520.74 2009.63 1520.74 M2009.63 1517.04 Q2015.44 1517.04 2018.49 1521.65 Q2021.57 1526.23 2021.57 1534.98 Q2021.57 1543.71 2018.49 1548.31 Q2015.44 1552.9 2009.63 1552.9 Q2003.82 1552.9 2000.74 1548.31 Q1997.68 1543.71 1997.68 1534.98 Q1997.68 1526.23 2000.74 1521.65 Q2003.82 1517.04 2009.63 1517.04 Z\" fill=\"#000000\" fill-rule=\"evenodd\" fill-opacity=\"1\" /><path clip-path=\"url(#clip540)\" d=\"M2021.57 1511.14 L2045.68 1511.14 L2045.68 1514.34 L2021.57 1514.34 L2021.57 1511.14 Z\" fill=\"#000000\" fill-rule=\"evenodd\" fill-opacity=\"1\" /><path clip-path=\"url(#clip540)\" d=\"M2053.92 1496.73 L2068.84 1496.73 L2068.84 1499.93 L2057.4 1499.93 L2057.4 1506.82 Q2058.23 1506.53 2059.06 1506.4 Q2059.88 1506.25 2060.71 1506.25 Q2065.41 1506.25 2068.16 1508.83 Q2070.9 1511.4 2070.9 1515.81 Q2070.9 1520.34 2068.08 1522.86 Q2065.26 1525.36 2060.13 1525.36 Q2058.36 1525.36 2056.52 1525.06 Q2054.69 1524.76 2052.74 1524.16 L2052.74 1520.34 Q2054.43 1521.26 2056.23 1521.71 Q2058.04 1522.16 2060.05 1522.16 Q2063.31 1522.16 2065.21 1520.45 Q2067.11 1518.74 2067.11 1515.81 Q2067.11 1512.87 2065.21 1511.16 Q2063.31 1509.45 2060.05 1509.45 Q2058.53 1509.45 2057.01 1509.79 Q2055.5 1510.13 2053.92 1510.84 L2053.92 1496.73 Z\" fill=\"#000000\" fill-rule=\"evenodd\" fill-opacity=\"1\" /><polyline clip-path=\"url(#clip542)\" style=\"stroke:#000000; stroke-linecap:round; stroke-linejoin:round; stroke-width:2; stroke-opacity:0.1; fill:none\" points=\"169.121,1433.78 2352.76,1433.78 \"/>\n",
       "<polyline clip-path=\"url(#clip542)\" style=\"stroke:#000000; stroke-linecap:round; stroke-linejoin:round; stroke-width:2; stroke-opacity:0.1; fill:none\" points=\"169.121,1139.78 2352.76,1139.78 \"/>\n",
       "<polyline clip-path=\"url(#clip542)\" style=\"stroke:#000000; stroke-linecap:round; stroke-linejoin:round; stroke-width:2; stroke-opacity:0.1; fill:none\" points=\"169.121,845.772 2352.76,845.772 \"/>\n",
       "<polyline clip-path=\"url(#clip542)\" style=\"stroke:#000000; stroke-linecap:round; stroke-linejoin:round; stroke-width:2; stroke-opacity:0.1; fill:none\" points=\"169.121,551.768 2352.76,551.768 \"/>\n",
       "<polyline clip-path=\"url(#clip542)\" style=\"stroke:#000000; stroke-linecap:round; stroke-linejoin:round; stroke-width:2; stroke-opacity:0.1; fill:none\" points=\"169.121,257.764 2352.76,257.764 \"/>\n",
       "<polyline clip-path=\"url(#clip540)\" style=\"stroke:#000000; stroke-linecap:round; stroke-linejoin:round; stroke-width:4; stroke-opacity:1; fill:none\" points=\"169.121,1474.16 169.121,47.2441 \"/>\n",
       "<polyline clip-path=\"url(#clip540)\" style=\"stroke:#000000; stroke-linecap:round; stroke-linejoin:round; stroke-width:4; stroke-opacity:1; fill:none\" points=\"169.121,1433.78 188.019,1433.78 \"/>\n",
       "<polyline clip-path=\"url(#clip540)\" style=\"stroke:#000000; stroke-linecap:round; stroke-linejoin:round; stroke-width:4; stroke-opacity:1; fill:none\" points=\"169.121,1139.78 188.019,1139.78 \"/>\n",
       "<polyline clip-path=\"url(#clip540)\" style=\"stroke:#000000; stroke-linecap:round; stroke-linejoin:round; stroke-width:4; stroke-opacity:1; fill:none\" points=\"169.121,845.772 188.019,845.772 \"/>\n",
       "<polyline clip-path=\"url(#clip540)\" style=\"stroke:#000000; stroke-linecap:round; stroke-linejoin:round; stroke-width:4; stroke-opacity:1; fill:none\" points=\"169.121,551.768 188.019,551.768 \"/>\n",
       "<polyline clip-path=\"url(#clip540)\" style=\"stroke:#000000; stroke-linecap:round; stroke-linejoin:round; stroke-width:4; stroke-opacity:1; fill:none\" points=\"169.121,257.764 188.019,257.764 \"/>\n",
       "<path clip-path=\"url(#clip540)\" d=\"M121.177 1419.58 Q117.566 1419.58 115.737 1423.14 Q113.932 1426.69 113.932 1433.81 Q113.932 1440.92 115.737 1444.49 Q117.566 1448.03 121.177 1448.03 Q124.811 1448.03 126.617 1444.49 Q128.445 1440.92 128.445 1433.81 Q128.445 1426.69 126.617 1423.14 Q124.811 1419.58 121.177 1419.58 M121.177 1415.88 Q126.987 1415.88 130.043 1420.48 Q133.121 1425.06 133.121 1433.81 Q133.121 1442.54 130.043 1447.15 Q126.987 1451.73 121.177 1451.73 Q115.367 1451.73 112.288 1447.15 Q109.233 1442.54 109.233 1433.81 Q109.233 1425.06 112.288 1420.48 Q115.367 1415.88 121.177 1415.88 Z\" fill=\"#000000\" fill-rule=\"evenodd\" fill-opacity=\"1\" /><path clip-path=\"url(#clip540)\" d=\"M86.0382 1153.12 L102.358 1153.12 L102.358 1157.06 L80.4133 1157.06 L80.4133 1153.12 Q83.0753 1150.37 87.6586 1145.74 Q92.2651 1141.08 93.4456 1139.74 Q95.691 1137.22 96.5706 1135.48 Q97.4734 1133.72 97.4734 1132.03 Q97.4734 1129.28 95.5289 1127.54 Q93.6076 1125.81 90.5058 1125.81 Q88.3067 1125.81 85.8531 1126.57 Q83.4225 1127.33 80.6447 1128.88 L80.6447 1124.16 Q83.4688 1123.03 85.9225 1122.45 Q88.3762 1121.87 90.4132 1121.87 Q95.7836 1121.87 98.978 1124.56 Q102.172 1127.24 102.172 1131.73 Q102.172 1133.86 101.362 1135.78 Q100.575 1137.68 98.4687 1140.27 Q97.89 1140.95 94.7882 1144.16 Q91.6864 1147.36 86.0382 1153.12 Z\" fill=\"#000000\" fill-rule=\"evenodd\" fill-opacity=\"1\" /><path clip-path=\"url(#clip540)\" d=\"M112.219 1122.5 L130.575 1122.5 L130.575 1126.43 L116.501 1126.43 L116.501 1134.9 Q117.52 1134.56 118.538 1134.39 Q119.557 1134.21 120.575 1134.21 Q126.362 1134.21 129.742 1137.38 Q133.121 1140.55 133.121 1145.97 Q133.121 1151.55 129.649 1154.65 Q126.177 1157.73 119.857 1157.73 Q117.682 1157.73 115.413 1157.36 Q113.168 1156.99 110.76 1156.25 L110.76 1151.55 Q112.844 1152.68 115.066 1153.24 Q117.288 1153.79 119.765 1153.79 Q123.77 1153.79 126.107 1151.69 Q128.445 1149.58 128.445 1145.97 Q128.445 1142.36 126.107 1140.25 Q123.77 1138.14 119.765 1138.14 Q117.89 1138.14 116.015 1138.56 Q114.163 1138.98 112.219 1139.86 L112.219 1122.5 Z\" fill=\"#000000\" fill-rule=\"evenodd\" fill-opacity=\"1\" /><path clip-path=\"url(#clip540)\" d=\"M81.0614 828.492 L99.4178 828.492 L99.4178 832.427 L85.3438 832.427 L85.3438 840.899 Q86.3623 840.552 87.3808 840.39 Q88.3993 840.205 89.4178 840.205 Q95.2049 840.205 98.5845 843.376 Q101.964 846.548 101.964 851.964 Q101.964 857.543 98.4919 860.645 Q95.0197 863.723 88.7003 863.723 Q86.5243 863.723 84.2558 863.353 Q82.0105 862.983 79.6031 862.242 L79.6031 857.543 Q81.6864 858.677 83.9086 859.233 Q86.1308 859.788 88.6077 859.788 Q92.6123 859.788 94.9502 857.682 Q97.2882 855.575 97.2882 851.964 Q97.2882 848.353 94.9502 846.247 Q92.6123 844.14 88.6077 844.14 Q86.7327 844.14 84.8577 844.557 Q83.0058 844.973 81.0614 845.853 L81.0614 828.492 Z\" fill=\"#000000\" fill-rule=\"evenodd\" fill-opacity=\"1\" /><path clip-path=\"url(#clip540)\" d=\"M121.177 831.571 Q117.566 831.571 115.737 835.136 Q113.932 838.677 113.932 845.807 Q113.932 852.913 115.737 856.478 Q117.566 860.02 121.177 860.02 Q124.811 860.02 126.617 856.478 Q128.445 852.913 128.445 845.807 Q128.445 838.677 126.617 835.136 Q124.811 831.571 121.177 831.571 M121.177 827.867 Q126.987 827.867 130.043 832.474 Q133.121 837.057 133.121 845.807 Q133.121 854.534 130.043 859.14 Q126.987 863.723 121.177 863.723 Q115.367 863.723 112.288 859.14 Q109.233 854.534 109.233 845.807 Q109.233 837.057 112.288 832.474 Q115.367 827.867 121.177 827.867 Z\" fill=\"#000000\" fill-rule=\"evenodd\" fill-opacity=\"1\" /><path clip-path=\"url(#clip540)\" d=\"M80.8299 534.488 L103.052 534.488 L103.052 536.479 L90.5058 569.048 L85.6216 569.048 L97.4271 538.423 L80.8299 538.423 L80.8299 534.488 Z\" fill=\"#000000\" fill-rule=\"evenodd\" fill-opacity=\"1\" /><path clip-path=\"url(#clip540)\" d=\"M112.219 534.488 L130.575 534.488 L130.575 538.423 L116.501 538.423 L116.501 546.895 Q117.52 546.548 118.538 546.386 Q119.557 546.201 120.575 546.201 Q126.362 546.201 129.742 549.372 Q133.121 552.543 133.121 557.96 Q133.121 563.539 129.649 566.641 Q126.177 569.719 119.857 569.719 Q117.682 569.719 115.413 569.349 Q113.168 568.979 110.76 568.238 L110.76 563.539 Q112.844 564.673 115.066 565.229 Q117.288 565.784 119.765 565.784 Q123.77 565.784 126.107 563.678 Q128.445 561.571 128.445 557.96 Q128.445 554.349 126.107 552.243 Q123.77 550.136 119.765 550.136 Q117.89 550.136 116.015 550.553 Q114.163 550.969 112.219 551.849 L112.219 534.488 Z\" fill=\"#000000\" fill-rule=\"evenodd\" fill-opacity=\"1\" /><path clip-path=\"url(#clip540)\" d=\"M51.6634 271.109 L59.3023 271.109 L59.3023 244.743 L50.9921 246.41 L50.9921 242.151 L59.256 240.484 L63.9319 240.484 L63.9319 271.109 L71.5707 271.109 L71.5707 275.044 L51.6634 275.044 L51.6634 271.109 Z\" fill=\"#000000\" fill-rule=\"evenodd\" fill-opacity=\"1\" /><path clip-path=\"url(#clip540)\" d=\"M91.0151 243.563 Q87.404 243.563 85.5753 247.127 Q83.7697 250.669 83.7697 257.799 Q83.7697 264.905 85.5753 268.47 Q87.404 272.012 91.0151 272.012 Q94.6493 272.012 96.4548 268.47 Q98.2835 264.905 98.2835 257.799 Q98.2835 250.669 96.4548 247.127 Q94.6493 243.563 91.0151 243.563 M91.0151 239.859 Q96.8252 239.859 99.8808 244.465 Q102.959 249.049 102.959 257.799 Q102.959 266.525 99.8808 271.132 Q96.8252 275.715 91.0151 275.715 Q85.2049 275.715 82.1262 271.132 Q79.0707 266.525 79.0707 257.799 Q79.0707 249.049 82.1262 244.465 Q85.2049 239.859 91.0151 239.859 Z\" fill=\"#000000\" fill-rule=\"evenodd\" fill-opacity=\"1\" /><path clip-path=\"url(#clip540)\" d=\"M121.177 243.563 Q117.566 243.563 115.737 247.127 Q113.932 250.669 113.932 257.799 Q113.932 264.905 115.737 268.47 Q117.566 272.012 121.177 272.012 Q124.811 272.012 126.617 268.47 Q128.445 264.905 128.445 257.799 Q128.445 250.669 126.617 247.127 Q124.811 243.563 121.177 243.563 M121.177 239.859 Q126.987 239.859 130.043 244.465 Q133.121 249.049 133.121 257.799 Q133.121 266.525 130.043 271.132 Q126.987 275.715 121.177 275.715 Q115.367 275.715 112.288 271.132 Q109.233 266.525 109.233 257.799 Q109.233 249.049 112.288 244.465 Q115.367 239.859 121.177 239.859 Z\" fill=\"#000000\" fill-rule=\"evenodd\" fill-opacity=\"1\" /><polyline clip-path=\"url(#clip542)\" style=\"stroke:#009af9; stroke-linecap:round; stroke-linejoin:round; stroke-width:4; stroke-opacity:1; fill:none\" points=\"230.922,1433.78 244.656,1419.61 258.389,1416.28 272.123,1412.94 285.856,1409.61 299.59,1406.28 313.324,1402.93 327.057,1399.6 340.791,1396.23 354.524,1386.94 368.258,1372.79 381.991,1358.66 395.725,1344.51 409.458,1330.38 423.192,1316.25 436.926,1302.12 450.659,1287.99 464.393,1273.87 478.126,1259.76 491.86,1245.63 505.593,1231.54 519.327,1217.42 533.06,1203.34 546.794,1189.22 560.528,1175.16 574.261,1161.05 587.995,1147.01 601.728,1132.9 615.462,1118.88 629.195,1104.78 642.929,1090.78 656.662,1076.69 670.396,1062.71 684.129,1048.63 697.863,1034.68 711.597,1020.59 725.33,1006.67 739.064,992.599 752.797,978.707 766.531,964.64 780.264,950.782 793.998,936.722 807.731,922.901 821.465,908.85 835.199,895.067 848.932,881.024 862.666,867.282 876.399,853.248 890.133,839.55 903.866,825.526 917.6,811.874 931.333,797.859 945.067,784.257 958.8,770.253 972.534,756.703 986.268,742.71 1000,729.216 1013.73,715.234 1027.47,701.8 1041.2,687.831 1054.94,674.46 1068.67,660.503 1082.4,647.199 1096.14,633.256 1109.87,620.023 1123.6,606.093 1137.34,592.935 1151.07,579.02 1164.8,565.943 1178.54,552.043 1192.27,539.052 1206,525.167 1219.74,512.268 1233.47,498.401 1247.21,485.6 1260.94,471.75 1274.67,459.056 1288.41,445.224 1302.14,432.644 1315.87,418.831 1329.61,406.376 1343.34,392.583 1357.07,380.265 1370.81,366.494 1384.54,354.325 1398.27,340.576 1412.01,328.574 1425.74,314.849 1439.47,303.034 1453.21,289.335 1466.94,277.731 1480.68,265.168 1494.41,252.687 1508.14,240.285 1521.88,227.968 1535.61,215.746 1549.34,203.628 1563.08,191.626 1576.81,179.756 1590.54,168.038 1604.28,156.495 1618.01,145.163 1631.74,134.09 1645.48,123.349 1659.21,113.054 1672.95,103.407 1686.68,94.8177 1700.41,88.3146 1714.15,87.6286 1727.88,120.156 1741.61,209.8 1755.35,267.151 1769.08,312.563 1782.81,353.462 1796.55,392.479 1810.28,430.545 1824.01,468.247 1837.75,506.193 1851.48,543.731 1865.21,580.272 1878.95,615.352 1892.68,648.657 1906.42,680.015 1920.15,709.345 1933.88,736.667 1947.62,762.047 1961.35,785.586 1975.08,807.426 1988.82,827.698 2002.55,846.538 2016.28,864.088 2030.02,880.471 2043.75,895.804 2057.48,910.182 2071.22,923.715 2084.95,936.543 2098.69,948.614 2112.42,960.071 2126.15,970.94 2139.89,981.3 2153.62,991.181 2167.35,1000.61 2181.09,1009.51 2194.82,1018.03 2208.55,1026.29 2222.29,1034.21 2236.02,1041.84 2249.75,1049.18 2263.49,1056.43 2277.22,1063.27 2290.95,1069.89 \"/>\n",
       "<path clip-path=\"url(#clip540)\" d=\"M2009.17 198.488 L2279.97 198.488 L2279.97 94.8081 L2009.17 94.8081  Z\" fill=\"#ffffff\" fill-rule=\"evenodd\" fill-opacity=\"1\"/>\n",
       "<polyline clip-path=\"url(#clip540)\" style=\"stroke:#000000; stroke-linecap:round; stroke-linejoin:round; stroke-width:4; stroke-opacity:1; fill:none\" points=\"2009.17,198.488 2279.97,198.488 2279.97,94.8081 2009.17,94.8081 2009.17,198.488 \"/>\n",
       "<polyline clip-path=\"url(#clip540)\" style=\"stroke:#009af9; stroke-linecap:round; stroke-linejoin:round; stroke-width:4; stroke-opacity:1; fill:none\" points=\"2033.44,146.648 2179.01,146.648 \"/>\n",
       "<path clip-path=\"url(#clip540)\" d=\"M2217.12 166.336 Q2215.31 170.965 2213.6 172.377 Q2211.89 173.789 2209.02 173.789 L2205.61 173.789 L2205.61 170.224 L2208.11 170.224 Q2209.87 170.224 2210.84 169.391 Q2211.82 168.558 2213 165.456 L2213.76 163.511 L2203.28 138.002 L2207.79 138.002 L2215.89 158.28 L2223.99 138.002 L2228.51 138.002 L2217.12 166.336 Z\" fill=\"#000000\" fill-rule=\"evenodd\" fill-opacity=\"1\" /><path clip-path=\"url(#clip540)\" d=\"M2235.8 159.993 L2243.44 159.993 L2243.44 133.627 L2235.13 135.294 L2235.13 131.035 L2243.39 129.368 L2248.07 129.368 L2248.07 159.993 L2255.71 159.993 L2255.71 163.928 L2235.8 163.928 L2235.8 159.993 Z\" fill=\"#000000\" fill-rule=\"evenodd\" fill-opacity=\"1\" /></svg>\n"
      ]
     },
     "execution_count": 46,
     "metadata": {},
     "output_type": "execute_result"
    }
   ],
   "source": [
    "plot(Displacement,(-Load)*10^-3)"
   ]
  },
  {
   "cell_type": "code",
   "execution_count": 47,
   "id": "6f85198c",
   "metadata": {},
   "outputs": [
    {
     "data": {
      "text/plain": [
       "114.46709051498304"
      ]
     },
     "execution_count": 47,
     "metadata": {},
     "output_type": "execute_result"
    }
   ],
   "source": [
    "maximum(-Load*10^-3)"
   ]
  },
  {
   "cell_type": "code",
   "execution_count": 48,
   "id": "064f91d1",
   "metadata": {},
   "outputs": [],
   "source": [
    "cd(\"../DataLoadDisp\")"
   ]
  },
  {
   "cell_type": "code",
   "execution_count": 49,
   "id": "352f1ce5",
   "metadata": {},
   "outputs": [],
   "source": [
    "using DelimitedFiles\n",
    "Disp = writedlm(\"DispDataResultTPB_0_5.0V.csv\",  Displacement, ',')\n",
    "Force = writedlm(\"LoadDataResultTPB_0_5.0V.csv\",  Load, ',')"
   ]
  }
 ],
 "metadata": {
  "@webio": {
   "lastCommId": null,
   "lastKernelId": null
  },
  "kernelspec": {
   "display_name": "Julia 1.8.1",
   "language": "julia",
   "name": "julia-1.8"
  },
  "language_info": {
   "file_extension": ".jl",
   "mimetype": "application/julia",
   "name": "julia",
   "version": "1.8.1"
  }
 },
 "nbformat": 4,
 "nbformat_minor": 5
}
