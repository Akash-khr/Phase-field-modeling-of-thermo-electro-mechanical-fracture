{
 "cells": [
  {
   "cell_type": "markdown",
   "id": "5a172ed2",
   "metadata": {},
   "source": [
    "### In case of positive hydrostatic strain i.e $\\text{tr}(\\boldsymbol{\\epsilon})\\geq 0$\n",
    "$\\langle p \\rangle_+ = p = \\boldsymbol{I}: \\boldsymbol{\\sigma}_{vol} = \\boldsymbol{I}: \\mathbb{I}_{vol}\\mathbb{C}  \\boldsymbol{\\epsilon}$    and      $\\langle p \\rangle_- = 0 $\n",
    "\n",
    "$\\mathbb{C}_{mod} = \\mathbb{C}_{+} = s^2\\left(\\mathbb{I}_{vol}\\mathbb{C} + \\mathbb{I}_{dev}\\mathbb{C}\\right) = s^2 \\mathbb{C}$\n",
    "\n",
    "### In case of negative hydrostatic strain $\\text{tr}(\\boldsymbol{\\epsilon})< 0$\n",
    "$\\langle p \\rangle_+ = 0 $   and    $\\langle p \\rangle_- = p =  \\boldsymbol{I}: \\boldsymbol{\\sigma}_{vol} = \\boldsymbol{I}:\\mathbb{I}_{vol}\\mathbb{C}  \\boldsymbol{\\epsilon}$\n",
    "\n",
    "$\\mathbb{C}_{mod} = \\mathbb{C}_{-} = s^2\\bigl(\\mathbb{I}_{dev}\\mathbb{C}\\bigr) + \\mathbb{I}_{vol}\\mathbb{C}$\n",
    "\n",
    " ## Strong Form in terms of $\\mathbb{C}_{mod}$ and $\\mathcal{H}(\\mathcal{E})$\n",
    " \n",
    " $\\nabla \\cdot \\boldsymbol{\\sigma} = {\\bf{0}}$\n",
    " \n",
    " $ \\nabla\\cdot \\boldsymbol{D}  = {0}$\n",
    "\n",
    " $ \\nabla \\cdot \\biggl(G_cl\\boldsymbol{A}\\nabla s\\biggr) - 2s\\mathcal{H}(\\mathcal{E})  + \\frac{G_c}{l}\\left(1-s\\right) = 0$\n",
    "\n",
    "where \n",
    "\n",
    "$\\boldsymbol{\\sigma} = \\biggl(\\mathbb{C}_{mod} \\boldsymbol{\\epsilon} -\\mathbb{e}_{mod}^T\\boldsymbol{E}\\biggr) $\n",
    "\n",
    "$\\boldsymbol{D} = \\biggr({\\boldsymbol{K}_{mod}\\boldsymbol{E}} +  \\mathbb{e}_{mod}\\boldsymbol{\\epsilon}\\biggl) $\n",
    "\n",
    "$\\mathcal{E} = \\frac{1}{2}\\biggl(\\langle p \\rangle_+\\boldsymbol{I}:\\mathbb{I}_{vol}\\boldsymbol{\\epsilon} + \\mathbb{I}_{dev}\\mathbb{C}\\boldsymbol{\\epsilon}:\\mathbb{I}_{dev}\\boldsymbol{\\epsilon} + \\boldsymbol{E} \\cdot \\boldsymbol{K}\\boldsymbol{E} + \\boldsymbol{\\epsilon}:\\mathbb{e}^T\\boldsymbol{E}\\biggr)$\n",
    "\n",
    "$\\mathcal{H}(f) = \\text{max}_{\\tau \\in [0,t]}f(\\tau)$\n",
    "\n",
    "$\\mathbb{e}_{mod} = s^2 \\mathbb{e}$\n",
    "\n",
    "$\\boldsymbol{K}_{mod} = s^2 \\boldsymbol{K}$"
   ]
  },
  {
   "cell_type": "markdown",
   "id": "26bc5576",
   "metadata": {},
   "source": [
    " # Weak Form\n",
    "\n",
    "### For Piezo-elasticity part\n",
    "\n",
    " $a((\\boldsymbol{u},\\phi), ({\\boldsymbol{v}},{\\psi})) = \\int_{\\Omega} \\bigl( \\mathbb{C}_{mod}\\mathbb{\\epsilon}: \\nabla \\boldsymbol{v} \\bigr)d\\Omega - \\int_\\Omega \\bigl ( \\boldsymbol{e}_{mod}^T\\boldsymbol{E}:\\nabla \\boldsymbol{v}\\bigr)d\\Omega + \\int_{\\Omega}\\left(\\boldsymbol{K}_{mod}\\boldsymbol{E} \\cdot \\nabla \\boldsymbol{\\psi}\\right) + \\int_{\\Omega}\\left(\\mathbb{e}_{mod}\\boldsymbol{\\epsilon}  \\cdot \\nabla  \\boldsymbol{\\psi}\\right)d\\Omega$\n",
    "\n",
    "### For phase-field part\n",
    " \n",
    " $ a(s,\\phi) = \\int_{\\Omega}\\bigl(G_cl\\nabla s \\cdot \\nabla \\phi + 2s \\phi\\mathcal{H}({\\mathcal{E}}) +  \\frac{G_c}{l} s \\phi\\bigr)d\\Omega$\n",
    "\n",
    " $ l(\\phi) = \\int_{\\Omega}\\frac{G_c}{l}\\phi d{\\Omega}$"
   ]
  },
  {
   "cell_type": "code",
   "execution_count": 1,
   "id": "frank-charity",
   "metadata": {},
   "outputs": [],
   "source": [
    "using Gmsh: gmsh\n",
    "using GridapGmsh\n",
    "using Gridap\n",
    "using Gridap.TensorValues\n",
    "using Plots"
   ]
  },
  {
   "cell_type": "code",
   "execution_count": 2,
   "id": "8ada626d",
   "metadata": {
    "scrolled": true
   },
   "outputs": [
    {
     "data": {
      "text/plain": [
       "interval (generic function with 1 method)"
      ]
     },
     "execution_count": 2,
     "metadata": {},
     "output_type": "execute_result"
    }
   ],
   "source": [
    "using SymPy\n",
    "\n",
    "x,x₁,y = symbols(\"x,x₁,y\", real = true)\n",
    "\n",
    "heaviside(x) = 0.5 * (sign(x) + 1)\n",
    "interval(x, a, b) = heaviside(x-a) - heaviside(x-b)"
   ]
  },
  {
   "cell_type": "markdown",
   "id": "guided-cornell",
   "metadata": {},
   "source": [
    "## Definitions of Tensorial Quantities:\n",
    "\n",
    "$\\boldsymbol{I} = \\delta_{ij} \\boldsymbol{e}_i\\otimes\\boldsymbol{e}_j$\n",
    "\n",
    "$\\mathbb{I} = \\boldsymbol{I}\\otimes\\boldsymbol{I}$\n",
    "\n",
    "$\\mathbb{I}_{sym} = \\frac{1}{2}\\biggl(\\mathbb{I}+\\mathbb{I}^T\\biggr)$\n",
    "\n",
    "$\\mathbb{I}_{skw} = \\frac{1}{2}\\biggl(\\mathbb{I}-\\mathbb{I}^T\\biggr)$\n",
    "\n",
    "$\\mathbb{I}_{vol} = \\frac{1}{3}\\biggl(\\boldsymbol{I}\\otimes\\boldsymbol{I}\\biggr)$\n",
    "\n",
    "$\\mathbb{I}_{dev} = \\mathbb{I}_{sym} - \\mathbb{I}_{vol}$\n",
    "\n",
    "$\\boldsymbol{\\epsilon}_{vol} = \\frac{1}{3}\\text{tr}(\\boldsymbol{\\epsilon}) \\boldsymbol{I} = \\frac{1}{3}\\biggl(\\boldsymbol{\\epsilon}:\\boldsymbol{I}\\biggr)\\boldsymbol{I} = \\frac{1}{3}\\biggl(\\boldsymbol{I}\\otimes\\boldsymbol{I}\\biggr)\\boldsymbol{\\epsilon} = \\mathbb{I}_{vol} \\boldsymbol{\\epsilon} $\n",
    "\n",
    "$\\boldsymbol{\\epsilon}_{dev} = \\boldsymbol{\\epsilon} - \\boldsymbol{\\epsilon}_{vol} = \\biggl(\\mathbb{I}_{sym} -  \\mathbb{I}_{vol}\\biggl) \\boldsymbol{\\epsilon} = \\mathbb{I}_{dev} \\boldsymbol{\\epsilon}$\n",
    "\n",
    "$\\boldsymbol{\\sigma}_{vol} = p \\boldsymbol{I} = \\frac{1}{3}\\biggl(\\boldsymbol{\\sigma}:\\boldsymbol{I}\\biggr)\\boldsymbol{I} = \\frac{1}{3}\\biggl(\\boldsymbol{I}\\otimes\\boldsymbol{I}\\biggr)\\boldsymbol{\\sigma} = \\mathbb{I}_{vol} \\boldsymbol{\\sigma} = \\mathbb{I}_{vol}\\mathbb{C} \\boldsymbol{\\epsilon}$\n",
    "\n",
    "$\\boldsymbol{\\sigma}_{dev} = \\boldsymbol{\\sigma} - \\boldsymbol{\\sigma}_{vol} = \\biggl(\\mathbb{I}_{sym} -  \\mathbb{I}_{vol}\\biggl) \\boldsymbol{\\sigma} = \\mathbb{I}_{dev} \\boldsymbol{\\sigma}=\\mathbb{I}_{dev} \\mathbb{C} \\boldsymbol{\\epsilon}$"
   ]
  },
  {
   "cell_type": "code",
   "execution_count": 3,
   "id": "contained-intro",
   "metadata": {
    "scrolled": true
   },
   "outputs": [
    {
     "data": {
      "text/plain": [
       "SymFourthOrderTensorValue{2, Float64, 9}(0.6666666666666667, 0.0, -0.3333333333333333, 0.0, 0.5, 0.0, -0.3333333333333333, 0.0, 0.6666666666666667)"
      ]
     },
     "execution_count": 3,
     "metadata": {},
     "output_type": "execute_result"
    }
   ],
   "source": [
    "I2 = SymTensorValue{2,Float64}(1.0 ,0.0 ,1.0)\n",
    "I4 = I2⊗I2\n",
    "I4_sym = one(SymFourthOrderTensorValue{2,Float64})\n",
    "I4_vol = (1.0/2)*I4\n",
    "I4_dev = I4_sym  - I4_vol"
   ]
  },
  {
   "cell_type": "code",
   "execution_count": 4,
   "id": "municipal-incentive",
   "metadata": {
    "scrolled": true
   },
   "outputs": [
    {
     "name": "stdout",
     "output_type": "stream",
     "text": [
      "Info    : Meshing 1D...\n",
      "Info    : [  0%] Meshing curve 1 (Line)\n",
      "Info    : [ 10%] Meshing curve 2 (Line)\n",
      "Info    : [ 20%] Meshing curve 3 (Line)\n",
      "Info    : [ 30%] Meshing curve 4 (Line)\n",
      "Info    : [ 40%] Meshing curve 5 (Line)\n",
      "Info    : [ 40%] Meshing curve 6 (Line)\n",
      "Info    : [ 50%] Meshing curve 7 (Line)\n",
      "Info    : [ 60%] Meshing curve 8 (Line)\n",
      "Info    : [ 70%] Meshing curve 9 (Line)\n",
      "Info    : [ 70%] Meshing curve 10 (Line)\n",
      "Info    : [ 80%] Meshing curve 11 (Line)\n",
      "Info    : [ 90%] Meshing curve 12 (Line)\n",
      "Info    : [100%] Meshing curve 13 (Line)\n",
      "Info    : Done meshing 1D (Wall 0.0024743s, CPU 0.002391s)\n",
      "Info    : Meshing 2D...\n",
      "Info    : Meshing surface 1 (Plane, Frontal-Delaunay)\n",
      "Info    : Done meshing 2D (Wall 0.352768s, CPU 0.3333s)\n",
      "Info    : 12488 nodes 24987 elements\n",
      "Info    : Writing 'threepointbendinghorizontal.msh'...\n",
      "Info    : Done writing 'threepointbendinghorizontal.msh'\n"
     ]
    },
    {
     "name": "stderr",
     "output_type": "stream",
     "text": [
      "Warning : Unknown entity of dimension 2 and tag 1 in physical group 1\n",
      "Warning : Unknown entity of dimension 0 and tag 2 in physical group 2\n",
      "Warning : Unknown entity of dimension 0 and tag 8 in physical group 3\n",
      "Warning : Unknown entity of dimension 1 and tag 11 in physical group 4\n",
      "Warning : Unknown entity of dimension 1 and tag 13 in physical group 5\n",
      "Warning : Unknown entity of dimension 1 and tag 9 in physical group 6\n"
     ]
    }
   ],
   "source": [
    "const L = 19.1e-3\n",
    "const LL = 0.5*L\n",
    "const SO = 1e-3\n",
    "#const SI = 0.05\n",
    "const H = 9e-3\n",
    "const CH = 4e-3       #Crack height\n",
    "const CW = 0.46e-3    #Crack Width\n",
    "const lsp = 0.1e-3   #length factor\n",
    "const hf = 0.06e-3/2.1 #Mesh size parameter\n",
    "const hfc = 0.06e-3/50 #Mesh size parameter\n",
    "const h = 50*hf    #Mesh size parameter\n",
    "const LW = CW\n",
    "const FMR = CW/2\n",
    "\n",
    "gmsh.initialize()\n",
    "gmsh.option.setNumber(\"General.Terminal\", 1)\n",
    "p1 = gmsh.model.geo.addPoint(0.0, 0.0, 0.0, h)\n",
    "p2 = gmsh.model.geo.addPoint(SO, 0, 0.0, h)\n",
    "p3 = gmsh.model.geo.addPoint(LL-0.5*CW, 0, 0.0, h)\n",
    "p4 = gmsh.model.geo.addPoint(LL-0.5*CW, CH-CW, 0.0, h)\n",
    "p5 = gmsh.model.geo.addPoint(LL, CH, 0.0, hfc)\n",
    "p6 = gmsh.model.geo.addPoint(LL+0.5*CW, CH-CW, 0.0, h)\n",
    "p7 = gmsh.model.geo.addPoint(LL+0.5*CW,0.0, 0.0, h)\n",
    "p8 = gmsh.model.geo.addPoint(L-SO,0.0, 0.0, h)\n",
    "p9 = gmsh.model.geo.addPoint(L,0.0, 0.0, h)\n",
    "p10 = gmsh.model.geo.addPoint(L, H, 0.0, h)\n",
    "p11 = gmsh.model.geo.addPoint((L/2)+LW, H , 0.0, h)\n",
    "p12 = gmsh.model.geo.addPoint((L/2)-LW, H , 0.0, h)\n",
    "p13 = gmsh.model.geo.addPoint(0, H , 0.0, h)\n",
    "\n",
    "l1 = gmsh.model.geo.addLine(p1, p2)\n",
    "l2 = gmsh.model.geo.addLine(p2, p3)\n",
    "l3 = gmsh.model.geo.addLine(p3, p4)\n",
    "l4 = gmsh.model.geo.addLine(p4, p5)\n",
    "l5 = gmsh.model.geo.addLine(p5, p6)\n",
    "l6 = gmsh.model.geo.addLine(p6, p7)\n",
    "l7 = gmsh.model.geo.addLine(p7, p8)\n",
    "l8 = gmsh.model.geo.addLine(p8, p9)\n",
    "l9 = gmsh.model.geo.addLine(p9, p10)\n",
    "l10 = gmsh.model.geo.addLine(p10, p11)\n",
    "l11 = gmsh.model.geo.addLine(p11, p12)\n",
    "l12 = gmsh.model.geo.addLine(p12, p13)\n",
    "l13 = gmsh.model.geo.addLine(p13, p1)                 \n",
    "\n",
    "cl1 = gmsh.model.geo.addCurveLoop([l1,l2,l3,l4,l5,l6,l7,l8,l9,l10,l11,l12,l13]) \n",
    "\n",
    "ps1 = gmsh.model.geo.addPlaneSurface([cl1])\n",
    "\n",
    "pg1 = gmsh.model.addPhysicalGroup(2, [ps1])\n",
    "\n",
    "pg2 = gmsh.model.addPhysicalGroup(0, [p2])\n",
    "pg3 = gmsh.model.addPhysicalGroup(0, [p8])\n",
    "pg4 = gmsh.model.addPhysicalGroup(1, [l11])\n",
    "pg5 = gmsh.model.addPhysicalGroup(1, [l13])\n",
    "pg6 = gmsh.model.addPhysicalGroup(1, [l9])\n",
    "\n",
    "gmsh.model.setPhysicalName(2, pg1, \"Domain\")\n",
    "gmsh.model.setPhysicalName(0, pg2, \"DirichletLeft\")\n",
    "gmsh.model.setPhysicalName(0, pg3, \"DirichletRight\")\n",
    "gmsh.model.setPhysicalName(1, pg4, \"LoadLine\")\n",
    "gmsh.model.setPhysicalName(1, pg5, \"ElectricPotentialTempLeft\")\n",
    "gmsh.model.setPhysicalName(1, pg6, \"ElectricPotentialTempRight\")\n",
    "\n",
    "gmsh.model.mesh.field.add(\"Box\", 11)\n",
    "gmsh.model.mesh.field.setNumber(11, \"VIn\", hf)\n",
    "gmsh.model.mesh.field.setNumber(11, \"VOut\", h)\n",
    "gmsh.model.mesh.field.setNumber(11, \"XMin\", (LL-5*FMR))\n",
    "gmsh.model.mesh.field.setNumber(11, \"XMax\", ((L/2)+LW+2*FMR))\n",
    "gmsh.model.mesh.field.setNumber(11, \"YMin\", 0.95*CH)\n",
    "gmsh.model.mesh.field.setNumber(11, \"YMax\", H)\n",
    "\n",
    "gmsh.model.mesh.field.setAsBackgroundMesh(11)\n",
    "\n",
    "gmsh.model.geo.synchronize()\n",
    "gmsh.model.mesh.generate(2)\n",
    "gmsh.write(\"threepointbendinghorizontal.msh\")\n",
    "gmsh.finalize()"
   ]
  },
  {
   "cell_type": "code",
   "execution_count": 5,
   "id": "dangerous-preference",
   "metadata": {},
   "outputs": [
    {
     "name": "stdout",
     "output_type": "stream",
     "text": [
      "Info    : Reading 'threepointbendinghorizontal.msh'...\n",
      "Info    : 27 entities\n",
      "Info    : 12488 nodes\n",
      "Info    : 24875 elements\n",
      "Info    : Done reading 'threepointbendinghorizontal.msh'\n"
     ]
    },
    {
     "data": {
      "text/plain": [
       "3-element Vector{Vector{String}}:\n",
       " [\"threepointbendinghorizontal_0.vtu\"]\n",
       " [\"threepointbendinghorizontal_1.vtu\"]\n",
       " [\"threepointbendinghorizontal_2.vtu\"]"
      ]
     },
     "execution_count": 5,
     "metadata": {},
     "output_type": "execute_result"
    }
   ],
   "source": [
    "model = GmshDiscreteModel(\"threepointbendinghorizontal.msh\")\n",
    "writevtk(model,\"threepointbendinghorizontal\")"
   ]
  },
  {
   "cell_type": "code",
   "execution_count": 6,
   "id": "bd6fbf65",
   "metadata": {},
   "outputs": [],
   "source": [
    "cd(\"ResultNotchedPlateElecField_50\")"
   ]
  },
  {
   "cell_type": "code",
   "execution_count": 7,
   "id": "a975e45a",
   "metadata": {},
   "outputs": [
    {
     "data": {
      "text/plain": [
       "9.000000000000001e-7"
      ]
     },
     "execution_count": 7,
     "metadata": {},
     "output_type": "execute_result"
    }
   ],
   "source": [
    "const T0 = 300\n",
    "const TAppMax = T0 + 50\n",
    "\n",
    "#const ElecF = 0\n",
    "const phiMaxApp = 20000.0\n",
    "const phiMin = 0.0\n",
    "\n",
    "const delt = 1\n",
    "const tMax = 100\n",
    "const uMax = 18e-6\n",
    "const AppVel = uMax/tMax\n",
    "const uMin = 0\n",
    "\n",
    "uTran_Temp = 0.2*uMax\n",
    "uTran2_EP = 0.05*uMax"
   ]
  },
  {
   "cell_type": "code",
   "execution_count": 8,
   "id": "1a28f6ef",
   "metadata": {},
   "outputs": [
    {
     "data": {
      "image/svg+xml": [
       "<?xml version=\"1.0\" encoding=\"utf-8\"?>\n",
       "<svg xmlns=\"http://www.w3.org/2000/svg\" xmlns:xlink=\"http://www.w3.org/1999/xlink\" width=\"600\" height=\"400\" viewBox=\"0 0 2400 1600\">\n",
       "<defs>\n",
       "  <clipPath id=\"clip420\">\n",
       "    <rect x=\"0\" y=\"0\" width=\"2400\" height=\"1600\"/>\n",
       "  </clipPath>\n",
       "</defs>\n",
       "<path clip-path=\"url(#clip420)\" d=\"M0 1600 L2400 1600 L2400 0 L0 0  Z\" fill=\"#ffffff\" fill-rule=\"evenodd\" fill-opacity=\"1\"/>\n",
       "<defs>\n",
       "  <clipPath id=\"clip421\">\n",
       "    <rect x=\"480\" y=\"0\" width=\"1681\" height=\"1600\"/>\n",
       "  </clipPath>\n",
       "</defs>\n",
       "<path clip-path=\"url(#clip420)\" d=\"M170.719 1474.16 L2352.76 1474.16 L2352.76 47.2441 L170.719 47.2441  Z\" fill=\"#ffffff\" fill-rule=\"evenodd\" fill-opacity=\"1\"/>\n",
       "<defs>\n",
       "  <clipPath id=\"clip422\">\n",
       "    <rect x=\"170\" y=\"47\" width=\"2183\" height=\"1428\"/>\n",
       "  </clipPath>\n",
       "</defs>\n",
       "<polyline clip-path=\"url(#clip422)\" style=\"stroke:#000000; stroke-linecap:round; stroke-linejoin:round; stroke-width:2; stroke-opacity:0.1; fill:none\" points=\"232.474,1474.16 232.474,47.2441 \"/>\n",
       "<polyline clip-path=\"url(#clip422)\" style=\"stroke:#000000; stroke-linecap:round; stroke-linejoin:round; stroke-width:2; stroke-opacity:0.1; fill:none\" points=\"804.287,1474.16 804.287,47.2441 \"/>\n",
       "<polyline clip-path=\"url(#clip422)\" style=\"stroke:#000000; stroke-linecap:round; stroke-linejoin:round; stroke-width:2; stroke-opacity:0.1; fill:none\" points=\"1376.1,1474.16 1376.1,47.2441 \"/>\n",
       "<polyline clip-path=\"url(#clip422)\" style=\"stroke:#000000; stroke-linecap:round; stroke-linejoin:round; stroke-width:2; stroke-opacity:0.1; fill:none\" points=\"1947.91,1474.16 1947.91,47.2441 \"/>\n",
       "<polyline clip-path=\"url(#clip420)\" style=\"stroke:#000000; stroke-linecap:round; stroke-linejoin:round; stroke-width:4; stroke-opacity:1; fill:none\" points=\"170.719,1474.16 2352.76,1474.16 \"/>\n",
       "<polyline clip-path=\"url(#clip420)\" style=\"stroke:#000000; stroke-linecap:round; stroke-linejoin:round; stroke-width:4; stroke-opacity:1; fill:none\" points=\"232.474,1474.16 232.474,1455.27 \"/>\n",
       "<polyline clip-path=\"url(#clip420)\" style=\"stroke:#000000; stroke-linecap:round; stroke-linejoin:round; stroke-width:4; stroke-opacity:1; fill:none\" points=\"804.287,1474.16 804.287,1455.27 \"/>\n",
       "<polyline clip-path=\"url(#clip420)\" style=\"stroke:#000000; stroke-linecap:round; stroke-linejoin:round; stroke-width:4; stroke-opacity:1; fill:none\" points=\"1376.1,1474.16 1376.1,1455.27 \"/>\n",
       "<polyline clip-path=\"url(#clip420)\" style=\"stroke:#000000; stroke-linecap:round; stroke-linejoin:round; stroke-width:4; stroke-opacity:1; fill:none\" points=\"1947.91,1474.16 1947.91,1455.27 \"/>\n",
       "<path clip-path=\"url(#clip420)\" d=\"M232.474 1505.08 Q228.863 1505.08 227.035 1508.65 Q225.229 1512.19 225.229 1519.32 Q225.229 1526.43 227.035 1529.99 Q228.863 1533.53 232.474 1533.53 Q236.109 1533.53 237.914 1529.99 Q239.743 1526.43 239.743 1519.32 Q239.743 1512.19 237.914 1508.65 Q236.109 1505.08 232.474 1505.08 M232.474 1501.38 Q238.284 1501.38 241.34 1505.99 Q244.419 1510.57 244.419 1519.32 Q244.419 1528.05 241.34 1532.65 Q238.284 1537.24 232.474 1537.24 Q226.664 1537.24 223.585 1532.65 Q220.53 1528.05 220.53 1519.32 Q220.53 1510.57 223.585 1505.99 Q226.664 1501.38 232.474 1501.38 Z\" fill=\"#000000\" fill-rule=\"evenodd\" fill-opacity=\"1\" /><path clip-path=\"url(#clip420)\" d=\"M681.211 1517.66 L699.568 1517.66 L699.568 1521.6 L685.494 1521.6 L685.494 1530.07 Q686.512 1529.72 687.531 1529.56 Q688.549 1529.38 689.568 1529.38 Q695.355 1529.38 698.734 1532.55 Q702.114 1535.72 702.114 1541.14 Q702.114 1546.72 698.642 1549.82 Q695.169 1552.9 688.85 1552.9 Q686.674 1552.9 684.406 1552.53 Q682.16 1552.16 679.753 1551.41 L679.753 1546.72 Q681.836 1547.85 684.058 1548.41 Q686.281 1548.96 688.757 1548.96 Q692.762 1548.96 695.1 1546.85 Q697.438 1544.75 697.438 1541.14 Q697.438 1537.53 695.1 1535.42 Q692.762 1533.31 688.757 1533.31 Q686.882 1533.31 685.007 1533.73 Q683.156 1534.15 681.211 1535.03 L681.211 1517.66 Z\" fill=\"#000000\" fill-rule=\"evenodd\" fill-opacity=\"1\" /><path clip-path=\"url(#clip420)\" d=\"M711.327 1546.35 L716.211 1546.35 L716.211 1552.22 L711.327 1552.22 L711.327 1546.35 Z\" fill=\"#000000\" fill-rule=\"evenodd\" fill-opacity=\"1\" /><path clip-path=\"url(#clip420)\" d=\"M736.396 1520.74 Q732.785 1520.74 730.956 1524.31 Q729.151 1527.85 729.151 1534.98 Q729.151 1542.09 730.956 1545.65 Q732.785 1549.19 736.396 1549.19 Q740.03 1549.19 741.836 1545.65 Q743.665 1542.09 743.665 1534.98 Q743.665 1527.85 741.836 1524.31 Q740.03 1520.74 736.396 1520.74 M736.396 1517.04 Q742.206 1517.04 745.262 1521.65 Q748.34 1526.23 748.34 1534.98 Q748.34 1543.71 745.262 1548.31 Q742.206 1552.9 736.396 1552.9 Q730.586 1552.9 727.507 1548.31 Q724.452 1543.71 724.452 1534.98 Q724.452 1526.23 727.507 1521.65 Q730.586 1517.04 736.396 1517.04 Z\" fill=\"#000000\" fill-rule=\"evenodd\" fill-opacity=\"1\" /><path clip-path=\"url(#clip420)\" d=\"M766.558 1520.74 Q762.947 1520.74 761.118 1524.31 Q759.313 1527.85 759.313 1534.98 Q759.313 1542.09 761.118 1545.65 Q762.947 1549.19 766.558 1549.19 Q770.192 1549.19 771.998 1545.65 Q773.826 1542.09 773.826 1534.98 Q773.826 1527.85 771.998 1524.31 Q770.192 1520.74 766.558 1520.74 M766.558 1517.04 Q772.368 1517.04 775.424 1521.65 Q778.502 1526.23 778.502 1534.98 Q778.502 1543.71 775.424 1548.31 Q772.368 1552.9 766.558 1552.9 Q760.748 1552.9 757.669 1548.31 Q754.614 1543.71 754.614 1534.98 Q754.614 1526.23 757.669 1521.65 Q760.748 1517.04 766.558 1517.04 Z\" fill=\"#000000\" fill-rule=\"evenodd\" fill-opacity=\"1\" /><path clip-path=\"url(#clip420)\" d=\"M814.891 1526.76 L804.312 1537.39 L814.891 1547.97 L812.136 1550.77 L801.511 1540.14 L790.886 1550.77 L788.155 1547.97 L798.711 1537.39 L788.155 1526.76 L790.886 1523.96 L801.511 1534.59 L812.136 1523.96 L814.891 1526.76 Z\" fill=\"#000000\" fill-rule=\"evenodd\" fill-opacity=\"1\" /><path clip-path=\"url(#clip420)\" d=\"M827.252 1548.29 L834.891 1548.29 L834.891 1521.92 L826.581 1523.59 L826.581 1519.33 L834.845 1517.66 L839.52 1517.66 L839.52 1548.29 L847.159 1548.29 L847.159 1552.22 L827.252 1552.22 L827.252 1548.29 Z\" fill=\"#000000\" fill-rule=\"evenodd\" fill-opacity=\"1\" /><path clip-path=\"url(#clip420)\" d=\"M866.604 1520.74 Q862.993 1520.74 861.164 1524.31 Q859.358 1527.85 859.358 1534.98 Q859.358 1542.09 861.164 1545.65 Q862.993 1549.19 866.604 1549.19 Q870.238 1549.19 872.043 1545.65 Q873.872 1542.09 873.872 1534.98 Q873.872 1527.85 872.043 1524.31 Q870.238 1520.74 866.604 1520.74 M866.604 1517.04 Q872.414 1517.04 875.469 1521.65 Q878.548 1526.23 878.548 1534.98 Q878.548 1543.71 875.469 1548.31 Q872.414 1552.9 866.604 1552.9 Q860.794 1552.9 857.715 1548.31 Q854.659 1543.71 854.659 1534.98 Q854.659 1526.23 857.715 1521.65 Q860.794 1517.04 866.604 1517.04 Z\" fill=\"#000000\" fill-rule=\"evenodd\" fill-opacity=\"1\" /><path clip-path=\"url(#clip420)\" d=\"M878.548 1511.14 L902.66 1511.14 L902.66 1514.34 L878.548 1514.34 L878.548 1511.14 Z\" fill=\"#000000\" fill-rule=\"evenodd\" fill-opacity=\"1\" /><path clip-path=\"url(#clip420)\" d=\"M919.455 1509.26 Q916.897 1509.26 915.392 1511.01 Q913.907 1512.76 913.907 1515.81 Q913.907 1518.83 915.392 1520.6 Q916.897 1522.35 919.455 1522.35 Q922.013 1522.35 923.499 1520.6 Q925.003 1518.83 925.003 1515.81 Q925.003 1512.76 923.499 1511.01 Q922.013 1509.26 919.455 1509.26 M926.997 1497.35 L926.997 1500.82 Q925.567 1500.14 924.1 1499.78 Q922.652 1499.42 921.223 1499.42 Q917.461 1499.42 915.468 1501.96 Q913.493 1504.5 913.211 1509.64 Q914.32 1508 915.994 1507.13 Q917.668 1506.25 919.681 1506.25 Q923.912 1506.25 926.357 1508.83 Q928.821 1511.39 928.821 1515.81 Q928.821 1520.13 926.263 1522.75 Q923.706 1525.36 919.455 1525.36 Q914.584 1525.36 912.007 1521.64 Q909.43 1517.89 909.43 1510.8 Q909.43 1504.14 912.59 1500.19 Q915.75 1496.23 921.072 1496.23 Q922.502 1496.23 923.95 1496.51 Q925.417 1496.79 926.997 1497.35 Z\" fill=\"#000000\" fill-rule=\"evenodd\" fill-opacity=\"1\" /><path clip-path=\"url(#clip420)\" d=\"M1253.48 1548.29 L1261.12 1548.29 L1261.12 1521.92 L1252.81 1523.59 L1252.81 1519.33 L1261.08 1517.66 L1265.75 1517.66 L1265.75 1548.29 L1273.39 1548.29 L1273.39 1552.22 L1253.48 1552.22 L1253.48 1548.29 Z\" fill=\"#000000\" fill-rule=\"evenodd\" fill-opacity=\"1\" /><path clip-path=\"url(#clip420)\" d=\"M1282.83 1546.35 L1287.72 1546.35 L1287.72 1552.22 L1282.83 1552.22 L1282.83 1546.35 Z\" fill=\"#000000\" fill-rule=\"evenodd\" fill-opacity=\"1\" /><path clip-path=\"url(#clip420)\" d=\"M1307.9 1520.74 Q1304.29 1520.74 1302.46 1524.31 Q1300.66 1527.85 1300.66 1534.98 Q1300.66 1542.09 1302.46 1545.65 Q1304.29 1549.19 1307.9 1549.19 Q1311.54 1549.19 1313.34 1545.65 Q1315.17 1542.09 1315.17 1534.98 Q1315.17 1527.85 1313.34 1524.31 Q1311.54 1520.74 1307.9 1520.74 M1307.9 1517.04 Q1313.71 1517.04 1316.77 1521.65 Q1319.85 1526.23 1319.85 1534.98 Q1319.85 1543.71 1316.77 1548.31 Q1313.71 1552.9 1307.9 1552.9 Q1302.09 1552.9 1299.01 1548.31 Q1295.96 1543.71 1295.96 1534.98 Q1295.96 1526.23 1299.01 1521.65 Q1302.09 1517.04 1307.9 1517.04 Z\" fill=\"#000000\" fill-rule=\"evenodd\" fill-opacity=\"1\" /><path clip-path=\"url(#clip420)\" d=\"M1338.07 1520.74 Q1334.45 1520.74 1332.63 1524.31 Q1330.82 1527.85 1330.82 1534.98 Q1330.82 1542.09 1332.63 1545.65 Q1334.45 1549.19 1338.07 1549.19 Q1341.7 1549.19 1343.51 1545.65 Q1345.33 1542.09 1345.33 1534.98 Q1345.33 1527.85 1343.51 1524.31 Q1341.7 1520.74 1338.07 1520.74 M1338.07 1517.04 Q1343.88 1517.04 1346.93 1521.65 Q1350.01 1526.23 1350.01 1534.98 Q1350.01 1543.71 1346.93 1548.31 Q1343.88 1552.9 1338.07 1552.9 Q1332.26 1552.9 1329.18 1548.31 Q1326.12 1543.71 1326.12 1534.98 Q1326.12 1526.23 1329.18 1521.65 Q1332.26 1517.04 1338.07 1517.04 Z\" fill=\"#000000\" fill-rule=\"evenodd\" fill-opacity=\"1\" /><path clip-path=\"url(#clip420)\" d=\"M1386.4 1526.76 L1375.82 1537.39 L1386.4 1547.97 L1383.64 1550.77 L1373.02 1540.14 L1362.39 1550.77 L1359.66 1547.97 L1370.22 1537.39 L1359.66 1526.76 L1362.39 1523.96 L1373.02 1534.59 L1383.64 1523.96 L1386.4 1526.76 Z\" fill=\"#000000\" fill-rule=\"evenodd\" fill-opacity=\"1\" /><path clip-path=\"url(#clip420)\" d=\"M1398.76 1548.29 L1406.4 1548.29 L1406.4 1521.92 L1398.09 1523.59 L1398.09 1519.33 L1406.35 1517.66 L1411.03 1517.66 L1411.03 1548.29 L1418.67 1548.29 L1418.67 1552.22 L1398.76 1552.22 L1398.76 1548.29 Z\" fill=\"#000000\" fill-rule=\"evenodd\" fill-opacity=\"1\" /><path clip-path=\"url(#clip420)\" d=\"M1438.11 1520.74 Q1434.5 1520.74 1432.67 1524.31 Q1430.87 1527.85 1430.87 1534.98 Q1430.87 1542.09 1432.67 1545.65 Q1434.5 1549.19 1438.11 1549.19 Q1441.75 1549.19 1443.55 1545.65 Q1445.38 1542.09 1445.38 1534.98 Q1445.38 1527.85 1443.55 1524.31 Q1441.75 1520.74 1438.11 1520.74 M1438.11 1517.04 Q1443.92 1517.04 1446.98 1521.65 Q1450.06 1526.23 1450.06 1534.98 Q1450.06 1543.71 1446.98 1548.31 Q1443.92 1552.9 1438.11 1552.9 Q1432.3 1552.9 1429.22 1548.31 Q1426.17 1543.71 1426.17 1534.98 Q1426.17 1526.23 1429.22 1521.65 Q1432.3 1517.04 1438.11 1517.04 Z\" fill=\"#000000\" fill-rule=\"evenodd\" fill-opacity=\"1\" /><path clip-path=\"url(#clip420)\" d=\"M1450.06 1511.14 L1474.17 1511.14 L1474.17 1514.34 L1450.06 1514.34 L1450.06 1511.14 Z\" fill=\"#000000\" fill-rule=\"evenodd\" fill-opacity=\"1\" /><path clip-path=\"url(#clip420)\" d=\"M1482.4 1496.73 L1497.32 1496.73 L1497.32 1499.93 L1485.88 1499.93 L1485.88 1506.82 Q1486.71 1506.53 1487.54 1506.4 Q1488.37 1506.25 1489.19 1506.25 Q1493.9 1506.25 1496.64 1508.83 Q1499.39 1511.4 1499.39 1515.81 Q1499.39 1520.34 1496.57 1522.86 Q1493.75 1525.36 1488.61 1525.36 Q1486.84 1525.36 1485 1525.06 Q1483.18 1524.76 1481.22 1524.16 L1481.22 1520.34 Q1482.91 1521.26 1484.72 1521.71 Q1486.52 1522.16 1488.54 1522.16 Q1491.79 1522.16 1493.69 1520.45 Q1495.59 1518.74 1495.59 1515.81 Q1495.59 1512.87 1493.69 1511.16 Q1491.79 1509.45 1488.54 1509.45 Q1487.01 1509.45 1485.49 1509.79 Q1483.98 1510.13 1482.4 1510.84 L1482.4 1496.73 Z\" fill=\"#000000\" fill-rule=\"evenodd\" fill-opacity=\"1\" /><path clip-path=\"url(#clip420)\" d=\"M1825.3 1548.29 L1832.93 1548.29 L1832.93 1521.92 L1824.62 1523.59 L1824.62 1519.33 L1832.89 1517.66 L1837.56 1517.66 L1837.56 1548.29 L1845.2 1548.29 L1845.2 1552.22 L1825.3 1552.22 L1825.3 1548.29 Z\" fill=\"#000000\" fill-rule=\"evenodd\" fill-opacity=\"1\" /><path clip-path=\"url(#clip420)\" d=\"M1854.65 1546.35 L1859.53 1546.35 L1859.53 1552.22 L1854.65 1552.22 L1854.65 1546.35 Z\" fill=\"#000000\" fill-rule=\"evenodd\" fill-opacity=\"1\" /><path clip-path=\"url(#clip420)\" d=\"M1869.76 1517.66 L1888.12 1517.66 L1888.12 1521.6 L1874.04 1521.6 L1874.04 1530.07 Q1875.06 1529.72 1876.08 1529.56 Q1877.1 1529.38 1878.12 1529.38 Q1883.91 1529.38 1887.29 1532.55 Q1890.67 1535.72 1890.67 1541.14 Q1890.67 1546.72 1887.19 1549.82 Q1883.72 1552.9 1877.4 1552.9 Q1875.23 1552.9 1872.96 1552.53 Q1870.71 1552.16 1868.3 1551.41 L1868.3 1546.72 Q1870.39 1547.85 1872.61 1548.41 Q1874.83 1548.96 1877.31 1548.96 Q1881.31 1548.96 1883.65 1546.85 Q1885.99 1544.75 1885.99 1541.14 Q1885.99 1537.53 1883.65 1535.42 Q1881.31 1533.31 1877.31 1533.31 Q1875.43 1533.31 1873.56 1533.73 Q1871.71 1534.15 1869.76 1535.03 L1869.76 1517.66 Z\" fill=\"#000000\" fill-rule=\"evenodd\" fill-opacity=\"1\" /><path clip-path=\"url(#clip420)\" d=\"M1909.88 1520.74 Q1906.27 1520.74 1904.44 1524.31 Q1902.63 1527.85 1902.63 1534.98 Q1902.63 1542.09 1904.44 1545.65 Q1906.27 1549.19 1909.88 1549.19 Q1913.51 1549.19 1915.32 1545.65 Q1917.15 1542.09 1917.15 1534.98 Q1917.15 1527.85 1915.32 1524.31 Q1913.51 1520.74 1909.88 1520.74 M1909.88 1517.04 Q1915.69 1517.04 1918.74 1521.65 Q1921.82 1526.23 1921.82 1534.98 Q1921.82 1543.71 1918.74 1548.31 Q1915.69 1552.9 1909.88 1552.9 Q1904.07 1552.9 1900.99 1548.31 Q1897.93 1543.71 1897.93 1534.98 Q1897.93 1526.23 1900.99 1521.65 Q1904.07 1517.04 1909.88 1517.04 Z\" fill=\"#000000\" fill-rule=\"evenodd\" fill-opacity=\"1\" /><path clip-path=\"url(#clip420)\" d=\"M1958.21 1526.76 L1947.63 1537.39 L1958.21 1547.97 L1955.46 1550.77 L1944.83 1540.14 L1934.21 1550.77 L1931.48 1547.97 L1942.03 1537.39 L1931.48 1526.76 L1934.21 1523.96 L1944.83 1534.59 L1955.46 1523.96 L1958.21 1526.76 Z\" fill=\"#000000\" fill-rule=\"evenodd\" fill-opacity=\"1\" /><path clip-path=\"url(#clip420)\" d=\"M1970.57 1548.29 L1978.21 1548.29 L1978.21 1521.92 L1969.9 1523.59 L1969.9 1519.33 L1978.16 1517.66 L1982.84 1517.66 L1982.84 1548.29 L1990.48 1548.29 L1990.48 1552.22 L1970.57 1552.22 L1970.57 1548.29 Z\" fill=\"#000000\" fill-rule=\"evenodd\" fill-opacity=\"1\" /><path clip-path=\"url(#clip420)\" d=\"M2009.92 1520.74 Q2006.31 1520.74 2004.48 1524.31 Q2002.68 1527.85 2002.68 1534.98 Q2002.68 1542.09 2004.48 1545.65 Q2006.31 1549.19 2009.92 1549.19 Q2013.56 1549.19 2015.36 1545.65 Q2017.19 1542.09 2017.19 1534.98 Q2017.19 1527.85 2015.36 1524.31 Q2013.56 1520.74 2009.92 1520.74 M2009.92 1517.04 Q2015.73 1517.04 2018.79 1521.65 Q2021.87 1526.23 2021.87 1534.98 Q2021.87 1543.71 2018.79 1548.31 Q2015.73 1552.9 2009.92 1552.9 Q2004.11 1552.9 2001.04 1548.31 Q1997.98 1543.71 1997.98 1534.98 Q1997.98 1526.23 2001.04 1521.65 Q2004.11 1517.04 2009.92 1517.04 Z\" fill=\"#000000\" fill-rule=\"evenodd\" fill-opacity=\"1\" /><path clip-path=\"url(#clip420)\" d=\"M2021.87 1511.14 L2045.98 1511.14 L2045.98 1514.34 L2021.87 1514.34 L2021.87 1511.14 Z\" fill=\"#000000\" fill-rule=\"evenodd\" fill-opacity=\"1\" /><path clip-path=\"url(#clip420)\" d=\"M2054.22 1496.73 L2069.13 1496.73 L2069.13 1499.93 L2057.7 1499.93 L2057.7 1506.82 Q2058.52 1506.53 2059.35 1506.4 Q2060.18 1506.25 2061.01 1506.25 Q2065.71 1506.25 2068.46 1508.83 Q2071.2 1511.4 2071.2 1515.81 Q2071.2 1520.34 2068.38 1522.86 Q2065.56 1525.36 2060.42 1525.36 Q2058.66 1525.36 2056.81 1525.06 Q2054.99 1524.76 2053.03 1524.16 L2053.03 1520.34 Q2054.73 1521.26 2056.53 1521.71 Q2058.34 1522.16 2060.35 1522.16 Q2063.6 1522.16 2065.5 1520.45 Q2067.4 1518.74 2067.4 1515.81 Q2067.4 1512.87 2065.5 1511.16 Q2063.6 1509.45 2060.35 1509.45 Q2058.83 1509.45 2057.3 1509.79 Q2055.8 1510.13 2054.22 1510.84 L2054.22 1496.73 Z\" fill=\"#000000\" fill-rule=\"evenodd\" fill-opacity=\"1\" /><polyline clip-path=\"url(#clip422)\" style=\"stroke:#000000; stroke-linecap:round; stroke-linejoin:round; stroke-width:2; stroke-opacity:0.1; fill:none\" points=\"170.719,1465.16 2352.76,1465.16 \"/>\n",
       "<polyline clip-path=\"url(#clip422)\" style=\"stroke:#000000; stroke-linecap:round; stroke-linejoin:round; stroke-width:2; stroke-opacity:0.1; fill:none\" points=\"170.719,1189.66 2352.76,1189.66 \"/>\n",
       "<polyline clip-path=\"url(#clip422)\" style=\"stroke:#000000; stroke-linecap:round; stroke-linejoin:round; stroke-width:2; stroke-opacity:0.1; fill:none\" points=\"170.719,914.149 2352.76,914.149 \"/>\n",
       "<polyline clip-path=\"url(#clip422)\" style=\"stroke:#000000; stroke-linecap:round; stroke-linejoin:round; stroke-width:2; stroke-opacity:0.1; fill:none\" points=\"170.719,638.642 2352.76,638.642 \"/>\n",
       "<polyline clip-path=\"url(#clip422)\" style=\"stroke:#000000; stroke-linecap:round; stroke-linejoin:round; stroke-width:2; stroke-opacity:0.1; fill:none\" points=\"170.719,363.135 2352.76,363.135 \"/>\n",
       "<polyline clip-path=\"url(#clip422)\" style=\"stroke:#000000; stroke-linecap:round; stroke-linejoin:round; stroke-width:2; stroke-opacity:0.1; fill:none\" points=\"170.719,87.6286 2352.76,87.6286 \"/>\n",
       "<polyline clip-path=\"url(#clip420)\" style=\"stroke:#000000; stroke-linecap:round; stroke-linejoin:round; stroke-width:4; stroke-opacity:1; fill:none\" points=\"170.719,1474.16 170.719,47.2441 \"/>\n",
       "<polyline clip-path=\"url(#clip420)\" style=\"stroke:#000000; stroke-linecap:round; stroke-linejoin:round; stroke-width:4; stroke-opacity:1; fill:none\" points=\"170.719,1465.16 189.616,1465.16 \"/>\n",
       "<polyline clip-path=\"url(#clip420)\" style=\"stroke:#000000; stroke-linecap:round; stroke-linejoin:round; stroke-width:4; stroke-opacity:1; fill:none\" points=\"170.719,1189.66 189.616,1189.66 \"/>\n",
       "<polyline clip-path=\"url(#clip420)\" style=\"stroke:#000000; stroke-linecap:round; stroke-linejoin:round; stroke-width:4; stroke-opacity:1; fill:none\" points=\"170.719,914.149 189.616,914.149 \"/>\n",
       "<polyline clip-path=\"url(#clip420)\" style=\"stroke:#000000; stroke-linecap:round; stroke-linejoin:round; stroke-width:4; stroke-opacity:1; fill:none\" points=\"170.719,638.642 189.616,638.642 \"/>\n",
       "<polyline clip-path=\"url(#clip420)\" style=\"stroke:#000000; stroke-linecap:round; stroke-linejoin:round; stroke-width:4; stroke-opacity:1; fill:none\" points=\"170.719,363.135 189.616,363.135 \"/>\n",
       "<polyline clip-path=\"url(#clip420)\" style=\"stroke:#000000; stroke-linecap:round; stroke-linejoin:round; stroke-width:4; stroke-opacity:1; fill:none\" points=\"170.719,87.6286 189.616,87.6286 \"/>\n",
       "<path clip-path=\"url(#clip420)\" d=\"M66.617 1463.81 Q69.9735 1464.53 71.8485 1466.79 Q73.7466 1469.06 73.7466 1472.4 Q73.7466 1477.51 70.2281 1480.31 Q66.7096 1483.11 60.2282 1483.11 Q58.0523 1483.11 55.7375 1482.67 Q53.4458 1482.26 50.9921 1481.4 L50.9921 1476.89 Q52.9366 1478.02 55.2514 1478.6 Q57.5662 1479.18 60.0893 1479.18 Q64.4874 1479.18 66.7791 1477.44 Q69.0939 1475.71 69.0939 1472.4 Q69.0939 1469.34 66.9411 1467.63 Q64.8115 1465.89 60.9921 1465.89 L56.9643 1465.89 L56.9643 1462.05 L61.1773 1462.05 Q64.6263 1462.05 66.455 1460.68 Q68.2837 1459.29 68.2837 1456.7 Q68.2837 1454.04 66.3856 1452.63 Q64.5106 1451.19 60.9921 1451.19 Q59.0708 1451.19 56.8717 1451.61 Q54.6727 1452.03 52.0338 1452.91 L52.0338 1448.74 Q54.6958 1448 57.0106 1447.63 Q59.3486 1447.26 61.4087 1447.26 Q66.7328 1447.26 69.8346 1449.69 Q72.9365 1452.1 72.9365 1456.22 Q72.9365 1459.09 71.2929 1461.08 Q69.6494 1463.04 66.617 1463.81 Z\" fill=\"#000000\" fill-rule=\"evenodd\" fill-opacity=\"1\" /><path clip-path=\"url(#clip420)\" d=\"M92.6123 1450.96 Q89.0012 1450.96 87.1725 1454.53 Q85.3669 1458.07 85.3669 1465.2 Q85.3669 1472.3 87.1725 1475.87 Q89.0012 1479.41 92.6123 1479.41 Q96.2465 1479.41 98.0521 1475.87 Q99.8808 1472.3 99.8808 1465.2 Q99.8808 1458.07 98.0521 1454.53 Q96.2465 1450.96 92.6123 1450.96 M92.6123 1447.26 Q98.4224 1447.26 101.478 1451.86 Q104.557 1456.45 104.557 1465.2 Q104.557 1473.92 101.478 1478.53 Q98.4224 1483.11 92.6123 1483.11 Q86.8021 1483.11 83.7234 1478.53 Q80.6679 1473.92 80.6679 1465.2 Q80.6679 1456.45 83.7234 1451.86 Q86.8021 1447.26 92.6123 1447.26 Z\" fill=\"#000000\" fill-rule=\"evenodd\" fill-opacity=\"1\" /><path clip-path=\"url(#clip420)\" d=\"M122.774 1450.96 Q119.163 1450.96 117.334 1454.53 Q115.529 1458.07 115.529 1465.2 Q115.529 1472.3 117.334 1475.87 Q119.163 1479.41 122.774 1479.41 Q126.408 1479.41 128.214 1475.87 Q130.043 1472.3 130.043 1465.2 Q130.043 1458.07 128.214 1454.53 Q126.408 1450.96 122.774 1450.96 M122.774 1447.26 Q128.584 1447.26 131.64 1451.86 Q134.719 1456.45 134.719 1465.2 Q134.719 1473.92 131.64 1478.53 Q128.584 1483.11 122.774 1483.11 Q116.964 1483.11 113.885 1478.53 Q110.83 1473.92 110.83 1465.2 Q110.83 1456.45 113.885 1451.86 Q116.964 1447.26 122.774 1447.26 Z\" fill=\"#000000\" fill-rule=\"evenodd\" fill-opacity=\"1\" /><path clip-path=\"url(#clip420)\" d=\"M66.617 1188.3 Q69.9735 1189.02 71.8485 1191.29 Q73.7466 1193.56 73.7466 1196.89 Q73.7466 1202.01 70.2281 1204.81 Q66.7096 1207.61 60.2282 1207.61 Q58.0523 1207.61 55.7375 1207.17 Q53.4458 1206.75 50.9921 1205.89 L50.9921 1201.38 Q52.9366 1202.51 55.2514 1203.09 Q57.5662 1203.67 60.0893 1203.67 Q64.4874 1203.67 66.7791 1201.94 Q69.0939 1200.2 69.0939 1196.89 Q69.0939 1193.83 66.9411 1192.12 Q64.8115 1190.39 60.9921 1190.39 L56.9643 1190.39 L56.9643 1186.54 L61.1773 1186.54 Q64.6263 1186.54 66.455 1185.18 Q68.2837 1183.79 68.2837 1181.2 Q68.2837 1178.53 66.3856 1177.12 Q64.5106 1175.69 60.9921 1175.69 Q59.0708 1175.69 56.8717 1176.1 Q54.6727 1176.52 52.0338 1177.4 L52.0338 1173.23 Q54.6958 1172.49 57.0106 1172.12 Q59.3486 1171.75 61.4087 1171.75 Q66.7328 1171.75 69.8346 1174.18 Q72.9365 1176.59 72.9365 1180.71 Q72.9365 1183.58 71.2929 1185.57 Q69.6494 1187.54 66.617 1188.3 Z\" fill=\"#000000\" fill-rule=\"evenodd\" fill-opacity=\"1\" /><path clip-path=\"url(#clip420)\" d=\"M83.4225 1203 L91.0614 1203 L91.0614 1176.64 L82.7512 1178.3 L82.7512 1174.04 L91.0151 1172.38 L95.691 1172.38 L95.691 1203 L103.33 1203 L103.33 1206.94 L83.4225 1206.94 L83.4225 1203 Z\" fill=\"#000000\" fill-rule=\"evenodd\" fill-opacity=\"1\" /><path clip-path=\"url(#clip420)\" d=\"M122.774 1175.45 Q119.163 1175.45 117.334 1179.02 Q115.529 1182.56 115.529 1189.69 Q115.529 1196.8 117.334 1200.36 Q119.163 1203.9 122.774 1203.9 Q126.408 1203.9 128.214 1200.36 Q130.043 1196.8 130.043 1189.69 Q130.043 1182.56 128.214 1179.02 Q126.408 1175.45 122.774 1175.45 M122.774 1171.75 Q128.584 1171.75 131.64 1176.36 Q134.719 1180.94 134.719 1189.69 Q134.719 1198.42 131.64 1203.02 Q128.584 1207.61 122.774 1207.61 Q116.964 1207.61 113.885 1203.02 Q110.83 1198.42 110.83 1189.69 Q110.83 1180.94 113.885 1176.36 Q116.964 1171.75 122.774 1171.75 Z\" fill=\"#000000\" fill-rule=\"evenodd\" fill-opacity=\"1\" /><path clip-path=\"url(#clip420)\" d=\"M66.617 912.795 Q69.9735 913.513 71.8485 915.781 Q73.7466 918.05 73.7466 921.383 Q73.7466 926.499 70.2281 929.3 Q66.7096 932.1 60.2282 932.1 Q58.0523 932.1 55.7375 931.661 Q53.4458 931.244 50.9921 930.388 L50.9921 925.874 Q52.9366 927.008 55.2514 927.587 Q57.5662 928.165 60.0893 928.165 Q64.4874 928.165 66.7791 926.429 Q69.0939 924.693 69.0939 921.383 Q69.0939 918.327 66.9411 916.614 Q64.8115 914.878 60.9921 914.878 L56.9643 914.878 L56.9643 911.036 L61.1773 911.036 Q64.6263 911.036 66.455 909.67 Q68.2837 908.281 68.2837 905.689 Q68.2837 903.027 66.3856 901.615 Q64.5106 900.179 60.9921 900.179 Q59.0708 900.179 56.8717 900.596 Q54.6727 901.013 52.0338 901.892 L52.0338 897.726 Q54.6958 896.985 57.0106 896.615 Q59.3486 896.244 61.4087 896.244 Q66.7328 896.244 69.8346 898.675 Q72.9365 901.082 72.9365 905.202 Q72.9365 908.073 71.2929 910.064 Q69.6494 912.031 66.617 912.795 Z\" fill=\"#000000\" fill-rule=\"evenodd\" fill-opacity=\"1\" /><path clip-path=\"url(#clip420)\" d=\"M86.6401 927.494 L102.959 927.494 L102.959 931.429 L81.0151 931.429 L81.0151 927.494 Q83.6771 924.739 88.2604 920.11 Q92.8669 915.457 94.0475 914.114 Q96.2928 911.591 97.1724 909.855 Q98.0752 908.096 98.0752 906.406 Q98.0752 903.652 96.1308 901.915 Q94.2095 900.179 91.1077 900.179 Q88.9086 900.179 86.4549 900.943 Q84.0244 901.707 81.2466 903.258 L81.2466 898.536 Q84.0707 897.402 86.5243 896.823 Q88.978 896.244 91.0151 896.244 Q96.3854 896.244 99.5798 898.929 Q102.774 901.615 102.774 906.105 Q102.774 908.235 101.964 910.156 Q101.177 912.054 99.0706 914.647 Q98.4919 915.318 95.39 918.536 Q92.2882 921.73 86.6401 927.494 Z\" fill=\"#000000\" fill-rule=\"evenodd\" fill-opacity=\"1\" /><path clip-path=\"url(#clip420)\" d=\"M122.774 899.948 Q119.163 899.948 117.334 903.513 Q115.529 907.054 115.529 914.184 Q115.529 921.29 117.334 924.855 Q119.163 928.397 122.774 928.397 Q126.408 928.397 128.214 924.855 Q130.043 921.29 130.043 914.184 Q130.043 907.054 128.214 903.513 Q126.408 899.948 122.774 899.948 M122.774 896.244 Q128.584 896.244 131.64 900.851 Q134.719 905.434 134.719 914.184 Q134.719 922.911 131.64 927.517 Q128.584 932.1 122.774 932.1 Q116.964 932.1 113.885 927.517 Q110.83 922.911 110.83 914.184 Q110.83 905.434 113.885 900.851 Q116.964 896.244 122.774 896.244 Z\" fill=\"#000000\" fill-rule=\"evenodd\" fill-opacity=\"1\" /><path clip-path=\"url(#clip420)\" d=\"M66.617 637.288 Q69.9735 638.006 71.8485 640.274 Q73.7466 642.543 73.7466 645.876 Q73.7466 650.992 70.2281 653.793 Q66.7096 656.594 60.2282 656.594 Q58.0523 656.594 55.7375 656.154 Q53.4458 655.737 50.9921 654.881 L50.9921 650.367 Q52.9366 651.501 55.2514 652.08 Q57.5662 652.658 60.0893 652.658 Q64.4874 652.658 66.7791 650.922 Q69.0939 649.186 69.0939 645.876 Q69.0939 642.821 66.9411 641.108 Q64.8115 639.371 60.9921 639.371 L56.9643 639.371 L56.9643 635.529 L61.1773 635.529 Q64.6263 635.529 66.455 634.163 Q68.2837 632.774 68.2837 630.182 Q68.2837 627.52 66.3856 626.108 Q64.5106 624.672 60.9921 624.672 Q59.0708 624.672 56.8717 625.089 Q54.6727 625.506 52.0338 626.385 L52.0338 622.219 Q54.6958 621.478 57.0106 621.108 Q59.3486 620.737 61.4087 620.737 Q66.7328 620.737 69.8346 623.168 Q72.9365 625.575 72.9365 629.696 Q72.9365 632.566 71.2929 634.557 Q69.6494 636.524 66.617 637.288 Z\" fill=\"#000000\" fill-rule=\"evenodd\" fill-opacity=\"1\" /><path clip-path=\"url(#clip420)\" d=\"M96.7789 637.288 Q100.135 638.006 102.01 640.274 Q103.909 642.543 103.909 645.876 Q103.909 650.992 100.39 653.793 Q96.8715 656.594 90.3901 656.594 Q88.2141 656.594 85.8993 656.154 Q83.6077 655.737 81.154 654.881 L81.154 650.367 Q83.0984 651.501 85.4132 652.08 Q87.728 652.658 90.2512 652.658 Q94.6493 652.658 96.941 650.922 Q99.2558 649.186 99.2558 645.876 Q99.2558 642.821 97.103 641.108 Q94.9734 639.371 91.1539 639.371 L87.1262 639.371 L87.1262 635.529 L91.3391 635.529 Q94.7882 635.529 96.6169 634.163 Q98.4456 632.774 98.4456 630.182 Q98.4456 627.52 96.5474 626.108 Q94.6724 624.672 91.1539 624.672 Q89.2327 624.672 87.0336 625.089 Q84.8345 625.506 82.1957 626.385 L82.1957 622.219 Q84.8577 621.478 87.1725 621.108 Q89.5104 620.737 91.5706 620.737 Q96.8947 620.737 99.9965 623.168 Q103.098 625.575 103.098 629.696 Q103.098 632.566 101.455 634.557 Q99.8113 636.524 96.7789 637.288 Z\" fill=\"#000000\" fill-rule=\"evenodd\" fill-opacity=\"1\" /><path clip-path=\"url(#clip420)\" d=\"M122.774 624.441 Q119.163 624.441 117.334 628.006 Q115.529 631.547 115.529 638.677 Q115.529 645.783 117.334 649.348 Q119.163 652.89 122.774 652.89 Q126.408 652.89 128.214 649.348 Q130.043 645.783 130.043 638.677 Q130.043 631.547 128.214 628.006 Q126.408 624.441 122.774 624.441 M122.774 620.737 Q128.584 620.737 131.64 625.344 Q134.719 629.927 134.719 638.677 Q134.719 647.404 131.64 652.01 Q128.584 656.594 122.774 656.594 Q116.964 656.594 113.885 652.01 Q110.83 647.404 110.83 638.677 Q110.83 629.927 113.885 625.344 Q116.964 620.737 122.774 620.737 Z\" fill=\"#000000\" fill-rule=\"evenodd\" fill-opacity=\"1\" /><path clip-path=\"url(#clip420)\" d=\"M66.617 361.781 Q69.9735 362.499 71.8485 364.767 Q73.7466 367.036 73.7466 370.369 Q73.7466 375.485 70.2281 378.286 Q66.7096 381.087 60.2282 381.087 Q58.0523 381.087 55.7375 380.647 Q53.4458 380.23 50.9921 379.374 L50.9921 374.86 Q52.9366 375.994 55.2514 376.573 Q57.5662 377.152 60.0893 377.152 Q64.4874 377.152 66.7791 375.416 Q69.0939 373.679 69.0939 370.369 Q69.0939 367.314 66.9411 365.601 Q64.8115 363.865 60.9921 363.865 L56.9643 363.865 L56.9643 360.022 L61.1773 360.022 Q64.6263 360.022 66.455 358.656 Q68.2837 357.267 68.2837 354.675 Q68.2837 352.013 66.3856 350.601 Q64.5106 349.166 60.9921 349.166 Q59.0708 349.166 56.8717 349.582 Q54.6727 349.999 52.0338 350.879 L52.0338 346.712 Q54.6958 345.971 57.0106 345.601 Q59.3486 345.23 61.4087 345.23 Q66.7328 345.23 69.8346 347.661 Q72.9365 350.068 72.9365 354.189 Q72.9365 357.059 71.2929 359.05 Q69.6494 361.017 66.617 361.781 Z\" fill=\"#000000\" fill-rule=\"evenodd\" fill-opacity=\"1\" /><path clip-path=\"url(#clip420)\" d=\"M95.4595 349.93 L83.654 368.379 L95.4595 368.379 L95.4595 349.93 M94.2326 345.855 L100.112 345.855 L100.112 368.379 L105.043 368.379 L105.043 372.267 L100.112 372.267 L100.112 380.415 L95.4595 380.415 L95.4595 372.267 L79.8577 372.267 L79.8577 367.754 L94.2326 345.855 Z\" fill=\"#000000\" fill-rule=\"evenodd\" fill-opacity=\"1\" /><path clip-path=\"url(#clip420)\" d=\"M122.774 348.934 Q119.163 348.934 117.334 352.499 Q115.529 356.041 115.529 363.17 Q115.529 370.277 117.334 373.841 Q119.163 377.383 122.774 377.383 Q126.408 377.383 128.214 373.841 Q130.043 370.277 130.043 363.17 Q130.043 356.041 128.214 352.499 Q126.408 348.934 122.774 348.934 M122.774 345.23 Q128.584 345.23 131.64 349.837 Q134.719 354.42 134.719 363.17 Q134.719 371.897 131.64 376.503 Q128.584 381.087 122.774 381.087 Q116.964 381.087 113.885 376.503 Q110.83 371.897 110.83 363.17 Q110.83 354.42 113.885 349.837 Q116.964 345.23 122.774 345.23 Z\" fill=\"#000000\" fill-rule=\"evenodd\" fill-opacity=\"1\" /><path clip-path=\"url(#clip420)\" d=\"M66.617 86.2745 Q69.9735 86.9921 71.8485 89.2606 Q73.7466 91.5291 73.7466 94.8624 Q73.7466 99.9781 70.2281 102.779 Q66.7096 105.58 60.2282 105.58 Q58.0523 105.58 55.7375 105.14 Q53.4458 104.723 50.9921 103.867 L50.9921 99.3531 Q52.9366 100.487 55.2514 101.066 Q57.5662 101.645 60.0893 101.645 Q64.4874 101.645 66.7791 99.9087 Q69.0939 98.1726 69.0939 94.8624 Q69.0939 91.8069 66.9411 90.0939 Q64.8115 88.3578 60.9921 88.3578 L56.9643 88.3578 L56.9643 84.5152 L61.1773 84.5152 Q64.6263 84.5152 66.455 83.1495 Q68.2837 81.7606 68.2837 79.168 Q68.2837 76.506 66.3856 75.094 Q64.5106 73.6588 60.9921 73.6588 Q59.0708 73.6588 56.8717 74.0755 Q54.6727 74.4921 52.0338 75.3718 L52.0338 71.2051 Q54.6958 70.4644 57.0106 70.094 Q59.3486 69.7236 61.4087 69.7236 Q66.7328 69.7236 69.8346 72.1542 Q72.9365 74.5616 72.9365 78.6819 Q72.9365 81.5523 71.2929 83.543 Q69.6494 85.5106 66.617 86.2745 Z\" fill=\"#000000\" fill-rule=\"evenodd\" fill-opacity=\"1\" /><path clip-path=\"url(#clip420)\" d=\"M82.6586 70.3486 L101.015 70.3486 L101.015 74.2838 L86.941 74.2838 L86.941 82.756 Q87.9595 82.4088 88.978 82.2467 Q89.9965 82.0615 91.0151 82.0615 Q96.8021 82.0615 100.182 85.2328 Q103.561 88.4041 103.561 93.8207 Q103.561 99.3994 100.089 102.501 Q96.6169 105.58 90.2975 105.58 Q88.1216 105.58 85.8531 105.21 Q83.6077 104.839 81.2003 104.098 L81.2003 99.3994 Q83.2836 100.534 85.5058 101.089 Q87.728 101.645 90.2049 101.645 Q94.2095 101.645 96.5474 99.5383 Q98.8854 97.4318 98.8854 93.8207 Q98.8854 90.2096 96.5474 88.1032 Q94.2095 85.9967 90.2049 85.9967 Q88.3299 85.9967 86.4549 86.4134 Q84.6031 86.83 82.6586 87.7097 L82.6586 70.3486 Z\" fill=\"#000000\" fill-rule=\"evenodd\" fill-opacity=\"1\" /><path clip-path=\"url(#clip420)\" d=\"M122.774 73.4273 Q119.163 73.4273 117.334 76.9921 Q115.529 80.5338 115.529 87.6634 Q115.529 94.7698 117.334 98.3346 Q119.163 101.876 122.774 101.876 Q126.408 101.876 128.214 98.3346 Q130.043 94.7698 130.043 87.6634 Q130.043 80.5338 128.214 76.9921 Q126.408 73.4273 122.774 73.4273 M122.774 69.7236 Q128.584 69.7236 131.64 74.3301 Q134.719 78.9134 134.719 87.6634 Q134.719 96.3902 131.64 100.997 Q128.584 105.58 122.774 105.58 Q116.964 105.58 113.885 100.997 Q110.83 96.3902 110.83 87.6634 Q110.83 78.9134 113.885 74.3301 Q116.964 69.7236 122.774 69.7236 Z\" fill=\"#000000\" fill-rule=\"evenodd\" fill-opacity=\"1\" /><polyline clip-path=\"url(#clip422)\" style=\"stroke:#009af9; stroke-linecap:round; stroke-linejoin:round; stroke-width:4; stroke-opacity:1; fill:none\" points=\"232.474,1433.78 235.825,1432.55 239.175,1431.28 242.526,1429.97 245.876,1428.62 261.367,1421.79 276.857,1413.93 292.347,1404.94 307.837,1394.71 323.328,1383.14 338.818,1370.13 354.308,1355.59 369.798,1339.42 388.416,1317.72 407.034,1293.44 425.652,1266.5 444.27,1236.85 460.012,1209.65 475.753,1180.53 491.494,1149.53 507.236,1116.72 524.335,1079.15 541.434,1039.71 558.534,998.612 575.633,956.065 607.162,874.691 638.69,791.049 672.492,701.049 706.293,613.055 725.875,563.89 745.456,516.544 765.037,471.362 784.619,428.632 802.02,392.905 819.422,359.418 836.823,328.256 854.225,299.462 869.484,276.17 884.744,254.692 900.003,234.996 915.263,217.033 931.9,199.348 948.537,183.552 965.174,169.534 981.811,157.174 998.547,146.289 1015.28,136.824 1032.02,128.649 1048.75,121.634 1067.26,115.079 1085.76,109.629 1104.27,105.134 1122.77,101.457 1157.98,96.2805 1193.19,92.8995 1266.42,89.354 1328.06,88.2439 1403.31,87.7845 1472.25,87.6683 1535.92,87.6388 1600.41,87.631 1672.69,87.629 1738.19,87.6287 1813.18,87.6286 1882.61,87.6286 1951.07,87.6286 2017.53,87.6286 2085.67,87.6286 2160.31,87.6286 2268.75,87.6286 2291,87.6286 \"/>\n",
       "<path clip-path=\"url(#clip420)\" d=\"M2009.39 1426.6 L2280.02 1426.6 L2280.02 1322.92 L2009.39 1322.92  Z\" fill=\"#ffffff\" fill-rule=\"evenodd\" fill-opacity=\"1\"/>\n",
       "<polyline clip-path=\"url(#clip420)\" style=\"stroke:#000000; stroke-linecap:round; stroke-linejoin:round; stroke-width:4; stroke-opacity:1; fill:none\" points=\"2009.39,1426.6 2280.02,1426.6 2280.02,1322.92 2009.39,1322.92 2009.39,1426.6 \"/>\n",
       "<polyline clip-path=\"url(#clip420)\" style=\"stroke:#009af9; stroke-linecap:round; stroke-linejoin:round; stroke-width:4; stroke-opacity:1; fill:none\" points=\"2033.63,1374.76 2179.1,1374.76 \"/>\n",
       "<path clip-path=\"url(#clip420)\" d=\"M2217.19 1394.45 Q2215.38 1399.08 2213.67 1400.49 Q2211.96 1401.9 2209.09 1401.9 L2205.68 1401.9 L2205.68 1398.34 L2208.18 1398.34 Q2209.94 1398.34 2210.92 1397.5 Q2211.89 1396.67 2213.07 1393.57 L2213.83 1391.62 L2203.35 1366.11 L2207.86 1366.11 L2215.96 1386.39 L2224.06 1366.11 L2228.58 1366.11 L2217.19 1394.45 Z\" fill=\"#000000\" fill-rule=\"evenodd\" fill-opacity=\"1\" /><path clip-path=\"url(#clip420)\" d=\"M2235.87 1388.11 L2243.51 1388.11 L2243.51 1361.74 L2235.2 1363.41 L2235.2 1359.15 L2243.46 1357.48 L2248.14 1357.48 L2248.14 1388.11 L2255.78 1388.11 L2255.78 1392.04 L2235.87 1392.04 L2235.87 1388.11 Z\" fill=\"#000000\" fill-rule=\"evenodd\" fill-opacity=\"1\" /></svg>\n"
      ]
     },
     "execution_count": 8,
     "metadata": {},
     "output_type": "execute_result"
    }
   ],
   "source": [
    "hS = uMax/10\n",
    "F_Temp(x) = (T0 - TAppMax) * interval(x,-4*hS+uMin,uTran_Temp)\n",
    "wₕ(x,x₁) = (1/(sqrt(2*pi)*hS))*exp(-(x-x₁)^2/(2*hS^2))\n",
    "smoothT = SymPy.integrate(F_Temp(x₁)*wₕ(x,x₁),(x₁,-4*hS,uMax)) +  TAppMax\n",
    "plot(smoothT,0,uMax)"
   ]
  },
  {
   "cell_type": "code",
   "execution_count": 9,
   "id": "b946c25e",
   "metadata": {},
   "outputs": [
    {
     "data": {
      "image/svg+xml": [
       "<?xml version=\"1.0\" encoding=\"utf-8\"?>\n",
       "<svg xmlns=\"http://www.w3.org/2000/svg\" xmlns:xlink=\"http://www.w3.org/1999/xlink\" width=\"600\" height=\"400\" viewBox=\"0 0 2400 1600\">\n",
       "<defs>\n",
       "  <clipPath id=\"clip460\">\n",
       "    <rect x=\"0\" y=\"0\" width=\"2400\" height=\"1600\"/>\n",
       "  </clipPath>\n",
       "</defs>\n",
       "<path clip-path=\"url(#clip460)\" d=\"M0 1600 L2400 1600 L2400 0 L0 0  Z\" fill=\"#ffffff\" fill-rule=\"evenodd\" fill-opacity=\"1\"/>\n",
       "<defs>\n",
       "  <clipPath id=\"clip461\">\n",
       "    <rect x=\"480\" y=\"0\" width=\"1681\" height=\"1600\"/>\n",
       "  </clipPath>\n",
       "</defs>\n",
       "<path clip-path=\"url(#clip460)\" d=\"M306.435 1474.16 L2352.76 1474.16 L2352.76 47.2441 L306.435 47.2441  Z\" fill=\"#ffffff\" fill-rule=\"evenodd\" fill-opacity=\"1\"/>\n",
       "<defs>\n",
       "  <clipPath id=\"clip462\">\n",
       "    <rect x=\"306\" y=\"47\" width=\"2047\" height=\"1428\"/>\n",
       "  </clipPath>\n",
       "</defs>\n",
       "<polyline clip-path=\"url(#clip462)\" style=\"stroke:#000000; stroke-linecap:round; stroke-linejoin:round; stroke-width:2; stroke-opacity:0.1; fill:none\" points=\"364.35,1474.16 364.35,47.2441 \"/>\n",
       "<polyline clip-path=\"url(#clip462)\" style=\"stroke:#000000; stroke-linecap:round; stroke-linejoin:round; stroke-width:2; stroke-opacity:0.1; fill:none\" points=\"900.598,1474.16 900.598,47.2441 \"/>\n",
       "<polyline clip-path=\"url(#clip462)\" style=\"stroke:#000000; stroke-linecap:round; stroke-linejoin:round; stroke-width:2; stroke-opacity:0.1; fill:none\" points=\"1436.85,1474.16 1436.85,47.2441 \"/>\n",
       "<polyline clip-path=\"url(#clip462)\" style=\"stroke:#000000; stroke-linecap:round; stroke-linejoin:round; stroke-width:2; stroke-opacity:0.1; fill:none\" points=\"1973.09,1474.16 1973.09,47.2441 \"/>\n",
       "<polyline clip-path=\"url(#clip460)\" style=\"stroke:#000000; stroke-linecap:round; stroke-linejoin:round; stroke-width:4; stroke-opacity:1; fill:none\" points=\"306.435,1474.16 2352.76,1474.16 \"/>\n",
       "<polyline clip-path=\"url(#clip460)\" style=\"stroke:#000000; stroke-linecap:round; stroke-linejoin:round; stroke-width:4; stroke-opacity:1; fill:none\" points=\"364.35,1474.16 364.35,1455.27 \"/>\n",
       "<polyline clip-path=\"url(#clip460)\" style=\"stroke:#000000; stroke-linecap:round; stroke-linejoin:round; stroke-width:4; stroke-opacity:1; fill:none\" points=\"900.598,1474.16 900.598,1455.27 \"/>\n",
       "<polyline clip-path=\"url(#clip460)\" style=\"stroke:#000000; stroke-linecap:round; stroke-linejoin:round; stroke-width:4; stroke-opacity:1; fill:none\" points=\"1436.85,1474.16 1436.85,1455.27 \"/>\n",
       "<polyline clip-path=\"url(#clip460)\" style=\"stroke:#000000; stroke-linecap:round; stroke-linejoin:round; stroke-width:4; stroke-opacity:1; fill:none\" points=\"1973.09,1474.16 1973.09,1455.27 \"/>\n",
       "<path clip-path=\"url(#clip460)\" d=\"M364.35 1505.08 Q360.739 1505.08 358.91 1508.65 Q357.105 1512.19 357.105 1519.32 Q357.105 1526.43 358.91 1529.99 Q360.739 1533.53 364.35 1533.53 Q367.984 1533.53 369.79 1529.99 Q371.619 1526.43 371.619 1519.32 Q371.619 1512.19 369.79 1508.65 Q367.984 1505.08 364.35 1505.08 M364.35 1501.38 Q370.16 1501.38 373.216 1505.99 Q376.295 1510.57 376.295 1519.32 Q376.295 1528.05 373.216 1532.65 Q370.16 1537.24 364.35 1537.24 Q358.54 1537.24 355.461 1532.65 Q352.406 1528.05 352.406 1519.32 Q352.406 1510.57 355.461 1505.99 Q358.54 1501.38 364.35 1501.38 Z\" fill=\"#000000\" fill-rule=\"evenodd\" fill-opacity=\"1\" /><path clip-path=\"url(#clip460)\" d=\"M777.522 1517.66 L795.878 1517.66 L795.878 1521.6 L781.804 1521.6 L781.804 1530.07 Q782.823 1529.72 783.841 1529.56 Q784.86 1529.38 785.878 1529.38 Q791.665 1529.38 795.045 1532.55 Q798.424 1535.72 798.424 1541.14 Q798.424 1546.72 794.952 1549.82 Q791.48 1552.9 785.161 1552.9 Q782.985 1552.9 780.716 1552.53 Q778.471 1552.16 776.063 1551.41 L776.063 1546.72 Q778.147 1547.85 780.369 1548.41 Q782.591 1548.96 785.068 1548.96 Q789.073 1548.96 791.411 1546.85 Q793.749 1544.75 793.749 1541.14 Q793.749 1537.53 791.411 1535.42 Q789.073 1533.31 785.068 1533.31 Q783.193 1533.31 781.318 1533.73 Q779.466 1534.15 777.522 1535.03 L777.522 1517.66 Z\" fill=\"#000000\" fill-rule=\"evenodd\" fill-opacity=\"1\" /><path clip-path=\"url(#clip460)\" d=\"M807.637 1546.35 L812.522 1546.35 L812.522 1552.22 L807.637 1552.22 L807.637 1546.35 Z\" fill=\"#000000\" fill-rule=\"evenodd\" fill-opacity=\"1\" /><path clip-path=\"url(#clip460)\" d=\"M832.707 1520.74 Q829.096 1520.74 827.267 1524.31 Q825.461 1527.85 825.461 1534.98 Q825.461 1542.09 827.267 1545.65 Q829.096 1549.19 832.707 1549.19 Q836.341 1549.19 838.146 1545.65 Q839.975 1542.09 839.975 1534.98 Q839.975 1527.85 838.146 1524.31 Q836.341 1520.74 832.707 1520.74 M832.707 1517.04 Q838.517 1517.04 841.572 1521.65 Q844.651 1526.23 844.651 1534.98 Q844.651 1543.71 841.572 1548.31 Q838.517 1552.9 832.707 1552.9 Q826.897 1552.9 823.818 1548.31 Q820.762 1543.71 820.762 1534.98 Q820.762 1526.23 823.818 1521.65 Q826.897 1517.04 832.707 1517.04 Z\" fill=\"#000000\" fill-rule=\"evenodd\" fill-opacity=\"1\" /><path clip-path=\"url(#clip460)\" d=\"M862.869 1520.74 Q859.257 1520.74 857.429 1524.31 Q855.623 1527.85 855.623 1534.98 Q855.623 1542.09 857.429 1545.65 Q859.257 1549.19 862.869 1549.19 Q866.503 1549.19 868.308 1545.65 Q870.137 1542.09 870.137 1534.98 Q870.137 1527.85 868.308 1524.31 Q866.503 1520.74 862.869 1520.74 M862.869 1517.04 Q868.679 1517.04 871.734 1521.65 Q874.813 1526.23 874.813 1534.98 Q874.813 1543.71 871.734 1548.31 Q868.679 1552.9 862.869 1552.9 Q857.058 1552.9 853.98 1548.31 Q850.924 1543.71 850.924 1534.98 Q850.924 1526.23 853.98 1521.65 Q857.058 1517.04 862.869 1517.04 Z\" fill=\"#000000\" fill-rule=\"evenodd\" fill-opacity=\"1\" /><path clip-path=\"url(#clip460)\" d=\"M911.202 1526.76 L900.623 1537.39 L911.202 1547.97 L908.447 1550.77 L897.822 1540.14 L887.197 1550.77 L884.466 1547.97 L895.021 1537.39 L884.466 1526.76 L887.197 1523.96 L897.822 1534.59 L908.447 1523.96 L911.202 1526.76 Z\" fill=\"#000000\" fill-rule=\"evenodd\" fill-opacity=\"1\" /><path clip-path=\"url(#clip460)\" d=\"M923.563 1548.29 L931.201 1548.29 L931.201 1521.92 L922.891 1523.59 L922.891 1519.33 L931.155 1517.66 L935.831 1517.66 L935.831 1548.29 L943.47 1548.29 L943.47 1552.22 L923.563 1552.22 L923.563 1548.29 Z\" fill=\"#000000\" fill-rule=\"evenodd\" fill-opacity=\"1\" /><path clip-path=\"url(#clip460)\" d=\"M962.914 1520.74 Q959.303 1520.74 957.475 1524.31 Q955.669 1527.85 955.669 1534.98 Q955.669 1542.09 957.475 1545.65 Q959.303 1549.19 962.914 1549.19 Q966.549 1549.19 968.354 1545.65 Q970.183 1542.09 970.183 1534.98 Q970.183 1527.85 968.354 1524.31 Q966.549 1520.74 962.914 1520.74 M962.914 1517.04 Q968.724 1517.04 971.78 1521.65 Q974.859 1526.23 974.859 1534.98 Q974.859 1543.71 971.78 1548.31 Q968.724 1552.9 962.914 1552.9 Q957.104 1552.9 954.025 1548.31 Q950.97 1543.71 950.97 1534.98 Q950.97 1526.23 954.025 1521.65 Q957.104 1517.04 962.914 1517.04 Z\" fill=\"#000000\" fill-rule=\"evenodd\" fill-opacity=\"1\" /><path clip-path=\"url(#clip460)\" d=\"M974.859 1511.14 L998.97 1511.14 L998.97 1514.34 L974.859 1514.34 L974.859 1511.14 Z\" fill=\"#000000\" fill-rule=\"evenodd\" fill-opacity=\"1\" /><path clip-path=\"url(#clip460)\" d=\"M1015.77 1509.26 Q1013.21 1509.26 1011.7 1511.01 Q1010.22 1512.76 1010.22 1515.81 Q1010.22 1518.83 1011.7 1520.6 Q1013.21 1522.35 1015.77 1522.35 Q1018.32 1522.35 1019.81 1520.6 Q1021.31 1518.83 1021.31 1515.81 Q1021.31 1512.76 1019.81 1511.01 Q1018.32 1509.26 1015.77 1509.26 M1023.31 1497.35 L1023.31 1500.82 Q1021.88 1500.14 1020.41 1499.78 Q1018.96 1499.42 1017.53 1499.42 Q1013.77 1499.42 1011.78 1501.96 Q1009.8 1504.5 1009.52 1509.64 Q1010.63 1508 1012.3 1507.13 Q1013.98 1506.25 1015.99 1506.25 Q1020.22 1506.25 1022.67 1508.83 Q1025.13 1511.39 1025.13 1515.81 Q1025.13 1520.13 1022.57 1522.75 Q1020.02 1525.36 1015.77 1525.36 Q1010.89 1525.36 1008.32 1521.64 Q1005.74 1517.89 1005.74 1510.8 Q1005.74 1504.14 1008.9 1500.19 Q1012.06 1496.23 1017.38 1496.23 Q1018.81 1496.23 1020.26 1496.51 Q1021.73 1496.79 1023.31 1497.35 Z\" fill=\"#000000\" fill-rule=\"evenodd\" fill-opacity=\"1\" /><path clip-path=\"url(#clip460)\" d=\"M1314.23 1548.29 L1321.87 1548.29 L1321.87 1521.92 L1313.56 1523.59 L1313.56 1519.33 L1321.82 1517.66 L1326.5 1517.66 L1326.5 1548.29 L1334.14 1548.29 L1334.14 1552.22 L1314.23 1552.22 L1314.23 1548.29 Z\" fill=\"#000000\" fill-rule=\"evenodd\" fill-opacity=\"1\" /><path clip-path=\"url(#clip460)\" d=\"M1343.58 1546.35 L1348.46 1546.35 L1348.46 1552.22 L1343.58 1552.22 L1343.58 1546.35 Z\" fill=\"#000000\" fill-rule=\"evenodd\" fill-opacity=\"1\" /><path clip-path=\"url(#clip460)\" d=\"M1368.65 1520.74 Q1365.04 1520.74 1363.21 1524.31 Q1361.4 1527.85 1361.4 1534.98 Q1361.4 1542.09 1363.21 1545.65 Q1365.04 1549.19 1368.65 1549.19 Q1372.28 1549.19 1374.09 1545.65 Q1375.92 1542.09 1375.92 1534.98 Q1375.92 1527.85 1374.09 1524.31 Q1372.28 1520.74 1368.65 1520.74 M1368.65 1517.04 Q1374.46 1517.04 1377.51 1521.65 Q1380.59 1526.23 1380.59 1534.98 Q1380.59 1543.71 1377.51 1548.31 Q1374.46 1552.9 1368.65 1552.9 Q1362.84 1552.9 1359.76 1548.31 Q1356.7 1543.71 1356.7 1534.98 Q1356.7 1526.23 1359.76 1521.65 Q1362.84 1517.04 1368.65 1517.04 Z\" fill=\"#000000\" fill-rule=\"evenodd\" fill-opacity=\"1\" /><path clip-path=\"url(#clip460)\" d=\"M1398.81 1520.74 Q1395.2 1520.74 1393.37 1524.31 Q1391.57 1527.85 1391.57 1534.98 Q1391.57 1542.09 1393.37 1545.65 Q1395.2 1549.19 1398.81 1549.19 Q1402.45 1549.19 1404.25 1545.65 Q1406.08 1542.09 1406.08 1534.98 Q1406.08 1527.85 1404.25 1524.31 Q1402.45 1520.74 1398.81 1520.74 M1398.81 1517.04 Q1404.62 1517.04 1407.68 1521.65 Q1410.76 1526.23 1410.76 1534.98 Q1410.76 1543.71 1407.68 1548.31 Q1404.62 1552.9 1398.81 1552.9 Q1393 1552.9 1389.92 1548.31 Q1386.87 1543.71 1386.87 1534.98 Q1386.87 1526.23 1389.92 1521.65 Q1393 1517.04 1398.81 1517.04 Z\" fill=\"#000000\" fill-rule=\"evenodd\" fill-opacity=\"1\" /><path clip-path=\"url(#clip460)\" d=\"M1447.14 1526.76 L1436.57 1537.39 L1447.14 1547.97 L1444.39 1550.77 L1433.76 1540.14 L1423.14 1550.77 L1420.41 1547.97 L1430.96 1537.39 L1420.41 1526.76 L1423.14 1523.96 L1433.76 1534.59 L1444.39 1523.96 L1447.14 1526.76 Z\" fill=\"#000000\" fill-rule=\"evenodd\" fill-opacity=\"1\" /><path clip-path=\"url(#clip460)\" d=\"M1459.5 1548.29 L1467.14 1548.29 L1467.14 1521.92 L1458.83 1523.59 L1458.83 1519.33 L1467.1 1517.66 L1471.77 1517.66 L1471.77 1548.29 L1479.41 1548.29 L1479.41 1552.22 L1459.5 1552.22 L1459.5 1548.29 Z\" fill=\"#000000\" fill-rule=\"evenodd\" fill-opacity=\"1\" /><path clip-path=\"url(#clip460)\" d=\"M1498.86 1520.74 Q1495.25 1520.74 1493.42 1524.31 Q1491.61 1527.85 1491.61 1534.98 Q1491.61 1542.09 1493.42 1545.65 Q1495.25 1549.19 1498.86 1549.19 Q1502.49 1549.19 1504.3 1545.65 Q1506.13 1542.09 1506.13 1534.98 Q1506.13 1527.85 1504.3 1524.31 Q1502.49 1520.74 1498.86 1520.74 M1498.86 1517.04 Q1504.67 1517.04 1507.72 1521.65 Q1510.8 1526.23 1510.8 1534.98 Q1510.8 1543.71 1507.72 1548.31 Q1504.67 1552.9 1498.86 1552.9 Q1493.05 1552.9 1489.97 1548.31 Q1486.91 1543.71 1486.91 1534.98 Q1486.91 1526.23 1489.97 1521.65 Q1493.05 1517.04 1498.86 1517.04 Z\" fill=\"#000000\" fill-rule=\"evenodd\" fill-opacity=\"1\" /><path clip-path=\"url(#clip460)\" d=\"M1510.8 1511.14 L1534.91 1511.14 L1534.91 1514.34 L1510.8 1514.34 L1510.8 1511.14 Z\" fill=\"#000000\" fill-rule=\"evenodd\" fill-opacity=\"1\" /><path clip-path=\"url(#clip460)\" d=\"M1543.15 1496.73 L1558.06 1496.73 L1558.06 1499.93 L1546.63 1499.93 L1546.63 1506.82 Q1547.46 1506.53 1548.28 1506.4 Q1549.11 1506.25 1549.94 1506.25 Q1554.64 1506.25 1557.39 1508.83 Q1560.13 1511.4 1560.13 1515.81 Q1560.13 1520.34 1557.31 1522.86 Q1554.49 1525.36 1549.36 1525.36 Q1547.59 1525.36 1545.75 1525.06 Q1543.92 1524.76 1541.97 1524.16 L1541.97 1520.34 Q1543.66 1521.26 1545.46 1521.71 Q1547.27 1522.16 1549.28 1522.16 Q1552.54 1522.16 1554.43 1520.45 Q1556.33 1518.74 1556.33 1515.81 Q1556.33 1512.87 1554.43 1511.16 Q1552.54 1509.45 1549.28 1509.45 Q1547.76 1509.45 1546.23 1509.79 Q1544.73 1510.13 1543.15 1510.84 L1543.15 1496.73 Z\" fill=\"#000000\" fill-rule=\"evenodd\" fill-opacity=\"1\" /><path clip-path=\"url(#clip460)\" d=\"M1850.48 1548.29 L1858.11 1548.29 L1858.11 1521.92 L1849.8 1523.59 L1849.8 1519.33 L1858.07 1517.66 L1862.74 1517.66 L1862.74 1548.29 L1870.38 1548.29 L1870.38 1552.22 L1850.48 1552.22 L1850.48 1548.29 Z\" fill=\"#000000\" fill-rule=\"evenodd\" fill-opacity=\"1\" /><path clip-path=\"url(#clip460)\" d=\"M1879.83 1546.35 L1884.71 1546.35 L1884.71 1552.22 L1879.83 1552.22 L1879.83 1546.35 Z\" fill=\"#000000\" fill-rule=\"evenodd\" fill-opacity=\"1\" /><path clip-path=\"url(#clip460)\" d=\"M1894.94 1517.66 L1913.3 1517.66 L1913.3 1521.6 L1899.23 1521.6 L1899.23 1530.07 Q1900.24 1529.72 1901.26 1529.56 Q1902.28 1529.38 1903.3 1529.38 Q1909.09 1529.38 1912.47 1532.55 Q1915.85 1535.72 1915.85 1541.14 Q1915.85 1546.72 1912.37 1549.82 Q1908.9 1552.9 1902.58 1552.9 Q1900.41 1552.9 1898.14 1552.53 Q1895.89 1552.16 1893.48 1551.41 L1893.48 1546.72 Q1895.57 1547.85 1897.79 1548.41 Q1900.01 1548.96 1902.49 1548.96 Q1906.49 1548.96 1908.83 1546.85 Q1911.17 1544.75 1911.17 1541.14 Q1911.17 1537.53 1908.83 1535.42 Q1906.49 1533.31 1902.49 1533.31 Q1900.61 1533.31 1898.74 1533.73 Q1896.89 1534.15 1894.94 1535.03 L1894.94 1517.66 Z\" fill=\"#000000\" fill-rule=\"evenodd\" fill-opacity=\"1\" /><path clip-path=\"url(#clip460)\" d=\"M1935.06 1520.74 Q1931.45 1520.74 1929.62 1524.31 Q1927.81 1527.85 1927.81 1534.98 Q1927.81 1542.09 1929.62 1545.65 Q1931.45 1549.19 1935.06 1549.19 Q1938.69 1549.19 1940.5 1545.65 Q1942.33 1542.09 1942.33 1534.98 Q1942.33 1527.85 1940.5 1524.31 Q1938.69 1520.74 1935.06 1520.74 M1935.06 1517.04 Q1940.87 1517.04 1943.92 1521.65 Q1947 1526.23 1947 1534.98 Q1947 1543.71 1943.92 1548.31 Q1940.87 1552.9 1935.06 1552.9 Q1929.25 1552.9 1926.17 1548.31 Q1923.11 1543.71 1923.11 1534.98 Q1923.11 1526.23 1926.17 1521.65 Q1929.25 1517.04 1935.06 1517.04 Z\" fill=\"#000000\" fill-rule=\"evenodd\" fill-opacity=\"1\" /><path clip-path=\"url(#clip460)\" d=\"M1983.39 1526.76 L1972.81 1537.39 L1983.39 1547.97 L1980.64 1550.77 L1970.01 1540.14 L1959.39 1550.77 L1956.66 1547.97 L1967.21 1537.39 L1956.66 1526.76 L1959.39 1523.96 L1970.01 1534.59 L1980.64 1523.96 L1983.39 1526.76 Z\" fill=\"#000000\" fill-rule=\"evenodd\" fill-opacity=\"1\" /><path clip-path=\"url(#clip460)\" d=\"M1995.75 1548.29 L2003.39 1548.29 L2003.39 1521.92 L1995.08 1523.59 L1995.08 1519.33 L2003.34 1517.66 L2008.02 1517.66 L2008.02 1548.29 L2015.66 1548.29 L2015.66 1552.22 L1995.75 1552.22 L1995.75 1548.29 Z\" fill=\"#000000\" fill-rule=\"evenodd\" fill-opacity=\"1\" /><path clip-path=\"url(#clip460)\" d=\"M2035.1 1520.74 Q2031.49 1520.74 2029.66 1524.31 Q2027.86 1527.85 2027.86 1534.98 Q2027.86 1542.09 2029.66 1545.65 Q2031.49 1549.19 2035.1 1549.19 Q2038.74 1549.19 2040.54 1545.65 Q2042.37 1542.09 2042.37 1534.98 Q2042.37 1527.85 2040.54 1524.31 Q2038.74 1520.74 2035.1 1520.74 M2035.1 1517.04 Q2040.91 1517.04 2043.97 1521.65 Q2047.05 1526.23 2047.05 1534.98 Q2047.05 1543.71 2043.97 1548.31 Q2040.91 1552.9 2035.1 1552.9 Q2029.29 1552.9 2026.22 1548.31 Q2023.16 1543.71 2023.16 1534.98 Q2023.16 1526.23 2026.22 1521.65 Q2029.29 1517.04 2035.1 1517.04 Z\" fill=\"#000000\" fill-rule=\"evenodd\" fill-opacity=\"1\" /><path clip-path=\"url(#clip460)\" d=\"M2047.05 1511.14 L2071.16 1511.14 L2071.16 1514.34 L2047.05 1514.34 L2047.05 1511.14 Z\" fill=\"#000000\" fill-rule=\"evenodd\" fill-opacity=\"1\" /><path clip-path=\"url(#clip460)\" d=\"M2079.4 1496.73 L2094.31 1496.73 L2094.31 1499.93 L2082.88 1499.93 L2082.88 1506.82 Q2083.7 1506.53 2084.53 1506.4 Q2085.36 1506.25 2086.19 1506.25 Q2090.89 1506.25 2093.64 1508.83 Q2096.38 1511.4 2096.38 1515.81 Q2096.38 1520.34 2093.56 1522.86 Q2090.74 1525.36 2085.6 1525.36 Q2083.84 1525.36 2081.99 1525.06 Q2080.17 1524.76 2078.21 1524.16 L2078.21 1520.34 Q2079.91 1521.26 2081.71 1521.71 Q2083.52 1522.16 2085.53 1522.16 Q2088.78 1522.16 2090.68 1520.45 Q2092.58 1518.74 2092.58 1515.81 Q2092.58 1512.87 2090.68 1511.16 Q2088.78 1509.45 2085.53 1509.45 Q2084.01 1509.45 2082.48 1509.79 Q2080.98 1510.13 2079.4 1510.84 L2079.4 1496.73 Z\" fill=\"#000000\" fill-rule=\"evenodd\" fill-opacity=\"1\" /><polyline clip-path=\"url(#clip462)\" style=\"stroke:#000000; stroke-linecap:round; stroke-linejoin:round; stroke-width:2; stroke-opacity:0.1; fill:none\" points=\"306.435,1433.79 2352.76,1433.79 \"/>\n",
       "<polyline clip-path=\"url(#clip462)\" style=\"stroke:#000000; stroke-linecap:round; stroke-linejoin:round; stroke-width:2; stroke-opacity:0.1; fill:none\" points=\"306.435,1097.25 2352.76,1097.25 \"/>\n",
       "<polyline clip-path=\"url(#clip462)\" style=\"stroke:#000000; stroke-linecap:round; stroke-linejoin:round; stroke-width:2; stroke-opacity:0.1; fill:none\" points=\"306.435,760.709 2352.76,760.709 \"/>\n",
       "<polyline clip-path=\"url(#clip462)\" style=\"stroke:#000000; stroke-linecap:round; stroke-linejoin:round; stroke-width:2; stroke-opacity:0.1; fill:none\" points=\"306.435,424.169 2352.76,424.169 \"/>\n",
       "<polyline clip-path=\"url(#clip462)\" style=\"stroke:#000000; stroke-linecap:round; stroke-linejoin:round; stroke-width:2; stroke-opacity:0.1; fill:none\" points=\"306.435,87.6286 2352.76,87.6286 \"/>\n",
       "<polyline clip-path=\"url(#clip460)\" style=\"stroke:#000000; stroke-linecap:round; stroke-linejoin:round; stroke-width:4; stroke-opacity:1; fill:none\" points=\"306.435,1474.16 306.435,47.2441 \"/>\n",
       "<polyline clip-path=\"url(#clip460)\" style=\"stroke:#000000; stroke-linecap:round; stroke-linejoin:round; stroke-width:4; stroke-opacity:1; fill:none\" points=\"306.435,1433.79 325.333,1433.79 \"/>\n",
       "<polyline clip-path=\"url(#clip460)\" style=\"stroke:#000000; stroke-linecap:round; stroke-linejoin:round; stroke-width:4; stroke-opacity:1; fill:none\" points=\"306.435,1097.25 325.333,1097.25 \"/>\n",
       "<polyline clip-path=\"url(#clip460)\" style=\"stroke:#000000; stroke-linecap:round; stroke-linejoin:round; stroke-width:4; stroke-opacity:1; fill:none\" points=\"306.435,760.709 325.333,760.709 \"/>\n",
       "<polyline clip-path=\"url(#clip460)\" style=\"stroke:#000000; stroke-linecap:round; stroke-linejoin:round; stroke-width:4; stroke-opacity:1; fill:none\" points=\"306.435,424.169 325.333,424.169 \"/>\n",
       "<polyline clip-path=\"url(#clip460)\" style=\"stroke:#000000; stroke-linecap:round; stroke-linejoin:round; stroke-width:4; stroke-opacity:1; fill:none\" points=\"306.435,87.6286 325.333,87.6286 \"/>\n",
       "<path clip-path=\"url(#clip460)\" d=\"M258.491 1419.59 Q254.88 1419.59 253.051 1423.15 Q251.246 1426.69 251.246 1433.82 Q251.246 1440.93 253.051 1444.5 Q254.88 1448.04 258.491 1448.04 Q262.125 1448.04 263.931 1444.5 Q265.759 1440.93 265.759 1433.82 Q265.759 1426.69 263.931 1423.15 Q262.125 1419.59 258.491 1419.59 M258.491 1415.88 Q264.301 1415.88 267.357 1420.49 Q270.435 1425.07 270.435 1433.82 Q270.435 1442.55 267.357 1447.16 Q264.301 1451.74 258.491 1451.74 Q252.681 1451.74 249.602 1447.16 Q246.547 1442.55 246.547 1433.82 Q246.547 1425.07 249.602 1420.49 Q252.681 1415.88 258.491 1415.88 Z\" fill=\"#000000\" fill-rule=\"evenodd\" fill-opacity=\"1\" /><path clip-path=\"url(#clip460)\" d=\"M54.6105 1086.42 L72.9668 1086.42 L72.9668 1090.35 L58.8928 1090.35 L58.8928 1098.82 Q59.9113 1098.48 60.9299 1098.31 Q61.9484 1098.13 62.9669 1098.13 Q68.7539 1098.13 72.1335 1101.3 Q75.5131 1104.47 75.5131 1109.89 Q75.5131 1115.47 72.0409 1118.57 Q68.5687 1121.65 62.2493 1121.65 Q60.0734 1121.65 57.8049 1121.28 Q55.5595 1120.91 53.1521 1120.17 L53.1521 1115.47 Q55.2354 1116.6 57.4577 1117.16 Q59.6799 1117.71 62.1567 1117.71 Q66.1613 1117.71 68.4993 1115.61 Q70.8372 1113.5 70.8372 1109.89 Q70.8372 1106.28 68.4993 1104.17 Q66.1613 1102.06 62.1567 1102.06 Q60.2817 1102.06 58.4067 1102.48 Q56.5549 1102.9 54.6105 1103.78 L54.6105 1086.42 Z\" fill=\"#000000\" fill-rule=\"evenodd\" fill-opacity=\"1\" /><path clip-path=\"url(#clip460)\" d=\"M84.726 1115.1 L89.6103 1115.1 L89.6103 1120.98 L84.726 1120.98 L84.726 1115.1 Z\" fill=\"#000000\" fill-rule=\"evenodd\" fill-opacity=\"1\" /><path clip-path=\"url(#clip460)\" d=\"M109.795 1089.5 Q106.184 1089.5 104.356 1093.06 Q102.55 1096.6 102.55 1103.73 Q102.55 1110.84 104.356 1114.4 Q106.184 1117.94 109.795 1117.94 Q113.43 1117.94 115.235 1114.4 Q117.064 1110.84 117.064 1103.73 Q117.064 1096.6 115.235 1093.06 Q113.43 1089.5 109.795 1089.5 M109.795 1085.79 Q115.605 1085.79 118.661 1090.4 Q121.74 1094.98 121.74 1103.73 Q121.74 1112.46 118.661 1117.06 Q115.605 1121.65 109.795 1121.65 Q103.985 1121.65 100.906 1117.06 Q97.851 1112.46 97.851 1103.73 Q97.851 1094.98 100.906 1090.4 Q103.985 1085.79 109.795 1085.79 Z\" fill=\"#000000\" fill-rule=\"evenodd\" fill-opacity=\"1\" /><path clip-path=\"url(#clip460)\" d=\"M139.957 1089.5 Q136.346 1089.5 134.517 1093.06 Q132.712 1096.6 132.712 1103.73 Q132.712 1110.84 134.517 1114.4 Q136.346 1117.94 139.957 1117.94 Q143.591 1117.94 145.397 1114.4 Q147.226 1110.84 147.226 1103.73 Q147.226 1096.6 145.397 1093.06 Q143.591 1089.5 139.957 1089.5 M139.957 1085.79 Q145.767 1085.79 148.823 1090.4 Q151.902 1094.98 151.902 1103.73 Q151.902 1112.46 148.823 1117.06 Q145.767 1121.65 139.957 1121.65 Q134.147 1121.65 131.068 1117.06 Q128.013 1112.46 128.013 1103.73 Q128.013 1094.98 131.068 1090.4 Q134.147 1085.79 139.957 1085.79 Z\" fill=\"#000000\" fill-rule=\"evenodd\" fill-opacity=\"1\" /><path clip-path=\"url(#clip460)\" d=\"M188.29 1095.51 L177.712 1106.14 L188.29 1116.72 L185.536 1119.52 L174.911 1108.89 L164.286 1119.52 L161.554 1116.72 L172.11 1106.14 L161.554 1095.51 L164.286 1092.71 L174.911 1103.34 L185.536 1092.71 L188.29 1095.51 Z\" fill=\"#000000\" fill-rule=\"evenodd\" fill-opacity=\"1\" /><path clip-path=\"url(#clip460)\" d=\"M200.651 1117.04 L208.29 1117.04 L208.29 1090.68 L199.98 1092.34 L199.98 1088.08 L208.244 1086.42 L212.92 1086.42 L212.92 1117.04 L220.559 1117.04 L220.559 1120.98 L200.651 1120.98 L200.651 1117.04 Z\" fill=\"#000000\" fill-rule=\"evenodd\" fill-opacity=\"1\" /><path clip-path=\"url(#clip460)\" d=\"M240.003 1089.5 Q236.392 1089.5 234.563 1093.06 Q232.758 1096.6 232.758 1103.73 Q232.758 1110.84 234.563 1114.4 Q236.392 1117.94 240.003 1117.94 Q243.637 1117.94 245.443 1114.4 Q247.271 1110.84 247.271 1103.73 Q247.271 1096.6 245.443 1093.06 Q243.637 1089.5 240.003 1089.5 M240.003 1085.79 Q245.813 1085.79 248.869 1090.4 Q251.947 1094.98 251.947 1103.73 Q251.947 1112.46 248.869 1117.06 Q245.813 1121.65 240.003 1121.65 Q234.193 1121.65 231.114 1117.06 Q228.059 1112.46 228.059 1103.73 Q228.059 1094.98 231.114 1090.4 Q234.193 1085.79 240.003 1085.79 Z\" fill=\"#000000\" fill-rule=\"evenodd\" fill-opacity=\"1\" /><path clip-path=\"url(#clip460)\" d=\"M264.643 1078.43 Q267.37 1079.01 268.893 1080.85 Q270.435 1082.7 270.435 1085.4 Q270.435 1089.56 267.577 1091.84 Q264.718 1094.11 259.452 1094.11 Q257.684 1094.11 255.803 1093.75 Q253.941 1093.42 251.947 1092.72 L251.947 1089.05 Q253.527 1089.97 255.408 1090.44 Q257.289 1090.91 259.339 1090.91 Q262.912 1090.91 264.774 1089.5 Q266.655 1088.09 266.655 1085.4 Q266.655 1082.92 264.906 1081.53 Q263.176 1080.12 260.072 1080.12 L256.8 1080.12 L256.8 1077 L260.223 1077 Q263.025 1077 264.511 1075.89 Q265.997 1074.76 265.997 1072.65 Q265.997 1070.49 264.455 1069.34 Q262.931 1068.18 260.072 1068.18 Q258.511 1068.18 256.725 1068.51 Q254.938 1068.85 252.794 1069.57 L252.794 1066.18 Q254.957 1065.58 256.837 1065.28 Q258.737 1064.98 260.411 1064.98 Q264.737 1064.98 267.257 1066.95 Q269.777 1068.91 269.777 1072.26 Q269.777 1074.59 268.442 1076.21 Q267.106 1077.81 264.643 1078.43 Z\" fill=\"#000000\" fill-rule=\"evenodd\" fill-opacity=\"1\" /><path clip-path=\"url(#clip460)\" d=\"M53.3995 780.501 L61.0384 780.501 L61.0384 754.136 L52.7282 755.802 L52.7282 751.543 L60.9921 749.877 L65.668 749.877 L65.668 780.501 L73.3068 780.501 L73.3068 784.437 L53.3995 784.437 L53.3995 780.501 Z\" fill=\"#000000\" fill-rule=\"evenodd\" fill-opacity=\"1\" /><path clip-path=\"url(#clip460)\" d=\"M82.7512 778.557 L87.6354 778.557 L87.6354 784.437 L82.7512 784.437 L82.7512 778.557 Z\" fill=\"#000000\" fill-rule=\"evenodd\" fill-opacity=\"1\" /><path clip-path=\"url(#clip460)\" d=\"M107.821 752.955 Q104.209 752.955 102.381 756.52 Q100.575 760.062 100.575 767.191 Q100.575 774.298 102.381 777.863 Q104.209 781.404 107.821 781.404 Q111.455 781.404 113.26 777.863 Q115.089 774.298 115.089 767.191 Q115.089 760.062 113.26 756.52 Q111.455 752.955 107.821 752.955 M107.821 749.252 Q113.631 749.252 116.686 753.858 Q119.765 758.441 119.765 767.191 Q119.765 775.918 116.686 780.525 Q113.631 785.108 107.821 785.108 Q102.01 785.108 98.9317 780.525 Q95.8761 775.918 95.8761 767.191 Q95.8761 758.441 98.9317 753.858 Q102.01 749.252 107.821 749.252 Z\" fill=\"#000000\" fill-rule=\"evenodd\" fill-opacity=\"1\" /><path clip-path=\"url(#clip460)\" d=\"M137.982 752.955 Q134.371 752.955 132.543 756.52 Q130.737 760.062 130.737 767.191 Q130.737 774.298 132.543 777.863 Q134.371 781.404 137.982 781.404 Q141.617 781.404 143.422 777.863 Q145.251 774.298 145.251 767.191 Q145.251 760.062 143.422 756.52 Q141.617 752.955 137.982 752.955 M137.982 749.252 Q143.793 749.252 146.848 753.858 Q149.927 758.441 149.927 767.191 Q149.927 775.918 146.848 780.525 Q143.793 785.108 137.982 785.108 Q132.172 785.108 129.094 780.525 Q126.038 775.918 126.038 767.191 Q126.038 758.441 129.094 753.858 Q132.172 749.252 137.982 749.252 Z\" fill=\"#000000\" fill-rule=\"evenodd\" fill-opacity=\"1\" /><path clip-path=\"url(#clip460)\" d=\"M186.315 758.974 L175.737 769.599 L186.315 780.177 L183.561 782.978 L172.936 772.353 L162.311 782.978 L159.58 780.177 L170.135 769.599 L159.58 758.974 L162.311 756.173 L172.936 766.798 L183.561 756.173 L186.315 758.974 Z\" fill=\"#000000\" fill-rule=\"evenodd\" fill-opacity=\"1\" /><path clip-path=\"url(#clip460)\" d=\"M198.677 780.501 L206.315 780.501 L206.315 754.136 L198.005 755.802 L198.005 751.543 L206.269 749.877 L210.945 749.877 L210.945 780.501 L218.584 780.501 L218.584 784.437 L198.677 784.437 L198.677 780.501 Z\" fill=\"#000000\" fill-rule=\"evenodd\" fill-opacity=\"1\" /><path clip-path=\"url(#clip460)\" d=\"M238.028 752.955 Q234.417 752.955 232.588 756.52 Q230.783 760.062 230.783 767.191 Q230.783 774.298 232.588 777.863 Q234.417 781.404 238.028 781.404 Q241.662 781.404 243.468 777.863 Q245.297 774.298 245.297 767.191 Q245.297 760.062 243.468 756.52 Q241.662 752.955 238.028 752.955 M238.028 749.252 Q243.838 749.252 246.894 753.858 Q249.973 758.441 249.973 767.191 Q249.973 775.918 246.894 780.525 Q243.838 785.108 238.028 785.108 Q232.218 785.108 229.139 780.525 Q226.084 775.918 226.084 767.191 Q226.084 758.441 229.139 753.858 Q232.218 749.252 238.028 749.252 Z\" fill=\"#000000\" fill-rule=\"evenodd\" fill-opacity=\"1\" /><path clip-path=\"url(#clip460)\" d=\"M262.649 732.256 L253.057 747.246 L262.649 747.246 L262.649 732.256 M261.652 728.946 L266.429 728.946 L266.429 747.246 L270.435 747.246 L270.435 750.406 L266.429 750.406 L266.429 757.026 L262.649 757.026 L262.649 750.406 L249.973 750.406 L249.973 746.738 L261.652 728.946 Z\" fill=\"#000000\" fill-rule=\"evenodd\" fill-opacity=\"1\" /><path clip-path=\"url(#clip460)\" d=\"M53.3995 443.961 L61.0384 443.961 L61.0384 417.596 L52.7282 419.262 L52.7282 415.003 L60.9921 413.336 L65.668 413.336 L65.668 443.961 L73.3068 443.961 L73.3068 447.896 L53.3995 447.896 L53.3995 443.961 Z\" fill=\"#000000\" fill-rule=\"evenodd\" fill-opacity=\"1\" /><path clip-path=\"url(#clip460)\" d=\"M82.7512 442.017 L87.6354 442.017 L87.6354 447.896 L82.7512 447.896 L82.7512 442.017 Z\" fill=\"#000000\" fill-rule=\"evenodd\" fill-opacity=\"1\" /><path clip-path=\"url(#clip460)\" d=\"M97.8669 413.336 L116.223 413.336 L116.223 417.272 L102.149 417.272 L102.149 425.744 Q103.168 425.397 104.186 425.234 Q105.205 425.049 106.223 425.049 Q112.01 425.049 115.39 428.221 Q118.77 431.392 118.77 436.808 Q118.77 442.387 115.297 445.489 Q111.825 448.568 105.506 448.568 Q103.33 448.568 101.061 448.197 Q98.8159 447.827 96.4085 447.086 L96.4085 442.387 Q98.4919 443.521 100.714 444.077 Q102.936 444.633 105.413 444.633 Q109.418 444.633 111.756 442.526 Q114.094 440.42 114.094 436.808 Q114.094 433.197 111.756 431.091 Q109.418 428.984 105.413 428.984 Q103.538 428.984 101.663 429.401 Q99.8113 429.818 97.8669 430.697 L97.8669 413.336 Z\" fill=\"#000000\" fill-rule=\"evenodd\" fill-opacity=\"1\" /><path clip-path=\"url(#clip460)\" d=\"M137.982 416.415 Q134.371 416.415 132.543 419.98 Q130.737 423.522 130.737 430.651 Q130.737 437.758 132.543 441.322 Q134.371 444.864 137.982 444.864 Q141.617 444.864 143.422 441.322 Q145.251 437.758 145.251 430.651 Q145.251 423.522 143.422 419.98 Q141.617 416.415 137.982 416.415 M137.982 412.711 Q143.793 412.711 146.848 417.318 Q149.927 421.901 149.927 430.651 Q149.927 439.378 146.848 443.984 Q143.793 448.568 137.982 448.568 Q132.172 448.568 129.094 443.984 Q126.038 439.378 126.038 430.651 Q126.038 421.901 129.094 417.318 Q132.172 412.711 137.982 412.711 Z\" fill=\"#000000\" fill-rule=\"evenodd\" fill-opacity=\"1\" /><path clip-path=\"url(#clip460)\" d=\"M186.315 422.434 L175.737 433.059 L186.315 443.637 L183.561 446.438 L172.936 435.813 L162.311 446.438 L159.58 443.637 L170.135 433.059 L159.58 422.434 L162.311 419.633 L172.936 430.258 L183.561 419.633 L186.315 422.434 Z\" fill=\"#000000\" fill-rule=\"evenodd\" fill-opacity=\"1\" /><path clip-path=\"url(#clip460)\" d=\"M198.677 443.961 L206.315 443.961 L206.315 417.596 L198.005 419.262 L198.005 415.003 L206.269 413.336 L210.945 413.336 L210.945 443.961 L218.584 443.961 L218.584 447.896 L198.677 447.896 L198.677 443.961 Z\" fill=\"#000000\" fill-rule=\"evenodd\" fill-opacity=\"1\" /><path clip-path=\"url(#clip460)\" d=\"M238.028 416.415 Q234.417 416.415 232.588 419.98 Q230.783 423.522 230.783 430.651 Q230.783 437.758 232.588 441.322 Q234.417 444.864 238.028 444.864 Q241.662 444.864 243.468 441.322 Q245.297 437.758 245.297 430.651 Q245.297 423.522 243.468 419.98 Q241.662 416.415 238.028 416.415 M238.028 412.711 Q243.838 412.711 246.894 417.318 Q249.973 421.901 249.973 430.651 Q249.973 439.378 246.894 443.984 Q243.838 448.568 238.028 448.568 Q232.218 448.568 229.139 443.984 Q226.084 439.378 226.084 430.651 Q226.084 421.901 229.139 417.318 Q232.218 412.711 238.028 412.711 Z\" fill=\"#000000\" fill-rule=\"evenodd\" fill-opacity=\"1\" /><path clip-path=\"url(#clip460)\" d=\"M262.649 395.716 L253.057 410.706 L262.649 410.706 L262.649 395.716 M261.652 392.406 L266.429 392.406 L266.429 410.706 L270.435 410.706 L270.435 413.866 L266.429 413.866 L266.429 420.486 L262.649 420.486 L262.649 413.866 L249.973 413.866 L249.973 410.198 L261.652 392.406 Z\" fill=\"#000000\" fill-rule=\"evenodd\" fill-opacity=\"1\" /><path clip-path=\"url(#clip460)\" d=\"M56.6171 107.421 L72.9365 107.421 L72.9365 111.356 L50.9921 111.356 L50.9921 107.421 Q53.6541 104.666 58.2375 100.037 Q62.8439 95.3841 64.0245 94.0415 Q66.2698 91.5184 67.1494 89.7823 Q68.0522 88.023 68.0522 86.3332 Q68.0522 83.5786 66.1078 81.8425 Q64.1865 80.1064 61.0847 80.1064 Q58.8856 80.1064 56.4319 80.8703 Q54.0014 81.6342 51.2236 83.1851 L51.2236 78.4629 Q54.0477 77.3286 56.5014 76.7499 Q58.955 76.1712 60.9921 76.1712 Q66.3624 76.1712 69.5568 78.8564 Q72.7513 81.5416 72.7513 86.0323 Q72.7513 88.1619 71.9411 90.0832 Q71.1541 91.9813 69.0476 94.5739 Q68.4689 95.2452 65.367 98.4628 Q62.2652 101.657 56.6171 107.421 Z\" fill=\"#000000\" fill-rule=\"evenodd\" fill-opacity=\"1\" /><path clip-path=\"url(#clip460)\" d=\"M82.7512 105.477 L87.6354 105.477 L87.6354 111.356 L82.7512 111.356 L82.7512 105.477 Z\" fill=\"#000000\" fill-rule=\"evenodd\" fill-opacity=\"1\" /><path clip-path=\"url(#clip460)\" d=\"M107.821 79.8749 Q104.209 79.8749 102.381 83.4397 Q100.575 86.9814 100.575 94.111 Q100.575 101.217 102.381 104.782 Q104.209 108.324 107.821 108.324 Q111.455 108.324 113.26 104.782 Q115.089 101.217 115.089 94.111 Q115.089 86.9814 113.26 83.4397 Q111.455 79.8749 107.821 79.8749 M107.821 76.1712 Q113.631 76.1712 116.686 80.7777 Q119.765 85.361 119.765 94.111 Q119.765 102.838 116.686 107.444 Q113.631 112.028 107.821 112.028 Q102.01 112.028 98.9317 107.444 Q95.8761 102.838 95.8761 94.111 Q95.8761 85.361 98.9317 80.7777 Q102.01 76.1712 107.821 76.1712 Z\" fill=\"#000000\" fill-rule=\"evenodd\" fill-opacity=\"1\" /><path clip-path=\"url(#clip460)\" d=\"M137.982 79.8749 Q134.371 79.8749 132.543 83.4397 Q130.737 86.9814 130.737 94.111 Q130.737 101.217 132.543 104.782 Q134.371 108.324 137.982 108.324 Q141.617 108.324 143.422 104.782 Q145.251 101.217 145.251 94.111 Q145.251 86.9814 143.422 83.4397 Q141.617 79.8749 137.982 79.8749 M137.982 76.1712 Q143.793 76.1712 146.848 80.7777 Q149.927 85.361 149.927 94.111 Q149.927 102.838 146.848 107.444 Q143.793 112.028 137.982 112.028 Q132.172 112.028 129.094 107.444 Q126.038 102.838 126.038 94.111 Q126.038 85.361 129.094 80.7777 Q132.172 76.1712 137.982 76.1712 Z\" fill=\"#000000\" fill-rule=\"evenodd\" fill-opacity=\"1\" /><path clip-path=\"url(#clip460)\" d=\"M186.315 85.8934 L175.737 96.5184 L186.315 107.097 L183.561 109.898 L172.936 99.273 L162.311 109.898 L159.58 107.097 L170.135 96.5184 L159.58 85.8934 L162.311 83.0925 L172.936 93.7174 L183.561 83.0925 L186.315 85.8934 Z\" fill=\"#000000\" fill-rule=\"evenodd\" fill-opacity=\"1\" /><path clip-path=\"url(#clip460)\" d=\"M198.677 107.421 L206.315 107.421 L206.315 81.0555 L198.005 82.7221 L198.005 78.4629 L206.269 76.7962 L210.945 76.7962 L210.945 107.421 L218.584 107.421 L218.584 111.356 L198.677 111.356 L198.677 107.421 Z\" fill=\"#000000\" fill-rule=\"evenodd\" fill-opacity=\"1\" /><path clip-path=\"url(#clip460)\" d=\"M238.028 79.8749 Q234.417 79.8749 232.588 83.4397 Q230.783 86.9814 230.783 94.111 Q230.783 101.217 232.588 104.782 Q234.417 108.324 238.028 108.324 Q241.662 108.324 243.468 104.782 Q245.297 101.217 245.297 94.111 Q245.297 86.9814 243.468 83.4397 Q241.662 79.8749 238.028 79.8749 M238.028 76.1712 Q243.838 76.1712 246.894 80.7777 Q249.973 85.361 249.973 94.111 Q249.973 102.838 246.894 107.444 Q243.838 112.028 238.028 112.028 Q232.218 112.028 229.139 107.444 Q226.084 102.838 226.084 94.111 Q226.084 85.361 229.139 80.7777 Q232.218 76.1712 238.028 76.1712 Z\" fill=\"#000000\" fill-rule=\"evenodd\" fill-opacity=\"1\" /><path clip-path=\"url(#clip460)\" d=\"M262.649 59.176 L253.057 74.1658 L262.649 74.1658 L262.649 59.176 M261.652 55.8658 L266.429 55.8658 L266.429 74.1658 L270.435 74.1658 L270.435 77.3255 L266.429 77.3255 L266.429 83.9458 L262.649 83.9458 L262.649 77.3255 L249.973 77.3255 L249.973 73.658 L261.652 55.8658 Z\" fill=\"#000000\" fill-rule=\"evenodd\" fill-opacity=\"1\" /><polyline clip-path=\"url(#clip462)\" style=\"stroke:#009af9; stroke-linecap:round; stroke-linejoin:round; stroke-width:4; stroke-opacity:1; fill:none\" points=\"364.35,1433.75 367.492,1433.77 370.634,1433.78 373.777,1433.78 376.919,1433.78 384.182,1433.74 391.445,1433.57 398.709,1432.93 405.972,1430.79 409.604,1428.46 413.236,1424.64 416.867,1418.56 420.499,1409.23 422.315,1402.97 424.131,1395.43 425.947,1386.4 427.762,1375.7 429.578,1363.13 431.394,1348.49 433.21,1331.58 435.026,1312.25 436.842,1290.31 438.658,1265.66 440.473,1238.19 442.289,1207.85 444.105,1174.63 445.921,1138.59 447.737,1099.83 449.553,1058.51 451.369,1014.85 453.184,969.118 455,921.642 456.816,872.788 460.448,772.584 464.079,671.963 465.895,622.599 467.711,574.427 469.527,527.832 471.343,483.159 473.159,440.706 474.975,400.718 476.79,363.382 478.606,328.831 480.422,297.137 482.238,268.321 484.054,242.351 485.87,219.153 487.686,198.613 489.501,180.587 491.317,164.906 493.133,151.385 495.316,137.716 497.498,126.542 499.681,117.523 501.863,110.336 504.046,104.681 506.228,100.288 508.411,96.9185 510.593,94.3673 514.958,91.0519 519.323,89.2876 523.688,88.3952 528.053,87.9663 545.513,87.6365 562.973,87.6287 592.498,87.6286 622.022,87.6286 686.166,87.6286 745.3,87.6286 808.699,87.6286 882.152,87.6286 947.429,87.6286 1004.67,87.6286 1067.08,87.6286 1129.86,87.6286 1199.27,87.6286 1265.31,87.6286 1333.98,87.6286 1391.79,87.6286 1462.36,87.6286 1527.01,87.6286 1586.72,87.6286 1647.2,87.6286 1714.99,87.6286 1776.41,87.6286 1846.74,87.6286 1911.86,87.6286 1976.05,87.6286 2038.38,87.6286 2102.28,87.6286 2172.28,87.6286 2273.98,87.6286 2294.84,87.6286 \"/>\n",
       "<path clip-path=\"url(#clip460)\" d=\"M2027.48 1426.6 L2284.55 1426.6 L2284.55 1322.92 L2027.48 1322.92  Z\" fill=\"#ffffff\" fill-rule=\"evenodd\" fill-opacity=\"1\"/>\n",
       "<polyline clip-path=\"url(#clip460)\" style=\"stroke:#000000; stroke-linecap:round; stroke-linejoin:round; stroke-width:4; stroke-opacity:1; fill:none\" points=\"2027.48,1426.6 2284.55,1426.6 2284.55,1322.92 2027.48,1322.92 2027.48,1426.6 \"/>\n",
       "<polyline clip-path=\"url(#clip460)\" style=\"stroke:#009af9; stroke-linecap:round; stroke-linejoin:round; stroke-width:4; stroke-opacity:1; fill:none\" points=\"2050.22,1374.76 2186.64,1374.76 \"/>\n",
       "<path clip-path=\"url(#clip460)\" d=\"M2223.22 1394.45 Q2221.42 1399.08 2219.7 1400.49 Q2217.99 1401.9 2215.12 1401.9 L2211.72 1401.9 L2211.72 1398.34 L2214.22 1398.34 Q2215.98 1398.34 2216.95 1397.5 Q2217.92 1396.67 2219.1 1393.57 L2219.86 1391.62 L2209.38 1366.11 L2213.89 1366.11 L2221.99 1386.39 L2230.1 1366.11 L2234.61 1366.11 L2223.22 1394.45 Z\" fill=\"#000000\" fill-rule=\"evenodd\" fill-opacity=\"1\" /><path clip-path=\"url(#clip460)\" d=\"M2241.9 1388.11 L2249.54 1388.11 L2249.54 1361.74 L2241.23 1363.41 L2241.23 1359.15 L2249.49 1357.48 L2254.17 1357.48 L2254.17 1388.11 L2261.81 1388.11 L2261.81 1392.04 L2241.9 1392.04 L2241.9 1388.11 Z\" fill=\"#000000\" fill-rule=\"evenodd\" fill-opacity=\"1\" /></svg>\n"
      ]
     },
     "execution_count": 9,
     "metadata": {},
     "output_type": "execute_result"
    }
   ],
   "source": [
    "hS_pf = uMax/100\n",
    "F_ϕ(x) = (phiMin - phiMaxApp) * interval(x,-4*hS_pf+uMin,uTran2_EP)\n",
    "wₕ(x,x₁) = (1/(sqrt(2*pi)*hS_pf))*exp(-(x-x₁)^2/(2*hS_pf^2))\n",
    "smoothϕ = SymPy.integrate(F_ϕ(x₁)*wₕ(x,x₁),(x₁,-4*hS_pf,uMax)) +  phiMaxApp\n",
    "plot(smoothϕ,0,uMax)"
   ]
  },
  {
   "cell_type": "code",
   "execution_count": 10,
   "id": "89edaa77",
   "metadata": {},
   "outputs": [
    {
     "data": {
      "image/svg+xml": [
       "<?xml version=\"1.0\" encoding=\"utf-8\"?>\n",
       "<svg xmlns=\"http://www.w3.org/2000/svg\" xmlns:xlink=\"http://www.w3.org/1999/xlink\" width=\"600\" height=\"400\" viewBox=\"0 0 2400 1600\">\n",
       "<defs>\n",
       "  <clipPath id=\"clip500\">\n",
       "    <rect x=\"0\" y=\"0\" width=\"2400\" height=\"1600\"/>\n",
       "  </clipPath>\n",
       "</defs>\n",
       "<path clip-path=\"url(#clip500)\" d=\"M0 1600 L2400 1600 L2400 0 L0 0  Z\" fill=\"#ffffff\" fill-rule=\"evenodd\" fill-opacity=\"1\"/>\n",
       "<defs>\n",
       "  <clipPath id=\"clip501\">\n",
       "    <rect x=\"480\" y=\"0\" width=\"1681\" height=\"1600\"/>\n",
       "  </clipPath>\n",
       "</defs>\n",
       "<path clip-path=\"url(#clip500)\" d=\"M170.719 1474.16 L2352.76 1474.16 L2352.76 47.2441 L170.719 47.2441  Z\" fill=\"#ffffff\" fill-rule=\"evenodd\" fill-opacity=\"1\"/>\n",
       "<defs>\n",
       "  <clipPath id=\"clip502\">\n",
       "    <rect x=\"170\" y=\"47\" width=\"2183\" height=\"1428\"/>\n",
       "  </clipPath>\n",
       "</defs>\n",
       "<polyline clip-path=\"url(#clip502)\" style=\"stroke:#000000; stroke-linecap:round; stroke-linejoin:round; stroke-width:2; stroke-opacity:0.1; fill:none\" points=\"232.474,1474.16 232.474,47.2441 \"/>\n",
       "<polyline clip-path=\"url(#clip502)\" style=\"stroke:#000000; stroke-linecap:round; stroke-linejoin:round; stroke-width:2; stroke-opacity:0.1; fill:none\" points=\"804.287,1474.16 804.287,47.2441 \"/>\n",
       "<polyline clip-path=\"url(#clip502)\" style=\"stroke:#000000; stroke-linecap:round; stroke-linejoin:round; stroke-width:2; stroke-opacity:0.1; fill:none\" points=\"1376.1,1474.16 1376.1,47.2441 \"/>\n",
       "<polyline clip-path=\"url(#clip502)\" style=\"stroke:#000000; stroke-linecap:round; stroke-linejoin:round; stroke-width:2; stroke-opacity:0.1; fill:none\" points=\"1947.91,1474.16 1947.91,47.2441 \"/>\n",
       "<polyline clip-path=\"url(#clip500)\" style=\"stroke:#000000; stroke-linecap:round; stroke-linejoin:round; stroke-width:4; stroke-opacity:1; fill:none\" points=\"170.719,1474.16 2352.76,1474.16 \"/>\n",
       "<polyline clip-path=\"url(#clip500)\" style=\"stroke:#000000; stroke-linecap:round; stroke-linejoin:round; stroke-width:4; stroke-opacity:1; fill:none\" points=\"232.474,1474.16 232.474,1455.27 \"/>\n",
       "<polyline clip-path=\"url(#clip500)\" style=\"stroke:#000000; stroke-linecap:round; stroke-linejoin:round; stroke-width:4; stroke-opacity:1; fill:none\" points=\"804.287,1474.16 804.287,1455.27 \"/>\n",
       "<polyline clip-path=\"url(#clip500)\" style=\"stroke:#000000; stroke-linecap:round; stroke-linejoin:round; stroke-width:4; stroke-opacity:1; fill:none\" points=\"1376.1,1474.16 1376.1,1455.27 \"/>\n",
       "<polyline clip-path=\"url(#clip500)\" style=\"stroke:#000000; stroke-linecap:round; stroke-linejoin:round; stroke-width:4; stroke-opacity:1; fill:none\" points=\"1947.91,1474.16 1947.91,1455.27 \"/>\n",
       "<path clip-path=\"url(#clip500)\" d=\"M232.474 1505.08 Q228.863 1505.08 227.035 1508.65 Q225.229 1512.19 225.229 1519.32 Q225.229 1526.43 227.035 1529.99 Q228.863 1533.53 232.474 1533.53 Q236.109 1533.53 237.914 1529.99 Q239.743 1526.43 239.743 1519.32 Q239.743 1512.19 237.914 1508.65 Q236.109 1505.08 232.474 1505.08 M232.474 1501.38 Q238.284 1501.38 241.34 1505.99 Q244.419 1510.57 244.419 1519.32 Q244.419 1528.05 241.34 1532.65 Q238.284 1537.24 232.474 1537.24 Q226.664 1537.24 223.585 1532.65 Q220.53 1528.05 220.53 1519.32 Q220.53 1510.57 223.585 1505.99 Q226.664 1501.38 232.474 1501.38 Z\" fill=\"#000000\" fill-rule=\"evenodd\" fill-opacity=\"1\" /><path clip-path=\"url(#clip500)\" d=\"M681.211 1517.66 L699.568 1517.66 L699.568 1521.6 L685.494 1521.6 L685.494 1530.07 Q686.512 1529.72 687.531 1529.56 Q688.549 1529.38 689.568 1529.38 Q695.355 1529.38 698.734 1532.55 Q702.114 1535.72 702.114 1541.14 Q702.114 1546.72 698.642 1549.82 Q695.169 1552.9 688.85 1552.9 Q686.674 1552.9 684.406 1552.53 Q682.16 1552.16 679.753 1551.41 L679.753 1546.72 Q681.836 1547.85 684.058 1548.41 Q686.281 1548.96 688.757 1548.96 Q692.762 1548.96 695.1 1546.85 Q697.438 1544.75 697.438 1541.14 Q697.438 1537.53 695.1 1535.42 Q692.762 1533.31 688.757 1533.31 Q686.882 1533.31 685.007 1533.73 Q683.156 1534.15 681.211 1535.03 L681.211 1517.66 Z\" fill=\"#000000\" fill-rule=\"evenodd\" fill-opacity=\"1\" /><path clip-path=\"url(#clip500)\" d=\"M711.327 1546.35 L716.211 1546.35 L716.211 1552.22 L711.327 1552.22 L711.327 1546.35 Z\" fill=\"#000000\" fill-rule=\"evenodd\" fill-opacity=\"1\" /><path clip-path=\"url(#clip500)\" d=\"M736.396 1520.74 Q732.785 1520.74 730.956 1524.31 Q729.151 1527.85 729.151 1534.98 Q729.151 1542.09 730.956 1545.65 Q732.785 1549.19 736.396 1549.19 Q740.03 1549.19 741.836 1545.65 Q743.665 1542.09 743.665 1534.98 Q743.665 1527.85 741.836 1524.31 Q740.03 1520.74 736.396 1520.74 M736.396 1517.04 Q742.206 1517.04 745.262 1521.65 Q748.34 1526.23 748.34 1534.98 Q748.34 1543.71 745.262 1548.31 Q742.206 1552.9 736.396 1552.9 Q730.586 1552.9 727.507 1548.31 Q724.452 1543.71 724.452 1534.98 Q724.452 1526.23 727.507 1521.65 Q730.586 1517.04 736.396 1517.04 Z\" fill=\"#000000\" fill-rule=\"evenodd\" fill-opacity=\"1\" /><path clip-path=\"url(#clip500)\" d=\"M766.558 1520.74 Q762.947 1520.74 761.118 1524.31 Q759.313 1527.85 759.313 1534.98 Q759.313 1542.09 761.118 1545.65 Q762.947 1549.19 766.558 1549.19 Q770.192 1549.19 771.998 1545.65 Q773.826 1542.09 773.826 1534.98 Q773.826 1527.85 771.998 1524.31 Q770.192 1520.74 766.558 1520.74 M766.558 1517.04 Q772.368 1517.04 775.424 1521.65 Q778.502 1526.23 778.502 1534.98 Q778.502 1543.71 775.424 1548.31 Q772.368 1552.9 766.558 1552.9 Q760.748 1552.9 757.669 1548.31 Q754.614 1543.71 754.614 1534.98 Q754.614 1526.23 757.669 1521.65 Q760.748 1517.04 766.558 1517.04 Z\" fill=\"#000000\" fill-rule=\"evenodd\" fill-opacity=\"1\" /><path clip-path=\"url(#clip500)\" d=\"M814.891 1526.76 L804.312 1537.39 L814.891 1547.97 L812.136 1550.77 L801.511 1540.14 L790.886 1550.77 L788.155 1547.97 L798.711 1537.39 L788.155 1526.76 L790.886 1523.96 L801.511 1534.59 L812.136 1523.96 L814.891 1526.76 Z\" fill=\"#000000\" fill-rule=\"evenodd\" fill-opacity=\"1\" /><path clip-path=\"url(#clip500)\" d=\"M827.252 1548.29 L834.891 1548.29 L834.891 1521.92 L826.581 1523.59 L826.581 1519.33 L834.845 1517.66 L839.52 1517.66 L839.52 1548.29 L847.159 1548.29 L847.159 1552.22 L827.252 1552.22 L827.252 1548.29 Z\" fill=\"#000000\" fill-rule=\"evenodd\" fill-opacity=\"1\" /><path clip-path=\"url(#clip500)\" d=\"M866.604 1520.74 Q862.993 1520.74 861.164 1524.31 Q859.358 1527.85 859.358 1534.98 Q859.358 1542.09 861.164 1545.65 Q862.993 1549.19 866.604 1549.19 Q870.238 1549.19 872.043 1545.65 Q873.872 1542.09 873.872 1534.98 Q873.872 1527.85 872.043 1524.31 Q870.238 1520.74 866.604 1520.74 M866.604 1517.04 Q872.414 1517.04 875.469 1521.65 Q878.548 1526.23 878.548 1534.98 Q878.548 1543.71 875.469 1548.31 Q872.414 1552.9 866.604 1552.9 Q860.794 1552.9 857.715 1548.31 Q854.659 1543.71 854.659 1534.98 Q854.659 1526.23 857.715 1521.65 Q860.794 1517.04 866.604 1517.04 Z\" fill=\"#000000\" fill-rule=\"evenodd\" fill-opacity=\"1\" /><path clip-path=\"url(#clip500)\" d=\"M878.548 1511.14 L902.66 1511.14 L902.66 1514.34 L878.548 1514.34 L878.548 1511.14 Z\" fill=\"#000000\" fill-rule=\"evenodd\" fill-opacity=\"1\" /><path clip-path=\"url(#clip500)\" d=\"M919.455 1509.26 Q916.897 1509.26 915.392 1511.01 Q913.907 1512.76 913.907 1515.81 Q913.907 1518.83 915.392 1520.6 Q916.897 1522.35 919.455 1522.35 Q922.013 1522.35 923.499 1520.6 Q925.003 1518.83 925.003 1515.81 Q925.003 1512.76 923.499 1511.01 Q922.013 1509.26 919.455 1509.26 M926.997 1497.35 L926.997 1500.82 Q925.567 1500.14 924.1 1499.78 Q922.652 1499.42 921.223 1499.42 Q917.461 1499.42 915.468 1501.96 Q913.493 1504.5 913.211 1509.64 Q914.32 1508 915.994 1507.13 Q917.668 1506.25 919.681 1506.25 Q923.912 1506.25 926.357 1508.83 Q928.821 1511.39 928.821 1515.81 Q928.821 1520.13 926.263 1522.75 Q923.706 1525.36 919.455 1525.36 Q914.584 1525.36 912.007 1521.64 Q909.43 1517.89 909.43 1510.8 Q909.43 1504.14 912.59 1500.19 Q915.75 1496.23 921.072 1496.23 Q922.502 1496.23 923.95 1496.51 Q925.417 1496.79 926.997 1497.35 Z\" fill=\"#000000\" fill-rule=\"evenodd\" fill-opacity=\"1\" /><path clip-path=\"url(#clip500)\" d=\"M1253.48 1548.29 L1261.12 1548.29 L1261.12 1521.92 L1252.81 1523.59 L1252.81 1519.33 L1261.08 1517.66 L1265.75 1517.66 L1265.75 1548.29 L1273.39 1548.29 L1273.39 1552.22 L1253.48 1552.22 L1253.48 1548.29 Z\" fill=\"#000000\" fill-rule=\"evenodd\" fill-opacity=\"1\" /><path clip-path=\"url(#clip500)\" d=\"M1282.83 1546.35 L1287.72 1546.35 L1287.72 1552.22 L1282.83 1552.22 L1282.83 1546.35 Z\" fill=\"#000000\" fill-rule=\"evenodd\" fill-opacity=\"1\" /><path clip-path=\"url(#clip500)\" d=\"M1307.9 1520.74 Q1304.29 1520.74 1302.46 1524.31 Q1300.66 1527.85 1300.66 1534.98 Q1300.66 1542.09 1302.46 1545.65 Q1304.29 1549.19 1307.9 1549.19 Q1311.54 1549.19 1313.34 1545.65 Q1315.17 1542.09 1315.17 1534.98 Q1315.17 1527.85 1313.34 1524.31 Q1311.54 1520.74 1307.9 1520.74 M1307.9 1517.04 Q1313.71 1517.04 1316.77 1521.65 Q1319.85 1526.23 1319.85 1534.98 Q1319.85 1543.71 1316.77 1548.31 Q1313.71 1552.9 1307.9 1552.9 Q1302.09 1552.9 1299.01 1548.31 Q1295.96 1543.71 1295.96 1534.98 Q1295.96 1526.23 1299.01 1521.65 Q1302.09 1517.04 1307.9 1517.04 Z\" fill=\"#000000\" fill-rule=\"evenodd\" fill-opacity=\"1\" /><path clip-path=\"url(#clip500)\" d=\"M1338.07 1520.74 Q1334.45 1520.74 1332.63 1524.31 Q1330.82 1527.85 1330.82 1534.98 Q1330.82 1542.09 1332.63 1545.65 Q1334.45 1549.19 1338.07 1549.19 Q1341.7 1549.19 1343.51 1545.65 Q1345.33 1542.09 1345.33 1534.98 Q1345.33 1527.85 1343.51 1524.31 Q1341.7 1520.74 1338.07 1520.74 M1338.07 1517.04 Q1343.88 1517.04 1346.93 1521.65 Q1350.01 1526.23 1350.01 1534.98 Q1350.01 1543.71 1346.93 1548.31 Q1343.88 1552.9 1338.07 1552.9 Q1332.26 1552.9 1329.18 1548.31 Q1326.12 1543.71 1326.12 1534.98 Q1326.12 1526.23 1329.18 1521.65 Q1332.26 1517.04 1338.07 1517.04 Z\" fill=\"#000000\" fill-rule=\"evenodd\" fill-opacity=\"1\" /><path clip-path=\"url(#clip500)\" d=\"M1386.4 1526.76 L1375.82 1537.39 L1386.4 1547.97 L1383.64 1550.77 L1373.02 1540.14 L1362.39 1550.77 L1359.66 1547.97 L1370.22 1537.39 L1359.66 1526.76 L1362.39 1523.96 L1373.02 1534.59 L1383.64 1523.96 L1386.4 1526.76 Z\" fill=\"#000000\" fill-rule=\"evenodd\" fill-opacity=\"1\" /><path clip-path=\"url(#clip500)\" d=\"M1398.76 1548.29 L1406.4 1548.29 L1406.4 1521.92 L1398.09 1523.59 L1398.09 1519.33 L1406.35 1517.66 L1411.03 1517.66 L1411.03 1548.29 L1418.67 1548.29 L1418.67 1552.22 L1398.76 1552.22 L1398.76 1548.29 Z\" fill=\"#000000\" fill-rule=\"evenodd\" fill-opacity=\"1\" /><path clip-path=\"url(#clip500)\" d=\"M1438.11 1520.74 Q1434.5 1520.74 1432.67 1524.31 Q1430.87 1527.85 1430.87 1534.98 Q1430.87 1542.09 1432.67 1545.65 Q1434.5 1549.19 1438.11 1549.19 Q1441.75 1549.19 1443.55 1545.65 Q1445.38 1542.09 1445.38 1534.98 Q1445.38 1527.85 1443.55 1524.31 Q1441.75 1520.74 1438.11 1520.74 M1438.11 1517.04 Q1443.92 1517.04 1446.98 1521.65 Q1450.06 1526.23 1450.06 1534.98 Q1450.06 1543.71 1446.98 1548.31 Q1443.92 1552.9 1438.11 1552.9 Q1432.3 1552.9 1429.22 1548.31 Q1426.17 1543.71 1426.17 1534.98 Q1426.17 1526.23 1429.22 1521.65 Q1432.3 1517.04 1438.11 1517.04 Z\" fill=\"#000000\" fill-rule=\"evenodd\" fill-opacity=\"1\" /><path clip-path=\"url(#clip500)\" d=\"M1450.06 1511.14 L1474.17 1511.14 L1474.17 1514.34 L1450.06 1514.34 L1450.06 1511.14 Z\" fill=\"#000000\" fill-rule=\"evenodd\" fill-opacity=\"1\" /><path clip-path=\"url(#clip500)\" d=\"M1482.4 1496.73 L1497.32 1496.73 L1497.32 1499.93 L1485.88 1499.93 L1485.88 1506.82 Q1486.71 1506.53 1487.54 1506.4 Q1488.37 1506.25 1489.19 1506.25 Q1493.9 1506.25 1496.64 1508.83 Q1499.39 1511.4 1499.39 1515.81 Q1499.39 1520.34 1496.57 1522.86 Q1493.75 1525.36 1488.61 1525.36 Q1486.84 1525.36 1485 1525.06 Q1483.18 1524.76 1481.22 1524.16 L1481.22 1520.34 Q1482.91 1521.26 1484.72 1521.71 Q1486.52 1522.16 1488.54 1522.16 Q1491.79 1522.16 1493.69 1520.45 Q1495.59 1518.74 1495.59 1515.81 Q1495.59 1512.87 1493.69 1511.16 Q1491.79 1509.45 1488.54 1509.45 Q1487.01 1509.45 1485.49 1509.79 Q1483.98 1510.13 1482.4 1510.84 L1482.4 1496.73 Z\" fill=\"#000000\" fill-rule=\"evenodd\" fill-opacity=\"1\" /><path clip-path=\"url(#clip500)\" d=\"M1825.3 1548.29 L1832.93 1548.29 L1832.93 1521.92 L1824.62 1523.59 L1824.62 1519.33 L1832.89 1517.66 L1837.56 1517.66 L1837.56 1548.29 L1845.2 1548.29 L1845.2 1552.22 L1825.3 1552.22 L1825.3 1548.29 Z\" fill=\"#000000\" fill-rule=\"evenodd\" fill-opacity=\"1\" /><path clip-path=\"url(#clip500)\" d=\"M1854.65 1546.35 L1859.53 1546.35 L1859.53 1552.22 L1854.65 1552.22 L1854.65 1546.35 Z\" fill=\"#000000\" fill-rule=\"evenodd\" fill-opacity=\"1\" /><path clip-path=\"url(#clip500)\" d=\"M1869.76 1517.66 L1888.12 1517.66 L1888.12 1521.6 L1874.04 1521.6 L1874.04 1530.07 Q1875.06 1529.72 1876.08 1529.56 Q1877.1 1529.38 1878.12 1529.38 Q1883.91 1529.38 1887.29 1532.55 Q1890.67 1535.72 1890.67 1541.14 Q1890.67 1546.72 1887.19 1549.82 Q1883.72 1552.9 1877.4 1552.9 Q1875.23 1552.9 1872.96 1552.53 Q1870.71 1552.16 1868.3 1551.41 L1868.3 1546.72 Q1870.39 1547.85 1872.61 1548.41 Q1874.83 1548.96 1877.31 1548.96 Q1881.31 1548.96 1883.65 1546.85 Q1885.99 1544.75 1885.99 1541.14 Q1885.99 1537.53 1883.65 1535.42 Q1881.31 1533.31 1877.31 1533.31 Q1875.43 1533.31 1873.56 1533.73 Q1871.71 1534.15 1869.76 1535.03 L1869.76 1517.66 Z\" fill=\"#000000\" fill-rule=\"evenodd\" fill-opacity=\"1\" /><path clip-path=\"url(#clip500)\" d=\"M1909.88 1520.74 Q1906.27 1520.74 1904.44 1524.31 Q1902.63 1527.85 1902.63 1534.98 Q1902.63 1542.09 1904.44 1545.65 Q1906.27 1549.19 1909.88 1549.19 Q1913.51 1549.19 1915.32 1545.65 Q1917.15 1542.09 1917.15 1534.98 Q1917.15 1527.85 1915.32 1524.31 Q1913.51 1520.74 1909.88 1520.74 M1909.88 1517.04 Q1915.69 1517.04 1918.74 1521.65 Q1921.82 1526.23 1921.82 1534.98 Q1921.82 1543.71 1918.74 1548.31 Q1915.69 1552.9 1909.88 1552.9 Q1904.07 1552.9 1900.99 1548.31 Q1897.93 1543.71 1897.93 1534.98 Q1897.93 1526.23 1900.99 1521.65 Q1904.07 1517.04 1909.88 1517.04 Z\" fill=\"#000000\" fill-rule=\"evenodd\" fill-opacity=\"1\" /><path clip-path=\"url(#clip500)\" d=\"M1958.21 1526.76 L1947.63 1537.39 L1958.21 1547.97 L1955.46 1550.77 L1944.83 1540.14 L1934.21 1550.77 L1931.48 1547.97 L1942.03 1537.39 L1931.48 1526.76 L1934.21 1523.96 L1944.83 1534.59 L1955.46 1523.96 L1958.21 1526.76 Z\" fill=\"#000000\" fill-rule=\"evenodd\" fill-opacity=\"1\" /><path clip-path=\"url(#clip500)\" d=\"M1970.57 1548.29 L1978.21 1548.29 L1978.21 1521.92 L1969.9 1523.59 L1969.9 1519.33 L1978.16 1517.66 L1982.84 1517.66 L1982.84 1548.29 L1990.48 1548.29 L1990.48 1552.22 L1970.57 1552.22 L1970.57 1548.29 Z\" fill=\"#000000\" fill-rule=\"evenodd\" fill-opacity=\"1\" /><path clip-path=\"url(#clip500)\" d=\"M2009.92 1520.74 Q2006.31 1520.74 2004.48 1524.31 Q2002.68 1527.85 2002.68 1534.98 Q2002.68 1542.09 2004.48 1545.65 Q2006.31 1549.19 2009.92 1549.19 Q2013.56 1549.19 2015.36 1545.65 Q2017.19 1542.09 2017.19 1534.98 Q2017.19 1527.85 2015.36 1524.31 Q2013.56 1520.74 2009.92 1520.74 M2009.92 1517.04 Q2015.73 1517.04 2018.79 1521.65 Q2021.87 1526.23 2021.87 1534.98 Q2021.87 1543.71 2018.79 1548.31 Q2015.73 1552.9 2009.92 1552.9 Q2004.11 1552.9 2001.04 1548.31 Q1997.98 1543.71 1997.98 1534.98 Q1997.98 1526.23 2001.04 1521.65 Q2004.11 1517.04 2009.92 1517.04 Z\" fill=\"#000000\" fill-rule=\"evenodd\" fill-opacity=\"1\" /><path clip-path=\"url(#clip500)\" d=\"M2021.87 1511.14 L2045.98 1511.14 L2045.98 1514.34 L2021.87 1514.34 L2021.87 1511.14 Z\" fill=\"#000000\" fill-rule=\"evenodd\" fill-opacity=\"1\" /><path clip-path=\"url(#clip500)\" d=\"M2054.22 1496.73 L2069.13 1496.73 L2069.13 1499.93 L2057.7 1499.93 L2057.7 1506.82 Q2058.52 1506.53 2059.35 1506.4 Q2060.18 1506.25 2061.01 1506.25 Q2065.71 1506.25 2068.46 1508.83 Q2071.2 1511.4 2071.2 1515.81 Q2071.2 1520.34 2068.38 1522.86 Q2065.56 1525.36 2060.42 1525.36 Q2058.66 1525.36 2056.81 1525.06 Q2054.99 1524.76 2053.03 1524.16 L2053.03 1520.34 Q2054.73 1521.26 2056.53 1521.71 Q2058.34 1522.16 2060.35 1522.16 Q2063.6 1522.16 2065.5 1520.45 Q2067.4 1518.74 2067.4 1515.81 Q2067.4 1512.87 2065.5 1511.16 Q2063.6 1509.45 2060.35 1509.45 Q2058.83 1509.45 2057.3 1509.79 Q2055.8 1510.13 2054.22 1510.84 L2054.22 1496.73 Z\" fill=\"#000000\" fill-rule=\"evenodd\" fill-opacity=\"1\" /><polyline clip-path=\"url(#clip502)\" style=\"stroke:#000000; stroke-linecap:round; stroke-linejoin:round; stroke-width:2; stroke-opacity:0.1; fill:none\" points=\"170.719,1433.78 2352.76,1433.78 \"/>\n",
       "<polyline clip-path=\"url(#clip502)\" style=\"stroke:#000000; stroke-linecap:round; stroke-linejoin:round; stroke-width:2; stroke-opacity:0.1; fill:none\" points=\"170.719,1164.55 2352.76,1164.55 \"/>\n",
       "<polyline clip-path=\"url(#clip502)\" style=\"stroke:#000000; stroke-linecap:round; stroke-linejoin:round; stroke-width:2; stroke-opacity:0.1; fill:none\" points=\"170.719,895.32 2352.76,895.32 \"/>\n",
       "<polyline clip-path=\"url(#clip502)\" style=\"stroke:#000000; stroke-linecap:round; stroke-linejoin:round; stroke-width:2; stroke-opacity:0.1; fill:none\" points=\"170.719,626.089 2352.76,626.089 \"/>\n",
       "<polyline clip-path=\"url(#clip502)\" style=\"stroke:#000000; stroke-linecap:round; stroke-linejoin:round; stroke-width:2; stroke-opacity:0.1; fill:none\" points=\"170.719,356.859 2352.76,356.859 \"/>\n",
       "<polyline clip-path=\"url(#clip502)\" style=\"stroke:#000000; stroke-linecap:round; stroke-linejoin:round; stroke-width:2; stroke-opacity:0.1; fill:none\" points=\"170.719,87.6286 2352.76,87.6286 \"/>\n",
       "<polyline clip-path=\"url(#clip500)\" style=\"stroke:#000000; stroke-linecap:round; stroke-linejoin:round; stroke-width:4; stroke-opacity:1; fill:none\" points=\"170.719,1474.16 170.719,47.2441 \"/>\n",
       "<polyline clip-path=\"url(#clip500)\" style=\"stroke:#000000; stroke-linecap:round; stroke-linejoin:round; stroke-width:4; stroke-opacity:1; fill:none\" points=\"170.719,1433.78 189.616,1433.78 \"/>\n",
       "<polyline clip-path=\"url(#clip500)\" style=\"stroke:#000000; stroke-linecap:round; stroke-linejoin:round; stroke-width:4; stroke-opacity:1; fill:none\" points=\"170.719,1164.55 189.616,1164.55 \"/>\n",
       "<polyline clip-path=\"url(#clip500)\" style=\"stroke:#000000; stroke-linecap:round; stroke-linejoin:round; stroke-width:4; stroke-opacity:1; fill:none\" points=\"170.719,895.32 189.616,895.32 \"/>\n",
       "<polyline clip-path=\"url(#clip500)\" style=\"stroke:#000000; stroke-linecap:round; stroke-linejoin:round; stroke-width:4; stroke-opacity:1; fill:none\" points=\"170.719,626.089 189.616,626.089 \"/>\n",
       "<polyline clip-path=\"url(#clip500)\" style=\"stroke:#000000; stroke-linecap:round; stroke-linejoin:round; stroke-width:4; stroke-opacity:1; fill:none\" points=\"170.719,356.859 189.616,356.859 \"/>\n",
       "<polyline clip-path=\"url(#clip500)\" style=\"stroke:#000000; stroke-linecap:round; stroke-linejoin:round; stroke-width:4; stroke-opacity:1; fill:none\" points=\"170.719,87.6286 189.616,87.6286 \"/>\n",
       "<path clip-path=\"url(#clip500)\" d=\"M66.617 1432.43 Q69.9735 1433.14 71.8485 1435.41 Q73.7466 1437.68 73.7466 1441.01 Q73.7466 1446.13 70.2281 1448.93 Q66.7096 1451.73 60.2282 1451.73 Q58.0523 1451.73 55.7375 1451.29 Q53.4458 1450.87 50.9921 1450.02 L50.9921 1445.5 Q52.9366 1446.64 55.2514 1447.22 Q57.5662 1447.8 60.0893 1447.8 Q64.4874 1447.8 66.7791 1446.06 Q69.0939 1444.32 69.0939 1441.01 Q69.0939 1437.96 66.9411 1436.25 Q64.8115 1434.51 60.9921 1434.51 L56.9643 1434.51 L56.9643 1430.67 L61.1773 1430.67 Q64.6263 1430.67 66.455 1429.3 Q68.2837 1427.91 68.2837 1425.32 Q68.2837 1422.66 66.3856 1421.25 Q64.5106 1419.81 60.9921 1419.81 Q59.0708 1419.81 56.8717 1420.23 Q54.6727 1420.64 52.0338 1421.52 L52.0338 1417.36 Q54.6958 1416.62 57.0106 1416.25 Q59.3486 1415.88 61.4087 1415.88 Q66.7328 1415.88 69.8346 1418.31 Q72.9365 1420.71 72.9365 1424.83 Q72.9365 1427.7 71.2929 1429.69 Q69.6494 1431.66 66.617 1432.43 Z\" fill=\"#000000\" fill-rule=\"evenodd\" fill-opacity=\"1\" /><path clip-path=\"url(#clip500)\" d=\"M92.6123 1419.58 Q89.0012 1419.58 87.1725 1423.14 Q85.3669 1426.69 85.3669 1433.81 Q85.3669 1440.92 87.1725 1444.49 Q89.0012 1448.03 92.6123 1448.03 Q96.2465 1448.03 98.0521 1444.49 Q99.8808 1440.92 99.8808 1433.81 Q99.8808 1426.69 98.0521 1423.14 Q96.2465 1419.58 92.6123 1419.58 M92.6123 1415.88 Q98.4224 1415.88 101.478 1420.48 Q104.557 1425.06 104.557 1433.81 Q104.557 1442.54 101.478 1447.15 Q98.4224 1451.73 92.6123 1451.73 Q86.8021 1451.73 83.7234 1447.15 Q80.6679 1442.54 80.6679 1433.81 Q80.6679 1425.06 83.7234 1420.48 Q86.8021 1415.88 92.6123 1415.88 Z\" fill=\"#000000\" fill-rule=\"evenodd\" fill-opacity=\"1\" /><path clip-path=\"url(#clip500)\" d=\"M122.774 1419.58 Q119.163 1419.58 117.334 1423.14 Q115.529 1426.69 115.529 1433.81 Q115.529 1440.92 117.334 1444.49 Q119.163 1448.03 122.774 1448.03 Q126.408 1448.03 128.214 1444.49 Q130.043 1440.92 130.043 1433.81 Q130.043 1426.69 128.214 1423.14 Q126.408 1419.58 122.774 1419.58 M122.774 1415.88 Q128.584 1415.88 131.64 1420.48 Q134.719 1425.06 134.719 1433.81 Q134.719 1442.54 131.64 1447.15 Q128.584 1451.73 122.774 1451.73 Q116.964 1451.73 113.885 1447.15 Q110.83 1442.54 110.83 1433.81 Q110.83 1425.06 113.885 1420.48 Q116.964 1415.88 122.774 1415.88 Z\" fill=\"#000000\" fill-rule=\"evenodd\" fill-opacity=\"1\" /><path clip-path=\"url(#clip500)\" d=\"M66.617 1163.2 Q69.9735 1163.91 71.8485 1166.18 Q73.7466 1168.45 73.7466 1171.78 Q73.7466 1176.9 70.2281 1179.7 Q66.7096 1182.5 60.2282 1182.5 Q58.0523 1182.5 55.7375 1182.06 Q53.4458 1181.64 50.9921 1180.79 L50.9921 1176.27 Q52.9366 1177.41 55.2514 1177.99 Q57.5662 1178.57 60.0893 1178.57 Q64.4874 1178.57 66.7791 1176.83 Q69.0939 1175.09 69.0939 1171.78 Q69.0939 1168.73 66.9411 1167.02 Q64.8115 1165.28 60.9921 1165.28 L56.9643 1165.28 L56.9643 1161.44 L61.1773 1161.44 Q64.6263 1161.44 66.455 1160.07 Q68.2837 1158.68 68.2837 1156.09 Q68.2837 1153.43 66.3856 1152.02 Q64.5106 1150.58 60.9921 1150.58 Q59.0708 1150.58 56.8717 1151 Q54.6727 1151.41 52.0338 1152.29 L52.0338 1148.13 Q54.6958 1147.39 57.0106 1147.02 Q59.3486 1146.64 61.4087 1146.64 Q66.7328 1146.64 69.8346 1149.08 Q72.9365 1151.48 72.9365 1155.6 Q72.9365 1158.47 71.2929 1160.46 Q69.6494 1162.43 66.617 1163.2 Z\" fill=\"#000000\" fill-rule=\"evenodd\" fill-opacity=\"1\" /><path clip-path=\"url(#clip500)\" d=\"M83.4225 1177.89 L91.0614 1177.89 L91.0614 1151.53 L82.7512 1153.2 L82.7512 1148.94 L91.0151 1147.27 L95.691 1147.27 L95.691 1177.89 L103.33 1177.89 L103.33 1181.83 L83.4225 1181.83 L83.4225 1177.89 Z\" fill=\"#000000\" fill-rule=\"evenodd\" fill-opacity=\"1\" /><path clip-path=\"url(#clip500)\" d=\"M122.774 1150.35 Q119.163 1150.35 117.334 1153.91 Q115.529 1157.45 115.529 1164.58 Q115.529 1171.69 117.334 1175.26 Q119.163 1178.8 122.774 1178.8 Q126.408 1178.8 128.214 1175.26 Q130.043 1171.69 130.043 1164.58 Q130.043 1157.45 128.214 1153.91 Q126.408 1150.35 122.774 1150.35 M122.774 1146.64 Q128.584 1146.64 131.64 1151.25 Q134.719 1155.83 134.719 1164.58 Q134.719 1173.31 131.64 1177.92 Q128.584 1182.5 122.774 1182.5 Q116.964 1182.5 113.885 1177.92 Q110.83 1173.31 110.83 1164.58 Q110.83 1155.83 113.885 1151.25 Q116.964 1146.64 122.774 1146.64 Z\" fill=\"#000000\" fill-rule=\"evenodd\" fill-opacity=\"1\" /><path clip-path=\"url(#clip500)\" d=\"M66.617 893.965 Q69.9735 894.683 71.8485 896.951 Q73.7466 899.22 73.7466 902.553 Q73.7466 907.669 70.2281 910.47 Q66.7096 913.271 60.2282 913.271 Q58.0523 913.271 55.7375 912.831 Q53.4458 912.414 50.9921 911.558 L50.9921 907.044 Q52.9366 908.178 55.2514 908.757 Q57.5662 909.336 60.0893 909.336 Q64.4874 909.336 66.7791 907.6 Q69.0939 905.863 69.0939 902.553 Q69.0939 899.498 66.9411 897.785 Q64.8115 896.049 60.9921 896.049 L56.9643 896.049 L56.9643 892.206 L61.1773 892.206 Q64.6263 892.206 66.455 890.84 Q68.2837 889.452 68.2837 886.859 Q68.2837 884.197 66.3856 882.785 Q64.5106 881.35 60.9921 881.35 Q59.0708 881.35 56.8717 881.766 Q54.6727 882.183 52.0338 883.063 L52.0338 878.896 Q54.6958 878.155 57.0106 877.785 Q59.3486 877.415 61.4087 877.415 Q66.7328 877.415 69.8346 879.845 Q72.9365 882.252 72.9365 886.373 Q72.9365 889.243 71.2929 891.234 Q69.6494 893.201 66.617 893.965 Z\" fill=\"#000000\" fill-rule=\"evenodd\" fill-opacity=\"1\" /><path clip-path=\"url(#clip500)\" d=\"M86.6401 908.664 L102.959 908.664 L102.959 912.6 L81.0151 912.6 L81.0151 908.664 Q83.6771 905.91 88.2604 901.28 Q92.8669 896.627 94.0475 895.285 Q96.2928 892.762 97.1724 891.026 Q98.0752 889.266 98.0752 887.577 Q98.0752 884.822 96.1308 883.086 Q94.2095 881.35 91.1077 881.35 Q88.9086 881.35 86.4549 882.114 Q84.0244 882.877 81.2466 884.428 L81.2466 879.706 Q84.0707 878.572 86.5243 877.993 Q88.978 877.415 91.0151 877.415 Q96.3854 877.415 99.5798 880.1 Q102.774 882.785 102.774 887.276 Q102.774 889.405 101.964 891.326 Q101.177 893.225 99.0706 895.817 Q98.4919 896.489 95.39 899.706 Q92.2882 902.901 86.6401 908.664 Z\" fill=\"#000000\" fill-rule=\"evenodd\" fill-opacity=\"1\" /><path clip-path=\"url(#clip500)\" d=\"M122.774 881.118 Q119.163 881.118 117.334 884.683 Q115.529 888.225 115.529 895.354 Q115.529 902.461 117.334 906.025 Q119.163 909.567 122.774 909.567 Q126.408 909.567 128.214 906.025 Q130.043 902.461 130.043 895.354 Q130.043 888.225 128.214 884.683 Q126.408 881.118 122.774 881.118 M122.774 877.415 Q128.584 877.415 131.64 882.021 Q134.719 886.604 134.719 895.354 Q134.719 904.081 131.64 908.688 Q128.584 913.271 122.774 913.271 Q116.964 913.271 113.885 908.688 Q110.83 904.081 110.83 895.354 Q110.83 886.604 113.885 882.021 Q116.964 877.415 122.774 877.415 Z\" fill=\"#000000\" fill-rule=\"evenodd\" fill-opacity=\"1\" /><path clip-path=\"url(#clip500)\" d=\"M66.617 624.735 Q69.9735 625.453 71.8485 627.721 Q73.7466 629.99 73.7466 633.323 Q73.7466 638.439 70.2281 641.24 Q66.7096 644.041 60.2282 644.041 Q58.0523 644.041 55.7375 643.601 Q53.4458 643.184 50.9921 642.328 L50.9921 637.814 Q52.9366 638.948 55.2514 639.527 Q57.5662 640.105 60.0893 640.105 Q64.4874 640.105 66.7791 638.369 Q69.0939 636.633 69.0939 633.323 Q69.0939 630.267 66.9411 628.554 Q64.8115 626.818 60.9921 626.818 L56.9643 626.818 L56.9643 622.976 L61.1773 622.976 Q64.6263 622.976 66.455 621.61 Q68.2837 620.221 68.2837 617.629 Q68.2837 614.967 66.3856 613.555 Q64.5106 612.119 60.9921 612.119 Q59.0708 612.119 56.8717 612.536 Q54.6727 612.953 52.0338 613.832 L52.0338 609.666 Q54.6958 608.925 57.0106 608.555 Q59.3486 608.184 61.4087 608.184 Q66.7328 608.184 69.8346 610.615 Q72.9365 613.022 72.9365 617.143 Q72.9365 620.013 71.2929 622.004 Q69.6494 623.971 66.617 624.735 Z\" fill=\"#000000\" fill-rule=\"evenodd\" fill-opacity=\"1\" /><path clip-path=\"url(#clip500)\" d=\"M96.7789 624.735 Q100.135 625.453 102.01 627.721 Q103.909 629.99 103.909 633.323 Q103.909 638.439 100.39 641.24 Q96.8715 644.041 90.3901 644.041 Q88.2141 644.041 85.8993 643.601 Q83.6077 643.184 81.154 642.328 L81.154 637.814 Q83.0984 638.948 85.4132 639.527 Q87.728 640.105 90.2512 640.105 Q94.6493 640.105 96.941 638.369 Q99.2558 636.633 99.2558 633.323 Q99.2558 630.267 97.103 628.554 Q94.9734 626.818 91.1539 626.818 L87.1262 626.818 L87.1262 622.976 L91.3391 622.976 Q94.7882 622.976 96.6169 621.61 Q98.4456 620.221 98.4456 617.629 Q98.4456 614.967 96.5474 613.555 Q94.6724 612.119 91.1539 612.119 Q89.2327 612.119 87.0336 612.536 Q84.8345 612.953 82.1957 613.832 L82.1957 609.666 Q84.8577 608.925 87.1725 608.555 Q89.5104 608.184 91.5706 608.184 Q96.8947 608.184 99.9965 610.615 Q103.098 613.022 103.098 617.143 Q103.098 620.013 101.455 622.004 Q99.8113 623.971 96.7789 624.735 Z\" fill=\"#000000\" fill-rule=\"evenodd\" fill-opacity=\"1\" /><path clip-path=\"url(#clip500)\" d=\"M122.774 611.888 Q119.163 611.888 117.334 615.453 Q115.529 618.994 115.529 626.124 Q115.529 633.23 117.334 636.795 Q119.163 640.337 122.774 640.337 Q126.408 640.337 128.214 636.795 Q130.043 633.23 130.043 626.124 Q130.043 618.994 128.214 615.453 Q126.408 611.888 122.774 611.888 M122.774 608.184 Q128.584 608.184 131.64 612.791 Q134.719 617.374 134.719 626.124 Q134.719 634.851 131.64 639.457 Q128.584 644.041 122.774 644.041 Q116.964 644.041 113.885 639.457 Q110.83 634.851 110.83 626.124 Q110.83 617.374 113.885 612.791 Q116.964 608.184 122.774 608.184 Z\" fill=\"#000000\" fill-rule=\"evenodd\" fill-opacity=\"1\" /><path clip-path=\"url(#clip500)\" d=\"M66.617 355.505 Q69.9735 356.222 71.8485 358.491 Q73.7466 360.759 73.7466 364.093 Q73.7466 369.208 70.2281 372.009 Q66.7096 374.81 60.2282 374.81 Q58.0523 374.81 55.7375 374.37 Q53.4458 373.954 50.9921 373.097 L50.9921 368.583 Q52.9366 369.718 55.2514 370.296 Q57.5662 370.875 60.0893 370.875 Q64.4874 370.875 66.7791 369.139 Q69.0939 367.403 69.0939 364.093 Q69.0939 361.037 66.9411 359.324 Q64.8115 357.588 60.9921 357.588 L56.9643 357.588 L56.9643 353.746 L61.1773 353.746 Q64.6263 353.746 66.455 352.38 Q68.2837 350.991 68.2837 348.398 Q68.2837 345.736 66.3856 344.324 Q64.5106 342.889 60.9921 342.889 Q59.0708 342.889 56.8717 343.306 Q54.6727 343.722 52.0338 344.602 L52.0338 340.435 Q54.6958 339.695 57.0106 339.324 Q59.3486 338.954 61.4087 338.954 Q66.7328 338.954 69.8346 341.384 Q72.9365 343.792 72.9365 347.912 Q72.9365 350.783 71.2929 352.773 Q69.6494 354.741 66.617 355.505 Z\" fill=\"#000000\" fill-rule=\"evenodd\" fill-opacity=\"1\" /><path clip-path=\"url(#clip500)\" d=\"M95.4595 343.653 L83.654 362.102 L95.4595 362.102 L95.4595 343.653 M94.2326 339.579 L100.112 339.579 L100.112 362.102 L105.043 362.102 L105.043 365.991 L100.112 365.991 L100.112 374.139 L95.4595 374.139 L95.4595 365.991 L79.8577 365.991 L79.8577 361.477 L94.2326 339.579 Z\" fill=\"#000000\" fill-rule=\"evenodd\" fill-opacity=\"1\" /><path clip-path=\"url(#clip500)\" d=\"M122.774 342.658 Q119.163 342.658 117.334 346.222 Q115.529 349.764 115.529 356.894 Q115.529 364 117.334 367.565 Q119.163 371.107 122.774 371.107 Q126.408 371.107 128.214 367.565 Q130.043 364 130.043 356.894 Q130.043 349.764 128.214 346.222 Q126.408 342.658 122.774 342.658 M122.774 338.954 Q128.584 338.954 131.64 343.56 Q134.719 348.144 134.719 356.894 Q134.719 365.62 131.64 370.227 Q128.584 374.81 122.774 374.81 Q116.964 374.81 113.885 370.227 Q110.83 365.62 110.83 356.894 Q110.83 348.144 113.885 343.56 Q116.964 338.954 122.774 338.954 Z\" fill=\"#000000\" fill-rule=\"evenodd\" fill-opacity=\"1\" /><path clip-path=\"url(#clip500)\" d=\"M66.617 86.2745 Q69.9735 86.9921 71.8485 89.2606 Q73.7466 91.5291 73.7466 94.8624 Q73.7466 99.9781 70.2281 102.779 Q66.7096 105.58 60.2282 105.58 Q58.0523 105.58 55.7375 105.14 Q53.4458 104.723 50.9921 103.867 L50.9921 99.3531 Q52.9366 100.487 55.2514 101.066 Q57.5662 101.645 60.0893 101.645 Q64.4874 101.645 66.7791 99.9087 Q69.0939 98.1726 69.0939 94.8624 Q69.0939 91.8069 66.9411 90.0939 Q64.8115 88.3578 60.9921 88.3578 L56.9643 88.3578 L56.9643 84.5152 L61.1773 84.5152 Q64.6263 84.5152 66.455 83.1495 Q68.2837 81.7606 68.2837 79.168 Q68.2837 76.506 66.3856 75.094 Q64.5106 73.6588 60.9921 73.6588 Q59.0708 73.6588 56.8717 74.0755 Q54.6727 74.4921 52.0338 75.3718 L52.0338 71.2051 Q54.6958 70.4644 57.0106 70.094 Q59.3486 69.7236 61.4087 69.7236 Q66.7328 69.7236 69.8346 72.1542 Q72.9365 74.5616 72.9365 78.6819 Q72.9365 81.5523 71.2929 83.543 Q69.6494 85.5106 66.617 86.2745 Z\" fill=\"#000000\" fill-rule=\"evenodd\" fill-opacity=\"1\" /><path clip-path=\"url(#clip500)\" d=\"M82.6586 70.3486 L101.015 70.3486 L101.015 74.2838 L86.941 74.2838 L86.941 82.756 Q87.9595 82.4088 88.978 82.2467 Q89.9965 82.0615 91.0151 82.0615 Q96.8021 82.0615 100.182 85.2328 Q103.561 88.4041 103.561 93.8207 Q103.561 99.3994 100.089 102.501 Q96.6169 105.58 90.2975 105.58 Q88.1216 105.58 85.8531 105.21 Q83.6077 104.839 81.2003 104.098 L81.2003 99.3994 Q83.2836 100.534 85.5058 101.089 Q87.728 101.645 90.2049 101.645 Q94.2095 101.645 96.5474 99.5383 Q98.8854 97.4318 98.8854 93.8207 Q98.8854 90.2096 96.5474 88.1032 Q94.2095 85.9967 90.2049 85.9967 Q88.3299 85.9967 86.4549 86.4134 Q84.6031 86.83 82.6586 87.7097 L82.6586 70.3486 Z\" fill=\"#000000\" fill-rule=\"evenodd\" fill-opacity=\"1\" /><path clip-path=\"url(#clip500)\" d=\"M122.774 73.4273 Q119.163 73.4273 117.334 76.9921 Q115.529 80.5338 115.529 87.6634 Q115.529 94.7698 117.334 98.3346 Q119.163 101.876 122.774 101.876 Q126.408 101.876 128.214 98.3346 Q130.043 94.7698 130.043 87.6634 Q130.043 80.5338 128.214 76.9921 Q126.408 73.4273 122.774 73.4273 M122.774 69.7236 Q128.584 69.7236 131.64 74.3301 Q134.719 78.9134 134.719 87.6634 Q134.719 96.3902 131.64 100.997 Q128.584 105.58 122.774 105.58 Q116.964 105.58 113.885 100.997 Q110.83 96.3902 110.83 87.6634 Q110.83 78.9134 113.885 74.3301 Q116.964 69.7236 122.774 69.7236 Z\" fill=\"#000000\" fill-rule=\"evenodd\" fill-opacity=\"1\" /><polyline clip-path=\"url(#clip502)\" style=\"stroke:#009af9; stroke-linecap:round; stroke-linejoin:round; stroke-width:4; stroke-opacity:1; fill:none\" points=\"232.474,1433.78 245.876,1389.96 369.798,984.772 444.27,741.271 507.236,535.394 541.434,423.574 575.633,311.754 591.397,260.21 607.162,208.666 615.044,182.894 622.926,157.122 630.808,131.35 638.69,105.578 640.803,98.6702 642.915,91.7626 645.028,87.6286 647.14,87.6286 651.366,87.6286 655.591,87.6286 664.041,87.6286 672.492,87.6286 689.392,87.6286 706.293,87.6286 745.456,87.6286 784.619,87.6286 854.225,87.6286 915.263,87.6286 981.811,87.6286 1048.75,87.6286 1122.77,87.6286 1193.19,87.6286 1266.42,87.6286 1328.06,87.6286 1403.31,87.6286 1472.25,87.6286 1535.92,87.6286 1600.41,87.6286 1672.69,87.6286 1738.19,87.6286 1813.18,87.6286 1882.61,87.6286 1951.07,87.6286 2017.53,87.6286 2085.67,87.6286 2160.31,87.6286 2268.75,87.6286 2291,87.6286 \"/>\n",
       "<path clip-path=\"url(#clip500)\" d=\"M2009.39 1426.6 L2280.02 1426.6 L2280.02 1322.92 L2009.39 1322.92  Z\" fill=\"#ffffff\" fill-rule=\"evenodd\" fill-opacity=\"1\"/>\n",
       "<polyline clip-path=\"url(#clip500)\" style=\"stroke:#000000; stroke-linecap:round; stroke-linejoin:round; stroke-width:4; stroke-opacity:1; fill:none\" points=\"2009.39,1426.6 2280.02,1426.6 2280.02,1322.92 2009.39,1322.92 2009.39,1426.6 \"/>\n",
       "<polyline clip-path=\"url(#clip500)\" style=\"stroke:#009af9; stroke-linecap:round; stroke-linejoin:round; stroke-width:4; stroke-opacity:1; fill:none\" points=\"2033.63,1374.76 2179.1,1374.76 \"/>\n",
       "<path clip-path=\"url(#clip500)\" d=\"M2217.19 1394.45 Q2215.38 1399.08 2213.67 1400.49 Q2211.96 1401.9 2209.09 1401.9 L2205.68 1401.9 L2205.68 1398.34 L2208.18 1398.34 Q2209.94 1398.34 2210.92 1397.5 Q2211.89 1396.67 2213.07 1393.57 L2213.83 1391.62 L2203.35 1366.11 L2207.86 1366.11 L2215.96 1386.39 L2224.06 1366.11 L2228.58 1366.11 L2217.19 1394.45 Z\" fill=\"#000000\" fill-rule=\"evenodd\" fill-opacity=\"1\" /><path clip-path=\"url(#clip500)\" d=\"M2235.87 1388.11 L2243.51 1388.11 L2243.51 1361.74 L2235.2 1363.41 L2235.2 1359.15 L2243.46 1357.48 L2248.14 1357.48 L2248.14 1388.11 L2255.78 1388.11 L2255.78 1392.04 L2235.87 1392.04 L2235.87 1388.11 Z\" fill=\"#000000\" fill-rule=\"evenodd\" fill-opacity=\"1\" /></svg>\n"
      ]
     },
     "execution_count": 10,
     "metadata": {},
     "output_type": "execute_result"
    }
   ],
   "source": [
    "function Tfun(u)  \n",
    "    if u <= uTran_Temp\n",
    "      return ((TAppMax - T0)/uTran_Temp)*u + T0\n",
    "    else\n",
    "     return  TAppMax\n",
    "    end\n",
    "end \n",
    "plot(Tfun,0,uMax)"
   ]
  },
  {
   "cell_type": "code",
   "execution_count": 11,
   "id": "988e7469",
   "metadata": {},
   "outputs": [
    {
     "data": {
      "image/svg+xml": [
       "<?xml version=\"1.0\" encoding=\"utf-8\"?>\n",
       "<svg xmlns=\"http://www.w3.org/2000/svg\" xmlns:xlink=\"http://www.w3.org/1999/xlink\" width=\"600\" height=\"400\" viewBox=\"0 0 2400 1600\">\n",
       "<defs>\n",
       "  <clipPath id=\"clip540\">\n",
       "    <rect x=\"0\" y=\"0\" width=\"2400\" height=\"1600\"/>\n",
       "  </clipPath>\n",
       "</defs>\n",
       "<path clip-path=\"url(#clip540)\" d=\"M0 1600 L2400 1600 L2400 0 L0 0  Z\" fill=\"#ffffff\" fill-rule=\"evenodd\" fill-opacity=\"1\"/>\n",
       "<defs>\n",
       "  <clipPath id=\"clip541\">\n",
       "    <rect x=\"480\" y=\"0\" width=\"1681\" height=\"1600\"/>\n",
       "  </clipPath>\n",
       "</defs>\n",
       "<path clip-path=\"url(#clip540)\" d=\"M306.435 1474.16 L2352.76 1474.16 L2352.76 47.2441 L306.435 47.2441  Z\" fill=\"#ffffff\" fill-rule=\"evenodd\" fill-opacity=\"1\"/>\n",
       "<defs>\n",
       "  <clipPath id=\"clip542\">\n",
       "    <rect x=\"306\" y=\"47\" width=\"2047\" height=\"1428\"/>\n",
       "  </clipPath>\n",
       "</defs>\n",
       "<polyline clip-path=\"url(#clip542)\" style=\"stroke:#000000; stroke-linecap:round; stroke-linejoin:round; stroke-width:2; stroke-opacity:0.1; fill:none\" points=\"364.35,1474.16 364.35,47.2441 \"/>\n",
       "<polyline clip-path=\"url(#clip542)\" style=\"stroke:#000000; stroke-linecap:round; stroke-linejoin:round; stroke-width:2; stroke-opacity:0.1; fill:none\" points=\"900.598,1474.16 900.598,47.2441 \"/>\n",
       "<polyline clip-path=\"url(#clip542)\" style=\"stroke:#000000; stroke-linecap:round; stroke-linejoin:round; stroke-width:2; stroke-opacity:0.1; fill:none\" points=\"1436.85,1474.16 1436.85,47.2441 \"/>\n",
       "<polyline clip-path=\"url(#clip542)\" style=\"stroke:#000000; stroke-linecap:round; stroke-linejoin:round; stroke-width:2; stroke-opacity:0.1; fill:none\" points=\"1973.09,1474.16 1973.09,47.2441 \"/>\n",
       "<polyline clip-path=\"url(#clip540)\" style=\"stroke:#000000; stroke-linecap:round; stroke-linejoin:round; stroke-width:4; stroke-opacity:1; fill:none\" points=\"306.435,1474.16 2352.76,1474.16 \"/>\n",
       "<polyline clip-path=\"url(#clip540)\" style=\"stroke:#000000; stroke-linecap:round; stroke-linejoin:round; stroke-width:4; stroke-opacity:1; fill:none\" points=\"364.35,1474.16 364.35,1455.27 \"/>\n",
       "<polyline clip-path=\"url(#clip540)\" style=\"stroke:#000000; stroke-linecap:round; stroke-linejoin:round; stroke-width:4; stroke-opacity:1; fill:none\" points=\"900.598,1474.16 900.598,1455.27 \"/>\n",
       "<polyline clip-path=\"url(#clip540)\" style=\"stroke:#000000; stroke-linecap:round; stroke-linejoin:round; stroke-width:4; stroke-opacity:1; fill:none\" points=\"1436.85,1474.16 1436.85,1455.27 \"/>\n",
       "<polyline clip-path=\"url(#clip540)\" style=\"stroke:#000000; stroke-linecap:round; stroke-linejoin:round; stroke-width:4; stroke-opacity:1; fill:none\" points=\"1973.09,1474.16 1973.09,1455.27 \"/>\n",
       "<path clip-path=\"url(#clip540)\" d=\"M364.35 1505.08 Q360.739 1505.08 358.91 1508.65 Q357.105 1512.19 357.105 1519.32 Q357.105 1526.43 358.91 1529.99 Q360.739 1533.53 364.35 1533.53 Q367.984 1533.53 369.79 1529.99 Q371.619 1526.43 371.619 1519.32 Q371.619 1512.19 369.79 1508.65 Q367.984 1505.08 364.35 1505.08 M364.35 1501.38 Q370.16 1501.38 373.216 1505.99 Q376.295 1510.57 376.295 1519.32 Q376.295 1528.05 373.216 1532.65 Q370.16 1537.24 364.35 1537.24 Q358.54 1537.24 355.461 1532.65 Q352.406 1528.05 352.406 1519.32 Q352.406 1510.57 355.461 1505.99 Q358.54 1501.38 364.35 1501.38 Z\" fill=\"#000000\" fill-rule=\"evenodd\" fill-opacity=\"1\" /><path clip-path=\"url(#clip540)\" d=\"M777.522 1517.66 L795.878 1517.66 L795.878 1521.6 L781.804 1521.6 L781.804 1530.07 Q782.823 1529.72 783.841 1529.56 Q784.86 1529.38 785.878 1529.38 Q791.665 1529.38 795.045 1532.55 Q798.424 1535.72 798.424 1541.14 Q798.424 1546.72 794.952 1549.82 Q791.48 1552.9 785.161 1552.9 Q782.985 1552.9 780.716 1552.53 Q778.471 1552.16 776.063 1551.41 L776.063 1546.72 Q778.147 1547.85 780.369 1548.41 Q782.591 1548.96 785.068 1548.96 Q789.073 1548.96 791.411 1546.85 Q793.749 1544.75 793.749 1541.14 Q793.749 1537.53 791.411 1535.42 Q789.073 1533.31 785.068 1533.31 Q783.193 1533.31 781.318 1533.73 Q779.466 1534.15 777.522 1535.03 L777.522 1517.66 Z\" fill=\"#000000\" fill-rule=\"evenodd\" fill-opacity=\"1\" /><path clip-path=\"url(#clip540)\" d=\"M807.637 1546.35 L812.522 1546.35 L812.522 1552.22 L807.637 1552.22 L807.637 1546.35 Z\" fill=\"#000000\" fill-rule=\"evenodd\" fill-opacity=\"1\" /><path clip-path=\"url(#clip540)\" d=\"M832.707 1520.74 Q829.096 1520.74 827.267 1524.31 Q825.461 1527.85 825.461 1534.98 Q825.461 1542.09 827.267 1545.65 Q829.096 1549.19 832.707 1549.19 Q836.341 1549.19 838.146 1545.65 Q839.975 1542.09 839.975 1534.98 Q839.975 1527.85 838.146 1524.31 Q836.341 1520.74 832.707 1520.74 M832.707 1517.04 Q838.517 1517.04 841.572 1521.65 Q844.651 1526.23 844.651 1534.98 Q844.651 1543.71 841.572 1548.31 Q838.517 1552.9 832.707 1552.9 Q826.897 1552.9 823.818 1548.31 Q820.762 1543.71 820.762 1534.98 Q820.762 1526.23 823.818 1521.65 Q826.897 1517.04 832.707 1517.04 Z\" fill=\"#000000\" fill-rule=\"evenodd\" fill-opacity=\"1\" /><path clip-path=\"url(#clip540)\" d=\"M862.869 1520.74 Q859.257 1520.74 857.429 1524.31 Q855.623 1527.85 855.623 1534.98 Q855.623 1542.09 857.429 1545.65 Q859.257 1549.19 862.869 1549.19 Q866.503 1549.19 868.308 1545.65 Q870.137 1542.09 870.137 1534.98 Q870.137 1527.85 868.308 1524.31 Q866.503 1520.74 862.869 1520.74 M862.869 1517.04 Q868.679 1517.04 871.734 1521.65 Q874.813 1526.23 874.813 1534.98 Q874.813 1543.71 871.734 1548.31 Q868.679 1552.9 862.869 1552.9 Q857.058 1552.9 853.98 1548.31 Q850.924 1543.71 850.924 1534.98 Q850.924 1526.23 853.98 1521.65 Q857.058 1517.04 862.869 1517.04 Z\" fill=\"#000000\" fill-rule=\"evenodd\" fill-opacity=\"1\" /><path clip-path=\"url(#clip540)\" d=\"M911.202 1526.76 L900.623 1537.39 L911.202 1547.97 L908.447 1550.77 L897.822 1540.14 L887.197 1550.77 L884.466 1547.97 L895.021 1537.39 L884.466 1526.76 L887.197 1523.96 L897.822 1534.59 L908.447 1523.96 L911.202 1526.76 Z\" fill=\"#000000\" fill-rule=\"evenodd\" fill-opacity=\"1\" /><path clip-path=\"url(#clip540)\" d=\"M923.563 1548.29 L931.201 1548.29 L931.201 1521.92 L922.891 1523.59 L922.891 1519.33 L931.155 1517.66 L935.831 1517.66 L935.831 1548.29 L943.47 1548.29 L943.47 1552.22 L923.563 1552.22 L923.563 1548.29 Z\" fill=\"#000000\" fill-rule=\"evenodd\" fill-opacity=\"1\" /><path clip-path=\"url(#clip540)\" d=\"M962.914 1520.74 Q959.303 1520.74 957.475 1524.31 Q955.669 1527.85 955.669 1534.98 Q955.669 1542.09 957.475 1545.65 Q959.303 1549.19 962.914 1549.19 Q966.549 1549.19 968.354 1545.65 Q970.183 1542.09 970.183 1534.98 Q970.183 1527.85 968.354 1524.31 Q966.549 1520.74 962.914 1520.74 M962.914 1517.04 Q968.724 1517.04 971.78 1521.65 Q974.859 1526.23 974.859 1534.98 Q974.859 1543.71 971.78 1548.31 Q968.724 1552.9 962.914 1552.9 Q957.104 1552.9 954.025 1548.31 Q950.97 1543.71 950.97 1534.98 Q950.97 1526.23 954.025 1521.65 Q957.104 1517.04 962.914 1517.04 Z\" fill=\"#000000\" fill-rule=\"evenodd\" fill-opacity=\"1\" /><path clip-path=\"url(#clip540)\" d=\"M974.859 1511.14 L998.97 1511.14 L998.97 1514.34 L974.859 1514.34 L974.859 1511.14 Z\" fill=\"#000000\" fill-rule=\"evenodd\" fill-opacity=\"1\" /><path clip-path=\"url(#clip540)\" d=\"M1015.77 1509.26 Q1013.21 1509.26 1011.7 1511.01 Q1010.22 1512.76 1010.22 1515.81 Q1010.22 1518.83 1011.7 1520.6 Q1013.21 1522.35 1015.77 1522.35 Q1018.32 1522.35 1019.81 1520.6 Q1021.31 1518.83 1021.31 1515.81 Q1021.31 1512.76 1019.81 1511.01 Q1018.32 1509.26 1015.77 1509.26 M1023.31 1497.35 L1023.31 1500.82 Q1021.88 1500.14 1020.41 1499.78 Q1018.96 1499.42 1017.53 1499.42 Q1013.77 1499.42 1011.78 1501.96 Q1009.8 1504.5 1009.52 1509.64 Q1010.63 1508 1012.3 1507.13 Q1013.98 1506.25 1015.99 1506.25 Q1020.22 1506.25 1022.67 1508.83 Q1025.13 1511.39 1025.13 1515.81 Q1025.13 1520.13 1022.57 1522.75 Q1020.02 1525.36 1015.77 1525.36 Q1010.89 1525.36 1008.32 1521.64 Q1005.74 1517.89 1005.74 1510.8 Q1005.74 1504.14 1008.9 1500.19 Q1012.06 1496.23 1017.38 1496.23 Q1018.81 1496.23 1020.26 1496.51 Q1021.73 1496.79 1023.31 1497.35 Z\" fill=\"#000000\" fill-rule=\"evenodd\" fill-opacity=\"1\" /><path clip-path=\"url(#clip540)\" d=\"M1314.23 1548.29 L1321.87 1548.29 L1321.87 1521.92 L1313.56 1523.59 L1313.56 1519.33 L1321.82 1517.66 L1326.5 1517.66 L1326.5 1548.29 L1334.14 1548.29 L1334.14 1552.22 L1314.23 1552.22 L1314.23 1548.29 Z\" fill=\"#000000\" fill-rule=\"evenodd\" fill-opacity=\"1\" /><path clip-path=\"url(#clip540)\" d=\"M1343.58 1546.35 L1348.46 1546.35 L1348.46 1552.22 L1343.58 1552.22 L1343.58 1546.35 Z\" fill=\"#000000\" fill-rule=\"evenodd\" fill-opacity=\"1\" /><path clip-path=\"url(#clip540)\" d=\"M1368.65 1520.74 Q1365.04 1520.74 1363.21 1524.31 Q1361.4 1527.85 1361.4 1534.98 Q1361.4 1542.09 1363.21 1545.65 Q1365.04 1549.19 1368.65 1549.19 Q1372.28 1549.19 1374.09 1545.65 Q1375.92 1542.09 1375.92 1534.98 Q1375.92 1527.85 1374.09 1524.31 Q1372.28 1520.74 1368.65 1520.74 M1368.65 1517.04 Q1374.46 1517.04 1377.51 1521.65 Q1380.59 1526.23 1380.59 1534.98 Q1380.59 1543.71 1377.51 1548.31 Q1374.46 1552.9 1368.65 1552.9 Q1362.84 1552.9 1359.76 1548.31 Q1356.7 1543.71 1356.7 1534.98 Q1356.7 1526.23 1359.76 1521.65 Q1362.84 1517.04 1368.65 1517.04 Z\" fill=\"#000000\" fill-rule=\"evenodd\" fill-opacity=\"1\" /><path clip-path=\"url(#clip540)\" d=\"M1398.81 1520.74 Q1395.2 1520.74 1393.37 1524.31 Q1391.57 1527.85 1391.57 1534.98 Q1391.57 1542.09 1393.37 1545.65 Q1395.2 1549.19 1398.81 1549.19 Q1402.45 1549.19 1404.25 1545.65 Q1406.08 1542.09 1406.08 1534.98 Q1406.08 1527.85 1404.25 1524.31 Q1402.45 1520.74 1398.81 1520.74 M1398.81 1517.04 Q1404.62 1517.04 1407.68 1521.65 Q1410.76 1526.23 1410.76 1534.98 Q1410.76 1543.71 1407.68 1548.31 Q1404.62 1552.9 1398.81 1552.9 Q1393 1552.9 1389.92 1548.31 Q1386.87 1543.71 1386.87 1534.98 Q1386.87 1526.23 1389.92 1521.65 Q1393 1517.04 1398.81 1517.04 Z\" fill=\"#000000\" fill-rule=\"evenodd\" fill-opacity=\"1\" /><path clip-path=\"url(#clip540)\" d=\"M1447.14 1526.76 L1436.57 1537.39 L1447.14 1547.97 L1444.39 1550.77 L1433.76 1540.14 L1423.14 1550.77 L1420.41 1547.97 L1430.96 1537.39 L1420.41 1526.76 L1423.14 1523.96 L1433.76 1534.59 L1444.39 1523.96 L1447.14 1526.76 Z\" fill=\"#000000\" fill-rule=\"evenodd\" fill-opacity=\"1\" /><path clip-path=\"url(#clip540)\" d=\"M1459.5 1548.29 L1467.14 1548.29 L1467.14 1521.92 L1458.83 1523.59 L1458.83 1519.33 L1467.1 1517.66 L1471.77 1517.66 L1471.77 1548.29 L1479.41 1548.29 L1479.41 1552.22 L1459.5 1552.22 L1459.5 1548.29 Z\" fill=\"#000000\" fill-rule=\"evenodd\" fill-opacity=\"1\" /><path clip-path=\"url(#clip540)\" d=\"M1498.86 1520.74 Q1495.25 1520.74 1493.42 1524.31 Q1491.61 1527.85 1491.61 1534.98 Q1491.61 1542.09 1493.42 1545.65 Q1495.25 1549.19 1498.86 1549.19 Q1502.49 1549.19 1504.3 1545.65 Q1506.13 1542.09 1506.13 1534.98 Q1506.13 1527.85 1504.3 1524.31 Q1502.49 1520.74 1498.86 1520.74 M1498.86 1517.04 Q1504.67 1517.04 1507.72 1521.65 Q1510.8 1526.23 1510.8 1534.98 Q1510.8 1543.71 1507.72 1548.31 Q1504.67 1552.9 1498.86 1552.9 Q1493.05 1552.9 1489.97 1548.31 Q1486.91 1543.71 1486.91 1534.98 Q1486.91 1526.23 1489.97 1521.65 Q1493.05 1517.04 1498.86 1517.04 Z\" fill=\"#000000\" fill-rule=\"evenodd\" fill-opacity=\"1\" /><path clip-path=\"url(#clip540)\" d=\"M1510.8 1511.14 L1534.91 1511.14 L1534.91 1514.34 L1510.8 1514.34 L1510.8 1511.14 Z\" fill=\"#000000\" fill-rule=\"evenodd\" fill-opacity=\"1\" /><path clip-path=\"url(#clip540)\" d=\"M1543.15 1496.73 L1558.06 1496.73 L1558.06 1499.93 L1546.63 1499.93 L1546.63 1506.82 Q1547.46 1506.53 1548.28 1506.4 Q1549.11 1506.25 1549.94 1506.25 Q1554.64 1506.25 1557.39 1508.83 Q1560.13 1511.4 1560.13 1515.81 Q1560.13 1520.34 1557.31 1522.86 Q1554.49 1525.36 1549.36 1525.36 Q1547.59 1525.36 1545.75 1525.06 Q1543.92 1524.76 1541.97 1524.16 L1541.97 1520.34 Q1543.66 1521.26 1545.46 1521.71 Q1547.27 1522.16 1549.28 1522.16 Q1552.54 1522.16 1554.43 1520.45 Q1556.33 1518.74 1556.33 1515.81 Q1556.33 1512.87 1554.43 1511.16 Q1552.54 1509.45 1549.28 1509.45 Q1547.76 1509.45 1546.23 1509.79 Q1544.73 1510.13 1543.15 1510.84 L1543.15 1496.73 Z\" fill=\"#000000\" fill-rule=\"evenodd\" fill-opacity=\"1\" /><path clip-path=\"url(#clip540)\" d=\"M1850.48 1548.29 L1858.11 1548.29 L1858.11 1521.92 L1849.8 1523.59 L1849.8 1519.33 L1858.07 1517.66 L1862.74 1517.66 L1862.74 1548.29 L1870.38 1548.29 L1870.38 1552.22 L1850.48 1552.22 L1850.48 1548.29 Z\" fill=\"#000000\" fill-rule=\"evenodd\" fill-opacity=\"1\" /><path clip-path=\"url(#clip540)\" d=\"M1879.83 1546.35 L1884.71 1546.35 L1884.71 1552.22 L1879.83 1552.22 L1879.83 1546.35 Z\" fill=\"#000000\" fill-rule=\"evenodd\" fill-opacity=\"1\" /><path clip-path=\"url(#clip540)\" d=\"M1894.94 1517.66 L1913.3 1517.66 L1913.3 1521.6 L1899.23 1521.6 L1899.23 1530.07 Q1900.24 1529.72 1901.26 1529.56 Q1902.28 1529.38 1903.3 1529.38 Q1909.09 1529.38 1912.47 1532.55 Q1915.85 1535.72 1915.85 1541.14 Q1915.85 1546.72 1912.37 1549.82 Q1908.9 1552.9 1902.58 1552.9 Q1900.41 1552.9 1898.14 1552.53 Q1895.89 1552.16 1893.48 1551.41 L1893.48 1546.72 Q1895.57 1547.85 1897.79 1548.41 Q1900.01 1548.96 1902.49 1548.96 Q1906.49 1548.96 1908.83 1546.85 Q1911.17 1544.75 1911.17 1541.14 Q1911.17 1537.53 1908.83 1535.42 Q1906.49 1533.31 1902.49 1533.31 Q1900.61 1533.31 1898.74 1533.73 Q1896.89 1534.15 1894.94 1535.03 L1894.94 1517.66 Z\" fill=\"#000000\" fill-rule=\"evenodd\" fill-opacity=\"1\" /><path clip-path=\"url(#clip540)\" d=\"M1935.06 1520.74 Q1931.45 1520.74 1929.62 1524.31 Q1927.81 1527.85 1927.81 1534.98 Q1927.81 1542.09 1929.62 1545.65 Q1931.45 1549.19 1935.06 1549.19 Q1938.69 1549.19 1940.5 1545.65 Q1942.33 1542.09 1942.33 1534.98 Q1942.33 1527.85 1940.5 1524.31 Q1938.69 1520.74 1935.06 1520.74 M1935.06 1517.04 Q1940.87 1517.04 1943.92 1521.65 Q1947 1526.23 1947 1534.98 Q1947 1543.71 1943.92 1548.31 Q1940.87 1552.9 1935.06 1552.9 Q1929.25 1552.9 1926.17 1548.31 Q1923.11 1543.71 1923.11 1534.98 Q1923.11 1526.23 1926.17 1521.65 Q1929.25 1517.04 1935.06 1517.04 Z\" fill=\"#000000\" fill-rule=\"evenodd\" fill-opacity=\"1\" /><path clip-path=\"url(#clip540)\" d=\"M1983.39 1526.76 L1972.81 1537.39 L1983.39 1547.97 L1980.64 1550.77 L1970.01 1540.14 L1959.39 1550.77 L1956.66 1547.97 L1967.21 1537.39 L1956.66 1526.76 L1959.39 1523.96 L1970.01 1534.59 L1980.64 1523.96 L1983.39 1526.76 Z\" fill=\"#000000\" fill-rule=\"evenodd\" fill-opacity=\"1\" /><path clip-path=\"url(#clip540)\" d=\"M1995.75 1548.29 L2003.39 1548.29 L2003.39 1521.92 L1995.08 1523.59 L1995.08 1519.33 L2003.34 1517.66 L2008.02 1517.66 L2008.02 1548.29 L2015.66 1548.29 L2015.66 1552.22 L1995.75 1552.22 L1995.75 1548.29 Z\" fill=\"#000000\" fill-rule=\"evenodd\" fill-opacity=\"1\" /><path clip-path=\"url(#clip540)\" d=\"M2035.1 1520.74 Q2031.49 1520.74 2029.66 1524.31 Q2027.86 1527.85 2027.86 1534.98 Q2027.86 1542.09 2029.66 1545.65 Q2031.49 1549.19 2035.1 1549.19 Q2038.74 1549.19 2040.54 1545.65 Q2042.37 1542.09 2042.37 1534.98 Q2042.37 1527.85 2040.54 1524.31 Q2038.74 1520.74 2035.1 1520.74 M2035.1 1517.04 Q2040.91 1517.04 2043.97 1521.65 Q2047.05 1526.23 2047.05 1534.98 Q2047.05 1543.71 2043.97 1548.31 Q2040.91 1552.9 2035.1 1552.9 Q2029.29 1552.9 2026.22 1548.31 Q2023.16 1543.71 2023.16 1534.98 Q2023.16 1526.23 2026.22 1521.65 Q2029.29 1517.04 2035.1 1517.04 Z\" fill=\"#000000\" fill-rule=\"evenodd\" fill-opacity=\"1\" /><path clip-path=\"url(#clip540)\" d=\"M2047.05 1511.14 L2071.16 1511.14 L2071.16 1514.34 L2047.05 1514.34 L2047.05 1511.14 Z\" fill=\"#000000\" fill-rule=\"evenodd\" fill-opacity=\"1\" /><path clip-path=\"url(#clip540)\" d=\"M2079.4 1496.73 L2094.31 1496.73 L2094.31 1499.93 L2082.88 1499.93 L2082.88 1506.82 Q2083.7 1506.53 2084.53 1506.4 Q2085.36 1506.25 2086.19 1506.25 Q2090.89 1506.25 2093.64 1508.83 Q2096.38 1511.4 2096.38 1515.81 Q2096.38 1520.34 2093.56 1522.86 Q2090.74 1525.36 2085.6 1525.36 Q2083.84 1525.36 2081.99 1525.06 Q2080.17 1524.76 2078.21 1524.16 L2078.21 1520.34 Q2079.91 1521.26 2081.71 1521.71 Q2083.52 1522.16 2085.53 1522.16 Q2088.78 1522.16 2090.68 1520.45 Q2092.58 1518.74 2092.58 1515.81 Q2092.58 1512.87 2090.68 1511.16 Q2088.78 1509.45 2085.53 1509.45 Q2084.01 1509.45 2082.48 1509.79 Q2080.98 1510.13 2079.4 1510.84 L2079.4 1496.73 Z\" fill=\"#000000\" fill-rule=\"evenodd\" fill-opacity=\"1\" /><polyline clip-path=\"url(#clip542)\" style=\"stroke:#000000; stroke-linecap:round; stroke-linejoin:round; stroke-width:2; stroke-opacity:0.1; fill:none\" points=\"306.435,1433.78 2352.76,1433.78 \"/>\n",
       "<polyline clip-path=\"url(#clip542)\" style=\"stroke:#000000; stroke-linecap:round; stroke-linejoin:round; stroke-width:2; stroke-opacity:0.1; fill:none\" points=\"306.435,1097.24 2352.76,1097.24 \"/>\n",
       "<polyline clip-path=\"url(#clip542)\" style=\"stroke:#000000; stroke-linecap:round; stroke-linejoin:round; stroke-width:2; stroke-opacity:0.1; fill:none\" points=\"306.435,760.704 2352.76,760.704 \"/>\n",
       "<polyline clip-path=\"url(#clip542)\" style=\"stroke:#000000; stroke-linecap:round; stroke-linejoin:round; stroke-width:2; stroke-opacity:0.1; fill:none\" points=\"306.435,424.167 2352.76,424.167 \"/>\n",
       "<polyline clip-path=\"url(#clip542)\" style=\"stroke:#000000; stroke-linecap:round; stroke-linejoin:round; stroke-width:2; stroke-opacity:0.1; fill:none\" points=\"306.435,87.6286 2352.76,87.6286 \"/>\n",
       "<polyline clip-path=\"url(#clip540)\" style=\"stroke:#000000; stroke-linecap:round; stroke-linejoin:round; stroke-width:4; stroke-opacity:1; fill:none\" points=\"306.435,1474.16 306.435,47.2441 \"/>\n",
       "<polyline clip-path=\"url(#clip540)\" style=\"stroke:#000000; stroke-linecap:round; stroke-linejoin:round; stroke-width:4; stroke-opacity:1; fill:none\" points=\"306.435,1433.78 325.333,1433.78 \"/>\n",
       "<polyline clip-path=\"url(#clip540)\" style=\"stroke:#000000; stroke-linecap:round; stroke-linejoin:round; stroke-width:4; stroke-opacity:1; fill:none\" points=\"306.435,1097.24 325.333,1097.24 \"/>\n",
       "<polyline clip-path=\"url(#clip540)\" style=\"stroke:#000000; stroke-linecap:round; stroke-linejoin:round; stroke-width:4; stroke-opacity:1; fill:none\" points=\"306.435,760.704 325.333,760.704 \"/>\n",
       "<polyline clip-path=\"url(#clip540)\" style=\"stroke:#000000; stroke-linecap:round; stroke-linejoin:round; stroke-width:4; stroke-opacity:1; fill:none\" points=\"306.435,424.167 325.333,424.167 \"/>\n",
       "<polyline clip-path=\"url(#clip540)\" style=\"stroke:#000000; stroke-linecap:round; stroke-linejoin:round; stroke-width:4; stroke-opacity:1; fill:none\" points=\"306.435,87.6286 325.333,87.6286 \"/>\n",
       "<path clip-path=\"url(#clip540)\" d=\"M258.491 1419.58 Q254.88 1419.58 253.051 1423.14 Q251.246 1426.69 251.246 1433.81 Q251.246 1440.92 253.051 1444.49 Q254.88 1448.03 258.491 1448.03 Q262.125 1448.03 263.931 1444.49 Q265.759 1440.92 265.759 1433.81 Q265.759 1426.69 263.931 1423.14 Q262.125 1419.58 258.491 1419.58 M258.491 1415.88 Q264.301 1415.88 267.357 1420.48 Q270.435 1425.06 270.435 1433.81 Q270.435 1442.54 267.357 1447.15 Q264.301 1451.73 258.491 1451.73 Q252.681 1451.73 249.602 1447.15 Q246.547 1442.54 246.547 1433.81 Q246.547 1425.06 249.602 1420.48 Q252.681 1415.88 258.491 1415.88 Z\" fill=\"#000000\" fill-rule=\"evenodd\" fill-opacity=\"1\" /><path clip-path=\"url(#clip540)\" d=\"M54.6105 1086.41 L72.9668 1086.41 L72.9668 1090.35 L58.8928 1090.35 L58.8928 1098.82 Q59.9113 1098.47 60.9299 1098.31 Q61.9484 1098.12 62.9669 1098.12 Q68.7539 1098.12 72.1335 1101.29 Q75.5131 1104.47 75.5131 1109.88 Q75.5131 1115.46 72.0409 1118.56 Q68.5687 1121.64 62.2493 1121.64 Q60.0734 1121.64 57.8049 1121.27 Q55.5595 1120.9 53.1521 1120.16 L53.1521 1115.46 Q55.2354 1116.59 57.4577 1117.15 Q59.6799 1117.71 62.1567 1117.71 Q66.1613 1117.71 68.4993 1115.6 Q70.8372 1113.49 70.8372 1109.88 Q70.8372 1106.27 68.4993 1104.16 Q66.1613 1102.06 62.1567 1102.06 Q60.2817 1102.06 58.4067 1102.47 Q56.5549 1102.89 54.6105 1103.77 L54.6105 1086.41 Z\" fill=\"#000000\" fill-rule=\"evenodd\" fill-opacity=\"1\" /><path clip-path=\"url(#clip540)\" d=\"M84.726 1115.09 L89.6103 1115.09 L89.6103 1120.97 L84.726 1120.97 L84.726 1115.09 Z\" fill=\"#000000\" fill-rule=\"evenodd\" fill-opacity=\"1\" /><path clip-path=\"url(#clip540)\" d=\"M109.795 1089.49 Q106.184 1089.49 104.356 1093.05 Q102.55 1096.59 102.55 1103.72 Q102.55 1110.83 104.356 1114.4 Q106.184 1117.94 109.795 1117.94 Q113.43 1117.94 115.235 1114.4 Q117.064 1110.83 117.064 1103.72 Q117.064 1096.59 115.235 1093.05 Q113.43 1089.49 109.795 1089.49 M109.795 1085.78 Q115.605 1085.78 118.661 1090.39 Q121.74 1094.97 121.74 1103.72 Q121.74 1112.45 118.661 1117.06 Q115.605 1121.64 109.795 1121.64 Q103.985 1121.64 100.906 1117.06 Q97.851 1112.45 97.851 1103.72 Q97.851 1094.97 100.906 1090.39 Q103.985 1085.78 109.795 1085.78 Z\" fill=\"#000000\" fill-rule=\"evenodd\" fill-opacity=\"1\" /><path clip-path=\"url(#clip540)\" d=\"M139.957 1089.49 Q136.346 1089.49 134.517 1093.05 Q132.712 1096.59 132.712 1103.72 Q132.712 1110.83 134.517 1114.4 Q136.346 1117.94 139.957 1117.94 Q143.591 1117.94 145.397 1114.4 Q147.226 1110.83 147.226 1103.72 Q147.226 1096.59 145.397 1093.05 Q143.591 1089.49 139.957 1089.49 M139.957 1085.78 Q145.767 1085.78 148.823 1090.39 Q151.902 1094.97 151.902 1103.72 Q151.902 1112.45 148.823 1117.06 Q145.767 1121.64 139.957 1121.64 Q134.147 1121.64 131.068 1117.06 Q128.013 1112.45 128.013 1103.72 Q128.013 1094.97 131.068 1090.39 Q134.147 1085.78 139.957 1085.78 Z\" fill=\"#000000\" fill-rule=\"evenodd\" fill-opacity=\"1\" /><path clip-path=\"url(#clip540)\" d=\"M188.29 1095.51 L177.712 1106.13 L188.29 1116.71 L185.536 1119.51 L174.911 1108.89 L164.286 1119.51 L161.554 1116.71 L172.11 1106.13 L161.554 1095.51 L164.286 1092.71 L174.911 1103.33 L185.536 1092.71 L188.29 1095.51 Z\" fill=\"#000000\" fill-rule=\"evenodd\" fill-opacity=\"1\" /><path clip-path=\"url(#clip540)\" d=\"M200.651 1117.03 L208.29 1117.03 L208.29 1090.67 L199.98 1092.34 L199.98 1088.08 L208.244 1086.41 L212.92 1086.41 L212.92 1117.03 L220.559 1117.03 L220.559 1120.97 L200.651 1120.97 L200.651 1117.03 Z\" fill=\"#000000\" fill-rule=\"evenodd\" fill-opacity=\"1\" /><path clip-path=\"url(#clip540)\" d=\"M240.003 1089.49 Q236.392 1089.49 234.563 1093.05 Q232.758 1096.59 232.758 1103.72 Q232.758 1110.83 234.563 1114.4 Q236.392 1117.94 240.003 1117.94 Q243.637 1117.94 245.443 1114.4 Q247.271 1110.83 247.271 1103.72 Q247.271 1096.59 245.443 1093.05 Q243.637 1089.49 240.003 1089.49 M240.003 1085.78 Q245.813 1085.78 248.869 1090.39 Q251.947 1094.97 251.947 1103.72 Q251.947 1112.45 248.869 1117.06 Q245.813 1121.64 240.003 1121.64 Q234.193 1121.64 231.114 1117.06 Q228.059 1112.45 228.059 1103.72 Q228.059 1094.97 231.114 1090.39 Q234.193 1085.78 240.003 1085.78 Z\" fill=\"#000000\" fill-rule=\"evenodd\" fill-opacity=\"1\" /><path clip-path=\"url(#clip540)\" d=\"M264.643 1078.42 Q267.37 1079 268.893 1080.85 Q270.435 1082.69 270.435 1085.4 Q270.435 1089.55 267.577 1091.83 Q264.718 1094.1 259.452 1094.1 Q257.684 1094.1 255.803 1093.75 Q253.941 1093.41 251.947 1092.71 L251.947 1089.05 Q253.527 1089.97 255.408 1090.44 Q257.289 1090.91 259.339 1090.91 Q262.912 1090.91 264.774 1089.5 Q266.655 1088.09 266.655 1085.4 Q266.655 1082.91 264.906 1081.52 Q263.176 1080.11 260.072 1080.11 L256.8 1080.11 L256.8 1076.99 L260.223 1076.99 Q263.025 1076.99 264.511 1075.88 Q265.997 1074.75 265.997 1072.65 Q265.997 1070.48 264.455 1069.34 Q262.931 1068.17 260.072 1068.17 Q258.511 1068.17 256.725 1068.51 Q254.938 1068.85 252.794 1069.56 L252.794 1066.18 Q254.957 1065.57 256.837 1065.27 Q258.737 1064.97 260.411 1064.97 Q264.737 1064.97 267.257 1066.95 Q269.777 1068.9 269.777 1072.25 Q269.777 1074.58 268.442 1076.2 Q267.106 1077.8 264.643 1078.42 Z\" fill=\"#000000\" fill-rule=\"evenodd\" fill-opacity=\"1\" /><path clip-path=\"url(#clip540)\" d=\"M53.3995 780.497 L61.0384 780.497 L61.0384 754.131 L52.7282 755.798 L52.7282 751.539 L60.9921 749.872 L65.668 749.872 L65.668 780.497 L73.3068 780.497 L73.3068 784.432 L53.3995 784.432 L53.3995 780.497 Z\" fill=\"#000000\" fill-rule=\"evenodd\" fill-opacity=\"1\" /><path clip-path=\"url(#clip540)\" d=\"M82.7512 778.552 L87.6354 778.552 L87.6354 784.432 L82.7512 784.432 L82.7512 778.552 Z\" fill=\"#000000\" fill-rule=\"evenodd\" fill-opacity=\"1\" /><path clip-path=\"url(#clip540)\" d=\"M107.821 752.951 Q104.209 752.951 102.381 756.515 Q100.575 760.057 100.575 767.187 Q100.575 774.293 102.381 777.858 Q104.209 781.4 107.821 781.4 Q111.455 781.4 113.26 777.858 Q115.089 774.293 115.089 767.187 Q115.089 760.057 113.26 756.515 Q111.455 752.951 107.821 752.951 M107.821 749.247 Q113.631 749.247 116.686 753.853 Q119.765 758.437 119.765 767.187 Q119.765 775.914 116.686 780.52 Q113.631 785.103 107.821 785.103 Q102.01 785.103 98.9317 780.52 Q95.8761 775.914 95.8761 767.187 Q95.8761 758.437 98.9317 753.853 Q102.01 749.247 107.821 749.247 Z\" fill=\"#000000\" fill-rule=\"evenodd\" fill-opacity=\"1\" /><path clip-path=\"url(#clip540)\" d=\"M137.982 752.951 Q134.371 752.951 132.543 756.515 Q130.737 760.057 130.737 767.187 Q130.737 774.293 132.543 777.858 Q134.371 781.4 137.982 781.4 Q141.617 781.4 143.422 777.858 Q145.251 774.293 145.251 767.187 Q145.251 760.057 143.422 756.515 Q141.617 752.951 137.982 752.951 M137.982 749.247 Q143.793 749.247 146.848 753.853 Q149.927 758.437 149.927 767.187 Q149.927 775.914 146.848 780.52 Q143.793 785.103 137.982 785.103 Q132.172 785.103 129.094 780.52 Q126.038 775.914 126.038 767.187 Q126.038 758.437 129.094 753.853 Q132.172 749.247 137.982 749.247 Z\" fill=\"#000000\" fill-rule=\"evenodd\" fill-opacity=\"1\" /><path clip-path=\"url(#clip540)\" d=\"M186.315 758.969 L175.737 769.594 L186.315 780.173 L183.561 782.974 L172.936 772.349 L162.311 782.974 L159.58 780.173 L170.135 769.594 L159.58 758.969 L162.311 756.168 L172.936 766.793 L183.561 756.168 L186.315 758.969 Z\" fill=\"#000000\" fill-rule=\"evenodd\" fill-opacity=\"1\" /><path clip-path=\"url(#clip540)\" d=\"M198.677 780.497 L206.315 780.497 L206.315 754.131 L198.005 755.798 L198.005 751.539 L206.269 749.872 L210.945 749.872 L210.945 780.497 L218.584 780.497 L218.584 784.432 L198.677 784.432 L198.677 780.497 Z\" fill=\"#000000\" fill-rule=\"evenodd\" fill-opacity=\"1\" /><path clip-path=\"url(#clip540)\" d=\"M238.028 752.951 Q234.417 752.951 232.588 756.515 Q230.783 760.057 230.783 767.187 Q230.783 774.293 232.588 777.858 Q234.417 781.4 238.028 781.4 Q241.662 781.4 243.468 777.858 Q245.297 774.293 245.297 767.187 Q245.297 760.057 243.468 756.515 Q241.662 752.951 238.028 752.951 M238.028 749.247 Q243.838 749.247 246.894 753.853 Q249.973 758.437 249.973 767.187 Q249.973 775.914 246.894 780.52 Q243.838 785.103 238.028 785.103 Q232.218 785.103 229.139 780.52 Q226.084 775.914 226.084 767.187 Q226.084 758.437 229.139 753.853 Q232.218 749.247 238.028 749.247 Z\" fill=\"#000000\" fill-rule=\"evenodd\" fill-opacity=\"1\" /><path clip-path=\"url(#clip540)\" d=\"M262.649 732.252 L253.057 747.242 L262.649 747.242 L262.649 732.252 M261.652 728.942 L266.429 728.942 L266.429 747.242 L270.435 747.242 L270.435 750.401 L266.429 750.401 L266.429 757.022 L262.649 757.022 L262.649 750.401 L249.973 750.401 L249.973 746.734 L261.652 728.942 Z\" fill=\"#000000\" fill-rule=\"evenodd\" fill-opacity=\"1\" /><path clip-path=\"url(#clip540)\" d=\"M53.3995 443.959 L61.0384 443.959 L61.0384 417.593 L52.7282 419.26 L52.7282 415.001 L60.9921 413.334 L65.668 413.334 L65.668 443.959 L73.3068 443.959 L73.3068 447.894 L53.3995 447.894 L53.3995 443.959 Z\" fill=\"#000000\" fill-rule=\"evenodd\" fill-opacity=\"1\" /><path clip-path=\"url(#clip540)\" d=\"M82.7512 442.015 L87.6354 442.015 L87.6354 447.894 L82.7512 447.894 L82.7512 442.015 Z\" fill=\"#000000\" fill-rule=\"evenodd\" fill-opacity=\"1\" /><path clip-path=\"url(#clip540)\" d=\"M97.8669 413.334 L116.223 413.334 L116.223 417.269 L102.149 417.269 L102.149 425.741 Q103.168 425.394 104.186 425.232 Q105.205 425.047 106.223 425.047 Q112.01 425.047 115.39 428.218 Q118.77 431.39 118.77 436.806 Q118.77 442.385 115.297 445.487 Q111.825 448.565 105.506 448.565 Q103.33 448.565 101.061 448.195 Q98.8159 447.825 96.4085 447.084 L96.4085 442.385 Q98.4919 443.519 100.714 444.075 Q102.936 444.63 105.413 444.63 Q109.418 444.63 111.756 442.524 Q114.094 440.417 114.094 436.806 Q114.094 433.195 111.756 431.089 Q109.418 428.982 105.413 428.982 Q103.538 428.982 101.663 429.399 Q99.8113 429.816 97.8669 430.695 L97.8669 413.334 Z\" fill=\"#000000\" fill-rule=\"evenodd\" fill-opacity=\"1\" /><path clip-path=\"url(#clip540)\" d=\"M137.982 416.413 Q134.371 416.413 132.543 419.978 Q130.737 423.519 130.737 430.649 Q130.737 437.755 132.543 441.32 Q134.371 444.862 137.982 444.862 Q141.617 444.862 143.422 441.32 Q145.251 437.755 145.251 430.649 Q145.251 423.519 143.422 419.978 Q141.617 416.413 137.982 416.413 M137.982 412.709 Q143.793 412.709 146.848 417.316 Q149.927 421.899 149.927 430.649 Q149.927 439.376 146.848 443.982 Q143.793 448.565 137.982 448.565 Q132.172 448.565 129.094 443.982 Q126.038 439.376 126.038 430.649 Q126.038 421.899 129.094 417.316 Q132.172 412.709 137.982 412.709 Z\" fill=\"#000000\" fill-rule=\"evenodd\" fill-opacity=\"1\" /><path clip-path=\"url(#clip540)\" d=\"M186.315 422.431 L175.737 433.056 L186.315 443.635 L183.561 446.436 L172.936 435.811 L162.311 446.436 L159.58 443.635 L170.135 433.056 L159.58 422.431 L162.311 419.63 L172.936 430.255 L183.561 419.63 L186.315 422.431 Z\" fill=\"#000000\" fill-rule=\"evenodd\" fill-opacity=\"1\" /><path clip-path=\"url(#clip540)\" d=\"M198.677 443.959 L206.315 443.959 L206.315 417.593 L198.005 419.26 L198.005 415.001 L206.269 413.334 L210.945 413.334 L210.945 443.959 L218.584 443.959 L218.584 447.894 L198.677 447.894 L198.677 443.959 Z\" fill=\"#000000\" fill-rule=\"evenodd\" fill-opacity=\"1\" /><path clip-path=\"url(#clip540)\" d=\"M238.028 416.413 Q234.417 416.413 232.588 419.978 Q230.783 423.519 230.783 430.649 Q230.783 437.755 232.588 441.32 Q234.417 444.862 238.028 444.862 Q241.662 444.862 243.468 441.32 Q245.297 437.755 245.297 430.649 Q245.297 423.519 243.468 419.978 Q241.662 416.413 238.028 416.413 M238.028 412.709 Q243.838 412.709 246.894 417.316 Q249.973 421.899 249.973 430.649 Q249.973 439.376 246.894 443.982 Q243.838 448.565 238.028 448.565 Q232.218 448.565 229.139 443.982 Q226.084 439.376 226.084 430.649 Q226.084 421.899 229.139 417.316 Q232.218 412.709 238.028 412.709 Z\" fill=\"#000000\" fill-rule=\"evenodd\" fill-opacity=\"1\" /><path clip-path=\"url(#clip540)\" d=\"M262.649 395.714 L253.057 410.704 L262.649 410.704 L262.649 395.714 M261.652 392.404 L266.429 392.404 L266.429 410.704 L270.435 410.704 L270.435 413.863 L266.429 413.863 L266.429 420.484 L262.649 420.484 L262.649 413.863 L249.973 413.863 L249.973 410.196 L261.652 392.404 Z\" fill=\"#000000\" fill-rule=\"evenodd\" fill-opacity=\"1\" /><path clip-path=\"url(#clip540)\" d=\"M56.6171 107.421 L72.9365 107.421 L72.9365 111.356 L50.9921 111.356 L50.9921 107.421 Q53.6541 104.666 58.2375 100.037 Q62.8439 95.3841 64.0245 94.0415 Q66.2698 91.5184 67.1494 89.7823 Q68.0522 88.023 68.0522 86.3332 Q68.0522 83.5786 66.1078 81.8425 Q64.1865 80.1064 61.0847 80.1064 Q58.8856 80.1064 56.4319 80.8703 Q54.0014 81.6342 51.2236 83.1851 L51.2236 78.4629 Q54.0477 77.3286 56.5014 76.7499 Q58.955 76.1712 60.9921 76.1712 Q66.3624 76.1712 69.5568 78.8564 Q72.7513 81.5416 72.7513 86.0323 Q72.7513 88.1619 71.9411 90.0832 Q71.1541 91.9813 69.0476 94.5739 Q68.4689 95.2452 65.367 98.4628 Q62.2652 101.657 56.6171 107.421 Z\" fill=\"#000000\" fill-rule=\"evenodd\" fill-opacity=\"1\" /><path clip-path=\"url(#clip540)\" d=\"M82.7512 105.477 L87.6354 105.477 L87.6354 111.356 L82.7512 111.356 L82.7512 105.477 Z\" fill=\"#000000\" fill-rule=\"evenodd\" fill-opacity=\"1\" /><path clip-path=\"url(#clip540)\" d=\"M107.821 79.8749 Q104.209 79.8749 102.381 83.4397 Q100.575 86.9814 100.575 94.111 Q100.575 101.217 102.381 104.782 Q104.209 108.324 107.821 108.324 Q111.455 108.324 113.26 104.782 Q115.089 101.217 115.089 94.111 Q115.089 86.9814 113.26 83.4397 Q111.455 79.8749 107.821 79.8749 M107.821 76.1712 Q113.631 76.1712 116.686 80.7777 Q119.765 85.361 119.765 94.111 Q119.765 102.838 116.686 107.444 Q113.631 112.028 107.821 112.028 Q102.01 112.028 98.9317 107.444 Q95.8761 102.838 95.8761 94.111 Q95.8761 85.361 98.9317 80.7777 Q102.01 76.1712 107.821 76.1712 Z\" fill=\"#000000\" fill-rule=\"evenodd\" fill-opacity=\"1\" /><path clip-path=\"url(#clip540)\" d=\"M137.982 79.8749 Q134.371 79.8749 132.543 83.4397 Q130.737 86.9814 130.737 94.111 Q130.737 101.217 132.543 104.782 Q134.371 108.324 137.982 108.324 Q141.617 108.324 143.422 104.782 Q145.251 101.217 145.251 94.111 Q145.251 86.9814 143.422 83.4397 Q141.617 79.8749 137.982 79.8749 M137.982 76.1712 Q143.793 76.1712 146.848 80.7777 Q149.927 85.361 149.927 94.111 Q149.927 102.838 146.848 107.444 Q143.793 112.028 137.982 112.028 Q132.172 112.028 129.094 107.444 Q126.038 102.838 126.038 94.111 Q126.038 85.361 129.094 80.7777 Q132.172 76.1712 137.982 76.1712 Z\" fill=\"#000000\" fill-rule=\"evenodd\" fill-opacity=\"1\" /><path clip-path=\"url(#clip540)\" d=\"M186.315 85.8934 L175.737 96.5184 L186.315 107.097 L183.561 109.898 L172.936 99.273 L162.311 109.898 L159.58 107.097 L170.135 96.5184 L159.58 85.8934 L162.311 83.0925 L172.936 93.7174 L183.561 83.0925 L186.315 85.8934 Z\" fill=\"#000000\" fill-rule=\"evenodd\" fill-opacity=\"1\" /><path clip-path=\"url(#clip540)\" d=\"M198.677 107.421 L206.315 107.421 L206.315 81.0555 L198.005 82.7221 L198.005 78.4629 L206.269 76.7962 L210.945 76.7962 L210.945 107.421 L218.584 107.421 L218.584 111.356 L198.677 111.356 L198.677 107.421 Z\" fill=\"#000000\" fill-rule=\"evenodd\" fill-opacity=\"1\" /><path clip-path=\"url(#clip540)\" d=\"M238.028 79.8749 Q234.417 79.8749 232.588 83.4397 Q230.783 86.9814 230.783 94.111 Q230.783 101.217 232.588 104.782 Q234.417 108.324 238.028 108.324 Q241.662 108.324 243.468 104.782 Q245.297 101.217 245.297 94.111 Q245.297 86.9814 243.468 83.4397 Q241.662 79.8749 238.028 79.8749 M238.028 76.1712 Q243.838 76.1712 246.894 80.7777 Q249.973 85.361 249.973 94.111 Q249.973 102.838 246.894 107.444 Q243.838 112.028 238.028 112.028 Q232.218 112.028 229.139 107.444 Q226.084 102.838 226.084 94.111 Q226.084 85.361 229.139 80.7777 Q232.218 76.1712 238.028 76.1712 Z\" fill=\"#000000\" fill-rule=\"evenodd\" fill-opacity=\"1\" /><path clip-path=\"url(#clip540)\" d=\"M262.649 59.176 L253.057 74.1658 L262.649 74.1658 L262.649 59.176 M261.652 55.8658 L266.429 55.8658 L266.429 74.1658 L270.435 74.1658 L270.435 77.3255 L266.429 77.3255 L266.429 83.9458 L262.649 83.9458 L262.649 77.3255 L249.973 77.3255 L249.973 73.658 L261.652 55.8658 Z\" fill=\"#000000\" fill-rule=\"evenodd\" fill-opacity=\"1\" /><polyline clip-path=\"url(#clip542)\" style=\"stroke:#009af9; stroke-linecap:round; stroke-linejoin:round; stroke-width:4; stroke-opacity:1; fill:none\" points=\"364.35,1433.78 367.492,1389.96 370.634,1346.14 373.777,1302.32 376.919,1258.5 391.445,1055.9 405.972,853.309 420.499,650.715 435.026,448.121 442.289,346.825 449.553,245.528 453.184,194.879 456.816,144.231 457.724,131.569 458.632,118.907 459.54,106.244 460.448,93.5823 461.356,87.6286 462.264,87.6286 463.172,87.6286 464.079,87.6286 467.711,87.6286 471.343,87.6286 474.975,87.6286 478.606,87.6286 485.87,87.6286 493.133,87.6286 510.593,87.6286 528.053,87.6286 545.513,87.6286 562.973,87.6286 592.498,87.6286 622.022,87.6286 686.166,87.6286 745.3,87.6286 808.699,87.6286 882.152,87.6286 947.429,87.6286 1004.67,87.6286 1067.08,87.6286 1129.86,87.6286 1199.27,87.6286 1265.31,87.6286 1333.98,87.6286 1391.79,87.6286 1462.36,87.6286 1527.01,87.6286 1586.72,87.6286 1647.2,87.6286 1714.99,87.6286 1776.41,87.6286 1846.74,87.6286 1911.86,87.6286 1976.05,87.6286 2038.38,87.6286 2102.28,87.6286 2172.28,87.6286 2273.98,87.6286 2294.84,87.6286 \"/>\n",
       "<path clip-path=\"url(#clip540)\" d=\"M2027.48 1426.6 L2284.55 1426.6 L2284.55 1322.92 L2027.48 1322.92  Z\" fill=\"#ffffff\" fill-rule=\"evenodd\" fill-opacity=\"1\"/>\n",
       "<polyline clip-path=\"url(#clip540)\" style=\"stroke:#000000; stroke-linecap:round; stroke-linejoin:round; stroke-width:4; stroke-opacity:1; fill:none\" points=\"2027.48,1426.6 2284.55,1426.6 2284.55,1322.92 2027.48,1322.92 2027.48,1426.6 \"/>\n",
       "<polyline clip-path=\"url(#clip540)\" style=\"stroke:#009af9; stroke-linecap:round; stroke-linejoin:round; stroke-width:4; stroke-opacity:1; fill:none\" points=\"2050.22,1374.76 2186.64,1374.76 \"/>\n",
       "<path clip-path=\"url(#clip540)\" d=\"M2223.22 1394.45 Q2221.42 1399.08 2219.7 1400.49 Q2217.99 1401.9 2215.12 1401.9 L2211.72 1401.9 L2211.72 1398.34 L2214.22 1398.34 Q2215.98 1398.34 2216.95 1397.5 Q2217.92 1396.67 2219.1 1393.57 L2219.86 1391.62 L2209.38 1366.11 L2213.89 1366.11 L2221.99 1386.39 L2230.1 1366.11 L2234.61 1366.11 L2223.22 1394.45 Z\" fill=\"#000000\" fill-rule=\"evenodd\" fill-opacity=\"1\" /><path clip-path=\"url(#clip540)\" d=\"M2241.9 1388.11 L2249.54 1388.11 L2249.54 1361.74 L2241.23 1363.41 L2241.23 1359.15 L2249.49 1357.48 L2254.17 1357.48 L2254.17 1388.11 L2261.81 1388.11 L2261.81 1392.04 L2241.9 1392.04 L2241.9 1388.11 Z\" fill=\"#000000\" fill-rule=\"evenodd\" fill-opacity=\"1\" /></svg>\n"
      ]
     },
     "execution_count": 11,
     "metadata": {},
     "output_type": "execute_result"
    }
   ],
   "source": [
    "function ϕ_fun(ϕ)  \n",
    "    if ϕ <= uTran2_EP\n",
    "      return ((phiMaxApp - phiMin)/uTran2_EP)*ϕ + phiMin\n",
    "    else\n",
    "     return  phiMaxApp\n",
    "    end\n",
    "end \n",
    "plot(ϕ_fun,0,uMax)"
   ]
  },
  {
   "cell_type": "code",
   "execution_count": 12,
   "id": "a6f2ac22",
   "metadata": {},
   "outputs": [
    {
     "data": {
      "text/plain": [
       "100-element Vector{Float64}:\n",
       "     0.0\n",
       "  4040.4040404040406\n",
       "  8080.808080808081\n",
       " 12121.212121212122\n",
       " 16161.616161616163\n",
       " 20000.0\n",
       " 20000.0\n",
       " 20000.0\n",
       " 20000.0\n",
       " 20000.0\n",
       " 20000.0\n",
       " 20000.0\n",
       " 20000.0\n",
       "     ⋮\n",
       " 20000.0\n",
       " 20000.0\n",
       " 20000.0\n",
       " 20000.0\n",
       " 20000.0\n",
       " 20000.0\n",
       " 20000.0\n",
       " 20000.0\n",
       " 20000.0\n",
       " 20000.0\n",
       " 20000.0\n",
       " 20000.0"
      ]
     },
     "execution_count": 12,
     "metadata": {},
     "output_type": "execute_result"
    }
   ],
   "source": [
    "uAppVec = range(0,uMax,length = Int64(floor(tMax/delt)))\n",
    "\n",
    "AppTOption = 1 ## 1 for smooth and otherwise linear than constant\n",
    "\n",
    "if AppTOption == 1\n",
    "    TAppVec = smoothT.(uAppVec)\n",
    "  else\n",
    "    TAppVec = Tfun.(uAppVec) \n",
    "end \n",
    "\n",
    "AppϕOption = 2 ## 1 for smooth and otherwise linear than constant\n",
    "\n",
    "if AppϕOption == 1\n",
    "    ϕAppVec = smoothϕ.(uAppVec)\n",
    "  else\n",
    "    ϕAppVec = ϕ_fun.(uAppVec) \n",
    "end "
   ]
  },
  {
   "cell_type": "code",
   "execution_count": 13,
   "id": "meaningful-haven",
   "metadata": {
    "scrolled": false
   },
   "outputs": [
    {
     "data": {
      "text/plain": [
       "24826-element Vector{Int8}:\n",
       " 6\n",
       " 6\n",
       " 6\n",
       " 6\n",
       " 6\n",
       " 6\n",
       " 6\n",
       " 6\n",
       " 6\n",
       " 6\n",
       " 6\n",
       " 6\n",
       " 6\n",
       " ⋮\n",
       " 6\n",
       " 6\n",
       " 6\n",
       " 6\n",
       " 6\n",
       " 6\n",
       " 6\n",
       " 6\n",
       " 6\n",
       " 6\n",
       " 6\n",
       " 6"
      ]
     },
     "execution_count": 13,
     "metadata": {},
     "output_type": "execute_result"
    }
   ],
   "source": [
    "using Gridap.Geometry\n",
    "labels = get_face_labeling(model)\n",
    "dimension = 2\n",
    "mat_tags = get_face_tag(labels,dimension)"
   ]
  },
  {
   "cell_type": "code",
   "execution_count": 14,
   "id": "forty-hollow",
   "metadata": {},
   "outputs": [
    {
     "data": {
      "text/plain": [
       "6"
      ]
     },
     "execution_count": 14,
     "metadata": {},
     "output_type": "execute_result"
    }
   ],
   "source": [
    "const Mat_tag = get_tag_from_name(labels,\"Domain\")"
   ]
  },
  {
   "cell_type": "code",
   "execution_count": 15,
   "id": "073712cd",
   "metadata": {},
   "outputs": [
    {
     "data": {
      "text/plain": [
       "2"
      ]
     },
     "execution_count": 15,
     "metadata": {},
     "output_type": "execute_result"
    }
   ],
   "source": [
    "order = 1\n",
    "degree = 2*order"
   ]
  },
  {
   "cell_type": "code",
   "execution_count": 16,
   "id": "1a5f25aa",
   "metadata": {},
   "outputs": [
    {
     "data": {
      "text/plain": [
       "Measure()"
      ]
     },
     "execution_count": 16,
     "metadata": {},
     "output_type": "execute_result"
    }
   ],
   "source": [
    "Ω = Triangulation(model)\n",
    "dΩ = Measure(Ω,degree)"
   ]
  },
  {
   "cell_type": "code",
   "execution_count": 17,
   "id": "57eb0e87",
   "metadata": {},
   "outputs": [
    {
     "data": {
      "text/plain": [
       "UnconstrainedFESpace()"
      ]
     },
     "execution_count": 17,
     "metadata": {},
     "output_type": "execute_result"
    }
   ],
   "source": [
    "reffe = ReferenceFE(lagrangian,Float64,order)\n",
    "V1  = FESpace(model,reffe;conformity=:H1)"
   ]
  },
  {
   "cell_type": "code",
   "execution_count": 18,
   "id": "de862a27",
   "metadata": {},
   "outputs": [
    {
     "data": {
      "text/plain": [
       "CellPoint()"
      ]
     },
     "execution_count": 18,
     "metadata": {},
     "output_type": "execute_result"
    }
   ],
   "source": [
    "p = get_cell_points(Ω)"
   ]
  },
  {
   "cell_type": "code",
   "execution_count": 19,
   "id": "4ad738cc",
   "metadata": {},
   "outputs": [
    {
     "data": {
      "text/plain": [
       "Property (generic function with 1 method)"
      ]
     },
     "execution_count": 19,
     "metadata": {},
     "output_type": "execute_result"
    }
   ],
   "source": [
    "Property(B,P,y) = (((B-P)/L)*y)+P"
   ]
  },
  {
   "cell_type": "markdown",
   "id": "roman-infrastructure",
   "metadata": {},
   "source": [
    "## Input paramters for Piezo-Electric Material Properties"
   ]
  },
  {
   "cell_type": "markdown",
   "id": "foreign-anderson",
   "metadata": {},
   "source": [
    "#### Input elasticity parameters"
   ]
  },
  {
   "cell_type": "code",
   "execution_count": 20,
   "id": "c4157c17",
   "metadata": {},
   "outputs": [
    {
     "data": {
      "text/plain": [
       "SingleFieldFEFunction():\n",
       " num_cells: 24826\n",
       " DomainStyle: ReferenceDomain()\n",
       " Triangulation: BodyFittedTriangulation()\n",
       " Triangulation id: 17172206463743120248"
      ]
     },
     "execution_count": 20,
     "metadata": {},
     "output_type": "execute_result"
    }
   ],
   "source": [
    "c_p = lambdify(Property(421,350,y))\n",
    "ρ_p = lambdify(Property(5700,7500,y))\n",
    "\n",
    "c_i(p) = c_p.(p[1])\n",
    "ρ_i(p) = ρ_p.(p[1])\n",
    "\n",
    "c = interpolate_everywhere(c_i,V1)\n",
    "ρ = interpolate_everywhere(ρ_i,V1)"
   ]
  },
  {
   "cell_type": "markdown",
   "id": "superior-compensation",
   "metadata": {},
   "source": [
    "#### Input fracture parameters"
   ]
  },
  {
   "cell_type": "code",
   "execution_count": 21,
   "id": "acute-carry",
   "metadata": {},
   "outputs": [
    {
     "data": {
      "text/plain": [
       "1.0e-8"
      ]
     },
     "execution_count": 21,
     "metadata": {},
     "output_type": "execute_result"
    }
   ],
   "source": [
    "Gc_p = lambdify(Property(200,300,y))\n",
    "Gc_i(p) = Gc_p.(p[1])\n",
    "Gc = interpolate_everywhere(Gc_i,V1)\n",
    "\n",
    "\n",
    "const η = 1e-8"
   ]
  },
  {
   "cell_type": "markdown",
   "id": "biological-struggle",
   "metadata": {},
   "source": [
    "## COnstitutive Matrices"
   ]
  },
  {
   "cell_type": "markdown",
   "id": "decent-model",
   "metadata": {},
   "source": [
    "### Elastic stiffness tensor"
   ]
  },
  {
   "cell_type": "code",
   "execution_count": 22,
   "id": "cad00dd2",
   "metadata": {},
   "outputs": [
    {
     "data": {
      "text/plain": [
       "SingleFieldFEFunction():\n",
       " num_cells: 24826\n",
       " DomainStyle: ReferenceDomain()\n",
       " Triangulation: BodyFittedTriangulation()\n",
       " Triangulation id: 17172206463743120248"
      ]
     },
     "execution_count": 22,
     "metadata": {},
     "output_type": "execute_result"
    }
   ],
   "source": [
    "const C₁₁_mat_B = 166e9\n",
    "const C₁₂_mat_B = 78e9\n",
    "const C₂₂_mat_B = 162e9\n",
    "const C₆₆_mat_B = 43e9\n",
    "\n",
    "const C₁₁_mat_P = 139e9\n",
    "const C₁₂_mat_P = 74.3e9\n",
    "const C₂₂_mat_P = 113e9\n",
    "const C₆₆_mat_P = 25.6e9\n",
    "\n",
    "C₁₁_mat_p = lambdify(Property(C₁₁_mat_B,C₁₁_mat_P,y))\n",
    "C₁₂_mat_p = lambdify(Property(C₁₂_mat_B,C₁₂_mat_P,y))\n",
    "C₂₂_mat_p = lambdify(Property(C₂₂_mat_B,C₂₂_mat_P,y))\n",
    "C₆₆_mat_p = lambdify(Property(C₆₆_mat_B,C₆₆_mat_P,y))\n",
    "\n",
    "C₁₁_Mat(p) = C₁₁_mat_p.(p[1])\n",
    "C₁₂_Mat(p) = C₁₂_mat_p.(p[1])\n",
    "C₂₂_Mat(p) = C₂₂_mat_p.(p[1])\n",
    "C₆₆_Mat(p) = C₆₆_mat_p.(p[1])\n",
    "\n",
    "C₁₁_mat = interpolate_everywhere(C₁₁_Mat,V1)\n",
    "C₁₂_mat = interpolate_everywhere(C₁₂_Mat,V1)\n",
    "C₂₂_mat = interpolate_everywhere(C₂₂_Mat,V1)\n",
    "C₆₆_mat = interpolate_everywhere(C₆₆_Mat,V1)"
   ]
  },
  {
   "cell_type": "code",
   "execution_count": 23,
   "id": "b40f5f7d",
   "metadata": {},
   "outputs": [
    {
     "data": {
      "text/plain": [
       "ElasFourthOrderConstTensor (generic function with 1 method)"
      ]
     },
     "execution_count": 23,
     "metadata": {},
     "output_type": "execute_result"
    }
   ],
   "source": [
    "function ElasFourthOrderConstTensor(C₁₁,C₁₂,C₂₂,C₆₆)\n",
    "      C1111 = C₁₁\n",
    "      C1122 = C₁₂\n",
    "      C1112 = 0.0\n",
    "      C2222 = C₂₂\n",
    "      C2212 = 0.0\n",
    "      C1212 = C₆₆    \n",
    "      C_ten = SymFourthOrderTensorValue(C1111,C1112,C1122,C1112,C1212,C2212,C1122,C2212,C2222)\n",
    "    return  C_ten\n",
    "end"
   ]
  },
  {
   "cell_type": "markdown",
   "id": "private-nebraska",
   "metadata": {},
   "source": [
    "### Third order piezoelectric tensor"
   ]
  },
  {
   "cell_type": "code",
   "execution_count": 24,
   "id": "8ef9d403",
   "metadata": {},
   "outputs": [
    {
     "data": {
      "text/plain": [
       "e₁₆_mat_i (generic function with 1 method)"
      ]
     },
     "execution_count": 24,
     "metadata": {},
     "output_type": "execute_result"
    }
   ],
   "source": [
    "e₂₁_mat_B = -4.4\n",
    "e₂₂_mat_B = 18.6\n",
    "e₁₆_mat_B = 11.6\n",
    "\n",
    "e₂₁_mat_P = -6.98\n",
    "e₂₂_mat_P = 13.84\n",
    "e₁₆_mat_P = 13.44\n",
    "\n",
    "e₂₁_mat_p = lambdify(Property(e₂₁_mat_B,e₂₁_mat_P,y))\n",
    "e₂₂_mat_p = lambdify(Property(e₂₂_mat_B,e₂₂_mat_P,y))\n",
    "e₁₆_mat_p = lambdify(Property(e₁₆_mat_B,e₁₆_mat_P,y))\n",
    "\n",
    "e₂₁_mat_i(p) = e₂₁_mat_p.(p[1])\n",
    "e₂₂_mat_i(p) = e₂₂_mat_p.(p[1])\n",
    "e₁₆_mat_i(p) = e₁₆_mat_p.(p[1])"
   ]
  },
  {
   "cell_type": "code",
   "execution_count": 25,
   "id": "15a37d1c",
   "metadata": {},
   "outputs": [
    {
     "data": {
      "text/plain": [
       "SingleFieldFEFunction():\n",
       " num_cells: 24826\n",
       " DomainStyle: ReferenceDomain()\n",
       " Triangulation: BodyFittedTriangulation()\n",
       " Triangulation id: 17172206463743120248"
      ]
     },
     "execution_count": 25,
     "metadata": {},
     "output_type": "execute_result"
    }
   ],
   "source": [
    "e₂₁_mat = interpolate_everywhere(e₂₁_mat_i,V1)\n",
    "e₂₂_mat = interpolate_everywhere(e₂₂_mat_i,V1)\n",
    "e₁₆_mat = interpolate_everywhere(e₁₆_mat_i,V1)"
   ]
  },
  {
   "cell_type": "code",
   "execution_count": 26,
   "id": "conventional-purse",
   "metadata": {},
   "outputs": [
    {
     "data": {
      "text/plain": [
       "PiezoThirdOrderConstTensor (generic function with 1 method)"
      ]
     },
     "execution_count": 26,
     "metadata": {},
     "output_type": "execute_result"
    }
   ],
   "source": [
    "function PiezoThirdOrderConstTensor(e₂₁,e₂₂,e₁₆)\n",
    "    # 1 for Plane Stress and 2 Plane Strain Condition \n",
    "      e111 = 0.0\n",
    "      e112 = e₁₆\n",
    "      e121 = e₁₆\n",
    "      e122 = 0.0\n",
    "      e211 = e₂₁\n",
    "      e212 = 0.0\n",
    "      e221 = 0.0\n",
    "      e222 = e₂₂   \n",
    "    vals = zeros(2,2,2);\n",
    "    vals[1,:,:] .= [e111 e112\n",
    "                    e121 e122]\n",
    "    vals[2,:,:] .= [e211 e212\n",
    "                    e221 e222]\n",
    "    Q = [0 1; -1 0]\n",
    "    E = zeros(2,2,2)\n",
    "    for i=1:2, j=1:2, k=1:2\n",
    "        for m=1:2, n=1:2, o=1:2\n",
    "            E[i,j,k] = E[i,j,k] + Q[i,m]*Q[j,n]*Q[k,o]*vals[m,n,o]\n",
    "        end\n",
    "    end\n",
    "    e_ten = ThirdOrderTensorValue(E)\n",
    "    return  e_ten\n",
    "end"
   ]
  },
  {
   "cell_type": "markdown",
   "id": "better-reminder",
   "metadata": {},
   "source": [
    "### Second order electrical permittivity tensor"
   ]
  },
  {
   "cell_type": "code",
   "execution_count": 27,
   "id": "468263ef",
   "metadata": {},
   "outputs": [
    {
     "data": {
      "text/plain": [
       "SingleFieldFEFunction():\n",
       " num_cells: 24826\n",
       " DomainStyle: ReferenceDomain()\n",
       " Triangulation: BodyFittedTriangulation()\n",
       " Triangulation id: 17172206463743120248"
      ]
     },
     "execution_count": 27,
     "metadata": {},
     "output_type": "execute_result"
    }
   ],
   "source": [
    "K₁₁_mat_p = lambdify(Property(11.2e-9,6e-9,y))\n",
    "K₂₂_mat_p = lambdify(Property(12.6e-9,6e-9,y))\n",
    "\n",
    "K₁₁_mat_i(p) = K₁₁_mat_p.(p[1])\n",
    "K₂₂_mat_i(p) = K₂₂_mat_p.(p[1])\n",
    "\n",
    "K₁₁_mat = interpolate_everywhere(K₁₁_mat_i,V1)\n",
    "K₂₂_mat = interpolate_everywhere(K₂₂_mat_i,V1)"
   ]
  },
  {
   "cell_type": "code",
   "execution_count": 28,
   "id": "developing-foundation",
   "metadata": {},
   "outputs": [
    {
     "data": {
      "text/plain": [
       "K_mat (generic function with 1 method)"
      ]
     },
     "execution_count": 28,
     "metadata": {},
     "output_type": "execute_result"
    }
   ],
   "source": [
    "K_mat(K₁₁,K₂₂) = TensorValue(K₁₁,0.0,0.0, K₂₂)"
   ]
  },
  {
   "cell_type": "markdown",
   "id": "d781dd61",
   "metadata": {},
   "source": [
    "### Thermal Coefficient"
   ]
  },
  {
   "cell_type": "code",
   "execution_count": 29,
   "id": "36799361",
   "metadata": {},
   "outputs": [
    {
     "data": {
      "text/plain": [
       "SingleFieldFEFunction():\n",
       " num_cells: 24826\n",
       " DomainStyle: ReferenceDomain()\n",
       " Triangulation: BodyFittedTriangulation()\n",
       " Triangulation id: 17172206463743120248"
      ]
     },
     "execution_count": 29,
     "metadata": {},
     "output_type": "execute_result"
    }
   ],
   "source": [
    "α₁₁_mat_p = lambdify(Property(15.7e-6,2.62e-6,y))\n",
    "α₂₂_mat_p = lambdify(Property(6.4e-6,1.97e-6,y))\n",
    "\n",
    "α₁₁_mat_i(p) = α₁₁_mat_p.(p[1])\n",
    "α₂₂_mat_i(p) = α₂₂_mat_p.(p[1])\n",
    "\n",
    "α₁₁_mat = interpolate_everywhere(α₁₁_mat_i,V1)\n",
    "α₂₂_mat = interpolate_everywhere(α₂₂_mat_i,V1)"
   ]
  },
  {
   "cell_type": "code",
   "execution_count": 30,
   "id": "20ba9560",
   "metadata": {},
   "outputs": [
    {
     "data": {
      "text/plain": [
       "α_mat (generic function with 1 method)"
      ]
     },
     "execution_count": 30,
     "metadata": {},
     "output_type": "execute_result"
    }
   ],
   "source": [
    "α_mat(α₁₁,α₂₂) = TensorValue(α₁₁,0.0,0.0, α₂₂)"
   ]
  },
  {
   "cell_type": "code",
   "execution_count": 31,
   "id": "8c95104d",
   "metadata": {},
   "outputs": [
    {
     "data": {
      "text/plain": [
       "κGradTemp (generic function with 1 method)"
      ]
     },
     "execution_count": 31,
     "metadata": {},
     "output_type": "execute_result"
    }
   ],
   "source": [
    "κ_mat_p = lambdify(Property(3.2,5.1,y))\n",
    "\n",
    "κ_mat_i(p) = κ_mat_p.(p[1])\n",
    "\n",
    "κ_mat = interpolate_everywhere(κ_mat_i,V1)\n",
    "\n",
    "κGradTemp(∇,s_in,κ) = (s_in^2 + η)*κ*∇"
   ]
  },
  {
   "cell_type": "markdown",
   "id": "nutritional-oliver",
   "metadata": {},
   "source": [
    "## Stress\n",
    "\n",
    "$\\sigma_{elas}(\\epsilon(\\boldsymbol{u})) =  \\mathbb{C}\\,\\boldsymbol{\\epsilon}$\n",
    "\n",
    "$\\sigma_{elasMod}(\\epsilon(\\boldsymbol{u}),s) =  \\mathbb{C}_{mod}\\,\\boldsymbol{\\epsilon}$\n",
    "\n",
    "$\\sigma_{piezo}(\\boldsymbol{E}(\\phi)) = - \\mathbb{e}^T\\,\\boldsymbol{E}$\n",
    "\n",
    "or, $\\sigma_{piezo}(\\nabla\\phi) =  \\mathbb{e}^T\\,\\boldsymbol{\\nabla}\\phi$\n",
    "\n",
    "$\\sigma_{piezoMod}(\\nabla\\phi,s) =  \\mathbb{e}_{mod}^T\\,\\boldsymbol{\\nabla}\\phi$"
   ]
  },
  {
   "cell_type": "code",
   "execution_count": 32,
   "id": "built-universe",
   "metadata": {},
   "outputs": [
    {
     "data": {
      "text/plain": [
       "σ_thermMod (generic function with 1 method)"
      ]
     },
     "execution_count": 32,
     "metadata": {},
     "output_type": "execute_result"
    }
   ],
   "source": [
    "σ_elas(ε,C₁₁,C₁₂,C₂₂,C₆₆) = (ElasFourthOrderConstTensor(C₁₁,C₁₂,C₂₂,C₆₆)) ⊙ ε\n",
    "\n",
    "function σ_elasMod(ε, T, ε_in, s_in, T_in,C₁₁,C₁₂,C₂₂,C₆₆,α₁₁,α₂₂)\n",
    "    εElas_in = ε_in - α_mat(α₁₁,α₂₂)*(T_in-T0)\n",
    "    εElas = ε - α_mat(α₁₁,α₂₂)*(T-T0)\n",
    "    if tr(εElas_in)  >= 0\n",
    "      σ = (s_in^2 + η)*σ_elas(εElas,C₁₁,C₁₂,C₂₂,C₆₆)\n",
    "    else\n",
    "      σ = (s_in^2 + η)*I4_dev ⊙ σ_elas(εElas,C₁₁,C₁₂,C₂₂,C₆₆) + I4_vol⊙ σ_elas(εElas,C₁₁,C₁₂,C₂₂,C₆₆)\n",
    "    end  \n",
    "    return σ\n",
    "end\n",
    "\n",
    "function σ_TotMod1(ε, ε_in, s_in, T_in,C₁₁,C₁₂,C₂₂,C₆₆,α₁₁,α₂₂)\n",
    "    εElas_in = ε_in - α_mat(α₁₁,α₂₂)*(T_in-T0)\n",
    "    εTot = ε\n",
    " if tr(εElas_in)  >= 0\n",
    "      σ = (s_in^2 + η)*σ_elas(εTot,C₁₁,C₁₂,C₂₂,C₆₆)\n",
    "  elseif tr(εElas_in) < 0\n",
    "      σ = (s_in^2 + η)*I4_dev ⊙ σ_elas(εTot,C₁₁,C₁₂,C₂₂,C₆₆) + I4_vol⊙ σ_elas(εTot,C₁₁,C₁₂,C₂₂,C₆₆)\n",
    "  end  \n",
    "    return σ\n",
    "end\n",
    "\n",
    "function σ_TotMod2(T, ε_in, s_in, T_in,C₁₁,C₁₂,C₂₂,C₆₆,α₁₁,α₂₂)\n",
    "    εElas_in = ε_in - α_mat(α₁₁,α₂₂)*(T_in-T0)\n",
    "    εElas = - α_mat(α₁₁,α₂₂)*T\n",
    " if tr(εElas_in)  >= 0\n",
    "      σ = (s_in^2 + η)*σ_elas(εElas,C₁₁,C₁₂,C₂₂,C₆₆)\n",
    "  elseif tr(εElas_in) < 0\n",
    "      σ = (s_in^2 + η)*I4_dev ⊙ σ_elas(εElas,C₁₁,C₁₂,C₂₂,C₆₆) + I4_vol ⊙ σ_elas(εElas,C₁₁,C₁₂,C₂₂,C₆₆)\n",
    "  end  \n",
    "    return σ\n",
    "end\n",
    "\n",
    "function σ_thermMod(ε_in,s_in,T_in,C₁₁,C₁₂,C₂₂,C₆₆,α₁₁,α₂₂)\n",
    "    \n",
    "   εElas_in = ε_in - α_mat(α₁₁,α₂₂)*(T_in-T0)\n",
    "   εElasTher = α_mat(α₁₁,α₂₂)*(T0)\n",
    "    if tr(εElas_in)  >= 0\n",
    "        σF = (s_in^2 + η)*σ_elas(εElasTher,C₁₁,C₁₂,C₂₂,C₆₆)\n",
    "    elseif tr(εElas_in) < 0\n",
    "        σF = (s_in^2 + η)*I4_dev ⊙ σ_elas(εElasTher,C₁₁,C₁₂,C₂₂,C₆₆) + I4_vol ⊙ σ_elas(εElasTher,C₁₁,C₁₂,C₂₂,C₆₆)\n",
    "    end  \n",
    "    return σF\n",
    "end"
   ]
  },
  {
   "cell_type": "code",
   "execution_count": 33,
   "id": "bc56b220",
   "metadata": {},
   "outputs": [
    {
     "data": {
      "text/plain": [
       "σ_piezoMod (generic function with 1 method)"
      ]
     },
     "execution_count": 33,
     "metadata": {},
     "output_type": "execute_result"
    }
   ],
   "source": [
    "σ_piezo(∇,e₂₁,e₂₂,e₁₆) = ∇ ⋅ PiezoThirdOrderConstTensor(e₂₁,e₂₂,e₁₆)\n",
    "\n",
    "σ_piezoMod(∇, s_in,e₂₁,e₂₂,e₁₆) = (s_in^2 + η)*σ_piezo(∇,e₂₁,e₂₂,e₁₆)"
   ]
  },
  {
   "cell_type": "markdown",
   "id": "average-petroleum",
   "metadata": {},
   "source": [
    "### Electric Displacement\n",
    "\n",
    "$\\boldsymbol{D}_{elas}(ε(\\boldsymbol{u}),tag) = \\mathbb{e}\\boldsymbol{\\epsilon}$\n",
    "\n",
    "$\\boldsymbol{D}_{elasMod}(ε(\\boldsymbol{u}),s,tag) = \\mathbb{e}_{mod}\\boldsymbol{\\epsilon}$\n",
    "\n",
    "$\\boldsymbol{D}_{piezo}(\\boldsymbol{E}(\\phi)) = -\\boldsymbol{K}\\boldsymbol{E} $\n",
    "\n",
    "or, $\\boldsymbol{D}_{piezo}(\\nabla\\phi)  = \\boldsymbol{K}\\boldsymbol{\\nabla} \\phi$\n",
    "\n",
    "$\\boldsymbol{D}_{piezoMod}(\\nabla\\phi,s)  = \\boldsymbol{K}_{mod}\\boldsymbol{\\nabla} \\phi$"
   ]
  },
  {
   "cell_type": "code",
   "execution_count": 34,
   "id": "f5be4d33",
   "metadata": {},
   "outputs": [
    {
     "data": {
      "text/plain": [
       "D_ThermMod (generic function with 1 method)"
      ]
     },
     "execution_count": 34,
     "metadata": {},
     "output_type": "execute_result"
    }
   ],
   "source": [
    "function D_elasMod1(ε, s_in, e₂₁, e₂₂, e₁₆)\n",
    "    εElas = ε\n",
    "    return (s_in^2 + η)*(PiezoThirdOrderConstTensor(e₂₁,e₂₂,e₁₆) ⋅² εElas)\n",
    "end\n",
    "\n",
    "function D_elasMod2(T, s_in, e₂₁, e₂₂, e₁₆, α₁₁, α₂₂)\n",
    "    εElas = - α_mat(α₁₁,α₂₂)*T\n",
    "    return (s_in^2 + η)*(PiezoThirdOrderConstTensor(e₂₁,e₂₂,e₁₆) ⋅² εElas)\n",
    "end\n",
    "\n",
    "function D_ThermMod(s_in, e₂₁, e₂₂, e₁₆, α₁₁, α₂₂)\n",
    "    εElas = α_mat(α₁₁,α₂₂)*T0\n",
    "    return (s_in^2 + η)*(PiezoThirdOrderConstTensor(e₂₁,e₂₂,e₁₆) ⋅² εElas)\n",
    "end"
   ]
  },
  {
   "cell_type": "code",
   "execution_count": 35,
   "id": "7c9f4d54",
   "metadata": {},
   "outputs": [
    {
     "data": {
      "text/plain": [
       "D_piezoMod (generic function with 1 method)"
      ]
     },
     "execution_count": 35,
     "metadata": {},
     "output_type": "execute_result"
    }
   ],
   "source": [
    "D_piezo(∇ ,K₁₁,K₂₂) = K_mat(K₁₁,K₂₂) ⋅ ∇\n",
    "\n",
    "function D_piezoMod(∇, s_in, K₁₁, K₂₂)   \n",
    "    return (s_in^2 + η)*D_piezo(∇ ,K₁₁,K₂₂)\n",
    "end"
   ]
  },
  {
   "cell_type": "code",
   "execution_count": 36,
   "id": "reflected-female",
   "metadata": {},
   "outputs": [
    {
     "data": {
      "text/plain": [
       "ψPos (generic function with 1 method)"
      ]
     },
     "execution_count": 36,
     "metadata": {},
     "output_type": "execute_result"
    }
   ],
   "source": [
    "function ψPos(ε_in, T_in, ∇_in, C₁₁, C₁₂, C₂₂, C₆₆, α₁₁, α₂₂, e₂₁, e₂₂, e₁₆)\n",
    "    εElas_in = ε_in - α_mat(α₁₁,α₂₂)*(T_in-T0)\n",
    "    if tr(εElas_in) >= 0\n",
    "        ψPlus = 0.5*(εElas_in ⊙ σ_elas(εElas_in,C₁₁,C₁₂,C₂₂,C₆₆)) + 0.5*(σ_piezo(∇_in ,e₂₁,e₂₂,e₁₆) ⊙ εElas_in)\n",
    "    elseif tr(εElas_in) < 0\n",
    "        ψPlus = 0.5*((I4_dev ⊙ σ_elas(εElas_in,C₁₁,C₁₂,C₂₂,C₆₆)) ⊙ (I4_dev ⊙ εElas_in)) + 0.5*(σ_piezo(∇_in ,e₂₁,e₂₂,e₁₆) ⊙ (I4_dev ⊙ εElas_in))\n",
    "    end\n",
    "    return ψPlus\n",
    "end"
   ]
  },
  {
   "cell_type": "code",
   "execution_count": 37,
   "id": "6fce0388",
   "metadata": {},
   "outputs": [
    {
     "data": {
      "text/plain": [
       "new_EnergyState (generic function with 1 method)"
      ]
     },
     "execution_count": 37,
     "metadata": {},
     "output_type": "execute_result"
    }
   ],
   "source": [
    "function new_EnergyState(ψPlusPrev_in,ψhPos_in)\n",
    "  ψPlus_in = ψhPos_in\n",
    "  if ψPlus_in >= ψPlusPrev_in\n",
    "    ψPlus_out = ψPlus_in\n",
    "  else\n",
    "    ψPlus_out = ψPlusPrev_in\n",
    "  end\n",
    "  true,ψPlus_out\n",
    "end"
   ]
  },
  {
   "cell_type": "markdown",
   "id": "spare-throw",
   "metadata": {},
   "source": [
    "## FE formulation"
   ]
  },
  {
   "cell_type": "code",
   "execution_count": 38,
   "id": "tough-beast",
   "metadata": {},
   "outputs": [
    {
     "data": {
      "text/plain": [
       "project (generic function with 1 method)"
      ]
     },
     "execution_count": 38,
     "metadata": {},
     "output_type": "execute_result"
    }
   ],
   "source": [
    "function project(q,model,dΩ,order)\n",
    "  reffe = ReferenceFE(lagrangian,Float64,order)\n",
    "  V = FESpace(model,reffe,conformity=:L2)\n",
    "  a(u,v) = ∫( u*v )*dΩ\n",
    "  l(v) = ∫( v*q )*dΩ\n",
    "  op = AffineFEOperator(a,l,V,V)\n",
    "  qh = Gridap.solve(op)\n",
    "  qh\n",
    "end"
   ]
  },
  {
   "cell_type": "code",
   "execution_count": 39,
   "id": "focal-alliance",
   "metadata": {},
   "outputs": [
    {
     "data": {
      "text/plain": [
       "GenericCellField():\n",
       " num_cells: 33\n",
       " DomainStyle: ReferenceDomain()\n",
       " Triangulation: BoundaryTriangulation()\n",
       " Triangulation id: 5488420687476806876"
      ]
     },
     "execution_count": 39,
     "metadata": {},
     "output_type": "execute_result"
    }
   ],
   "source": [
    "LoadTagId = get_tag_from_name(labels,\"LoadLine\")\n",
    "Γ_Load = BoundaryTriangulation(model,tags = LoadTagId)\n",
    "dΓ_Load = Measure(Γ_Load,degree)\n",
    "n_Γ_Load = get_normal_vector(Γ_Load)"
   ]
  },
  {
   "cell_type": "code",
   "execution_count": 40,
   "id": "incorporated-decade",
   "metadata": {},
   "outputs": [
    {
     "data": {
      "text/plain": [
       "SingleFieldFEFunction():\n",
       " num_cells: 24826\n",
       " DomainStyle: ReferenceDomain()\n",
       " Triangulation: BodyFittedTriangulation()\n",
       " Triangulation id: 17172206463743120248"
      ]
     },
     "execution_count": 40,
     "metadata": {},
     "output_type": "execute_result"
    }
   ],
   "source": [
    "reffe_PF = ReferenceFE(lagrangian,Float64,order)\n",
    "V0_PF = TestFESpace(model,reffe_PF;\n",
    "  conformity=:H1)\n",
    "U_PF = TrialFESpace(V0_PF)\n",
    "sh = zero(V0_PF)"
   ]
  },
  {
   "cell_type": "code",
   "execution_count": 41,
   "id": "victorian-utilization",
   "metadata": {},
   "outputs": [
    {
     "data": {
      "text/plain": [
       "SingleFieldFEFunction():\n",
       " num_cells: 24826\n",
       " DomainStyle: ReferenceDomain()\n",
       " Triangulation: BodyFittedTriangulation()\n",
       " Triangulation id: 17172206463743120248"
      ]
     },
     "execution_count": 41,
     "metadata": {},
     "output_type": "execute_result"
    }
   ],
   "source": [
    "reffe_Disp = ReferenceFE(lagrangian,VectorValue{2,Float64},order)\n",
    "        V0_Disp = TestFESpace(model,reffe_Disp;\n",
    "          conformity=:H1,\n",
    "          dirichlet_tags=[\"DirichletLeft\",\"DirichletRight\",\"LoadLine\"],\n",
    "          dirichlet_masks=[(true,true),(false,true),(false,true)])\n",
    "\n",
    "uh = zero(V0_Disp)"
   ]
  },
  {
   "cell_type": "code",
   "execution_count": 42,
   "id": "unique-iceland",
   "metadata": {},
   "outputs": [
    {
     "data": {
      "text/plain": [
       "SingleFieldFEFunction():\n",
       " num_cells: 24826\n",
       " DomainStyle: ReferenceDomain()\n",
       " Triangulation: BodyFittedTriangulation()\n",
       " Triangulation id: 17172206463743120248"
      ]
     },
     "execution_count": 42,
     "metadata": {},
     "output_type": "execute_result"
    }
   ],
   "source": [
    "reffe_ElecPot = ReferenceFE(lagrangian,Float64,order)\n",
    "V0_ElecPot  = TestFESpace(model,reffe_ElecPot;\n",
    "  conformity=:H1,\n",
    "  dirichlet_tags=[\"ElectricPotentialTempLeft\",\"ElectricPotentialTempRight\"])\n",
    "ϕh = zero(V0_ElecPot)"
   ]
  },
  {
   "cell_type": "code",
   "execution_count": 43,
   "id": "77458b93",
   "metadata": {},
   "outputs": [
    {
     "data": {
      "text/plain": [
       "SingleFieldFEFunction():\n",
       " num_cells: 24826\n",
       " DomainStyle: ReferenceDomain()\n",
       " Triangulation: BodyFittedTriangulation()\n",
       " Triangulation id: 17172206463743120248"
      ]
     },
     "execution_count": 43,
     "metadata": {},
     "output_type": "execute_result"
    }
   ],
   "source": [
    "reffe_Temp = ReferenceFE(lagrangian,Float64,order)\n",
    "V0_Temp = FESpace(model,reffe_Temp;\n",
    "  conformity=:H1,\n",
    "  dirichlet_tags=[\"ElectricPotentialTempLeft\",\"ElectricPotentialTempRight\"])\n",
    "Th = zero(V0_Temp)"
   ]
  },
  {
   "cell_type": "code",
   "execution_count": 44,
   "id": "accredited-startup",
   "metadata": {},
   "outputs": [
    {
     "data": {
      "text/plain": [
       "MultiFieldFESpace()"
      ]
     },
     "execution_count": 44,
     "metadata": {},
     "output_type": "execute_result"
    }
   ],
   "source": [
    "V0 = MultiFieldFESpace([V0_Disp,V0_ElecPot,V0_Temp])"
   ]
  },
  {
   "cell_type": "code",
   "execution_count": 45,
   "id": "terminal-saint",
   "metadata": {},
   "outputs": [
    {
     "data": {
      "text/plain": [
       "stepPhaseField (generic function with 1 method)"
      ]
     },
     "execution_count": 45,
     "metadata": {},
     "output_type": "execute_result"
    }
   ],
   "source": [
    "function  stepPhaseField(uh_in,ψPlusPrev_in)\n",
    "        \n",
    "        a_PF(s,ϕ) = ∫( Gc*lsp*∇(ϕ)⋅ ∇(s) + 2*ψPlusPrev_in*s*ϕ  + (Gc/lsp)*s*ϕ )*dΩ\n",
    "        b_PF(ϕ) = ∫( (Gc/lsp)*ϕ )*dΩ\n",
    "        op_PF = AffineFEOperator(a_PF,b_PF,U_PF,V0_PF)\n",
    "        sh_out = Gridap.solve(op_PF)           \n",
    "    \n",
    "    return sh_out\n",
    "    \n",
    "end"
   ]
  },
  {
   "cell_type": "code",
   "execution_count": 46,
   "id": "broadband-tracker",
   "metadata": {},
   "outputs": [
    {
     "data": {
      "text/plain": [
       "stepDispElecPotTemp (generic function with 1 method)"
      ]
     },
     "execution_count": 46,
     "metadata": {},
     "output_type": "execute_result"
    }
   ],
   "source": [
    "  function   stepDispElecPotTemp(uh_in,phih_in,Th_in,sh_in,vApp,phiApp,TApp,delt,C₁₁_mat,C₁₂_mat,C₂₂_mat,C₆₆_mat,e₂₁_mat,e₂₂_mat,e₁₆_mat,K₁₁_mat,K₂₂_mat,α₁₁_mat,α₂₂_mat,κ_mat)\n",
    "    \n",
    "        uApp1(x) = VectorValue(0.0,0.0)\n",
    "        uApp2(x) = VectorValue(0.0,0.0)\n",
    "        uApp3(x) = VectorValue(0.0,-vApp)\n",
    "        U_Disp = TrialFESpace(V0_Disp,[uApp1,uApp2,uApp3])\n",
    "    \n",
    "        phiApp1(x) = 0\n",
    "        phiApp2(x) = phiApp\n",
    "        U_ElecPot = TrialFESpace(V0_ElecPot,[phiApp1,phiApp2])\n",
    "    \n",
    "        Tapp1(x) = T0\n",
    "        Tapp2(x) = TApp\n",
    "        U_Temp = TrialFESpace(V0_Temp,[Tapp1,Tapp2])\n",
    "    \n",
    "        U = MultiFieldFESpace([U_Disp,U_ElecPot,U_Temp])\n",
    "    \n",
    "         a((u,ϕ,T),(v,φ,ϑ)) = ∫( ((ε(v)) ⊙ (σ_TotMod1∘(ε(u), ε(uh_in), sh_in, Th_in, C₁₁_mat, C₁₂_mat, C₂₂_mat, C₆₆_mat, α₁₁_mat, α₂₂_mat)))\n",
    "                              + ((ε(v)) ⊙ (σ_TotMod2∘(T, ε(uh_in), sh_in, Th_in, C₁₁_mat, C₁₂_mat, C₂₂_mat, C₆₆_mat, α₁₁_mat, α₂₂_mat)))\n",
    "                              + ((ε(v)) ⊙ (σ_piezoMod∘(∇(ϕ), sh_in, e₂₁_mat, e₂₂_mat, e₁₆_mat)))\n",
    "                              - ((∇(φ))⋅(D_piezoMod∘(∇(ϕ), sh_in, K₁₁_mat, K₂₂_mat)))\n",
    "                              + ((∇(φ))⋅(D_elasMod1∘(ε(u), sh_in, e₂₁_mat, e₂₂_mat, e₁₆_mat)))\n",
    "                              + ((∇(φ))⋅(D_elasMod2∘(T, sh_in, e₂₁_mat, e₂₂_mat, e₁₆_mat, α₁₁_mat, α₂₂_mat)))\n",
    "                              + ((∇(ϑ))⋅(κGradTemp∘(∇(T),sh_in,κ_mat)))\n",
    "                              + (ϑ*((ρ*c*T)/delt)) )*dΩ\n",
    "        b((v,φ,ϑ)) = ∫( -(ε(v) ⊙ (σ_thermMod∘(ε(uh_in),sh_in,Th_in, C₁₁_mat, C₁₂_mat, C₂₂_mat, C₆₆_mat, α₁₁_mat, α₂₂_mat)))\n",
    "                      - (∇(φ)⋅(D_ThermMod∘(sh_in, e₂₁_mat, e₂₂_mat, e₁₆_mat, α₁₁_mat, α₂₂_mat)))\n",
    "                      + (ϑ*((ρ*c*Th_in)/delt)) )*dΩ\n",
    "    \n",
    "        op = AffineFEOperator(a,b,U,V0)\n",
    "        uhPhi = Gridap.solve(op)\n",
    "        uh_out,phih_out,Th_out = uhPhi\n",
    "    \n",
    "    return uh_out,phih_out,Th_out\n",
    "end"
   ]
  },
  {
   "cell_type": "code",
   "execution_count": 47,
   "id": "electoral-disability",
   "metadata": {
    "scrolled": true
   },
   "outputs": [
    {
     "name": "stdout",
     "output_type": "stream",
     "text": [
      "\n",
      " Entering displacemtent step1 :1.8e-7\n",
      " Relative error = 3.688124943277966e-17\n",
      " Entering displacemtent step2 :3.6e-7\n",
      " Relative error = 8.200377578208761e-7\n",
      " Relative error = 6.504553985772224e-6\n",
      " Relative error = 5.4126286696633694e-8\n",
      " Relative error = 3.740350472383843e-8\n",
      " Relative error = 2.8530886971068484e-8\n",
      " Relative error = 2.2956141217239555e-8\n",
      " Relative error = 1.9114921912812726e-8\n",
      " Relative error = 1.6319872993893153e-8\n",
      " Relative error = 1.4210071603292451e-8\n",
      " Relative error = 1.2561166209124941e-8\n",
      " Entering displacemtent step3 :5.4e-7\n",
      " Relative error = 1.1263478195440807e-8\n",
      " Relative error = 1.4254528503746888e-5\n",
      " Relative error = 5.105755734871352e-8\n",
      " Relative error = 3.487594454814834e-8\n",
      " Relative error = 2.8408251246434428e-8\n",
      " Relative error = 2.4291258205798965e-8\n",
      " Relative error = 2.1387628743094858e-8\n",
      " Relative error = 1.9180933366903935e-8\n",
      " Relative error = 1.7442587197617373e-8\n",
      " Relative error = 1.6027587262339428e-8\n",
      " Entering displacemtent step4 :7.2e-7\n",
      " Relative error = 1.4848811540718244e-8\n",
      " Relative error = 2.205783167101809e-5\n",
      " Relative error = 8.517416832261091e-8\n",
      " Relative error = 5.2163834951513253e-8\n",
      " Relative error = 4.1520601821521804e-8\n",
      " Relative error = 3.516806178347979e-8\n",
      " Relative error = 3.0752784344371444e-8\n",
      " Relative error = 2.7447806518408516e-8\n",
      " Relative error = 2.488488442472166e-8\n",
      " Relative error = 2.2842755455524826e-8\n",
      " Entering displacemtent step5 :9.0e-7\n",
      " Relative error = 2.1120616097516426e-8\n",
      " Relative error = 2.9881738544136987e-5\n",
      " Relative error = 1.369569273881195e-7\n",
      " Relative error = 7.666052493126056e-8\n",
      " Relative error = 6.040762389110358e-8\n",
      " Relative error = 5.0601376336145023e-8\n",
      " Relative error = 4.392036541996745e-8\n",
      " Relative error = 3.89680100548891e-8\n",
      " Relative error = 3.5131145577603726e-8\n",
      " Relative error = 3.2062756076247625e-8\n",
      " Entering displacemtent step6 :1.08e-6\n",
      " Relative error = 2.954498414161448e-8\n",
      " Relative error = 3.6334661597057176e-5\n",
      " Relative error = 2.0553008174772523e-7\n",
      " Relative error = 1.0780532275492698e-7\n",
      " Relative error = 8.441307138169517e-8\n",
      " Relative error = 7.035359742769742e-8\n",
      " Relative error = 6.080444312350243e-8\n",
      " Relative error = 5.37620818855341e-8\n",
      " Relative error = 4.833049317271947e-8\n",
      " Relative error = 4.40016238066419e-8\n",
      " Entering displacemtent step7 :1.26e-6\n",
      " Relative error = 4.046315355545424e-8\n",
      " Relative error = 1.393676002066587e-5\n",
      " Relative error = 2.1067664079771807e-7\n",
      " Relative error = 1.3420056971860486e-7\n",
      " Relative error = 1.0471958827863559e-7\n",
      " Relative error = 8.709914973899072e-8\n",
      " Relative error = 7.512908167552644e-8\n",
      " Relative error = 6.634594431927896e-8\n",
      " Relative error = 5.955670403011931e-8\n",
      " Relative error = 5.417019852802161e-8\n",
      " Entering displacemtent step8 :1.44e-6\n",
      " Relative error = 4.977128641893705e-8\n",
      " Relative error = 1.502458672506021e-5\n",
      " Relative error = 2.5672904846264276e-7\n",
      " Relative error = 1.6565570729732032e-7\n",
      " Relative error = 1.2927230332468492e-7\n",
      " Relative error = 1.0747614784857678e-7\n",
      " Relative error = 9.264682906571882e-8\n",
      " Relative error = 8.178211896170502e-8\n",
      " Relative error = 7.337758809348913e-8\n",
      " Relative error = 6.670259508717595e-8\n",
      " Entering displacemtent step9 :1.62e-6\n",
      " Relative error = 6.131895978889891e-8\n",
      " Relative error = 1.617740627365244e-5\n",
      " Relative error = 3.093588186483741e-7\n",
      " Relative error = 2.0155395968187499e-7\n",
      " Relative error = 1.5762029119265518e-7\n",
      " Relative error = 1.3127976736970997e-7\n",
      " Relative error = 1.1331718091046256e-7\n",
      " Relative error = 1.001660384407152e-7\n",
      " Relative error = 8.997437400272798e-8\n",
      " Relative error = 8.186090564648799e-8\n",
      " Entering displacemtent step10 :1.8e-6\n",
      " Relative error = 7.52661286119847e-8\n",
      " Relative error = 1.7480780890800612e-5\n",
      " Relative error = 3.7246937607852627e-7\n",
      " Relative error = 2.4392160709382683e-7\n",
      " Relative error = 1.9129507476792353e-7\n",
      " Relative error = 1.6015709087076975e-7\n",
      " Relative error = 1.3988868075134988e-7\n",
      " Relative error = 1.2397565831692206e-7\n",
      " Relative error = 1.1169987832203515e-7\n",
      " Relative error = 1.0206474091494399e-7\n",
      " Entering displacemtent step11 :1.98e-6\n",
      " Relative error = 9.395332660482259e-8\n",
      " Relative error = 1.898787520224734e-5\n",
      " Relative error = 4.450627608176384e-7\n",
      " Relative error = 2.923555371250542e-7\n",
      " Relative error = 2.2931625297321857e-7\n",
      " Relative error = 1.9359060550962714e-7\n",
      " Relative error = 1.6898777542317118e-7\n",
      " Relative error = 1.5004936378769891e-7\n",
      " Relative error = 1.3529250660129768e-7\n",
      " Relative error = 1.2346638199277673e-7\n",
      " Entering displacemtent step12 :2.16e-6\n",
      " Relative error = 1.1376049151481645e-7\n",
      " Relative error = 2.0410351892444413e-5\n",
      " Relative error = 5.230005507791412e-7\n",
      " Relative error = 3.457874621527477e-7\n",
      " Relative error = 2.718837666199853e-7\n",
      " Relative error = 2.310146773957369e-7\n",
      " Relative error = 2.0106452184084129e-7\n",
      " Relative error = 1.787998497251464e-7\n",
      " Relative error = 1.6142519030201355e-7\n",
      " Relative error = 1.4749147326189695e-7\n",
      " Entering displacemtent step13 :2.34e-6\n",
      " Relative error = 1.3602597471129959e-7\n",
      " Relative error = 2.1905258311438253e-5\n",
      " Relative error = 6.071313073824944e-7\n",
      " Relative error = 4.033424914577561e-7\n",
      " Relative error = 3.1866205561554166e-7\n",
      " Relative error = 2.7068285079977396e-7\n",
      " Relative error = 2.3570376151666089e-7\n",
      " Relative error = 2.09851383198424e-7\n",
      " Relative error = 1.896686788989056e-7\n",
      " Relative error = 1.7345845551097945e-7\n",
      " Entering displacemtent step14 :2.52e-6\n",
      " Relative error = 1.6016652582258755e-7\n",
      " Relative error = 2.3591666301567778e-5\n",
      " Relative error = 7.079969947525984e-7\n",
      " Relative error = 4.7347919471722305e-7\n",
      " Relative error = 3.762423977680494e-7\n",
      " Relative error = 3.194149117146617e-7\n",
      " Relative error = 2.784916994424208e-7\n",
      " Relative error = 2.4824139039376965e-7\n",
      " Relative error = 2.2465459001001676e-7\n",
      " Relative error = 2.0575970703356083e-7\n",
      " Entering displacemtent step15 :2.7e-6\n",
      " Relative error = 1.9024269893894892e-7\n",
      " Relative error = 2.5488643484182108e-5\n",
      " Relative error = 8.104490372002862e-7\n",
      " Relative error = 5.435772308494203e-7\n",
      " Relative error = 4.3358577281762245e-7\n",
      " Relative error = 3.671275598070857e-7\n",
      " Relative error = 3.202647119380108e-7\n",
      " Relative error = 2.857688660326789e-7\n",
      " Relative error = 2.589370484574188e-7\n",
      " Relative error = 2.375075785101891e-7\n",
      " Entering displacemtent step16 :2.88e-6\n",
      " Relative error = 2.1987692755249305e-7\n",
      " Relative error = 2.7196844826751662e-5\n",
      " Relative error = 9.137910777528902e-7\n",
      " Relative error = 6.142098583802856e-7\n",
      " Relative error = 4.915644673317831e-7\n",
      " Relative error = 4.158882265678286e-7\n",
      " Relative error = 3.632129433241493e-7\n",
      " Relative error = 3.2439874042728683e-7\n",
      " Relative error = 2.942623198444328e-7\n",
      " Relative error = 2.700413236092606e-7\n",
      " Entering displacemtent step17 :3.06e-6\n",
      " Relative error = 2.500372464263354e-7\n",
      " Relative error = 2.8948699789345223e-5\n",
      " Relative error = 1.0216396082820448e-6\n",
      " Relative error = 6.888823306660989e-7\n",
      " Relative error = 5.538209455076708e-7\n",
      " Relative error = 4.6839084013830016e-7\n",
      " Relative error = 4.0957237617819135e-7\n",
      " Relative error = 3.6622540524537674e-7\n",
      " Relative error = 3.325100484092719e-7\n",
      " Relative error = 3.054365069887865e-7\n",
      " Entering displacemtent step18 :3.24e-6\n",
      " Relative error = 2.8329832378585304e-7\n",
      " Relative error = 3.080299710834701e-5\n",
      " Relative error = 1.130019124306396e-6\n",
      " Relative error = 7.613578145576291e-7\n",
      " Relative error = 6.127981877070658e-7\n",
      " Relative error = 5.185557281519981e-7\n",
      " Relative error = 4.5397715057372176e-7\n",
      " Relative error = 4.0625379033435256e-7\n",
      " Relative error = 3.6919201349506856e-7\n",
      " Relative error = 3.3966269155655965e-7\n",
      " Entering displacemtent step19 :3.42e-6\n",
      " Relative error = 3.150037134017014e-7\n",
      " Relative error = 3.262898694066404e-5\n",
      " Relative error = 1.2377735126868098e-6\n",
      " Relative error = 8.351470323655845e-7\n",
      " Relative error = 6.723526757955994e-7\n",
      " Relative error = 5.696299383497406e-7\n",
      " Relative error = 4.991545048017973e-7\n",
      " Relative error = 4.4694117723510785e-7\n",
      " Relative error = 4.066138764753877e-7\n",
      " Relative error = 3.7397606501157967e-7\n",
      " Entering displacemtent step20 :3.6e-6\n",
      " Relative error = 3.471854148426898e-7\n",
      " Relative error = 3.460637697023465e-5\n",
      " Relative error = 1.342625675136782e-6\n",
      " Relative error = 9.06762815489035e-7\n",
      " Relative error = 7.302737245622065e-7\n",
      " Relative error = 6.190790766553868e-7\n",
      " Relative error = 5.427731983174479e-7\n",
      " Relative error = 4.866510038463102e-7\n",
      " Relative error = 4.4286880191697207e-7\n",
      " Relative error = 4.075892590669401e-7\n",
      " Entering displacemtent step21 :3.78e-6\n",
      " Relative error = 3.7838202338771214e-7\n",
      " Relative error = 3.6614331267579915e-5\n",
      " Relative error = 1.4340959473509744e-6\n",
      " Relative error = 9.663939224702205e-7\n",
      " Relative error = 7.801866000897869e-7\n",
      " Relative error = 6.631577133504325e-7\n",
      " Relative error = 5.822034739712803e-7\n",
      " Relative error = 5.223711858246681e-7\n",
      " Relative error = 4.7577313768308165e-7\n",
      " Relative error = 4.3836756764074346e-7\n",
      " Entering displacemtent step22 :3.96e-6\n",
      " Relative error = 4.0718762899349813e-7\n",
      " Relative error = 3.8539650299892424e-5\n",
      " Relative error = 1.5222219000621562e-6\n",
      " Relative error = 1.0264448321800549e-6\n",
      " Relative error = 8.281259824377072e-7\n",
      " Relative error = 7.041546937454884e-7\n",
      " Relative error = 6.190628175808175e-7\n",
      " Relative error = 5.561667528620856e-7\n",
      " Relative error = 5.071409928956742e-7\n",
      " Relative error = 4.6752109829169285e-7\n",
      " Entering displacemtent step23 :4.14e-6\n",
      " Relative error = 4.347782269833766e-7\n",
      " Relative error = 4.044270591804954e-5\n",
      " Relative error = 1.5888184553284807e-6\n",
      " Relative error = 1.069206444292409e-6\n",
      " Relative error = 8.637146304621943e-7\n",
      " Relative error = 7.353815275974216e-7\n",
      " Relative error = 6.481809920291645e-7\n",
      " Relative error = 5.83601941014516e-7\n",
      " Relative error = 5.32592685932129e-7\n",
      " Relative error = 4.91351358481014e-7\n",
      " Entering displacemtent step24 :4.32e-6\n",
      " Relative error = 4.570993058593427e-7\n",
      " Relative error = 4.221574388552167e-5\n",
      " Relative error = 1.64344539903465e-6\n",
      " Relative error = 1.1031494906522914e-6\n",
      " Relative error = 8.922689953769773e-7\n",
      " Relative error = 7.610185915403489e-7\n",
      " Relative error = 6.727070868129241e-7\n",
      " Relative error = 6.058072787129586e-7\n",
      " Relative error = 5.53386817196659e-7\n",
      " Relative error = 5.112168860003197e-7\n",
      " Entering displacemtent step25 :4.5e-6\n",
      " Relative error = 4.758757875805741e-7\n",
      " Relative error = 4.4124868980012235e-5\n",
      " Relative error = 1.682312372693484e-6\n",
      " Relative error = 1.1252779232240297e-6\n",
      " Relative error = 9.111635556015959e-7\n",
      " Relative error = 7.797604999023741e-7\n",
      " Relative error = 6.91929912608414e-7\n",
      " Relative error = 6.236023097565842e-7\n",
      " Relative error = 5.702451269614279e-7\n",
      " Relative error = 5.268269405557316e-7\n",
      " Entering displacemtent step26 :4.68e-6\n",
      " Relative error = 4.906781252684051e-7\n",
      " Relative error = 4.589208812021977e-5\n",
      " Relative error = 1.7025392873573807e-6\n",
      " Relative error = 1.1330690016286965e-6\n",
      " Relative error = 9.186981207211519e-7\n",
      " Relative error = 7.886311439990596e-7\n",
      " Relative error = 6.996299235346709e-7\n",
      " Relative error = 6.312149275344809e-7\n",
      " Relative error = 5.776159788560036e-7\n",
      " Relative error = 5.33994540116758e-7\n",
      " Entering displacemtent step27 :4.86e-6\n",
      " Relative error = 4.975956942317653e-7\n",
      " Relative error = 4.74813907267234e-5\n",
      " Relative error = 1.7037116222342816e-6\n",
      " Relative error = 1.1258857007342407e-6\n",
      " Relative error = 9.144103490490295e-7\n",
      " Relative error = 7.877521523384529e-7\n",
      " Relative error = 6.989562833410161e-7\n",
      " Relative error = 6.313254691560016e-7\n",
      " Relative error = 5.783487015264825e-7\n",
      " Relative error = 5.350877162529743e-7\n",
      " Entering displacemtent step28 :5.04e-6\n",
      " Relative error = 4.990333524999167e-7\n",
      " Relative error = 4.911061837364955e-5\n",
      " Relative error = 1.695500230188013e-6\n",
      " Relative error = 1.10998240573289e-6\n",
      " Relative error = 9.034017513927591e-7\n",
      " Relative error = 7.805509639099909e-7\n",
      " Relative error = 6.929123227414838e-7\n",
      " Relative error = 6.265800245457892e-7\n",
      " Relative error = 5.744182536995388e-7\n",
      " Relative error = 5.317887858294909e-7\n",
      " Entering displacemtent step29 :5.22e-6\n",
      " Relative error = 4.962590428373586e-7\n",
      " Relative error = 5.089404270737853e-5\n",
      " Relative error = 1.6730637531312846e-6\n",
      " Relative error = 1.083235873493512e-6\n",
      " Relative error = 8.814171716696837e-7\n",
      " Relative error = 7.630553172107824e-7\n",
      " Relative error = 6.779766670077269e-7\n",
      " Relative error = 6.138568295513218e-7\n",
      " Relative error = 5.636030068173972e-7\n",
      " Relative error = 5.221287929386488e-7\n",
      " Entering displacemtent step30 :5.4e-6\n",
      " Relative error = 4.874007068685327e-7\n",
      " Relative error = 5.247614764696163e-5\n",
      " Relative error = 1.636361591397997e-6\n",
      " Relative error = 1.0442425002892036e-6\n",
      " Relative error = 8.515621899629789e-7\n",
      " Relative error = 7.381647188916071e-7\n",
      " Relative error = 6.567823163603266e-7\n",
      " Relative error = 5.949860244794753e-7\n",
      " Relative error = 5.463593371122796e-7\n",
      " Relative error = 5.064544356235114e-7\n",
      " Entering displacemtent step31 :5.58e-6\n",
      " Relative error = 4.739947002739399e-7\n",
      " Relative error = 5.413110130092555e-5\n",
      " Relative error = 1.5877161390075827e-6\n",
      " Relative error = 9.930795892963705e-7\n",
      " Relative error = 8.119686572860011e-7\n",
      " Relative error = 7.049867635404752e-7\n",
      " Relative error = 6.277271272417813e-7\n",
      " Relative error = 5.695970773571978e-7\n",
      " Relative error = 5.238287799132426e-7\n",
      " Relative error = 4.864239674364744e-7\n",
      " Entering displacemtent step32 :5.76e-6\n",
      " Relative error = 4.556557343152396e-7\n",
      " Relative error = 5.564364543674202e-5\n",
      " Relative error = 1.5311624901333274e-6\n",
      " Relative error = 9.321044854057068e-7\n",
      " Relative error = 7.660916774700639e-7\n",
      " Relative error = 6.669140781932566e-7\n",
      " Relative error = 5.951132247604558e-7\n",
      " Relative error = 5.405064136297357e-7\n",
      " Relative error = 4.971587290829496e-7\n",
      " Relative error = 4.6195907540125753e-7\n",
      " Entering displacemtent step33 :5.94e-6\n",
      " Relative error = 4.3291537103282806e-7\n",
      " Relative error = 5.71088008872645e-5\n",
      " Relative error = 1.47604411109917e-6\n",
      " Relative error = 8.62502437784777e-7\n",
      " Relative error = 7.155927777539178e-7\n",
      " Relative error = 6.246162158572514e-7\n",
      " Relative error = 5.575824192028043e-7\n",
      " Relative error = 5.072853536344421e-7\n",
      " Relative error = 4.669142823541238e-7\n",
      " Relative error = 4.34542714606515e-7\n",
      " Entering displacemtent step34 :6.12e-6\n",
      " Relative error = 4.0714231935150335e-7\n",
      " Relative error = 5.863384112715325e-5\n",
      " Relative error = 1.4249480487715114e-6\n",
      " Relative error = 7.832717156627053e-7\n",
      " Relative error = 6.593275850276137e-7\n",
      " Relative error = 5.786851419693904e-7\n",
      " Relative error = 5.176762056157725e-7\n",
      " Relative error = 4.7135637174388935e-7\n",
      " Relative error = 4.348724650395234e-7\n",
      " Relative error = 4.0526807229563734e-7\n",
      " Entering displacemtent step35 :6.3e-6\n",
      " Relative error = 3.7981454322750805e-7\n",
      " Relative error = 6.00811078165353e-5\n",
      " Relative error = 1.3787377816459543e-6\n",
      " Relative error = 6.961940556701496e-7\n",
      " Relative error = 5.933648810786224e-7\n",
      " Relative error = 5.259643313360586e-7\n",
      " Relative error = 4.7264988569712214e-7\n",
      " Relative error = 4.3122438411725296e-7\n",
      " Relative error = 3.9798817688818147e-7\n",
      " Relative error = 3.7158669127988305e-7\n",
      " Entering displacemtent step36 :6.48e-6\n",
      " Relative error = 3.4884070889086856e-7\n",
      " Relative error = 6.144215585271116e-5\n",
      " Relative error = 1.3456927513432848e-6\n",
      " Relative error = 6.108241309994671e-7\n",
      " Relative error = 5.230210012378413e-7\n",
      " Relative error = 4.6934501970479805e-7\n",
      " Relative error = 4.2532070584359284e-7\n",
      " Relative error = 3.8916500990146454e-7\n",
      " Relative error = 3.6023747507567414e-7\n",
      " Relative error = 3.3645988268097063e-7\n",
      " Entering displacemtent step37 :6.66e-6\n",
      " Relative error = 3.1606204851696756e-7\n",
      " Relative error = 6.280331703137176e-5\n",
      " Relative error = 1.322662711551125e-6\n",
      " Relative error = 5.324440732798737e-7\n",
      " Relative error = 4.4947104622532786e-7\n",
      " Relative error = 4.100857556071028e-7\n",
      " Relative error = 3.754214726073784e-7\n",
      " Relative error = 3.463466908153687e-7\n",
      " Relative error = 3.214203093128424e-7\n",
      " Relative error = 3.0127108361159284e-7\n",
      " Entering displacemtent step38 :6.84e-6\n",
      " Relative error = 2.8324212106066556e-7\n",
      " Relative error = 6.421733163078987e-5\n",
      " Relative error = 1.3129329783320134e-6\n",
      " Relative error = 4.665485336016361e-7\n",
      " Relative error = 3.7794947627454405e-7\n",
      " Relative error = 3.4842134804712755e-7\n",
      " Relative error = 3.242086415649301e-7\n",
      " Relative error = 3.0167440087678673e-7\n",
      " Relative error = 2.8222039929439923e-7\n",
      " Relative error = 2.6497659204860286e-7\n",
      " Entering displacemtent step39 :7.02e-6\n",
      " Relative error = 2.4975518779727897e-7\n",
      " Relative error = 6.556487786510209e-5\n",
      " Relative error = 1.3190442891317552e-6\n",
      " Relative error = 4.079834674580115e-7\n",
      " Relative error = 3.1684001023799244e-7\n"
     ]
    },
    {
     "name": "stdout",
     "output_type": "stream",
     "text": [
      " Relative error = 2.873813828770985e-7\n",
      " Relative error = 2.7136216459828254e-7\n",
      " Relative error = 2.573436971210014e-7\n",
      " Relative error = 2.426779985264336e-7\n",
      " Relative error = 2.2927149201661368e-7\n",
      " Entering displacemtent step40 :7.2e-6\n",
      " Relative error = 2.173731558278218e-7\n",
      " Relative error = 6.691359512918922e-5\n",
      " Relative error = 1.3402596633605514e-6\n",
      " Relative error = 3.5859562837059043e-7\n",
      " Relative error = 2.629285968636927e-7\n",
      " Relative error = 2.3665557159889817e-7\n",
      " Relative error = 2.2097914284181022e-7\n",
      " Relative error = 2.108135942585054e-7\n",
      " Relative error = 2.007804398788908e-7\n",
      " Relative error = 1.9303380597173654e-7\n",
      " Entering displacemtent step41 :7.38e-6\n",
      " Relative error = 1.840696768980076e-7\n",
      " Relative error = 6.821850611423494e-5\n",
      " Relative error = 1.3726831184960053e-6\n",
      " Relative error = 3.259528903348613e-7\n",
      " Relative error = 2.1406744009964407e-7\n",
      " Relative error = 1.9107123129777644e-7\n",
      " Relative error = 1.7971677255494516e-7\n",
      " Relative error = 1.6959455349889594e-7\n",
      " Relative error = 1.6242896082370512e-7\n",
      " Relative error = 1.5589475958785146e-7\n",
      " Entering displacemtent step42 :7.56e-6\n",
      " Relative error = 1.5041157042868275e-7\n",
      " Relative error = 6.950369196696219e-5\n",
      " Relative error = 1.4162994455699393e-6\n",
      " Relative error = 3.085443729899422e-7\n",
      " Relative error = 1.7535464391654036e-7\n",
      " Relative error = 1.5079524245774992e-7\n",
      " Relative error = 1.4264736014663305e-7\n",
      " Relative error = 1.3544279846452625e-7\n",
      " Relative error = 1.2979837238937822e-7\n",
      " Relative error = 1.2412981666685147e-7\n",
      " Entering displacemtent step43 :7.74e-6\n",
      " Relative error = 1.1979433656038593e-7\n",
      " Relative error = 7.073446120735513e-5\n",
      " Relative error = 1.469858861821295e-6\n",
      " Relative error = 2.9994656461294376e-7\n",
      " Relative error = 1.5198893763512096e-7\n",
      " Relative error = 1.1774985547848539e-7\n",
      " Relative error = 1.100876641655246e-7\n",
      " Relative error = 1.0599316559259561e-7\n",
      " Relative error = 1.0198852727136059e-7\n",
      " Relative error = 9.780122501130238e-8\n",
      " Entering displacemtent step44 :7.92e-6\n",
      " Relative error = 9.432979316595841e-8\n",
      " Relative error = 7.196700372059337e-5\n",
      " Relative error = 1.5326342265900855e-6\n",
      " Relative error = 2.9956362289727833e-7\n",
      " Relative error = 1.3590646882991476e-7\n",
      " Relative error = 9.68166383143825e-8\n",
      " Relative error = 8.42576931900795e-8\n",
      " Relative error = 8.03570549805958e-8\n",
      " Relative error = 7.887401382165592e-8\n",
      " Relative error = 7.609581853244067e-8\n",
      " Entering displacemtent step45 :8.1e-6\n",
      " Relative error = 7.289851568730954e-8\n",
      " Relative error = 7.334959461599456e-5\n",
      " Relative error = 1.6036104218155843e-6\n",
      " Relative error = 3.067538061429372e-7\n",
      " Relative error = 1.2607309954535704e-7\n",
      " Relative error = 8.171046974016387e-8\n",
      " Relative error = 6.72070996287381e-8\n",
      " Relative error = 6.205341500140522e-8\n",
      " Relative error = 5.8348349406236435e-8\n",
      " Relative error = 5.687625730597111e-8\n",
      " Entering displacemtent step46 :8.28e-6\n",
      " Relative error = 5.608995850730724e-8\n",
      " Relative error = 7.450335151415661e-5\n",
      " Relative error = 1.6827058617386784e-6\n",
      " Relative error = 3.207914461400537e-7\n",
      " Relative error = 1.215251081767384e-7\n",
      " Relative error = 7.099433208241899e-8\n",
      " Relative error = 5.5250044984758244e-8\n",
      " Relative error = 4.877213307188789e-8\n",
      " Relative error = 4.543067720397308e-8\n",
      " Relative error = 4.3339800774500324e-8\n",
      " Entering displacemtent step47 :8.46e-6\n",
      " Relative error = 4.156078196430554e-8\n",
      " Relative error = 7.567876095835299e-5\n",
      " Relative error = 1.7693518605456163e-6\n",
      " Relative error = 3.414264426813903e-7\n",
      " Relative error = 1.216607551199291e-7\n",
      " Relative error = 6.408643603687276e-8\n",
      " Relative error = 4.5955433786478945e-8\n",
      " Relative error = 3.914360885085406e-8\n",
      " Relative error = 3.59952940155517e-8\n",
      " Relative error = 3.380376919357417e-8\n",
      " Entering displacemtent step48 :8.64e-6\n",
      " Relative error = 3.2158154212671105e-8\n",
      " Relative error = 7.700115178037411e-5\n",
      " Relative error = 1.8633748981971287e-6\n",
      " Relative error = 3.686297403077697e-7\n",
      " Relative error = 1.2596473824999993e-7\n",
      " Relative error = 6.057900943554911e-8\n",
      " Relative error = 3.934791154834203e-8\n",
      " Relative error = 3.166338491489809e-8\n",
      " Relative error = 2.8443342916151757e-8\n",
      " Relative error = 2.6486191207383746e-8\n",
      " Entering displacemtent step49 :8.82e-6\n",
      " Relative error = 2.515788901789417e-8\n",
      " Relative error = 7.831521759347755e-5\n",
      " Relative error = 1.9650704071098957e-6\n",
      " Relative error = 4.020641010225761e-7\n",
      " Relative error = 1.3560745476251638e-7\n",
      " Relative error = 5.939462757434989e-8\n",
      " Relative error = 3.500256329205478e-8\n",
      " Relative error = 2.627733659761182e-8\n",
      " Relative error = 2.2556027958007643e-8\n",
      " Relative error = 2.0628042477051217e-8\n",
      " Entering displacemtent step50 :9.0e-6\n",
      " Relative error = 1.952179029343011e-8\n",
      " Relative error = 7.945411949888992e-5\n",
      " Relative error = 2.074350137196093e-6\n",
      " Relative error = 4.416867720067339e-7\n",
      " Relative error = 1.5044105869937431e-7\n",
      " Relative error = 6.234785618527099e-8\n",
      " Relative error = 3.225238077234524e-8\n",
      " Relative error = 2.175324200351833e-8\n",
      " Relative error = 1.802189003294961e-8\n",
      " Relative error = 1.6234538039761097e-8\n",
      " Entering displacemtent step51 :9.18e-6\n",
      " Relative error = 1.5215793365753173e-8\n",
      " Relative error = 8.068078886630876e-5\n",
      " Relative error = 2.190816646669126e-6\n",
      " Relative error = 4.876741990408309e-7\n",
      " Relative error = 1.7044638842800087e-7\n",
      " Relative error = 6.893314778177445e-8\n",
      " Relative error = 3.272585453453787e-8\n",
      " Relative error = 1.9276931482957566e-8\n",
      " Relative error = 1.417320288109316e-8\n",
      " Relative error = 1.212520132580797e-8\n",
      " Entering displacemtent step52 :9.36e-6\n",
      " Relative error = 1.1283239599976063e-8\n",
      " Relative error = 8.184431205367337e-5\n",
      " Relative error = 2.314539862919516e-6\n",
      " Relative error = 5.401424725921507e-7\n",
      " Relative error = 1.961502036326229e-7\n",
      " Relative error = 7.956763714656589e-8\n",
      " Relative error = 3.557221980185143e-8\n",
      " Relative error = 1.8743551059484756e-8\n",
      " Relative error = 1.218529430569739e-8\n",
      " Relative error = 9.490058331269172e-9\n",
      " Entering displacemtent step53 :9.54e-6\n",
      " Relative error = 8.378368892163252e-9\n",
      " Entering displacemtent step54 :9.72e-6\n",
      " Relative error = 8.29873737186293e-5\n",
      " Relative error = 8.727717768965795e-5\n",
      " Relative error = 3.1567889829891986e-6\n",
      " Relative error = 8.957623635629167e-7\n",
      " Relative error = 3.633785062482295e-7\n",
      " Relative error = 1.5753612130516046e-7\n",
      " Relative error = 7.064703052340784e-8\n",
      " Relative error = 3.3356260497118655e-8\n",
      " Relative error = 1.71926894570838e-8\n",
      " Relative error = 1.0187444583375243e-8\n",
      " Entering displacemtent step55 :9.9e-6\n",
      " Relative error = 7.157384137103743e-9\n",
      " Entering displacemtent step56 :1.008e-5\n",
      " Relative error = 8.433352491197476e-5\n",
      " Relative error = 9.002038964704989e-5\n",
      " Relative error = 3.595905897775097e-6\n",
      " Relative error = 1.139821200312862e-6\n",
      " Relative error = 5.102983392855347e-7\n",
      " Relative error = 2.416345530105593e-7\n",
      " Relative error = 1.1663176394299569e-7\n",
      " Relative error = 5.746129246178894e-8\n",
      " Relative error = 2.9267981319194835e-8\n",
      " Relative error = 1.5773766092668777e-8\n",
      " Entering displacemtent step57 :1.026e-5\n",
      " Relative error = 9.26676442407323e-9\n",
      " Entering displacemtent step58 :1.044e-5\n",
      " Relative error = 8.613676310960741e-5\n",
      " Relative error = 9.280787379814566e-5\n",
      " Relative error = 4.103384993879953e-6\n",
      " Relative error = 1.4571103356876676e-6\n",
      " Relative error = 7.22206392782542e-7\n",
      " Relative error = 3.765624037162732e-7\n",
      " Relative error = 1.991788448481228e-7\n",
      " Relative error = 1.0633425045999688e-7\n",
      " Relative error = 5.738328193463472e-8\n",
      " Relative error = 3.1496923832551754e-8\n",
      " Entering displacemtent step59 :1.062e-5\n",
      " Relative error = 1.77737790495951e-8\n",
      " Relative error = 8.761704415512034e-5\n",
      " Relative error = 3.3983816591937067e-6\n",
      " Relative error = 1.1481543733773274e-6\n",
      " Relative error = 5.902829463990321e-7\n",
      " Relative error = 3.2393215625556583e-7\n",
      " Relative error = 1.804498854690837e-7\n",
      " Relative error = 1.0131736923923114e-7\n",
      " Relative error = 5.7327798801041425e-8\n",
      " Relative error = 3.279033169625417e-8\n",
      " Entering displacemtent step60 :1.08e-5\n",
      " Relative error = 1.9078380741990978e-8\n",
      " Relative error = 8.997844668081358e-5\n",
      " Relative error = 3.5964332313271876e-6\n",
      " Relative error = 1.2867759984673285e-6\n",
      " Relative error = 6.982030128088181e-7\n",
      " Relative error = 4.037111112885566e-7\n",
      " Relative error = 2.3681473148195436e-7\n",
      " Relative error = 1.3981479611085473e-7\n",
      " Relative error = 8.292666458354807e-8\n",
      " Relative error = 4.944204148982392e-8\n",
      " Entering displacemtent step61 :1.098e-5\n",
      " Relative error = 2.9694922686523768e-8\n",
      " Relative error = 9.066883349179603e-5\n",
      " Relative error = 3.8026673275566457e-6\n",
      " Relative error = 1.444257254667608e-6\n",
      " Relative error = 8.29103552580657e-7\n",
      " Relative error = 5.062976637196195e-7\n",
      " Relative error = 3.1356827601990524e-7\n",
      " Relative error = 1.9536153061599506e-7\n",
      " Relative error = 1.221488316956215e-7\n",
      " Relative error = 7.659557698714497e-8\n",
      " Entering displacemtent step62 :1.116e-5\n",
      " Relative error = 4.8194784695953073e-8\n",
      " Relative error = 9.123344135466348e-5\n",
      " Relative error = 4.024040672428847e-6\n",
      " Relative error = 1.627168616342132e-6\n",
      " Relative error = 9.907143259711843e-7\n",
      " Relative error = 6.40407576236134e-7\n",
      " Relative error = 4.1996839253148873e-7\n",
      " Relative error = 2.770976108983207e-7\n",
      " Relative error = 1.834401837836042e-7\n",
      " Relative error = 1.2169036631130206e-7\n",
      " Entering displacemtent step63 :1.134e-5\n",
      " Relative error = 8.091149794245857e-8\n",
      " Relative error = 9.16561685754367e-5\n",
      " Relative error = 4.266121027323811e-6\n",
      " Relative error = 1.844546408791178e-6\n",
      " Relative error = 1.1949372908641974e-6\n",
      " Relative error = 8.202713210524458e-7\n",
      " Relative error = 5.714384463926817e-7\n",
      " Relative error = 4.0072919566526275e-7\n",
      " Relative error = 2.820618927456875e-7\n",
      " Relative error = 1.9901192876008519e-7\n",
      " Entering displacemtent step64 :1.152e-5\n",
      " Relative error = 1.406673797090201e-7\n",
      " Relative error = 9.185424980223953e-5\n",
      " Relative error = 4.538933365351712e-6\n",
      " Relative error = 2.112637506621184e-6\n",
      " Relative error = 1.4624412501830448e-6\n",
      " Relative error = 1.0702860499961665e-6\n",
      " Relative error = 7.954660613242199e-7\n",
      " Relative error = 5.956460533403736e-7\n",
      " Relative error = 4.4804011133425764e-7\n",
      " Relative error = 3.3806269917210465e-7\n",
      " Entering displacemtent step65 :1.17e-5\n",
      " Relative error = 2.556443342284098e-7\n",
      " Relative error = 9.160628060831884e-5\n",
      " Relative error = 4.867516418104756e-6\n",
      " Relative error = 2.465905925934654e-6\n",
      " Relative error = 1.8356915646953407e-6\n",
      " Relative error = 1.4407289010537757e-6\n",
      " Relative error = 1.1493298522182245e-6\n",
      " Relative error = 9.249269388484098e-7\n",
      " Relative error = 7.487241032036091e-7\n",
      " Relative error = 6.087538345069733e-7\n",
      " Entering displacemtent step66 :1.188e-5\n",
      " Relative error = 4.966305113567782e-7\n",
      " Relative error = 9.05106725008014e-5\n",
      " Relative error = 5.324456915299212e-6\n",
      " Relative error = 2.9947536608998905e-6\n",
      " Relative error = 2.4237312071117203e-6\n",
      " Relative error = 2.061115155844402e-6\n",
      " Relative error = 1.7837771513375437e-6\n",
      " Relative error = 1.5603460990847102e-6\n",
      " Relative error = 1.3760134836548295e-6\n",
      " Relative error = 1.221619898763312e-6\n",
      " Entering displacemtent step67 :1.206e-5\n",
      " Relative error = 1.0907022875011135e-6\n",
      " Relative error = 8.782267937386877e-5\n",
      " Relative error = 6.1633732987633246e-6\n",
      " Relative error = 4.020174608484731e-6\n",
      " Relative error = 3.6130138444228424e-6\n",
      " Relative error = 3.394587292739987e-6\n",
      " Relative error = 3.2516039213216396e-6\n",
      " Relative error = 3.1574964109568865e-6\n",
      " Relative error = 3.1025781206703774e-6\n",
      " Relative error = 3.0820908768997722e-6\n",
      " Entering displacemtent step68 :1.224e-5\n",
      " Relative error = 3.093525135203666e-6\n",
      " Relative error = 8.098906523573262e-5\n",
      " Relative error = 8.77637132212213e-6\n",
      " Relative error = 7.336101131048162e-6\n",
      " Relative error = 7.602981002003159e-6\n",
      " Relative error = 8.158813956530576e-6\n",
      " Relative error = 8.928873380816289e-6\n",
      " Relative error = 9.929866588050452e-6\n",
      " Relative error = 1.1194159483440724e-5\n",
      " Relative error = 1.2744101165505957e-5\n",
      " Entering displacemtent step69 :1.242e-5\n",
      " Relative error = 1.458469037251978e-5\n",
      " Relative error = 6.725068332255113e-5\n",
      " Relative error = 2.427866166475448e-5\n",
      " Relative error = 2.4916343943649345e-5\n",
      " Relative error = 2.6002079915535604e-5\n",
      " Relative error = 2.6530694644366962e-5\n",
      " Relative error = 2.60463363365668e-5\n",
      " Relative error = 2.4788115503995078e-5\n",
      " Relative error = 2.3542409382582442e-5\n",
      " Relative error = 2.2603166255405903e-5\n",
      " Entering displacemtent step70 :1.26e-5\n",
      " Relative error = 2.188420346340742e-5\n",
      " Relative error = 5.5893540950713126e-5\n",
      " Relative error = 2.543295466349893e-5\n",
      " Relative error = 2.3047354421267245e-5\n",
      " Relative error = 2.1883771850982177e-5\n",
      " Relative error = 2.116749638800319e-5\n",
      " Relative error = 2.071926225124294e-5\n",
      " Relative error = 2.0353872750997638e-5\n",
      " Relative error = 2.0015672487852128e-5\n",
      " Relative error = 1.971041037607272e-5\n",
      " Entering displacemtent step71 :1.278e-5\n",
      " Relative error = 1.9258042136580535e-5\n",
      " Relative error = 5.3519618842543026e-5\n",
      " Relative error = 2.3251366322346675e-5\n",
      " Relative error = 2.1590044359799855e-5\n",
      " Relative error = 2.132502607948462e-5\n",
      " Relative error = 2.1192668457843467e-5\n",
      " Relative error = 2.082084396927206e-5\n",
      " Relative error = 2.0446043656005836e-5\n",
      " Relative error = 2.012741375435995e-5\n",
      " Relative error = 1.9713168068718044e-5\n",
      " Entering displacemtent step72 :1.296e-5\n",
      " Relative error = 1.92509792509119e-5\n",
      " Relative error = 5.287985858591957e-5\n",
      " Relative error = 2.433801940047847e-5\n",
      " Relative error = 2.2940708008825782e-5\n",
      " Relative error = 2.2246870956119776e-5\n",
      " Relative error = 2.1681028657387818e-5\n",
      " Relative error = 2.1371936077374477e-5\n",
      " Relative error = 2.109176794703357e-5\n",
      " Relative error = 2.088641864808587e-5\n",
      " Relative error = 2.0870664417109182e-5\n",
      " Entering displacemtent step73 :1.314e-5\n",
      " Relative error = 2.0831118336745667e-5\n",
      " Relative error = 5.235975484497765e-5\n",
      " Relative error = 2.5115537498481513e-5\n",
      " Relative error = 2.3318123434549165e-5\n",
      " Relative error = 2.2778420160770943e-5\n",
      " Relative error = 2.2572893482668833e-5\n",
      " Relative error = 2.2519741855433464e-5\n",
      " Relative error = 2.250712414142168e-5\n",
      " Relative error = 2.2281599510655206e-5\n",
      " Relative error = 2.1750063681643092e-5\n",
      " Entering displacemtent step74 :1.332e-5\n",
      " Relative error = 2.115665833850847e-5\n",
      " Relative error = 5.0273781935359017e-5\n",
      " Relative error = 2.5704320062547476e-5\n",
      " Relative error = 2.4346381847984242e-5\n",
      " Relative error = 2.3980505393024455e-5\n",
      " Relative error = 2.3775079668961795e-5\n",
      " Relative error = 2.3400746641805457e-5\n",
      " Relative error = 2.284909040783714e-5\n",
      " Relative error = 2.2471901466101265e-5\n",
      " Relative error = 2.2443540796583454e-5\n",
      " Entering displacemtent step75 :1.35e-5\n",
      " Relative error = 2.239055723701528e-5\n",
      " Relative error = 4.9537175510887206e-5\n",
      " Relative error = 2.679338644441515e-5\n",
      " Relative error = 2.5283170292557892e-5\n",
      " Relative error = 2.459970028978675e-5\n",
      " Relative error = 2.4278034605557657e-5\n",
      " Relative error = 2.4252566789494147e-5\n",
      " Relative error = 2.3984754284204455e-5\n",
      " Relative error = 2.3406187139510552e-5\n",
      " Relative error = 2.291726501677301e-5\n",
      " Entering displacemtent step76 :1.368e-5\n",
      " Relative error = 2.2616774820217113e-5\n",
      " Relative error = 4.796549724813681e-5\n",
      " Relative error = 2.7251307706163535e-5\n",
      " Relative error = 2.6027673704587065e-5\n",
      " Relative error = 2.5422669486354458e-5\n",
      " Relative error = 2.469999354252427e-5\n",
      " Relative error = 2.410755853930553e-5\n",
      " Relative error = 2.3765663947958184e-5\n",
      " Relative error = 2.3611164086077247e-5\n",
      " Relative error = 2.3543808733678568e-5\n",
      " Entering displacemtent step77 :1.386e-5\n",
      " Relative error = 2.340146878745368e-5\n",
      " Relative error = 4.6950512513763365e-5\n",
      " Relative error = 2.725831331396271e-5\n",
      " Relative error = 2.5567115063390325e-5\n",
      " Relative error = 2.504506822030537e-5\n",
      " Relative error = 2.475717122150979e-5\n",
      " Relative error = 2.453018546536788e-5\n",
      " Relative error = 2.425019343034868e-5\n",
      " Relative error = 2.3728602884698e-5\n",
      " Relative error = 2.313924533849169e-5\n",
      " Entering displacemtent step78 :1.404e-5\n",
      " Relative error = 2.282427977049549e-5\n",
      " Relative error = 4.5083006586366084e-5\n",
      " Relative error = 2.7469885291271905e-5\n",
      " Relative error = 2.59830370994926e-5\n",
      " Relative error = 2.5406796319307112e-5\n",
      " Relative error = 2.479798863809892e-5\n",
      " Relative error = 2.429836891508411e-5\n",
      " Relative error = 2.4160121635469054e-5\n",
      " Relative error = 2.395382708245002e-5\n",
      " Relative error = 2.3394493164927942e-5\n",
      " Entering displacemtent step79 :1.422e-5\n",
      " Relative error = 2.2864769577078455e-5\n",
      " Relative error = 4.348181775473843e-5\n",
      " Relative error = 2.683258824733519e-5\n",
      " Relative error = 2.549274216056233e-5\n",
      " Relative error = 2.5195361836538896e-5\n",
      " Relative error = 2.467879804904986e-5\n"
     ]
    },
    {
     "name": "stdout",
     "output_type": "stream",
     "text": [
      " Relative error = 2.39516539502149e-5\n",
      " Relative error = 2.338333826696551e-5\n",
      " Relative error = 2.2986020848929147e-5\n",
      " Relative error = 2.2712499305830496e-5\n",
      " Entering displacemtent step80 :1.44e-5\n",
      " Relative error = 2.2585788779344342e-5\n",
      " Relative error = 4.229207216396541e-5\n",
      " Relative error = 2.6452667738794556e-5\n",
      " Relative error = 2.4651460865948175e-5\n",
      " Relative error = 2.3856091481620852e-5\n",
      " Relative error = 2.3425809773209343e-5\n",
      " Relative error = 2.320778088485563e-5\n",
      " Relative error = 2.3061603099609988e-5\n",
      " Relative error = 2.2746891259492544e-5\n",
      " Relative error = 2.2107255063263835e-5\n",
      " Entering displacemtent step81 :1.458e-5\n",
      " Relative error = 2.1397136757101105e-5\n",
      " Relative error = 3.9745265025923604e-5\n",
      " Relative error = 2.503133800798794e-5\n",
      " Relative error = 2.370371020665174e-5\n",
      " Relative error = 2.3246109018525856e-5\n",
      " Relative error = 2.284947732311289e-5\n",
      " Relative error = 2.2233481306971653e-5\n",
      " Relative error = 2.1559197386552725e-5\n",
      " Relative error = 2.1108813020814556e-5\n",
      " Relative error = 2.092475745818598e-5\n",
      " Entering displacemtent step82 :1.476e-5\n",
      " Relative error = 2.0733821935105748e-5\n",
      " Relative error = 3.835846178133847e-5\n",
      " Relative error = 2.4396454683139824e-5\n",
      " Relative error = 2.2873248015009737e-5\n",
      " Relative error = 2.2015832224373154e-5\n",
      " Relative error = 2.1508462879565523e-5\n",
      " Relative error = 2.1328332018026255e-5\n",
      " Relative error = 2.1044589713437388e-5\n",
      " Relative error = 2.0498435668453895e-5\n",
      " Relative error = 2.0017699068557316e-5\n",
      " Entering displacemtent step83 :1.494e-5\n",
      " Relative error = 1.9583470007015057e-5\n",
      " Relative error = 3.621687664419307e-5\n",
      " Relative error = 2.2823162298492498e-5\n",
      " Relative error = 2.1665225156501974e-5\n",
      " Relative error = 2.127901992753745e-5\n",
      " Relative error = 2.0668720473344937e-5\n",
      " Relative error = 2.0015067293978865e-5\n",
      " Relative error = 1.955364263804278e-5\n",
      " Relative error = 1.9123205991507648e-5\n",
      " Relative error = 1.8663117410960444e-5\n",
      " Entering displacemtent step84 :1.512e-5\n",
      " Relative error = 1.8449181732851345e-5\n",
      " Relative error = 3.463359470815582e-5\n",
      " Relative error = 2.205202175071181e-5\n",
      " Relative error = 2.041027234333242e-5\n",
      " Relative error = 1.9570994538331213e-5\n",
      " Relative error = 1.9079937495213406e-5\n",
      " Relative error = 1.8669206903701e-5\n",
      " Relative error = 1.8345084030813298e-5\n",
      " Relative error = 1.8183950691581192e-5\n",
      " Relative error = 1.7996587419924682e-5\n",
      " Entering displacemtent step85 :1.53e-5\n",
      " Relative error = 1.7558388320536724e-5\n",
      " Relative error = 3.256344992149548e-5\n",
      " Relative error = 2.0216614489139278e-5\n",
      " Relative error = 1.8776060228233948e-5\n",
      " Relative error = 1.8244444595916167e-5\n",
      " Relative error = 1.792958403733588e-5\n",
      " Relative error = 1.7758821558156068e-5\n",
      " Relative error = 1.758757295895864e-5\n",
      " Relative error = 1.7217640701256587e-5\n",
      " Relative error = 1.6599356565206683e-5\n",
      " Entering displacemtent step86 :1.548e-5\n",
      " Relative error = 1.5939607462958036e-5\n",
      " Relative error = 3.0466205045884354e-5\n",
      " Relative error = 1.8826353498412677e-5\n",
      " Relative error = 1.7618783823727152e-5\n",
      " Relative error = 1.726829295223794e-5\n",
      " Relative error = 1.707977522612468e-5\n",
      " Relative error = 1.6861283892258646e-5\n",
      " Relative error = 1.6424452457946483e-5\n",
      " Relative error = 1.5798257741157427e-5\n",
      " Relative error = 1.5169354241942168e-5\n",
      " Entering displacemtent step87 :1.566e-5\n",
      " Relative error = 1.4669739347648804e-5\n",
      " Relative error = 2.8788392950835336e-5\n",
      " Relative error = 1.7791405286935478e-5\n",
      " Relative error = 1.665073567876953e-5\n",
      " Relative error = 1.626352479964092e-5\n",
      " Relative error = 1.600398121997398e-5\n",
      " Relative error = 1.563343862511104e-5\n",
      " Relative error = 1.5085939045777881e-5\n",
      " Relative error = 1.4496866305695697e-5\n",
      " Relative error = 1.4007108251226523e-5\n",
      " Entering displacemtent step88 :1.584e-5\n",
      " Relative error = 1.3679849038811215e-5\n",
      " Relative error = 2.738597324422746e-5\n",
      " Relative error = 1.6973208325585144e-5\n",
      " Relative error = 1.5858743140822855e-5\n",
      " Relative error = 1.5427349931985644e-5\n",
      " Relative error = 1.5092844910609146e-5\n",
      " Relative error = 1.4655907527148633e-5\n",
      " Relative error = 1.4101892534544418e-5\n",
      " Relative error = 1.35416006776661e-5\n",
      " Relative error = 1.3101183057924998e-5\n",
      " Entering displacemtent step89 :1.602e-5\n",
      " Relative error = 1.2890708481920073e-5\n",
      " Relative error = 2.6197538563894856e-5\n",
      " Relative error = 1.6227047462757292e-5\n",
      " Relative error = 1.5024301972880951e-5\n",
      " Relative error = 1.4467027299731922e-5\n",
      " Relative error = 1.4082620982370778e-5\n",
      " Relative error = 1.3687058669527625e-5\n",
      " Relative error = 1.3208267511705861e-5\n",
      " Relative error = 1.2699114521645307e-5\n",
      " Relative error = 1.2267029178081668e-5\n",
      " Entering displacemtent step90 :1.62e-5\n",
      " Relative error = 1.209377048704359e-5\n",
      " Relative error = 2.4953432164068146e-5\n",
      " Relative error = 1.5369834633242512e-5\n",
      " Relative error = 1.4185119124443888e-5\n",
      " Relative error = 1.3547861050536208e-5\n",
      " Relative error = 1.3100269024982003e-5\n",
      " Relative error = 1.2758824322506598e-5\n",
      " Relative error = 1.2397442985601252e-5\n",
      " Relative error = 1.1974591097581646e-5\n",
      " Relative error = 1.1533921156348418e-5\n",
      " Entering displacemtent step91 :1.638e-5\n",
      " Relative error = 1.1233345158257474e-5\n",
      " Relative error = 2.3525911249189932e-5\n",
      " Relative error = 1.4382405509752237e-5\n",
      " Relative error = 1.3375649023218396e-5\n",
      " Relative error = 1.2856982204283642e-5\n",
      " Relative error = 1.231031281429585e-5\n",
      " Relative error = 1.1865750864688855e-5\n",
      " Relative error = 1.1545934337209056e-5\n",
      " Relative error = 1.1250128512965863e-5\n",
      " Relative error = 1.0914727132255365e-5\n",
      " Entering displacemtent step92 :1.656e-5\n",
      " Relative error = 1.053569438125859e-5\n",
      " Relative error = 2.2155443977933174e-5\n",
      " Relative error = 1.3230883912538678e-5\n",
      " Relative error = 1.2331104729871152e-5\n",
      " Relative error = 1.2085019215788237e-5\n",
      " Relative error = 1.1805547116670338e-5\n",
      " Relative error = 1.1374587596767806e-5\n",
      " Relative error = 1.0870372505680721e-5\n",
      " Relative error = 1.0463630860489343e-5\n",
      " Relative error = 1.0172189417260473e-5\n",
      " Entering displacemtent step93 :1.674e-5\n",
      " Relative error = 9.916347479795649e-6\n",
      " Relative error = 2.1229428170468288e-5\n",
      " Relative error = 1.2464648362056295e-5\n",
      " Relative error = 1.128139420840407e-5\n",
      " Relative error = 1.0923965184781427e-5\n",
      " Relative error = 1.0818329651612552e-5\n",
      " Relative error = 1.0735591020811003e-5\n",
      " Relative error = 1.055453923616041e-5\n",
      " Relative error = 1.0218739760838948e-5\n",
      " Relative error = 9.77242233005322e-6\n",
      " Entering displacemtent step94 :1.692e-5\n",
      " Relative error = 9.318522909512231e-6\n",
      " Relative error = 2.0191512969376886e-5\n",
      " Relative error = 1.1724582865846564e-5\n",
      " Relative error = 1.0651766472160416e-5\n",
      " Relative error = 1.0221694188769166e-5\n",
      " Relative error = 9.866922581402201e-6\n",
      " Relative error = 9.565920491643165e-6\n",
      " Relative error = 9.39910740106615e-6\n",
      " Relative error = 9.343585670108312e-6\n",
      " Relative error = 9.29620986620086e-6\n",
      " Entering displacemtent step95 :1.71e-5\n",
      " Relative error = 9.174336401504362e-6\n",
      " Relative error = 1.9904618276699384e-5\n",
      " Relative error = 1.1541083669191846e-5\n",
      " Relative error = 1.0241019087938091e-5\n",
      " Relative error = 9.632936516976714e-6\n",
      " Relative error = 9.25697889432819e-6\n",
      " Relative error = 8.990277057648747e-6\n",
      " Relative error = 8.754650594990224e-6\n",
      " Relative error = 8.509291768566768e-6\n",
      " Relative error = 8.242441003778251e-6\n",
      " Entering displacemtent step96 :1.728e-5\n",
      " Relative error = 8.003855339222579e-6\n",
      " Relative error = 1.8479814193906137e-5\n",
      " Relative error = 1.0663872546319098e-5\n",
      " Relative error = 9.807357517748323e-6\n",
      " Relative error = 9.553662119703083e-6\n",
      " Relative error = 9.310376692399567e-6\n",
      " Relative error = 8.966587066856227e-6\n",
      " Relative error = 8.54542489183552e-6\n",
      " Relative error = 8.113133331811144e-6\n",
      " Relative error = 7.7534733393914e-6\n",
      " Entering displacemtent step97 :1.746e-5\n",
      " Relative error = 7.491469302969175e-6\n",
      " Relative error = 1.758886383031619e-5\n",
      " Relative error = 9.92215426554379e-6\n",
      " Relative error = 8.894317756639474e-6\n",
      " Relative error = 8.479004251670076e-6\n",
      " Relative error = 8.185770268747611e-6\n",
      " Relative error = 8.005552116906473e-6\n",
      " Relative error = 7.922504613137127e-6\n",
      " Relative error = 7.884645812351192e-6\n",
      " Relative error = 7.825487080381181e-6\n",
      " Entering displacemtent step98 :1.764e-5\n",
      " Relative error = 7.696300882040266e-6\n",
      " Relative error = 1.756355889663259e-5\n",
      " Relative error = 9.935750047964005e-6\n",
      " Relative error = 8.719119378192882e-6\n",
      " Relative error = 8.132807542151404e-6\n",
      " Relative error = 7.737271389286197e-6\n",
      " Relative error = 7.463390661798027e-6\n",
      " Relative error = 7.2471129256736485e-6\n",
      " Relative error = 7.047022593351049e-6\n",
      " Relative error = 6.841570539212754e-6\n",
      " Entering displacemtent step99 :1.782e-5\n",
      " Relative error = 6.624709076841157e-6\n",
      " Relative error = 1.6249551087642642e-5\n",
      " Relative error = 8.955480269927316e-6\n",
      " Relative error = 8.032057578018124e-6\n",
      " Relative error = 7.815913586568176e-6\n",
      " Relative error = 7.736386790805493e-6\n",
      " Relative error = 7.649061229700063e-6\n",
      " Relative error = 7.493624907066299e-6\n",
      " Relative error = 7.25083772700098e-6\n",
      " Relative error = 6.926377737857915e-6\n",
      " Entering displacemtent step100 :1.8e-5\n",
      " Relative error = 6.5668952836959025e-6\n",
      " Relative error = 1.5754602642134754e-5\n",
      " Relative error = 8.55333287005122e-6\n",
      " Relative error = 7.506844599412216e-6\n",
      " Relative error = 7.13820004946594e-6\n",
      " Relative error = 6.9004981446997825e-6\n",
      " Relative error = 6.687936160757192e-6\n",
      " Relative error = 6.471131255321835e-6\n",
      " Relative error = 6.246242509345863e-6\n",
      " Relative error = 6.034601940437861e-6"
     ]
    }
   ],
   "source": [
    "t = 0.0\n",
    "innerMax = 10\n",
    "count = 0\n",
    "tol = 1e-8\n",
    "\n",
    "Load = Float64[]\n",
    "Displacement = Float64[]\n",
    "\n",
    "push!(Load, 0.0)\n",
    "push!(Displacement, 0.0)\n",
    "\n",
    "\n",
    "ψPlusPrev = CellState(0.0,dΩ) \n",
    "sPrev = CellState(1.0,dΩ)\n",
    "sh = project(sPrev,model,dΩ,order)\n",
    "ThPrev = CellState(T0,dΩ)\n",
    "Th = project(ThPrev,model,dΩ,order)\n",
    "ϕPrev = CellState(0.0,dΩ)\n",
    "ϕh = project(ϕPrev,model,dΩ,order)\n",
    "\n",
    "\n",
    "while t .< tMax \n",
    "    count = count .+ 1      \n",
    "    t = t + delt\n",
    "    vApp = AppVel*t    \n",
    "    TApp = TAppVec[count]\n",
    "    phiApp = ϕAppVec[count]\n",
    "    \n",
    "    \n",
    "    print(\"\\n Entering displacemtent step$count :\", float(vApp))\n",
    "    \n",
    "   for inner = 1:innerMax   \n",
    "        \n",
    "        ψhPlusPrev = project(ψPlusPrev,model,dΩ,order)\n",
    "        \n",
    "        RelErr = abs(sum(∫( Gc*lsp*∇(sh)⋅ ∇(sh) + 2*ψhPlusPrev*sh*sh  + (Gc/lsp)*sh*sh)*dΩ - ∫( (Gc/lsp)*sh)*dΩ))/abs(sum(∫( (Gc/lsp)*sh)*dΩ))\n",
    "        print(\"\\n Relative error = \",float(RelErr))\n",
    "        \n",
    "        sh = stepPhaseField(uh,ψhPlusPrev) \n",
    "        uh,ϕh,Th = stepDispElecPotTemp(uh, ϕh, Th, sh, vApp, phiApp, TApp, delt, C₁₁_mat, C₁₂_mat, C₂₂_mat, C₆₆_mat, e₂₁_mat, e₂₂_mat, e₁₆_mat, K₁₁_mat, K₂₂_mat, α₁₁_mat, α₂₂_mat,κ_mat)\n",
    "        \n",
    "        ψhPos_in = ψPos∘(ε(uh),Th,∇(ϕh),C₁₁_mat,C₁₂_mat,C₂₂_mat,C₆₆_mat, α₁₁_mat, α₂₂_mat, e₂₁_mat,e₂₂_mat,e₁₆_mat)      \n",
    "        \n",
    "        update_state!(new_EnergyState,ψPlusPrev,ψhPos_in)\n",
    "  \n",
    "        if RelErr < 1e-8\n",
    "            break \n",
    "        end      \n",
    "    end\n",
    "    \n",
    "    Node_Force = sum(∫( n_Γ_Load ⋅ (σ_elasMod∘(ε(uh),Th,ε(uh),sh,Th,C₁₁_mat,C₁₂_mat,C₂₂_mat,C₆₆_mat,α₁₁_mat,α₂₂_mat)) ) *dΓ_Load + ∫( n_Γ_Load ⋅ (σ_piezoMod∘(∇(ϕh),sh,e₂₁_mat,e₂₂_mat,e₁₆_mat) ) )  *dΓ_Load)\n",
    "    \n",
    "    push!(Load, Node_Force[2])\n",
    "    push!(Displacement, vApp)\n",
    "    if mod(count,2) == 0\n",
    "         writevtk(Ω,\"results_NotchedBeam_0mmEccentric_20000_$count\",cellfields=\n",
    "        [\"uh\"=>uh,\"s\"=>sh ,\"phi\"=>ϕh, \"epsi\"=>ε(uh),\"T\" => Th])\n",
    "    end\n",
    "end"
   ]
  },
  {
   "cell_type": "code",
   "execution_count": 48,
   "id": "disabled-stone",
   "metadata": {},
   "outputs": [
    {
     "data": {
      "text/plain": [
       "([\"results_NotchedBeam_0mmEccentric_20000_100.vtu\"],)"
      ]
     },
     "execution_count": 48,
     "metadata": {},
     "output_type": "execute_result"
    }
   ],
   "source": [
    " writevtk(Ω,\"results_NotchedBeam_0mmEccentric_20000_$count\",cellfields=\n",
    "        [\"uh\"=>uh,\"s\"=>sh ,\"phi\"=>ϕh, \"epsi\"=>ε(uh)])"
   ]
  },
  {
   "cell_type": "code",
   "execution_count": 49,
   "id": "colonial-infection",
   "metadata": {
    "scrolled": false
   },
   "outputs": [
    {
     "data": {
      "image/svg+xml": [
       "<?xml version=\"1.0\" encoding=\"utf-8\"?>\n",
       "<svg xmlns=\"http://www.w3.org/2000/svg\" xmlns:xlink=\"http://www.w3.org/1999/xlink\" width=\"600\" height=\"400\" viewBox=\"0 0 2400 1600\">\n",
       "<defs>\n",
       "  <clipPath id=\"clip580\">\n",
       "    <rect x=\"0\" y=\"0\" width=\"2400\" height=\"1600\"/>\n",
       "  </clipPath>\n",
       "</defs>\n",
       "<path clip-path=\"url(#clip580)\" d=\"M0 1600 L2400 1600 L2400 0 L0 0  Z\" fill=\"#ffffff\" fill-rule=\"evenodd\" fill-opacity=\"1\"/>\n",
       "<defs>\n",
       "  <clipPath id=\"clip581\">\n",
       "    <rect x=\"480\" y=\"0\" width=\"1681\" height=\"1600\"/>\n",
       "  </clipPath>\n",
       "</defs>\n",
       "<path clip-path=\"url(#clip580)\" d=\"M169.121 1474.16 L2352.76 1474.16 L2352.76 47.2441 L169.121 47.2441  Z\" fill=\"#ffffff\" fill-rule=\"evenodd\" fill-opacity=\"1\"/>\n",
       "<defs>\n",
       "  <clipPath id=\"clip582\">\n",
       "    <rect x=\"169\" y=\"47\" width=\"2185\" height=\"1428\"/>\n",
       "  </clipPath>\n",
       "</defs>\n",
       "<polyline clip-path=\"url(#clip582)\" style=\"stroke:#000000; stroke-linecap:round; stroke-linejoin:round; stroke-width:2; stroke-opacity:0.1; fill:none\" points=\"230.922,1474.16 230.922,47.2441 \"/>\n",
       "<polyline clip-path=\"url(#clip582)\" style=\"stroke:#000000; stroke-linecap:round; stroke-linejoin:round; stroke-width:2; stroke-opacity:0.1; fill:none\" points=\"803.154,1474.16 803.154,47.2441 \"/>\n",
       "<polyline clip-path=\"url(#clip582)\" style=\"stroke:#000000; stroke-linecap:round; stroke-linejoin:round; stroke-width:2; stroke-opacity:0.1; fill:none\" points=\"1375.38,1474.16 1375.38,47.2441 \"/>\n",
       "<polyline clip-path=\"url(#clip582)\" style=\"stroke:#000000; stroke-linecap:round; stroke-linejoin:round; stroke-width:2; stroke-opacity:0.1; fill:none\" points=\"1947.62,1474.16 1947.62,47.2441 \"/>\n",
       "<polyline clip-path=\"url(#clip580)\" style=\"stroke:#000000; stroke-linecap:round; stroke-linejoin:round; stroke-width:4; stroke-opacity:1; fill:none\" points=\"169.121,1474.16 2352.76,1474.16 \"/>\n",
       "<polyline clip-path=\"url(#clip580)\" style=\"stroke:#000000; stroke-linecap:round; stroke-linejoin:round; stroke-width:4; stroke-opacity:1; fill:none\" points=\"230.922,1474.16 230.922,1455.27 \"/>\n",
       "<polyline clip-path=\"url(#clip580)\" style=\"stroke:#000000; stroke-linecap:round; stroke-linejoin:round; stroke-width:4; stroke-opacity:1; fill:none\" points=\"803.154,1474.16 803.154,1455.27 \"/>\n",
       "<polyline clip-path=\"url(#clip580)\" style=\"stroke:#000000; stroke-linecap:round; stroke-linejoin:round; stroke-width:4; stroke-opacity:1; fill:none\" points=\"1375.38,1474.16 1375.38,1455.27 \"/>\n",
       "<polyline clip-path=\"url(#clip580)\" style=\"stroke:#000000; stroke-linecap:round; stroke-linejoin:round; stroke-width:4; stroke-opacity:1; fill:none\" points=\"1947.62,1474.16 1947.62,1455.27 \"/>\n",
       "<path clip-path=\"url(#clip580)\" d=\"M230.922 1505.08 Q227.311 1505.08 225.483 1508.65 Q223.677 1512.19 223.677 1519.32 Q223.677 1526.43 225.483 1529.99 Q227.311 1533.53 230.922 1533.53 Q234.557 1533.53 236.362 1529.99 Q238.191 1526.43 238.191 1519.32 Q238.191 1512.19 236.362 1508.65 Q234.557 1505.08 230.922 1505.08 M230.922 1501.38 Q236.732 1501.38 239.788 1505.99 Q242.867 1510.57 242.867 1519.32 Q242.867 1528.05 239.788 1532.65 Q236.732 1537.24 230.922 1537.24 Q225.112 1537.24 222.033 1532.65 Q218.978 1528.05 218.978 1519.32 Q218.978 1510.57 222.033 1505.99 Q225.112 1501.38 230.922 1501.38 Z\" fill=\"#000000\" fill-rule=\"evenodd\" fill-opacity=\"1\" /><path clip-path=\"url(#clip580)\" d=\"M680.078 1517.66 L698.434 1517.66 L698.434 1521.6 L684.36 1521.6 L684.36 1530.07 Q685.379 1529.72 686.397 1529.56 Q687.416 1529.38 688.434 1529.38 Q694.221 1529.38 697.601 1532.55 Q700.98 1535.72 700.98 1541.14 Q700.98 1546.72 697.508 1549.82 Q694.036 1552.9 687.717 1552.9 Q685.541 1552.9 683.272 1552.53 Q681.027 1552.16 678.619 1551.41 L678.619 1546.72 Q680.703 1547.85 682.925 1548.41 Q685.147 1548.96 687.624 1548.96 Q691.629 1548.96 693.967 1546.85 Q696.304 1544.75 696.304 1541.14 Q696.304 1537.53 693.967 1535.42 Q691.629 1533.31 687.624 1533.31 Q685.749 1533.31 683.874 1533.73 Q682.022 1534.15 680.078 1535.03 L680.078 1517.66 Z\" fill=\"#000000\" fill-rule=\"evenodd\" fill-opacity=\"1\" /><path clip-path=\"url(#clip580)\" d=\"M710.193 1546.35 L715.078 1546.35 L715.078 1552.22 L710.193 1552.22 L710.193 1546.35 Z\" fill=\"#000000\" fill-rule=\"evenodd\" fill-opacity=\"1\" /><path clip-path=\"url(#clip580)\" d=\"M735.263 1520.74 Q731.652 1520.74 729.823 1524.31 Q728.017 1527.85 728.017 1534.98 Q728.017 1542.09 729.823 1545.65 Q731.652 1549.19 735.263 1549.19 Q738.897 1549.19 740.702 1545.65 Q742.531 1542.09 742.531 1534.98 Q742.531 1527.85 740.702 1524.31 Q738.897 1520.74 735.263 1520.74 M735.263 1517.04 Q741.073 1517.04 744.128 1521.65 Q747.207 1526.23 747.207 1534.98 Q747.207 1543.71 744.128 1548.31 Q741.073 1552.9 735.263 1552.9 Q729.452 1552.9 726.374 1548.31 Q723.318 1543.71 723.318 1534.98 Q723.318 1526.23 726.374 1521.65 Q729.452 1517.04 735.263 1517.04 Z\" fill=\"#000000\" fill-rule=\"evenodd\" fill-opacity=\"1\" /><path clip-path=\"url(#clip580)\" d=\"M765.424 1520.74 Q761.813 1520.74 759.985 1524.31 Q758.179 1527.85 758.179 1534.98 Q758.179 1542.09 759.985 1545.65 Q761.813 1549.19 765.424 1549.19 Q769.059 1549.19 770.864 1545.65 Q772.693 1542.09 772.693 1534.98 Q772.693 1527.85 770.864 1524.31 Q769.059 1520.74 765.424 1520.74 M765.424 1517.04 Q771.235 1517.04 774.29 1521.65 Q777.369 1526.23 777.369 1534.98 Q777.369 1543.71 774.29 1548.31 Q771.235 1552.9 765.424 1552.9 Q759.614 1552.9 756.536 1548.31 Q753.48 1543.71 753.48 1534.98 Q753.48 1526.23 756.536 1521.65 Q759.614 1517.04 765.424 1517.04 Z\" fill=\"#000000\" fill-rule=\"evenodd\" fill-opacity=\"1\" /><path clip-path=\"url(#clip580)\" d=\"M813.758 1526.76 L803.179 1537.39 L813.758 1547.97 L811.003 1550.77 L800.378 1540.14 L789.753 1550.77 L787.022 1547.97 L797.577 1537.39 L787.022 1526.76 L789.753 1523.96 L800.378 1534.59 L811.003 1523.96 L813.758 1526.76 Z\" fill=\"#000000\" fill-rule=\"evenodd\" fill-opacity=\"1\" /><path clip-path=\"url(#clip580)\" d=\"M826.119 1548.29 L833.757 1548.29 L833.757 1521.92 L825.447 1523.59 L825.447 1519.33 L833.711 1517.66 L838.387 1517.66 L838.387 1548.29 L846.026 1548.29 L846.026 1552.22 L826.119 1552.22 L826.119 1548.29 Z\" fill=\"#000000\" fill-rule=\"evenodd\" fill-opacity=\"1\" /><path clip-path=\"url(#clip580)\" d=\"M865.47 1520.74 Q861.859 1520.74 860.03 1524.31 Q858.225 1527.85 858.225 1534.98 Q858.225 1542.09 860.03 1545.65 Q861.859 1549.19 865.47 1549.19 Q869.104 1549.19 870.91 1545.65 Q872.739 1542.09 872.739 1534.98 Q872.739 1527.85 870.91 1524.31 Q869.104 1520.74 865.47 1520.74 M865.47 1517.04 Q871.28 1517.04 874.336 1521.65 Q877.415 1526.23 877.415 1534.98 Q877.415 1543.71 874.336 1548.31 Q871.28 1552.9 865.47 1552.9 Q859.66 1552.9 856.581 1548.31 Q853.526 1543.71 853.526 1534.98 Q853.526 1526.23 856.581 1521.65 Q859.66 1517.04 865.47 1517.04 Z\" fill=\"#000000\" fill-rule=\"evenodd\" fill-opacity=\"1\" /><path clip-path=\"url(#clip580)\" d=\"M877.415 1511.14 L901.526 1511.14 L901.526 1514.34 L877.415 1514.34 L877.415 1511.14 Z\" fill=\"#000000\" fill-rule=\"evenodd\" fill-opacity=\"1\" /><path clip-path=\"url(#clip580)\" d=\"M918.322 1509.26 Q915.764 1509.26 914.259 1511.01 Q912.773 1512.76 912.773 1515.81 Q912.773 1518.83 914.259 1520.6 Q915.764 1522.35 918.322 1522.35 Q920.879 1522.35 922.365 1520.6 Q923.87 1518.83 923.87 1515.81 Q923.87 1512.76 922.365 1511.01 Q920.879 1509.26 918.322 1509.26 M925.863 1497.35 L925.863 1500.82 Q924.434 1500.14 922.967 1499.78 Q921.519 1499.42 920.089 1499.42 Q916.328 1499.42 914.334 1501.96 Q912.359 1504.5 912.077 1509.64 Q913.187 1508 914.861 1507.13 Q916.535 1506.25 918.547 1506.25 Q922.779 1506.25 925.224 1508.83 Q927.688 1511.39 927.688 1515.81 Q927.688 1520.13 925.13 1522.75 Q922.572 1525.36 918.322 1525.36 Q913.45 1525.36 910.874 1521.64 Q908.297 1517.89 908.297 1510.8 Q908.297 1504.14 911.457 1500.19 Q914.616 1496.23 919.939 1496.23 Q921.368 1496.23 922.817 1496.51 Q924.284 1496.79 925.863 1497.35 Z\" fill=\"#000000\" fill-rule=\"evenodd\" fill-opacity=\"1\" /><path clip-path=\"url(#clip580)\" d=\"M1252.77 1548.29 L1260.41 1548.29 L1260.41 1521.92 L1252.1 1523.59 L1252.1 1519.33 L1260.36 1517.66 L1265.04 1517.66 L1265.04 1548.29 L1272.67 1548.29 L1272.67 1552.22 L1252.77 1552.22 L1252.77 1548.29 Z\" fill=\"#000000\" fill-rule=\"evenodd\" fill-opacity=\"1\" /><path clip-path=\"url(#clip580)\" d=\"M1282.12 1546.35 L1287 1546.35 L1287 1552.22 L1282.12 1552.22 L1282.12 1546.35 Z\" fill=\"#000000\" fill-rule=\"evenodd\" fill-opacity=\"1\" /><path clip-path=\"url(#clip580)\" d=\"M1307.19 1520.74 Q1303.58 1520.74 1301.75 1524.31 Q1299.94 1527.85 1299.94 1534.98 Q1299.94 1542.09 1301.75 1545.65 Q1303.58 1549.19 1307.19 1549.19 Q1310.82 1549.19 1312.63 1545.65 Q1314.46 1542.09 1314.46 1534.98 Q1314.46 1527.85 1312.63 1524.31 Q1310.82 1520.74 1307.19 1520.74 M1307.19 1517.04 Q1313 1517.04 1316.05 1521.65 Q1319.13 1526.23 1319.13 1534.98 Q1319.13 1543.71 1316.05 1548.31 Q1313 1552.9 1307.19 1552.9 Q1301.38 1552.9 1298.3 1548.31 Q1295.24 1543.71 1295.24 1534.98 Q1295.24 1526.23 1298.3 1521.65 Q1301.38 1517.04 1307.19 1517.04 Z\" fill=\"#000000\" fill-rule=\"evenodd\" fill-opacity=\"1\" /><path clip-path=\"url(#clip580)\" d=\"M1337.35 1520.74 Q1333.74 1520.74 1331.91 1524.31 Q1330.11 1527.85 1330.11 1534.98 Q1330.11 1542.09 1331.91 1545.65 Q1333.74 1549.19 1337.35 1549.19 Q1340.98 1549.19 1342.79 1545.65 Q1344.62 1542.09 1344.62 1534.98 Q1344.62 1527.85 1342.79 1524.31 Q1340.98 1520.74 1337.35 1520.74 M1337.35 1517.04 Q1343.16 1517.04 1346.22 1521.65 Q1349.29 1526.23 1349.29 1534.98 Q1349.29 1543.71 1346.22 1548.31 Q1343.16 1552.9 1337.35 1552.9 Q1331.54 1552.9 1328.46 1548.31 Q1325.41 1543.71 1325.41 1534.98 Q1325.41 1526.23 1328.46 1521.65 Q1331.54 1517.04 1337.35 1517.04 Z\" fill=\"#000000\" fill-rule=\"evenodd\" fill-opacity=\"1\" /><path clip-path=\"url(#clip580)\" d=\"M1385.68 1526.76 L1375.1 1537.39 L1385.68 1547.97 L1382.93 1550.77 L1372.3 1540.14 L1361.68 1550.77 L1358.95 1547.97 L1369.5 1537.39 L1358.95 1526.76 L1361.68 1523.96 L1372.3 1534.59 L1382.93 1523.96 L1385.68 1526.76 Z\" fill=\"#000000\" fill-rule=\"evenodd\" fill-opacity=\"1\" /><path clip-path=\"url(#clip580)\" d=\"M1398.04 1548.29 L1405.68 1548.29 L1405.68 1521.92 L1397.37 1523.59 L1397.37 1519.33 L1405.64 1517.66 L1410.31 1517.66 L1410.31 1548.29 L1417.95 1548.29 L1417.95 1552.22 L1398.04 1552.22 L1398.04 1548.29 Z\" fill=\"#000000\" fill-rule=\"evenodd\" fill-opacity=\"1\" /><path clip-path=\"url(#clip580)\" d=\"M1437.4 1520.74 Q1433.79 1520.74 1431.96 1524.31 Q1430.15 1527.85 1430.15 1534.98 Q1430.15 1542.09 1431.96 1545.65 Q1433.79 1549.19 1437.4 1549.19 Q1441.03 1549.19 1442.84 1545.65 Q1444.66 1542.09 1444.66 1534.98 Q1444.66 1527.85 1442.84 1524.31 Q1441.03 1520.74 1437.4 1520.74 M1437.4 1517.04 Q1443.21 1517.04 1446.26 1521.65 Q1449.34 1526.23 1449.34 1534.98 Q1449.34 1543.71 1446.26 1548.31 Q1443.21 1552.9 1437.4 1552.9 Q1431.59 1552.9 1428.51 1548.31 Q1425.45 1543.71 1425.45 1534.98 Q1425.45 1526.23 1428.51 1521.65 Q1431.59 1517.04 1437.4 1517.04 Z\" fill=\"#000000\" fill-rule=\"evenodd\" fill-opacity=\"1\" /><path clip-path=\"url(#clip580)\" d=\"M1449.34 1511.14 L1473.45 1511.14 L1473.45 1514.34 L1449.34 1514.34 L1449.34 1511.14 Z\" fill=\"#000000\" fill-rule=\"evenodd\" fill-opacity=\"1\" /><path clip-path=\"url(#clip580)\" d=\"M1481.69 1496.73 L1496.6 1496.73 L1496.6 1499.93 L1485.17 1499.93 L1485.17 1506.82 Q1486 1506.53 1486.82 1506.4 Q1487.65 1506.25 1488.48 1506.25 Q1493.18 1506.25 1495.93 1508.83 Q1498.67 1511.4 1498.67 1515.81 Q1498.67 1520.34 1495.85 1522.86 Q1493.03 1525.36 1487.9 1525.36 Q1486.13 1525.36 1484.29 1525.06 Q1482.46 1524.76 1480.51 1524.16 L1480.51 1520.34 Q1482.2 1521.26 1484 1521.71 Q1485.81 1522.16 1487.82 1522.16 Q1491.08 1522.16 1492.97 1520.45 Q1494.87 1518.74 1494.87 1515.81 Q1494.87 1512.87 1492.97 1511.16 Q1491.08 1509.45 1487.82 1509.45 Q1486.3 1509.45 1484.77 1509.79 Q1483.27 1510.13 1481.69 1510.84 L1481.69 1496.73 Z\" fill=\"#000000\" fill-rule=\"evenodd\" fill-opacity=\"1\" /><path clip-path=\"url(#clip580)\" d=\"M1825 1548.29 L1832.64 1548.29 L1832.64 1521.92 L1824.33 1523.59 L1824.33 1519.33 L1832.59 1517.66 L1837.27 1517.66 L1837.27 1548.29 L1844.91 1548.29 L1844.91 1552.22 L1825 1552.22 L1825 1548.29 Z\" fill=\"#000000\" fill-rule=\"evenodd\" fill-opacity=\"1\" /><path clip-path=\"url(#clip580)\" d=\"M1854.35 1546.35 L1859.23 1546.35 L1859.23 1552.22 L1854.35 1552.22 L1854.35 1546.35 Z\" fill=\"#000000\" fill-rule=\"evenodd\" fill-opacity=\"1\" /><path clip-path=\"url(#clip580)\" d=\"M1869.47 1517.66 L1887.82 1517.66 L1887.82 1521.6 L1873.75 1521.6 L1873.75 1530.07 Q1874.77 1529.72 1875.79 1529.56 Q1876.8 1529.38 1877.82 1529.38 Q1883.61 1529.38 1886.99 1532.55 Q1890.37 1535.72 1890.37 1541.14 Q1890.37 1546.72 1886.9 1549.82 Q1883.42 1552.9 1877.11 1552.9 Q1874.93 1552.9 1872.66 1552.53 Q1870.42 1552.16 1868.01 1551.41 L1868.01 1546.72 Q1870.09 1547.85 1872.31 1548.41 Q1874.54 1548.96 1877.01 1548.96 Q1881.02 1548.96 1883.36 1546.85 Q1885.69 1544.75 1885.69 1541.14 Q1885.69 1537.53 1883.36 1535.42 Q1881.02 1533.31 1877.01 1533.31 Q1875.14 1533.31 1873.26 1533.73 Q1871.41 1534.15 1869.47 1535.03 L1869.47 1517.66 Z\" fill=\"#000000\" fill-rule=\"evenodd\" fill-opacity=\"1\" /><path clip-path=\"url(#clip580)\" d=\"M1909.58 1520.74 Q1905.97 1520.74 1904.14 1524.31 Q1902.34 1527.85 1902.34 1534.98 Q1902.34 1542.09 1904.14 1545.65 Q1905.97 1549.19 1909.58 1549.19 Q1913.22 1549.19 1915.02 1545.65 Q1916.85 1542.09 1916.85 1534.98 Q1916.85 1527.85 1915.02 1524.31 Q1913.22 1520.74 1909.58 1520.74 M1909.58 1517.04 Q1915.39 1517.04 1918.45 1521.65 Q1921.53 1526.23 1921.53 1534.98 Q1921.53 1543.71 1918.45 1548.31 Q1915.39 1552.9 1909.58 1552.9 Q1903.77 1552.9 1900.69 1548.31 Q1897.64 1543.71 1897.64 1534.98 Q1897.64 1526.23 1900.69 1521.65 Q1903.77 1517.04 1909.58 1517.04 Z\" fill=\"#000000\" fill-rule=\"evenodd\" fill-opacity=\"1\" /><path clip-path=\"url(#clip580)\" d=\"M1957.91 1526.76 L1947.34 1537.39 L1957.91 1547.97 L1955.16 1550.77 L1944.54 1540.14 L1933.91 1550.77 L1931.18 1547.97 L1941.73 1537.39 L1931.18 1526.76 L1933.91 1523.96 L1944.54 1534.59 L1955.16 1523.96 L1957.91 1526.76 Z\" fill=\"#000000\" fill-rule=\"evenodd\" fill-opacity=\"1\" /><path clip-path=\"url(#clip580)\" d=\"M1970.28 1548.29 L1977.91 1548.29 L1977.91 1521.92 L1969.6 1523.59 L1969.6 1519.33 L1977.87 1517.66 L1982.54 1517.66 L1982.54 1548.29 L1990.18 1548.29 L1990.18 1552.22 L1970.28 1552.22 L1970.28 1548.29 Z\" fill=\"#000000\" fill-rule=\"evenodd\" fill-opacity=\"1\" /><path clip-path=\"url(#clip580)\" d=\"M2009.63 1520.74 Q2006.02 1520.74 2004.19 1524.31 Q2002.38 1527.85 2002.38 1534.98 Q2002.38 1542.09 2004.19 1545.65 Q2006.02 1549.19 2009.63 1549.19 Q2013.26 1549.19 2015.07 1545.65 Q2016.9 1542.09 2016.9 1534.98 Q2016.9 1527.85 2015.07 1524.31 Q2013.26 1520.74 2009.63 1520.74 M2009.63 1517.04 Q2015.44 1517.04 2018.49 1521.65 Q2021.57 1526.23 2021.57 1534.98 Q2021.57 1543.71 2018.49 1548.31 Q2015.44 1552.9 2009.63 1552.9 Q2003.82 1552.9 2000.74 1548.31 Q1997.68 1543.71 1997.68 1534.98 Q1997.68 1526.23 2000.74 1521.65 Q2003.82 1517.04 2009.63 1517.04 Z\" fill=\"#000000\" fill-rule=\"evenodd\" fill-opacity=\"1\" /><path clip-path=\"url(#clip580)\" d=\"M2021.57 1511.14 L2045.68 1511.14 L2045.68 1514.34 L2021.57 1514.34 L2021.57 1511.14 Z\" fill=\"#000000\" fill-rule=\"evenodd\" fill-opacity=\"1\" /><path clip-path=\"url(#clip580)\" d=\"M2053.92 1496.73 L2068.84 1496.73 L2068.84 1499.93 L2057.4 1499.93 L2057.4 1506.82 Q2058.23 1506.53 2059.06 1506.4 Q2059.88 1506.25 2060.71 1506.25 Q2065.41 1506.25 2068.16 1508.83 Q2070.9 1511.4 2070.9 1515.81 Q2070.9 1520.34 2068.08 1522.86 Q2065.26 1525.36 2060.13 1525.36 Q2058.36 1525.36 2056.52 1525.06 Q2054.69 1524.76 2052.74 1524.16 L2052.74 1520.34 Q2054.43 1521.26 2056.23 1521.71 Q2058.04 1522.16 2060.05 1522.16 Q2063.31 1522.16 2065.21 1520.45 Q2067.11 1518.74 2067.11 1515.81 Q2067.11 1512.87 2065.21 1511.16 Q2063.31 1509.45 2060.05 1509.45 Q2058.53 1509.45 2057.01 1509.79 Q2055.5 1510.13 2053.92 1510.84 L2053.92 1496.73 Z\" fill=\"#000000\" fill-rule=\"evenodd\" fill-opacity=\"1\" /><polyline clip-path=\"url(#clip582)\" style=\"stroke:#000000; stroke-linecap:round; stroke-linejoin:round; stroke-width:2; stroke-opacity:0.1; fill:none\" points=\"169.121,1433.78 2352.76,1433.78 \"/>\n",
       "<polyline clip-path=\"url(#clip582)\" style=\"stroke:#000000; stroke-linecap:round; stroke-linejoin:round; stroke-width:2; stroke-opacity:0.1; fill:none\" points=\"169.121,1002.88 2352.76,1002.88 \"/>\n",
       "<polyline clip-path=\"url(#clip582)\" style=\"stroke:#000000; stroke-linecap:round; stroke-linejoin:round; stroke-width:2; stroke-opacity:0.1; fill:none\" points=\"169.121,571.976 2352.76,571.976 \"/>\n",
       "<polyline clip-path=\"url(#clip582)\" style=\"stroke:#000000; stroke-linecap:round; stroke-linejoin:round; stroke-width:2; stroke-opacity:0.1; fill:none\" points=\"169.121,141.074 2352.76,141.074 \"/>\n",
       "<polyline clip-path=\"url(#clip580)\" style=\"stroke:#000000; stroke-linecap:round; stroke-linejoin:round; stroke-width:4; stroke-opacity:1; fill:none\" points=\"169.121,1474.16 169.121,47.2441 \"/>\n",
       "<polyline clip-path=\"url(#clip580)\" style=\"stroke:#000000; stroke-linecap:round; stroke-linejoin:round; stroke-width:4; stroke-opacity:1; fill:none\" points=\"169.121,1433.78 188.019,1433.78 \"/>\n",
       "<polyline clip-path=\"url(#clip580)\" style=\"stroke:#000000; stroke-linecap:round; stroke-linejoin:round; stroke-width:4; stroke-opacity:1; fill:none\" points=\"169.121,1002.88 188.019,1002.88 \"/>\n",
       "<polyline clip-path=\"url(#clip580)\" style=\"stroke:#000000; stroke-linecap:round; stroke-linejoin:round; stroke-width:4; stroke-opacity:1; fill:none\" points=\"169.121,571.976 188.019,571.976 \"/>\n",
       "<polyline clip-path=\"url(#clip580)\" style=\"stroke:#000000; stroke-linecap:round; stroke-linejoin:round; stroke-width:4; stroke-opacity:1; fill:none\" points=\"169.121,141.074 188.019,141.074 \"/>\n",
       "<path clip-path=\"url(#clip580)\" d=\"M121.177 1419.58 Q117.566 1419.58 115.737 1423.14 Q113.932 1426.69 113.932 1433.81 Q113.932 1440.92 115.737 1444.49 Q117.566 1448.03 121.177 1448.03 Q124.811 1448.03 126.617 1444.49 Q128.445 1440.92 128.445 1433.81 Q128.445 1426.69 126.617 1423.14 Q124.811 1419.58 121.177 1419.58 M121.177 1415.88 Q126.987 1415.88 130.043 1420.48 Q133.121 1425.06 133.121 1433.81 Q133.121 1442.54 130.043 1447.15 Q126.987 1451.73 121.177 1451.73 Q115.367 1451.73 112.288 1447.15 Q109.233 1442.54 109.233 1433.81 Q109.233 1425.06 112.288 1420.48 Q115.367 1415.88 121.177 1415.88 Z\" fill=\"#000000\" fill-rule=\"evenodd\" fill-opacity=\"1\" /><path clip-path=\"url(#clip580)\" d=\"M81.0614 985.598 L99.4178 985.598 L99.4178 989.533 L85.3438 989.533 L85.3438 998.005 Q86.3623 997.658 87.3808 997.496 Q88.3993 997.311 89.4178 997.311 Q95.2049 997.311 98.5845 1000.48 Q101.964 1003.65 101.964 1009.07 Q101.964 1014.65 98.4919 1017.75 Q95.0197 1020.83 88.7003 1020.83 Q86.5243 1020.83 84.2558 1020.46 Q82.0105 1020.09 79.6031 1019.35 L79.6031 1014.65 Q81.6864 1015.78 83.9086 1016.34 Q86.1308 1016.89 88.6077 1016.89 Q92.6123 1016.89 94.9502 1014.79 Q97.2882 1012.68 97.2882 1009.07 Q97.2882 1005.46 94.9502 1003.35 Q92.6123 1001.25 88.6077 1001.25 Q86.7327 1001.25 84.8577 1001.66 Q83.0058 1002.08 81.0614 1002.96 L81.0614 985.598 Z\" fill=\"#000000\" fill-rule=\"evenodd\" fill-opacity=\"1\" /><path clip-path=\"url(#clip580)\" d=\"M121.177 988.677 Q117.566 988.677 115.737 992.242 Q113.932 995.783 113.932 1002.91 Q113.932 1010.02 115.737 1013.58 Q117.566 1017.13 121.177 1017.13 Q124.811 1017.13 126.617 1013.58 Q128.445 1010.02 128.445 1002.91 Q128.445 995.783 126.617 992.242 Q124.811 988.677 121.177 988.677 M121.177 984.973 Q126.987 984.973 130.043 989.579 Q133.121 994.163 133.121 1002.91 Q133.121 1011.64 130.043 1016.25 Q126.987 1020.83 121.177 1020.83 Q115.367 1020.83 112.288 1016.25 Q109.233 1011.64 109.233 1002.91 Q109.233 994.163 112.288 989.579 Q115.367 984.973 121.177 984.973 Z\" fill=\"#000000\" fill-rule=\"evenodd\" fill-opacity=\"1\" /><path clip-path=\"url(#clip580)\" d=\"M51.6634 585.321 L59.3023 585.321 L59.3023 558.955 L50.9921 560.622 L50.9921 556.363 L59.256 554.696 L63.9319 554.696 L63.9319 585.321 L71.5707 585.321 L71.5707 589.256 L51.6634 589.256 L51.6634 585.321 Z\" fill=\"#000000\" fill-rule=\"evenodd\" fill-opacity=\"1\" /><path clip-path=\"url(#clip580)\" d=\"M91.0151 557.775 Q87.404 557.775 85.5753 561.339 Q83.7697 564.881 83.7697 572.011 Q83.7697 579.117 85.5753 582.682 Q87.404 586.224 91.0151 586.224 Q94.6493 586.224 96.4548 582.682 Q98.2835 579.117 98.2835 572.011 Q98.2835 564.881 96.4548 561.339 Q94.6493 557.775 91.0151 557.775 M91.0151 554.071 Q96.8252 554.071 99.8808 558.677 Q102.959 563.261 102.959 572.011 Q102.959 580.737 99.8808 585.344 Q96.8252 589.927 91.0151 589.927 Q85.2049 589.927 82.1262 585.344 Q79.0707 580.737 79.0707 572.011 Q79.0707 563.261 82.1262 558.677 Q85.2049 554.071 91.0151 554.071 Z\" fill=\"#000000\" fill-rule=\"evenodd\" fill-opacity=\"1\" /><path clip-path=\"url(#clip580)\" d=\"M121.177 557.775 Q117.566 557.775 115.737 561.339 Q113.932 564.881 113.932 572.011 Q113.932 579.117 115.737 582.682 Q117.566 586.224 121.177 586.224 Q124.811 586.224 126.617 582.682 Q128.445 579.117 128.445 572.011 Q128.445 564.881 126.617 561.339 Q124.811 557.775 121.177 557.775 M121.177 554.071 Q126.987 554.071 130.043 558.677 Q133.121 563.261 133.121 572.011 Q133.121 580.737 130.043 585.344 Q126.987 589.927 121.177 589.927 Q115.367 589.927 112.288 585.344 Q109.233 580.737 109.233 572.011 Q109.233 563.261 112.288 558.677 Q115.367 554.071 121.177 554.071 Z\" fill=\"#000000\" fill-rule=\"evenodd\" fill-opacity=\"1\" /><path clip-path=\"url(#clip580)\" d=\"M51.6634 154.419 L59.3023 154.419 L59.3023 128.053 L50.9921 129.72 L50.9921 125.46 L59.256 123.794 L63.9319 123.794 L63.9319 154.419 L71.5707 154.419 L71.5707 158.354 L51.6634 158.354 L51.6634 154.419 Z\" fill=\"#000000\" fill-rule=\"evenodd\" fill-opacity=\"1\" /><path clip-path=\"url(#clip580)\" d=\"M81.0614 123.794 L99.4178 123.794 L99.4178 127.729 L85.3438 127.729 L85.3438 136.201 Q86.3623 135.854 87.3808 135.692 Q88.3993 135.507 89.4178 135.507 Q95.2049 135.507 98.5845 138.678 Q101.964 141.849 101.964 147.266 Q101.964 152.845 98.4919 155.946 Q95.0197 159.025 88.7003 159.025 Q86.5243 159.025 84.2558 158.655 Q82.0105 158.284 79.6031 157.544 L79.6031 152.845 Q81.6864 153.979 83.9086 154.534 Q86.1308 155.09 88.6077 155.09 Q92.6123 155.09 94.9502 152.983 Q97.2882 150.877 97.2882 147.266 Q97.2882 143.655 94.9502 141.548 Q92.6123 139.442 88.6077 139.442 Q86.7327 139.442 84.8577 139.859 Q83.0058 140.275 81.0614 141.155 L81.0614 123.794 Z\" fill=\"#000000\" fill-rule=\"evenodd\" fill-opacity=\"1\" /><path clip-path=\"url(#clip580)\" d=\"M121.177 126.873 Q117.566 126.873 115.737 130.437 Q113.932 133.979 113.932 141.109 Q113.932 148.215 115.737 151.78 Q117.566 155.321 121.177 155.321 Q124.811 155.321 126.617 151.78 Q128.445 148.215 128.445 141.109 Q128.445 133.979 126.617 130.437 Q124.811 126.873 121.177 126.873 M121.177 123.169 Q126.987 123.169 130.043 127.775 Q133.121 132.359 133.121 141.109 Q133.121 149.835 130.043 154.442 Q126.987 159.025 121.177 159.025 Q115.367 159.025 112.288 154.442 Q109.233 149.835 109.233 141.109 Q109.233 132.359 112.288 127.775 Q115.367 123.169 121.177 123.169 Z\" fill=\"#000000\" fill-rule=\"evenodd\" fill-opacity=\"1\" /><polyline clip-path=\"url(#clip582)\" style=\"stroke:#009af9; stroke-linecap:round; stroke-linejoin:round; stroke-width:4; stroke-opacity:1; fill:none\" points=\"230.922,1433.78 251.523,1415.23 272.123,1372.52 292.723,1330.33 313.324,1288.1 333.924,1245.76 354.524,1204.45 375.125,1185.18 395.725,1165.71 416.325,1146.03 436.926,1126.11 457.526,1105.95 478.126,1085.55 498.727,1064.9 519.327,1044 539.927,1022.88 560.528,1001.55 581.128,980.035 601.728,958.361 622.328,936.562 642.929,914.677 663.529,892.749 684.129,870.819 704.73,848.931 725.33,827.13 745.93,805.456 766.531,783.948 787.131,762.64 807.731,741.562 828.332,720.738 848.932,700.187 869.532,679.921 890.133,659.948 910.733,640.269 931.333,620.881 951.934,601.776 972.534,582.944 993.134,564.37 1013.73,546.04 1034.34,527.937 1054.94,510.043 1075.54,492.342 1096.14,474.817 1116.74,457.453 1137.34,440.235 1157.94,423.151 1178.54,406.191 1199.14,389.345 1219.74,372.607 1240.34,355.972 1260.94,339.436 1281.54,322.996 1302.14,306.655 1322.74,289.184 1343.34,274.299 1363.94,256.869 1384.54,242.358 1405.14,224.971 1425.74,210.92 1446.34,195.404 1466.94,180.088 1487.54,164.992 1508.14,150.162 1528.74,135.678 1549.34,121.668 1569.94,108.382 1590.54,96.4027 1611.14,87.6286 1631.74,92.9866 1652.34,136.246 1672.95,172.004 1693.55,205.647 1714.15,241.331 1734.75,279.48 1755.35,319.631 1775.95,362.187 1796.55,406.139 1817.15,450.578 1837.75,495.767 1858.35,540.352 1878.95,583.865 1899.55,625.156 1920.15,664.969 1940.75,702.31 1961.35,737.473 1981.95,770.03 2002.55,800.125 2023.15,827.956 2043.75,854.077 2064.35,878.538 2084.95,901.366 2105.55,922.602 2126.15,942.297 2146.75,960.724 2167.35,977.57 2187.95,993.305 2208.55,1008.24 2229.15,1021.96 2249.75,1034.79 2270.35,1047.19 2290.95,1058.1 \"/>\n",
       "<path clip-path=\"url(#clip580)\" d=\"M241.909 198.488 L512.703 198.488 L512.703 94.8081 L241.909 94.8081  Z\" fill=\"#ffffff\" fill-rule=\"evenodd\" fill-opacity=\"1\"/>\n",
       "<polyline clip-path=\"url(#clip580)\" style=\"stroke:#000000; stroke-linecap:round; stroke-linejoin:round; stroke-width:4; stroke-opacity:1; fill:none\" points=\"241.909,198.488 512.703,198.488 512.703,94.8081 241.909,94.8081 241.909,198.488 \"/>\n",
       "<polyline clip-path=\"url(#clip580)\" style=\"stroke:#009af9; stroke-linecap:round; stroke-linejoin:round; stroke-width:4; stroke-opacity:1; fill:none\" points=\"266.172,146.648 411.747,146.648 \"/>\n",
       "<path clip-path=\"url(#clip580)\" d=\"M449.853 166.336 Q448.047 170.965 446.334 172.377 Q444.621 173.789 441.751 173.789 L438.348 173.789 L438.348 170.224 L440.848 170.224 Q442.607 170.224 443.579 169.391 Q444.552 168.558 445.732 165.456 L446.496 163.511 L436.01 138.002 L440.524 138.002 L448.626 158.28 L456.727 138.002 L461.241 138.002 L449.853 166.336 Z\" fill=\"#000000\" fill-rule=\"evenodd\" fill-opacity=\"1\" /><path clip-path=\"url(#clip580)\" d=\"M468.533 159.993 L476.172 159.993 L476.172 133.627 L467.862 135.294 L467.862 131.035 L476.126 129.368 L480.801 129.368 L480.801 159.993 L488.44 159.993 L488.44 163.928 L468.533 163.928 L468.533 159.993 Z\" fill=\"#000000\" fill-rule=\"evenodd\" fill-opacity=\"1\" /></svg>\n"
      ]
     },
     "execution_count": 49,
     "metadata": {},
     "output_type": "execute_result"
    }
   ],
   "source": [
    "plot(Displacement,-(Load)*1e-3)"
   ]
  },
  {
   "cell_type": "code",
   "execution_count": 50,
   "id": "human-hollywood",
   "metadata": {},
   "outputs": [
    {
     "data": {
      "text/plain": [
       "156.20154527273468"
      ]
     },
     "execution_count": 50,
     "metadata": {},
     "output_type": "execute_result"
    }
   ],
   "source": [
    "maximum(-Load*1e-3)"
   ]
  },
  {
   "cell_type": "code",
   "execution_count": 51,
   "id": "pointed-month",
   "metadata": {},
   "outputs": [],
   "source": [
    "cd(\"../DataLoadDispResultNotchedPlate\")"
   ]
  },
  {
   "cell_type": "code",
   "execution_count": 52,
   "id": "adjustable-production",
   "metadata": {},
   "outputs": [],
   "source": [
    "using DelimitedFiles\n",
    "Disp = writedlm(\"DispDataResult0mmEccentricNotchedBeam_50_20000V.csv\",  Displacement, ',')\n",
    "Force = writedlm(\"LoadDataResult0mmEccentricNotchedBeam_50_20000V.csv\",  Load, ',')"
   ]
  }
 ],
 "metadata": {
  "@webio": {
   "lastCommId": null,
   "lastKernelId": null
  },
  "kernelspec": {
   "display_name": "Julia 1.8.0",
   "language": "julia",
   "name": "julia-1.8"
  },
  "language_info": {
   "file_extension": ".jl",
   "mimetype": "application/julia",
   "name": "julia",
   "version": "1.8.0"
  }
 },
 "nbformat": 4,
 "nbformat_minor": 5
}
