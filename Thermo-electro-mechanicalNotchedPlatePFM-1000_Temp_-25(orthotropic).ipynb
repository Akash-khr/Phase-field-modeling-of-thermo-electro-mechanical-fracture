{
 "cells": [
  {
   "cell_type": "markdown",
   "id": "5a172ed2",
   "metadata": {},
   "source": [
    "### In case of positive hydrostatic strain i.e $\\text{tr}(\\boldsymbol{\\epsilon})\\geq 0$\n",
    "$\\langle p \\rangle_+ = p = \\boldsymbol{I}: \\boldsymbol{\\sigma}_{vol} = \\boldsymbol{I}: \\mathbb{I}_{vol}\\mathbb{C}  \\boldsymbol{\\epsilon}$    and      $\\langle p \\rangle_- = 0 $\n",
    "\n",
    "$\\mathbb{C}_{mod} = \\mathbb{C}_{+} = s^2\\left(\\mathbb{I}_{vol}\\mathbb{C} + \\mathbb{I}_{dev}\\mathbb{C}\\right) = s^2 \\mathbb{C}$\n",
    "\n",
    "### In case of negative hydrostatic strain $\\text{tr}(\\boldsymbol{\\epsilon})< 0$\n",
    "$\\langle p \\rangle_+ = 0 $   and    $\\langle p \\rangle_- = p =  \\boldsymbol{I}: \\boldsymbol{\\sigma}_{vol} = \\boldsymbol{I}:\\mathbb{I}_{vol}\\mathbb{C}  \\boldsymbol{\\epsilon}$\n",
    "\n",
    "$\\mathbb{C}_{mod} = \\mathbb{C}_{-} = s^2\\bigl(\\mathbb{I}_{dev}\\mathbb{C}\\bigr) + \\mathbb{I}_{vol}\\mathbb{C}$\n",
    "\n",
    " ## Strong Form in terms of $\\mathbb{C}_{mod}$ and $\\mathcal{H}(\\mathcal{E})$\n",
    " \n",
    " $\\nabla \\cdot \\boldsymbol{\\sigma} = {\\bf{0}}$\n",
    " \n",
    " $ \\nabla\\cdot \\boldsymbol{D}  = {0}$\n",
    "\n",
    " $ \\nabla \\cdot \\biggl(G_cl\\boldsymbol{A}\\nabla s\\biggr) - 2s\\mathcal{H}(\\mathcal{E})  + \\frac{G_c}{l}\\left(1-s\\right) = 0$\n",
    "\n",
    "where \n",
    "\n",
    "$\\boldsymbol{\\sigma} = \\biggl(\\mathbb{C}_{mod} \\boldsymbol{\\epsilon} -\\mathbb{e}_{mod}^T\\boldsymbol{E}\\biggr) $\n",
    "\n",
    "$\\boldsymbol{D} = \\biggr({\\boldsymbol{K}_{mod}\\boldsymbol{E}} +  \\mathbb{e}_{mod}\\boldsymbol{\\epsilon}\\biggl) $\n",
    "\n",
    "$\\mathcal{E} = \\frac{1}{2}\\biggl(\\langle p \\rangle_+\\boldsymbol{I}:\\mathbb{I}_{vol}\\boldsymbol{\\epsilon} + \\mathbb{I}_{dev}\\mathbb{C}\\boldsymbol{\\epsilon}:\\mathbb{I}_{dev}\\boldsymbol{\\epsilon} + \\boldsymbol{E} \\cdot \\boldsymbol{K}\\boldsymbol{E} + \\boldsymbol{\\epsilon}:\\mathbb{e}^T\\boldsymbol{E}\\biggr)$\n",
    "\n",
    "$\\mathcal{H}(f) = \\text{max}_{\\tau \\in [0,t]}f(\\tau)$\n",
    "\n",
    "$\\mathbb{e}_{mod} = s^2 \\mathbb{e}$\n",
    "\n",
    "$\\boldsymbol{K}_{mod} = s^2 \\boldsymbol{K}$"
   ]
  },
  {
   "cell_type": "markdown",
   "id": "26bc5576",
   "metadata": {},
   "source": [
    " # Weak Form\n",
    "\n",
    "### For Piezo-elasticity part\n",
    "\n",
    " $a((\\boldsymbol{u},\\phi), ({\\boldsymbol{v}},{\\psi})) = \\int_{\\Omega} \\bigl( \\mathbb{C}_{mod}\\mathbb{\\epsilon}: \\nabla \\boldsymbol{v} \\bigr)d\\Omega - \\int_\\Omega \\bigl ( \\boldsymbol{e}_{mod}^T\\boldsymbol{E}:\\nabla \\boldsymbol{v}\\bigr)d\\Omega + \\int_{\\Omega}\\left(\\boldsymbol{K}_{mod}\\boldsymbol{E} \\cdot \\nabla \\boldsymbol{\\psi}\\right) + \\int_{\\Omega}\\left(\\mathbb{e}_{mod}\\boldsymbol{\\epsilon}  \\cdot \\nabla  \\boldsymbol{\\psi}\\right)d\\Omega$\n",
    "\n",
    "### For phase-field part\n",
    " \n",
    " $ a(s,\\phi) = \\int_{\\Omega}\\bigl(G_cl\\nabla s \\cdot \\nabla \\phi + 2s \\phi\\mathcal{H}({\\mathcal{E}}) +  \\frac{G_c}{l} s \\phi\\bigr)d\\Omega$\n",
    "\n",
    " $ l(\\phi) = \\int_{\\Omega}\\frac{G_c}{l}\\phi d{\\Omega}$"
   ]
  },
  {
   "cell_type": "code",
   "execution_count": 1,
   "id": "frank-charity",
   "metadata": {},
   "outputs": [],
   "source": [
    "using Gmsh: gmsh\n",
    "using GridapGmsh\n",
    "using Gridap\n",
    "using Gridap.TensorValues\n",
    "using Plots"
   ]
  },
  {
   "cell_type": "code",
   "execution_count": 2,
   "id": "8ada626d",
   "metadata": {
    "scrolled": true
   },
   "outputs": [
    {
     "data": {
      "text/plain": [
       "interval (generic function with 1 method)"
      ]
     },
     "execution_count": 2,
     "metadata": {},
     "output_type": "execute_result"
    }
   ],
   "source": [
    "using SymPy\n",
    "\n",
    "x,x₁ = symbols(\"x,x₁\", real = true)\n",
    "\n",
    "heaviside(x) = 0.5 * (sign(x) + 1)\n",
    "interval(x, a, b) = heaviside(x-a) - heaviside(x-b)"
   ]
  },
  {
   "cell_type": "markdown",
   "id": "guided-cornell",
   "metadata": {},
   "source": [
    "## Definitions of Tensorial Quantities:\n",
    "\n",
    "$\\boldsymbol{I} = \\delta_{ij} \\boldsymbol{e}_i\\otimes\\boldsymbol{e}_j$\n",
    "\n",
    "$\\mathbb{I} = \\boldsymbol{I}\\otimes\\boldsymbol{I}$\n",
    "\n",
    "$\\mathbb{I}_{sym} = \\frac{1}{2}\\biggl(\\mathbb{I}+\\mathbb{I}^T\\biggr)$\n",
    "\n",
    "$\\mathbb{I}_{skw} = \\frac{1}{2}\\biggl(\\mathbb{I}-\\mathbb{I}^T\\biggr)$\n",
    "\n",
    "$\\mathbb{I}_{vol} = \\frac{1}{3}\\biggl(\\boldsymbol{I}\\otimes\\boldsymbol{I}\\biggr)$\n",
    "\n",
    "$\\mathbb{I}_{dev} = \\mathbb{I}_{sym} - \\mathbb{I}_{vol}$\n",
    "\n",
    "$\\boldsymbol{\\epsilon}_{vol} = \\frac{1}{3}\\text{tr}(\\boldsymbol{\\epsilon}) \\boldsymbol{I} = \\frac{1}{3}\\biggl(\\boldsymbol{\\epsilon}:\\boldsymbol{I}\\biggr)\\boldsymbol{I} = \\frac{1}{3}\\biggl(\\boldsymbol{I}\\otimes\\boldsymbol{I}\\biggr)\\boldsymbol{\\epsilon} = \\mathbb{I}_{vol} \\boldsymbol{\\epsilon} $\n",
    "\n",
    "$\\boldsymbol{\\epsilon}_{dev} = \\boldsymbol{\\epsilon} - \\boldsymbol{\\epsilon}_{vol} = \\biggl(\\mathbb{I}_{sym} -  \\mathbb{I}_{vol}\\biggl) \\boldsymbol{\\epsilon} = \\mathbb{I}_{dev} \\boldsymbol{\\epsilon}$\n",
    "\n",
    "$\\boldsymbol{\\sigma}_{vol} = p \\boldsymbol{I} = \\frac{1}{3}\\biggl(\\boldsymbol{\\sigma}:\\boldsymbol{I}\\biggr)\\boldsymbol{I} = \\frac{1}{3}\\biggl(\\boldsymbol{I}\\otimes\\boldsymbol{I}\\biggr)\\boldsymbol{\\sigma} = \\mathbb{I}_{vol} \\boldsymbol{\\sigma} = \\mathbb{I}_{vol}\\mathbb{C} \\boldsymbol{\\epsilon}$\n",
    "\n",
    "$\\boldsymbol{\\sigma}_{dev} = \\boldsymbol{\\sigma} - \\boldsymbol{\\sigma}_{vol} = \\biggl(\\mathbb{I}_{sym} -  \\mathbb{I}_{vol}\\biggl) \\boldsymbol{\\sigma} = \\mathbb{I}_{dev} \\boldsymbol{\\sigma}=\\mathbb{I}_{dev} \\mathbb{C} \\boldsymbol{\\epsilon}$"
   ]
  },
  {
   "cell_type": "code",
   "execution_count": 3,
   "id": "contained-intro",
   "metadata": {
    "scrolled": true
   },
   "outputs": [
    {
     "data": {
      "text/plain": [
       "SymFourthOrderTensorValue{2, Float64, 9}(0.6666666666666667, 0.0, -0.3333333333333333, 0.0, 0.5, 0.0, -0.3333333333333333, 0.0, 0.6666666666666667)"
      ]
     },
     "execution_count": 3,
     "metadata": {},
     "output_type": "execute_result"
    }
   ],
   "source": [
    "I2 = SymTensorValue{2,Float64}(1.0 ,0.0 ,1.0)\n",
    "I4 = I2⊗I2\n",
    "I4_sym = one(SymFourthOrderTensorValue{2,Float64})\n",
    "I4_vol = (1.0/2)*I4\n",
    "I4_dev = I4_sym  - I4_vol"
   ]
  },
  {
   "cell_type": "code",
   "execution_count": 4,
   "id": "municipal-incentive",
   "metadata": {
    "scrolled": true
   },
   "outputs": [
    {
     "name": "stdout",
     "output_type": "stream",
     "text": [
      "Info    : Meshing 1D...\n",
      "Info    : [  0%] Meshing curve 1 (Line)\n",
      "Info    : [ 20%] Meshing curve 2 (Line)\n",
      "Info    : [ 30%] Meshing curve 3 (Line)\n",
      "Info    : [ 40%] Meshing curve 4 (Line)\n",
      "Info    : [ 50%] Meshing curve 5 (Line)\n",
      "Info    : [ 70%] Meshing curve 6 (Line)\n",
      "Info    : [ 80%] Meshing curve 7 (Line)\n",
      "Info    : [ 90%] Meshing curve 8 (Line)\n",
      "Info    : Done meshing 1D (Wall 0.00357802s, CPU 0.003586s)\n",
      "Info    : Meshing 2D...\n",
      "Info    : Meshing surface 1 (Plane, Frontal-Delaunay)\n",
      "Info    : Done meshing 2D (Wall 0.345218s, CPU 0.345071s)\n",
      "Info    : 11526 nodes 23058 elements\n",
      "Info    : Writing 'SquarePlateWithEdgeNotch.msh'...\n",
      "Info    : Done writing 'SquarePlateWithEdgeNotch.msh'\n"
     ]
    },
    {
     "name": "stderr",
     "output_type": "stream",
     "text": [
      "Warning : Unknown entity of dimension 2 and tag 1 in physical group 1\n",
      "Warning : Unknown entity of dimension 1 and tag 1 in physical group 1\n",
      "Warning : Unknown entity of dimension 1 and tag 3 in physical group 2\n"
     ]
    }
   ],
   "source": [
    "const L = 1e-3\n",
    "const H = 1e-3\n",
    "const lsp = L/90\n",
    "const CP = H/2\n",
    "const CL = 0.5*L \n",
    "const CH = H/2000\n",
    "const hfc = lsp/5\n",
    "const hf = lsp/4\n",
    "const h = 20*hf \n",
    "const FMR = 6*lsp\n",
    " \n",
    "gmsh.initialize()\n",
    "gmsh.option.setNumber(\"General.Terminal\", 1)\n",
    "gmsh.model.geo.addPoint(0.0, 0.0, 0.0, h, 1)  \n",
    "gmsh.model.geo.addPoint(L, 0.0, 0.0, h, 2) \n",
    "gmsh.model.geo.addPoint(L, H, 0.0, h, 3) \n",
    "gmsh.model.geo.addPoint(0.0, H, 0.0, h, 4)\n",
    "gmsh.model.geo.addPoint(0.0, CP + CH, 0.0, h, 5)\n",
    "gmsh.model.geo.addPoint(CL, CP + CH, 0.0, hfc, 6)\n",
    "gmsh.model.geo.addPoint(CL, CP - CH, 0.0, hfc, 7)\n",
    "gmsh.model.geo.addPoint(0.0, CP - CH, 0.0, h, 8)\n",
    "\n",
    "gmsh.model.geo.addLine(1, 2, 1)\n",
    "gmsh.model.geo.addLine(2, 3, 2)\n",
    "gmsh.model.geo.addLine(3, 4, 3)\n",
    "gmsh.model.geo.addLine(4, 5, 4)\n",
    "gmsh.model.geo.addLine(5, 6, 5)\n",
    "gmsh.model.geo.addLine(6, 7, 6)\n",
    "gmsh.model.geo.addLine(7, 8, 7)\n",
    "gmsh.model.geo.addLine(8, 1, 8)\n",
    "gmsh.model.geo.addCurveLoop([1,2,3,4,5,6,7,8],1) \n",
    "gmsh.model.geo.addPlaneSurface([1], 1)\n",
    "gmsh.model.addPhysicalGroup(2, [1],1)\n",
    "gmsh.model.addPhysicalGroup(1, [1],1)\n",
    "gmsh.model.addPhysicalGroup(1, [3],2)\n",
    "gmsh.model.setPhysicalName(2, 1, \"Domain\")\n",
    "gmsh.model.setPhysicalName(1, 1, \"BottomEdge\")\n",
    "gmsh.model.setPhysicalName(1, 2, \"TopEdge\")\n",
    "\n",
    "\n",
    "gmsh.model.mesh.field.add(\"Box\", 11)\n",
    "gmsh.model.mesh.field.setNumber(11, \"VIn\", hf)\n",
    "gmsh.model.mesh.field.setNumber(11, \"VOut\", h)\n",
    "gmsh.model.mesh.field.setNumber(11, \"XMin\", 0.8*CL)\n",
    "gmsh.model.mesh.field.setNumber(11, \"XMax\", L)\n",
    "gmsh.model.mesh.field.setNumber(11, \"YMin\", CP-FMR)\n",
    "gmsh.model.mesh.field.setNumber(11, \"YMax\", CP+FMR)\n",
    "gmsh.model.mesh.field.setAsBackgroundMesh(11)\n",
    "\n",
    "gmsh.model.geo.synchronize()\n",
    "gmsh.model.mesh.generate(2)\n",
    "gmsh.write(\"SquarePlateWithEdgeNotch.msh\")\n",
    "gmsh.finalize()"
   ]
  },
  {
   "cell_type": "code",
   "execution_count": 5,
   "id": "dangerous-preference",
   "metadata": {},
   "outputs": [
    {
     "name": "stdout",
     "output_type": "stream",
     "text": [
      "Info    : Reading 'SquarePlateWithEdgeNotch.msh'...\n",
      "Info    : 17 entities\n",
      "Info    : 11526 nodes\n",
      "Info    : 22859 elements\n",
      "Info    : Done reading 'SquarePlateWithEdgeNotch.msh'\n"
     ]
    },
    {
     "data": {
      "text/plain": [
       "3-element Vector{Vector{String}}:\n",
       " [\"SquarePlateWithEdgeNotch_0.vtu\"]\n",
       " [\"SquarePlateWithEdgeNotch_1.vtu\"]\n",
       " [\"SquarePlateWithEdgeNotch_2.vtu\"]"
      ]
     },
     "execution_count": 5,
     "metadata": {},
     "output_type": "execute_result"
    }
   ],
   "source": [
    "model = GmshDiscreteModel(\"SquarePlateWithEdgeNotch.msh\")\n",
    "writevtk(model,\"SquarePlateWithEdgeNotch\")"
   ]
  },
  {
   "cell_type": "code",
   "execution_count": 6,
   "id": "bd6fbf65",
   "metadata": {},
   "outputs": [],
   "source": [
    "cd(\"ResultNotchedPlateElecField_-25\")"
   ]
  },
  {
   "cell_type": "code",
   "execution_count": 7,
   "id": "a975e45a",
   "metadata": {},
   "outputs": [
    {
     "data": {
      "text/plain": [
       "1.7500000000000002e-7"
      ]
     },
     "execution_count": 7,
     "metadata": {},
     "output_type": "execute_result"
    }
   ],
   "source": [
    "const T0 = 300\n",
    "const TAppMax = T0-25\n",
    "\n",
    "#const ElecF = 0\n",
    "const phiMaxApp = 1000.0\n",
    "const phiMin = 0.0\n",
    "\n",
    "const delt = 1e-2\n",
    "const tMax = 1\n",
    "const uMax = 3.5e-6\n",
    "const AppVel = uMax/tMax\n",
    "const uMin = 0\n",
    "\n",
    "uTran_Temp = 0.2*uMax\n",
    "uTran2_EP = 0.05*uMax"
   ]
  },
  {
   "cell_type": "code",
   "execution_count": 8,
   "id": "1a28f6ef",
   "metadata": {},
   "outputs": [
    {
     "data": {
      "image/svg+xml": [
       "<?xml version=\"1.0\" encoding=\"utf-8\"?>\n",
       "<svg xmlns=\"http://www.w3.org/2000/svg\" xmlns:xlink=\"http://www.w3.org/1999/xlink\" width=\"600\" height=\"400\" viewBox=\"0 0 2400 1600\">\n",
       "<defs>\n",
       "  <clipPath id=\"clip170\">\n",
       "    <rect x=\"0\" y=\"0\" width=\"2400\" height=\"1600\"/>\n",
       "  </clipPath>\n",
       "</defs>\n",
       "<path clip-path=\"url(#clip170)\" d=\"\n",
       "M0 1600 L2400 1600 L2400 0 L0 0  Z\n",
       "  \" fill=\"#ffffff\" fill-rule=\"evenodd\" fill-opacity=\"1\"/>\n",
       "<defs>\n",
       "  <clipPath id=\"clip171\">\n",
       "    <rect x=\"480\" y=\"0\" width=\"1681\" height=\"1600\"/>\n",
       "  </clipPath>\n",
       "</defs>\n",
       "<path clip-path=\"url(#clip170)\" d=\"\n",
       "M170.857 1474.16 L2352.76 1474.16 L2352.76 47.2441 L170.857 47.2441  Z\n",
       "  \" fill=\"#ffffff\" fill-rule=\"evenodd\" fill-opacity=\"1\"/>\n",
       "<defs>\n",
       "  <clipPath id=\"clip172\">\n",
       "    <rect x=\"170\" y=\"47\" width=\"2183\" height=\"1428\"/>\n",
       "  </clipPath>\n",
       "</defs>\n",
       "<polyline clip-path=\"url(#clip172)\" style=\"stroke:#000000; stroke-linecap:round; stroke-linejoin:round; stroke-width:2; stroke-opacity:0.1; fill:none\" points=\"\n",
       "  232.609,1474.16 232.609,47.2441 \n",
       "  \"/>\n",
       "<polyline clip-path=\"url(#clip172)\" style=\"stroke:#000000; stroke-linecap:round; stroke-linejoin:round; stroke-width:2; stroke-opacity:0.1; fill:none\" points=\"\n",
       "  820.722,1474.16 820.722,47.2441 \n",
       "  \"/>\n",
       "<polyline clip-path=\"url(#clip172)\" style=\"stroke:#000000; stroke-linecap:round; stroke-linejoin:round; stroke-width:2; stroke-opacity:0.1; fill:none\" points=\"\n",
       "  1408.83,1474.16 1408.83,47.2441 \n",
       "  \"/>\n",
       "<polyline clip-path=\"url(#clip172)\" style=\"stroke:#000000; stroke-linecap:round; stroke-linejoin:round; stroke-width:2; stroke-opacity:0.1; fill:none\" points=\"\n",
       "  1996.95,1474.16 1996.95,47.2441 \n",
       "  \"/>\n",
       "<polyline clip-path=\"url(#clip170)\" style=\"stroke:#000000; stroke-linecap:round; stroke-linejoin:round; stroke-width:4; stroke-opacity:1; fill:none\" points=\"\n",
       "  170.857,1474.16 2352.76,1474.16 \n",
       "  \"/>\n",
       "<polyline clip-path=\"url(#clip170)\" style=\"stroke:#000000; stroke-linecap:round; stroke-linejoin:round; stroke-width:4; stroke-opacity:1; fill:none\" points=\"\n",
       "  232.609,1474.16 232.609,1455.27 \n",
       "  \"/>\n",
       "<polyline clip-path=\"url(#clip170)\" style=\"stroke:#000000; stroke-linecap:round; stroke-linejoin:round; stroke-width:4; stroke-opacity:1; fill:none\" points=\"\n",
       "  820.722,1474.16 820.722,1455.27 \n",
       "  \"/>\n",
       "<polyline clip-path=\"url(#clip170)\" style=\"stroke:#000000; stroke-linecap:round; stroke-linejoin:round; stroke-width:4; stroke-opacity:1; fill:none\" points=\"\n",
       "  1408.83,1474.16 1408.83,1455.27 \n",
       "  \"/>\n",
       "<polyline clip-path=\"url(#clip170)\" style=\"stroke:#000000; stroke-linecap:round; stroke-linejoin:round; stroke-width:4; stroke-opacity:1; fill:none\" points=\"\n",
       "  1996.95,1474.16 1996.95,1455.27 \n",
       "  \"/>\n",
       "<path clip-path=\"url(#clip170)\" d=\"M232.609 1505.08 Q228.998 1505.08 227.169 1508.65 Q225.364 1512.19 225.364 1519.32 Q225.364 1526.43 227.169 1529.99 Q228.998 1533.53 232.609 1533.53 Q236.244 1533.53 238.049 1529.99 Q239.878 1526.43 239.878 1519.32 Q239.878 1512.19 238.049 1508.65 Q236.244 1505.08 232.609 1505.08 M232.609 1501.38 Q238.419 1501.38 241.475 1505.99 Q244.554 1510.57 244.554 1519.32 Q244.554 1528.05 241.475 1532.65 Q238.419 1537.24 232.609 1537.24 Q226.799 1537.24 223.72 1532.65 Q220.665 1528.05 220.665 1519.32 Q220.665 1510.57 223.72 1505.99 Q226.799 1501.38 232.609 1501.38 Z\" fill=\"#000000\" fill-rule=\"evenodd\" fill-opacity=\"1\" /><path clip-path=\"url(#clip170)\" d=\"M712.716 1548.29 L720.354 1548.29 L720.354 1521.92 L712.044 1523.59 L712.044 1519.33 L720.308 1517.66 L724.984 1517.66 L724.984 1548.29 L732.623 1548.29 L732.623 1552.22 L712.716 1552.22 L712.716 1548.29 Z\" fill=\"#000000\" fill-rule=\"evenodd\" fill-opacity=\"1\" /><path clip-path=\"url(#clip170)\" d=\"M742.067 1546.35 L746.951 1546.35 L746.951 1552.22 L742.067 1552.22 L742.067 1546.35 Z\" fill=\"#000000\" fill-rule=\"evenodd\" fill-opacity=\"1\" /><path clip-path=\"url(#clip170)\" d=\"M767.137 1520.74 Q763.525 1520.74 761.697 1524.31 Q759.891 1527.85 759.891 1534.98 Q759.891 1542.09 761.697 1545.65 Q763.525 1549.19 767.137 1549.19 Q770.771 1549.19 772.576 1545.65 Q774.405 1542.09 774.405 1534.98 Q774.405 1527.85 772.576 1524.31 Q770.771 1520.74 767.137 1520.74 M767.137 1517.04 Q772.947 1517.04 776.002 1521.65 Q779.081 1526.23 779.081 1534.98 Q779.081 1543.71 776.002 1548.31 Q772.947 1552.9 767.137 1552.9 Q761.326 1552.9 758.248 1548.31 Q755.192 1543.71 755.192 1534.98 Q755.192 1526.23 758.248 1521.65 Q761.326 1517.04 767.137 1517.04 Z\" fill=\"#000000\" fill-rule=\"evenodd\" fill-opacity=\"1\" /><path clip-path=\"url(#clip170)\" d=\"M815.47 1526.76 L804.891 1537.39 L815.47 1547.97 L812.715 1550.77 L802.09 1540.14 L791.465 1550.77 L788.734 1547.97 L799.289 1537.39 L788.734 1526.76 L791.465 1523.96 L802.09 1534.59 L812.715 1523.96 L815.47 1526.76 Z\" fill=\"#000000\" fill-rule=\"evenodd\" fill-opacity=\"1\" /><path clip-path=\"url(#clip170)\" d=\"M827.831 1548.29 L835.47 1548.29 L835.47 1521.92 L827.159 1523.59 L827.159 1519.33 L835.423 1517.66 L840.099 1517.66 L840.099 1548.29 L847.738 1548.29 L847.738 1552.22 L827.831 1552.22 L827.831 1548.29 Z\" fill=\"#000000\" fill-rule=\"evenodd\" fill-opacity=\"1\" /><path clip-path=\"url(#clip170)\" d=\"M867.182 1520.74 Q863.571 1520.74 861.743 1524.31 Q859.937 1527.85 859.937 1534.98 Q859.937 1542.09 861.743 1545.65 Q863.571 1549.19 867.182 1549.19 Q870.817 1549.19 872.622 1545.65 Q874.451 1542.09 874.451 1534.98 Q874.451 1527.85 872.622 1524.31 Q870.817 1520.74 867.182 1520.74 M867.182 1517.04 Q872.992 1517.04 876.048 1521.65 Q879.127 1526.23 879.127 1534.98 Q879.127 1543.71 876.048 1548.31 Q872.992 1552.9 867.182 1552.9 Q861.372 1552.9 858.293 1548.31 Q855.238 1543.71 855.238 1534.98 Q855.238 1526.23 858.293 1521.65 Q861.372 1517.04 867.182 1517.04 Z\" fill=\"#000000\" fill-rule=\"evenodd\" fill-opacity=\"1\" /><path clip-path=\"url(#clip170)\" d=\"M879.127 1511.14 L903.238 1511.14 L903.238 1514.34 L879.127 1514.34 L879.127 1511.14 Z\" fill=\"#000000\" fill-rule=\"evenodd\" fill-opacity=\"1\" /><path clip-path=\"url(#clip170)\" d=\"M920.034 1509.26 Q917.476 1509.26 915.971 1511.01 Q914.485 1512.76 914.485 1515.81 Q914.485 1518.83 915.971 1520.6 Q917.476 1522.35 920.034 1522.35 Q922.591 1522.35 924.077 1520.6 Q925.582 1518.83 925.582 1515.81 Q925.582 1512.76 924.077 1511.01 Q922.591 1509.26 920.034 1509.26 M927.576 1497.35 L927.576 1500.82 Q926.146 1500.14 924.679 1499.78 Q923.231 1499.42 921.802 1499.42 Q918.04 1499.42 916.046 1501.96 Q914.072 1504.5 913.789 1509.64 Q914.899 1508 916.573 1507.13 Q918.247 1506.25 920.259 1506.25 Q924.491 1506.25 926.936 1508.83 Q929.4 1511.39 929.4 1515.81 Q929.4 1520.13 926.842 1522.75 Q924.284 1525.36 920.034 1525.36 Q915.162 1525.36 912.586 1521.64 Q910.009 1517.89 910.009 1510.8 Q910.009 1504.14 913.169 1500.19 Q916.328 1496.23 921.651 1496.23 Q923.08 1496.23 924.529 1496.51 Q925.996 1496.79 927.576 1497.35 Z\" fill=\"#000000\" fill-rule=\"evenodd\" fill-opacity=\"1\" /><path clip-path=\"url(#clip170)\" d=\"M1304.91 1548.29 L1321.23 1548.29 L1321.23 1552.22 L1299.29 1552.22 L1299.29 1548.29 Q1301.95 1545.53 1306.53 1540.91 Q1311.14 1536.25 1312.32 1534.91 Q1314.57 1532.39 1315.45 1530.65 Q1316.35 1528.89 1316.35 1527.2 Q1316.35 1524.45 1314.4 1522.71 Q1312.48 1520.97 1309.38 1520.97 Q1307.18 1520.97 1304.73 1521.74 Q1302.3 1522.5 1299.52 1524.05 L1299.52 1519.33 Q1302.34 1518.2 1304.8 1517.62 Q1307.25 1517.04 1309.29 1517.04 Q1314.66 1517.04 1317.85 1519.72 Q1321.05 1522.41 1321.05 1526.9 Q1321.05 1529.03 1320.24 1530.95 Q1319.45 1532.85 1317.34 1535.44 Q1316.77 1536.11 1313.66 1539.33 Q1310.56 1542.53 1304.91 1548.29 Z\" fill=\"#000000\" fill-rule=\"evenodd\" fill-opacity=\"1\" /><path clip-path=\"url(#clip170)\" d=\"M1331.05 1546.35 L1335.93 1546.35 L1335.93 1552.22 L1331.05 1552.22 L1331.05 1546.35 Z\" fill=\"#000000\" fill-rule=\"evenodd\" fill-opacity=\"1\" /><path clip-path=\"url(#clip170)\" d=\"M1356.12 1520.74 Q1352.51 1520.74 1350.68 1524.31 Q1348.87 1527.85 1348.87 1534.98 Q1348.87 1542.09 1350.68 1545.65 Q1352.51 1549.19 1356.12 1549.19 Q1359.75 1549.19 1361.56 1545.65 Q1363.39 1542.09 1363.39 1534.98 Q1363.39 1527.85 1361.56 1524.31 Q1359.75 1520.74 1356.12 1520.74 M1356.12 1517.04 Q1361.93 1517.04 1364.98 1521.65 Q1368.06 1526.23 1368.06 1534.98 Q1368.06 1543.71 1364.98 1548.31 Q1361.93 1552.9 1356.12 1552.9 Q1350.31 1552.9 1347.23 1548.31 Q1344.17 1543.71 1344.17 1534.98 Q1344.17 1526.23 1347.23 1521.65 Q1350.31 1517.04 1356.12 1517.04 Z\" fill=\"#000000\" fill-rule=\"evenodd\" fill-opacity=\"1\" /><path clip-path=\"url(#clip170)\" d=\"M1404.45 1526.76 L1393.87 1537.39 L1404.45 1547.97 L1401.7 1550.77 L1391.07 1540.14 L1380.45 1550.77 L1377.71 1547.97 L1388.27 1537.39 L1377.71 1526.76 L1380.45 1523.96 L1391.07 1534.59 L1401.7 1523.96 L1404.45 1526.76 Z\" fill=\"#000000\" fill-rule=\"evenodd\" fill-opacity=\"1\" /><path clip-path=\"url(#clip170)\" d=\"M1416.81 1548.29 L1424.45 1548.29 L1424.45 1521.92 L1416.14 1523.59 L1416.14 1519.33 L1424.4 1517.66 L1429.08 1517.66 L1429.08 1548.29 L1436.72 1548.29 L1436.72 1552.22 L1416.81 1552.22 L1416.81 1548.29 Z\" fill=\"#000000\" fill-rule=\"evenodd\" fill-opacity=\"1\" /><path clip-path=\"url(#clip170)\" d=\"M1456.16 1520.74 Q1452.55 1520.74 1450.72 1524.31 Q1448.92 1527.85 1448.92 1534.98 Q1448.92 1542.09 1450.72 1545.65 Q1452.55 1549.19 1456.16 1549.19 Q1459.8 1549.19 1461.6 1545.65 Q1463.43 1542.09 1463.43 1534.98 Q1463.43 1527.85 1461.6 1524.31 Q1459.8 1520.74 1456.16 1520.74 M1456.16 1517.04 Q1461.97 1517.04 1465.03 1521.65 Q1468.11 1526.23 1468.11 1534.98 Q1468.11 1543.71 1465.03 1548.31 Q1461.97 1552.9 1456.16 1552.9 Q1450.35 1552.9 1447.27 1548.31 Q1444.22 1543.71 1444.22 1534.98 Q1444.22 1526.23 1447.27 1521.65 Q1450.35 1517.04 1456.16 1517.04 Z\" fill=\"#000000\" fill-rule=\"evenodd\" fill-opacity=\"1\" /><path clip-path=\"url(#clip170)\" d=\"M1468.11 1511.14 L1492.22 1511.14 L1492.22 1514.34 L1468.11 1514.34 L1468.11 1511.14 Z\" fill=\"#000000\" fill-rule=\"evenodd\" fill-opacity=\"1\" /><path clip-path=\"url(#clip170)\" d=\"M1509.01 1509.26 Q1506.46 1509.26 1504.95 1511.01 Q1503.47 1512.76 1503.47 1515.81 Q1503.47 1518.83 1504.95 1520.6 Q1506.46 1522.35 1509.01 1522.35 Q1511.57 1522.35 1513.06 1520.6 Q1514.56 1518.83 1514.56 1515.81 Q1514.56 1512.76 1513.06 1511.01 Q1511.57 1509.26 1509.01 1509.26 M1516.56 1497.35 L1516.56 1500.82 Q1515.13 1500.14 1513.66 1499.78 Q1512.21 1499.42 1510.78 1499.42 Q1507.02 1499.42 1505.03 1501.96 Q1503.05 1504.5 1502.77 1509.64 Q1503.88 1508 1505.55 1507.13 Q1507.23 1506.25 1509.24 1506.25 Q1513.47 1506.25 1515.92 1508.83 Q1518.38 1511.39 1518.38 1515.81 Q1518.38 1520.13 1515.82 1522.75 Q1513.27 1525.36 1509.01 1525.36 Q1504.14 1525.36 1501.57 1521.64 Q1498.99 1517.89 1498.99 1510.8 Q1498.99 1504.14 1502.15 1500.19 Q1505.31 1496.23 1510.63 1496.23 Q1512.06 1496.23 1513.51 1496.51 Q1514.98 1496.79 1516.56 1497.35 Z\" fill=\"#000000\" fill-rule=\"evenodd\" fill-opacity=\"1\" /><path clip-path=\"url(#clip170)\" d=\"M1903.1 1533.59 Q1906.45 1534.31 1908.33 1536.58 Q1910.23 1538.85 1910.23 1542.18 Q1910.23 1547.29 1906.71 1550.1 Q1903.19 1552.9 1896.71 1552.9 Q1894.53 1552.9 1892.22 1552.46 Q1889.92 1552.04 1887.47 1551.18 L1887.47 1546.67 Q1889.42 1547.8 1891.73 1548.38 Q1894.05 1548.96 1896.57 1548.96 Q1900.97 1548.96 1903.26 1547.22 Q1905.57 1545.49 1905.57 1542.18 Q1905.57 1539.12 1903.42 1537.41 Q1901.29 1535.67 1897.47 1535.67 L1893.44 1535.67 L1893.44 1531.83 L1897.66 1531.83 Q1901.11 1531.83 1902.93 1530.47 Q1904.76 1529.08 1904.76 1526.48 Q1904.76 1523.82 1902.86 1522.41 Q1900.99 1520.97 1897.47 1520.97 Q1895.55 1520.97 1893.35 1521.39 Q1891.15 1521.81 1888.51 1522.69 L1888.51 1518.52 Q1891.17 1517.78 1893.49 1517.41 Q1895.83 1517.04 1897.89 1517.04 Q1903.21 1517.04 1906.31 1519.47 Q1909.42 1521.88 1909.42 1526 Q1909.42 1528.87 1907.77 1530.86 Q1906.13 1532.83 1903.1 1533.59 Z\" fill=\"#000000\" fill-rule=\"evenodd\" fill-opacity=\"1\" /><path clip-path=\"url(#clip170)\" d=\"M1919.09 1546.35 L1923.98 1546.35 L1923.98 1552.22 L1919.09 1552.22 L1919.09 1546.35 Z\" fill=\"#000000\" fill-rule=\"evenodd\" fill-opacity=\"1\" /><path clip-path=\"url(#clip170)\" d=\"M1944.16 1520.74 Q1940.55 1520.74 1938.72 1524.31 Q1936.92 1527.85 1936.92 1534.98 Q1936.92 1542.09 1938.72 1545.65 Q1940.55 1549.19 1944.16 1549.19 Q1947.8 1549.19 1949.6 1545.65 Q1951.43 1542.09 1951.43 1534.98 Q1951.43 1527.85 1949.6 1524.31 Q1947.8 1520.74 1944.16 1520.74 M1944.16 1517.04 Q1949.97 1517.04 1953.03 1521.65 Q1956.11 1526.23 1956.11 1534.98 Q1956.11 1543.71 1953.03 1548.31 Q1949.97 1552.9 1944.16 1552.9 Q1938.35 1552.9 1935.27 1548.31 Q1932.22 1543.71 1932.22 1534.98 Q1932.22 1526.23 1935.27 1521.65 Q1938.35 1517.04 1944.16 1517.04 Z\" fill=\"#000000\" fill-rule=\"evenodd\" fill-opacity=\"1\" /><path clip-path=\"url(#clip170)\" d=\"M1992.49 1526.76 L1981.92 1537.39 L1992.49 1547.97 L1989.74 1550.77 L1979.11 1540.14 L1968.49 1550.77 L1965.76 1547.97 L1976.31 1537.39 L1965.76 1526.76 L1968.49 1523.96 L1979.11 1534.59 L1989.74 1523.96 L1992.49 1526.76 Z\" fill=\"#000000\" fill-rule=\"evenodd\" fill-opacity=\"1\" /><path clip-path=\"url(#clip170)\" d=\"M2004.85 1548.29 L2012.49 1548.29 L2012.49 1521.92 L2004.18 1523.59 L2004.18 1519.33 L2012.45 1517.66 L2017.12 1517.66 L2017.12 1548.29 L2024.76 1548.29 L2024.76 1552.22 L2004.85 1552.22 L2004.85 1548.29 Z\" fill=\"#000000\" fill-rule=\"evenodd\" fill-opacity=\"1\" /><path clip-path=\"url(#clip170)\" d=\"M2044.21 1520.74 Q2040.6 1520.74 2038.77 1524.31 Q2036.96 1527.85 2036.96 1534.98 Q2036.96 1542.09 2038.77 1545.65 Q2040.6 1549.19 2044.21 1549.19 Q2047.84 1549.19 2049.65 1545.65 Q2051.48 1542.09 2051.48 1534.98 Q2051.48 1527.85 2049.65 1524.31 Q2047.84 1520.74 2044.21 1520.74 M2044.21 1517.04 Q2050.02 1517.04 2053.07 1521.65 Q2056.15 1526.23 2056.15 1534.98 Q2056.15 1543.71 2053.07 1548.31 Q2050.02 1552.9 2044.21 1552.9 Q2038.4 1552.9 2035.32 1548.31 Q2032.26 1543.71 2032.26 1534.98 Q2032.26 1526.23 2035.32 1521.65 Q2038.4 1517.04 2044.21 1517.04 Z\" fill=\"#000000\" fill-rule=\"evenodd\" fill-opacity=\"1\" /><path clip-path=\"url(#clip170)\" d=\"M2056.15 1511.14 L2080.26 1511.14 L2080.26 1514.34 L2056.15 1514.34 L2056.15 1511.14 Z\" fill=\"#000000\" fill-rule=\"evenodd\" fill-opacity=\"1\" /><path clip-path=\"url(#clip170)\" d=\"M2097.06 1509.26 Q2094.5 1509.26 2093 1511.01 Q2091.51 1512.76 2091.51 1515.81 Q2091.51 1518.83 2093 1520.6 Q2094.5 1522.35 2097.06 1522.35 Q2099.62 1522.35 2101.1 1520.6 Q2102.61 1518.83 2102.61 1515.81 Q2102.61 1512.76 2101.1 1511.01 Q2099.62 1509.26 2097.06 1509.26 M2104.6 1497.35 L2104.6 1500.82 Q2103.17 1500.14 2101.7 1499.78 Q2100.26 1499.42 2098.83 1499.42 Q2095.06 1499.42 2093.07 1501.96 Q2091.1 1504.5 2090.81 1509.64 Q2091.92 1508 2093.6 1507.13 Q2095.27 1506.25 2097.28 1506.25 Q2101.52 1506.25 2103.96 1508.83 Q2106.42 1511.39 2106.42 1515.81 Q2106.42 1520.13 2103.87 1522.75 Q2101.31 1525.36 2097.06 1525.36 Q2092.19 1525.36 2089.61 1521.64 Q2087.03 1517.89 2087.03 1510.8 Q2087.03 1504.14 2090.19 1500.19 Q2093.35 1496.23 2098.68 1496.23 Q2100.1 1496.23 2101.55 1496.51 Q2103.02 1496.79 2104.6 1497.35 Z\" fill=\"#000000\" fill-rule=\"evenodd\" fill-opacity=\"1\" /><polyline clip-path=\"url(#clip172)\" style=\"stroke:#000000; stroke-linecap:round; stroke-linejoin:round; stroke-width:2; stroke-opacity:0.1; fill:none\" points=\"\n",
       "  170.857,1433.78 2352.76,1433.78 \n",
       "  \"/>\n",
       "<polyline clip-path=\"url(#clip172)\" style=\"stroke:#000000; stroke-linecap:round; stroke-linejoin:round; stroke-width:2; stroke-opacity:0.1; fill:none\" points=\"\n",
       "  170.857,1158.27 2352.76,1158.27 \n",
       "  \"/>\n",
       "<polyline clip-path=\"url(#clip172)\" style=\"stroke:#000000; stroke-linecap:round; stroke-linejoin:round; stroke-width:2; stroke-opacity:0.1; fill:none\" points=\"\n",
       "  170.857,882.766 2352.76,882.766 \n",
       "  \"/>\n",
       "<polyline clip-path=\"url(#clip172)\" style=\"stroke:#000000; stroke-linecap:round; stroke-linejoin:round; stroke-width:2; stroke-opacity:0.1; fill:none\" points=\"\n",
       "  170.857,607.26 2352.76,607.26 \n",
       "  \"/>\n",
       "<polyline clip-path=\"url(#clip172)\" style=\"stroke:#000000; stroke-linecap:round; stroke-linejoin:round; stroke-width:2; stroke-opacity:0.1; fill:none\" points=\"\n",
       "  170.857,331.753 2352.76,331.753 \n",
       "  \"/>\n",
       "<polyline clip-path=\"url(#clip172)\" style=\"stroke:#000000; stroke-linecap:round; stroke-linejoin:round; stroke-width:2; stroke-opacity:0.1; fill:none\" points=\"\n",
       "  170.857,56.2459 2352.76,56.2459 \n",
       "  \"/>\n",
       "<polyline clip-path=\"url(#clip170)\" style=\"stroke:#000000; stroke-linecap:round; stroke-linejoin:round; stroke-width:4; stroke-opacity:1; fill:none\" points=\"\n",
       "  170.857,1474.16 170.857,47.2441 \n",
       "  \"/>\n",
       "<polyline clip-path=\"url(#clip170)\" style=\"stroke:#000000; stroke-linecap:round; stroke-linejoin:round; stroke-width:4; stroke-opacity:1; fill:none\" points=\"\n",
       "  170.857,1433.78 189.755,1433.78 \n",
       "  \"/>\n",
       "<polyline clip-path=\"url(#clip170)\" style=\"stroke:#000000; stroke-linecap:round; stroke-linejoin:round; stroke-width:4; stroke-opacity:1; fill:none\" points=\"\n",
       "  170.857,1158.27 189.755,1158.27 \n",
       "  \"/>\n",
       "<polyline clip-path=\"url(#clip170)\" style=\"stroke:#000000; stroke-linecap:round; stroke-linejoin:round; stroke-width:4; stroke-opacity:1; fill:none\" points=\"\n",
       "  170.857,882.766 189.755,882.766 \n",
       "  \"/>\n",
       "<polyline clip-path=\"url(#clip170)\" style=\"stroke:#000000; stroke-linecap:round; stroke-linejoin:round; stroke-width:4; stroke-opacity:1; fill:none\" points=\"\n",
       "  170.857,607.26 189.755,607.26 \n",
       "  \"/>\n",
       "<polyline clip-path=\"url(#clip170)\" style=\"stroke:#000000; stroke-linecap:round; stroke-linejoin:round; stroke-width:4; stroke-opacity:1; fill:none\" points=\"\n",
       "  170.857,331.753 189.755,331.753 \n",
       "  \"/>\n",
       "<polyline clip-path=\"url(#clip170)\" style=\"stroke:#000000; stroke-linecap:round; stroke-linejoin:round; stroke-width:4; stroke-opacity:1; fill:none\" points=\"\n",
       "  170.857,56.2459 189.755,56.2459 \n",
       "  \"/>\n",
       "<path clip-path=\"url(#clip170)\" d=\"M57.6125 1447.12 L73.9318 1447.12 L73.9318 1451.06 L51.9875 1451.06 L51.9875 1447.12 Q54.6495 1444.37 59.2328 1439.74 Q63.8393 1435.09 65.0198 1433.75 Q67.2652 1431.22 68.1448 1429.49 Q69.0476 1427.73 69.0476 1426.04 Q69.0476 1423.28 67.1032 1421.55 Q65.1819 1419.81 62.08 1419.81 Q59.881 1419.81 57.4273 1420.57 Q54.9967 1421.34 52.219 1422.89 L52.219 1418.17 Q55.043 1417.03 57.4967 1416.45 Q59.9504 1415.88 61.9874 1415.88 Q67.3578 1415.88 70.5522 1418.56 Q73.7466 1421.25 73.7466 1425.74 Q73.7466 1427.87 72.9365 1429.79 Q72.1494 1431.69 70.0429 1434.28 Q69.4642 1434.95 66.3624 1438.17 Q63.2606 1441.36 57.6125 1447.12 Z\" fill=\"#000000\" fill-rule=\"evenodd\" fill-opacity=\"1\" /><path clip-path=\"url(#clip170)\" d=\"M82.566 1416.5 L104.788 1416.5 L104.788 1418.49 L92.2419 1451.06 L87.3577 1451.06 L99.1632 1420.44 L82.566 1420.44 L82.566 1416.5 Z\" fill=\"#000000\" fill-rule=\"evenodd\" fill-opacity=\"1\" /><path clip-path=\"url(#clip170)\" d=\"M113.955 1416.5 L132.311 1416.5 L132.311 1420.44 L118.237 1420.44 L118.237 1428.91 Q119.256 1428.56 120.274 1428.4 Q121.293 1428.21 122.311 1428.21 Q128.098 1428.21 131.478 1431.38 Q134.857 1434.56 134.857 1439.97 Q134.857 1445.55 131.385 1448.65 Q127.913 1451.73 121.594 1451.73 Q119.418 1451.73 117.149 1451.36 Q114.904 1450.99 112.496 1450.25 L112.496 1445.55 Q114.58 1446.69 116.802 1447.24 Q119.024 1447.8 121.501 1447.8 Q125.506 1447.8 127.844 1445.69 Q130.182 1443.58 130.182 1439.97 Q130.182 1436.36 127.844 1434.25 Q125.506 1432.15 121.501 1432.15 Q119.626 1432.15 117.751 1432.56 Q115.899 1432.98 113.955 1433.86 L113.955 1416.5 Z\" fill=\"#000000\" fill-rule=\"evenodd\" fill-opacity=\"1\" /><path clip-path=\"url(#clip170)\" d=\"M56.6171 1171.62 L72.9365 1171.62 L72.9365 1175.55 L50.9921 1175.55 L50.9921 1171.62 Q53.6541 1168.86 58.2375 1164.23 Q62.8439 1159.58 64.0245 1158.24 Q66.2698 1155.72 67.1494 1153.98 Q68.0522 1152.22 68.0522 1150.53 Q68.0522 1147.78 66.1078 1146.04 Q64.1865 1144.3 61.0847 1144.3 Q58.8856 1144.3 56.4319 1145.07 Q54.0014 1145.83 51.2236 1147.38 L51.2236 1142.66 Q54.0477 1141.53 56.5014 1140.95 Q58.955 1140.37 60.9921 1140.37 Q66.3624 1140.37 69.5568 1143.05 Q72.7513 1145.74 72.7513 1150.23 Q72.7513 1152.36 71.9411 1154.28 Q71.1541 1156.18 69.0476 1158.77 Q68.4689 1159.44 65.367 1162.66 Q62.2652 1165.85 56.6171 1171.62 Z\" fill=\"#000000\" fill-rule=\"evenodd\" fill-opacity=\"1\" /><path clip-path=\"url(#clip170)\" d=\"M92.7512 1159.14 Q89.4178 1159.14 87.4966 1160.92 Q85.5984 1162.71 85.5984 1165.83 Q85.5984 1168.96 87.4966 1170.74 Q89.4178 1172.52 92.7512 1172.52 Q96.0845 1172.52 98.0058 1170.74 Q99.927 1168.93 99.927 1165.83 Q99.927 1162.71 98.0058 1160.92 Q96.1076 1159.14 92.7512 1159.14 M88.0753 1157.15 Q85.066 1156.41 83.3762 1154.35 Q81.7096 1152.29 81.7096 1149.33 Q81.7096 1145.18 84.6494 1142.78 Q87.6123 1140.37 92.7512 1140.37 Q97.9132 1140.37 100.853 1142.78 Q103.793 1145.18 103.793 1149.33 Q103.793 1152.29 102.103 1154.35 Q100.436 1156.41 97.4502 1157.15 Q100.83 1157.94 102.705 1160.23 Q104.603 1162.52 104.603 1165.83 Q104.603 1170.85 101.524 1173.54 Q98.4687 1176.22 92.7512 1176.22 Q87.0336 1176.22 83.9549 1173.54 Q80.8994 1170.85 80.8994 1165.83 Q80.8994 1162.52 82.7975 1160.23 Q84.6956 1157.94 88.0753 1157.15 M86.3623 1149.77 Q86.3623 1152.45 88.029 1153.96 Q89.7188 1155.46 92.7512 1155.46 Q95.7604 1155.46 97.4502 1153.96 Q99.1632 1152.45 99.1632 1149.77 Q99.1632 1147.08 97.4502 1145.58 Q95.7604 1144.07 92.7512 1144.07 Q89.7188 1144.07 88.029 1145.58 Q86.3623 1147.08 86.3623 1149.77 Z\" fill=\"#000000\" fill-rule=\"evenodd\" fill-opacity=\"1\" /><path clip-path=\"url(#clip170)\" d=\"M122.913 1144.07 Q119.302 1144.07 117.473 1147.64 Q115.668 1151.18 115.668 1158.31 Q115.668 1165.41 117.473 1168.98 Q119.302 1172.52 122.913 1172.52 Q126.547 1172.52 128.353 1168.98 Q130.182 1165.41 130.182 1158.31 Q130.182 1151.18 128.353 1147.64 Q126.547 1144.07 122.913 1144.07 M122.913 1140.37 Q128.723 1140.37 131.779 1144.97 Q134.857 1149.56 134.857 1158.31 Q134.857 1167.03 131.779 1171.64 Q128.723 1176.22 122.913 1176.22 Q117.103 1176.22 114.024 1171.64 Q110.969 1167.03 110.969 1158.31 Q110.969 1149.56 114.024 1144.97 Q117.103 1140.37 122.913 1140.37 Z\" fill=\"#000000\" fill-rule=\"evenodd\" fill-opacity=\"1\" /><path clip-path=\"url(#clip170)\" d=\"M57.6125 896.111 L73.9318 896.111 L73.9318 900.046 L51.9875 900.046 L51.9875 896.111 Q54.6495 893.357 59.2328 888.727 Q63.8393 884.074 65.0198 882.732 Q67.2652 880.209 68.1448 878.472 Q69.0476 876.713 69.0476 875.023 Q69.0476 872.269 67.1032 870.533 Q65.1819 868.797 62.08 868.797 Q59.881 868.797 57.4273 869.561 Q54.9967 870.324 52.219 871.875 L52.219 867.153 Q55.043 866.019 57.4967 865.44 Q59.9504 864.861 61.9874 864.861 Q67.3578 864.861 70.5522 867.547 Q73.7466 870.232 73.7466 874.723 Q73.7466 876.852 72.9365 878.773 Q72.1494 880.672 70.0429 883.264 Q69.4642 883.935 66.3624 887.153 Q63.2606 890.347 57.6125 896.111 Z\" fill=\"#000000\" fill-rule=\"evenodd\" fill-opacity=\"1\" /><path clip-path=\"url(#clip170)\" d=\"M93.7465 883.634 Q90.4132 883.634 88.4919 885.417 Q86.5938 887.199 86.5938 890.324 Q86.5938 893.449 88.4919 895.232 Q90.4132 897.014 93.7465 897.014 Q97.0798 897.014 99.0011 895.232 Q100.922 893.426 100.922 890.324 Q100.922 887.199 99.0011 885.417 Q97.103 883.634 93.7465 883.634 M89.0706 881.644 Q86.0614 880.903 84.3716 878.843 Q82.7049 876.783 82.7049 873.82 Q82.7049 869.676 85.6447 867.269 Q88.6077 864.861 93.7465 864.861 Q98.9085 864.861 101.848 867.269 Q104.788 869.676 104.788 873.82 Q104.788 876.783 103.098 878.843 Q101.432 880.903 98.4456 881.644 Q101.825 882.431 103.7 884.722 Q105.598 887.014 105.598 890.324 Q105.598 895.347 102.52 898.033 Q99.4641 900.718 93.7465 900.718 Q88.029 900.718 84.9503 898.033 Q81.8947 895.347 81.8947 890.324 Q81.8947 887.014 83.7929 884.722 Q85.691 882.431 89.0706 881.644 M87.3577 874.26 Q87.3577 876.945 89.0243 878.449 Q90.7141 879.954 93.7465 879.954 Q96.7558 879.954 98.4456 878.449 Q100.159 876.945 100.159 874.26 Q100.159 871.574 98.4456 870.07 Q96.7558 868.565 93.7465 868.565 Q90.7141 868.565 89.0243 870.07 Q87.3577 871.574 87.3577 874.26 Z\" fill=\"#000000\" fill-rule=\"evenodd\" fill-opacity=\"1\" /><path clip-path=\"url(#clip170)\" d=\"M113.955 865.486 L132.311 865.486 L132.311 869.422 L118.237 869.422 L118.237 877.894 Q119.256 877.547 120.274 877.385 Q121.293 877.199 122.311 877.199 Q128.098 877.199 131.478 880.371 Q134.857 883.542 134.857 888.959 Q134.857 894.537 131.385 897.639 Q127.913 900.718 121.594 900.718 Q119.418 900.718 117.149 900.347 Q114.904 899.977 112.496 899.236 L112.496 894.537 Q114.58 895.671 116.802 896.227 Q119.024 896.783 121.501 896.783 Q125.506 896.783 127.844 894.676 Q130.182 892.57 130.182 888.959 Q130.182 885.347 127.844 883.241 Q125.506 881.135 121.501 881.135 Q119.626 881.135 117.751 881.551 Q115.899 881.968 113.955 882.847 L113.955 865.486 Z\" fill=\"#000000\" fill-rule=\"evenodd\" fill-opacity=\"1\" /><path clip-path=\"url(#clip170)\" d=\"M56.6171 620.604 L72.9365 620.604 L72.9365 624.54 L50.9921 624.54 L50.9921 620.604 Q53.6541 617.85 58.2375 613.22 Q62.8439 608.567 64.0245 607.225 Q66.2698 604.702 67.1494 602.966 Q68.0522 601.206 68.0522 599.517 Q68.0522 596.762 66.1078 595.026 Q64.1865 593.29 61.0847 593.29 Q58.8856 593.29 56.4319 594.054 Q54.0014 594.818 51.2236 596.368 L51.2236 591.646 Q54.0477 590.512 56.5014 589.933 Q58.955 589.355 60.9921 589.355 Q66.3624 589.355 69.5568 592.04 Q72.7513 594.725 72.7513 599.216 Q72.7513 601.345 71.9411 603.267 Q71.1541 605.165 69.0476 607.757 Q68.4689 608.429 65.367 611.646 Q62.2652 614.841 56.6171 620.604 Z\" fill=\"#000000\" fill-rule=\"evenodd\" fill-opacity=\"1\" /><path clip-path=\"url(#clip170)\" d=\"M82.8901 623.822 L82.8901 619.563 Q84.6494 620.396 86.4549 620.836 Q88.2604 621.276 89.9965 621.276 Q94.6262 621.276 97.0567 618.174 Q99.5104 615.049 99.8576 608.706 Q98.515 610.697 96.4548 611.762 Q94.3947 612.827 91.8947 612.827 Q86.7095 612.827 83.6771 609.702 Q80.6679 606.554 80.6679 601.114 Q80.6679 595.79 83.816 592.572 Q86.9642 589.355 92.1956 589.355 Q98.1909 589.355 101.339 593.961 Q104.51 598.544 104.51 607.294 Q104.51 615.466 100.621 620.35 Q96.7558 625.211 90.2049 625.211 Q88.4456 625.211 86.6401 624.864 Q84.8345 624.516 82.8901 623.822 M92.1956 609.169 Q95.3437 609.169 97.1724 607.017 Q99.0243 604.864 99.0243 601.114 Q99.0243 597.387 97.1724 595.234 Q95.3437 593.058 92.1956 593.058 Q89.0475 593.058 87.1956 595.234 Q85.3669 597.387 85.3669 601.114 Q85.3669 604.864 87.1956 607.017 Q89.0475 609.169 92.1956 609.169 Z\" fill=\"#000000\" fill-rule=\"evenodd\" fill-opacity=\"1\" /><path clip-path=\"url(#clip170)\" d=\"M122.913 593.058 Q119.302 593.058 117.473 596.623 Q115.668 600.165 115.668 607.294 Q115.668 614.401 117.473 617.966 Q119.302 621.507 122.913 621.507 Q126.547 621.507 128.353 617.966 Q130.182 614.401 130.182 607.294 Q130.182 600.165 128.353 596.623 Q126.547 593.058 122.913 593.058 M122.913 589.355 Q128.723 589.355 131.779 593.961 Q134.857 598.544 134.857 607.294 Q134.857 616.021 131.779 620.628 Q128.723 625.211 122.913 625.211 Q117.103 625.211 114.024 620.628 Q110.969 616.021 110.969 607.294 Q110.969 598.544 114.024 593.961 Q117.103 589.355 122.913 589.355 Z\" fill=\"#000000\" fill-rule=\"evenodd\" fill-opacity=\"1\" /><path clip-path=\"url(#clip170)\" d=\"M57.6125 345.098 L73.9318 345.098 L73.9318 349.033 L51.9875 349.033 L51.9875 345.098 Q54.6495 342.343 59.2328 337.713 Q63.8393 333.061 65.0198 331.718 Q67.2652 329.195 68.1448 327.459 Q69.0476 325.7 69.0476 324.01 Q69.0476 321.255 67.1032 319.519 Q65.1819 317.783 62.08 317.783 Q59.881 317.783 57.4273 318.547 Q54.9967 319.311 52.219 320.862 L52.219 316.139 Q55.043 315.005 57.4967 314.426 Q59.9504 313.848 61.9874 313.848 Q67.3578 313.848 70.5522 316.533 Q73.7466 319.218 73.7466 323.709 Q73.7466 325.838 72.9365 327.76 Q72.1494 329.658 70.0429 332.25 Q69.4642 332.922 66.3624 336.139 Q63.2606 339.334 57.6125 345.098 Z\" fill=\"#000000\" fill-rule=\"evenodd\" fill-opacity=\"1\" /><path clip-path=\"url(#clip170)\" d=\"M83.8855 348.315 L83.8855 344.056 Q85.6447 344.889 87.4503 345.329 Q89.2558 345.769 90.9919 345.769 Q95.6215 345.769 98.0521 342.667 Q100.506 339.542 100.853 333.2 Q99.5104 335.19 97.4502 336.255 Q95.39 337.32 92.89 337.32 Q87.7049 337.32 84.6725 334.195 Q81.6633 331.047 81.6633 325.607 Q81.6633 320.283 84.8114 317.065 Q87.9595 313.848 93.191 313.848 Q99.1863 313.848 102.334 318.454 Q105.506 323.038 105.506 331.787 Q105.506 339.959 101.617 344.843 Q97.7511 349.704 91.2002 349.704 Q89.441 349.704 87.6354 349.357 Q85.8299 349.01 83.8855 348.315 M93.191 333.662 Q96.3391 333.662 98.1678 331.51 Q100.02 329.357 100.02 325.607 Q100.02 321.88 98.1678 319.727 Q96.3391 317.551 93.191 317.551 Q90.0428 317.551 88.191 319.727 Q86.3623 321.88 86.3623 325.607 Q86.3623 329.357 88.191 331.51 Q90.0428 333.662 93.191 333.662 Z\" fill=\"#000000\" fill-rule=\"evenodd\" fill-opacity=\"1\" /><path clip-path=\"url(#clip170)\" d=\"M113.955 314.473 L132.311 314.473 L132.311 318.408 L118.237 318.408 L118.237 326.88 Q119.256 326.533 120.274 326.371 Q121.293 326.186 122.311 326.186 Q128.098 326.186 131.478 329.357 Q134.857 332.528 134.857 337.945 Q134.857 343.524 131.385 346.625 Q127.913 349.704 121.594 349.704 Q119.418 349.704 117.149 349.334 Q114.904 348.963 112.496 348.223 L112.496 343.524 Q114.58 344.658 116.802 345.213 Q119.024 345.769 121.501 345.769 Q125.506 345.769 127.844 343.662 Q130.182 341.556 130.182 337.945 Q130.182 334.334 127.844 332.227 Q125.506 330.121 121.501 330.121 Q119.626 330.121 117.751 330.537 Q115.899 330.954 113.955 331.834 L113.955 314.473 Z\" fill=\"#000000\" fill-rule=\"evenodd\" fill-opacity=\"1\" /><path clip-path=\"url(#clip170)\" d=\"M66.7559 54.8918 Q70.1124 55.6094 71.9874 57.8779 Q73.8855 60.1464 73.8855 63.4797 Q73.8855 68.5954 70.367 71.3963 Q66.8485 74.1972 60.3671 74.1972 Q58.1912 74.1972 55.8764 73.7574 Q53.5847 73.3407 51.131 72.4843 L51.131 67.9704 Q53.0754 69.1047 55.3903 69.6834 Q57.7051 70.2621 60.2282 70.2621 Q64.6263 70.2621 66.918 68.526 Q69.2328 66.7899 69.2328 63.4797 Q69.2328 60.4241 67.08 58.7112 Q64.9504 56.9751 61.131 56.9751 L57.1032 56.9751 L57.1032 53.1325 L61.3161 53.1325 Q64.7652 53.1325 66.5939 51.7668 Q68.4226 50.3779 68.4226 47.7853 Q68.4226 45.1233 66.5245 43.7113 Q64.6495 42.2761 61.131 42.2761 Q59.2097 42.2761 57.0106 42.6928 Q54.8115 43.1094 52.1727 43.989 L52.1727 39.8224 Q54.8347 39.0817 57.1495 38.7113 Q59.4875 38.3409 61.5476 38.3409 Q66.8717 38.3409 69.9735 40.7715 Q73.0753 43.1789 73.0753 47.2992 Q73.0753 50.1696 71.4318 52.1603 Q69.7883 54.1279 66.7559 54.8918 Z\" fill=\"#000000\" fill-rule=\"evenodd\" fill-opacity=\"1\" /><path clip-path=\"url(#clip170)\" d=\"M92.7512 42.0446 Q89.1401 42.0446 87.3114 45.6094 Q85.5058 49.1511 85.5058 56.2806 Q85.5058 63.3871 87.3114 66.9519 Q89.1401 70.4935 92.7512 70.4935 Q96.3854 70.4935 98.1909 66.9519 Q100.02 63.3871 100.02 56.2806 Q100.02 49.1511 98.1909 45.6094 Q96.3854 42.0446 92.7512 42.0446 M92.7512 38.3409 Q98.5613 38.3409 101.617 42.9474 Q104.696 47.5307 104.696 56.2806 Q104.696 65.0075 101.617 69.6139 Q98.5613 74.1972 92.7512 74.1972 Q86.941 74.1972 83.8623 69.6139 Q80.8068 65.0075 80.8068 56.2806 Q80.8068 47.5307 83.8623 42.9474 Q86.941 38.3409 92.7512 38.3409 Z\" fill=\"#000000\" fill-rule=\"evenodd\" fill-opacity=\"1\" /><path clip-path=\"url(#clip170)\" d=\"M122.913 42.0446 Q119.302 42.0446 117.473 45.6094 Q115.668 49.1511 115.668 56.2806 Q115.668 63.3871 117.473 66.9519 Q119.302 70.4935 122.913 70.4935 Q126.547 70.4935 128.353 66.9519 Q130.182 63.3871 130.182 56.2806 Q130.182 49.1511 128.353 45.6094 Q126.547 42.0446 122.913 42.0446 M122.913 38.3409 Q128.723 38.3409 131.779 42.9474 Q134.857 47.5307 134.857 56.2806 Q134.857 65.0075 131.779 69.6139 Q128.723 74.1972 122.913 74.1972 Q117.103 74.1972 114.024 69.6139 Q110.969 65.0075 110.969 56.2806 Q110.969 47.5307 114.024 42.9474 Q117.103 38.3409 122.913 38.3409 Z\" fill=\"#000000\" fill-rule=\"evenodd\" fill-opacity=\"1\" /><polyline clip-path=\"url(#clip172)\" style=\"stroke:#009af9; stroke-linecap:round; stroke-linejoin:round; stroke-width:4; stroke-opacity:1; fill:none\" points=\"\n",
       "  232.609,87.6286 235.96,88.8561 239.31,90.1242 242.66,91.4338 246.011,92.7859 261.5,99.6179 276.989,107.479 292.478,116.473 307.968,126.702 323.457,138.27 \n",
       "  338.946,151.278 354.435,165.823 369.925,181.992 388.541,203.69 407.158,227.967 425.775,254.908 444.392,284.562 460.132,311.758 475.872,340.878 491.613,371.878 \n",
       "  507.353,404.686 524.451,442.26 541.55,481.694 558.648,522.797 575.746,565.344 607.273,646.718 638.799,730.36 672.599,820.359 706.398,908.354 725.978,957.519 \n",
       "  745.558,1004.86 765.138,1050.05 784.718,1092.78 802.119,1128.5 819.519,1161.99 836.92,1193.15 854.32,1221.95 869.579,1245.24 884.837,1266.72 900.096,1286.41 \n",
       "  915.355,1304.38 931.991,1322.06 948.627,1337.86 965.263,1351.88 981.899,1364.23 998.633,1375.12 1015.37,1384.58 1032.1,1392.76 1048.84,1399.77 1067.34,1406.33 \n",
       "  1085.84,1411.78 1104.35,1416.27 1122.85,1419.95 1158.06,1425.13 1193.27,1428.51 1266.49,1432.05 1328.12,1433.16 1403.37,1433.62 1472.3,1433.74 1535.97,1433.77 \n",
       "  1600.46,1433.78 1672.74,1433.78 1738.23,1433.78 1813.21,1433.78 1882.64,1433.78 1951.09,1433.78 2017.55,1433.78 2085.68,1433.78 2160.33,1433.78 2268.76,1433.78 \n",
       "  2291,1433.78 \n",
       "  \"/>\n",
       "<path clip-path=\"url(#clip170)\" d=\"\n",
       "M2009.41 198.488 L2280.03 198.488 L2280.03 94.8081 L2009.41 94.8081  Z\n",
       "  \" fill=\"#ffffff\" fill-rule=\"evenodd\" fill-opacity=\"1\"/>\n",
       "<polyline clip-path=\"url(#clip170)\" style=\"stroke:#000000; stroke-linecap:round; stroke-linejoin:round; stroke-width:4; stroke-opacity:1; fill:none\" points=\"\n",
       "  2009.41,198.488 2280.03,198.488 2280.03,94.8081 2009.41,94.8081 2009.41,198.488 \n",
       "  \"/>\n",
       "<polyline clip-path=\"url(#clip170)\" style=\"stroke:#009af9; stroke-linecap:round; stroke-linejoin:round; stroke-width:4; stroke-opacity:1; fill:none\" points=\"\n",
       "  2033.65,146.648 2179.11,146.648 \n",
       "  \"/>\n",
       "<path clip-path=\"url(#clip170)\" d=\"M2217.19 166.336 Q2215.39 170.965 2213.68 172.377 Q2211.96 173.789 2209.09 173.789 L2205.69 173.789 L2205.69 170.224 L2208.19 170.224 Q2209.95 170.224 2210.92 169.391 Q2211.89 168.558 2213.07 165.456 L2213.84 163.511 L2203.35 138.002 L2207.87 138.002 L2215.97 158.28 L2224.07 138.002 L2228.58 138.002 L2217.19 166.336 Z\" fill=\"#000000\" fill-rule=\"evenodd\" fill-opacity=\"1\" /><path clip-path=\"url(#clip170)\" d=\"M2235.88 159.993 L2243.51 159.993 L2243.51 133.627 L2235.2 135.294 L2235.2 131.035 L2243.47 129.368 L2248.14 129.368 L2248.14 159.993 L2255.78 159.993 L2255.78 163.928 L2235.88 163.928 L2235.88 159.993 Z\" fill=\"#000000\" fill-rule=\"evenodd\" fill-opacity=\"1\" /></svg>\n"
      ]
     },
     "execution_count": 8,
     "metadata": {},
     "output_type": "execute_result"
    }
   ],
   "source": [
    "hS = uMax/10\n",
    "F_Temp(x) = (T0 - TAppMax) * interval(x,-4*hS+uMin,uTran_Temp)\n",
    "wₕ(x,x₁) = (1/(sqrt(2*pi)*hS))*exp(-(x-x₁)^2/(2*hS^2))\n",
    "smoothT = SymPy.integrate(F_Temp(x₁)*wₕ(x,x₁),(x₁,-4*hS,uMax)) +  TAppMax\n",
    "plot(smoothT,0,uMax)"
   ]
  },
  {
   "cell_type": "code",
   "execution_count": 9,
   "id": "b946c25e",
   "metadata": {},
   "outputs": [
    {
     "data": {
      "image/svg+xml": [
       "<?xml version=\"1.0\" encoding=\"utf-8\"?>\n",
       "<svg xmlns=\"http://www.w3.org/2000/svg\" xmlns:xlink=\"http://www.w3.org/1999/xlink\" width=\"600\" height=\"400\" viewBox=\"0 0 2400 1600\">\n",
       "<defs>\n",
       "  <clipPath id=\"clip210\">\n",
       "    <rect x=\"0\" y=\"0\" width=\"2400\" height=\"1600\"/>\n",
       "  </clipPath>\n",
       "</defs>\n",
       "<path clip-path=\"url(#clip210)\" d=\"\n",
       "M0 1600 L2400 1600 L2400 0 L0 0  Z\n",
       "  \" fill=\"#ffffff\" fill-rule=\"evenodd\" fill-opacity=\"1\"/>\n",
       "<defs>\n",
       "  <clipPath id=\"clip211\">\n",
       "    <rect x=\"480\" y=\"0\" width=\"1681\" height=\"1600\"/>\n",
       "  </clipPath>\n",
       "</defs>\n",
       "<path clip-path=\"url(#clip210)\" d=\"\n",
       "M199.283 1474.16 L2352.76 1474.16 L2352.76 47.2441 L199.283 47.2441  Z\n",
       "  \" fill=\"#ffffff\" fill-rule=\"evenodd\" fill-opacity=\"1\"/>\n",
       "<defs>\n",
       "  <clipPath id=\"clip212\">\n",
       "    <rect x=\"199\" y=\"47\" width=\"2154\" height=\"1428\"/>\n",
       "  </clipPath>\n",
       "</defs>\n",
       "<polyline clip-path=\"url(#clip212)\" style=\"stroke:#000000; stroke-linecap:round; stroke-linejoin:round; stroke-width:2; stroke-opacity:0.1; fill:none\" points=\"\n",
       "  260.231,1474.16 260.231,47.2441 \n",
       "  \"/>\n",
       "<polyline clip-path=\"url(#clip212)\" style=\"stroke:#000000; stroke-linecap:round; stroke-linejoin:round; stroke-width:2; stroke-opacity:0.1; fill:none\" points=\"\n",
       "  840.681,1474.16 840.681,47.2441 \n",
       "  \"/>\n",
       "<polyline clip-path=\"url(#clip212)\" style=\"stroke:#000000; stroke-linecap:round; stroke-linejoin:round; stroke-width:2; stroke-opacity:0.1; fill:none\" points=\"\n",
       "  1421.13,1474.16 1421.13,47.2441 \n",
       "  \"/>\n",
       "<polyline clip-path=\"url(#clip212)\" style=\"stroke:#000000; stroke-linecap:round; stroke-linejoin:round; stroke-width:2; stroke-opacity:0.1; fill:none\" points=\"\n",
       "  2001.58,1474.16 2001.58,47.2441 \n",
       "  \"/>\n",
       "<polyline clip-path=\"url(#clip210)\" style=\"stroke:#000000; stroke-linecap:round; stroke-linejoin:round; stroke-width:4; stroke-opacity:1; fill:none\" points=\"\n",
       "  199.283,1474.16 2352.76,1474.16 \n",
       "  \"/>\n",
       "<polyline clip-path=\"url(#clip210)\" style=\"stroke:#000000; stroke-linecap:round; stroke-linejoin:round; stroke-width:4; stroke-opacity:1; fill:none\" points=\"\n",
       "  260.231,1474.16 260.231,1455.27 \n",
       "  \"/>\n",
       "<polyline clip-path=\"url(#clip210)\" style=\"stroke:#000000; stroke-linecap:round; stroke-linejoin:round; stroke-width:4; stroke-opacity:1; fill:none\" points=\"\n",
       "  840.681,1474.16 840.681,1455.27 \n",
       "  \"/>\n",
       "<polyline clip-path=\"url(#clip210)\" style=\"stroke:#000000; stroke-linecap:round; stroke-linejoin:round; stroke-width:4; stroke-opacity:1; fill:none\" points=\"\n",
       "  1421.13,1474.16 1421.13,1455.27 \n",
       "  \"/>\n",
       "<polyline clip-path=\"url(#clip210)\" style=\"stroke:#000000; stroke-linecap:round; stroke-linejoin:round; stroke-width:4; stroke-opacity:1; fill:none\" points=\"\n",
       "  2001.58,1474.16 2001.58,1455.27 \n",
       "  \"/>\n",
       "<path clip-path=\"url(#clip210)\" d=\"M260.231 1505.08 Q256.619 1505.08 254.791 1508.65 Q252.985 1512.19 252.985 1519.32 Q252.985 1526.43 254.791 1529.99 Q256.619 1533.53 260.231 1533.53 Q263.865 1533.53 265.67 1529.99 Q267.499 1526.43 267.499 1519.32 Q267.499 1512.19 265.67 1508.65 Q263.865 1505.08 260.231 1505.08 M260.231 1501.38 Q266.041 1501.38 269.096 1505.99 Q272.175 1510.57 272.175 1519.32 Q272.175 1528.05 269.096 1532.65 Q266.041 1537.24 260.231 1537.24 Q254.42 1537.24 251.342 1532.65 Q248.286 1528.05 248.286 1519.32 Q248.286 1510.57 251.342 1505.99 Q254.42 1501.38 260.231 1501.38 Z\" fill=\"#000000\" fill-rule=\"evenodd\" fill-opacity=\"1\" /><path clip-path=\"url(#clip210)\" d=\"M732.675 1548.29 L740.314 1548.29 L740.314 1521.92 L732.004 1523.59 L732.004 1519.33 L740.267 1517.66 L744.943 1517.66 L744.943 1548.29 L752.582 1548.29 L752.582 1552.22 L732.675 1552.22 L732.675 1548.29 Z\" fill=\"#000000\" fill-rule=\"evenodd\" fill-opacity=\"1\" /><path clip-path=\"url(#clip210)\" d=\"M762.027 1546.35 L766.911 1546.35 L766.911 1552.22 L762.027 1552.22 L762.027 1546.35 Z\" fill=\"#000000\" fill-rule=\"evenodd\" fill-opacity=\"1\" /><path clip-path=\"url(#clip210)\" d=\"M787.096 1520.74 Q783.485 1520.74 781.656 1524.31 Q779.851 1527.85 779.851 1534.98 Q779.851 1542.09 781.656 1545.65 Q783.485 1549.19 787.096 1549.19 Q790.73 1549.19 792.536 1545.65 Q794.364 1542.09 794.364 1534.98 Q794.364 1527.85 792.536 1524.31 Q790.73 1520.74 787.096 1520.74 M787.096 1517.04 Q792.906 1517.04 795.962 1521.65 Q799.04 1526.23 799.04 1534.98 Q799.04 1543.71 795.962 1548.31 Q792.906 1552.9 787.096 1552.9 Q781.286 1552.9 778.207 1548.31 Q775.152 1543.71 775.152 1534.98 Q775.152 1526.23 778.207 1521.65 Q781.286 1517.04 787.096 1517.04 Z\" fill=\"#000000\" fill-rule=\"evenodd\" fill-opacity=\"1\" /><path clip-path=\"url(#clip210)\" d=\"M835.429 1526.76 L824.85 1537.39 L835.429 1547.97 L832.674 1550.77 L822.049 1540.14 L811.424 1550.77 L808.693 1547.97 L819.248 1537.39 L808.693 1526.76 L811.424 1523.96 L822.049 1534.59 L832.674 1523.96 L835.429 1526.76 Z\" fill=\"#000000\" fill-rule=\"evenodd\" fill-opacity=\"1\" /><path clip-path=\"url(#clip210)\" d=\"M847.79 1548.29 L855.429 1548.29 L855.429 1521.92 L847.119 1523.59 L847.119 1519.33 L855.383 1517.66 L860.058 1517.66 L860.058 1548.29 L867.697 1548.29 L867.697 1552.22 L847.79 1552.22 L847.79 1548.29 Z\" fill=\"#000000\" fill-rule=\"evenodd\" fill-opacity=\"1\" /><path clip-path=\"url(#clip210)\" d=\"M887.142 1520.74 Q883.531 1520.74 881.702 1524.31 Q879.896 1527.85 879.896 1534.98 Q879.896 1542.09 881.702 1545.65 Q883.531 1549.19 887.142 1549.19 Q890.776 1549.19 892.581 1545.65 Q894.41 1542.09 894.41 1534.98 Q894.41 1527.85 892.581 1524.31 Q890.776 1520.74 887.142 1520.74 M887.142 1517.04 Q892.952 1517.04 896.007 1521.65 Q899.086 1526.23 899.086 1534.98 Q899.086 1543.71 896.007 1548.31 Q892.952 1552.9 887.142 1552.9 Q881.331 1552.9 878.253 1548.31 Q875.197 1543.71 875.197 1534.98 Q875.197 1526.23 878.253 1521.65 Q881.331 1517.04 887.142 1517.04 Z\" fill=\"#000000\" fill-rule=\"evenodd\" fill-opacity=\"1\" /><path clip-path=\"url(#clip210)\" d=\"M899.086 1511.14 L923.198 1511.14 L923.198 1514.34 L899.086 1514.34 L899.086 1511.14 Z\" fill=\"#000000\" fill-rule=\"evenodd\" fill-opacity=\"1\" /><path clip-path=\"url(#clip210)\" d=\"M939.993 1509.26 Q937.435 1509.26 935.93 1511.01 Q934.445 1512.76 934.445 1515.81 Q934.445 1518.83 935.93 1520.6 Q937.435 1522.35 939.993 1522.35 Q942.551 1522.35 944.037 1520.6 Q945.541 1518.83 945.541 1515.81 Q945.541 1512.76 944.037 1511.01 Q942.551 1509.26 939.993 1509.26 M947.535 1497.35 L947.535 1500.82 Q946.105 1500.14 944.638 1499.78 Q943.19 1499.42 941.761 1499.42 Q937.999 1499.42 936.006 1501.96 Q934.031 1504.5 933.749 1509.64 Q934.858 1508 936.532 1507.13 Q938.206 1506.25 940.219 1506.25 Q944.45 1506.25 946.895 1508.83 Q949.359 1511.39 949.359 1515.81 Q949.359 1520.13 946.801 1522.75 Q944.243 1525.36 939.993 1525.36 Q935.122 1525.36 932.545 1521.64 Q929.968 1517.89 929.968 1510.8 Q929.968 1504.14 933.128 1500.19 Q936.288 1496.23 941.61 1496.23 Q943.04 1496.23 944.488 1496.51 Q945.955 1496.79 947.535 1497.35 Z\" fill=\"#000000\" fill-rule=\"evenodd\" fill-opacity=\"1\" /><path clip-path=\"url(#clip210)\" d=\"M1317.21 1548.29 L1333.53 1548.29 L1333.53 1552.22 L1311.59 1552.22 L1311.59 1548.29 Q1314.25 1545.53 1318.83 1540.91 Q1323.44 1536.25 1324.62 1534.91 Q1326.86 1532.39 1327.74 1530.65 Q1328.65 1528.89 1328.65 1527.2 Q1328.65 1524.45 1326.7 1522.71 Q1324.78 1520.97 1321.68 1520.97 Q1319.48 1520.97 1317.03 1521.74 Q1314.6 1522.5 1311.82 1524.05 L1311.82 1519.33 Q1314.64 1518.2 1317.1 1517.62 Q1319.55 1517.04 1321.59 1517.04 Q1326.96 1517.04 1330.15 1519.72 Q1333.35 1522.41 1333.35 1526.9 Q1333.35 1529.03 1332.54 1530.95 Q1331.75 1532.85 1329.64 1535.44 Q1329.06 1536.11 1325.96 1539.33 Q1322.86 1542.53 1317.21 1548.29 Z\" fill=\"#000000\" fill-rule=\"evenodd\" fill-opacity=\"1\" /><path clip-path=\"url(#clip210)\" d=\"M1343.35 1546.35 L1348.23 1546.35 L1348.23 1552.22 L1343.35 1552.22 L1343.35 1546.35 Z\" fill=\"#000000\" fill-rule=\"evenodd\" fill-opacity=\"1\" /><path clip-path=\"url(#clip210)\" d=\"M1368.41 1520.74 Q1364.8 1520.74 1362.98 1524.31 Q1361.17 1527.85 1361.17 1534.98 Q1361.17 1542.09 1362.98 1545.65 Q1364.8 1549.19 1368.41 1549.19 Q1372.05 1549.19 1373.85 1545.65 Q1375.68 1542.09 1375.68 1534.98 Q1375.68 1527.85 1373.85 1524.31 Q1372.05 1520.74 1368.41 1520.74 M1368.41 1517.04 Q1374.22 1517.04 1377.28 1521.65 Q1380.36 1526.23 1380.36 1534.98 Q1380.36 1543.71 1377.28 1548.31 Q1374.22 1552.9 1368.41 1552.9 Q1362.6 1552.9 1359.53 1548.31 Q1356.47 1543.71 1356.47 1534.98 Q1356.47 1526.23 1359.53 1521.65 Q1362.6 1517.04 1368.41 1517.04 Z\" fill=\"#000000\" fill-rule=\"evenodd\" fill-opacity=\"1\" /><path clip-path=\"url(#clip210)\" d=\"M1416.75 1526.76 L1406.17 1537.39 L1416.75 1547.97 L1413.99 1550.77 L1403.37 1540.14 L1392.74 1550.77 L1390.01 1547.97 L1400.57 1537.39 L1390.01 1526.76 L1392.74 1523.96 L1403.37 1534.59 L1413.99 1523.96 L1416.75 1526.76 Z\" fill=\"#000000\" fill-rule=\"evenodd\" fill-opacity=\"1\" /><path clip-path=\"url(#clip210)\" d=\"M1429.11 1548.29 L1436.75 1548.29 L1436.75 1521.92 L1428.44 1523.59 L1428.44 1519.33 L1436.7 1517.66 L1441.38 1517.66 L1441.38 1548.29 L1449.02 1548.29 L1449.02 1552.22 L1429.11 1552.22 L1429.11 1548.29 Z\" fill=\"#000000\" fill-rule=\"evenodd\" fill-opacity=\"1\" /><path clip-path=\"url(#clip210)\" d=\"M1468.46 1520.74 Q1464.85 1520.74 1463.02 1524.31 Q1461.22 1527.85 1461.22 1534.98 Q1461.22 1542.09 1463.02 1545.65 Q1464.85 1549.19 1468.46 1549.19 Q1472.09 1549.19 1473.9 1545.65 Q1475.73 1542.09 1475.73 1534.98 Q1475.73 1527.85 1473.9 1524.31 Q1472.09 1520.74 1468.46 1520.74 M1468.46 1517.04 Q1474.27 1517.04 1477.33 1521.65 Q1480.4 1526.23 1480.4 1534.98 Q1480.4 1543.71 1477.33 1548.31 Q1474.27 1552.9 1468.46 1552.9 Q1462.65 1552.9 1459.57 1548.31 Q1456.52 1543.71 1456.52 1534.98 Q1456.52 1526.23 1459.57 1521.65 Q1462.65 1517.04 1468.46 1517.04 Z\" fill=\"#000000\" fill-rule=\"evenodd\" fill-opacity=\"1\" /><path clip-path=\"url(#clip210)\" d=\"M1480.4 1511.14 L1504.52 1511.14 L1504.52 1514.34 L1480.4 1514.34 L1480.4 1511.14 Z\" fill=\"#000000\" fill-rule=\"evenodd\" fill-opacity=\"1\" /><path clip-path=\"url(#clip210)\" d=\"M1521.31 1509.26 Q1518.75 1509.26 1517.25 1511.01 Q1515.76 1512.76 1515.76 1515.81 Q1515.76 1518.83 1517.25 1520.6 Q1518.75 1522.35 1521.31 1522.35 Q1523.87 1522.35 1525.36 1520.6 Q1526.86 1518.83 1526.86 1515.81 Q1526.86 1512.76 1525.36 1511.01 Q1523.87 1509.26 1521.31 1509.26 M1528.85 1497.35 L1528.85 1500.82 Q1527.42 1500.14 1525.96 1499.78 Q1524.51 1499.42 1523.08 1499.42 Q1519.32 1499.42 1517.32 1501.96 Q1515.35 1504.5 1515.07 1509.64 Q1516.18 1508 1517.85 1507.13 Q1519.53 1506.25 1521.54 1506.25 Q1525.77 1506.25 1528.21 1508.83 Q1530.68 1511.39 1530.68 1515.81 Q1530.68 1520.13 1528.12 1522.75 Q1525.56 1525.36 1521.31 1525.36 Q1516.44 1525.36 1513.86 1521.64 Q1511.29 1517.89 1511.29 1510.8 Q1511.29 1504.14 1514.45 1500.19 Q1517.61 1496.23 1522.93 1496.23 Q1524.36 1496.23 1525.81 1496.51 Q1527.27 1496.79 1528.85 1497.35 Z\" fill=\"#000000\" fill-rule=\"evenodd\" fill-opacity=\"1\" /><path clip-path=\"url(#clip210)\" d=\"M1907.73 1533.59 Q1911.09 1534.31 1912.96 1536.58 Q1914.86 1538.85 1914.86 1542.18 Q1914.86 1547.29 1911.34 1550.1 Q1907.82 1552.9 1901.34 1552.9 Q1899.17 1552.9 1896.85 1552.46 Q1894.56 1552.04 1892.11 1551.18 L1892.11 1546.67 Q1894.05 1547.8 1896.37 1548.38 Q1898.68 1548.96 1901.2 1548.96 Q1905.6 1548.96 1907.89 1547.22 Q1910.21 1545.49 1910.21 1542.18 Q1910.21 1539.12 1908.06 1537.41 Q1905.93 1535.67 1902.11 1535.67 L1898.08 1535.67 L1898.08 1531.83 L1902.29 1531.83 Q1905.74 1531.83 1907.57 1530.47 Q1909.4 1529.08 1909.4 1526.48 Q1909.4 1523.82 1907.5 1522.41 Q1905.63 1520.97 1902.11 1520.97 Q1900.19 1520.97 1897.99 1521.39 Q1895.79 1521.81 1893.15 1522.69 L1893.15 1518.52 Q1895.81 1517.78 1898.13 1517.41 Q1900.46 1517.04 1902.52 1517.04 Q1907.85 1517.04 1910.95 1519.47 Q1914.05 1521.88 1914.05 1526 Q1914.05 1528.87 1912.41 1530.86 Q1910.76 1532.83 1907.73 1533.59 Z\" fill=\"#000000\" fill-rule=\"evenodd\" fill-opacity=\"1\" /><path clip-path=\"url(#clip210)\" d=\"M1923.73 1546.35 L1928.61 1546.35 L1928.61 1552.22 L1923.73 1552.22 L1923.73 1546.35 Z\" fill=\"#000000\" fill-rule=\"evenodd\" fill-opacity=\"1\" /><path clip-path=\"url(#clip210)\" d=\"M1948.8 1520.74 Q1945.19 1520.74 1943.36 1524.31 Q1941.55 1527.85 1941.55 1534.98 Q1941.55 1542.09 1943.36 1545.65 Q1945.19 1549.19 1948.8 1549.19 Q1952.43 1549.19 1954.24 1545.65 Q1956.06 1542.09 1956.06 1534.98 Q1956.06 1527.85 1954.24 1524.31 Q1952.43 1520.74 1948.8 1520.74 M1948.8 1517.04 Q1954.61 1517.04 1957.66 1521.65 Q1960.74 1526.23 1960.74 1534.98 Q1960.74 1543.71 1957.66 1548.31 Q1954.61 1552.9 1948.8 1552.9 Q1942.99 1552.9 1939.91 1548.31 Q1936.85 1543.71 1936.85 1534.98 Q1936.85 1526.23 1939.91 1521.65 Q1942.99 1517.04 1948.8 1517.04 Z\" fill=\"#000000\" fill-rule=\"evenodd\" fill-opacity=\"1\" /><path clip-path=\"url(#clip210)\" d=\"M1997.13 1526.76 L1986.55 1537.39 L1997.13 1547.97 L1994.37 1550.77 L1983.75 1540.14 L1973.12 1550.77 L1970.39 1547.97 L1980.95 1537.39 L1970.39 1526.76 L1973.12 1523.96 L1983.75 1534.59 L1994.37 1523.96 L1997.13 1526.76 Z\" fill=\"#000000\" fill-rule=\"evenodd\" fill-opacity=\"1\" /><path clip-path=\"url(#clip210)\" d=\"M2009.49 1548.29 L2017.13 1548.29 L2017.13 1521.92 L2008.82 1523.59 L2008.82 1519.33 L2017.08 1517.66 L2021.76 1517.66 L2021.76 1548.29 L2029.4 1548.29 L2029.4 1552.22 L2009.49 1552.22 L2009.49 1548.29 Z\" fill=\"#000000\" fill-rule=\"evenodd\" fill-opacity=\"1\" /><path clip-path=\"url(#clip210)\" d=\"M2048.84 1520.74 Q2045.23 1520.74 2043.4 1524.31 Q2041.6 1527.85 2041.6 1534.98 Q2041.6 1542.09 2043.4 1545.65 Q2045.23 1549.19 2048.84 1549.19 Q2052.48 1549.19 2054.28 1545.65 Q2056.11 1542.09 2056.11 1534.98 Q2056.11 1527.85 2054.28 1524.31 Q2052.48 1520.74 2048.84 1520.74 M2048.84 1517.04 Q2054.65 1517.04 2057.71 1521.65 Q2060.79 1526.23 2060.79 1534.98 Q2060.79 1543.71 2057.71 1548.31 Q2054.65 1552.9 2048.84 1552.9 Q2043.03 1552.9 2039.95 1548.31 Q2036.9 1543.71 2036.9 1534.98 Q2036.9 1526.23 2039.95 1521.65 Q2043.03 1517.04 2048.84 1517.04 Z\" fill=\"#000000\" fill-rule=\"evenodd\" fill-opacity=\"1\" /><path clip-path=\"url(#clip210)\" d=\"M2060.79 1511.14 L2084.9 1511.14 L2084.9 1514.34 L2060.79 1514.34 L2060.79 1511.14 Z\" fill=\"#000000\" fill-rule=\"evenodd\" fill-opacity=\"1\" /><path clip-path=\"url(#clip210)\" d=\"M2101.69 1509.26 Q2099.14 1509.26 2097.63 1511.01 Q2096.14 1512.76 2096.14 1515.81 Q2096.14 1518.83 2097.63 1520.6 Q2099.14 1522.35 2101.69 1522.35 Q2104.25 1522.35 2105.74 1520.6 Q2107.24 1518.83 2107.24 1515.81 Q2107.24 1512.76 2105.74 1511.01 Q2104.25 1509.26 2101.69 1509.26 M2109.24 1497.35 L2109.24 1500.82 Q2107.81 1500.14 2106.34 1499.78 Q2104.89 1499.42 2103.46 1499.42 Q2099.7 1499.42 2097.71 1501.96 Q2095.73 1504.5 2095.45 1509.64 Q2096.56 1508 2098.23 1507.13 Q2099.91 1506.25 2101.92 1506.25 Q2106.15 1506.25 2108.6 1508.83 Q2111.06 1511.39 2111.06 1515.81 Q2111.06 1520.13 2108.5 1522.75 Q2105.94 1525.36 2101.69 1525.36 Q2096.82 1525.36 2094.25 1521.64 Q2091.67 1517.89 2091.67 1510.8 Q2091.67 1504.14 2094.83 1500.19 Q2097.99 1496.23 2103.31 1496.23 Q2104.74 1496.23 2106.19 1496.51 Q2107.66 1496.79 2109.24 1497.35 Z\" fill=\"#000000\" fill-rule=\"evenodd\" fill-opacity=\"1\" /><polyline clip-path=\"url(#clip212)\" style=\"stroke:#000000; stroke-linecap:round; stroke-linejoin:round; stroke-width:2; stroke-opacity:0.1; fill:none\" points=\"\n",
       "  199.283,1433.79 2352.76,1433.79 \n",
       "  \"/>\n",
       "<polyline clip-path=\"url(#clip212)\" style=\"stroke:#000000; stroke-linecap:round; stroke-linejoin:round; stroke-width:2; stroke-opacity:0.1; fill:none\" points=\"\n",
       "  199.283,1097.25 2352.76,1097.25 \n",
       "  \"/>\n",
       "<polyline clip-path=\"url(#clip212)\" style=\"stroke:#000000; stroke-linecap:round; stroke-linejoin:round; stroke-width:2; stroke-opacity:0.1; fill:none\" points=\"\n",
       "  199.283,760.709 2352.76,760.709 \n",
       "  \"/>\n",
       "<polyline clip-path=\"url(#clip212)\" style=\"stroke:#000000; stroke-linecap:round; stroke-linejoin:round; stroke-width:2; stroke-opacity:0.1; fill:none\" points=\"\n",
       "  199.283,424.169 2352.76,424.169 \n",
       "  \"/>\n",
       "<polyline clip-path=\"url(#clip212)\" style=\"stroke:#000000; stroke-linecap:round; stroke-linejoin:round; stroke-width:2; stroke-opacity:0.1; fill:none\" points=\"\n",
       "  199.283,87.6286 2352.76,87.6286 \n",
       "  \"/>\n",
       "<polyline clip-path=\"url(#clip210)\" style=\"stroke:#000000; stroke-linecap:round; stroke-linejoin:round; stroke-width:4; stroke-opacity:1; fill:none\" points=\"\n",
       "  199.283,1474.16 199.283,47.2441 \n",
       "  \"/>\n",
       "<polyline clip-path=\"url(#clip210)\" style=\"stroke:#000000; stroke-linecap:round; stroke-linejoin:round; stroke-width:4; stroke-opacity:1; fill:none\" points=\"\n",
       "  199.283,1433.79 218.181,1433.79 \n",
       "  \"/>\n",
       "<polyline clip-path=\"url(#clip210)\" style=\"stroke:#000000; stroke-linecap:round; stroke-linejoin:round; stroke-width:4; stroke-opacity:1; fill:none\" points=\"\n",
       "  199.283,1097.25 218.181,1097.25 \n",
       "  \"/>\n",
       "<polyline clip-path=\"url(#clip210)\" style=\"stroke:#000000; stroke-linecap:round; stroke-linejoin:round; stroke-width:4; stroke-opacity:1; fill:none\" points=\"\n",
       "  199.283,760.709 218.181,760.709 \n",
       "  \"/>\n",
       "<polyline clip-path=\"url(#clip210)\" style=\"stroke:#000000; stroke-linecap:round; stroke-linejoin:round; stroke-width:4; stroke-opacity:1; fill:none\" points=\"\n",
       "  199.283,424.169 218.181,424.169 \n",
       "  \"/>\n",
       "<polyline clip-path=\"url(#clip210)\" style=\"stroke:#000000; stroke-linecap:round; stroke-linejoin:round; stroke-width:4; stroke-opacity:1; fill:none\" points=\"\n",
       "  199.283,87.6286 218.181,87.6286 \n",
       "  \"/>\n",
       "<path clip-path=\"url(#clip210)\" d=\"M151.339 1419.59 Q147.728 1419.59 145.899 1423.15 Q144.093 1426.69 144.093 1433.82 Q144.093 1440.93 145.899 1444.5 Q147.728 1448.04 151.339 1448.04 Q154.973 1448.04 156.779 1444.5 Q158.607 1440.93 158.607 1433.82 Q158.607 1426.69 156.779 1423.15 Q154.973 1419.59 151.339 1419.59 M151.339 1415.88 Q157.149 1415.88 160.205 1420.49 Q163.283 1425.07 163.283 1433.82 Q163.283 1442.55 160.205 1447.16 Q157.149 1451.74 151.339 1451.74 Q145.529 1451.74 142.45 1447.16 Q139.394 1442.55 139.394 1433.82 Q139.394 1425.07 142.45 1420.49 Q145.529 1415.88 151.339 1415.88 Z\" fill=\"#000000\" fill-rule=\"evenodd\" fill-opacity=\"1\" /><path clip-path=\"url(#clip210)\" d=\"M85.0429 1110.59 L101.362 1110.59 L101.362 1114.53 L79.4179 1114.53 L79.4179 1110.59 Q82.0799 1107.84 86.6632 1103.21 Q91.2697 1098.56 92.4502 1097.21 Q94.6956 1094.69 95.5752 1092.96 Q96.478 1091.2 96.478 1089.51 Q96.478 1086.75 94.5336 1085.02 Q92.6123 1083.28 89.5104 1083.28 Q87.3114 1083.28 84.8577 1084.04 Q82.4271 1084.81 79.6494 1086.36 L79.6494 1081.64 Q82.4734 1080.5 84.9271 1079.92 Q87.3808 1079.34 89.4178 1079.34 Q94.7882 1079.34 97.9826 1082.03 Q101.177 1084.71 101.177 1089.21 Q101.177 1091.33 100.367 1093.26 Q99.5798 1095.15 97.4734 1097.75 Q96.8947 1098.42 93.7928 1101.64 Q90.691 1104.83 85.0429 1110.59 Z\" fill=\"#000000\" fill-rule=\"evenodd\" fill-opacity=\"1\" /><path clip-path=\"url(#clip210)\" d=\"M111.223 1079.97 L129.58 1079.97 L129.58 1083.9 L115.506 1083.9 L115.506 1092.38 Q116.524 1092.03 117.543 1091.87 Q118.561 1091.68 119.58 1091.68 Q125.367 1091.68 128.746 1094.85 Q132.126 1098.02 132.126 1103.44 Q132.126 1109.02 128.654 1112.12 Q125.182 1115.2 118.862 1115.2 Q116.686 1115.2 114.418 1114.83 Q112.172 1114.46 109.765 1113.72 L109.765 1109.02 Q111.848 1110.15 114.07 1110.71 Q116.293 1111.27 118.77 1111.27 Q122.774 1111.27 125.112 1109.16 Q127.45 1107.05 127.45 1103.44 Q127.45 1099.83 125.112 1097.72 Q122.774 1095.62 118.77 1095.62 Q116.895 1095.62 115.02 1096.03 Q113.168 1096.45 111.223 1097.33 L111.223 1079.97 Z\" fill=\"#000000\" fill-rule=\"evenodd\" fill-opacity=\"1\" /><path clip-path=\"url(#clip210)\" d=\"M151.339 1083.05 Q147.728 1083.05 145.899 1086.61 Q144.093 1090.15 144.093 1097.28 Q144.093 1104.39 145.899 1107.96 Q147.728 1111.5 151.339 1111.5 Q154.973 1111.5 156.779 1107.96 Q158.607 1104.39 158.607 1097.28 Q158.607 1090.15 156.779 1086.61 Q154.973 1083.05 151.339 1083.05 M151.339 1079.34 Q157.149 1079.34 160.205 1083.95 Q163.283 1088.53 163.283 1097.28 Q163.283 1106.01 160.205 1110.62 Q157.149 1115.2 151.339 1115.2 Q145.529 1115.2 142.45 1110.62 Q139.394 1106.01 139.394 1097.28 Q139.394 1088.53 142.45 1083.95 Q145.529 1079.34 151.339 1079.34 Z\" fill=\"#000000\" fill-rule=\"evenodd\" fill-opacity=\"1\" /><path clip-path=\"url(#clip210)\" d=\"M81.0614 743.429 L99.4178 743.429 L99.4178 747.364 L85.3438 747.364 L85.3438 755.836 Q86.3623 755.489 87.3808 755.327 Q88.3993 755.142 89.4178 755.142 Q95.2049 755.142 98.5845 758.313 Q101.964 761.484 101.964 766.901 Q101.964 772.48 98.4919 775.582 Q95.0197 778.66 88.7003 778.66 Q86.5243 778.66 84.2558 778.29 Q82.0105 777.92 79.6031 777.179 L79.6031 772.48 Q81.6864 773.614 83.9086 774.17 Q86.1308 774.725 88.6077 774.725 Q92.6123 774.725 94.9502 772.619 Q97.2882 770.512 97.2882 766.901 Q97.2882 763.29 94.9502 761.183 Q92.6123 759.077 88.6077 759.077 Q86.7327 759.077 84.8577 759.494 Q83.0058 759.91 81.0614 760.79 L81.0614 743.429 Z\" fill=\"#000000\" fill-rule=\"evenodd\" fill-opacity=\"1\" /><path clip-path=\"url(#clip210)\" d=\"M121.177 746.508 Q117.566 746.508 115.737 750.072 Q113.932 753.614 113.932 760.744 Q113.932 767.85 115.737 771.415 Q117.566 774.957 121.177 774.957 Q124.811 774.957 126.617 771.415 Q128.445 767.85 128.445 760.744 Q128.445 753.614 126.617 750.072 Q124.811 746.508 121.177 746.508 M121.177 742.804 Q126.987 742.804 130.043 747.41 Q133.121 751.994 133.121 760.744 Q133.121 769.47 130.043 774.077 Q126.987 778.66 121.177 778.66 Q115.367 778.66 112.288 774.077 Q109.233 769.47 109.233 760.744 Q109.233 751.994 112.288 747.41 Q115.367 742.804 121.177 742.804 Z\" fill=\"#000000\" fill-rule=\"evenodd\" fill-opacity=\"1\" /><path clip-path=\"url(#clip210)\" d=\"M151.339 746.508 Q147.728 746.508 145.899 750.072 Q144.093 753.614 144.093 760.744 Q144.093 767.85 145.899 771.415 Q147.728 774.957 151.339 774.957 Q154.973 774.957 156.779 771.415 Q158.607 767.85 158.607 760.744 Q158.607 753.614 156.779 750.072 Q154.973 746.508 151.339 746.508 M151.339 742.804 Q157.149 742.804 160.205 747.41 Q163.283 751.994 163.283 760.744 Q163.283 769.47 160.205 774.077 Q157.149 778.66 151.339 778.66 Q145.529 778.66 142.45 774.077 Q139.394 769.47 139.394 760.744 Q139.394 751.994 142.45 747.41 Q145.529 742.804 151.339 742.804 Z\" fill=\"#000000\" fill-rule=\"evenodd\" fill-opacity=\"1\" /><path clip-path=\"url(#clip210)\" d=\"M79.8346 406.889 L102.057 406.889 L102.057 408.88 L89.5104 441.449 L84.6262 441.449 L96.4317 410.824 L79.8346 410.824 L79.8346 406.889 Z\" fill=\"#000000\" fill-rule=\"evenodd\" fill-opacity=\"1\" /><path clip-path=\"url(#clip210)\" d=\"M111.223 406.889 L129.58 406.889 L129.58 410.824 L115.506 410.824 L115.506 419.296 Q116.524 418.949 117.543 418.787 Q118.561 418.602 119.58 418.602 Q125.367 418.602 128.746 421.773 Q132.126 424.944 132.126 430.361 Q132.126 435.94 128.654 439.041 Q125.182 442.12 118.862 442.12 Q116.686 442.12 114.418 441.75 Q112.172 441.379 109.765 440.639 L109.765 435.94 Q111.848 437.074 114.07 437.629 Q116.293 438.185 118.77 438.185 Q122.774 438.185 125.112 436.078 Q127.45 433.972 127.45 430.361 Q127.45 426.75 125.112 424.643 Q122.774 422.537 118.77 422.537 Q116.895 422.537 115.02 422.954 Q113.168 423.37 111.223 424.25 L111.223 406.889 Z\" fill=\"#000000\" fill-rule=\"evenodd\" fill-opacity=\"1\" /><path clip-path=\"url(#clip210)\" d=\"M151.339 409.967 Q147.728 409.967 145.899 413.532 Q144.093 417.074 144.093 424.204 Q144.093 431.31 145.899 434.875 Q147.728 438.416 151.339 438.416 Q154.973 438.416 156.779 434.875 Q158.607 431.31 158.607 424.204 Q158.607 417.074 156.779 413.532 Q154.973 409.967 151.339 409.967 M151.339 406.264 Q157.149 406.264 160.205 410.87 Q163.283 415.454 163.283 424.204 Q163.283 432.93 160.205 437.537 Q157.149 442.12 151.339 442.12 Q145.529 442.12 142.45 437.537 Q139.394 432.93 139.394 424.204 Q139.394 415.454 142.45 410.87 Q145.529 406.264 151.339 406.264 Z\" fill=\"#000000\" fill-rule=\"evenodd\" fill-opacity=\"1\" /><path clip-path=\"url(#clip210)\" d=\"M51.6634 100.973 L59.3023 100.973 L59.3023 74.6079 L50.9921 76.2745 L50.9921 72.0153 L59.256 70.3486 L63.9319 70.3486 L63.9319 100.973 L71.5707 100.973 L71.5707 104.909 L51.6634 104.909 L51.6634 100.973 Z\" fill=\"#000000\" fill-rule=\"evenodd\" fill-opacity=\"1\" /><path clip-path=\"url(#clip210)\" d=\"M91.0151 73.4273 Q87.404 73.4273 85.5753 76.9921 Q83.7697 80.5338 83.7697 87.6634 Q83.7697 94.7698 85.5753 98.3346 Q87.404 101.876 91.0151 101.876 Q94.6493 101.876 96.4548 98.3346 Q98.2835 94.7698 98.2835 87.6634 Q98.2835 80.5338 96.4548 76.9921 Q94.6493 73.4273 91.0151 73.4273 M91.0151 69.7236 Q96.8252 69.7236 99.8808 74.3301 Q102.959 78.9134 102.959 87.6634 Q102.959 96.3902 99.8808 100.997 Q96.8252 105.58 91.0151 105.58 Q85.2049 105.58 82.1262 100.997 Q79.0707 96.3902 79.0707 87.6634 Q79.0707 78.9134 82.1262 74.3301 Q85.2049 69.7236 91.0151 69.7236 Z\" fill=\"#000000\" fill-rule=\"evenodd\" fill-opacity=\"1\" /><path clip-path=\"url(#clip210)\" d=\"M121.177 73.4273 Q117.566 73.4273 115.737 76.9921 Q113.932 80.5338 113.932 87.6634 Q113.932 94.7698 115.737 98.3346 Q117.566 101.876 121.177 101.876 Q124.811 101.876 126.617 98.3346 Q128.445 94.7698 128.445 87.6634 Q128.445 80.5338 126.617 76.9921 Q124.811 73.4273 121.177 73.4273 M121.177 69.7236 Q126.987 69.7236 130.043 74.3301 Q133.121 78.9134 133.121 87.6634 Q133.121 96.3902 130.043 100.997 Q126.987 105.58 121.177 105.58 Q115.367 105.58 112.288 100.997 Q109.233 96.3902 109.233 87.6634 Q109.233 78.9134 112.288 74.3301 Q115.367 69.7236 121.177 69.7236 Z\" fill=\"#000000\" fill-rule=\"evenodd\" fill-opacity=\"1\" /><path clip-path=\"url(#clip210)\" d=\"M151.339 73.4273 Q147.728 73.4273 145.899 76.9921 Q144.093 80.5338 144.093 87.6634 Q144.093 94.7698 145.899 98.3346 Q147.728 101.876 151.339 101.876 Q154.973 101.876 156.779 98.3346 Q158.607 94.7698 158.607 87.6634 Q158.607 80.5338 156.779 76.9921 Q154.973 73.4273 151.339 73.4273 M151.339 69.7236 Q157.149 69.7236 160.205 74.3301 Q163.283 78.9134 163.283 87.6634 Q163.283 96.3902 160.205 100.997 Q157.149 105.58 151.339 105.58 Q145.529 105.58 142.45 100.997 Q139.394 96.3902 139.394 87.6634 Q139.394 78.9134 142.45 74.3301 Q145.529 69.7236 151.339 69.7236 Z\" fill=\"#000000\" fill-rule=\"evenodd\" fill-opacity=\"1\" /><polyline clip-path=\"url(#clip212)\" style=\"stroke:#009af9; stroke-linecap:round; stroke-linejoin:round; stroke-width:4; stroke-opacity:1; fill:none\" points=\"\n",
       "  260.231,1433.75 263.537,1433.77 266.844,1433.78 270.151,1433.78 273.457,1433.78 281.101,1433.74 288.745,1433.57 296.388,1432.93 304.032,1430.79 307.854,1428.46 \n",
       "  311.676,1424.64 315.498,1418.56 319.32,1409.23 321.231,1402.97 323.141,1395.43 325.052,1386.4 326.963,1375.7 328.874,1363.13 330.785,1348.49 332.696,1331.58 \n",
       "  334.607,1312.25 336.518,1290.31 338.429,1265.66 340.34,1238.19 342.251,1207.85 344.162,1174.63 346.073,1138.59 347.984,1099.83 349.895,1058.51 351.806,1014.85 \n",
       "  353.716,969.118 355.627,921.642 357.538,872.788 361.36,772.584 365.182,671.963 367.093,622.599 369.004,574.427 370.915,527.832 372.826,483.159 374.737,440.706 \n",
       "  376.648,400.718 378.559,363.382 380.47,328.831 382.38,297.137 384.291,268.321 386.202,242.351 388.113,219.153 390.024,198.613 391.935,180.587 393.846,164.906 \n",
       "  395.757,151.385 398.054,137.716 400.351,126.542 402.647,117.523 404.944,110.336 407.241,104.681 409.538,100.288 411.834,96.9185 414.131,94.3673 418.725,91.0519 \n",
       "  423.318,89.2876 427.912,88.3952 432.506,87.9663 450.88,87.6365 469.254,87.6287 500.324,87.6286 531.395,87.6286 598.897,87.6286 661.128,87.6286 727.847,87.6286 \n",
       "  805.147,87.6286 873.842,87.6286 934.081,87.6286 999.758,87.6286 1065.83,87.6286 1138.87,87.6286 1208.37,87.6286 1280.64,87.6286 1341.47,87.6286 1415.74,87.6286 \n",
       "  1483.77,87.6286 1546.61,87.6286 1610.26,87.6286 1681.59,87.6286 1746.23,87.6286 1820.24,87.6286 1888.77,87.6286 1956.33,87.6286 2021.92,87.6286 2089.16,87.6286 \n",
       "  2162.83,87.6286 2269.85,87.6286 2291.81,87.6286 \n",
       "  \"/>\n",
       "<path clip-path=\"url(#clip210)\" d=\"\n",
       "M2013.2 1426.6 L2280.97 1426.6 L2280.97 1322.92 L2013.2 1322.92  Z\n",
       "  \" fill=\"#ffffff\" fill-rule=\"evenodd\" fill-opacity=\"1\"/>\n",
       "<polyline clip-path=\"url(#clip210)\" style=\"stroke:#000000; stroke-linecap:round; stroke-linejoin:round; stroke-width:4; stroke-opacity:1; fill:none\" points=\"\n",
       "  2013.2,1426.6 2280.97,1426.6 2280.97,1322.92 2013.2,1322.92 2013.2,1426.6 \n",
       "  \"/>\n",
       "<polyline clip-path=\"url(#clip210)\" style=\"stroke:#009af9; stroke-linecap:round; stroke-linejoin:round; stroke-width:4; stroke-opacity:1; fill:none\" points=\"\n",
       "  2037.12,1374.76 2180.69,1374.76 \n",
       "  \"/>\n",
       "<path clip-path=\"url(#clip210)\" d=\"M2218.46 1394.45 Q2216.65 1399.08 2214.94 1400.49 Q2213.23 1401.9 2210.36 1401.9 L2206.95 1401.9 L2206.95 1398.34 L2209.45 1398.34 Q2211.21 1398.34 2212.19 1397.5 Q2213.16 1396.67 2214.34 1393.57 L2215.1 1391.62 L2204.62 1366.11 L2209.13 1366.11 L2217.23 1386.39 L2225.33 1366.11 L2229.85 1366.11 L2218.46 1394.45 Z\" fill=\"#000000\" fill-rule=\"evenodd\" fill-opacity=\"1\" /><path clip-path=\"url(#clip210)\" d=\"M2237.14 1388.11 L2244.78 1388.11 L2244.78 1361.74 L2236.47 1363.41 L2236.47 1359.15 L2244.73 1357.48 L2249.41 1357.48 L2249.41 1388.11 L2257.05 1388.11 L2257.05 1392.04 L2237.14 1392.04 L2237.14 1388.11 Z\" fill=\"#000000\" fill-rule=\"evenodd\" fill-opacity=\"1\" /></svg>\n"
      ]
     },
     "execution_count": 9,
     "metadata": {},
     "output_type": "execute_result"
    }
   ],
   "source": [
    "hS_pf = uMax/100\n",
    "F_ϕ(x) = (phiMin - phiMaxApp) * interval(x,-4*hS_pf+uMin,uTran2_EP)\n",
    "wₕ(x,x₁) = (1/(sqrt(2*pi)*hS_pf))*exp(-(x-x₁)^2/(2*hS_pf^2))\n",
    "smoothϕ = SymPy.integrate(F_ϕ(x₁)*wₕ(x,x₁),(x₁,-4*hS_pf,uMax)) +  phiMaxApp\n",
    "plot(smoothϕ,0,uMax)"
   ]
  },
  {
   "cell_type": "code",
   "execution_count": 10,
   "id": "89edaa77",
   "metadata": {},
   "outputs": [
    {
     "data": {
      "image/svg+xml": [
       "<?xml version=\"1.0\" encoding=\"utf-8\"?>\n",
       "<svg xmlns=\"http://www.w3.org/2000/svg\" xmlns:xlink=\"http://www.w3.org/1999/xlink\" width=\"600\" height=\"400\" viewBox=\"0 0 2400 1600\">\n",
       "<defs>\n",
       "  <clipPath id=\"clip250\">\n",
       "    <rect x=\"0\" y=\"0\" width=\"2400\" height=\"1600\"/>\n",
       "  </clipPath>\n",
       "</defs>\n",
       "<path clip-path=\"url(#clip250)\" d=\"\n",
       "M0 1600 L2400 1600 L2400 0 L0 0  Z\n",
       "  \" fill=\"#ffffff\" fill-rule=\"evenodd\" fill-opacity=\"1\"/>\n",
       "<defs>\n",
       "  <clipPath id=\"clip251\">\n",
       "    <rect x=\"480\" y=\"0\" width=\"1681\" height=\"1600\"/>\n",
       "  </clipPath>\n",
       "</defs>\n",
       "<path clip-path=\"url(#clip250)\" d=\"\n",
       "M170.857 1474.16 L2352.76 1474.16 L2352.76 47.2441 L170.857 47.2441  Z\n",
       "  \" fill=\"#ffffff\" fill-rule=\"evenodd\" fill-opacity=\"1\"/>\n",
       "<defs>\n",
       "  <clipPath id=\"clip252\">\n",
       "    <rect x=\"170\" y=\"47\" width=\"2183\" height=\"1428\"/>\n",
       "  </clipPath>\n",
       "</defs>\n",
       "<polyline clip-path=\"url(#clip252)\" style=\"stroke:#000000; stroke-linecap:round; stroke-linejoin:round; stroke-width:2; stroke-opacity:0.1; fill:none\" points=\"\n",
       "  232.609,1474.16 232.609,47.2441 \n",
       "  \"/>\n",
       "<polyline clip-path=\"url(#clip252)\" style=\"stroke:#000000; stroke-linecap:round; stroke-linejoin:round; stroke-width:2; stroke-opacity:0.1; fill:none\" points=\"\n",
       "  820.722,1474.16 820.722,47.2441 \n",
       "  \"/>\n",
       "<polyline clip-path=\"url(#clip252)\" style=\"stroke:#000000; stroke-linecap:round; stroke-linejoin:round; stroke-width:2; stroke-opacity:0.1; fill:none\" points=\"\n",
       "  1408.83,1474.16 1408.83,47.2441 \n",
       "  \"/>\n",
       "<polyline clip-path=\"url(#clip252)\" style=\"stroke:#000000; stroke-linecap:round; stroke-linejoin:round; stroke-width:2; stroke-opacity:0.1; fill:none\" points=\"\n",
       "  1996.95,1474.16 1996.95,47.2441 \n",
       "  \"/>\n",
       "<polyline clip-path=\"url(#clip250)\" style=\"stroke:#000000; stroke-linecap:round; stroke-linejoin:round; stroke-width:4; stroke-opacity:1; fill:none\" points=\"\n",
       "  170.857,1474.16 2352.76,1474.16 \n",
       "  \"/>\n",
       "<polyline clip-path=\"url(#clip250)\" style=\"stroke:#000000; stroke-linecap:round; stroke-linejoin:round; stroke-width:4; stroke-opacity:1; fill:none\" points=\"\n",
       "  232.609,1474.16 232.609,1455.27 \n",
       "  \"/>\n",
       "<polyline clip-path=\"url(#clip250)\" style=\"stroke:#000000; stroke-linecap:round; stroke-linejoin:round; stroke-width:4; stroke-opacity:1; fill:none\" points=\"\n",
       "  820.722,1474.16 820.722,1455.27 \n",
       "  \"/>\n",
       "<polyline clip-path=\"url(#clip250)\" style=\"stroke:#000000; stroke-linecap:round; stroke-linejoin:round; stroke-width:4; stroke-opacity:1; fill:none\" points=\"\n",
       "  1408.83,1474.16 1408.83,1455.27 \n",
       "  \"/>\n",
       "<polyline clip-path=\"url(#clip250)\" style=\"stroke:#000000; stroke-linecap:round; stroke-linejoin:round; stroke-width:4; stroke-opacity:1; fill:none\" points=\"\n",
       "  1996.95,1474.16 1996.95,1455.27 \n",
       "  \"/>\n",
       "<path clip-path=\"url(#clip250)\" d=\"M232.609 1505.08 Q228.998 1505.08 227.169 1508.65 Q225.364 1512.19 225.364 1519.32 Q225.364 1526.43 227.169 1529.99 Q228.998 1533.53 232.609 1533.53 Q236.244 1533.53 238.049 1529.99 Q239.878 1526.43 239.878 1519.32 Q239.878 1512.19 238.049 1508.65 Q236.244 1505.08 232.609 1505.08 M232.609 1501.38 Q238.419 1501.38 241.475 1505.99 Q244.554 1510.57 244.554 1519.32 Q244.554 1528.05 241.475 1532.65 Q238.419 1537.24 232.609 1537.24 Q226.799 1537.24 223.72 1532.65 Q220.665 1528.05 220.665 1519.32 Q220.665 1510.57 223.72 1505.99 Q226.799 1501.38 232.609 1501.38 Z\" fill=\"#000000\" fill-rule=\"evenodd\" fill-opacity=\"1\" /><path clip-path=\"url(#clip250)\" d=\"M712.716 1548.29 L720.354 1548.29 L720.354 1521.92 L712.044 1523.59 L712.044 1519.33 L720.308 1517.66 L724.984 1517.66 L724.984 1548.29 L732.623 1548.29 L732.623 1552.22 L712.716 1552.22 L712.716 1548.29 Z\" fill=\"#000000\" fill-rule=\"evenodd\" fill-opacity=\"1\" /><path clip-path=\"url(#clip250)\" d=\"M742.067 1546.35 L746.951 1546.35 L746.951 1552.22 L742.067 1552.22 L742.067 1546.35 Z\" fill=\"#000000\" fill-rule=\"evenodd\" fill-opacity=\"1\" /><path clip-path=\"url(#clip250)\" d=\"M767.137 1520.74 Q763.525 1520.74 761.697 1524.31 Q759.891 1527.85 759.891 1534.98 Q759.891 1542.09 761.697 1545.65 Q763.525 1549.19 767.137 1549.19 Q770.771 1549.19 772.576 1545.65 Q774.405 1542.09 774.405 1534.98 Q774.405 1527.85 772.576 1524.31 Q770.771 1520.74 767.137 1520.74 M767.137 1517.04 Q772.947 1517.04 776.002 1521.65 Q779.081 1526.23 779.081 1534.98 Q779.081 1543.71 776.002 1548.31 Q772.947 1552.9 767.137 1552.9 Q761.326 1552.9 758.248 1548.31 Q755.192 1543.71 755.192 1534.98 Q755.192 1526.23 758.248 1521.65 Q761.326 1517.04 767.137 1517.04 Z\" fill=\"#000000\" fill-rule=\"evenodd\" fill-opacity=\"1\" /><path clip-path=\"url(#clip250)\" d=\"M815.47 1526.76 L804.891 1537.39 L815.47 1547.97 L812.715 1550.77 L802.09 1540.14 L791.465 1550.77 L788.734 1547.97 L799.289 1537.39 L788.734 1526.76 L791.465 1523.96 L802.09 1534.59 L812.715 1523.96 L815.47 1526.76 Z\" fill=\"#000000\" fill-rule=\"evenodd\" fill-opacity=\"1\" /><path clip-path=\"url(#clip250)\" d=\"M827.831 1548.29 L835.47 1548.29 L835.47 1521.92 L827.159 1523.59 L827.159 1519.33 L835.423 1517.66 L840.099 1517.66 L840.099 1548.29 L847.738 1548.29 L847.738 1552.22 L827.831 1552.22 L827.831 1548.29 Z\" fill=\"#000000\" fill-rule=\"evenodd\" fill-opacity=\"1\" /><path clip-path=\"url(#clip250)\" d=\"M867.182 1520.74 Q863.571 1520.74 861.743 1524.31 Q859.937 1527.85 859.937 1534.98 Q859.937 1542.09 861.743 1545.65 Q863.571 1549.19 867.182 1549.19 Q870.817 1549.19 872.622 1545.65 Q874.451 1542.09 874.451 1534.98 Q874.451 1527.85 872.622 1524.31 Q870.817 1520.74 867.182 1520.74 M867.182 1517.04 Q872.992 1517.04 876.048 1521.65 Q879.127 1526.23 879.127 1534.98 Q879.127 1543.71 876.048 1548.31 Q872.992 1552.9 867.182 1552.9 Q861.372 1552.9 858.293 1548.31 Q855.238 1543.71 855.238 1534.98 Q855.238 1526.23 858.293 1521.65 Q861.372 1517.04 867.182 1517.04 Z\" fill=\"#000000\" fill-rule=\"evenodd\" fill-opacity=\"1\" /><path clip-path=\"url(#clip250)\" d=\"M879.127 1511.14 L903.238 1511.14 L903.238 1514.34 L879.127 1514.34 L879.127 1511.14 Z\" fill=\"#000000\" fill-rule=\"evenodd\" fill-opacity=\"1\" /><path clip-path=\"url(#clip250)\" d=\"M920.034 1509.26 Q917.476 1509.26 915.971 1511.01 Q914.485 1512.76 914.485 1515.81 Q914.485 1518.83 915.971 1520.6 Q917.476 1522.35 920.034 1522.35 Q922.591 1522.35 924.077 1520.6 Q925.582 1518.83 925.582 1515.81 Q925.582 1512.76 924.077 1511.01 Q922.591 1509.26 920.034 1509.26 M927.576 1497.35 L927.576 1500.82 Q926.146 1500.14 924.679 1499.78 Q923.231 1499.42 921.802 1499.42 Q918.04 1499.42 916.046 1501.96 Q914.072 1504.5 913.789 1509.64 Q914.899 1508 916.573 1507.13 Q918.247 1506.25 920.259 1506.25 Q924.491 1506.25 926.936 1508.83 Q929.4 1511.39 929.4 1515.81 Q929.4 1520.13 926.842 1522.75 Q924.284 1525.36 920.034 1525.36 Q915.162 1525.36 912.586 1521.64 Q910.009 1517.89 910.009 1510.8 Q910.009 1504.14 913.169 1500.19 Q916.328 1496.23 921.651 1496.23 Q923.08 1496.23 924.529 1496.51 Q925.996 1496.79 927.576 1497.35 Z\" fill=\"#000000\" fill-rule=\"evenodd\" fill-opacity=\"1\" /><path clip-path=\"url(#clip250)\" d=\"M1304.91 1548.29 L1321.23 1548.29 L1321.23 1552.22 L1299.29 1552.22 L1299.29 1548.29 Q1301.95 1545.53 1306.53 1540.91 Q1311.14 1536.25 1312.32 1534.91 Q1314.57 1532.39 1315.45 1530.65 Q1316.35 1528.89 1316.35 1527.2 Q1316.35 1524.45 1314.4 1522.71 Q1312.48 1520.97 1309.38 1520.97 Q1307.18 1520.97 1304.73 1521.74 Q1302.3 1522.5 1299.52 1524.05 L1299.52 1519.33 Q1302.34 1518.2 1304.8 1517.62 Q1307.25 1517.04 1309.29 1517.04 Q1314.66 1517.04 1317.85 1519.72 Q1321.05 1522.41 1321.05 1526.9 Q1321.05 1529.03 1320.24 1530.95 Q1319.45 1532.85 1317.34 1535.44 Q1316.77 1536.11 1313.66 1539.33 Q1310.56 1542.53 1304.91 1548.29 Z\" fill=\"#000000\" fill-rule=\"evenodd\" fill-opacity=\"1\" /><path clip-path=\"url(#clip250)\" d=\"M1331.05 1546.35 L1335.93 1546.35 L1335.93 1552.22 L1331.05 1552.22 L1331.05 1546.35 Z\" fill=\"#000000\" fill-rule=\"evenodd\" fill-opacity=\"1\" /><path clip-path=\"url(#clip250)\" d=\"M1356.12 1520.74 Q1352.51 1520.74 1350.68 1524.31 Q1348.87 1527.85 1348.87 1534.98 Q1348.87 1542.09 1350.68 1545.65 Q1352.51 1549.19 1356.12 1549.19 Q1359.75 1549.19 1361.56 1545.65 Q1363.39 1542.09 1363.39 1534.98 Q1363.39 1527.85 1361.56 1524.31 Q1359.75 1520.74 1356.12 1520.74 M1356.12 1517.04 Q1361.93 1517.04 1364.98 1521.65 Q1368.06 1526.23 1368.06 1534.98 Q1368.06 1543.71 1364.98 1548.31 Q1361.93 1552.9 1356.12 1552.9 Q1350.31 1552.9 1347.23 1548.31 Q1344.17 1543.71 1344.17 1534.98 Q1344.17 1526.23 1347.23 1521.65 Q1350.31 1517.04 1356.12 1517.04 Z\" fill=\"#000000\" fill-rule=\"evenodd\" fill-opacity=\"1\" /><path clip-path=\"url(#clip250)\" d=\"M1404.45 1526.76 L1393.87 1537.39 L1404.45 1547.97 L1401.7 1550.77 L1391.07 1540.14 L1380.45 1550.77 L1377.71 1547.97 L1388.27 1537.39 L1377.71 1526.76 L1380.45 1523.96 L1391.07 1534.59 L1401.7 1523.96 L1404.45 1526.76 Z\" fill=\"#000000\" fill-rule=\"evenodd\" fill-opacity=\"1\" /><path clip-path=\"url(#clip250)\" d=\"M1416.81 1548.29 L1424.45 1548.29 L1424.45 1521.92 L1416.14 1523.59 L1416.14 1519.33 L1424.4 1517.66 L1429.08 1517.66 L1429.08 1548.29 L1436.72 1548.29 L1436.72 1552.22 L1416.81 1552.22 L1416.81 1548.29 Z\" fill=\"#000000\" fill-rule=\"evenodd\" fill-opacity=\"1\" /><path clip-path=\"url(#clip250)\" d=\"M1456.16 1520.74 Q1452.55 1520.74 1450.72 1524.31 Q1448.92 1527.85 1448.92 1534.98 Q1448.92 1542.09 1450.72 1545.65 Q1452.55 1549.19 1456.16 1549.19 Q1459.8 1549.19 1461.6 1545.65 Q1463.43 1542.09 1463.43 1534.98 Q1463.43 1527.85 1461.6 1524.31 Q1459.8 1520.74 1456.16 1520.74 M1456.16 1517.04 Q1461.97 1517.04 1465.03 1521.65 Q1468.11 1526.23 1468.11 1534.98 Q1468.11 1543.71 1465.03 1548.31 Q1461.97 1552.9 1456.16 1552.9 Q1450.35 1552.9 1447.27 1548.31 Q1444.22 1543.71 1444.22 1534.98 Q1444.22 1526.23 1447.27 1521.65 Q1450.35 1517.04 1456.16 1517.04 Z\" fill=\"#000000\" fill-rule=\"evenodd\" fill-opacity=\"1\" /><path clip-path=\"url(#clip250)\" d=\"M1468.11 1511.14 L1492.22 1511.14 L1492.22 1514.34 L1468.11 1514.34 L1468.11 1511.14 Z\" fill=\"#000000\" fill-rule=\"evenodd\" fill-opacity=\"1\" /><path clip-path=\"url(#clip250)\" d=\"M1509.01 1509.26 Q1506.46 1509.26 1504.95 1511.01 Q1503.47 1512.76 1503.47 1515.81 Q1503.47 1518.83 1504.95 1520.6 Q1506.46 1522.35 1509.01 1522.35 Q1511.57 1522.35 1513.06 1520.6 Q1514.56 1518.83 1514.56 1515.81 Q1514.56 1512.76 1513.06 1511.01 Q1511.57 1509.26 1509.01 1509.26 M1516.56 1497.35 L1516.56 1500.82 Q1515.13 1500.14 1513.66 1499.78 Q1512.21 1499.42 1510.78 1499.42 Q1507.02 1499.42 1505.03 1501.96 Q1503.05 1504.5 1502.77 1509.64 Q1503.88 1508 1505.55 1507.13 Q1507.23 1506.25 1509.24 1506.25 Q1513.47 1506.25 1515.92 1508.83 Q1518.38 1511.39 1518.38 1515.81 Q1518.38 1520.13 1515.82 1522.75 Q1513.27 1525.36 1509.01 1525.36 Q1504.14 1525.36 1501.57 1521.64 Q1498.99 1517.89 1498.99 1510.8 Q1498.99 1504.14 1502.15 1500.19 Q1505.31 1496.23 1510.63 1496.23 Q1512.06 1496.23 1513.51 1496.51 Q1514.98 1496.79 1516.56 1497.35 Z\" fill=\"#000000\" fill-rule=\"evenodd\" fill-opacity=\"1\" /><path clip-path=\"url(#clip250)\" d=\"M1903.1 1533.59 Q1906.45 1534.31 1908.33 1536.58 Q1910.23 1538.85 1910.23 1542.18 Q1910.23 1547.29 1906.71 1550.1 Q1903.19 1552.9 1896.71 1552.9 Q1894.53 1552.9 1892.22 1552.46 Q1889.92 1552.04 1887.47 1551.18 L1887.47 1546.67 Q1889.42 1547.8 1891.73 1548.38 Q1894.05 1548.96 1896.57 1548.96 Q1900.97 1548.96 1903.26 1547.22 Q1905.57 1545.49 1905.57 1542.18 Q1905.57 1539.12 1903.42 1537.41 Q1901.29 1535.67 1897.47 1535.67 L1893.44 1535.67 L1893.44 1531.83 L1897.66 1531.83 Q1901.11 1531.83 1902.93 1530.47 Q1904.76 1529.08 1904.76 1526.48 Q1904.76 1523.82 1902.86 1522.41 Q1900.99 1520.97 1897.47 1520.97 Q1895.55 1520.97 1893.35 1521.39 Q1891.15 1521.81 1888.51 1522.69 L1888.51 1518.52 Q1891.17 1517.78 1893.49 1517.41 Q1895.83 1517.04 1897.89 1517.04 Q1903.21 1517.04 1906.31 1519.47 Q1909.42 1521.88 1909.42 1526 Q1909.42 1528.87 1907.77 1530.86 Q1906.13 1532.83 1903.1 1533.59 Z\" fill=\"#000000\" fill-rule=\"evenodd\" fill-opacity=\"1\" /><path clip-path=\"url(#clip250)\" d=\"M1919.09 1546.35 L1923.98 1546.35 L1923.98 1552.22 L1919.09 1552.22 L1919.09 1546.35 Z\" fill=\"#000000\" fill-rule=\"evenodd\" fill-opacity=\"1\" /><path clip-path=\"url(#clip250)\" d=\"M1944.16 1520.74 Q1940.55 1520.74 1938.72 1524.31 Q1936.92 1527.85 1936.92 1534.98 Q1936.92 1542.09 1938.72 1545.65 Q1940.55 1549.19 1944.16 1549.19 Q1947.8 1549.19 1949.6 1545.65 Q1951.43 1542.09 1951.43 1534.98 Q1951.43 1527.85 1949.6 1524.31 Q1947.8 1520.74 1944.16 1520.74 M1944.16 1517.04 Q1949.97 1517.04 1953.03 1521.65 Q1956.11 1526.23 1956.11 1534.98 Q1956.11 1543.71 1953.03 1548.31 Q1949.97 1552.9 1944.16 1552.9 Q1938.35 1552.9 1935.27 1548.31 Q1932.22 1543.71 1932.22 1534.98 Q1932.22 1526.23 1935.27 1521.65 Q1938.35 1517.04 1944.16 1517.04 Z\" fill=\"#000000\" fill-rule=\"evenodd\" fill-opacity=\"1\" /><path clip-path=\"url(#clip250)\" d=\"M1992.49 1526.76 L1981.92 1537.39 L1992.49 1547.97 L1989.74 1550.77 L1979.11 1540.14 L1968.49 1550.77 L1965.76 1547.97 L1976.31 1537.39 L1965.76 1526.76 L1968.49 1523.96 L1979.11 1534.59 L1989.74 1523.96 L1992.49 1526.76 Z\" fill=\"#000000\" fill-rule=\"evenodd\" fill-opacity=\"1\" /><path clip-path=\"url(#clip250)\" d=\"M2004.85 1548.29 L2012.49 1548.29 L2012.49 1521.92 L2004.18 1523.59 L2004.18 1519.33 L2012.45 1517.66 L2017.12 1517.66 L2017.12 1548.29 L2024.76 1548.29 L2024.76 1552.22 L2004.85 1552.22 L2004.85 1548.29 Z\" fill=\"#000000\" fill-rule=\"evenodd\" fill-opacity=\"1\" /><path clip-path=\"url(#clip250)\" d=\"M2044.21 1520.74 Q2040.6 1520.74 2038.77 1524.31 Q2036.96 1527.85 2036.96 1534.98 Q2036.96 1542.09 2038.77 1545.65 Q2040.6 1549.19 2044.21 1549.19 Q2047.84 1549.19 2049.65 1545.65 Q2051.48 1542.09 2051.48 1534.98 Q2051.48 1527.85 2049.65 1524.31 Q2047.84 1520.74 2044.21 1520.74 M2044.21 1517.04 Q2050.02 1517.04 2053.07 1521.65 Q2056.15 1526.23 2056.15 1534.98 Q2056.15 1543.71 2053.07 1548.31 Q2050.02 1552.9 2044.21 1552.9 Q2038.4 1552.9 2035.32 1548.31 Q2032.26 1543.71 2032.26 1534.98 Q2032.26 1526.23 2035.32 1521.65 Q2038.4 1517.04 2044.21 1517.04 Z\" fill=\"#000000\" fill-rule=\"evenodd\" fill-opacity=\"1\" /><path clip-path=\"url(#clip250)\" d=\"M2056.15 1511.14 L2080.26 1511.14 L2080.26 1514.34 L2056.15 1514.34 L2056.15 1511.14 Z\" fill=\"#000000\" fill-rule=\"evenodd\" fill-opacity=\"1\" /><path clip-path=\"url(#clip250)\" d=\"M2097.06 1509.26 Q2094.5 1509.26 2093 1511.01 Q2091.51 1512.76 2091.51 1515.81 Q2091.51 1518.83 2093 1520.6 Q2094.5 1522.35 2097.06 1522.35 Q2099.62 1522.35 2101.1 1520.6 Q2102.61 1518.83 2102.61 1515.81 Q2102.61 1512.76 2101.1 1511.01 Q2099.62 1509.26 2097.06 1509.26 M2104.6 1497.35 L2104.6 1500.82 Q2103.17 1500.14 2101.7 1499.78 Q2100.26 1499.42 2098.83 1499.42 Q2095.06 1499.42 2093.07 1501.96 Q2091.1 1504.5 2090.81 1509.64 Q2091.92 1508 2093.6 1507.13 Q2095.27 1506.25 2097.28 1506.25 Q2101.52 1506.25 2103.96 1508.83 Q2106.42 1511.39 2106.42 1515.81 Q2106.42 1520.13 2103.87 1522.75 Q2101.31 1525.36 2097.06 1525.36 Q2092.19 1525.36 2089.61 1521.64 Q2087.03 1517.89 2087.03 1510.8 Q2087.03 1504.14 2090.19 1500.19 Q2093.35 1496.23 2098.68 1496.23 Q2100.1 1496.23 2101.55 1496.51 Q2103.02 1496.79 2104.6 1497.35 Z\" fill=\"#000000\" fill-rule=\"evenodd\" fill-opacity=\"1\" /><polyline clip-path=\"url(#clip252)\" style=\"stroke:#000000; stroke-linecap:round; stroke-linejoin:round; stroke-width:2; stroke-opacity:0.1; fill:none\" points=\"\n",
       "  170.857,1433.78 2352.76,1433.78 \n",
       "  \"/>\n",
       "<polyline clip-path=\"url(#clip252)\" style=\"stroke:#000000; stroke-linecap:round; stroke-linejoin:round; stroke-width:2; stroke-opacity:0.1; fill:none\" points=\"\n",
       "  170.857,1164.55 2352.76,1164.55 \n",
       "  \"/>\n",
       "<polyline clip-path=\"url(#clip252)\" style=\"stroke:#000000; stroke-linecap:round; stroke-linejoin:round; stroke-width:2; stroke-opacity:0.1; fill:none\" points=\"\n",
       "  170.857,895.32 2352.76,895.32 \n",
       "  \"/>\n",
       "<polyline clip-path=\"url(#clip252)\" style=\"stroke:#000000; stroke-linecap:round; stroke-linejoin:round; stroke-width:2; stroke-opacity:0.1; fill:none\" points=\"\n",
       "  170.857,626.089 2352.76,626.089 \n",
       "  \"/>\n",
       "<polyline clip-path=\"url(#clip252)\" style=\"stroke:#000000; stroke-linecap:round; stroke-linejoin:round; stroke-width:2; stroke-opacity:0.1; fill:none\" points=\"\n",
       "  170.857,356.859 2352.76,356.859 \n",
       "  \"/>\n",
       "<polyline clip-path=\"url(#clip252)\" style=\"stroke:#000000; stroke-linecap:round; stroke-linejoin:round; stroke-width:2; stroke-opacity:0.1; fill:none\" points=\"\n",
       "  170.857,87.6286 2352.76,87.6286 \n",
       "  \"/>\n",
       "<polyline clip-path=\"url(#clip250)\" style=\"stroke:#000000; stroke-linecap:round; stroke-linejoin:round; stroke-width:4; stroke-opacity:1; fill:none\" points=\"\n",
       "  170.857,1474.16 170.857,47.2441 \n",
       "  \"/>\n",
       "<polyline clip-path=\"url(#clip250)\" style=\"stroke:#000000; stroke-linecap:round; stroke-linejoin:round; stroke-width:4; stroke-opacity:1; fill:none\" points=\"\n",
       "  170.857,1433.78 189.755,1433.78 \n",
       "  \"/>\n",
       "<polyline clip-path=\"url(#clip250)\" style=\"stroke:#000000; stroke-linecap:round; stroke-linejoin:round; stroke-width:4; stroke-opacity:1; fill:none\" points=\"\n",
       "  170.857,1164.55 189.755,1164.55 \n",
       "  \"/>\n",
       "<polyline clip-path=\"url(#clip250)\" style=\"stroke:#000000; stroke-linecap:round; stroke-linejoin:round; stroke-width:4; stroke-opacity:1; fill:none\" points=\"\n",
       "  170.857,895.32 189.755,895.32 \n",
       "  \"/>\n",
       "<polyline clip-path=\"url(#clip250)\" style=\"stroke:#000000; stroke-linecap:round; stroke-linejoin:round; stroke-width:4; stroke-opacity:1; fill:none\" points=\"\n",
       "  170.857,626.089 189.755,626.089 \n",
       "  \"/>\n",
       "<polyline clip-path=\"url(#clip250)\" style=\"stroke:#000000; stroke-linecap:round; stroke-linejoin:round; stroke-width:4; stroke-opacity:1; fill:none\" points=\"\n",
       "  170.857,356.859 189.755,356.859 \n",
       "  \"/>\n",
       "<polyline clip-path=\"url(#clip250)\" style=\"stroke:#000000; stroke-linecap:round; stroke-linejoin:round; stroke-width:4; stroke-opacity:1; fill:none\" points=\"\n",
       "  170.857,87.6286 189.755,87.6286 \n",
       "  \"/>\n",
       "<path clip-path=\"url(#clip250)\" d=\"M57.6125 1447.12 L73.9318 1447.12 L73.9318 1451.06 L51.9875 1451.06 L51.9875 1447.12 Q54.6495 1444.37 59.2328 1439.74 Q63.8393 1435.09 65.0198 1433.75 Q67.2652 1431.22 68.1448 1429.49 Q69.0476 1427.73 69.0476 1426.04 Q69.0476 1423.28 67.1032 1421.55 Q65.1819 1419.81 62.08 1419.81 Q59.881 1419.81 57.4273 1420.57 Q54.9967 1421.34 52.219 1422.89 L52.219 1418.17 Q55.043 1417.03 57.4967 1416.45 Q59.9504 1415.88 61.9874 1415.88 Q67.3578 1415.88 70.5522 1418.56 Q73.7466 1421.25 73.7466 1425.74 Q73.7466 1427.87 72.9365 1429.79 Q72.1494 1431.69 70.0429 1434.28 Q69.4642 1434.95 66.3624 1438.17 Q63.2606 1441.36 57.6125 1447.12 Z\" fill=\"#000000\" fill-rule=\"evenodd\" fill-opacity=\"1\" /><path clip-path=\"url(#clip250)\" d=\"M82.566 1416.5 L104.788 1416.5 L104.788 1418.49 L92.2419 1451.06 L87.3577 1451.06 L99.1632 1420.44 L82.566 1420.44 L82.566 1416.5 Z\" fill=\"#000000\" fill-rule=\"evenodd\" fill-opacity=\"1\" /><path clip-path=\"url(#clip250)\" d=\"M113.955 1416.5 L132.311 1416.5 L132.311 1420.44 L118.237 1420.44 L118.237 1428.91 Q119.256 1428.56 120.274 1428.4 Q121.293 1428.21 122.311 1428.21 Q128.098 1428.21 131.478 1431.38 Q134.857 1434.56 134.857 1439.97 Q134.857 1445.55 131.385 1448.65 Q127.913 1451.73 121.594 1451.73 Q119.418 1451.73 117.149 1451.36 Q114.904 1450.99 112.496 1450.25 L112.496 1445.55 Q114.58 1446.69 116.802 1447.24 Q119.024 1447.8 121.501 1447.8 Q125.506 1447.8 127.844 1445.69 Q130.182 1443.58 130.182 1439.97 Q130.182 1436.36 127.844 1434.25 Q125.506 1432.15 121.501 1432.15 Q119.626 1432.15 117.751 1432.56 Q115.899 1432.98 113.955 1433.86 L113.955 1416.5 Z\" fill=\"#000000\" fill-rule=\"evenodd\" fill-opacity=\"1\" /><path clip-path=\"url(#clip250)\" d=\"M56.6171 1177.89 L72.9365 1177.89 L72.9365 1181.83 L50.9921 1181.83 L50.9921 1177.89 Q53.6541 1175.14 58.2375 1170.51 Q62.8439 1165.86 64.0245 1164.52 Q66.2698 1161.99 67.1494 1160.26 Q68.0522 1158.5 68.0522 1156.81 Q68.0522 1154.05 66.1078 1152.32 Q64.1865 1150.58 61.0847 1150.58 Q58.8856 1150.58 56.4319 1151.34 Q54.0014 1152.11 51.2236 1153.66 L51.2236 1148.94 Q54.0477 1147.8 56.5014 1147.22 Q58.955 1146.64 60.9921 1146.64 Q66.3624 1146.64 69.5568 1149.33 Q72.7513 1152.02 72.7513 1156.51 Q72.7513 1158.64 71.9411 1160.56 Q71.1541 1162.45 69.0476 1165.05 Q68.4689 1165.72 65.367 1168.94 Q62.2652 1172.13 56.6171 1177.89 Z\" fill=\"#000000\" fill-rule=\"evenodd\" fill-opacity=\"1\" /><path clip-path=\"url(#clip250)\" d=\"M92.7512 1165.42 Q89.4178 1165.42 87.4966 1167.2 Q85.5984 1168.98 85.5984 1172.11 Q85.5984 1175.23 87.4966 1177.02 Q89.4178 1178.8 92.7512 1178.8 Q96.0845 1178.8 98.0058 1177.02 Q99.927 1175.21 99.927 1172.11 Q99.927 1168.98 98.0058 1167.2 Q96.1076 1165.42 92.7512 1165.42 M88.0753 1163.43 Q85.066 1162.69 83.3762 1160.63 Q81.7096 1158.57 81.7096 1155.6 Q81.7096 1151.46 84.6494 1149.05 Q87.6123 1146.64 92.7512 1146.64 Q97.9132 1146.64 100.853 1149.05 Q103.793 1151.46 103.793 1155.6 Q103.793 1158.57 102.103 1160.63 Q100.436 1162.69 97.4502 1163.43 Q100.83 1164.21 102.705 1166.51 Q104.603 1168.8 104.603 1172.11 Q104.603 1177.13 101.524 1179.82 Q98.4687 1182.5 92.7512 1182.5 Q87.0336 1182.5 83.9549 1179.82 Q80.8994 1177.13 80.8994 1172.11 Q80.8994 1168.8 82.7975 1166.51 Q84.6956 1164.21 88.0753 1163.43 M86.3623 1156.04 Q86.3623 1158.73 88.029 1160.23 Q89.7188 1161.74 92.7512 1161.74 Q95.7604 1161.74 97.4502 1160.23 Q99.1632 1158.73 99.1632 1156.04 Q99.1632 1153.36 97.4502 1151.85 Q95.7604 1150.35 92.7512 1150.35 Q89.7188 1150.35 88.029 1151.85 Q86.3623 1153.36 86.3623 1156.04 Z\" fill=\"#000000\" fill-rule=\"evenodd\" fill-opacity=\"1\" /><path clip-path=\"url(#clip250)\" d=\"M122.913 1150.35 Q119.302 1150.35 117.473 1153.91 Q115.668 1157.45 115.668 1164.58 Q115.668 1171.69 117.473 1175.26 Q119.302 1178.8 122.913 1178.8 Q126.547 1178.8 128.353 1175.26 Q130.182 1171.69 130.182 1164.58 Q130.182 1157.45 128.353 1153.91 Q126.547 1150.35 122.913 1150.35 M122.913 1146.64 Q128.723 1146.64 131.779 1151.25 Q134.857 1155.83 134.857 1164.58 Q134.857 1173.31 131.779 1177.92 Q128.723 1182.5 122.913 1182.5 Q117.103 1182.5 114.024 1177.92 Q110.969 1173.31 110.969 1164.58 Q110.969 1155.83 114.024 1151.25 Q117.103 1146.64 122.913 1146.64 Z\" fill=\"#000000\" fill-rule=\"evenodd\" fill-opacity=\"1\" /><path clip-path=\"url(#clip250)\" d=\"M57.6125 908.664 L73.9318 908.664 L73.9318 912.6 L51.9875 912.6 L51.9875 908.664 Q54.6495 905.91 59.2328 901.28 Q63.8393 896.627 65.0198 895.285 Q67.2652 892.762 68.1448 891.026 Q69.0476 889.266 69.0476 887.577 Q69.0476 884.822 67.1032 883.086 Q65.1819 881.35 62.08 881.35 Q59.881 881.35 57.4273 882.114 Q54.9967 882.877 52.219 884.428 L52.219 879.706 Q55.043 878.572 57.4967 877.993 Q59.9504 877.415 61.9874 877.415 Q67.3578 877.415 70.5522 880.1 Q73.7466 882.785 73.7466 887.276 Q73.7466 889.405 72.9365 891.326 Q72.1494 893.225 70.0429 895.817 Q69.4642 896.489 66.3624 899.706 Q63.2606 902.901 57.6125 908.664 Z\" fill=\"#000000\" fill-rule=\"evenodd\" fill-opacity=\"1\" /><path clip-path=\"url(#clip250)\" d=\"M93.7465 896.188 Q90.4132 896.188 88.4919 897.97 Q86.5938 899.752 86.5938 902.877 Q86.5938 906.002 88.4919 907.785 Q90.4132 909.567 93.7465 909.567 Q97.0798 909.567 99.0011 907.785 Q100.922 905.979 100.922 902.877 Q100.922 899.752 99.0011 897.97 Q97.103 896.188 93.7465 896.188 M89.0706 894.197 Q86.0614 893.456 84.3716 891.396 Q82.7049 889.336 82.7049 886.373 Q82.7049 882.229 85.6447 879.822 Q88.6077 877.415 93.7465 877.415 Q98.9085 877.415 101.848 879.822 Q104.788 882.229 104.788 886.373 Q104.788 889.336 103.098 891.396 Q101.432 893.456 98.4456 894.197 Q101.825 894.984 103.7 897.276 Q105.598 899.567 105.598 902.877 Q105.598 907.9 102.52 910.586 Q99.4641 913.271 93.7465 913.271 Q88.029 913.271 84.9503 910.586 Q81.8947 907.9 81.8947 902.877 Q81.8947 899.567 83.7929 897.276 Q85.691 894.984 89.0706 894.197 M87.3577 886.813 Q87.3577 889.498 89.0243 891.002 Q90.7141 892.507 93.7465 892.507 Q96.7558 892.507 98.4456 891.002 Q100.159 889.498 100.159 886.813 Q100.159 884.127 98.4456 882.623 Q96.7558 881.118 93.7465 881.118 Q90.7141 881.118 89.0243 882.623 Q87.3577 884.127 87.3577 886.813 Z\" fill=\"#000000\" fill-rule=\"evenodd\" fill-opacity=\"1\" /><path clip-path=\"url(#clip250)\" d=\"M113.955 878.04 L132.311 878.04 L132.311 881.975 L118.237 881.975 L118.237 890.447 Q119.256 890.1 120.274 889.938 Q121.293 889.752 122.311 889.752 Q128.098 889.752 131.478 892.924 Q134.857 896.095 134.857 901.512 Q134.857 907.09 131.385 910.192 Q127.913 913.271 121.594 913.271 Q119.418 913.271 117.149 912.9 Q114.904 912.53 112.496 911.789 L112.496 907.09 Q114.58 908.225 116.802 908.78 Q119.024 909.336 121.501 909.336 Q125.506 909.336 127.844 907.229 Q130.182 905.123 130.182 901.512 Q130.182 897.901 127.844 895.794 Q125.506 893.688 121.501 893.688 Q119.626 893.688 117.751 894.104 Q115.899 894.521 113.955 895.401 L113.955 878.04 Z\" fill=\"#000000\" fill-rule=\"evenodd\" fill-opacity=\"1\" /><path clip-path=\"url(#clip250)\" d=\"M56.6171 639.434 L72.9365 639.434 L72.9365 643.369 L50.9921 643.369 L50.9921 639.434 Q53.6541 636.679 58.2375 632.05 Q62.8439 627.397 64.0245 626.055 Q66.2698 623.531 67.1494 621.795 Q68.0522 620.036 68.0522 618.346 Q68.0522 615.592 66.1078 613.856 Q64.1865 612.119 61.0847 612.119 Q58.8856 612.119 56.4319 612.883 Q54.0014 613.647 51.2236 615.198 L51.2236 610.476 Q54.0477 609.342 56.5014 608.763 Q58.955 608.184 60.9921 608.184 Q66.3624 608.184 69.5568 610.869 Q72.7513 613.555 72.7513 618.045 Q72.7513 620.175 71.9411 622.096 Q71.1541 623.994 69.0476 626.587 Q68.4689 627.258 65.367 630.476 Q62.2652 633.67 56.6171 639.434 Z\" fill=\"#000000\" fill-rule=\"evenodd\" fill-opacity=\"1\" /><path clip-path=\"url(#clip250)\" d=\"M82.8901 642.652 L82.8901 638.392 Q84.6494 639.226 86.4549 639.666 Q88.2604 640.105 89.9965 640.105 Q94.6262 640.105 97.0567 637.004 Q99.5104 633.879 99.8576 627.536 Q98.515 629.527 96.4548 630.592 Q94.3947 631.656 91.8947 631.656 Q86.7095 631.656 83.6771 628.531 Q80.6679 625.383 80.6679 619.943 Q80.6679 614.619 83.816 611.402 Q86.9642 608.184 92.1956 608.184 Q98.1909 608.184 101.339 612.791 Q104.51 617.374 104.51 626.124 Q104.51 634.295 100.621 639.179 Q96.7558 644.041 90.2049 644.041 Q88.4456 644.041 86.6401 643.693 Q84.8345 643.346 82.8901 642.652 M92.1956 627.999 Q95.3437 627.999 97.1724 625.846 Q99.0243 623.693 99.0243 619.943 Q99.0243 616.217 97.1724 614.064 Q95.3437 611.888 92.1956 611.888 Q89.0475 611.888 87.1956 614.064 Q85.3669 616.217 85.3669 619.943 Q85.3669 623.693 87.1956 625.846 Q89.0475 627.999 92.1956 627.999 Z\" fill=\"#000000\" fill-rule=\"evenodd\" fill-opacity=\"1\" /><path clip-path=\"url(#clip250)\" d=\"M122.913 611.888 Q119.302 611.888 117.473 615.453 Q115.668 618.994 115.668 626.124 Q115.668 633.23 117.473 636.795 Q119.302 640.337 122.913 640.337 Q126.547 640.337 128.353 636.795 Q130.182 633.23 130.182 626.124 Q130.182 618.994 128.353 615.453 Q126.547 611.888 122.913 611.888 M122.913 608.184 Q128.723 608.184 131.779 612.791 Q134.857 617.374 134.857 626.124 Q134.857 634.851 131.779 639.457 Q128.723 644.041 122.913 644.041 Q117.103 644.041 114.024 639.457 Q110.969 634.851 110.969 626.124 Q110.969 617.374 114.024 612.791 Q117.103 608.184 122.913 608.184 Z\" fill=\"#000000\" fill-rule=\"evenodd\" fill-opacity=\"1\" /><path clip-path=\"url(#clip250)\" d=\"M57.6125 370.204 L73.9318 370.204 L73.9318 374.139 L51.9875 374.139 L51.9875 370.204 Q54.6495 367.449 59.2328 362.82 Q63.8393 358.167 65.0198 356.824 Q67.2652 354.301 68.1448 352.565 Q69.0476 350.806 69.0476 349.116 Q69.0476 346.361 67.1032 344.625 Q65.1819 342.889 62.08 342.889 Q59.881 342.889 57.4273 343.653 Q54.9967 344.417 52.219 345.968 L52.219 341.246 Q55.043 340.111 57.4967 339.533 Q59.9504 338.954 61.9874 338.954 Q67.3578 338.954 70.5522 341.639 Q73.7466 344.324 73.7466 348.815 Q73.7466 350.945 72.9365 352.866 Q72.1494 354.764 70.0429 357.357 Q69.4642 358.028 66.3624 361.245 Q63.2606 364.44 57.6125 370.204 Z\" fill=\"#000000\" fill-rule=\"evenodd\" fill-opacity=\"1\" /><path clip-path=\"url(#clip250)\" d=\"M83.8855 373.421 L83.8855 369.162 Q85.6447 369.995 87.4503 370.435 Q89.2558 370.875 90.9919 370.875 Q95.6215 370.875 98.0521 367.773 Q100.506 364.648 100.853 358.306 Q99.5104 360.296 97.4502 361.361 Q95.39 362.426 92.89 362.426 Q87.7049 362.426 84.6725 359.301 Q81.6633 356.153 81.6633 350.713 Q81.6633 345.389 84.8114 342.172 Q87.9595 338.954 93.191 338.954 Q99.1863 338.954 102.334 343.56 Q105.506 348.144 105.506 356.894 Q105.506 365.065 101.617 369.949 Q97.7511 374.81 91.2002 374.81 Q89.441 374.81 87.6354 374.463 Q85.8299 374.116 83.8855 373.421 M93.191 358.769 Q96.3391 358.769 98.1678 356.616 Q100.02 354.463 100.02 350.713 Q100.02 346.986 98.1678 344.834 Q96.3391 342.658 93.191 342.658 Q90.0428 342.658 88.191 344.834 Q86.3623 346.986 86.3623 350.713 Q86.3623 354.463 88.191 356.616 Q90.0428 358.769 93.191 358.769 Z\" fill=\"#000000\" fill-rule=\"evenodd\" fill-opacity=\"1\" /><path clip-path=\"url(#clip250)\" d=\"M113.955 339.579 L132.311 339.579 L132.311 343.514 L118.237 343.514 L118.237 351.986 Q119.256 351.639 120.274 351.477 Q121.293 351.292 122.311 351.292 Q128.098 351.292 131.478 354.463 Q134.857 357.634 134.857 363.051 Q134.857 368.63 131.385 371.732 Q127.913 374.81 121.594 374.81 Q119.418 374.81 117.149 374.44 Q114.904 374.069 112.496 373.329 L112.496 368.63 Q114.58 369.764 116.802 370.32 Q119.024 370.875 121.501 370.875 Q125.506 370.875 127.844 368.769 Q130.182 366.662 130.182 363.051 Q130.182 359.44 127.844 357.333 Q125.506 355.227 121.501 355.227 Q119.626 355.227 117.751 355.644 Q115.899 356.06 113.955 356.94 L113.955 339.579 Z\" fill=\"#000000\" fill-rule=\"evenodd\" fill-opacity=\"1\" /><path clip-path=\"url(#clip250)\" d=\"M66.7559 86.2745 Q70.1124 86.9921 71.9874 89.2606 Q73.8855 91.5291 73.8855 94.8624 Q73.8855 99.9781 70.367 102.779 Q66.8485 105.58 60.3671 105.58 Q58.1912 105.58 55.8764 105.14 Q53.5847 104.723 51.131 103.867 L51.131 99.3531 Q53.0754 100.487 55.3903 101.066 Q57.7051 101.645 60.2282 101.645 Q64.6263 101.645 66.918 99.9087 Q69.2328 98.1726 69.2328 94.8624 Q69.2328 91.8069 67.08 90.0939 Q64.9504 88.3578 61.131 88.3578 L57.1032 88.3578 L57.1032 84.5152 L61.3161 84.5152 Q64.7652 84.5152 66.5939 83.1495 Q68.4226 81.7606 68.4226 79.168 Q68.4226 76.506 66.5245 75.094 Q64.6495 73.6588 61.131 73.6588 Q59.2097 73.6588 57.0106 74.0755 Q54.8115 74.4921 52.1727 75.3718 L52.1727 71.2051 Q54.8347 70.4644 57.1495 70.094 Q59.4875 69.7236 61.5476 69.7236 Q66.8717 69.7236 69.9735 72.1542 Q73.0753 74.5616 73.0753 78.6819 Q73.0753 81.5523 71.4318 83.543 Q69.7883 85.5106 66.7559 86.2745 Z\" fill=\"#000000\" fill-rule=\"evenodd\" fill-opacity=\"1\" /><path clip-path=\"url(#clip250)\" d=\"M92.7512 73.4273 Q89.1401 73.4273 87.3114 76.9921 Q85.5058 80.5338 85.5058 87.6634 Q85.5058 94.7698 87.3114 98.3346 Q89.1401 101.876 92.7512 101.876 Q96.3854 101.876 98.1909 98.3346 Q100.02 94.7698 100.02 87.6634 Q100.02 80.5338 98.1909 76.9921 Q96.3854 73.4273 92.7512 73.4273 M92.7512 69.7236 Q98.5613 69.7236 101.617 74.3301 Q104.696 78.9134 104.696 87.6634 Q104.696 96.3902 101.617 100.997 Q98.5613 105.58 92.7512 105.58 Q86.941 105.58 83.8623 100.997 Q80.8068 96.3902 80.8068 87.6634 Q80.8068 78.9134 83.8623 74.3301 Q86.941 69.7236 92.7512 69.7236 Z\" fill=\"#000000\" fill-rule=\"evenodd\" fill-opacity=\"1\" /><path clip-path=\"url(#clip250)\" d=\"M122.913 73.4273 Q119.302 73.4273 117.473 76.9921 Q115.668 80.5338 115.668 87.6634 Q115.668 94.7698 117.473 98.3346 Q119.302 101.876 122.913 101.876 Q126.547 101.876 128.353 98.3346 Q130.182 94.7698 130.182 87.6634 Q130.182 80.5338 128.353 76.9921 Q126.547 73.4273 122.913 73.4273 M122.913 69.7236 Q128.723 69.7236 131.779 74.3301 Q134.857 78.9134 134.857 87.6634 Q134.857 96.3902 131.779 100.997 Q128.723 105.58 122.913 105.58 Q117.103 105.58 114.024 100.997 Q110.969 96.3902 110.969 87.6634 Q110.969 78.9134 114.024 74.3301 Q117.103 69.7236 122.913 69.7236 Z\" fill=\"#000000\" fill-rule=\"evenodd\" fill-opacity=\"1\" /><polyline clip-path=\"url(#clip252)\" style=\"stroke:#009af9; stroke-linecap:round; stroke-linejoin:round; stroke-width:4; stroke-opacity:1; fill:none\" points=\"\n",
       "  232.609,87.6286 246.011,131.45 369.925,536.637 444.392,780.138 507.353,986.015 541.55,1097.83 575.746,1209.65 591.51,1261.2 607.273,1312.74 615.154,1338.51 \n",
       "  623.036,1364.29 630.917,1390.06 638.799,1415.83 640.912,1422.74 643.024,1429.65 645.136,1433.78 647.249,1433.78 651.474,1433.78 655.699,1433.78 664.149,1433.78 \n",
       "  672.599,1433.78 689.498,1433.78 706.398,1433.78 745.558,1433.78 784.718,1433.78 854.32,1433.78 915.355,1433.78 981.899,1433.78 1048.84,1433.78 1122.85,1433.78 \n",
       "  1193.27,1433.78 1266.49,1433.78 1328.12,1433.78 1403.37,1433.78 1472.3,1433.78 1535.97,1433.78 1600.46,1433.78 1672.74,1433.78 1738.23,1433.78 1813.21,1433.78 \n",
       "  1882.64,1433.78 1951.09,1433.78 2017.55,1433.78 2085.68,1433.78 2160.33,1433.78 2268.76,1433.78 2291,1433.78 \n",
       "  \"/>\n",
       "<path clip-path=\"url(#clip250)\" d=\"\n",
       "M2009.41 198.488 L2280.03 198.488 L2280.03 94.8081 L2009.41 94.8081  Z\n",
       "  \" fill=\"#ffffff\" fill-rule=\"evenodd\" fill-opacity=\"1\"/>\n",
       "<polyline clip-path=\"url(#clip250)\" style=\"stroke:#000000; stroke-linecap:round; stroke-linejoin:round; stroke-width:4; stroke-opacity:1; fill:none\" points=\"\n",
       "  2009.41,198.488 2280.03,198.488 2280.03,94.8081 2009.41,94.8081 2009.41,198.488 \n",
       "  \"/>\n",
       "<polyline clip-path=\"url(#clip250)\" style=\"stroke:#009af9; stroke-linecap:round; stroke-linejoin:round; stroke-width:4; stroke-opacity:1; fill:none\" points=\"\n",
       "  2033.65,146.648 2179.11,146.648 \n",
       "  \"/>\n",
       "<path clip-path=\"url(#clip250)\" d=\"M2217.19 166.336 Q2215.39 170.965 2213.68 172.377 Q2211.96 173.789 2209.09 173.789 L2205.69 173.789 L2205.69 170.224 L2208.19 170.224 Q2209.95 170.224 2210.92 169.391 Q2211.89 168.558 2213.07 165.456 L2213.84 163.511 L2203.35 138.002 L2207.87 138.002 L2215.97 158.28 L2224.07 138.002 L2228.58 138.002 L2217.19 166.336 Z\" fill=\"#000000\" fill-rule=\"evenodd\" fill-opacity=\"1\" /><path clip-path=\"url(#clip250)\" d=\"M2235.88 159.993 L2243.51 159.993 L2243.51 133.627 L2235.2 135.294 L2235.2 131.035 L2243.47 129.368 L2248.14 129.368 L2248.14 159.993 L2255.78 159.993 L2255.78 163.928 L2235.88 163.928 L2235.88 159.993 Z\" fill=\"#000000\" fill-rule=\"evenodd\" fill-opacity=\"1\" /></svg>\n"
      ]
     },
     "execution_count": 10,
     "metadata": {},
     "output_type": "execute_result"
    }
   ],
   "source": [
    "function Tfun(u)  \n",
    "    if u <= uTran_Temp\n",
    "      return ((TAppMax - T0)/uTran_Temp)*u + T0\n",
    "    else\n",
    "     return  TAppMax\n",
    "    end\n",
    "end \n",
    "plot(Tfun,0,uMax)"
   ]
  },
  {
   "cell_type": "code",
   "execution_count": 11,
   "id": "988e7469",
   "metadata": {},
   "outputs": [
    {
     "data": {
      "image/svg+xml": [
       "<?xml version=\"1.0\" encoding=\"utf-8\"?>\n",
       "<svg xmlns=\"http://www.w3.org/2000/svg\" xmlns:xlink=\"http://www.w3.org/1999/xlink\" width=\"600\" height=\"400\" viewBox=\"0 0 2400 1600\">\n",
       "<defs>\n",
       "  <clipPath id=\"clip290\">\n",
       "    <rect x=\"0\" y=\"0\" width=\"2400\" height=\"1600\"/>\n",
       "  </clipPath>\n",
       "</defs>\n",
       "<path clip-path=\"url(#clip290)\" d=\"\n",
       "M0 1600 L2400 1600 L2400 0 L0 0  Z\n",
       "  \" fill=\"#ffffff\" fill-rule=\"evenodd\" fill-opacity=\"1\"/>\n",
       "<defs>\n",
       "  <clipPath id=\"clip291\">\n",
       "    <rect x=\"480\" y=\"0\" width=\"1681\" height=\"1600\"/>\n",
       "  </clipPath>\n",
       "</defs>\n",
       "<path clip-path=\"url(#clip290)\" d=\"\n",
       "M199.283 1474.16 L2352.76 1474.16 L2352.76 47.2441 L199.283 47.2441  Z\n",
       "  \" fill=\"#ffffff\" fill-rule=\"evenodd\" fill-opacity=\"1\"/>\n",
       "<defs>\n",
       "  <clipPath id=\"clip292\">\n",
       "    <rect x=\"199\" y=\"47\" width=\"2154\" height=\"1428\"/>\n",
       "  </clipPath>\n",
       "</defs>\n",
       "<polyline clip-path=\"url(#clip292)\" style=\"stroke:#000000; stroke-linecap:round; stroke-linejoin:round; stroke-width:2; stroke-opacity:0.1; fill:none\" points=\"\n",
       "  260.231,1474.16 260.231,47.2441 \n",
       "  \"/>\n",
       "<polyline clip-path=\"url(#clip292)\" style=\"stroke:#000000; stroke-linecap:round; stroke-linejoin:round; stroke-width:2; stroke-opacity:0.1; fill:none\" points=\"\n",
       "  840.681,1474.16 840.681,47.2441 \n",
       "  \"/>\n",
       "<polyline clip-path=\"url(#clip292)\" style=\"stroke:#000000; stroke-linecap:round; stroke-linejoin:round; stroke-width:2; stroke-opacity:0.1; fill:none\" points=\"\n",
       "  1421.13,1474.16 1421.13,47.2441 \n",
       "  \"/>\n",
       "<polyline clip-path=\"url(#clip292)\" style=\"stroke:#000000; stroke-linecap:round; stroke-linejoin:round; stroke-width:2; stroke-opacity:0.1; fill:none\" points=\"\n",
       "  2001.58,1474.16 2001.58,47.2441 \n",
       "  \"/>\n",
       "<polyline clip-path=\"url(#clip290)\" style=\"stroke:#000000; stroke-linecap:round; stroke-linejoin:round; stroke-width:4; stroke-opacity:1; fill:none\" points=\"\n",
       "  199.283,1474.16 2352.76,1474.16 \n",
       "  \"/>\n",
       "<polyline clip-path=\"url(#clip290)\" style=\"stroke:#000000; stroke-linecap:round; stroke-linejoin:round; stroke-width:4; stroke-opacity:1; fill:none\" points=\"\n",
       "  260.231,1474.16 260.231,1455.27 \n",
       "  \"/>\n",
       "<polyline clip-path=\"url(#clip290)\" style=\"stroke:#000000; stroke-linecap:round; stroke-linejoin:round; stroke-width:4; stroke-opacity:1; fill:none\" points=\"\n",
       "  840.681,1474.16 840.681,1455.27 \n",
       "  \"/>\n",
       "<polyline clip-path=\"url(#clip290)\" style=\"stroke:#000000; stroke-linecap:round; stroke-linejoin:round; stroke-width:4; stroke-opacity:1; fill:none\" points=\"\n",
       "  1421.13,1474.16 1421.13,1455.27 \n",
       "  \"/>\n",
       "<polyline clip-path=\"url(#clip290)\" style=\"stroke:#000000; stroke-linecap:round; stroke-linejoin:round; stroke-width:4; stroke-opacity:1; fill:none\" points=\"\n",
       "  2001.58,1474.16 2001.58,1455.27 \n",
       "  \"/>\n",
       "<path clip-path=\"url(#clip290)\" d=\"M260.231 1505.08 Q256.619 1505.08 254.791 1508.65 Q252.985 1512.19 252.985 1519.32 Q252.985 1526.43 254.791 1529.99 Q256.619 1533.53 260.231 1533.53 Q263.865 1533.53 265.67 1529.99 Q267.499 1526.43 267.499 1519.32 Q267.499 1512.19 265.67 1508.65 Q263.865 1505.08 260.231 1505.08 M260.231 1501.38 Q266.041 1501.38 269.096 1505.99 Q272.175 1510.57 272.175 1519.32 Q272.175 1528.05 269.096 1532.65 Q266.041 1537.24 260.231 1537.24 Q254.42 1537.24 251.342 1532.65 Q248.286 1528.05 248.286 1519.32 Q248.286 1510.57 251.342 1505.99 Q254.42 1501.38 260.231 1501.38 Z\" fill=\"#000000\" fill-rule=\"evenodd\" fill-opacity=\"1\" /><path clip-path=\"url(#clip290)\" d=\"M732.675 1548.29 L740.314 1548.29 L740.314 1521.92 L732.004 1523.59 L732.004 1519.33 L740.267 1517.66 L744.943 1517.66 L744.943 1548.29 L752.582 1548.29 L752.582 1552.22 L732.675 1552.22 L732.675 1548.29 Z\" fill=\"#000000\" fill-rule=\"evenodd\" fill-opacity=\"1\" /><path clip-path=\"url(#clip290)\" d=\"M762.027 1546.35 L766.911 1546.35 L766.911 1552.22 L762.027 1552.22 L762.027 1546.35 Z\" fill=\"#000000\" fill-rule=\"evenodd\" fill-opacity=\"1\" /><path clip-path=\"url(#clip290)\" d=\"M787.096 1520.74 Q783.485 1520.74 781.656 1524.31 Q779.851 1527.85 779.851 1534.98 Q779.851 1542.09 781.656 1545.65 Q783.485 1549.19 787.096 1549.19 Q790.73 1549.19 792.536 1545.65 Q794.364 1542.09 794.364 1534.98 Q794.364 1527.85 792.536 1524.31 Q790.73 1520.74 787.096 1520.74 M787.096 1517.04 Q792.906 1517.04 795.962 1521.65 Q799.04 1526.23 799.04 1534.98 Q799.04 1543.71 795.962 1548.31 Q792.906 1552.9 787.096 1552.9 Q781.286 1552.9 778.207 1548.31 Q775.152 1543.71 775.152 1534.98 Q775.152 1526.23 778.207 1521.65 Q781.286 1517.04 787.096 1517.04 Z\" fill=\"#000000\" fill-rule=\"evenodd\" fill-opacity=\"1\" /><path clip-path=\"url(#clip290)\" d=\"M835.429 1526.76 L824.85 1537.39 L835.429 1547.97 L832.674 1550.77 L822.049 1540.14 L811.424 1550.77 L808.693 1547.97 L819.248 1537.39 L808.693 1526.76 L811.424 1523.96 L822.049 1534.59 L832.674 1523.96 L835.429 1526.76 Z\" fill=\"#000000\" fill-rule=\"evenodd\" fill-opacity=\"1\" /><path clip-path=\"url(#clip290)\" d=\"M847.79 1548.29 L855.429 1548.29 L855.429 1521.92 L847.119 1523.59 L847.119 1519.33 L855.383 1517.66 L860.058 1517.66 L860.058 1548.29 L867.697 1548.29 L867.697 1552.22 L847.79 1552.22 L847.79 1548.29 Z\" fill=\"#000000\" fill-rule=\"evenodd\" fill-opacity=\"1\" /><path clip-path=\"url(#clip290)\" d=\"M887.142 1520.74 Q883.531 1520.74 881.702 1524.31 Q879.896 1527.85 879.896 1534.98 Q879.896 1542.09 881.702 1545.65 Q883.531 1549.19 887.142 1549.19 Q890.776 1549.19 892.581 1545.65 Q894.41 1542.09 894.41 1534.98 Q894.41 1527.85 892.581 1524.31 Q890.776 1520.74 887.142 1520.74 M887.142 1517.04 Q892.952 1517.04 896.007 1521.65 Q899.086 1526.23 899.086 1534.98 Q899.086 1543.71 896.007 1548.31 Q892.952 1552.9 887.142 1552.9 Q881.331 1552.9 878.253 1548.31 Q875.197 1543.71 875.197 1534.98 Q875.197 1526.23 878.253 1521.65 Q881.331 1517.04 887.142 1517.04 Z\" fill=\"#000000\" fill-rule=\"evenodd\" fill-opacity=\"1\" /><path clip-path=\"url(#clip290)\" d=\"M899.086 1511.14 L923.198 1511.14 L923.198 1514.34 L899.086 1514.34 L899.086 1511.14 Z\" fill=\"#000000\" fill-rule=\"evenodd\" fill-opacity=\"1\" /><path clip-path=\"url(#clip290)\" d=\"M939.993 1509.26 Q937.435 1509.26 935.93 1511.01 Q934.445 1512.76 934.445 1515.81 Q934.445 1518.83 935.93 1520.6 Q937.435 1522.35 939.993 1522.35 Q942.551 1522.35 944.037 1520.6 Q945.541 1518.83 945.541 1515.81 Q945.541 1512.76 944.037 1511.01 Q942.551 1509.26 939.993 1509.26 M947.535 1497.35 L947.535 1500.82 Q946.105 1500.14 944.638 1499.78 Q943.19 1499.42 941.761 1499.42 Q937.999 1499.42 936.006 1501.96 Q934.031 1504.5 933.749 1509.64 Q934.858 1508 936.532 1507.13 Q938.206 1506.25 940.219 1506.25 Q944.45 1506.25 946.895 1508.83 Q949.359 1511.39 949.359 1515.81 Q949.359 1520.13 946.801 1522.75 Q944.243 1525.36 939.993 1525.36 Q935.122 1525.36 932.545 1521.64 Q929.968 1517.89 929.968 1510.8 Q929.968 1504.14 933.128 1500.19 Q936.288 1496.23 941.61 1496.23 Q943.04 1496.23 944.488 1496.51 Q945.955 1496.79 947.535 1497.35 Z\" fill=\"#000000\" fill-rule=\"evenodd\" fill-opacity=\"1\" /><path clip-path=\"url(#clip290)\" d=\"M1317.21 1548.29 L1333.53 1548.29 L1333.53 1552.22 L1311.59 1552.22 L1311.59 1548.29 Q1314.25 1545.53 1318.83 1540.91 Q1323.44 1536.25 1324.62 1534.91 Q1326.86 1532.39 1327.74 1530.65 Q1328.65 1528.89 1328.65 1527.2 Q1328.65 1524.45 1326.7 1522.71 Q1324.78 1520.97 1321.68 1520.97 Q1319.48 1520.97 1317.03 1521.74 Q1314.6 1522.5 1311.82 1524.05 L1311.82 1519.33 Q1314.64 1518.2 1317.1 1517.62 Q1319.55 1517.04 1321.59 1517.04 Q1326.96 1517.04 1330.15 1519.72 Q1333.35 1522.41 1333.35 1526.9 Q1333.35 1529.03 1332.54 1530.95 Q1331.75 1532.85 1329.64 1535.44 Q1329.06 1536.11 1325.96 1539.33 Q1322.86 1542.53 1317.21 1548.29 Z\" fill=\"#000000\" fill-rule=\"evenodd\" fill-opacity=\"1\" /><path clip-path=\"url(#clip290)\" d=\"M1343.35 1546.35 L1348.23 1546.35 L1348.23 1552.22 L1343.35 1552.22 L1343.35 1546.35 Z\" fill=\"#000000\" fill-rule=\"evenodd\" fill-opacity=\"1\" /><path clip-path=\"url(#clip290)\" d=\"M1368.41 1520.74 Q1364.8 1520.74 1362.98 1524.31 Q1361.17 1527.85 1361.17 1534.98 Q1361.17 1542.09 1362.98 1545.65 Q1364.8 1549.19 1368.41 1549.19 Q1372.05 1549.19 1373.85 1545.65 Q1375.68 1542.09 1375.68 1534.98 Q1375.68 1527.85 1373.85 1524.31 Q1372.05 1520.74 1368.41 1520.74 M1368.41 1517.04 Q1374.22 1517.04 1377.28 1521.65 Q1380.36 1526.23 1380.36 1534.98 Q1380.36 1543.71 1377.28 1548.31 Q1374.22 1552.9 1368.41 1552.9 Q1362.6 1552.9 1359.53 1548.31 Q1356.47 1543.71 1356.47 1534.98 Q1356.47 1526.23 1359.53 1521.65 Q1362.6 1517.04 1368.41 1517.04 Z\" fill=\"#000000\" fill-rule=\"evenodd\" fill-opacity=\"1\" /><path clip-path=\"url(#clip290)\" d=\"M1416.75 1526.76 L1406.17 1537.39 L1416.75 1547.97 L1413.99 1550.77 L1403.37 1540.14 L1392.74 1550.77 L1390.01 1547.97 L1400.57 1537.39 L1390.01 1526.76 L1392.74 1523.96 L1403.37 1534.59 L1413.99 1523.96 L1416.75 1526.76 Z\" fill=\"#000000\" fill-rule=\"evenodd\" fill-opacity=\"1\" /><path clip-path=\"url(#clip290)\" d=\"M1429.11 1548.29 L1436.75 1548.29 L1436.75 1521.92 L1428.44 1523.59 L1428.44 1519.33 L1436.7 1517.66 L1441.38 1517.66 L1441.38 1548.29 L1449.02 1548.29 L1449.02 1552.22 L1429.11 1552.22 L1429.11 1548.29 Z\" fill=\"#000000\" fill-rule=\"evenodd\" fill-opacity=\"1\" /><path clip-path=\"url(#clip290)\" d=\"M1468.46 1520.74 Q1464.85 1520.74 1463.02 1524.31 Q1461.22 1527.85 1461.22 1534.98 Q1461.22 1542.09 1463.02 1545.65 Q1464.85 1549.19 1468.46 1549.19 Q1472.09 1549.19 1473.9 1545.65 Q1475.73 1542.09 1475.73 1534.98 Q1475.73 1527.85 1473.9 1524.31 Q1472.09 1520.74 1468.46 1520.74 M1468.46 1517.04 Q1474.27 1517.04 1477.33 1521.65 Q1480.4 1526.23 1480.4 1534.98 Q1480.4 1543.71 1477.33 1548.31 Q1474.27 1552.9 1468.46 1552.9 Q1462.65 1552.9 1459.57 1548.31 Q1456.52 1543.71 1456.52 1534.98 Q1456.52 1526.23 1459.57 1521.65 Q1462.65 1517.04 1468.46 1517.04 Z\" fill=\"#000000\" fill-rule=\"evenodd\" fill-opacity=\"1\" /><path clip-path=\"url(#clip290)\" d=\"M1480.4 1511.14 L1504.52 1511.14 L1504.52 1514.34 L1480.4 1514.34 L1480.4 1511.14 Z\" fill=\"#000000\" fill-rule=\"evenodd\" fill-opacity=\"1\" /><path clip-path=\"url(#clip290)\" d=\"M1521.31 1509.26 Q1518.75 1509.26 1517.25 1511.01 Q1515.76 1512.76 1515.76 1515.81 Q1515.76 1518.83 1517.25 1520.6 Q1518.75 1522.35 1521.31 1522.35 Q1523.87 1522.35 1525.36 1520.6 Q1526.86 1518.83 1526.86 1515.81 Q1526.86 1512.76 1525.36 1511.01 Q1523.87 1509.26 1521.31 1509.26 M1528.85 1497.35 L1528.85 1500.82 Q1527.42 1500.14 1525.96 1499.78 Q1524.51 1499.42 1523.08 1499.42 Q1519.32 1499.42 1517.32 1501.96 Q1515.35 1504.5 1515.07 1509.64 Q1516.18 1508 1517.85 1507.13 Q1519.53 1506.25 1521.54 1506.25 Q1525.77 1506.25 1528.21 1508.83 Q1530.68 1511.39 1530.68 1515.81 Q1530.68 1520.13 1528.12 1522.75 Q1525.56 1525.36 1521.31 1525.36 Q1516.44 1525.36 1513.86 1521.64 Q1511.29 1517.89 1511.29 1510.8 Q1511.29 1504.14 1514.45 1500.19 Q1517.61 1496.23 1522.93 1496.23 Q1524.36 1496.23 1525.81 1496.51 Q1527.27 1496.79 1528.85 1497.35 Z\" fill=\"#000000\" fill-rule=\"evenodd\" fill-opacity=\"1\" /><path clip-path=\"url(#clip290)\" d=\"M1907.73 1533.59 Q1911.09 1534.31 1912.96 1536.58 Q1914.86 1538.85 1914.86 1542.18 Q1914.86 1547.29 1911.34 1550.1 Q1907.82 1552.9 1901.34 1552.9 Q1899.17 1552.9 1896.85 1552.46 Q1894.56 1552.04 1892.11 1551.18 L1892.11 1546.67 Q1894.05 1547.8 1896.37 1548.38 Q1898.68 1548.96 1901.2 1548.96 Q1905.6 1548.96 1907.89 1547.22 Q1910.21 1545.49 1910.21 1542.18 Q1910.21 1539.12 1908.06 1537.41 Q1905.93 1535.67 1902.11 1535.67 L1898.08 1535.67 L1898.08 1531.83 L1902.29 1531.83 Q1905.74 1531.83 1907.57 1530.47 Q1909.4 1529.08 1909.4 1526.48 Q1909.4 1523.82 1907.5 1522.41 Q1905.63 1520.97 1902.11 1520.97 Q1900.19 1520.97 1897.99 1521.39 Q1895.79 1521.81 1893.15 1522.69 L1893.15 1518.52 Q1895.81 1517.78 1898.13 1517.41 Q1900.46 1517.04 1902.52 1517.04 Q1907.85 1517.04 1910.95 1519.47 Q1914.05 1521.88 1914.05 1526 Q1914.05 1528.87 1912.41 1530.86 Q1910.76 1532.83 1907.73 1533.59 Z\" fill=\"#000000\" fill-rule=\"evenodd\" fill-opacity=\"1\" /><path clip-path=\"url(#clip290)\" d=\"M1923.73 1546.35 L1928.61 1546.35 L1928.61 1552.22 L1923.73 1552.22 L1923.73 1546.35 Z\" fill=\"#000000\" fill-rule=\"evenodd\" fill-opacity=\"1\" /><path clip-path=\"url(#clip290)\" d=\"M1948.8 1520.74 Q1945.19 1520.74 1943.36 1524.31 Q1941.55 1527.85 1941.55 1534.98 Q1941.55 1542.09 1943.36 1545.65 Q1945.19 1549.19 1948.8 1549.19 Q1952.43 1549.19 1954.24 1545.65 Q1956.06 1542.09 1956.06 1534.98 Q1956.06 1527.85 1954.24 1524.31 Q1952.43 1520.74 1948.8 1520.74 M1948.8 1517.04 Q1954.61 1517.04 1957.66 1521.65 Q1960.74 1526.23 1960.74 1534.98 Q1960.74 1543.71 1957.66 1548.31 Q1954.61 1552.9 1948.8 1552.9 Q1942.99 1552.9 1939.91 1548.31 Q1936.85 1543.71 1936.85 1534.98 Q1936.85 1526.23 1939.91 1521.65 Q1942.99 1517.04 1948.8 1517.04 Z\" fill=\"#000000\" fill-rule=\"evenodd\" fill-opacity=\"1\" /><path clip-path=\"url(#clip290)\" d=\"M1997.13 1526.76 L1986.55 1537.39 L1997.13 1547.97 L1994.37 1550.77 L1983.75 1540.14 L1973.12 1550.77 L1970.39 1547.97 L1980.95 1537.39 L1970.39 1526.76 L1973.12 1523.96 L1983.75 1534.59 L1994.37 1523.96 L1997.13 1526.76 Z\" fill=\"#000000\" fill-rule=\"evenodd\" fill-opacity=\"1\" /><path clip-path=\"url(#clip290)\" d=\"M2009.49 1548.29 L2017.13 1548.29 L2017.13 1521.92 L2008.82 1523.59 L2008.82 1519.33 L2017.08 1517.66 L2021.76 1517.66 L2021.76 1548.29 L2029.4 1548.29 L2029.4 1552.22 L2009.49 1552.22 L2009.49 1548.29 Z\" fill=\"#000000\" fill-rule=\"evenodd\" fill-opacity=\"1\" /><path clip-path=\"url(#clip290)\" d=\"M2048.84 1520.74 Q2045.23 1520.74 2043.4 1524.31 Q2041.6 1527.85 2041.6 1534.98 Q2041.6 1542.09 2043.4 1545.65 Q2045.23 1549.19 2048.84 1549.19 Q2052.48 1549.19 2054.28 1545.65 Q2056.11 1542.09 2056.11 1534.98 Q2056.11 1527.85 2054.28 1524.31 Q2052.48 1520.74 2048.84 1520.74 M2048.84 1517.04 Q2054.65 1517.04 2057.71 1521.65 Q2060.79 1526.23 2060.79 1534.98 Q2060.79 1543.71 2057.71 1548.31 Q2054.65 1552.9 2048.84 1552.9 Q2043.03 1552.9 2039.95 1548.31 Q2036.9 1543.71 2036.9 1534.98 Q2036.9 1526.23 2039.95 1521.65 Q2043.03 1517.04 2048.84 1517.04 Z\" fill=\"#000000\" fill-rule=\"evenodd\" fill-opacity=\"1\" /><path clip-path=\"url(#clip290)\" d=\"M2060.79 1511.14 L2084.9 1511.14 L2084.9 1514.34 L2060.79 1514.34 L2060.79 1511.14 Z\" fill=\"#000000\" fill-rule=\"evenodd\" fill-opacity=\"1\" /><path clip-path=\"url(#clip290)\" d=\"M2101.69 1509.26 Q2099.14 1509.26 2097.63 1511.01 Q2096.14 1512.76 2096.14 1515.81 Q2096.14 1518.83 2097.63 1520.6 Q2099.14 1522.35 2101.69 1522.35 Q2104.25 1522.35 2105.74 1520.6 Q2107.24 1518.83 2107.24 1515.81 Q2107.24 1512.76 2105.74 1511.01 Q2104.25 1509.26 2101.69 1509.26 M2109.24 1497.35 L2109.24 1500.82 Q2107.81 1500.14 2106.34 1499.78 Q2104.89 1499.42 2103.46 1499.42 Q2099.7 1499.42 2097.71 1501.96 Q2095.73 1504.5 2095.45 1509.64 Q2096.56 1508 2098.23 1507.13 Q2099.91 1506.25 2101.92 1506.25 Q2106.15 1506.25 2108.6 1508.83 Q2111.06 1511.39 2111.06 1515.81 Q2111.06 1520.13 2108.5 1522.75 Q2105.94 1525.36 2101.69 1525.36 Q2096.82 1525.36 2094.25 1521.64 Q2091.67 1517.89 2091.67 1510.8 Q2091.67 1504.14 2094.83 1500.19 Q2097.99 1496.23 2103.31 1496.23 Q2104.74 1496.23 2106.19 1496.51 Q2107.66 1496.79 2109.24 1497.35 Z\" fill=\"#000000\" fill-rule=\"evenodd\" fill-opacity=\"1\" /><polyline clip-path=\"url(#clip292)\" style=\"stroke:#000000; stroke-linecap:round; stroke-linejoin:round; stroke-width:2; stroke-opacity:0.1; fill:none\" points=\"\n",
       "  199.283,1433.78 2352.76,1433.78 \n",
       "  \"/>\n",
       "<polyline clip-path=\"url(#clip292)\" style=\"stroke:#000000; stroke-linecap:round; stroke-linejoin:round; stroke-width:2; stroke-opacity:0.1; fill:none\" points=\"\n",
       "  199.283,1097.24 2352.76,1097.24 \n",
       "  \"/>\n",
       "<polyline clip-path=\"url(#clip292)\" style=\"stroke:#000000; stroke-linecap:round; stroke-linejoin:round; stroke-width:2; stroke-opacity:0.1; fill:none\" points=\"\n",
       "  199.283,760.704 2352.76,760.704 \n",
       "  \"/>\n",
       "<polyline clip-path=\"url(#clip292)\" style=\"stroke:#000000; stroke-linecap:round; stroke-linejoin:round; stroke-width:2; stroke-opacity:0.1; fill:none\" points=\"\n",
       "  199.283,424.167 2352.76,424.167 \n",
       "  \"/>\n",
       "<polyline clip-path=\"url(#clip292)\" style=\"stroke:#000000; stroke-linecap:round; stroke-linejoin:round; stroke-width:2; stroke-opacity:0.1; fill:none\" points=\"\n",
       "  199.283,87.6286 2352.76,87.6286 \n",
       "  \"/>\n",
       "<polyline clip-path=\"url(#clip290)\" style=\"stroke:#000000; stroke-linecap:round; stroke-linejoin:round; stroke-width:4; stroke-opacity:1; fill:none\" points=\"\n",
       "  199.283,1474.16 199.283,47.2441 \n",
       "  \"/>\n",
       "<polyline clip-path=\"url(#clip290)\" style=\"stroke:#000000; stroke-linecap:round; stroke-linejoin:round; stroke-width:4; stroke-opacity:1; fill:none\" points=\"\n",
       "  199.283,1433.78 218.181,1433.78 \n",
       "  \"/>\n",
       "<polyline clip-path=\"url(#clip290)\" style=\"stroke:#000000; stroke-linecap:round; stroke-linejoin:round; stroke-width:4; stroke-opacity:1; fill:none\" points=\"\n",
       "  199.283,1097.24 218.181,1097.24 \n",
       "  \"/>\n",
       "<polyline clip-path=\"url(#clip290)\" style=\"stroke:#000000; stroke-linecap:round; stroke-linejoin:round; stroke-width:4; stroke-opacity:1; fill:none\" points=\"\n",
       "  199.283,760.704 218.181,760.704 \n",
       "  \"/>\n",
       "<polyline clip-path=\"url(#clip290)\" style=\"stroke:#000000; stroke-linecap:round; stroke-linejoin:round; stroke-width:4; stroke-opacity:1; fill:none\" points=\"\n",
       "  199.283,424.167 218.181,424.167 \n",
       "  \"/>\n",
       "<polyline clip-path=\"url(#clip290)\" style=\"stroke:#000000; stroke-linecap:round; stroke-linejoin:round; stroke-width:4; stroke-opacity:1; fill:none\" points=\"\n",
       "  199.283,87.6286 218.181,87.6286 \n",
       "  \"/>\n",
       "<path clip-path=\"url(#clip290)\" d=\"M151.339 1419.58 Q147.728 1419.58 145.899 1423.14 Q144.093 1426.69 144.093 1433.81 Q144.093 1440.92 145.899 1444.49 Q147.728 1448.03 151.339 1448.03 Q154.973 1448.03 156.779 1444.49 Q158.607 1440.92 158.607 1433.81 Q158.607 1426.69 156.779 1423.14 Q154.973 1419.58 151.339 1419.58 M151.339 1415.88 Q157.149 1415.88 160.205 1420.48 Q163.283 1425.06 163.283 1433.81 Q163.283 1442.54 160.205 1447.15 Q157.149 1451.73 151.339 1451.73 Q145.529 1451.73 142.45 1447.15 Q139.394 1442.54 139.394 1433.81 Q139.394 1425.06 142.45 1420.48 Q145.529 1415.88 151.339 1415.88 Z\" fill=\"#000000\" fill-rule=\"evenodd\" fill-opacity=\"1\" /><path clip-path=\"url(#clip290)\" d=\"M85.0429 1110.59 L101.362 1110.59 L101.362 1114.52 L79.4179 1114.52 L79.4179 1110.59 Q82.0799 1107.83 86.6632 1103.2 Q91.2697 1098.55 92.4502 1097.21 Q94.6956 1094.68 95.5752 1092.95 Q96.478 1091.19 96.478 1089.5 Q96.478 1086.74 94.5336 1085.01 Q92.6123 1083.27 89.5104 1083.27 Q87.3114 1083.27 84.8577 1084.04 Q82.4271 1084.8 79.6494 1086.35 L79.6494 1081.63 Q82.4734 1080.49 84.9271 1079.92 Q87.3808 1079.34 89.4178 1079.34 Q94.7882 1079.34 97.9826 1082.02 Q101.177 1084.71 101.177 1089.2 Q101.177 1091.33 100.367 1093.25 Q99.5798 1095.15 97.4734 1097.74 Q96.8947 1098.41 93.7928 1101.63 Q90.691 1104.82 85.0429 1110.59 Z\" fill=\"#000000\" fill-rule=\"evenodd\" fill-opacity=\"1\" /><path clip-path=\"url(#clip290)\" d=\"M111.223 1079.96 L129.58 1079.96 L129.58 1083.9 L115.506 1083.9 L115.506 1092.37 Q116.524 1092.02 117.543 1091.86 Q118.561 1091.68 119.58 1091.68 Q125.367 1091.68 128.746 1094.85 Q132.126 1098.02 132.126 1103.43 Q132.126 1109.01 128.654 1112.11 Q125.182 1115.19 118.862 1115.19 Q116.686 1115.19 114.418 1114.82 Q112.172 1114.45 109.765 1113.71 L109.765 1109.01 Q111.848 1110.15 114.07 1110.7 Q116.293 1111.26 118.77 1111.26 Q122.774 1111.26 125.112 1109.15 Q127.45 1107.05 127.45 1103.43 Q127.45 1099.82 125.112 1097.72 Q122.774 1095.61 118.77 1095.61 Q116.895 1095.61 115.02 1096.03 Q113.168 1096.44 111.223 1097.32 L111.223 1079.96 Z\" fill=\"#000000\" fill-rule=\"evenodd\" fill-opacity=\"1\" /><path clip-path=\"url(#clip290)\" d=\"M151.339 1083.04 Q147.728 1083.04 145.899 1086.61 Q144.093 1090.15 144.093 1097.28 Q144.093 1104.38 145.899 1107.95 Q147.728 1111.49 151.339 1111.49 Q154.973 1111.49 156.779 1107.95 Q158.607 1104.38 158.607 1097.28 Q158.607 1090.15 156.779 1086.61 Q154.973 1083.04 151.339 1083.04 M151.339 1079.34 Q157.149 1079.34 160.205 1083.94 Q163.283 1088.53 163.283 1097.28 Q163.283 1106 160.205 1110.61 Q157.149 1115.19 151.339 1115.19 Q145.529 1115.19 142.45 1110.61 Q139.394 1106 139.394 1097.28 Q139.394 1088.53 142.45 1083.94 Q145.529 1079.34 151.339 1079.34 Z\" fill=\"#000000\" fill-rule=\"evenodd\" fill-opacity=\"1\" /><path clip-path=\"url(#clip290)\" d=\"M81.0614 743.424 L99.4178 743.424 L99.4178 747.36 L85.3438 747.36 L85.3438 755.832 Q86.3623 755.485 87.3808 755.322 Q88.3993 755.137 89.4178 755.137 Q95.2049 755.137 98.5845 758.309 Q101.964 761.48 101.964 766.896 Q101.964 772.475 98.4919 775.577 Q95.0197 778.656 88.7003 778.656 Q86.5243 778.656 84.2558 778.285 Q82.0105 777.915 79.6031 777.174 L79.6031 772.475 Q81.6864 773.609 83.9086 774.165 Q86.1308 774.721 88.6077 774.721 Q92.6123 774.721 94.9502 772.614 Q97.2882 770.508 97.2882 766.896 Q97.2882 763.285 94.9502 761.179 Q92.6123 759.072 88.6077 759.072 Q86.7327 759.072 84.8577 759.489 Q83.0058 759.906 81.0614 760.785 L81.0614 743.424 Z\" fill=\"#000000\" fill-rule=\"evenodd\" fill-opacity=\"1\" /><path clip-path=\"url(#clip290)\" d=\"M121.177 746.503 Q117.566 746.503 115.737 750.068 Q113.932 753.61 113.932 760.739 Q113.932 767.846 115.737 771.41 Q117.566 774.952 121.177 774.952 Q124.811 774.952 126.617 771.41 Q128.445 767.846 128.445 760.739 Q128.445 753.61 126.617 750.068 Q124.811 746.503 121.177 746.503 M121.177 742.799 Q126.987 742.799 130.043 747.406 Q133.121 751.989 133.121 760.739 Q133.121 769.466 130.043 774.072 Q126.987 778.656 121.177 778.656 Q115.367 778.656 112.288 774.072 Q109.233 769.466 109.233 760.739 Q109.233 751.989 112.288 747.406 Q115.367 742.799 121.177 742.799 Z\" fill=\"#000000\" fill-rule=\"evenodd\" fill-opacity=\"1\" /><path clip-path=\"url(#clip290)\" d=\"M151.339 746.503 Q147.728 746.503 145.899 750.068 Q144.093 753.61 144.093 760.739 Q144.093 767.846 145.899 771.41 Q147.728 774.952 151.339 774.952 Q154.973 774.952 156.779 771.41 Q158.607 767.846 158.607 760.739 Q158.607 753.61 156.779 750.068 Q154.973 746.503 151.339 746.503 M151.339 742.799 Q157.149 742.799 160.205 747.406 Q163.283 751.989 163.283 760.739 Q163.283 769.466 160.205 774.072 Q157.149 778.656 151.339 778.656 Q145.529 778.656 142.45 774.072 Q139.394 769.466 139.394 760.739 Q139.394 751.989 142.45 747.406 Q145.529 742.799 151.339 742.799 Z\" fill=\"#000000\" fill-rule=\"evenodd\" fill-opacity=\"1\" /><path clip-path=\"url(#clip290)\" d=\"M79.8346 406.887 L102.057 406.887 L102.057 408.877 L89.5104 441.447 L84.6262 441.447 L96.4317 410.822 L79.8346 410.822 L79.8346 406.887 Z\" fill=\"#000000\" fill-rule=\"evenodd\" fill-opacity=\"1\" /><path clip-path=\"url(#clip290)\" d=\"M111.223 406.887 L129.58 406.887 L129.58 410.822 L115.506 410.822 L115.506 419.294 Q116.524 418.947 117.543 418.785 Q118.561 418.599 119.58 418.599 Q125.367 418.599 128.746 421.771 Q132.126 424.942 132.126 430.359 Q132.126 435.937 128.654 439.039 Q125.182 442.118 118.862 442.118 Q116.686 442.118 114.418 441.747 Q112.172 441.377 109.765 440.636 L109.765 435.937 Q111.848 437.072 114.07 437.627 Q116.293 438.183 118.77 438.183 Q122.774 438.183 125.112 436.076 Q127.45 433.97 127.45 430.359 Q127.45 426.748 125.112 424.641 Q122.774 422.535 118.77 422.535 Q116.895 422.535 115.02 422.951 Q113.168 423.368 111.223 424.248 L111.223 406.887 Z\" fill=\"#000000\" fill-rule=\"evenodd\" fill-opacity=\"1\" /><path clip-path=\"url(#clip290)\" d=\"M151.339 409.965 Q147.728 409.965 145.899 413.53 Q144.093 417.072 144.093 424.201 Q144.093 431.308 145.899 434.872 Q147.728 438.414 151.339 438.414 Q154.973 438.414 156.779 434.872 Q158.607 431.308 158.607 424.201 Q158.607 417.072 156.779 413.53 Q154.973 409.965 151.339 409.965 M151.339 406.262 Q157.149 406.262 160.205 410.868 Q163.283 415.451 163.283 424.201 Q163.283 432.928 160.205 437.534 Q157.149 442.118 151.339 442.118 Q145.529 442.118 142.45 437.534 Q139.394 432.928 139.394 424.201 Q139.394 415.451 142.45 410.868 Q145.529 406.262 151.339 406.262 Z\" fill=\"#000000\" fill-rule=\"evenodd\" fill-opacity=\"1\" /><path clip-path=\"url(#clip290)\" d=\"M51.6634 100.973 L59.3023 100.973 L59.3023 74.6079 L50.9921 76.2745 L50.9921 72.0153 L59.256 70.3486 L63.9319 70.3486 L63.9319 100.973 L71.5707 100.973 L71.5707 104.909 L51.6634 104.909 L51.6634 100.973 Z\" fill=\"#000000\" fill-rule=\"evenodd\" fill-opacity=\"1\" /><path clip-path=\"url(#clip290)\" d=\"M91.0151 73.4273 Q87.404 73.4273 85.5753 76.9921 Q83.7697 80.5338 83.7697 87.6634 Q83.7697 94.7698 85.5753 98.3346 Q87.404 101.876 91.0151 101.876 Q94.6493 101.876 96.4548 98.3346 Q98.2835 94.7698 98.2835 87.6634 Q98.2835 80.5338 96.4548 76.9921 Q94.6493 73.4273 91.0151 73.4273 M91.0151 69.7236 Q96.8252 69.7236 99.8808 74.3301 Q102.959 78.9134 102.959 87.6634 Q102.959 96.3902 99.8808 100.997 Q96.8252 105.58 91.0151 105.58 Q85.2049 105.58 82.1262 100.997 Q79.0707 96.3902 79.0707 87.6634 Q79.0707 78.9134 82.1262 74.3301 Q85.2049 69.7236 91.0151 69.7236 Z\" fill=\"#000000\" fill-rule=\"evenodd\" fill-opacity=\"1\" /><path clip-path=\"url(#clip290)\" d=\"M121.177 73.4273 Q117.566 73.4273 115.737 76.9921 Q113.932 80.5338 113.932 87.6634 Q113.932 94.7698 115.737 98.3346 Q117.566 101.876 121.177 101.876 Q124.811 101.876 126.617 98.3346 Q128.445 94.7698 128.445 87.6634 Q128.445 80.5338 126.617 76.9921 Q124.811 73.4273 121.177 73.4273 M121.177 69.7236 Q126.987 69.7236 130.043 74.3301 Q133.121 78.9134 133.121 87.6634 Q133.121 96.3902 130.043 100.997 Q126.987 105.58 121.177 105.58 Q115.367 105.58 112.288 100.997 Q109.233 96.3902 109.233 87.6634 Q109.233 78.9134 112.288 74.3301 Q115.367 69.7236 121.177 69.7236 Z\" fill=\"#000000\" fill-rule=\"evenodd\" fill-opacity=\"1\" /><path clip-path=\"url(#clip290)\" d=\"M151.339 73.4273 Q147.728 73.4273 145.899 76.9921 Q144.093 80.5338 144.093 87.6634 Q144.093 94.7698 145.899 98.3346 Q147.728 101.876 151.339 101.876 Q154.973 101.876 156.779 98.3346 Q158.607 94.7698 158.607 87.6634 Q158.607 80.5338 156.779 76.9921 Q154.973 73.4273 151.339 73.4273 M151.339 69.7236 Q157.149 69.7236 160.205 74.3301 Q163.283 78.9134 163.283 87.6634 Q163.283 96.3902 160.205 100.997 Q157.149 105.58 151.339 105.58 Q145.529 105.58 142.45 100.997 Q139.394 96.3902 139.394 87.6634 Q139.394 78.9134 142.45 74.3301 Q145.529 69.7236 151.339 69.7236 Z\" fill=\"#000000\" fill-rule=\"evenodd\" fill-opacity=\"1\" /><polyline clip-path=\"url(#clip292)\" style=\"stroke:#009af9; stroke-linecap:round; stroke-linejoin:round; stroke-width:4; stroke-opacity:1; fill:none\" points=\"\n",
       "  260.231,1433.78 263.537,1389.96 266.844,1346.14 270.151,1302.32 273.457,1258.5 288.745,1055.9 304.032,853.309 319.32,650.715 334.607,448.121 342.251,346.825 \n",
       "  349.895,245.528 353.716,194.879 357.538,144.231 358.494,131.569 359.449,118.907 360.405,106.244 361.36,93.5823 362.316,87.6286 363.271,87.6286 364.227,87.6286 \n",
       "  365.182,87.6286 369.004,87.6286 372.826,87.6286 376.648,87.6286 380.47,87.6286 388.113,87.6286 395.757,87.6286 414.131,87.6286 432.506,87.6286 450.88,87.6286 \n",
       "  469.254,87.6286 500.324,87.6286 531.395,87.6286 598.897,87.6286 661.128,87.6286 727.847,87.6286 805.147,87.6286 873.842,87.6286 934.081,87.6286 999.758,87.6286 \n",
       "  1065.83,87.6286 1138.87,87.6286 1208.37,87.6286 1280.64,87.6286 1341.47,87.6286 1415.74,87.6286 1483.77,87.6286 1546.61,87.6286 1610.26,87.6286 1681.59,87.6286 \n",
       "  1746.23,87.6286 1820.24,87.6286 1888.77,87.6286 1956.33,87.6286 2021.92,87.6286 2089.16,87.6286 2162.83,87.6286 2269.85,87.6286 2291.81,87.6286 \n",
       "  \"/>\n",
       "<path clip-path=\"url(#clip290)\" d=\"\n",
       "M2013.2 1426.6 L2280.97 1426.6 L2280.97 1322.92 L2013.2 1322.92  Z\n",
       "  \" fill=\"#ffffff\" fill-rule=\"evenodd\" fill-opacity=\"1\"/>\n",
       "<polyline clip-path=\"url(#clip290)\" style=\"stroke:#000000; stroke-linecap:round; stroke-linejoin:round; stroke-width:4; stroke-opacity:1; fill:none\" points=\"\n",
       "  2013.2,1426.6 2280.97,1426.6 2280.97,1322.92 2013.2,1322.92 2013.2,1426.6 \n",
       "  \"/>\n",
       "<polyline clip-path=\"url(#clip290)\" style=\"stroke:#009af9; stroke-linecap:round; stroke-linejoin:round; stroke-width:4; stroke-opacity:1; fill:none\" points=\"\n",
       "  2037.12,1374.76 2180.69,1374.76 \n",
       "  \"/>\n",
       "<path clip-path=\"url(#clip290)\" d=\"M2218.46 1394.45 Q2216.65 1399.08 2214.94 1400.49 Q2213.23 1401.9 2210.36 1401.9 L2206.95 1401.9 L2206.95 1398.34 L2209.45 1398.34 Q2211.21 1398.34 2212.19 1397.5 Q2213.16 1396.67 2214.34 1393.57 L2215.1 1391.62 L2204.62 1366.11 L2209.13 1366.11 L2217.23 1386.39 L2225.33 1366.11 L2229.85 1366.11 L2218.46 1394.45 Z\" fill=\"#000000\" fill-rule=\"evenodd\" fill-opacity=\"1\" /><path clip-path=\"url(#clip290)\" d=\"M2237.14 1388.11 L2244.78 1388.11 L2244.78 1361.74 L2236.47 1363.41 L2236.47 1359.15 L2244.73 1357.48 L2249.41 1357.48 L2249.41 1388.11 L2257.05 1388.11 L2257.05 1392.04 L2237.14 1392.04 L2237.14 1388.11 Z\" fill=\"#000000\" fill-rule=\"evenodd\" fill-opacity=\"1\" /></svg>\n"
      ]
     },
     "execution_count": 11,
     "metadata": {},
     "output_type": "execute_result"
    }
   ],
   "source": [
    "function ϕ_fun(ϕ)  \n",
    "    if ϕ <= uTran2_EP\n",
    "      return ((phiMaxApp - phiMin)/uTran2_EP)*ϕ + phiMin\n",
    "    else\n",
    "     return  phiMaxApp\n",
    "    end\n",
    "end \n",
    "plot(ϕ_fun,0,uMax)"
   ]
  },
  {
   "cell_type": "code",
   "execution_count": 12,
   "id": "a6f2ac22",
   "metadata": {},
   "outputs": [
    {
     "data": {
      "text/plain": [
       "100-element Vector{Float64}:\n",
       "    0.0\n",
       "  202.02020202020202\n",
       "  404.04040404040404\n",
       "  606.0606060606061\n",
       "  808.0808080808081\n",
       " 1000.0\n",
       " 1000.0\n",
       " 1000.0\n",
       " 1000.0\n",
       " 1000.0\n",
       " 1000.0\n",
       " 1000.0\n",
       " 1000.0\n",
       "    ⋮\n",
       " 1000.0\n",
       " 1000.0\n",
       " 1000.0\n",
       " 1000.0\n",
       " 1000.0\n",
       " 1000.0\n",
       " 1000.0\n",
       " 1000.0\n",
       " 1000.0\n",
       " 1000.0\n",
       " 1000.0\n",
       " 1000.0"
      ]
     },
     "execution_count": 12,
     "metadata": {},
     "output_type": "execute_result"
    }
   ],
   "source": [
    "uAppVec = range(0,uMax,length = Int64(floor(tMax/delt)))\n",
    "\n",
    "AppTOption = 1 ## 1 for smooth and otherwise linear than constant\n",
    "\n",
    "if AppTOption == 1\n",
    "    TAppVec = smoothT.(uAppVec)\n",
    "  else\n",
    "    TAppVec = Tfun.(uAppVec) \n",
    "end \n",
    "\n",
    "AppϕOption = 2 ## 1 for smooth and otherwise linear than constant\n",
    "\n",
    "if AppϕOption == 1\n",
    "    ϕAppVec = smoothϕ.(uAppVec)\n",
    "  else\n",
    "    ϕAppVec = ϕ_fun.(uAppVec) \n",
    "end "
   ]
  },
  {
   "cell_type": "code",
   "execution_count": 13,
   "id": "meaningful-haven",
   "metadata": {},
   "outputs": [
    {
     "data": {
      "text/plain": [
       "22823-element Vector{Int8}:\n",
       " 3\n",
       " 3\n",
       " 3\n",
       " 3\n",
       " 3\n",
       " 3\n",
       " 3\n",
       " 3\n",
       " 3\n",
       " 3\n",
       " 3\n",
       " 3\n",
       " 3\n",
       " ⋮\n",
       " 3\n",
       " 3\n",
       " 3\n",
       " 3\n",
       " 3\n",
       " 3\n",
       " 3\n",
       " 3\n",
       " 3\n",
       " 3\n",
       " 3\n",
       " 3"
      ]
     },
     "execution_count": 13,
     "metadata": {},
     "output_type": "execute_result"
    }
   ],
   "source": [
    "using Gridap.Geometry\n",
    "labels = get_face_labeling(model)\n",
    "dimension = 2\n",
    "mat_tags = get_face_tag(labels,dimension)"
   ]
  },
  {
   "cell_type": "code",
   "execution_count": 14,
   "id": "forty-hollow",
   "metadata": {},
   "outputs": [
    {
     "data": {
      "text/plain": [
       "3"
      ]
     },
     "execution_count": 14,
     "metadata": {},
     "output_type": "execute_result"
    }
   ],
   "source": [
    "const Mat_tag = get_tag_from_name(labels,\"Domain\")"
   ]
  },
  {
   "cell_type": "markdown",
   "id": "roman-infrastructure",
   "metadata": {},
   "source": [
    "## Input paramters for Piezo-Electric Material Properties"
   ]
  },
  {
   "cell_type": "markdown",
   "id": "foreign-anderson",
   "metadata": {},
   "source": [
    "#### Input elasticity parameters"
   ]
  },
  {
   "cell_type": "raw",
   "id": "083a7d78",
   "metadata": {},
   "source": [
    "const E_mat = 340e9\n",
    "const ν_mat = 0.22\n",
    "const λ_mat = (E_mat*ν_mat)/((1+ν_mat)*(1-2*ν_mat))\n",
    "const μ_mat = E_mat/(2*(1+ν_mat))"
   ]
  },
  {
   "cell_type": "code",
   "execution_count": 15,
   "id": "c4157c17",
   "metadata": {},
   "outputs": [
    {
     "data": {
      "text/plain": [
       "5700.0"
      ]
     },
     "execution_count": 15,
     "metadata": {},
     "output_type": "execute_result"
    }
   ],
   "source": [
    "const c = 421.4\n",
    "const ρ = 5700.0"
   ]
  },
  {
   "cell_type": "markdown",
   "id": "superior-compensation",
   "metadata": {},
   "source": [
    "#### Input fracture parameters"
   ]
  },
  {
   "cell_type": "code",
   "execution_count": 16,
   "id": "acute-carry",
   "metadata": {},
   "outputs": [
    {
     "data": {
      "text/plain": [
       "1.0e-8"
      ]
     },
     "execution_count": 16,
     "metadata": {},
     "output_type": "execute_result"
    }
   ],
   "source": [
    "const Gc = 200\n",
    "const η = 1e-8"
   ]
  },
  {
   "cell_type": "markdown",
   "id": "biological-struggle",
   "metadata": {},
   "source": [
    "## COnstitutive Matrices"
   ]
  },
  {
   "cell_type": "markdown",
   "id": "decent-model",
   "metadata": {},
   "source": [
    "### Elastic stiffness tensor"
   ]
  },
  {
   "cell_type": "code",
   "execution_count": 17,
   "id": "cad00dd2",
   "metadata": {},
   "outputs": [
    {
     "data": {
      "text/plain": [
       "4.3e10"
      ]
     },
     "execution_count": 17,
     "metadata": {},
     "output_type": "execute_result"
    }
   ],
   "source": [
    "const C₁₁_mat = 166e9\n",
    "const C₁₂_mat = 78e9\n",
    "const C₂₂_mat = 162e9\n",
    "const C₆₆_mat = 43e9"
   ]
  },
  {
   "cell_type": "code",
   "execution_count": 18,
   "id": "b40f5f7d",
   "metadata": {},
   "outputs": [
    {
     "data": {
      "text/plain": [
       "SymFourthOrderTensorValue{2, Float64, 9}(1.66e11, 0.0, 7.8e10, 0.0, 4.3e10, 0.0, 7.8e10, 0.0, 1.62e11)"
      ]
     },
     "execution_count": 18,
     "metadata": {},
     "output_type": "execute_result"
    }
   ],
   "source": [
    "function ElasFourthOrderConstTensor(C₁₁,C₁₂,C₂₂,C₆₆)\n",
    "      C1111 = C₁₁\n",
    "      C1122 = C₁₂\n",
    "      C1112 = 0.0\n",
    "      C2222 = C₂₂\n",
    "      C2212 = 0.0\n",
    "      C1212 = C₆₆    \n",
    "      C_ten = SymFourthOrderTensorValue(C1111,C1112,C1122,C1112,C1212,C2212,C1122,C2212,C2222)\n",
    "    return  C_ten\n",
    "end\n",
    "const C_mat = ElasFourthOrderConstTensor(C₁₁_mat,C₁₂_mat,C₂₂_mat,C₆₆_mat)"
   ]
  },
  {
   "cell_type": "markdown",
   "id": "private-nebraska",
   "metadata": {},
   "source": [
    "### Third order piezoelectric tensor"
   ]
  },
  {
   "cell_type": "code",
   "execution_count": 19,
   "id": "8ef9d403",
   "metadata": {},
   "outputs": [
    {
     "data": {
      "text/plain": [
       "11.6"
      ]
     },
     "execution_count": 19,
     "metadata": {},
     "output_type": "execute_result"
    }
   ],
   "source": [
    "const e₂₁_mat = -4.4\n",
    "const e₂₂_mat = 18.6\n",
    "const e₁₆_mat = 11.6"
   ]
  },
  {
   "cell_type": "code",
   "execution_count": 20,
   "id": "conventional-purse",
   "metadata": {},
   "outputs": [
    {
     "data": {
      "text/plain": [
       "ThirdOrderTensorValue{2, 2, 2, Float64, 8}(0.0, -4.4, 11.6, 0.0, 11.6, 0.0, 0.0, 18.6)"
      ]
     },
     "execution_count": 20,
     "metadata": {},
     "output_type": "execute_result"
    }
   ],
   "source": [
    "function PiezoThirdOrderConstTensor(e₂₁,e₂₂,e₁₆)\n",
    "    # 1 for Plane Stress and 2 Plane Strain Condition \n",
    "      e111 = 0.0\n",
    "      e112 = e₁₆\n",
    "      e121 = e₁₆\n",
    "      e122 = 0.0\n",
    "      e211 = e₂₁\n",
    "      e212 = 0.0\n",
    "      e221 = 0.0\n",
    "      e222 = e₂₂   \n",
    "    vals = zeros(2,2,2);\n",
    "    vals[1,:,:] .= [e111 e112\n",
    "                    e121 e122]\n",
    "    vals[2,:,:] .= [e211 e212\n",
    "                    e221 e222]\n",
    "    e_ten = ThirdOrderTensorValue(vals ...)\n",
    "    return  e_ten\n",
    "end\n",
    "\n",
    "const e_mat = PiezoThirdOrderConstTensor(e₂₁_mat,e₂₂_mat,e₁₆_mat)"
   ]
  },
  {
   "cell_type": "markdown",
   "id": "better-reminder",
   "metadata": {},
   "source": [
    "### Second order electrical permittivity tensor"
   ]
  },
  {
   "cell_type": "code",
   "execution_count": 21,
   "id": "468263ef",
   "metadata": {},
   "outputs": [
    {
     "data": {
      "text/plain": [
       "1.26e-8"
      ]
     },
     "execution_count": 21,
     "metadata": {},
     "output_type": "execute_result"
    }
   ],
   "source": [
    "const K₁₁_mat = 11.2e-9\n",
    "const K₂₂_mat = 12.6e-9"
   ]
  },
  {
   "cell_type": "code",
   "execution_count": 22,
   "id": "developing-foundation",
   "metadata": {},
   "outputs": [
    {
     "data": {
      "text/plain": [
       "TensorValue{2, 2, Float64, 4}(1.12e-8, 0.0, 0.0, 1.26e-8)"
      ]
     },
     "execution_count": 22,
     "metadata": {},
     "output_type": "execute_result"
    }
   ],
   "source": [
    "const K_mat = TensorValue(K₁₁_mat,0.0,0.0, K₂₂_mat)"
   ]
  },
  {
   "cell_type": "markdown",
   "id": "d781dd61",
   "metadata": {},
   "source": [
    "### Thermal Coefficient"
   ]
  },
  {
   "cell_type": "code",
   "execution_count": 23,
   "id": "36799361",
   "metadata": {},
   "outputs": [
    {
     "data": {
      "text/plain": [
       "6.4e-6"
      ]
     },
     "execution_count": 23,
     "metadata": {},
     "output_type": "execute_result"
    }
   ],
   "source": [
    "const α₁₁_mat = 15.7e-6\n",
    "const α₂₂_mat = 6.4e-6"
   ]
  },
  {
   "cell_type": "code",
   "execution_count": 24,
   "id": "20ba9560",
   "metadata": {},
   "outputs": [
    {
     "data": {
      "text/plain": [
       "TensorValue{2, 2, Float64, 4}(1.57e-5, 0.0, 0.0, 6.4e-6)"
      ]
     },
     "execution_count": 24,
     "metadata": {},
     "output_type": "execute_result"
    }
   ],
   "source": [
    "const α_mat = TensorValue(α₁₁_mat,0.0,0.0, α₂₂_mat)"
   ]
  },
  {
   "cell_type": "code",
   "execution_count": 25,
   "id": "8c95104d",
   "metadata": {},
   "outputs": [
    {
     "data": {
      "text/plain": [
       "κGradTemp (generic function with 1 method)"
      ]
     },
     "execution_count": 25,
     "metadata": {},
     "output_type": "execute_result"
    }
   ],
   "source": [
    "κ_mat = 3.2\n",
    "κGradTemp(∇,s_in) = (s_in^2 + η)*κ_mat*∇"
   ]
  },
  {
   "cell_type": "markdown",
   "id": "nutritional-oliver",
   "metadata": {},
   "source": [
    "## Stress\n",
    "\n",
    "$\\sigma_{elas}(\\epsilon(\\boldsymbol{u})) =  \\mathbb{C}\\,\\boldsymbol{\\epsilon}$\n",
    "\n",
    "$\\sigma_{elasMod}(\\epsilon(\\boldsymbol{u}),s) =  \\mathbb{C}_{mod}\\,\\boldsymbol{\\epsilon}$\n",
    "\n",
    "$\\sigma_{piezo}(\\boldsymbol{E}(\\phi)) = - \\mathbb{e}^T\\,\\boldsymbol{E}$\n",
    "\n",
    "or, $\\sigma_{piezo}(\\nabla\\phi) =  \\mathbb{e}^T\\,\\boldsymbol{\\nabla}\\phi$\n",
    "\n",
    "$\\sigma_{piezoMod}(\\nabla\\phi,s) =  \\mathbb{e}_{mod}^T\\,\\boldsymbol{\\nabla}\\phi$"
   ]
  },
  {
   "cell_type": "code",
   "execution_count": 26,
   "id": "built-universe",
   "metadata": {},
   "outputs": [
    {
     "data": {
      "text/plain": [
       "σ_thermMod (generic function with 1 method)"
      ]
     },
     "execution_count": 26,
     "metadata": {},
     "output_type": "execute_result"
    }
   ],
   "source": [
    "σ_elas(ε) = C_mat ⊙ ε\n",
    "\n",
    "function σ_elasMod(ε, T, ε_in, s_in, T_in)\n",
    "    εElas_in = ε_in - α_mat*(T_in-T0)\n",
    "    εElas = ε - α_mat*(T-T0)\n",
    "    if tr(εElas_in)  >= 0\n",
    "      σ = (s_in^2 + η)*σ_elas(εElas)\n",
    "    else\n",
    "      σ = (s_in^2 + η)*I4_dev ⊙ σ_elas(εElas) + I4_vol⊙ σ_elas(εElas)\n",
    "    end  \n",
    "    return σ\n",
    "end\n",
    "\n",
    "function σ_TotMod1(ε, ε_in, s_in, T_in)\n",
    "    εElas_in = ε_in - α_mat*(T_in-T0)\n",
    "    εTot = ε\n",
    " if tr(εElas_in)  >= 0\n",
    "      σ = (s_in^2 + η)*σ_elas(εTot)\n",
    "  elseif tr(εElas_in) < 0\n",
    "      σ = (s_in^2 + η)*I4_dev ⊙ σ_elas(εTot) + I4_vol⊙ σ_elas(εTot)\n",
    "  end  \n",
    "    return σ\n",
    "end\n",
    "\n",
    "function σ_TotMod2(T, ε_in, s_in, T_in)\n",
    "    εElas_in = ε_in - α_mat*(T_in-T0)\n",
    "    εElas = - α_mat*T\n",
    " if tr(εElas_in)  >= 0\n",
    "      σ = (s_in^2 + η)*σ_elas(εElas)\n",
    "  elseif tr(εElas_in) < 0\n",
    "      σ = (s_in^2 + η)*I4_dev ⊙ σ_elas(εElas) + I4_vol ⊙ σ_elas(εElas)\n",
    "  end  \n",
    "    return σ\n",
    "end\n",
    "\n",
    "function σ_thermMod(ε_in,s_in,T_in)\n",
    "    \n",
    "   εElas_in = ε_in - α_mat*(T_in-T0)\n",
    "   εElasTher = α_mat*(T0)\n",
    "    if tr(εElas_in)  >= 0\n",
    "        σF = (s_in^2 + η)*σ_elas(εElasTher)\n",
    "    elseif tr(εElas_in) < 0\n",
    "        σF = (s_in^2 + η)*I4_dev ⊙ σ_elas(εElasTher) + I4_vol ⊙ σ_elas(εElasTher)\n",
    "    end  \n",
    "    return σF\n",
    "end"
   ]
  },
  {
   "cell_type": "code",
   "execution_count": 27,
   "id": "bc56b220",
   "metadata": {},
   "outputs": [
    {
     "data": {
      "text/plain": [
       "σ_piezoMod (generic function with 1 method)"
      ]
     },
     "execution_count": 27,
     "metadata": {},
     "output_type": "execute_result"
    }
   ],
   "source": [
    "σ_piezo(∇) = ∇ ⋅ e_mat\n",
    "\n",
    "σ_piezoMod(∇, s_in) = (s_in^2 + η)*σ_piezo(∇)"
   ]
  },
  {
   "cell_type": "markdown",
   "id": "average-petroleum",
   "metadata": {},
   "source": [
    "### Electric Displacement\n",
    "\n",
    "$\\boldsymbol{D}_{elas}(ε(\\boldsymbol{u}),tag) = \\mathbb{e}\\boldsymbol{\\epsilon}$\n",
    "\n",
    "$\\boldsymbol{D}_{elasMod}(ε(\\boldsymbol{u}),s,tag) = \\mathbb{e}_{mod}\\boldsymbol{\\epsilon}$\n",
    "\n",
    "$\\boldsymbol{D}_{piezo}(\\boldsymbol{E}(\\phi)) = -\\boldsymbol{K}\\boldsymbol{E} $\n",
    "\n",
    "or, $\\boldsymbol{D}_{piezo}(\\nabla\\phi)  = \\boldsymbol{K}\\boldsymbol{\\nabla} \\phi$\n",
    "\n",
    "$\\boldsymbol{D}_{piezoMod}(\\nabla\\phi,s)  = \\boldsymbol{K}_{mod}\\boldsymbol{\\nabla} \\phi$"
   ]
  },
  {
   "cell_type": "code",
   "execution_count": 28,
   "id": "f5be4d33",
   "metadata": {},
   "outputs": [
    {
     "data": {
      "text/plain": [
       "D_ThermMod (generic function with 1 method)"
      ]
     },
     "execution_count": 28,
     "metadata": {},
     "output_type": "execute_result"
    }
   ],
   "source": [
    "function D_elasMod1(ε, s_in)\n",
    "    εElas = ε\n",
    "    return (s_in^2 + η)*(e_mat ⋅² εElas)\n",
    "end\n",
    "\n",
    "function D_elasMod2(T, s_in)\n",
    "    εElas = - α_mat*T\n",
    "    return (s_in^2 + η)*(e_mat ⋅² εElas)\n",
    "end\n",
    "\n",
    "function D_ThermMod(s_in)\n",
    "    εElas = α_mat*T0\n",
    "    return (s_in^2 + η)*(e_mat ⋅² εElas)\n",
    "end"
   ]
  },
  {
   "cell_type": "code",
   "execution_count": 29,
   "id": "7c9f4d54",
   "metadata": {},
   "outputs": [
    {
     "data": {
      "text/plain": [
       "D_piezoMod (generic function with 1 method)"
      ]
     },
     "execution_count": 29,
     "metadata": {},
     "output_type": "execute_result"
    }
   ],
   "source": [
    "D_piezo(∇) = K_mat ⋅ ∇\n",
    "\n",
    "function D_piezoMod(∇, s_in)   \n",
    "    return (s_in^2 + η)*D_piezo(∇)\n",
    "end"
   ]
  },
  {
   "cell_type": "code",
   "execution_count": 30,
   "id": "reflected-female",
   "metadata": {},
   "outputs": [
    {
     "data": {
      "text/plain": [
       "ψPos (generic function with 1 method)"
      ]
     },
     "execution_count": 30,
     "metadata": {},
     "output_type": "execute_result"
    }
   ],
   "source": [
    "function ψPos(ε_in, T_in, ∇_in)\n",
    "    εElas_in = ε_in - α_mat*(T_in-T0)\n",
    "    if tr(εElas_in) >= 0\n",
    "        ψPlus = 0.5*(εElas_in ⊙ σ_elas(εElas_in)) + 0.5*(σ_piezo(∇_in) ⊙ εElas_in)\n",
    "    elseif tr(εElas_in) < 0\n",
    "        ψPlus = 0.5*((I4_dev ⊙ σ_elas(εElas_in)) ⊙ (I4_dev ⊙ εElas_in)) + 0.5*(σ_piezo(∇_in) ⊙ (I4_dev ⊙ εElas_in))\n",
    "    end\n",
    "    return ψPlus\n",
    "end"
   ]
  },
  {
   "cell_type": "code",
   "execution_count": 31,
   "id": "6fce0388",
   "metadata": {},
   "outputs": [
    {
     "data": {
      "text/plain": [
       "new_EnergyState (generic function with 1 method)"
      ]
     },
     "execution_count": 31,
     "metadata": {},
     "output_type": "execute_result"
    }
   ],
   "source": [
    "function new_EnergyState(ψPlusPrev_in,ψhPos_in)\n",
    "  ψPlus_in = ψhPos_in\n",
    "  if ψPlus_in >= ψPlusPrev_in\n",
    "    ψPlus_out = ψPlus_in\n",
    "  else\n",
    "    ψPlus_out = ψPlusPrev_in\n",
    "  end\n",
    "  true,ψPlus_out\n",
    "end"
   ]
  },
  {
   "cell_type": "markdown",
   "id": "spare-throw",
   "metadata": {},
   "source": [
    "## FE formulation"
   ]
  },
  {
   "cell_type": "code",
   "execution_count": 32,
   "id": "tough-beast",
   "metadata": {},
   "outputs": [
    {
     "data": {
      "text/plain": [
       "project (generic function with 1 method)"
      ]
     },
     "execution_count": 32,
     "metadata": {},
     "output_type": "execute_result"
    }
   ],
   "source": [
    "function project(q,model,dΩ,order)\n",
    "  reffe = ReferenceFE(lagrangian,Float64,order)\n",
    "  V = FESpace(model,reffe,conformity=:L2)\n",
    "  a(u,v) = ∫( u*v )*dΩ\n",
    "  l(v) = ∫( v*q )*dΩ\n",
    "  op = AffineFEOperator(a,l,V,V)\n",
    "  qh = Gridap.solve(op)\n",
    "  qh\n",
    "end"
   ]
  },
  {
   "cell_type": "code",
   "execution_count": 33,
   "id": "french-place",
   "metadata": {},
   "outputs": [
    {
     "data": {
      "text/plain": [
       "2"
      ]
     },
     "execution_count": 33,
     "metadata": {},
     "output_type": "execute_result"
    }
   ],
   "source": [
    "order = 1\n",
    "degree = 2*order"
   ]
  },
  {
   "cell_type": "code",
   "execution_count": 34,
   "id": "stuck-parent",
   "metadata": {},
   "outputs": [
    {
     "data": {
      "text/plain": [
       "Measure()"
      ]
     },
     "execution_count": 34,
     "metadata": {},
     "output_type": "execute_result"
    }
   ],
   "source": [
    "Ω = Triangulation(model)\n",
    "dΩ = Measure(Ω,degree)"
   ]
  },
  {
   "cell_type": "code",
   "execution_count": 35,
   "id": "focal-alliance",
   "metadata": {},
   "outputs": [
    {
     "data": {
      "text/plain": [
       "GenericCellField():\n",
       " num_cells: 18\n",
       " DomainStyle: ReferenceDomain()\n",
       " Triangulation: BoundaryTriangulation()\n",
       " Triangulation id: 6821028317340143865"
      ]
     },
     "execution_count": 35,
     "metadata": {},
     "output_type": "execute_result"
    }
   ],
   "source": [
    "LoadTagId = get_tag_from_name(labels,\"TopEdge\")\n",
    "Γ_Load = BoundaryTriangulation(model,tags = LoadTagId)\n",
    "dΓ_Load = Measure(Γ_Load,degree)\n",
    "n_Γ_Load = get_normal_vector(Γ_Load)"
   ]
  },
  {
   "cell_type": "code",
   "execution_count": 36,
   "id": "incorporated-decade",
   "metadata": {},
   "outputs": [
    {
     "data": {
      "text/plain": [
       "SingleFieldFEFunction():\n",
       " num_cells: 22823\n",
       " DomainStyle: ReferenceDomain()\n",
       " Triangulation: BodyFittedTriangulation()\n",
       " Triangulation id: 10915647507809612255"
      ]
     },
     "execution_count": 36,
     "metadata": {},
     "output_type": "execute_result"
    }
   ],
   "source": [
    "reffe_PF = ReferenceFE(lagrangian,Float64,order)\n",
    "V0_PF = TestFESpace(model,reffe_PF;\n",
    "  conformity=:H1)\n",
    "U_PF = TrialFESpace(V0_PF)\n",
    "sh = zero(V0_PF)"
   ]
  },
  {
   "cell_type": "code",
   "execution_count": 37,
   "id": "victorian-utilization",
   "metadata": {},
   "outputs": [
    {
     "data": {
      "text/plain": [
       "SingleFieldFEFunction():\n",
       " num_cells: 22823\n",
       " DomainStyle: ReferenceDomain()\n",
       " Triangulation: BodyFittedTriangulation()\n",
       " Triangulation id: 10915647507809612255"
      ]
     },
     "execution_count": 37,
     "metadata": {},
     "output_type": "execute_result"
    }
   ],
   "source": [
    "reffe_Disp = ReferenceFE(lagrangian,VectorValue{2,Float64},order)\n",
    "        V0_Disp = TestFESpace(model,reffe_Disp;\n",
    "          conformity=:H1,\n",
    "          dirichlet_tags=[\"TopEdge\",\"BottomEdge\"],\n",
    "          dirichlet_masks=[(false,true), (true,true)])\n",
    "\n",
    "uh = zero(V0_Disp)"
   ]
  },
  {
   "cell_type": "code",
   "execution_count": 38,
   "id": "unique-iceland",
   "metadata": {},
   "outputs": [
    {
     "data": {
      "text/plain": [
       "SingleFieldFEFunction():\n",
       " num_cells: 22823\n",
       " DomainStyle: ReferenceDomain()\n",
       " Triangulation: BodyFittedTriangulation()\n",
       " Triangulation id: 10915647507809612255"
      ]
     },
     "execution_count": 38,
     "metadata": {},
     "output_type": "execute_result"
    }
   ],
   "source": [
    "reffe_ElecPot = ReferenceFE(lagrangian,Float64,order)\n",
    "V0_ElecPot  = TestFESpace(model,reffe_ElecPot;\n",
    "  conformity=:H1,\n",
    "  dirichlet_tags=[\"TopEdge\",\"BottomEdge\"])\n",
    "ϕh = zero(V0_ElecPot)"
   ]
  },
  {
   "cell_type": "code",
   "execution_count": 39,
   "id": "77458b93",
   "metadata": {},
   "outputs": [
    {
     "data": {
      "text/plain": [
       "SingleFieldFEFunction():\n",
       " num_cells: 22823\n",
       " DomainStyle: ReferenceDomain()\n",
       " Triangulation: BodyFittedTriangulation()\n",
       " Triangulation id: 10915647507809612255"
      ]
     },
     "execution_count": 39,
     "metadata": {},
     "output_type": "execute_result"
    }
   ],
   "source": [
    "reffe_Temp = ReferenceFE(lagrangian,Float64,order)\n",
    "V0_Temp = FESpace(model,reffe_Temp;\n",
    "  conformity=:H1,\n",
    "  dirichlet_tags=[\"TopEdge\",\"BottomEdge\"])\n",
    "Th = zero(V0_Temp)"
   ]
  },
  {
   "cell_type": "code",
   "execution_count": 40,
   "id": "accredited-startup",
   "metadata": {},
   "outputs": [
    {
     "data": {
      "text/plain": [
       "MultiFieldFESpace()"
      ]
     },
     "execution_count": 40,
     "metadata": {},
     "output_type": "execute_result"
    }
   ],
   "source": [
    "V0 = MultiFieldFESpace([V0_Disp,V0_ElecPot,V0_Temp])"
   ]
  },
  {
   "cell_type": "code",
   "execution_count": 41,
   "id": "terminal-saint",
   "metadata": {},
   "outputs": [
    {
     "data": {
      "text/plain": [
       "stepPhaseField (generic function with 1 method)"
      ]
     },
     "execution_count": 41,
     "metadata": {},
     "output_type": "execute_result"
    }
   ],
   "source": [
    "function  stepPhaseField(uh_in,ψPlusPrev_in)\n",
    "        \n",
    "        a_PF(s,ϕ) = ∫( Gc*lsp*∇(ϕ)⋅ ∇(s) + 2*ψPlusPrev_in*s*ϕ  + (Gc/lsp)*s*ϕ )*dΩ\n",
    "        b_PF(ϕ) = ∫( (Gc/lsp)*ϕ )*dΩ\n",
    "        op_PF = AffineFEOperator(a_PF,b_PF,U_PF,V0_PF)\n",
    "        sh_out = Gridap.solve(op_PF)           \n",
    "    \n",
    "    return sh_out\n",
    "    \n",
    "end"
   ]
  },
  {
   "cell_type": "code",
   "execution_count": 42,
   "id": "broadband-tracker",
   "metadata": {},
   "outputs": [
    {
     "data": {
      "text/plain": [
       "stepDispElecPotTemp (generic function with 1 method)"
      ]
     },
     "execution_count": 42,
     "metadata": {},
     "output_type": "execute_result"
    }
   ],
   "source": [
    " function   stepDispElecPotTemp(uh_in,phih_in,Th_in,sh_in,vApp,phiApp,TApp,delt)\n",
    "    \n",
    "        uApp1(x) = VectorValue(0.0,vApp)\n",
    "        uApp2(x) = VectorValue(0.0,0.0)\n",
    "        U_Disp = TrialFESpace(V0_Disp,[uApp1,uApp2])\n",
    "    \n",
    "        phiApp1(x) = phiApp\n",
    "        phiApp2(x) = 0.0\n",
    "        U_ElecPot = TrialFESpace(V0_ElecPot,[phiApp1,phiApp2])\n",
    "    \n",
    "        Tapp1(x) = TApp\n",
    "        Tapp2(x) = T0\n",
    "        U_Temp = TrialFESpace(V0_Temp,[Tapp1,Tapp2])\n",
    "    \n",
    "        U = MultiFieldFESpace([U_Disp,U_ElecPot,U_Temp])\n",
    "    \n",
    "        a((u,ϕ,T),(v,φ,ϑ)) = ∫( ((ε(v)) ⊙ (σ_TotMod1∘(ε(u), ε(uh_in), sh_in, Th_in))) \n",
    "                              + ((ε(v)) ⊙ (σ_TotMod2∘(T, ε(uh_in), sh_in, Th_in)))\n",
    "                              + ((ε(v)) ⊙ (σ_piezoMod∘(∇(ϕ), sh_in)))\n",
    "                              - ((∇(φ))⋅(D_piezoMod∘(∇(ϕ), sh_in))) \n",
    "                              + ((∇(φ))⋅(D_elasMod1∘(ε(u), sh_in)))\n",
    "                              + ((∇(φ))⋅(D_elasMod2∘(T, sh_in)))\n",
    "                              + ((∇(ϑ))⋅(κGradTemp∘(∇(T),sh_in))) \n",
    "                              + (ϑ*((ρ*c*T)/delt)) )*dΩ\n",
    "        b((v,φ,ϑ)) = ∫( -(ε(v) ⊙ (σ_thermMod∘(ε(uh_in),sh_in,Th_in)))\n",
    "                      - (∇(φ)⋅(D_ThermMod∘(sh_in))) \n",
    "                      + (ϑ*((ρ*c*Th_in)/delt)) )*dΩ\n",
    "    \n",
    "        op = AffineFEOperator(a,b,U,V0)\n",
    "        uhPhi = Gridap.solve(op)\n",
    "        uh_out,phih_out,Th_out = uhPhi\n",
    "    \n",
    "    return uh_out,phih_out,Th_out\n",
    "end"
   ]
  },
  {
   "cell_type": "code",
   "execution_count": 43,
   "id": "electoral-disability",
   "metadata": {
    "scrolled": true
   },
   "outputs": [
    {
     "name": "stdout",
     "output_type": "stream",
     "text": [
      "\n",
      " Entering displacemtent step1 :3.5e-8\n",
      " Relative error = 4.30349799287982e-17\n",
      " Entering displacemtent step2 :7.0e-8\n",
      " Relative error = 5.143966561398639e-6\n",
      " Relative error = 2.475313710445971e-5\n",
      " Relative error = 1.471257009019955e-7\n",
      " Relative error = 1.2236319056737062e-7\n",
      " Relative error = 1.0627707806366448e-7\n",
      " Relative error = 9.377731645090955e-8\n",
      " Relative error = 8.308673513778734e-8\n",
      " Relative error = 7.374707340871201e-8\n",
      " Relative error = 6.549356968559654e-8\n",
      " Relative error = 5.819133291155267e-8\n",
      " Entering displacemtent step3 :1.05e-7\n",
      " Relative error = 5.1664918312697036e-8\n",
      " Relative error = 4.4706834207617645e-5\n",
      " Relative error = 1.354523209161539e-7\n",
      " Relative error = 1.1284800799788077e-7\n",
      " Relative error = 9.827257526965974e-8\n",
      " Relative error = 8.66522087653418e-8\n",
      " Relative error = 7.673375029510859e-8\n",
      " Relative error = 6.810086827731528e-8\n",
      " Relative error = 6.036322405615511e-8\n",
      " Relative error = 5.3501678807703846e-8\n",
      " Entering displacemtent step4 :1.4e-7\n",
      " Relative error = 4.7407526767085694e-8\n",
      " Relative error = 6.450784717918412e-5\n",
      " Relative error = 1.6933666088994362e-7\n",
      " Relative error = 1.373944472475222e-7\n",
      " Relative error = 1.1866893659546565e-7\n",
      " Relative error = 1.0423458673530873e-7\n",
      " Relative error = 9.222084316910042e-8\n",
      " Relative error = 8.166760935666366e-8\n",
      " Relative error = 7.236441313933204e-8\n",
      " Relative error = 6.417180910958864e-8\n",
      " Entering displacemtent step5 :1.7500000000000002e-7\n",
      " Relative error = 5.693334476610464e-8\n",
      " Relative error = 8.431305183210448e-5\n",
      " Relative error = 2.367143677081031e-7\n",
      " Relative error = 1.896334698216134e-7\n",
      " Relative error = 1.635232228265306e-7\n",
      " Relative error = 1.4348404515170428e-7\n",
      " Relative error = 1.268339253810276e-7\n",
      " Relative error = 1.1238620450734006e-7\n",
      " Relative error = 9.956027885137319e-8\n",
      " Relative error = 8.822697345305701e-8\n",
      " Entering displacemtent step6 :2.1e-7\n",
      " Relative error = 7.822027137142773e-8\n",
      " Relative error = 0.00010273174308053031\n",
      " Relative error = 3.315921238112314e-7\n",
      " Relative error = 2.635370596724361e-7\n",
      " Relative error = 2.275461049569406e-7\n",
      " Relative error = 1.9967189382557816e-7\n",
      " Relative error = 1.7646649996366083e-7\n",
      " Relative error = 1.5641889550783395e-7\n",
      " Relative error = 1.3858558451534085e-7\n",
      " Relative error = 1.2280610869983822e-7\n",
      " Entering displacemtent step7 :2.4500000000000004e-7\n",
      " Relative error = 1.0884608434860653e-7\n",
      " Relative error = 9.029053220296146e-5\n",
      " Relative error = 4.307223527912711e-7\n",
      " Relative error = 3.436051951631362e-7\n",
      " Relative error = 2.963001075950776e-7\n",
      " Relative error = 2.599372776485892e-7\n",
      " Relative error = 2.2974120637411235e-7\n",
      " Relative error = 2.0365453736243322e-7\n",
      " Relative error = 1.804537381860843e-7\n",
      " Relative error = 1.5992826189490386e-7\n",
      " Entering displacemtent step8 :2.8e-7\n",
      " Relative error = 1.417647630159248e-7\n",
      " Relative error = 0.00010086250534355312\n",
      " Relative error = 5.520751298033589e-7\n",
      " Relative error = 4.3918343376826503e-7\n",
      " Relative error = 3.790036131759477e-7\n",
      " Relative error = 3.3255967877994995e-7\n",
      " Relative error = 2.939940919433852e-7\n",
      " Relative error = 2.6067582071216244e-7\n",
      " Relative error = 2.3103350842503022e-7\n",
      " Relative error = 2.0479590999964517e-7\n",
      " Entering displacemtent step9 :3.15e-7\n",
      " Relative error = 1.8157045816936394e-7\n",
      " Relative error = 0.00011149098720868599\n",
      " Relative error = 6.946850727621165e-7\n",
      " Relative error = 5.506076331601021e-7\n",
      " Relative error = 4.756871508080522e-7\n",
      " Relative error = 4.1749498752151284e-7\n",
      " Relative error = 3.691498987604022e-7\n",
      " Relative error = 3.2734354901564144e-7\n",
      " Relative error = 2.9016857282018017e-7\n",
      " Relative error = 2.572568844366629e-7\n",
      " Entering displacemtent step10 :3.5e-7\n",
      " Relative error = 2.2812603555177786e-7\n",
      " Relative error = 0.00012218799504921967\n",
      " Relative error = 8.593830359262909e-7\n",
      " Relative error = 6.781266181442438e-7\n",
      " Relative error = 5.866827342500877e-7\n",
      " Relative error = 5.149717781100902e-7\n",
      " Relative error = 4.5544462189556395e-7\n",
      " Relative error = 4.039111211088667e-7\n",
      " Relative error = 3.580735720255817e-7\n",
      " Relative error = 3.1752159797580977e-7\n",
      " Entering displacemtent step11 :3.8499999999999997e-7\n",
      " Relative error = 2.816116267796844e-7\n",
      " Relative error = 0.00013295892320231586\n",
      " Relative error = 1.0452902737772994e-6\n",
      " Relative error = 8.209675589928047e-7\n",
      " Relative error = 7.115906972827941e-7\n",
      " Relative error = 6.247291699432314e-7\n",
      " Relative error = 5.526951065881409e-7\n",
      " Relative error = 4.902029757301789e-7\n",
      " Relative error = 4.3462684384274014e-7\n",
      " Relative error = 3.8548395243953966e-7\n",
      " Entering displacemtent step12 :4.1999999999999995e-7\n",
      " Relative error = 3.419465490628655e-7\n",
      " Relative error = 0.00014380626779204235\n",
      " Relative error = 1.252112135581407e-6\n",
      " Relative error = 9.778697051856985e-7\n",
      " Relative error = 8.495297102173481e-7\n",
      " Relative error = 7.460107234200154e-7\n",
      " Relative error = 6.601702172654619e-7\n",
      " Relative error = 5.855593796024288e-7\n",
      " Relative error = 5.192509859508578e-7\n",
      " Relative error = 4.6057637665385046e-7\n",
      " Entering displacemtent step13 :4.5499999999999993e-7\n",
      " Relative error = 4.0865554337614736e-7\n",
      " Relative error = 0.00015471377060821803\n",
      " Relative error = 1.477985281877355e-6\n",
      " Relative error = 1.1466509103749501e-6\n",
      " Relative error = 9.98878849588149e-7\n",
      " Relative error = 8.7741679119361e-7\n",
      " Relative error = 7.766176338925488e-7\n",
      " Relative error = 6.88933117621628e-7\n",
      " Relative error = 6.109998936433775e-7\n",
      " Relative error = 5.419921408943645e-7\n",
      " Entering displacemtent step14 :4.9e-7\n",
      " Relative error = 4.809810754877516e-7\n",
      " Relative error = 0.00016568435524578926\n",
      " Relative error = 1.7205888748946618e-6\n",
      " Relative error = 1.324643155879718e-6\n",
      " Relative error = 1.1577277290608236e-6\n",
      " Relative error = 1.0173163585033635e-6\n",
      " Relative error = 9.006632096109446e-7\n",
      " Relative error = 7.991374807895741e-7\n",
      " Relative error = 7.08810673421084e-7\n",
      " Relative error = 6.288244391468116e-7\n",
      " Entering displacemtent step15 :5.25e-7\n",
      " Relative error = 5.5811978521999e-7\n",
      " Relative error = 0.0001767096153842153\n",
      " Relative error = 1.9764573317706394e-6\n",
      " Relative error = 1.508232448272675e-6\n",
      " Relative error = 1.323004255601282e-6\n",
      " Relative error = 1.163127778728243e-6\n",
      " Relative error = 1.0299742480722257e-6\n",
      " Relative error = 9.140544915328509e-7\n",
      " Relative error = 8.108554533214286e-7\n",
      " Relative error = 7.194120525327391e-7\n",
      " Entering displacemtent step16 :5.6e-7\n",
      " Relative error = 6.386138712310246e-7\n",
      " Relative error = 0.00018777549262415314\n",
      " Relative error = 2.2419363139804775e-6\n",
      " Relative error = 1.6929937166337615e-6\n",
      " Relative error = 1.4911339446282199e-6\n",
      " Relative error = 1.3118448757515456e-6\n",
      " Relative error = 1.1620511555614844e-6\n",
      " Relative error = 1.0313616414682704e-6\n",
      " Relative error = 9.151145649680617e-7\n",
      " Relative error = 8.119978879358419e-7\n",
      " Entering displacemtent step17 :5.95e-7\n",
      " Relative error = 7.209032680128521e-7\n",
      " Relative error = 0.00019886603950444585\n",
      " Relative error = 2.512413427947833e-6\n",
      " Relative error = 1.8740910607090957e-6\n",
      " Relative error = 1.657872348033129e-6\n",
      " Relative error = 1.4599981799156484e-6\n",
      " Relative error = 1.2939263990493487e-6\n",
      " Relative error = 1.1484742494975617e-6\n",
      " Relative error = 1.0192334962505454e-6\n",
      " Relative error = 9.045210055490732e-7\n",
      " Entering displacemtent step18 :6.300000000000001e-7\n",
      " Relative error = 8.031653448107732e-7\n",
      " Relative error = 0.0002099629442186002\n",
      " Relative error = 2.7829356145250544e-6\n",
      " Relative error = 2.0464608446165066e-6\n",
      " Relative error = 1.818153835716467e-6\n",
      " Relative error = 1.6037972966885763e-6\n",
      " Relative error = 1.4220583417488177e-6\n",
      " Relative error = 1.2624028188009226e-6\n",
      " Relative error = 1.1204974781238073e-6\n",
      " Relative error = 9.945981634343237e-7\n",
      " Entering displacemtent step19 :6.650000000000001e-7\n",
      " Relative error = 8.833204647821913e-7\n",
      " Relative error = 0.00022104736481623594\n",
      " Relative error = 3.0484847081078062e-6\n",
      " Relative error = 2.2051031074168688e-6\n",
      " Relative error = 1.9663585015621915e-6\n",
      " Relative error = 1.7392227882700816e-6\n",
      " Relative error = 1.5428156913766712e-6\n",
      " Relative error = 1.3701602886637515e-6\n",
      " Relative error = 1.2162449005930981e-6\n",
      " Relative error = 1.079801073255213e-6\n",
      " Entering displacemtent step20 :7.000000000000001e-7\n",
      " Relative error = 9.591874484445092e-7\n",
      " Relative error = 0.00023210035233844968\n",
      " Relative error = 3.304514553089946e-6\n",
      " Relative error = 2.3457394221686717e-6\n",
      " Relative error = 2.096729392899989e-6\n",
      " Relative error = 1.8617624991084049e-6\n",
      " Relative error = 1.6527030456626803e-6\n",
      " Relative error = 1.4684735098890915e-6\n",
      " Relative error = 1.3038281993780454e-6\n",
      " Relative error = 1.1576676414040974e-6\n",
      " Entering displacemtent step21 :7.350000000000002e-7\n",
      " Relative error = 1.0285530056517612e-6\n",
      " Relative error = 0.00024309992417337445\n",
      " Relative error = 3.546538795828837e-6\n",
      " Relative error = 2.4650127712330196e-6\n",
      " Relative error = 2.2031101072384055e-6\n",
      " Relative error = 1.9661556072258155e-6\n",
      " Relative error = 1.7484693266462618e-6\n",
      " Relative error = 1.5540276562536794e-6\n",
      " Relative error = 1.3804610201926896e-6\n",
      " Relative error = 1.2259578894031674e-6\n",
      " Entering displacemtent step22 :7.700000000000001e-7\n",
      " Relative error = 1.08926778527756e-6\n",
      " Relative error = 0.00025402747352279203\n",
      " Relative error = 3.771995967673598e-6\n",
      " Relative error = 2.5596390029173844e-6\n",
      " Relative error = 2.280295808306895e-6\n",
      " Relative error = 2.048210858468276e-6\n",
      " Relative error = 1.826215474770371e-6\n",
      " Relative error = 1.6240842863053156e-6\n",
      " Relative error = 1.4435048824674637e-6\n",
      " Relative error = 1.2824740033285379e-6\n",
      " Entering displacemtent step23 :8.050000000000002e-7\n",
      " Relative error = 1.1396910364603236e-6\n",
      " Relative error = 0.0002648647439733582\n",
      " Relative error = 3.97703144474828e-6\n",
      " Relative error = 2.627781125448076e-6\n",
      " Relative error = 2.326752137014806e-6\n",
      " Relative error = 2.1035158577738655e-6\n",
      " Relative error = 1.881492196025956e-6\n",
      " Relative error = 1.6765885346149456e-6\n",
      " Relative error = 1.49063139395291e-6\n",
      " Relative error = 1.3250880132218795e-6\n",
      " Entering displacemtent step24 :8.400000000000002e-7\n",
      " Relative error = 1.177922296391412e-6\n",
      " Relative error = 0.00027559414865531336\n",
      " Relative error = 4.159896579475268e-6\n",
      " Relative error = 2.6670793481009044e-6\n",
      " Relative error = 2.344177876253341e-6\n",
      " Relative error = 2.127916662652018e-6\n",
      " Relative error = 1.9116384995081504e-6\n",
      " Relative error = 1.707367239256671e-6\n",
      " Relative error = 1.5203844048570564e-6\n",
      " Relative error = 1.3521089786483517e-6\n",
      " Entering displacemtent step25 :8.750000000000002e-7\n",
      " Relative error = 1.2026185623310683e-6\n",
      " Relative error = 0.00028619916774130257\n",
      " Relative error = 4.320031936763862e-6\n",
      " Relative error = 2.679326105219095e-6\n",
      " Relative error = 2.335229249573932e-6\n",
      " Relative error = 2.1157196388509105e-6\n",
      " Relative error = 1.9147304085114527e-6\n",
      " Relative error = 1.7144327990573993e-6\n",
      " Relative error = 1.5300065533393402e-6\n",
      " Relative error = 1.3625215276975356e-6\n",
      " Entering displacemtent step26 :9.100000000000002e-7\n",
      " Relative error = 1.2125889052384048e-6\n",
      " Relative error = 0.00029666891544469985\n",
      " Relative error = 4.459050322655486e-6\n",
      " Relative error = 2.6636445374976487e-6\n",
      " Relative error = 2.301597363111231e-6\n",
      " Relative error = 2.072690697314281e-6\n",
      " Relative error = 1.8874304470341142e-6\n",
      " Relative error = 1.6968895242748092e-6\n",
      " Relative error = 1.5171146025498407e-6\n",
      " Relative error = 1.3541988301425703e-6\n",
      " Entering displacemtent step27 :9.450000000000003e-7\n",
      " Relative error = 1.2069346642585003e-6\n",
      " Relative error = 0.000306994961796372\n",
      " Relative error = 4.581022357807098e-6\n",
      " Relative error = 2.621579842377927e-6\n",
      " Relative error = 2.2414315051014844e-6\n",
      " Relative error = 2.0117398812125658e-6\n",
      " Relative error = 1.8240390691569327e-6\n",
      " Relative error = 1.654463447840562e-6\n",
      " Relative error = 1.4833806800573338e-6\n",
      " Relative error = 1.325229997726875e-6\n",
      " Entering displacemtent step28 :9.800000000000004e-7\n",
      " Relative error = 1.1835765488746388e-6\n",
      " Relative error = 0.00031716604686497383\n",
      " Relative error = 4.691820158914968e-6\n",
      " Relative error = 2.553752724975852e-6\n",
      " Relative error = 2.1598194332646636e-6\n",
      " Relative error = 1.9310694132613913e-6\n",
      " Relative error = 1.7446374591883264e-6\n",
      " Relative error = 1.578245421085807e-6\n",
      " Relative error = 1.4266826860823008e-6\n",
      " Relative error = 1.27951817870613e-6\n",
      " Entering displacemtent step29 :1.0150000000000002e-6\n",
      " Relative error = 1.1436831903582028e-6\n",
      " Relative error = 0.0003271699754567917\n",
      " Relative error = 4.8029581382037444e-6\n",
      " Relative error = 2.4600436749424974e-6\n",
      " Relative error = 2.055371659483762e-6\n",
      " Relative error = 1.8349406795037043e-6\n",
      " Relative error = 1.6532925007067768e-6\n",
      " Relative error = 1.4906120071764075e-6\n",
      " Relative error = 1.3425009460105186e-6\n",
      " Relative error = 1.2101707227012742e-6\n",
      " Entering displacemtent step30 :1.0500000000000003e-6\n",
      " Relative error = 1.0875565074918524e-6\n",
      " Relative error = 0.0003369971308073238\n",
      " Relative error = 4.9183125858697015e-6\n",
      " Relative error = 2.3462184200967028e-6\n",
      " Relative error = 1.936452551068206e-6\n",
      " Relative error = 1.7211960935692795e-6\n",
      " Relative error = 1.550604147181752e-6\n",
      " Relative error = 1.395247637187872e-6\n",
      " Relative error = 1.255066617793743e-6\n",
      " Relative error = 1.12684839157466e-6\n",
      " Entering displacemtent step31 :1.0850000000000004e-6\n",
      " Relative error = 1.010898681670937e-6\n",
      " Relative error = 0.0003466252044485893\n",
      " Relative error = 5.048469257171654e-6\n",
      " Relative error = 2.2203055557547645e-6\n",
      " Relative error = 1.8038539919006667e-6\n",
      " Relative error = 1.5930461429467816e-6\n",
      " Relative error = 1.4362437572232922e-6\n",
      " Relative error = 1.292423981336164e-6\n",
      " Relative error = 1.1610778749981065e-6\n",
      " Relative error = 1.0419389242404376e-6\n",
      " Entering displacemtent step32 :1.1200000000000005e-6\n",
      " Relative error = 9.344631459792213e-7\n",
      " Relative error = 0.0003560365712824525\n",
      " Relative error = 5.199589421306827e-6\n",
      " Relative error = 2.092490403891516e-6\n",
      " Relative error = 1.6559431180106328e-6\n",
      " Relative error = 1.461929985196632e-6\n",
      " Relative error = 1.3106141344501296e-6\n",
      " Relative error = 1.1820986547938847e-6\n",
      " Relative error = 1.0619649674364113e-6\n",
      " Relative error = 9.536923909213188e-7\n",
      " Entering displacemtent step33 :1.1550000000000004e-6\n",
      " Relative error = 8.541941071673168e-7\n",
      " Relative error = 0.0003652489832203353\n",
      " Relative error = 5.374285081137207e-6\n",
      " Relative error = 1.9717610794314996e-6\n",
      " Relative error = 1.5082178339065362e-6\n",
      " Relative error = 1.3179522921266205e-6\n",
      " Relative error = 1.186433864030596e-6\n",
      " Relative error = 1.064751732886115e-6\n",
      " Relative error = 9.585782539451118e-7\n",
      " Relative error = 8.615914575299004e-7\n",
      " Entering displacemtent step34 :1.1900000000000005e-6\n",
      " Relative error = 7.713184493206398e-7\n",
      " Relative error = 0.0003742727610684762\n",
      " Relative error = 5.577668772745501e-6\n",
      " Relative error = 1.8749899989006383e-6\n",
      " Relative error = 1.3550188656480542e-6\n",
      " Relative error = 1.1762952415429588e-6\n",
      " Relative error = 1.0535719029512638e-6\n",
      " Relative error = 9.493574894349393e-7\n",
      " Relative error = 8.549917215006539e-7\n",
      " Relative error = 7.661646363549386e-7\n",
      " Entering displacemtent step35 :1.2250000000000006e-6\n",
      " Relative error = 6.879363521564641e-7\n",
      " Relative error = 0.000383112178377728\n",
      " Relative error = 5.811856736343907e-6\n",
      " Relative error = 1.8040421809981683e-6\n",
      " Relative error = 1.2182967452268005e-6\n",
      " Relative error = 1.0319713968286943e-6\n",
      " Relative error = 9.236491230906889e-7\n",
      " Relative error = 8.325757972987692e-7\n",
      " Relative error = 7.489984969419566e-7\n",
      " Relative error = 6.739789897855648e-7\n",
      " Entering displacemtent step36 :1.2600000000000004e-6\n",
      " Relative error = 6.059351960017528e-7\n",
      " Relative error = 0.0003917724943453471\n",
      " Relative error = 6.076388760938124e-6\n",
      " Relative error = 1.763524872105501e-6\n",
      " Relative error = 1.103877224071552e-6\n",
      " Relative error = 9.015432342844347e-7\n",
      " Relative error = 7.981375050461375e-7\n",
      " Relative error = 7.179656023330735e-7\n",
      " Relative error = 6.462136805746923e-7\n",
      " Relative error = 5.829632564282337e-7\n",
      " Entering displacemtent step37 :1.2950000000000005e-6\n",
      " Relative error = 5.239956298732152e-7\n",
      " Relative error = 0.000400256955476079\n",
      " Relative error = 6.3764652517878195e-6\n",
      " Relative error = 1.7547484149528403e-6\n",
      " Relative error = 1.0113396509696617e-6\n",
      " Relative error = 7.882703302951646e-7\n",
      " Relative error = 6.843244974455164e-7\n",
      " Relative error = 6.127272231614369e-7\n",
      " Relative error = 5.516341413474017e-7\n",
      " Relative error = 4.966586590906588e-7\n",
      " Entering displacemtent step38 :1.3300000000000006e-6\n",
      " Relative error = 4.461813467842725e-7\n",
      " Relative error = 0.0004085625524048869\n",
      " Relative error = 6.713474349625209e-6\n",
      " Relative error = 1.7769316152759376e-6\n",
      " Relative error = 9.455958569022694e-7\n"
     ]
    },
    {
     "name": "stdout",
     "output_type": "stream",
     "text": [
      " Relative error = 6.939219325275422e-7\n",
      " Relative error = 5.852648761410089e-7\n",
      " Relative error = 5.180365887837949e-7\n",
      " Relative error = 4.648983031501113e-7\n",
      " Relative error = 4.1787195087464596e-7\n",
      " Entering displacemtent step39 :1.3650000000000007e-6\n",
      " Relative error = 3.7632924343700964e-7\n",
      " Relative error = 0.00041669864744932485\n",
      " Relative error = 7.0887684984296436e-6\n",
      " Relative error = 1.8323337362642887e-6\n",
      " Relative error = 9.070521157317664e-7\n",
      " Relative error = 6.19736091452076e-7\n",
      " Relative error = 5.022059156309087e-7\n",
      " Relative error = 4.359139090847126e-7\n",
      " Relative error = 3.883434736025651e-7\n",
      " Relative error = 3.4859515729841394e-7\n",
      " Entering displacemtent step40 :1.4000000000000006e-6\n",
      " Relative error = 3.141329522886667e-7\n",
      " Relative error = 0.0004246740690193188\n",
      " Relative error = 7.5037019551090075e-6\n",
      " Relative error = 1.9260814249326833e-6\n",
      " Relative error = 8.94189315022351e-7\n",
      " Relative error = 5.674375628636243e-7\n",
      " Relative error = 4.347188323792768e-7\n",
      " Relative error = 3.664876552328147e-7\n",
      " Relative error = 3.237863639691786e-7\n",
      " Relative error = 2.8924709160605626e-7\n",
      " Entering displacemtent step41 :1.4350000000000007e-6\n",
      " Relative error = 2.590831366909186e-7\n",
      " Relative error = 0.00043249632817999104\n",
      " Relative error = 7.958888576994097e-6\n",
      " Relative error = 2.0577669035562918e-6\n",
      " Relative error = 9.127208584283129e-7\n",
      " Relative error = 5.386182799797286e-7\n",
      " Relative error = 3.8403187734968004e-7\n",
      " Relative error = 3.103990869385158e-7\n",
      " Relative error = 2.682657323859304e-7\n",
      " Relative error = 2.3716413094571773e-7\n",
      " Entering displacemtent step42 :1.4700000000000007e-6\n",
      " Relative error = 2.115634662917147e-7\n",
      " Relative error = 0.0004401711159283395\n",
      " Relative error = 8.455935288595938e-6\n",
      " Relative error = 2.2281622085007416e-6\n",
      " Relative error = 9.658614826854243e-7\n",
      " Relative error = 5.322331823731011e-7\n",
      " Relative error = 3.548034992385912e-7\n",
      " Relative error = 2.7038286280778776e-7\n",
      " Relative error = 2.2378226619636023e-7\n",
      " Relative error = 1.9388115285379376e-7\n",
      " Entering displacemtent step43 :1.5050000000000006e-6\n",
      " Relative error = 1.7114937129731017e-7\n",
      " Relative error = 0.0004476875758539707\n",
      " Relative error = 8.995703397609047e-6\n",
      " Relative error = 2.4408041992974882e-6\n",
      " Relative error = 1.0539285578354048e-6\n",
      " Relative error = 5.549336408667336e-7\n",
      " Relative error = 3.4200025490588034e-7\n",
      " Relative error = 2.442671601106422e-7\n",
      " Relative error = 1.9331672528730973e-7\n",
      " Relative error = 1.6217357364537597e-7\n",
      " Entering displacemtent step44 :1.5400000000000007e-6\n",
      " Relative error = 1.4051767909969338e-7\n",
      " Relative error = 0.0004550323755992512\n",
      " Relative error = 9.580110350395847e-6\n",
      " Relative error = 2.700487969490622e-6\n",
      " Relative error = 1.1813262332961134e-6\n",
      " Relative error = 6.077620808979269e-7\n",
      " Relative error = 3.5398435670247234e-7\n",
      " Relative error = 2.3365600584434074e-7\n",
      " Relative error = 1.7173566003537785e-7\n",
      " Relative error = 1.3732710488106366e-7\n",
      " Entering displacemtent step45 :1.5750000000000008e-6\n",
      " Relative error = 1.1567703003948657e-7\n",
      " Relative error = 0.0004621921306848165\n",
      " Relative error = 1.0210623983900559e-5\n",
      " Relative error = 3.0120634378860564e-6\n",
      " Relative error = 1.3543280236752735e-6\n",
      " Relative error = 6.993844076260137e-7\n",
      " Relative error = 3.9239010875836427e-7\n",
      " Relative error = 2.416991661473171e-7\n",
      " Relative error = 1.6475067807271962e-7\n",
      " Relative error = 1.2300265236641445e-7\n",
      " Entering displacemtent step46 :1.6100000000000009e-6\n",
      " Relative error = 9.834840153342105e-8\n",
      " Relative error = 0.0004691208648949174\n",
      " Relative error = 1.0889992143989993e-5\n",
      " Relative error = 3.381799928011993e-6\n",
      " Relative error = 1.5845418030004665e-6\n",
      " Relative error = 8.335847447608602e-7\n",
      " Relative error = 4.664054729742562e-7\n",
      " Relative error = 2.76861123070525e-7\n",
      " Relative error = 1.7603357420363349e-7\n",
      " Relative error = 1.2114804926458436e-7\n",
      " Entering displacemtent step47 :1.6450000000000008e-6\n",
      " Relative error = 8.970290718301982e-8\n",
      " Relative error = 0.0004757573606296634\n",
      " Relative error = 1.162232664349095e-5\n",
      " Relative error = 3.817651939176934e-6\n",
      " Relative error = 1.8818501990946536e-6\n",
      " Relative error = 1.0284839996519607e-6\n",
      " Relative error = 5.85913487300327e-7\n",
      " Relative error = 3.457756935749295e-7\n",
      " Relative error = 2.1238232229936217e-7\n",
      " Relative error = 1.3772904993218283e-7\n",
      " Entering displacemtent step48 :1.6800000000000009e-6\n",
      " Relative error = 9.480772631286845e-8\n",
      " Relative error = 0.00048201221694689966\n",
      " Relative error = 1.2412488554408321e-5\n",
      " Relative error = 4.331834427863417e-6\n",
      " Relative error = 2.2626255192924594e-6\n",
      " Relative error = 1.301632431684688e-6\n",
      " Relative error = 7.727892109210366e-7\n",
      " Relative error = 4.672002738930204e-7\n",
      " Relative error = 2.8807612228582707e-7\n",
      " Relative error = 1.8277260743611704e-7\n",
      " Entering displacemtent step49 :1.715000000000001e-6\n",
      " Relative error = 1.1945432764740637e-7\n",
      " Relative error = 0.00048774521425455175\n",
      " Relative error = 1.3268825790530404e-5\n",
      " Relative error = 4.9436450039863735e-6\n",
      " Relative error = 2.7532317362721298e-6\n",
      " Relative error = 1.681878611793059e-6\n",
      " Relative error = 1.0550333759278764e-6\n",
      " Relative error = 6.700376310034581e-7\n",
      " Relative error = 4.300026981880653e-7\n",
      " Relative error = 2.7898559773553424e-7\n",
      " Entering displacemtent step50 :1.7500000000000008e-6\n",
      " Relative error = 1.8321871521838822e-7\n",
      " Relative error = 0.0004927252168916572\n",
      " Relative error = 1.4205697470807013e-5\n",
      " Relative error = 5.683766092500542e-6\n",
      " Relative error = 3.396477574980379e-6\n",
      " Relative error = 2.2199651079894472e-6\n",
      " Relative error = 1.4862921430544344e-6\n",
      " Relative error = 1.0058939590478415e-6\n",
      " Relative error = 6.843837905710797e-7\n",
      " Relative error = 4.6882972191103194e-7\n",
      " Entering displacemtent step51 :1.7850000000000007e-6\n",
      " Relative error = 3.2206074806906423e-7\n",
      " Relative error = 0.0004965675604315191\n",
      " Relative error = 1.525585965817765e-5\n",
      " Relative error = 6.6088870029740926e-6\n",
      " Relative error = 4.268113130570972e-6\n",
      " Relative error = 3.0069283433312627e-6\n",
      " Relative error = 2.1689440705470216e-6\n",
      " Relative error = 1.5809827415922473e-6\n",
      " Relative error = 1.1596182613445888e-6\n",
      " Relative error = 8.541242573536736e-7\n",
      " Entering displacemtent step52 :1.8200000000000008e-6\n",
      " Relative error = 6.310457496286047e-7\n",
      " Relative error = 0.0004985930541738395\n",
      " Relative error = 1.6505077108545764e-5\n",
      " Relative error = 7.85094683379309e-6\n",
      " Relative error = 5.5387025815198054e-6\n",
      " Relative error = 4.247890445630896e-6\n",
      " Relative error = 3.3383663978112404e-6\n",
      " Relative error = 2.6547842038371667e-6\n",
      " Relative error = 2.1265958425756614e-6\n",
      " Relative error = 1.7131980613968633e-6\n",
      " Entering displacemtent step53 :1.8550000000000009e-6\n",
      " Relative error = 1.3865919661312476e-6\n",
      " Relative error = 0.0004975433564423181\n",
      " Relative error = 1.8252119683147945e-5\n",
      " Relative error = 9.783340486896386e-6\n",
      " Relative error = 7.673814806779718e-6\n",
      " Relative error = 6.512906790249154e-6\n",
      " Relative error = 5.673919157496321e-6\n",
      " Relative error = 5.021946790421597e-6\n",
      " Relative error = 4.49401786857093e-6\n",
      " Relative error = 4.060165572877651e-6\n",
      " Entering displacemtent step54 :1.890000000000001e-6\n",
      " Relative error = 3.6977869915067276e-6\n",
      " Relative error = 0.0004900863574896627\n",
      " Relative error = 2.1920734086678865e-5\n",
      " Relative error = 1.4100923505348344e-5\n",
      " Relative error = 1.2800773337855456e-5\n",
      " Relative error = 1.2472684668406267e-5\n",
      " Relative error = 1.2524026773761726e-5\n",
      " Relative error = 1.2842944848266e-5\n",
      " Relative error = 1.3424899427777878e-5\n",
      " Relative error = 1.4303929936182075e-5\n",
      " Entering displacemtent step55 :1.925000000000001e-6\n",
      " Relative error = 1.5523586858860356e-5\n",
      " Relative error = 0.00046766344899265707\n",
      " Relative error = 4.0595618933422546e-5\n",
      " Relative error = 3.773191649848543e-5\n",
      " Relative error = 4.339186407947019e-5\n",
      " Relative error = 5.19283844946272e-5\n",
      " Relative error = 6.254602444852252e-5\n",
      " Relative error = 7.31161978317176e-5\n",
      " Relative error = 8.009783458971483e-5\n",
      " Relative error = 8.201523563693362e-5\n",
      " Entering displacemtent step56 :1.960000000000001e-6\n",
      " Relative error = 8.033869278681232e-5\n",
      " Relative error = 0.00043948214912372557\n",
      " Relative error = 9.940417521196546e-5\n",
      " Relative error = 8.742251625514256e-5\n",
      " Relative error = 8.387518314607157e-5\n",
      " Relative error = 8.101751363321325e-5\n",
      " Relative error = 7.845925068519972e-5\n",
      " Relative error = 7.690101355714556e-5\n",
      " Relative error = 7.499713478218971e-5\n",
      " Relative error = 7.299078078634572e-5\n",
      " Entering displacemtent step57 :1.995000000000001e-6\n",
      " Relative error = 7.209724501072183e-5\n",
      " Relative error = 0.00040640730960822167\n",
      " Relative error = 9.584891826050124e-5\n",
      " Relative error = 8.472390941959098e-5\n",
      " Relative error = 8.231492281580931e-5\n",
      " Relative error = 8.123151733266927e-5\n",
      " Relative error = 8.030510629851139e-5\n",
      " Relative error = 7.946279625736246e-5\n",
      " Relative error = 7.861114611861293e-5\n",
      " Relative error = 7.791416312098018e-5\n",
      " Entering displacemtent step58 :2.030000000000001e-6\n",
      " Relative error = 7.733445883457251e-5\n",
      " Relative error = 0.00039873644895589455\n",
      " Relative error = 0.00010266393717317256\n",
      " Relative error = 9.175424207525683e-5\n",
      " Relative error = 8.971436328787399e-5\n",
      " Relative error = 8.866243475509767e-5\n",
      " Relative error = 8.820227606604068e-5\n",
      " Relative error = 8.7964128375106e-5\n",
      " Relative error = 8.70110694650296e-5\n",
      " Relative error = 8.666149348662242e-5\n",
      " Entering displacemtent step59 :2.065000000000001e-6\n",
      " Relative error = 8.654083309239872e-5\n",
      " Relative error = 0.00038958552934709016\n",
      " Relative error = 0.00011265667815698407\n",
      " Relative error = 0.00010176280430279311\n",
      " Relative error = 9.970226602869768e-5\n",
      " Relative error = 9.878860909314235e-5\n",
      " Relative error = 9.82169800244358e-5\n",
      " Relative error = 9.737430708723127e-5\n",
      " Relative error = 9.644630699145429e-5\n",
      " Relative error = 9.606054148414025e-5\n",
      " Entering displacemtent step60 :2.100000000000001e-6\n",
      " Relative error = 9.546559630749997e-5\n",
      " Relative error = 0.0003779007193208881\n",
      " Relative error = 0.00012267718436145784\n",
      " Relative error = 0.00011131014321191794\n",
      " Relative error = 0.00010918820432027546\n",
      " Relative error = 0.00010819813587416792\n",
      " Relative error = 0.00010777503486473389\n",
      " Relative error = 0.00010705201517057727\n",
      " Relative error = 0.00010630825281866033\n",
      " Relative error = 0.0001058335385199137\n",
      " Entering displacemtent step61 :2.135000000000001e-6\n",
      " Relative error = 0.00010532603905347163\n",
      " Relative error = 0.00036676815344635145\n",
      " Relative error = 0.00013317726264181834\n",
      " Relative error = 0.00012139440637347015\n",
      " Relative error = 0.0001190958347083374\n",
      " Relative error = 0.00011833942305704528\n",
      " Relative error = 0.00011765969280277798\n",
      " Relative error = 0.0001170736821215355\n",
      " Relative error = 0.00011635326383636675\n",
      " Relative error = 0.00011587976281822636\n",
      " Entering displacemtent step62 :2.1700000000000012e-6\n",
      " Relative error = 0.00011547489088678118\n",
      " Relative error = 0.0003549057696059268\n",
      " Relative error = 0.00014400947643140362\n",
      " Relative error = 0.00013226559195471575\n",
      " Relative error = 0.00012997846681124964\n",
      " Relative error = 0.0001291242452016898\n",
      " Relative error = 0.0001284357717454175\n",
      " Relative error = 0.00012785026132894873\n",
      " Relative error = 0.00012719940122498283\n",
      " Relative error = 0.00012651234417253974\n",
      " Entering displacemtent step63 :2.2050000000000013e-6\n",
      " Relative error = 0.00012572119317701976\n",
      " Relative error = 0.00034157404655138247\n",
      " Relative error = 0.00015439902495361504\n",
      " Relative error = 0.0001426200460078911\n",
      " Relative error = 0.00014021205109225938\n",
      " Relative error = 0.0001390252296726076\n",
      " Relative error = 0.00013805779657033036\n",
      " Relative error = 0.00013719564530757954\n",
      " Relative error = 0.00013633852128911225\n",
      " Relative error = 0.00013546711614277368\n",
      " Entering displacemtent step64 :2.240000000000001e-6\n",
      " Relative error = 0.00013462130269317776\n",
      " Relative error = 0.00032668023833703667\n",
      " Relative error = 0.00016393632448940664\n",
      " Relative error = 0.00015184637364552665\n",
      " Relative error = 0.0001492720838656997\n",
      " Relative error = 0.00014802323451399514\n",
      " Relative error = 0.0001469913568361748\n",
      " Relative error = 0.00014602983127057009\n",
      " Relative error = 0.00014513468188431786\n",
      " Relative error = 0.00014427228788244028\n",
      " Entering displacemtent step65 :2.275000000000001e-6\n",
      " Relative error = 0.0001434729681544386\n",
      " Relative error = 0.0003119867527781634\n",
      " Relative error = 0.00017323965121215817\n",
      " Relative error = 0.00016134567981392444\n",
      " Relative error = 0.00015866198773574068\n",
      " Relative error = 0.00015727977650531225\n",
      " Relative error = 0.00015614956015265602\n",
      " Relative error = 0.00015514524628805078\n",
      " Relative error = 0.0001542288135231428\n",
      " Relative error = 0.00015330154391296081\n",
      " Entering displacemtent step66 :2.310000000000001e-6\n",
      " Relative error = 0.0001524010666887601\n",
      " Relative error = 0.0003002302670565801\n",
      " Relative error = 0.00018180095175756686\n",
      " Relative error = 0.00017069438233755603\n",
      " Relative error = 0.00016804475934787473\n",
      " Relative error = 0.00016660606122796635\n",
      " Relative error = 0.00016540185276829456\n",
      " Relative error = 0.00016427227980882973\n",
      " Relative error = 0.00016316257232214327\n",
      " Relative error = 0.00016213570314401208\n",
      " Entering displacemtent step67 :2.3450000000000013e-6\n",
      " Relative error = 0.00016122856040681914\n",
      " Relative error = 0.0002889027496458308\n",
      " Relative error = 0.0001895683422759758\n",
      " Relative error = 0.0001792407036406686\n",
      " Relative error = 0.00017641455599271062\n",
      " Relative error = 0.00017471101796756052\n",
      " Relative error = 0.00017327358311021584\n",
      " Relative error = 0.0001719344220729022\n",
      " Relative error = 0.00017073910819727473\n",
      " Relative error = 0.000169723443228361\n",
      " Entering displacemtent step68 :2.3800000000000014e-6\n",
      " Relative error = 0.00016873193913868217\n",
      " Relative error = 0.0002759031777415577\n",
      " Relative error = 0.0001960237038402399\n",
      " Relative error = 0.00018622446817370916\n",
      " Relative error = 0.00018356853798641648\n",
      " Relative error = 0.0001819921318121578\n",
      " Relative error = 0.00018082463112791106\n",
      " Relative error = 0.00017980541286631292\n",
      " Relative error = 0.0001789270240044161\n",
      " Relative error = 0.00017816765843745125\n",
      " Entering displacemtent step69 :2.4150000000000014e-6\n",
      " Relative error = 0.00017730697695914573\n",
      " Relative error = 0.00026749421664946466\n",
      " Relative error = 0.00020398707335213967\n",
      " Relative error = 0.0001961269753940975\n",
      " Relative error = 0.00019410527710059388\n",
      " Relative error = 0.0001928790965845527\n",
      " Relative error = 0.00019192372919894462\n",
      " Relative error = 0.00019129770686792186\n",
      " Relative error = 0.00019075680330255546\n",
      " Relative error = 0.0001900710533518577\n",
      " Entering displacemtent step70 :2.4500000000000015e-6\n",
      " Relative error = 0.0001895347122160854\n",
      " Relative error = 0.0002616067589254187\n",
      " Relative error = 0.00021670505148598866\n",
      " Relative error = 0.00021014699686327994\n",
      " Relative error = 0.0002087729841902522\n",
      " Relative error = 0.00020868816767645525\n",
      " Relative error = 0.00020864339646727522\n",
      " Relative error = 0.00020915159907683746\n",
      " Relative error = 0.00021008585355728984\n",
      " Relative error = 0.0002110193146242966\n",
      " Entering displacemtent step71 :2.485000000000001e-6\n",
      " Relative error = 0.0002125189064313054\n",
      " Relative error = 0.0002695453915907762\n",
      " Relative error = 0.00024299836977643573\n",
      " Relative error = 0.00024182293800767513\n",
      " Relative error = 0.00024430623224305347\n",
      " Relative error = 0.0002486637431397387\n",
      " Relative error = 0.0002539548479904001\n",
      " Relative error = 0.00026117363035403125\n",
      " Relative error = 0.0002699688324139834\n",
      " Relative error = 0.0002813135509018797\n",
      " Entering displacemtent step72 :2.5200000000000013e-6\n",
      " Relative error = 0.00029598182229574865\n",
      " Relative error = 0.00035129989867366463\n",
      " Relative error = 0.0003689833880886138\n",
      " Relative error = 0.00040491363650840996\n",
      " Relative error = 0.00045558720938728293\n",
      " Relative error = 0.0005108356560183715\n",
      " Relative error = 0.0004886147847091396\n",
      " Relative error = 0.00019787447596459115\n",
      " Relative error = 1.3866309718476147e-5\n",
      " Relative error = 7.852311317261383e-7\n",
      " Entering displacemtent step73 :2.5550000000000014e-6\n",
      " Relative error = 8.250387115051739e-8\n",
      " Relative error = 7.903822371677636e-8\n",
      " Relative error = 4.80093017753491e-9\n",
      " Entering displacemtent step74 :2.5900000000000015e-6\n",
      " Relative error = 9.528195026147964e-10\n",
      " Entering displacemtent step75 :2.6250000000000015e-6\n",
      " Relative error = 7.412163062334485e-8\n",
      " Relative error = 7.73483518906484e-8\n",
      " Relative error = 2.782053889565879e-10\n",
      " Entering displacemtent step76 :2.6600000000000016e-6\n",
      " Relative error = 1.8107870730612977e-11\n",
      " Entering displacemtent step77 :2.6950000000000017e-6\n",
      " Relative error = 7.451915688389241e-8\n",
      " Relative error = 7.220221282136567e-8\n",
      " Relative error = 2.4940456251894507e-10\n",
      " Entering displacemtent step78 :2.730000000000002e-6\n"
     ]
    },
    {
     "name": "stdout",
     "output_type": "stream",
     "text": [
      " Relative error = 6.703040476655283e-12\n",
      " Entering displacemtent step79 :2.7650000000000015e-6\n",
      " Relative error = 6.931296660879408e-8\n",
      " Relative error = 6.716585060238263e-8\n",
      " Relative error = 2.2380538895671973e-10\n",
      " Entering displacemtent step80 :2.8000000000000016e-6\n",
      " Relative error = 4.022920253655683e-12\n",
      " Entering displacemtent step81 :2.8350000000000017e-6\n",
      " Relative error = 6.455889582319166e-8\n",
      " Relative error = 6.258163217575574e-8\n",
      " Relative error = 1.9955182433869995e-10\n",
      " Entering displacemtent step82 :2.8700000000000017e-6\n",
      " Relative error = 5.306642598481242e-12\n",
      " Entering displacemtent step83 :2.905000000000002e-6\n",
      " Relative error = 6.021825264215663e-8\n",
      " Relative error = 5.840186120046141e-8\n",
      " Relative error = 1.8055196690139445e-10\n",
      " Entering displacemtent step84 :2.940000000000002e-6\n",
      " Relative error = 7.142746155081823e-12\n",
      " Entering displacemtent step85 :2.975000000000002e-6\n",
      " Relative error = 5.624910088675726e-8\n",
      " Relative error = 5.458417786047653e-8\n",
      " Relative error = 1.6461177092537767e-10\n",
      " Entering displacemtent step86 :3.0100000000000017e-6\n",
      " Relative error = 7.877086199702525e-12\n",
      " Entering displacemtent step87 :3.0450000000000018e-6\n",
      " Relative error = 5.261736570420619e-8\n",
      " Relative error = 5.109048121789058e-8\n",
      " Relative error = 1.5083712872566142e-10\n",
      " Entering displacemtent step88 :3.080000000000002e-6\n",
      " Relative error = 8.14756759103392e-12\n",
      " Entering displacemtent step89 :3.115000000000002e-6\n",
      " Relative error = 4.928911637598416e-8\n",
      " Relative error = 4.788773842785023e-8\n",
      " Relative error = 1.3902553274170865e-10\n",
      " Entering displacemtent step90 :3.150000000000002e-6\n",
      " Relative error = 8.09216316520698e-12\n",
      " Entering displacemtent step91 :3.185000000000002e-6\n",
      " Relative error = 4.6233969147413606e-8\n",
      " Relative error = 4.494639503841474e-8\n",
      " Relative error = 1.291522751561557e-10\n",
      " Entering displacemtent step92 :3.220000000000002e-6\n",
      " Relative error = 7.904006250630215e-12\n",
      " Entering displacemtent step93 :3.255000000000002e-6\n",
      " Relative error = 4.342443706824137e-8\n",
      " Relative error = 4.224049368748856e-8\n",
      " Relative error = 1.21654658312004e-10\n",
      " Entering displacemtent step94 :3.290000000000002e-6\n",
      " Relative error = 7.678706741015916e-12\n",
      " Entering displacemtent step95 :3.325000000000002e-6\n",
      " Relative error = 4.083576886295861e-8\n",
      " Relative error = 3.974703131074095e-8\n",
      " Relative error = 1.1556504141380172e-10\n",
      " Entering displacemtent step96 :3.360000000000002e-6\n",
      " Relative error = 7.444783141386734e-12\n",
      " Entering displacemtent step97 :3.3950000000000022e-6\n",
      " Relative error = 3.8447431875603403e-8\n",
      " Relative error = 3.744562590998499e-8\n",
      " Relative error = 1.1059230133777244e-10\n",
      " Entering displacemtent step98 :3.4300000000000023e-6\n",
      " Relative error = 7.211950720199762e-12\n",
      " Entering displacemtent step99 :3.4650000000000024e-6\n",
      " Relative error = 3.624059462365681e-8\n",
      " Relative error = 3.531818084591105e-8\n",
      " Relative error = 1.0652162043644332e-10\n",
      " Entering displacemtent step100 :3.5000000000000025e-6\n",
      " Relative error = 6.9913083148224544e-12"
     ]
    }
   ],
   "source": [
    "t = 0.0\n",
    "innerMax = 10\n",
    "count = 0\n",
    "tol = 1e-8\n",
    "\n",
    "Load = Float64[]\n",
    "Displacement = Float64[]\n",
    "\n",
    "push!(Load, 0.0)\n",
    "push!(Displacement, 0.0)\n",
    "\n",
    "\n",
    "ψPlusPrev = CellState(0.0,dΩ) \n",
    "sPrev = CellState(1.0,dΩ)\n",
    "sh = project(sPrev,model,dΩ,order)\n",
    "ThPrev = CellState(T0,dΩ)\n",
    "Th = project(ThPrev,model,dΩ,order)\n",
    "ϕPrev = CellState(0.0,dΩ)\n",
    "ϕh = project(ϕPrev,model,dΩ,order)\n",
    "\n",
    "\n",
    "while t .< tMax \n",
    "    count = count .+ 1      \n",
    "    t = t + delt\n",
    "    vApp = AppVel*t    \n",
    "    TApp = TAppVec[count]\n",
    "    phiApp = ϕAppVec[count]\n",
    "    \n",
    "    \n",
    "    print(\"\\n Entering displacemtent step$count :\", float(vApp))\n",
    "    \n",
    "   for inner = 1:innerMax   \n",
    "        \n",
    "        ψhPlusPrev = project(ψPlusPrev,model,dΩ,order)\n",
    "        \n",
    "        RelErr = abs(sum(∫( Gc*lsp*∇(sh)⋅ ∇(sh) + 2*ψhPlusPrev*sh*sh  + (Gc/lsp)*sh*sh)*dΩ - ∫( (Gc/lsp)*sh)*dΩ))/abs(sum(∫( (Gc/lsp)*sh)*dΩ))\n",
    "        print(\"\\n Relative error = \",float(RelErr))\n",
    "        \n",
    "        sh = stepPhaseField(uh,ψhPlusPrev) \n",
    "        uh,ϕh,Th = stepDispElecPotTemp(uh,ϕh,Th,sh,vApp,phiApp,TApp,delt)\n",
    "        \n",
    "        ψhPos_in = ψPos∘(ε(uh),Th,∇(ϕh))      \n",
    "        \n",
    "        update_state!(new_EnergyState,ψPlusPrev,ψhPos_in)\n",
    "  \n",
    "        if RelErr < 1e-8\n",
    "            break \n",
    "        end      \n",
    "    end\n",
    "    \n",
    "    Node_Force = sum(∫( n_Γ_Load ⋅ (σ_elasMod∘(ε(uh),Th,ε(uh),sh,Th)) ) *dΓ_Load + ∫( n_Γ_Load ⋅ (σ_piezoMod∘(∇(ϕh),sh) ) )  *dΓ_Load)\n",
    "    \n",
    "    push!(Load, Node_Force[2])\n",
    "    push!(Displacement, vApp)\n",
    "    if mod(count,2) == 0\n",
    "         writevtk(Ω,\"results_NotchedPlate_0_$count\",cellfields=\n",
    "        [\"uh\"=>uh,\"s\"=>sh ,\"phi\"=>ϕh, \"epsi\"=>ε(uh),\"T\" => Th])\n",
    "    end\n",
    "end"
   ]
  },
  {
   "cell_type": "code",
   "execution_count": 44,
   "id": "disabled-stone",
   "metadata": {},
   "outputs": [
    {
     "data": {
      "text/plain": [
       "([\"results_NotchedPlate_0_100.vtu\"],)"
      ]
     },
     "execution_count": 44,
     "metadata": {},
     "output_type": "execute_result"
    }
   ],
   "source": [
    " writevtk(Ω,\"results_NotchedPlate_0_$count\",cellfields=\n",
    "        [\"uh\"=>uh,\"s\"=>sh ,\"phi\"=>ϕh, \"epsi\"=>ε(uh)])"
   ]
  },
  {
   "cell_type": "code",
   "execution_count": 45,
   "id": "colonial-infection",
   "metadata": {},
   "outputs": [
    {
     "data": {
      "image/svg+xml": [
       "<?xml version=\"1.0\" encoding=\"utf-8\"?>\n",
       "<svg xmlns=\"http://www.w3.org/2000/svg\" xmlns:xlink=\"http://www.w3.org/1999/xlink\" width=\"600\" height=\"400\" viewBox=\"0 0 2400 1600\">\n",
       "<defs>\n",
       "  <clipPath id=\"clip330\">\n",
       "    <rect x=\"0\" y=\"0\" width=\"2400\" height=\"1600\"/>\n",
       "  </clipPath>\n",
       "</defs>\n",
       "<path clip-path=\"url(#clip330)\" d=\"\n",
       "M0 1600 L2400 1600 L2400 0 L0 0  Z\n",
       "  \" fill=\"#ffffff\" fill-rule=\"evenodd\" fill-opacity=\"1\"/>\n",
       "<defs>\n",
       "  <clipPath id=\"clip331\">\n",
       "    <rect x=\"480\" y=\"0\" width=\"1681\" height=\"1600\"/>\n",
       "  </clipPath>\n",
       "</defs>\n",
       "<path clip-path=\"url(#clip330)\" d=\"\n",
       "M169.121 1474.16 L2352.76 1474.16 L2352.76 47.2441 L169.121 47.2441  Z\n",
       "  \" fill=\"#ffffff\" fill-rule=\"evenodd\" fill-opacity=\"1\"/>\n",
       "<defs>\n",
       "  <clipPath id=\"clip332\">\n",
       "    <rect x=\"169\" y=\"47\" width=\"2185\" height=\"1428\"/>\n",
       "  </clipPath>\n",
       "</defs>\n",
       "<polyline clip-path=\"url(#clip332)\" style=\"stroke:#000000; stroke-linecap:round; stroke-linejoin:round; stroke-width:2; stroke-opacity:0.1; fill:none\" points=\"\n",
       "  230.922,1474.16 230.922,47.2441 \n",
       "  \"/>\n",
       "<polyline clip-path=\"url(#clip332)\" style=\"stroke:#000000; stroke-linecap:round; stroke-linejoin:round; stroke-width:2; stroke-opacity:0.1; fill:none\" points=\"\n",
       "  819.503,1474.16 819.503,47.2441 \n",
       "  \"/>\n",
       "<polyline clip-path=\"url(#clip332)\" style=\"stroke:#000000; stroke-linecap:round; stroke-linejoin:round; stroke-width:2; stroke-opacity:0.1; fill:none\" points=\"\n",
       "  1408.08,1474.16 1408.08,47.2441 \n",
       "  \"/>\n",
       "<polyline clip-path=\"url(#clip332)\" style=\"stroke:#000000; stroke-linecap:round; stroke-linejoin:round; stroke-width:2; stroke-opacity:0.1; fill:none\" points=\"\n",
       "  1996.66,1474.16 1996.66,47.2441 \n",
       "  \"/>\n",
       "<polyline clip-path=\"url(#clip330)\" style=\"stroke:#000000; stroke-linecap:round; stroke-linejoin:round; stroke-width:4; stroke-opacity:1; fill:none\" points=\"\n",
       "  169.121,1474.16 2352.76,1474.16 \n",
       "  \"/>\n",
       "<polyline clip-path=\"url(#clip330)\" style=\"stroke:#000000; stroke-linecap:round; stroke-linejoin:round; stroke-width:4; stroke-opacity:1; fill:none\" points=\"\n",
       "  230.922,1474.16 230.922,1455.27 \n",
       "  \"/>\n",
       "<polyline clip-path=\"url(#clip330)\" style=\"stroke:#000000; stroke-linecap:round; stroke-linejoin:round; stroke-width:4; stroke-opacity:1; fill:none\" points=\"\n",
       "  819.503,1474.16 819.503,1455.27 \n",
       "  \"/>\n",
       "<polyline clip-path=\"url(#clip330)\" style=\"stroke:#000000; stroke-linecap:round; stroke-linejoin:round; stroke-width:4; stroke-opacity:1; fill:none\" points=\"\n",
       "  1408.08,1474.16 1408.08,1455.27 \n",
       "  \"/>\n",
       "<polyline clip-path=\"url(#clip330)\" style=\"stroke:#000000; stroke-linecap:round; stroke-linejoin:round; stroke-width:4; stroke-opacity:1; fill:none\" points=\"\n",
       "  1996.66,1474.16 1996.66,1455.27 \n",
       "  \"/>\n",
       "<path clip-path=\"url(#clip330)\" d=\"M230.922 1505.08 Q227.311 1505.08 225.483 1508.65 Q223.677 1512.19 223.677 1519.32 Q223.677 1526.43 225.483 1529.99 Q227.311 1533.53 230.922 1533.53 Q234.557 1533.53 236.362 1529.99 Q238.191 1526.43 238.191 1519.32 Q238.191 1512.19 236.362 1508.65 Q234.557 1505.08 230.922 1505.08 M230.922 1501.38 Q236.732 1501.38 239.788 1505.99 Q242.867 1510.57 242.867 1519.32 Q242.867 1528.05 239.788 1532.65 Q236.732 1537.24 230.922 1537.24 Q225.112 1537.24 222.033 1532.65 Q218.978 1528.05 218.978 1519.32 Q218.978 1510.57 222.033 1505.99 Q225.112 1501.38 230.922 1501.38 Z\" fill=\"#000000\" fill-rule=\"evenodd\" fill-opacity=\"1\" /><path clip-path=\"url(#clip330)\" d=\"M711.497 1548.29 L719.135 1548.29 L719.135 1521.92 L710.825 1523.59 L710.825 1519.33 L719.089 1517.66 L723.765 1517.66 L723.765 1548.29 L731.404 1548.29 L731.404 1552.22 L711.497 1552.22 L711.497 1548.29 Z\" fill=\"#000000\" fill-rule=\"evenodd\" fill-opacity=\"1\" /><path clip-path=\"url(#clip330)\" d=\"M740.848 1546.35 L745.732 1546.35 L745.732 1552.22 L740.848 1552.22 L740.848 1546.35 Z\" fill=\"#000000\" fill-rule=\"evenodd\" fill-opacity=\"1\" /><path clip-path=\"url(#clip330)\" d=\"M765.918 1520.74 Q762.306 1520.74 760.478 1524.31 Q758.672 1527.85 758.672 1534.98 Q758.672 1542.09 760.478 1545.65 Q762.306 1549.19 765.918 1549.19 Q769.552 1549.19 771.357 1545.65 Q773.186 1542.09 773.186 1534.98 Q773.186 1527.85 771.357 1524.31 Q769.552 1520.74 765.918 1520.74 M765.918 1517.04 Q771.728 1517.04 774.783 1521.65 Q777.862 1526.23 777.862 1534.98 Q777.862 1543.71 774.783 1548.31 Q771.728 1552.9 765.918 1552.9 Q760.107 1552.9 757.029 1548.31 Q753.973 1543.71 753.973 1534.98 Q753.973 1526.23 757.029 1521.65 Q760.107 1517.04 765.918 1517.04 Z\" fill=\"#000000\" fill-rule=\"evenodd\" fill-opacity=\"1\" /><path clip-path=\"url(#clip330)\" d=\"M814.251 1526.76 L803.672 1537.39 L814.251 1547.97 L811.496 1550.77 L800.871 1540.14 L790.246 1550.77 L787.515 1547.97 L798.07 1537.39 L787.515 1526.76 L790.246 1523.96 L800.871 1534.59 L811.496 1523.96 L814.251 1526.76 Z\" fill=\"#000000\" fill-rule=\"evenodd\" fill-opacity=\"1\" /><path clip-path=\"url(#clip330)\" d=\"M826.612 1548.29 L834.251 1548.29 L834.251 1521.92 L825.94 1523.59 L825.94 1519.33 L834.204 1517.66 L838.88 1517.66 L838.88 1548.29 L846.519 1548.29 L846.519 1552.22 L826.612 1552.22 L826.612 1548.29 Z\" fill=\"#000000\" fill-rule=\"evenodd\" fill-opacity=\"1\" /><path clip-path=\"url(#clip330)\" d=\"M865.963 1520.74 Q862.352 1520.74 860.524 1524.31 Q858.718 1527.85 858.718 1534.98 Q858.718 1542.09 860.524 1545.65 Q862.352 1549.19 865.963 1549.19 Q869.598 1549.19 871.403 1545.65 Q873.232 1542.09 873.232 1534.98 Q873.232 1527.85 871.403 1524.31 Q869.598 1520.74 865.963 1520.74 M865.963 1517.04 Q871.773 1517.04 874.829 1521.65 Q877.908 1526.23 877.908 1534.98 Q877.908 1543.71 874.829 1548.31 Q871.773 1552.9 865.963 1552.9 Q860.153 1552.9 857.074 1548.31 Q854.019 1543.71 854.019 1534.98 Q854.019 1526.23 857.074 1521.65 Q860.153 1517.04 865.963 1517.04 Z\" fill=\"#000000\" fill-rule=\"evenodd\" fill-opacity=\"1\" /><path clip-path=\"url(#clip330)\" d=\"M877.908 1511.14 L902.019 1511.14 L902.019 1514.34 L877.908 1514.34 L877.908 1511.14 Z\" fill=\"#000000\" fill-rule=\"evenodd\" fill-opacity=\"1\" /><path clip-path=\"url(#clip330)\" d=\"M918.815 1509.26 Q916.257 1509.26 914.752 1511.01 Q913.266 1512.76 913.266 1515.81 Q913.266 1518.83 914.752 1520.6 Q916.257 1522.35 918.815 1522.35 Q921.372 1522.35 922.858 1520.6 Q924.363 1518.83 924.363 1515.81 Q924.363 1512.76 922.858 1511.01 Q921.372 1509.26 918.815 1509.26 M926.356 1497.35 L926.356 1500.82 Q924.927 1500.14 923.46 1499.78 Q922.012 1499.42 920.583 1499.42 Q916.821 1499.42 914.827 1501.96 Q912.853 1504.5 912.57 1509.64 Q913.68 1508 915.354 1507.13 Q917.028 1506.25 919.04 1506.25 Q923.272 1506.25 925.717 1508.83 Q928.181 1511.39 928.181 1515.81 Q928.181 1520.13 925.623 1522.75 Q923.065 1525.36 918.815 1525.36 Q913.943 1525.36 911.367 1521.64 Q908.79 1517.89 908.79 1510.8 Q908.79 1504.14 911.95 1500.19 Q915.109 1496.23 920.432 1496.23 Q921.861 1496.23 923.31 1496.51 Q924.777 1496.79 926.356 1497.35 Z\" fill=\"#000000\" fill-rule=\"evenodd\" fill-opacity=\"1\" /><path clip-path=\"url(#clip330)\" d=\"M1304.16 1548.29 L1320.48 1548.29 L1320.48 1552.22 L1298.54 1552.22 L1298.54 1548.29 Q1301.2 1545.53 1305.78 1540.91 Q1310.39 1536.25 1311.57 1534.91 Q1313.82 1532.39 1314.7 1530.65 Q1315.6 1528.89 1315.6 1527.2 Q1315.6 1524.45 1313.65 1522.71 Q1311.73 1520.97 1308.63 1520.97 Q1306.43 1520.97 1303.98 1521.74 Q1301.55 1522.5 1298.77 1524.05 L1298.77 1519.33 Q1301.59 1518.2 1304.05 1517.62 Q1306.5 1517.04 1308.54 1517.04 Q1313.91 1517.04 1317.1 1519.72 Q1320.3 1522.41 1320.3 1526.9 Q1320.3 1529.03 1319.49 1530.95 Q1318.7 1532.85 1316.59 1535.44 Q1316.01 1536.11 1312.91 1539.33 Q1309.81 1542.53 1304.16 1548.29 Z\" fill=\"#000000\" fill-rule=\"evenodd\" fill-opacity=\"1\" /><path clip-path=\"url(#clip330)\" d=\"M1330.3 1546.35 L1335.18 1546.35 L1335.18 1552.22 L1330.3 1552.22 L1330.3 1546.35 Z\" fill=\"#000000\" fill-rule=\"evenodd\" fill-opacity=\"1\" /><path clip-path=\"url(#clip330)\" d=\"M1355.37 1520.74 Q1351.76 1520.74 1349.93 1524.31 Q1348.12 1527.85 1348.12 1534.98 Q1348.12 1542.09 1349.93 1545.65 Q1351.76 1549.19 1355.37 1549.19 Q1359 1549.19 1360.81 1545.65 Q1362.63 1542.09 1362.63 1534.98 Q1362.63 1527.85 1360.81 1524.31 Q1359 1520.74 1355.37 1520.74 M1355.37 1517.04 Q1361.18 1517.04 1364.23 1521.65 Q1367.31 1526.23 1367.31 1534.98 Q1367.31 1543.71 1364.23 1548.31 Q1361.18 1552.9 1355.37 1552.9 Q1349.56 1552.9 1346.48 1548.31 Q1343.42 1543.71 1343.42 1534.98 Q1343.42 1526.23 1346.48 1521.65 Q1349.56 1517.04 1355.37 1517.04 Z\" fill=\"#000000\" fill-rule=\"evenodd\" fill-opacity=\"1\" /><path clip-path=\"url(#clip330)\" d=\"M1403.7 1526.76 L1393.12 1537.39 L1403.7 1547.97 L1400.94 1550.77 L1390.32 1540.14 L1379.69 1550.77 L1376.96 1547.97 L1387.52 1537.39 L1376.96 1526.76 L1379.69 1523.96 L1390.32 1534.59 L1400.94 1523.96 L1403.7 1526.76 Z\" fill=\"#000000\" fill-rule=\"evenodd\" fill-opacity=\"1\" /><path clip-path=\"url(#clip330)\" d=\"M1416.06 1548.29 L1423.7 1548.29 L1423.7 1521.92 L1415.39 1523.59 L1415.39 1519.33 L1423.65 1517.66 L1428.33 1517.66 L1428.33 1548.29 L1435.97 1548.29 L1435.97 1552.22 L1416.06 1552.22 L1416.06 1548.29 Z\" fill=\"#000000\" fill-rule=\"evenodd\" fill-opacity=\"1\" /><path clip-path=\"url(#clip330)\" d=\"M1455.41 1520.74 Q1451.8 1520.74 1449.97 1524.31 Q1448.17 1527.85 1448.17 1534.98 Q1448.17 1542.09 1449.97 1545.65 Q1451.8 1549.19 1455.41 1549.19 Q1459.05 1549.19 1460.85 1545.65 Q1462.68 1542.09 1462.68 1534.98 Q1462.68 1527.85 1460.85 1524.31 Q1459.05 1520.74 1455.41 1520.74 M1455.41 1517.04 Q1461.22 1517.04 1464.28 1521.65 Q1467.36 1526.23 1467.36 1534.98 Q1467.36 1543.71 1464.28 1548.31 Q1461.22 1552.9 1455.41 1552.9 Q1449.6 1552.9 1446.52 1548.31 Q1443.47 1543.71 1443.47 1534.98 Q1443.47 1526.23 1446.52 1521.65 Q1449.6 1517.04 1455.41 1517.04 Z\" fill=\"#000000\" fill-rule=\"evenodd\" fill-opacity=\"1\" /><path clip-path=\"url(#clip330)\" d=\"M1467.36 1511.14 L1491.47 1511.14 L1491.47 1514.34 L1467.36 1514.34 L1467.36 1511.14 Z\" fill=\"#000000\" fill-rule=\"evenodd\" fill-opacity=\"1\" /><path clip-path=\"url(#clip330)\" d=\"M1508.26 1509.26 Q1505.71 1509.26 1504.2 1511.01 Q1502.72 1512.76 1502.72 1515.81 Q1502.72 1518.83 1504.2 1520.6 Q1505.71 1522.35 1508.26 1522.35 Q1510.82 1522.35 1512.31 1520.6 Q1513.81 1518.83 1513.81 1515.81 Q1513.81 1512.76 1512.31 1511.01 Q1510.82 1509.26 1508.26 1509.26 M1515.81 1497.35 L1515.81 1500.82 Q1514.38 1500.14 1512.91 1499.78 Q1511.46 1499.42 1510.03 1499.42 Q1506.27 1499.42 1504.28 1501.96 Q1502.3 1504.5 1502.02 1509.64 Q1503.13 1508 1504.8 1507.13 Q1506.48 1506.25 1508.49 1506.25 Q1512.72 1506.25 1515.17 1508.83 Q1517.63 1511.39 1517.63 1515.81 Q1517.63 1520.13 1515.07 1522.75 Q1512.51 1525.36 1508.26 1525.36 Q1503.39 1525.36 1500.82 1521.64 Q1498.24 1517.89 1498.24 1510.8 Q1498.24 1504.14 1501.4 1500.19 Q1504.56 1496.23 1509.88 1496.23 Q1511.31 1496.23 1512.76 1496.51 Q1514.23 1496.79 1515.81 1497.35 Z\" fill=\"#000000\" fill-rule=\"evenodd\" fill-opacity=\"1\" /><path clip-path=\"url(#clip330)\" d=\"M1902.81 1533.59 Q1906.17 1534.31 1908.04 1536.58 Q1909.94 1538.85 1909.94 1542.18 Q1909.94 1547.29 1906.42 1550.1 Q1902.91 1552.9 1896.42 1552.9 Q1894.25 1552.9 1891.93 1552.46 Q1889.64 1552.04 1887.19 1551.18 L1887.19 1546.67 Q1889.13 1547.8 1891.45 1548.38 Q1893.76 1548.96 1896.29 1548.96 Q1900.68 1548.96 1902.98 1547.22 Q1905.29 1545.49 1905.29 1542.18 Q1905.29 1539.12 1903.14 1537.41 Q1901.01 1535.67 1897.19 1535.67 L1893.16 1535.67 L1893.16 1531.83 L1897.37 1531.83 Q1900.82 1531.83 1902.65 1530.47 Q1904.48 1529.08 1904.48 1526.48 Q1904.48 1523.82 1902.58 1522.41 Q1900.71 1520.97 1897.19 1520.97 Q1895.27 1520.97 1893.07 1521.39 Q1890.87 1521.81 1888.23 1522.69 L1888.23 1518.52 Q1890.89 1517.78 1893.21 1517.41 Q1895.54 1517.04 1897.6 1517.04 Q1902.93 1517.04 1906.03 1519.47 Q1909.13 1521.88 1909.13 1526 Q1909.13 1528.87 1907.49 1530.86 Q1905.85 1532.83 1902.81 1533.59 Z\" fill=\"#000000\" fill-rule=\"evenodd\" fill-opacity=\"1\" /><path clip-path=\"url(#clip330)\" d=\"M1918.81 1546.35 L1923.69 1546.35 L1923.69 1552.22 L1918.81 1552.22 L1918.81 1546.35 Z\" fill=\"#000000\" fill-rule=\"evenodd\" fill-opacity=\"1\" /><path clip-path=\"url(#clip330)\" d=\"M1943.88 1520.74 Q1940.27 1520.74 1938.44 1524.31 Q1936.63 1527.85 1936.63 1534.98 Q1936.63 1542.09 1938.44 1545.65 Q1940.27 1549.19 1943.88 1549.19 Q1947.51 1549.19 1949.32 1545.65 Q1951.15 1542.09 1951.15 1534.98 Q1951.15 1527.85 1949.32 1524.31 Q1947.51 1520.74 1943.88 1520.74 M1943.88 1517.04 Q1949.69 1517.04 1952.74 1521.65 Q1955.82 1526.23 1955.82 1534.98 Q1955.82 1543.71 1952.74 1548.31 Q1949.69 1552.9 1943.88 1552.9 Q1938.07 1552.9 1934.99 1548.31 Q1931.93 1543.71 1931.93 1534.98 Q1931.93 1526.23 1934.99 1521.65 Q1938.07 1517.04 1943.88 1517.04 Z\" fill=\"#000000\" fill-rule=\"evenodd\" fill-opacity=\"1\" /><path clip-path=\"url(#clip330)\" d=\"M1992.21 1526.76 L1981.63 1537.39 L1992.21 1547.97 L1989.46 1550.77 L1978.83 1540.14 L1968.21 1550.77 L1965.47 1547.97 L1976.03 1537.39 L1965.47 1526.76 L1968.21 1523.96 L1978.83 1534.59 L1989.46 1523.96 L1992.21 1526.76 Z\" fill=\"#000000\" fill-rule=\"evenodd\" fill-opacity=\"1\" /><path clip-path=\"url(#clip330)\" d=\"M2004.57 1548.29 L2012.21 1548.29 L2012.21 1521.92 L2003.9 1523.59 L2003.9 1519.33 L2012.16 1517.66 L2016.84 1517.66 L2016.84 1548.29 L2024.48 1548.29 L2024.48 1552.22 L2004.57 1552.22 L2004.57 1548.29 Z\" fill=\"#000000\" fill-rule=\"evenodd\" fill-opacity=\"1\" /><path clip-path=\"url(#clip330)\" d=\"M2043.92 1520.74 Q2040.31 1520.74 2038.48 1524.31 Q2036.68 1527.85 2036.68 1534.98 Q2036.68 1542.09 2038.48 1545.65 Q2040.31 1549.19 2043.92 1549.19 Q2047.56 1549.19 2049.36 1545.65 Q2051.19 1542.09 2051.19 1534.98 Q2051.19 1527.85 2049.36 1524.31 Q2047.56 1520.74 2043.92 1520.74 M2043.92 1517.04 Q2049.73 1517.04 2052.79 1521.65 Q2055.87 1526.23 2055.87 1534.98 Q2055.87 1543.71 2052.79 1548.31 Q2049.73 1552.9 2043.92 1552.9 Q2038.11 1552.9 2035.03 1548.31 Q2031.98 1543.71 2031.98 1534.98 Q2031.98 1526.23 2035.03 1521.65 Q2038.11 1517.04 2043.92 1517.04 Z\" fill=\"#000000\" fill-rule=\"evenodd\" fill-opacity=\"1\" /><path clip-path=\"url(#clip330)\" d=\"M2055.87 1511.14 L2079.98 1511.14 L2079.98 1514.34 L2055.87 1514.34 L2055.87 1511.14 Z\" fill=\"#000000\" fill-rule=\"evenodd\" fill-opacity=\"1\" /><path clip-path=\"url(#clip330)\" d=\"M2096.77 1509.26 Q2094.22 1509.26 2092.71 1511.01 Q2091.23 1512.76 2091.23 1515.81 Q2091.23 1518.83 2092.71 1520.6 Q2094.22 1522.35 2096.77 1522.35 Q2099.33 1522.35 2100.82 1520.6 Q2102.32 1518.83 2102.32 1515.81 Q2102.32 1512.76 2100.82 1511.01 Q2099.33 1509.26 2096.77 1509.26 M2104.32 1497.35 L2104.32 1500.82 Q2102.89 1500.14 2101.42 1499.78 Q2099.97 1499.42 2098.54 1499.42 Q2094.78 1499.42 2092.79 1501.96 Q2090.81 1504.5 2090.53 1509.64 Q2091.64 1508 2093.31 1507.13 Q2094.99 1506.25 2097 1506.25 Q2101.23 1506.25 2103.68 1508.83 Q2106.14 1511.39 2106.14 1515.81 Q2106.14 1520.13 2103.58 1522.75 Q2101.03 1525.36 2096.77 1525.36 Q2091.9 1525.36 2089.33 1521.64 Q2086.75 1517.89 2086.75 1510.8 Q2086.75 1504.14 2089.91 1500.19 Q2093.07 1496.23 2098.39 1496.23 Q2099.82 1496.23 2101.27 1496.51 Q2102.74 1496.79 2104.32 1497.35 Z\" fill=\"#000000\" fill-rule=\"evenodd\" fill-opacity=\"1\" /><polyline clip-path=\"url(#clip332)\" style=\"stroke:#000000; stroke-linecap:round; stroke-linejoin:round; stroke-width:2; stroke-opacity:0.1; fill:none\" points=\"\n",
       "  169.121,1433.78 2352.76,1433.78 \n",
       "  \"/>\n",
       "<polyline clip-path=\"url(#clip332)\" style=\"stroke:#000000; stroke-linecap:round; stroke-linejoin:round; stroke-width:2; stroke-opacity:0.1; fill:none\" points=\"\n",
       "  169.121,988.214 2352.76,988.214 \n",
       "  \"/>\n",
       "<polyline clip-path=\"url(#clip332)\" style=\"stroke:#000000; stroke-linecap:round; stroke-linejoin:round; stroke-width:2; stroke-opacity:0.1; fill:none\" points=\"\n",
       "  169.121,542.648 2352.76,542.648 \n",
       "  \"/>\n",
       "<polyline clip-path=\"url(#clip332)\" style=\"stroke:#000000; stroke-linecap:round; stroke-linejoin:round; stroke-width:2; stroke-opacity:0.1; fill:none\" points=\"\n",
       "  169.121,97.0813 2352.76,97.0813 \n",
       "  \"/>\n",
       "<polyline clip-path=\"url(#clip330)\" style=\"stroke:#000000; stroke-linecap:round; stroke-linejoin:round; stroke-width:4; stroke-opacity:1; fill:none\" points=\"\n",
       "  169.121,1474.16 169.121,47.2441 \n",
       "  \"/>\n",
       "<polyline clip-path=\"url(#clip330)\" style=\"stroke:#000000; stroke-linecap:round; stroke-linejoin:round; stroke-width:4; stroke-opacity:1; fill:none\" points=\"\n",
       "  169.121,1433.78 188.019,1433.78 \n",
       "  \"/>\n",
       "<polyline clip-path=\"url(#clip330)\" style=\"stroke:#000000; stroke-linecap:round; stroke-linejoin:round; stroke-width:4; stroke-opacity:1; fill:none\" points=\"\n",
       "  169.121,988.214 188.019,988.214 \n",
       "  \"/>\n",
       "<polyline clip-path=\"url(#clip330)\" style=\"stroke:#000000; stroke-linecap:round; stroke-linejoin:round; stroke-width:4; stroke-opacity:1; fill:none\" points=\"\n",
       "  169.121,542.648 188.019,542.648 \n",
       "  \"/>\n",
       "<polyline clip-path=\"url(#clip330)\" style=\"stroke:#000000; stroke-linecap:round; stroke-linejoin:round; stroke-width:4; stroke-opacity:1; fill:none\" points=\"\n",
       "  169.121,97.0813 188.019,97.0813 \n",
       "  \"/>\n",
       "<path clip-path=\"url(#clip330)\" d=\"M121.177 1419.58 Q117.566 1419.58 115.737 1423.14 Q113.932 1426.69 113.932 1433.81 Q113.932 1440.92 115.737 1444.49 Q117.566 1448.03 121.177 1448.03 Q124.811 1448.03 126.617 1444.49 Q128.445 1440.92 128.445 1433.81 Q128.445 1426.69 126.617 1423.14 Q124.811 1419.58 121.177 1419.58 M121.177 1415.88 Q126.987 1415.88 130.043 1420.48 Q133.121 1425.06 133.121 1433.81 Q133.121 1442.54 130.043 1447.15 Q126.987 1451.73 121.177 1451.73 Q115.367 1451.73 112.288 1447.15 Q109.233 1442.54 109.233 1433.81 Q109.233 1425.06 112.288 1420.48 Q115.367 1415.88 121.177 1415.88 Z\" fill=\"#000000\" fill-rule=\"evenodd\" fill-opacity=\"1\" /><path clip-path=\"url(#clip330)\" d=\"M81.0614 970.934 L99.4178 970.934 L99.4178 974.869 L85.3438 974.869 L85.3438 983.341 Q86.3623 982.994 87.3808 982.832 Q88.3993 982.647 89.4178 982.647 Q95.2049 982.647 98.5845 985.818 Q101.964 988.989 101.964 994.406 Q101.964 999.985 98.4919 1003.09 Q95.0197 1006.17 88.7003 1006.17 Q86.5243 1006.17 84.2558 1005.79 Q82.0105 1005.42 79.6031 1004.68 L79.6031 999.985 Q81.6864 1001.12 83.9086 1001.67 Q86.1308 1002.23 88.6077 1002.23 Q92.6123 1002.23 94.9502 1000.12 Q97.2882 998.017 97.2882 994.406 Q97.2882 990.795 94.9502 988.688 Q92.6123 986.582 88.6077 986.582 Q86.7327 986.582 84.8577 986.999 Q83.0058 987.415 81.0614 988.295 L81.0614 970.934 Z\" fill=\"#000000\" fill-rule=\"evenodd\" fill-opacity=\"1\" /><path clip-path=\"url(#clip330)\" d=\"M121.177 974.013 Q117.566 974.013 115.737 977.577 Q113.932 981.119 113.932 988.249 Q113.932 995.355 115.737 998.92 Q117.566 1002.46 121.177 1002.46 Q124.811 1002.46 126.617 998.92 Q128.445 995.355 128.445 988.249 Q128.445 981.119 126.617 977.577 Q124.811 974.013 121.177 974.013 M121.177 970.309 Q126.987 970.309 130.043 974.915 Q133.121 979.499 133.121 988.249 Q133.121 996.975 130.043 1001.58 Q126.987 1006.17 121.177 1006.17 Q115.367 1006.17 112.288 1001.58 Q109.233 996.975 109.233 988.249 Q109.233 979.499 112.288 974.915 Q115.367 970.309 121.177 970.309 Z\" fill=\"#000000\" fill-rule=\"evenodd\" fill-opacity=\"1\" /><path clip-path=\"url(#clip330)\" d=\"M51.6634 555.992 L59.3023 555.992 L59.3023 529.627 L50.9921 531.293 L50.9921 527.034 L59.256 525.368 L63.9319 525.368 L63.9319 555.992 L71.5707 555.992 L71.5707 559.928 L51.6634 559.928 L51.6634 555.992 Z\" fill=\"#000000\" fill-rule=\"evenodd\" fill-opacity=\"1\" /><path clip-path=\"url(#clip330)\" d=\"M91.0151 528.446 Q87.404 528.446 85.5753 532.011 Q83.7697 535.553 83.7697 542.682 Q83.7697 549.789 85.5753 553.354 Q87.404 556.895 91.0151 556.895 Q94.6493 556.895 96.4548 553.354 Q98.2835 549.789 98.2835 542.682 Q98.2835 535.553 96.4548 532.011 Q94.6493 528.446 91.0151 528.446 M91.0151 524.743 Q96.8252 524.743 99.8808 529.349 Q102.959 533.932 102.959 542.682 Q102.959 551.409 99.8808 556.016 Q96.8252 560.599 91.0151 560.599 Q85.2049 560.599 82.1262 556.016 Q79.0707 551.409 79.0707 542.682 Q79.0707 533.932 82.1262 529.349 Q85.2049 524.743 91.0151 524.743 Z\" fill=\"#000000\" fill-rule=\"evenodd\" fill-opacity=\"1\" /><path clip-path=\"url(#clip330)\" d=\"M121.177 528.446 Q117.566 528.446 115.737 532.011 Q113.932 535.553 113.932 542.682 Q113.932 549.789 115.737 553.354 Q117.566 556.895 121.177 556.895 Q124.811 556.895 126.617 553.354 Q128.445 549.789 128.445 542.682 Q128.445 535.553 126.617 532.011 Q124.811 528.446 121.177 528.446 M121.177 524.743 Q126.987 524.743 130.043 529.349 Q133.121 533.932 133.121 542.682 Q133.121 551.409 130.043 556.016 Q126.987 560.599 121.177 560.599 Q115.367 560.599 112.288 556.016 Q109.233 551.409 109.233 542.682 Q109.233 533.932 112.288 529.349 Q115.367 524.743 121.177 524.743 Z\" fill=\"#000000\" fill-rule=\"evenodd\" fill-opacity=\"1\" /><path clip-path=\"url(#clip330)\" d=\"M51.6634 110.426 L59.3023 110.426 L59.3023 84.0605 L50.9921 85.7272 L50.9921 81.468 L59.256 79.8013 L63.9319 79.8013 L63.9319 110.426 L71.5707 110.426 L71.5707 114.361 L51.6634 114.361 L51.6634 110.426 Z\" fill=\"#000000\" fill-rule=\"evenodd\" fill-opacity=\"1\" /><path clip-path=\"url(#clip330)\" d=\"M81.0614 79.8013 L99.4178 79.8013 L99.4178 83.7365 L85.3438 83.7365 L85.3438 92.2086 Q86.3623 91.8614 87.3808 91.6994 Q88.3993 91.5142 89.4178 91.5142 Q95.2049 91.5142 98.5845 94.6855 Q101.964 97.8568 101.964 103.273 Q101.964 108.852 98.4919 111.954 Q95.0197 115.033 88.7003 115.033 Q86.5243 115.033 84.2558 114.662 Q82.0105 114.292 79.6031 113.551 L79.6031 108.852 Q81.6864 109.986 83.9086 110.542 Q86.1308 111.097 88.6077 111.097 Q92.6123 111.097 94.9502 108.991 Q97.2882 106.884 97.2882 103.273 Q97.2882 99.6623 94.9502 97.5558 Q92.6123 95.4494 88.6077 95.4494 Q86.7327 95.4494 84.8577 95.866 Q83.0058 96.2827 81.0614 97.1623 L81.0614 79.8013 Z\" fill=\"#000000\" fill-rule=\"evenodd\" fill-opacity=\"1\" /><path clip-path=\"url(#clip330)\" d=\"M121.177 82.88 Q117.566 82.88 115.737 86.4448 Q113.932 89.9864 113.932 97.116 Q113.932 104.222 115.737 107.787 Q117.566 111.329 121.177 111.329 Q124.811 111.329 126.617 107.787 Q128.445 104.222 128.445 97.116 Q128.445 89.9864 126.617 86.4448 Q124.811 82.88 121.177 82.88 M121.177 79.1763 Q126.987 79.1763 130.043 83.7828 Q133.121 88.3661 133.121 97.116 Q133.121 105.843 130.043 110.449 Q126.987 115.033 121.177 115.033 Q115.367 115.033 112.288 110.449 Q109.233 105.843 109.233 97.116 Q109.233 88.3661 112.288 83.7828 Q115.367 79.1763 121.177 79.1763 Z\" fill=\"#000000\" fill-rule=\"evenodd\" fill-opacity=\"1\" /><polyline clip-path=\"url(#clip332)\" style=\"stroke:#009af9; stroke-linecap:round; stroke-linejoin:round; stroke-width:4; stroke-opacity:1; fill:none\" points=\"\n",
       "  230.922,1433.78 251.523,1407.92 272.123,1362.13 292.723,1315.5 313.324,1268.88 333.924,1222.23 354.524,1176.63 375.125,1151.95 395.725,1127.18 416.325,1102.3 \n",
       "  436.926,1077.32 457.526,1052.24 478.126,1027.05 498.727,1001.77 519.327,976.407 539.927,950.966 560.528,925.468 581.128,899.93 601.728,874.377 622.328,848.832 \n",
       "  642.929,823.322 663.529,797.875 684.129,772.519 704.73,747.283 725.33,722.193 745.93,697.274 766.531,672.548 787.131,648.037 807.731,623.757 828.332,599.72 \n",
       "  848.932,575.938 869.532,552.416 890.133,529.157 910.733,506.163 931.333,483.432 951.934,460.961 972.534,438.743 993.134,416.775 1013.73,395.048 1034.34,373.558 \n",
       "  1054.94,352.299 1075.54,331.266 1096.14,310.457 1116.74,289.87 1137.34,269.507 1157.94,249.371 1178.54,229.471 1199.14,209.819 1219.74,190.437 1240.34,171.357 \n",
       "  1260.94,152.634 1281.54,134.363 1302.14,116.747 1322.74,100.335 1343.34,87.6286 1363.94,100.824 1384.54,127.767 1405.14,154.174 1425.74,184.76 1446.34,220.773 \n",
       "  1466.94,262.23 1487.54,309.396 1508.14,362.565 1528.74,421.236 1549.34,485.027 1569.94,554.123 1590.54,628.828 1611.14,708.834 1631.74,794.252 1652.34,887.49 \n",
       "  1672.95,993.583 1693.55,1136.23 1714.15,1432.62 1734.75,1432.9 1755.35,1432.98 1775.95,1433.17 1796.55,1433.21 1817.15,1433.34 1837.75,1433.37 1858.35,1433.45 \n",
       "  1878.95,1433.47 1899.55,1433.53 1920.15,1433.54 1940.75,1433.57 1961.35,1433.58 1981.95,1433.61 2002.55,1433.61 2023.15,1433.63 2043.75,1433.63 2064.35,1433.65 \n",
       "  2084.95,1433.65 2105.55,1433.66 2126.15,1433.66 2146.75,1433.67 2167.35,1433.67 2187.95,1433.68 2208.55,1433.68 2229.15,1433.68 2249.75,1433.68 2270.35,1433.69 \n",
       "  2290.95,1433.69 \n",
       "  \"/>\n",
       "<path clip-path=\"url(#clip330)\" d=\"\n",
       "M2009.17 198.488 L2279.97 198.488 L2279.97 94.8081 L2009.17 94.8081  Z\n",
       "  \" fill=\"#ffffff\" fill-rule=\"evenodd\" fill-opacity=\"1\"/>\n",
       "<polyline clip-path=\"url(#clip330)\" style=\"stroke:#000000; stroke-linecap:round; stroke-linejoin:round; stroke-width:4; stroke-opacity:1; fill:none\" points=\"\n",
       "  2009.17,198.488 2279.97,198.488 2279.97,94.8081 2009.17,94.8081 2009.17,198.488 \n",
       "  \"/>\n",
       "<polyline clip-path=\"url(#clip330)\" style=\"stroke:#009af9; stroke-linecap:round; stroke-linejoin:round; stroke-width:4; stroke-opacity:1; fill:none\" points=\"\n",
       "  2033.44,146.648 2179.01,146.648 \n",
       "  \"/>\n",
       "<path clip-path=\"url(#clip330)\" d=\"M2217.12 166.336 Q2215.31 170.965 2213.6 172.377 Q2211.89 173.789 2209.02 173.789 L2205.61 173.789 L2205.61 170.224 L2208.11 170.224 Q2209.87 170.224 2210.84 169.391 Q2211.82 168.558 2213 165.456 L2213.76 163.511 L2203.28 138.002 L2207.79 138.002 L2215.89 158.28 L2223.99 138.002 L2228.51 138.002 L2217.12 166.336 Z\" fill=\"#000000\" fill-rule=\"evenodd\" fill-opacity=\"1\" /><path clip-path=\"url(#clip330)\" d=\"M2235.8 159.993 L2243.44 159.993 L2243.44 133.627 L2235.13 135.294 L2235.13 131.035 L2243.39 129.368 L2248.07 129.368 L2248.07 159.993 L2255.71 159.993 L2255.71 163.928 L2235.8 163.928 L2235.8 159.993 Z\" fill=\"#000000\" fill-rule=\"evenodd\" fill-opacity=\"1\" /></svg>\n"
      ]
     },
     "execution_count": 45,
     "metadata": {},
     "output_type": "execute_result"
    }
   ],
   "source": [
    "plot(Displacement,(Load)*1e-3)"
   ]
  },
  {
   "cell_type": "code",
   "execution_count": 46,
   "id": "human-hollywood",
   "metadata": {},
   "outputs": [
    {
     "data": {
      "text/plain": [
       "151060.7473889452"
      ]
     },
     "execution_count": 46,
     "metadata": {},
     "output_type": "execute_result"
    }
   ],
   "source": [
    "maximum(Load)"
   ]
  },
  {
   "cell_type": "code",
   "execution_count": 47,
   "id": "pointed-month",
   "metadata": {},
   "outputs": [],
   "source": [
    "cd(\"../DataLoadDispResultNotchedPlate\")"
   ]
  },
  {
   "cell_type": "code",
   "execution_count": 48,
   "id": "adjustable-production",
   "metadata": {},
   "outputs": [],
   "source": [
    "using DelimitedFiles\n",
    "Disp = writedlm(\"DispDataResult0mmEccentricNotchedBeam_-25_1000V.csv\",  Displacement, ',')\n",
    "Force = writedlm(\"LoadDataResult0mmEccentricNotchedBeam_-25_1000V.csv\",  Load, ',')"
   ]
  }
 ],
 "metadata": {
  "@webio": {
   "lastCommId": null,
   "lastKernelId": null
  },
  "kernelspec": {
   "display_name": "Julia 1.8.1",
   "language": "julia",
   "name": "julia-1.8"
  },
  "language_info": {
   "file_extension": ".jl",
   "mimetype": "application/julia",
   "name": "julia",
   "version": "1.8.1"
  }
 },
 "nbformat": 4,
 "nbformat_minor": 5
}
